{
  "nbformat": 4,
  "nbformat_minor": 0,
  "metadata": {
    "colab": {
      "provenance": [],
      "gpuType": "T4",
      "authorship_tag": "ABX9TyMr1nkLnZ4quSsWCdYhnSBx",
      "include_colab_link": true
    },
    "kernelspec": {
      "name": "python3",
      "display_name": "Python 3"
    },
    "language_info": {
      "name": "python"
    },
    "accelerator": "GPU",
    "widgets": {
      "application/vnd.jupyter.widget-state+json": {
        "959783434a1149b39d582d3b1df2b18f": {
          "model_module": "@jupyter-widgets/controls",
          "model_name": "HBoxModel",
          "model_module_version": "1.5.0",
          "state": {
            "_dom_classes": [],
            "_model_module": "@jupyter-widgets/controls",
            "_model_module_version": "1.5.0",
            "_model_name": "HBoxModel",
            "_view_count": null,
            "_view_module": "@jupyter-widgets/controls",
            "_view_module_version": "1.5.0",
            "_view_name": "HBoxView",
            "box_style": "",
            "children": [
              "IPY_MODEL_f9942865f243498eb16206c4a49264b3",
              "IPY_MODEL_6252930956a04f729645a171620888dd",
              "IPY_MODEL_7bc7b8075dc84425a4bd6b93bc156ee0"
            ],
            "layout": "IPY_MODEL_51031bd69157480395609081eb561ccd"
          }
        },
        "f9942865f243498eb16206c4a49264b3": {
          "model_module": "@jupyter-widgets/controls",
          "model_name": "HTMLModel",
          "model_module_version": "1.5.0",
          "state": {
            "_dom_classes": [],
            "_model_module": "@jupyter-widgets/controls",
            "_model_module_version": "1.5.0",
            "_model_name": "HTMLModel",
            "_view_count": null,
            "_view_module": "@jupyter-widgets/controls",
            "_view_module_version": "1.5.0",
            "_view_name": "HTMLView",
            "description": "",
            "description_tooltip": null,
            "layout": "IPY_MODEL_418a30d50b264fa5bd97798b97ea3fec",
            "placeholder": "​",
            "style": "IPY_MODEL_c6ee446390a043c3918cb40069062db2",
            "value": "Epoch:   0%"
          }
        },
        "6252930956a04f729645a171620888dd": {
          "model_module": "@jupyter-widgets/controls",
          "model_name": "FloatProgressModel",
          "model_module_version": "1.5.0",
          "state": {
            "_dom_classes": [],
            "_model_module": "@jupyter-widgets/controls",
            "_model_module_version": "1.5.0",
            "_model_name": "FloatProgressModel",
            "_view_count": null,
            "_view_module": "@jupyter-widgets/controls",
            "_view_module_version": "1.5.0",
            "_view_name": "ProgressView",
            "bar_style": "danger",
            "description": "",
            "description_tooltip": null,
            "layout": "IPY_MODEL_35523be630144aeab894537362787288",
            "max": 2,
            "min": 0,
            "orientation": "horizontal",
            "style": "IPY_MODEL_71a91f72672a483cb96587c96174cbc3",
            "value": 0
          }
        },
        "7bc7b8075dc84425a4bd6b93bc156ee0": {
          "model_module": "@jupyter-widgets/controls",
          "model_name": "HTMLModel",
          "model_module_version": "1.5.0",
          "state": {
            "_dom_classes": [],
            "_model_module": "@jupyter-widgets/controls",
            "_model_module_version": "1.5.0",
            "_model_name": "HTMLModel",
            "_view_count": null,
            "_view_module": "@jupyter-widgets/controls",
            "_view_module_version": "1.5.0",
            "_view_name": "HTMLView",
            "description": "",
            "description_tooltip": null,
            "layout": "IPY_MODEL_bada1fb36c284e8fb2361e4336349844",
            "placeholder": "​",
            "style": "IPY_MODEL_f9206e066c794d958c7eff4eb0f4aaa8",
            "value": " 0/2 [01:12&lt;?, ?it/s]"
          }
        },
        "51031bd69157480395609081eb561ccd": {
          "model_module": "@jupyter-widgets/base",
          "model_name": "LayoutModel",
          "model_module_version": "1.2.0",
          "state": {
            "_model_module": "@jupyter-widgets/base",
            "_model_module_version": "1.2.0",
            "_model_name": "LayoutModel",
            "_view_count": null,
            "_view_module": "@jupyter-widgets/base",
            "_view_module_version": "1.2.0",
            "_view_name": "LayoutView",
            "align_content": null,
            "align_items": null,
            "align_self": null,
            "border": null,
            "bottom": null,
            "display": null,
            "flex": null,
            "flex_flow": null,
            "grid_area": null,
            "grid_auto_columns": null,
            "grid_auto_flow": null,
            "grid_auto_rows": null,
            "grid_column": null,
            "grid_gap": null,
            "grid_row": null,
            "grid_template_areas": null,
            "grid_template_columns": null,
            "grid_template_rows": null,
            "height": null,
            "justify_content": null,
            "justify_items": null,
            "left": null,
            "margin": null,
            "max_height": null,
            "max_width": null,
            "min_height": null,
            "min_width": null,
            "object_fit": null,
            "object_position": null,
            "order": null,
            "overflow": null,
            "overflow_x": null,
            "overflow_y": null,
            "padding": null,
            "right": null,
            "top": null,
            "visibility": null,
            "width": null
          }
        },
        "418a30d50b264fa5bd97798b97ea3fec": {
          "model_module": "@jupyter-widgets/base",
          "model_name": "LayoutModel",
          "model_module_version": "1.2.0",
          "state": {
            "_model_module": "@jupyter-widgets/base",
            "_model_module_version": "1.2.0",
            "_model_name": "LayoutModel",
            "_view_count": null,
            "_view_module": "@jupyter-widgets/base",
            "_view_module_version": "1.2.0",
            "_view_name": "LayoutView",
            "align_content": null,
            "align_items": null,
            "align_self": null,
            "border": null,
            "bottom": null,
            "display": null,
            "flex": null,
            "flex_flow": null,
            "grid_area": null,
            "grid_auto_columns": null,
            "grid_auto_flow": null,
            "grid_auto_rows": null,
            "grid_column": null,
            "grid_gap": null,
            "grid_row": null,
            "grid_template_areas": null,
            "grid_template_columns": null,
            "grid_template_rows": null,
            "height": null,
            "justify_content": null,
            "justify_items": null,
            "left": null,
            "margin": null,
            "max_height": null,
            "max_width": null,
            "min_height": null,
            "min_width": null,
            "object_fit": null,
            "object_position": null,
            "order": null,
            "overflow": null,
            "overflow_x": null,
            "overflow_y": null,
            "padding": null,
            "right": null,
            "top": null,
            "visibility": null,
            "width": null
          }
        },
        "c6ee446390a043c3918cb40069062db2": {
          "model_module": "@jupyter-widgets/controls",
          "model_name": "DescriptionStyleModel",
          "model_module_version": "1.5.0",
          "state": {
            "_model_module": "@jupyter-widgets/controls",
            "_model_module_version": "1.5.0",
            "_model_name": "DescriptionStyleModel",
            "_view_count": null,
            "_view_module": "@jupyter-widgets/base",
            "_view_module_version": "1.2.0",
            "_view_name": "StyleView",
            "description_width": ""
          }
        },
        "35523be630144aeab894537362787288": {
          "model_module": "@jupyter-widgets/base",
          "model_name": "LayoutModel",
          "model_module_version": "1.2.0",
          "state": {
            "_model_module": "@jupyter-widgets/base",
            "_model_module_version": "1.2.0",
            "_model_name": "LayoutModel",
            "_view_count": null,
            "_view_module": "@jupyter-widgets/base",
            "_view_module_version": "1.2.0",
            "_view_name": "LayoutView",
            "align_content": null,
            "align_items": null,
            "align_self": null,
            "border": null,
            "bottom": null,
            "display": null,
            "flex": null,
            "flex_flow": null,
            "grid_area": null,
            "grid_auto_columns": null,
            "grid_auto_flow": null,
            "grid_auto_rows": null,
            "grid_column": null,
            "grid_gap": null,
            "grid_row": null,
            "grid_template_areas": null,
            "grid_template_columns": null,
            "grid_template_rows": null,
            "height": null,
            "justify_content": null,
            "justify_items": null,
            "left": null,
            "margin": null,
            "max_height": null,
            "max_width": null,
            "min_height": null,
            "min_width": null,
            "object_fit": null,
            "object_position": null,
            "order": null,
            "overflow": null,
            "overflow_x": null,
            "overflow_y": null,
            "padding": null,
            "right": null,
            "top": null,
            "visibility": null,
            "width": null
          }
        },
        "71a91f72672a483cb96587c96174cbc3": {
          "model_module": "@jupyter-widgets/controls",
          "model_name": "ProgressStyleModel",
          "model_module_version": "1.5.0",
          "state": {
            "_model_module": "@jupyter-widgets/controls",
            "_model_module_version": "1.5.0",
            "_model_name": "ProgressStyleModel",
            "_view_count": null,
            "_view_module": "@jupyter-widgets/base",
            "_view_module_version": "1.2.0",
            "_view_name": "StyleView",
            "bar_color": null,
            "description_width": ""
          }
        },
        "bada1fb36c284e8fb2361e4336349844": {
          "model_module": "@jupyter-widgets/base",
          "model_name": "LayoutModel",
          "model_module_version": "1.2.0",
          "state": {
            "_model_module": "@jupyter-widgets/base",
            "_model_module_version": "1.2.0",
            "_model_name": "LayoutModel",
            "_view_count": null,
            "_view_module": "@jupyter-widgets/base",
            "_view_module_version": "1.2.0",
            "_view_name": "LayoutView",
            "align_content": null,
            "align_items": null,
            "align_self": null,
            "border": null,
            "bottom": null,
            "display": null,
            "flex": null,
            "flex_flow": null,
            "grid_area": null,
            "grid_auto_columns": null,
            "grid_auto_flow": null,
            "grid_auto_rows": null,
            "grid_column": null,
            "grid_gap": null,
            "grid_row": null,
            "grid_template_areas": null,
            "grid_template_columns": null,
            "grid_template_rows": null,
            "height": null,
            "justify_content": null,
            "justify_items": null,
            "left": null,
            "margin": null,
            "max_height": null,
            "max_width": null,
            "min_height": null,
            "min_width": null,
            "object_fit": null,
            "object_position": null,
            "order": null,
            "overflow": null,
            "overflow_x": null,
            "overflow_y": null,
            "padding": null,
            "right": null,
            "top": null,
            "visibility": null,
            "width": null
          }
        },
        "f9206e066c794d958c7eff4eb0f4aaa8": {
          "model_module": "@jupyter-widgets/controls",
          "model_name": "DescriptionStyleModel",
          "model_module_version": "1.5.0",
          "state": {
            "_model_module": "@jupyter-widgets/controls",
            "_model_module_version": "1.5.0",
            "_model_name": "DescriptionStyleModel",
            "_view_count": null,
            "_view_module": "@jupyter-widgets/base",
            "_view_module_version": "1.2.0",
            "_view_name": "StyleView",
            "description_width": ""
          }
        },
        "e7f14d67e25f40ca83a5c98f07d3f082": {
          "model_module": "@jupyter-widgets/controls",
          "model_name": "HBoxModel",
          "model_module_version": "1.5.0",
          "state": {
            "_dom_classes": [],
            "_model_module": "@jupyter-widgets/controls",
            "_model_module_version": "1.5.0",
            "_model_name": "HBoxModel",
            "_view_count": null,
            "_view_module": "@jupyter-widgets/controls",
            "_view_module_version": "1.5.0",
            "_view_name": "HBoxView",
            "box_style": "",
            "children": [
              "IPY_MODEL_1c8d258544614e7b88eefab1af473a37",
              "IPY_MODEL_f1e36909d8da4b7caf2d765bd054904c",
              "IPY_MODEL_c18ffd0f7eaa40568d2701d225bcf5c6"
            ],
            "layout": "IPY_MODEL_d97dd7e7ff924dc1a125ecf6d9beba96"
          }
        },
        "1c8d258544614e7b88eefab1af473a37": {
          "model_module": "@jupyter-widgets/controls",
          "model_name": "HTMLModel",
          "model_module_version": "1.5.0",
          "state": {
            "_dom_classes": [],
            "_model_module": "@jupyter-widgets/controls",
            "_model_module_version": "1.5.0",
            "_model_name": "HTMLModel",
            "_view_count": null,
            "_view_module": "@jupyter-widgets/controls",
            "_view_module_version": "1.5.0",
            "_view_name": "HTMLView",
            "description": "",
            "description_tooltip": null,
            "layout": "IPY_MODEL_d3d40fc5cc644b55a957e2455f2b28eb",
            "placeholder": "​",
            "style": "IPY_MODEL_063558a80c2d4b519bcf5d27472ae257",
            "value": "Iteration:  13%"
          }
        },
        "f1e36909d8da4b7caf2d765bd054904c": {
          "model_module": "@jupyter-widgets/controls",
          "model_name": "FloatProgressModel",
          "model_module_version": "1.5.0",
          "state": {
            "_dom_classes": [],
            "_model_module": "@jupyter-widgets/controls",
            "_model_module_version": "1.5.0",
            "_model_name": "FloatProgressModel",
            "_view_count": null,
            "_view_module": "@jupyter-widgets/controls",
            "_view_module_version": "1.5.0",
            "_view_name": "ProgressView",
            "bar_style": "danger",
            "description": "",
            "description_tooltip": null,
            "layout": "IPY_MODEL_604dd32b92544db9928e900f007c4534",
            "max": 580,
            "min": 0,
            "orientation": "horizontal",
            "style": "IPY_MODEL_c7939a33962b4d0db3f4fa566ed0e973",
            "value": 73
          }
        },
        "c18ffd0f7eaa40568d2701d225bcf5c6": {
          "model_module": "@jupyter-widgets/controls",
          "model_name": "HTMLModel",
          "model_module_version": "1.5.0",
          "state": {
            "_dom_classes": [],
            "_model_module": "@jupyter-widgets/controls",
            "_model_module_version": "1.5.0",
            "_model_name": "HTMLModel",
            "_view_count": null,
            "_view_module": "@jupyter-widgets/controls",
            "_view_module_version": "1.5.0",
            "_view_name": "HTMLView",
            "description": "",
            "description_tooltip": null,
            "layout": "IPY_MODEL_40f928bac2d4412fa49dec8ce7778744",
            "placeholder": "​",
            "style": "IPY_MODEL_4cfccbbfbd874892a23eec6ff42a21c6",
            "value": " 73/580 [01:12&lt;08:41,  1.03s/it]"
          }
        },
        "d97dd7e7ff924dc1a125ecf6d9beba96": {
          "model_module": "@jupyter-widgets/base",
          "model_name": "LayoutModel",
          "model_module_version": "1.2.0",
          "state": {
            "_model_module": "@jupyter-widgets/base",
            "_model_module_version": "1.2.0",
            "_model_name": "LayoutModel",
            "_view_count": null,
            "_view_module": "@jupyter-widgets/base",
            "_view_module_version": "1.2.0",
            "_view_name": "LayoutView",
            "align_content": null,
            "align_items": null,
            "align_self": null,
            "border": null,
            "bottom": null,
            "display": null,
            "flex": null,
            "flex_flow": null,
            "grid_area": null,
            "grid_auto_columns": null,
            "grid_auto_flow": null,
            "grid_auto_rows": null,
            "grid_column": null,
            "grid_gap": null,
            "grid_row": null,
            "grid_template_areas": null,
            "grid_template_columns": null,
            "grid_template_rows": null,
            "height": null,
            "justify_content": null,
            "justify_items": null,
            "left": null,
            "margin": null,
            "max_height": null,
            "max_width": null,
            "min_height": null,
            "min_width": null,
            "object_fit": null,
            "object_position": null,
            "order": null,
            "overflow": null,
            "overflow_x": null,
            "overflow_y": null,
            "padding": null,
            "right": null,
            "top": null,
            "visibility": null,
            "width": null
          }
        },
        "d3d40fc5cc644b55a957e2455f2b28eb": {
          "model_module": "@jupyter-widgets/base",
          "model_name": "LayoutModel",
          "model_module_version": "1.2.0",
          "state": {
            "_model_module": "@jupyter-widgets/base",
            "_model_module_version": "1.2.0",
            "_model_name": "LayoutModel",
            "_view_count": null,
            "_view_module": "@jupyter-widgets/base",
            "_view_module_version": "1.2.0",
            "_view_name": "LayoutView",
            "align_content": null,
            "align_items": null,
            "align_self": null,
            "border": null,
            "bottom": null,
            "display": null,
            "flex": null,
            "flex_flow": null,
            "grid_area": null,
            "grid_auto_columns": null,
            "grid_auto_flow": null,
            "grid_auto_rows": null,
            "grid_column": null,
            "grid_gap": null,
            "grid_row": null,
            "grid_template_areas": null,
            "grid_template_columns": null,
            "grid_template_rows": null,
            "height": null,
            "justify_content": null,
            "justify_items": null,
            "left": null,
            "margin": null,
            "max_height": null,
            "max_width": null,
            "min_height": null,
            "min_width": null,
            "object_fit": null,
            "object_position": null,
            "order": null,
            "overflow": null,
            "overflow_x": null,
            "overflow_y": null,
            "padding": null,
            "right": null,
            "top": null,
            "visibility": null,
            "width": null
          }
        },
        "063558a80c2d4b519bcf5d27472ae257": {
          "model_module": "@jupyter-widgets/controls",
          "model_name": "DescriptionStyleModel",
          "model_module_version": "1.5.0",
          "state": {
            "_model_module": "@jupyter-widgets/controls",
            "_model_module_version": "1.5.0",
            "_model_name": "DescriptionStyleModel",
            "_view_count": null,
            "_view_module": "@jupyter-widgets/base",
            "_view_module_version": "1.2.0",
            "_view_name": "StyleView",
            "description_width": ""
          }
        },
        "604dd32b92544db9928e900f007c4534": {
          "model_module": "@jupyter-widgets/base",
          "model_name": "LayoutModel",
          "model_module_version": "1.2.0",
          "state": {
            "_model_module": "@jupyter-widgets/base",
            "_model_module_version": "1.2.0",
            "_model_name": "LayoutModel",
            "_view_count": null,
            "_view_module": "@jupyter-widgets/base",
            "_view_module_version": "1.2.0",
            "_view_name": "LayoutView",
            "align_content": null,
            "align_items": null,
            "align_self": null,
            "border": null,
            "bottom": null,
            "display": null,
            "flex": null,
            "flex_flow": null,
            "grid_area": null,
            "grid_auto_columns": null,
            "grid_auto_flow": null,
            "grid_auto_rows": null,
            "grid_column": null,
            "grid_gap": null,
            "grid_row": null,
            "grid_template_areas": null,
            "grid_template_columns": null,
            "grid_template_rows": null,
            "height": null,
            "justify_content": null,
            "justify_items": null,
            "left": null,
            "margin": null,
            "max_height": null,
            "max_width": null,
            "min_height": null,
            "min_width": null,
            "object_fit": null,
            "object_position": null,
            "order": null,
            "overflow": null,
            "overflow_x": null,
            "overflow_y": null,
            "padding": null,
            "right": null,
            "top": null,
            "visibility": null,
            "width": null
          }
        },
        "c7939a33962b4d0db3f4fa566ed0e973": {
          "model_module": "@jupyter-widgets/controls",
          "model_name": "ProgressStyleModel",
          "model_module_version": "1.5.0",
          "state": {
            "_model_module": "@jupyter-widgets/controls",
            "_model_module_version": "1.5.0",
            "_model_name": "ProgressStyleModel",
            "_view_count": null,
            "_view_module": "@jupyter-widgets/base",
            "_view_module_version": "1.2.0",
            "_view_name": "StyleView",
            "bar_color": null,
            "description_width": ""
          }
        },
        "40f928bac2d4412fa49dec8ce7778744": {
          "model_module": "@jupyter-widgets/base",
          "model_name": "LayoutModel",
          "model_module_version": "1.2.0",
          "state": {
            "_model_module": "@jupyter-widgets/base",
            "_model_module_version": "1.2.0",
            "_model_name": "LayoutModel",
            "_view_count": null,
            "_view_module": "@jupyter-widgets/base",
            "_view_module_version": "1.2.0",
            "_view_name": "LayoutView",
            "align_content": null,
            "align_items": null,
            "align_self": null,
            "border": null,
            "bottom": null,
            "display": null,
            "flex": null,
            "flex_flow": null,
            "grid_area": null,
            "grid_auto_columns": null,
            "grid_auto_flow": null,
            "grid_auto_rows": null,
            "grid_column": null,
            "grid_gap": null,
            "grid_row": null,
            "grid_template_areas": null,
            "grid_template_columns": null,
            "grid_template_rows": null,
            "height": null,
            "justify_content": null,
            "justify_items": null,
            "left": null,
            "margin": null,
            "max_height": null,
            "max_width": null,
            "min_height": null,
            "min_width": null,
            "object_fit": null,
            "object_position": null,
            "order": null,
            "overflow": null,
            "overflow_x": null,
            "overflow_y": null,
            "padding": null,
            "right": null,
            "top": null,
            "visibility": null,
            "width": null
          }
        },
        "4cfccbbfbd874892a23eec6ff42a21c6": {
          "model_module": "@jupyter-widgets/controls",
          "model_name": "DescriptionStyleModel",
          "model_module_version": "1.5.0",
          "state": {
            "_model_module": "@jupyter-widgets/controls",
            "_model_module_version": "1.5.0",
            "_model_name": "DescriptionStyleModel",
            "_view_count": null,
            "_view_module": "@jupyter-widgets/base",
            "_view_module_version": "1.2.0",
            "_view_name": "StyleView",
            "description_width": ""
          }
        }
      }
    }
  },
  "cells": [
    {
      "cell_type": "markdown",
      "metadata": {
        "id": "view-in-github",
        "colab_type": "text"
      },
      "source": [
        "<a href=\"https://colab.research.google.com/github/bibekyess/dacon-hansol-deco-challenge/blob/main/hansolrag/notebooks/Finetune_Huggingface_Embeddings.ipynb\" target=\"_parent\"><img src=\"https://colab.research.google.com/assets/colab-badge.svg\" alt=\"Open In Colab\"/></a>"
      ]
    },
    {
      "cell_type": "code",
      "execution_count": null,
      "metadata": {
        "id": "Oi33U-2dpZyP"
      },
      "outputs": [],
      "source": [
        "import nest_asyncio\n",
        "\n",
        "nest_asyncio.apply()"
      ]
    },
    {
      "cell_type": "code",
      "source": [
        "!python --version"
      ],
      "metadata": {
        "colab": {
          "base_uri": "https://localhost:8080/"
        },
        "id": "WrfFUp1C3tkZ",
        "outputId": "a29a5943-6d84-4005-9a67-0b845f6d1c98"
      },
      "execution_count": null,
      "outputs": [
        {
          "output_type": "stream",
          "name": "stdout",
          "text": [
            "Python 3.10.12\n"
          ]
        }
      ]
    },
    {
      "cell_type": "code",
      "source": [
        "# !pip install sentence_transformers datasets -q -U"
      ],
      "metadata": {
        "id": "Z5gRlmtwpe74"
      },
      "execution_count": null,
      "outputs": []
    },
    {
      "cell_type": "code",
      "source": [
        "!pip install -qU sentence_transformers datasets llama_index llama-index-core llama-index-readers-file llama-index-embeddings-huggingface llama_index_finetuning"
      ],
      "metadata": {
        "colab": {
          "base_uri": "https://localhost:8080/"
        },
        "id": "YQz0NiqjqW-h",
        "outputId": "cde6b982-139d-42fb-d65a-9a40f73b08ce"
      },
      "execution_count": null,
      "outputs": [
        {
          "output_type": "stream",
          "name": "stdout",
          "text": [
            "\u001b[31mERROR: Operation cancelled by user\u001b[0m\u001b[31m\n",
            "\u001b[0m"
          ]
        }
      ]
    },
    {
      "cell_type": "code",
      "source": [
        "# pip install -qU llama_index_finetuning"
      ],
      "metadata": {
        "id": "8b7U21UOzeL6"
      },
      "execution_count": null,
      "outputs": []
    },
    {
      "cell_type": "code",
      "source": [
        "from google.colab import drive\n",
        "\n",
        "drive.mount('/content/drive')"
      ],
      "metadata": {
        "colab": {
          "base_uri": "https://localhost:8080/"
        },
        "id": "vDBesrnprsJu",
        "outputId": "f15ef506-3ecb-47fa-9ed9-87c140937b7a"
      },
      "execution_count": null,
      "outputs": [
        {
          "output_type": "stream",
          "name": "stdout",
          "text": [
            "Mounted at /content/drive\n"
          ]
        }
      ]
    },
    {
      "cell_type": "code",
      "source": [
        "import pandas as pd\n",
        "\n",
        "csv_file_path = '/content/drive/MyDrive/DACON_wallpaper_contest_data/pre-processed-data/augmented_train.csv'\n",
        "\n",
        "\n",
        "# Read the CSV file into a DataFrame\n",
        "df = pd.read_csv(csv_file_path)"
      ],
      "metadata": {
        "id": "128hQ5I9syRE"
      },
      "execution_count": null,
      "outputs": []
    },
    {
      "cell_type": "code",
      "source": [
        "df"
      ],
      "metadata": {
        "colab": {
          "base_uri": "https://localhost:8080/",
          "height": 597
        },
        "id": "Lj9fEF2rtGzy",
        "outputId": "da691ee5-2e45-4f58-eee8-bbbcf8431ab8"
      },
      "execution_count": null,
      "outputs": [
        {
          "output_type": "execute_result",
          "data": {
            "text/plain": [
              "            id category                                           Question  \\\n",
              "0    TRAIN_000     건축구조                 면진장치가 뭐야? 면진장치에 사용되는 주요 기술은 무엇인가요?   \n",
              "1    TRAIN_001     건축구조   내진설계의 종류 좀 알려줘 내진설계에는 어떤 종류가 있는지 자세히 알려주실 수 있나요?   \n",
              "2    TRAIN_002     건축구조                       철골구조의 장점이 뭐야? 철골구조의 장점을 알려줘?   \n",
              "3    TRAIN_003     건축구조  철골철근 콘크리트 구조가 뭐야? 철골철근 콘크리트 구조의 장점과 단점에는 무엇이 있...   \n",
              "4    TRAIN_004     건축구조              철골구조는 어떤 방식이 있어? 철골구조의 다양한 방식이 무엇인가요?   \n",
              "..         ...      ...                                                ...   \n",
              "639  TRAIN_639   타 마감하자     벽장 부위 결로의 원인이 뭐야? 벽장 부위 결로가 발생하는 주된 원인은 무엇일까요?   \n",
              "640  TRAIN_640   타 마감하자  AD, PD에 면한 벽체 결로의 원인이 뭐야? 벽체 결로가 AD나 PD에 면한다면 ...   \n",
              "641  TRAIN_641   타 마감하자  외벽 모서리 부위에 결로가 발생하는 원인이 뭐야? 외벽 모서리 부위에 결로가 발생하...   \n",
              "642  TRAIN_642   타 마감하자   창호 결로의 대책은 뭐야? 창호 결로를 해결하기 위한 가장 효과적인 방법은 무엇인가요?   \n",
              "643  TRAIN_643   타 마감하자  AD, PD에 면한 벽체 결로에 대한 대책은 뭐야? AD, PD에 면한 벽체 결로에...   \n",
              "\n",
              "                                                Answer  \\\n",
              "0    면진장치는 건물의 지반으로부터 오는 진동 에너지를 흡수하여 건물에 전달되는 진동을 ...   \n",
              "1    내진 설계에는 다양한 종류가 있지만, 대표적으로 내진구조, 제진구조, 면진구조가 있...   \n",
              "2    철골구조의 장점은 건물의 외벽에 하중이 적게 걸리기 때문에 고층 건물의 건축이 용이...   \n",
              "3    철골철근콘크리트 구조는 건축물을 지탱하는 주요 구조물인 철골과 철근, 그리고 콘크리...   \n",
              "4    철골구조는 주로 일반철골구조와 경량철골구조로 나뉘어집니다. 이들은 건축 시스템에 따...   \n",
              "..                                                 ...   \n",
              "639  벽장 부위 결로의 주된 원인은 충분한 환기가 이루어지지 않는 환경과 과도한 습기가 ...   \n",
              "640  AD, PD에 면한 벽체 결로의 원인으로는 외부 공기에 노출된 벽면이 실내보다 냉각...   \n",
              "641  외벽 모서리 부위에 결로가 발생하는 원인은 실내와 외부의 온도차 때문입니다. 외벽 ...   \n",
              "642  창호 결로의 대책은 KS에 규정된 프레임을 선정하고 유리의 열관류율 및 결로 발생 ...   \n",
              "643  AD, PD에 면한 벽체의 결로에 대한 대책으로는 단열재를 미실하게 시공하여 결로가...   \n",
              "\n",
              "                                               Context  \n",
              "0    면진장치란 지반에서 오는 진동 에너지를 흡수하여 건물에 주는 진동을 줄여주는 진동 ...  \n",
              "1    내진 설계의 종류로 내진구조, 제진구조, 면진구조가 있습니다. 내진설계에는 내진구조...  \n",
              "2    철골구조는 건물의 외벽에는 그다지 하중이 걸리지 않기 때문에 고층 건물의 건축이 가...  \n",
              "3    철근철골콘크리트는 철골과 철근, 그리고 콘크리트를 함께 사용하는 건축 구조입니다. ...  \n",
              "4    철골구조는 일반철골구조와 경량철골구조가 있습니다. 철골구조는 일반철골구조와 경량철골...  \n",
              "..                                                 ...  \n",
              "639  벽장 부위 결로의 원인은 난방이 이웃한 방과동일한 조건이 되나 그 방에 비해 저온인...  \n",
              "640  AD, PD에 면한 벽체 결로의 원인은 외기에 접하는 면 좌, 우측 벽체에는 단열재...  \n",
              "641  외벽모서리 부위에 결로가 발생하는 원인은 높은 온도차 때문입니다. 외벽 모서리의 경...  \n",
              "642  창호결로의 대책은 제품을 선정할 때 KS에 규정된 프레임을 선정하고 유리의 열관류율...  \n",
              "643  AD, PD에 면한 벽체 결로에 대한 대책은 단열재를 미실하게 시공하여 결로가 생기...  \n",
              "\n",
              "[644 rows x 5 columns]"
            ],
            "text/html": [
              "\n",
              "  <div id=\"df-cd135000-0d0f-47b7-9e26-2bf2e7c693e1\" class=\"colab-df-container\">\n",
              "    <div>\n",
              "<style scoped>\n",
              "    .dataframe tbody tr th:only-of-type {\n",
              "        vertical-align: middle;\n",
              "    }\n",
              "\n",
              "    .dataframe tbody tr th {\n",
              "        vertical-align: top;\n",
              "    }\n",
              "\n",
              "    .dataframe thead th {\n",
              "        text-align: right;\n",
              "    }\n",
              "</style>\n",
              "<table border=\"1\" class=\"dataframe\">\n",
              "  <thead>\n",
              "    <tr style=\"text-align: right;\">\n",
              "      <th></th>\n",
              "      <th>id</th>\n",
              "      <th>category</th>\n",
              "      <th>Question</th>\n",
              "      <th>Answer</th>\n",
              "      <th>Context</th>\n",
              "    </tr>\n",
              "  </thead>\n",
              "  <tbody>\n",
              "    <tr>\n",
              "      <th>0</th>\n",
              "      <td>TRAIN_000</td>\n",
              "      <td>건축구조</td>\n",
              "      <td>면진장치가 뭐야? 면진장치에 사용되는 주요 기술은 무엇인가요?</td>\n",
              "      <td>면진장치는 건물의 지반으로부터 오는 진동 에너지를 흡수하여 건물에 전달되는 진동을 ...</td>\n",
              "      <td>면진장치란 지반에서 오는 진동 에너지를 흡수하여 건물에 주는 진동을 줄여주는 진동 ...</td>\n",
              "    </tr>\n",
              "    <tr>\n",
              "      <th>1</th>\n",
              "      <td>TRAIN_001</td>\n",
              "      <td>건축구조</td>\n",
              "      <td>내진설계의 종류 좀 알려줘 내진설계에는 어떤 종류가 있는지 자세히 알려주실 수 있나요?</td>\n",
              "      <td>내진 설계에는 다양한 종류가 있지만, 대표적으로 내진구조, 제진구조, 면진구조가 있...</td>\n",
              "      <td>내진 설계의 종류로 내진구조, 제진구조, 면진구조가 있습니다. 내진설계에는 내진구조...</td>\n",
              "    </tr>\n",
              "    <tr>\n",
              "      <th>2</th>\n",
              "      <td>TRAIN_002</td>\n",
              "      <td>건축구조</td>\n",
              "      <td>철골구조의 장점이 뭐야? 철골구조의 장점을 알려줘?</td>\n",
              "      <td>철골구조의 장점은 건물의 외벽에 하중이 적게 걸리기 때문에 고층 건물의 건축이 용이...</td>\n",
              "      <td>철골구조는 건물의 외벽에는 그다지 하중이 걸리지 않기 때문에 고층 건물의 건축이 가...</td>\n",
              "    </tr>\n",
              "    <tr>\n",
              "      <th>3</th>\n",
              "      <td>TRAIN_003</td>\n",
              "      <td>건축구조</td>\n",
              "      <td>철골철근 콘크리트 구조가 뭐야? 철골철근 콘크리트 구조의 장점과 단점에는 무엇이 있...</td>\n",
              "      <td>철골철근콘크리트 구조는 건축물을 지탱하는 주요 구조물인 철골과 철근, 그리고 콘크리...</td>\n",
              "      <td>철근철골콘크리트는 철골과 철근, 그리고 콘크리트를 함께 사용하는 건축 구조입니다. ...</td>\n",
              "    </tr>\n",
              "    <tr>\n",
              "      <th>4</th>\n",
              "      <td>TRAIN_004</td>\n",
              "      <td>건축구조</td>\n",
              "      <td>철골구조는 어떤 방식이 있어? 철골구조의 다양한 방식이 무엇인가요?</td>\n",
              "      <td>철골구조는 주로 일반철골구조와 경량철골구조로 나뉘어집니다. 이들은 건축 시스템에 따...</td>\n",
              "      <td>철골구조는 일반철골구조와 경량철골구조가 있습니다. 철골구조는 일반철골구조와 경량철골...</td>\n",
              "    </tr>\n",
              "    <tr>\n",
              "      <th>...</th>\n",
              "      <td>...</td>\n",
              "      <td>...</td>\n",
              "      <td>...</td>\n",
              "      <td>...</td>\n",
              "      <td>...</td>\n",
              "    </tr>\n",
              "    <tr>\n",
              "      <th>639</th>\n",
              "      <td>TRAIN_639</td>\n",
              "      <td>타 마감하자</td>\n",
              "      <td>벽장 부위 결로의 원인이 뭐야? 벽장 부위 결로가 발생하는 주된 원인은 무엇일까요?</td>\n",
              "      <td>벽장 부위 결로의 주된 원인은 충분한 환기가 이루어지지 않는 환경과 과도한 습기가 ...</td>\n",
              "      <td>벽장 부위 결로의 원인은 난방이 이웃한 방과동일한 조건이 되나 그 방에 비해 저온인...</td>\n",
              "    </tr>\n",
              "    <tr>\n",
              "      <th>640</th>\n",
              "      <td>TRAIN_640</td>\n",
              "      <td>타 마감하자</td>\n",
              "      <td>AD, PD에 면한 벽체 결로의 원인이 뭐야? 벽체 결로가 AD나 PD에 면한다면 ...</td>\n",
              "      <td>AD, PD에 면한 벽체 결로의 원인으로는 외부 공기에 노출된 벽면이 실내보다 냉각...</td>\n",
              "      <td>AD, PD에 면한 벽체 결로의 원인은 외기에 접하는 면 좌, 우측 벽체에는 단열재...</td>\n",
              "    </tr>\n",
              "    <tr>\n",
              "      <th>641</th>\n",
              "      <td>TRAIN_641</td>\n",
              "      <td>타 마감하자</td>\n",
              "      <td>외벽 모서리 부위에 결로가 발생하는 원인이 뭐야? 외벽 모서리 부위에 결로가 발생하...</td>\n",
              "      <td>외벽 모서리 부위에 결로가 발생하는 원인은 실내와 외부의 온도차 때문입니다. 외벽 ...</td>\n",
              "      <td>외벽모서리 부위에 결로가 발생하는 원인은 높은 온도차 때문입니다. 외벽 모서리의 경...</td>\n",
              "    </tr>\n",
              "    <tr>\n",
              "      <th>642</th>\n",
              "      <td>TRAIN_642</td>\n",
              "      <td>타 마감하자</td>\n",
              "      <td>창호 결로의 대책은 뭐야? 창호 결로를 해결하기 위한 가장 효과적인 방법은 무엇인가요?</td>\n",
              "      <td>창호 결로의 대책은 KS에 규정된 프레임을 선정하고 유리의 열관류율 및 결로 발생 ...</td>\n",
              "      <td>창호결로의 대책은 제품을 선정할 때 KS에 규정된 프레임을 선정하고 유리의 열관류율...</td>\n",
              "    </tr>\n",
              "    <tr>\n",
              "      <th>643</th>\n",
              "      <td>TRAIN_643</td>\n",
              "      <td>타 마감하자</td>\n",
              "      <td>AD, PD에 면한 벽체 결로에 대한 대책은 뭐야? AD, PD에 면한 벽체 결로에...</td>\n",
              "      <td>AD, PD에 면한 벽체의 결로에 대한 대책으로는 단열재를 미실하게 시공하여 결로가...</td>\n",
              "      <td>AD, PD에 면한 벽체 결로에 대한 대책은 단열재를 미실하게 시공하여 결로가 생기...</td>\n",
              "    </tr>\n",
              "  </tbody>\n",
              "</table>\n",
              "<p>644 rows × 5 columns</p>\n",
              "</div>\n",
              "    <div class=\"colab-df-buttons\">\n",
              "\n",
              "  <div class=\"colab-df-container\">\n",
              "    <button class=\"colab-df-convert\" onclick=\"convertToInteractive('df-cd135000-0d0f-47b7-9e26-2bf2e7c693e1')\"\n",
              "            title=\"Convert this dataframe to an interactive table.\"\n",
              "            style=\"display:none;\">\n",
              "\n",
              "  <svg xmlns=\"http://www.w3.org/2000/svg\" height=\"24px\" viewBox=\"0 -960 960 960\">\n",
              "    <path d=\"M120-120v-720h720v720H120Zm60-500h600v-160H180v160Zm220 220h160v-160H400v160Zm0 220h160v-160H400v160ZM180-400h160v-160H180v160Zm440 0h160v-160H620v160ZM180-180h160v-160H180v160Zm440 0h160v-160H620v160Z\"/>\n",
              "  </svg>\n",
              "    </button>\n",
              "\n",
              "  <style>\n",
              "    .colab-df-container {\n",
              "      display:flex;\n",
              "      gap: 12px;\n",
              "    }\n",
              "\n",
              "    .colab-df-convert {\n",
              "      background-color: #E8F0FE;\n",
              "      border: none;\n",
              "      border-radius: 50%;\n",
              "      cursor: pointer;\n",
              "      display: none;\n",
              "      fill: #1967D2;\n",
              "      height: 32px;\n",
              "      padding: 0 0 0 0;\n",
              "      width: 32px;\n",
              "    }\n",
              "\n",
              "    .colab-df-convert:hover {\n",
              "      background-color: #E2EBFA;\n",
              "      box-shadow: 0px 1px 2px rgba(60, 64, 67, 0.3), 0px 1px 3px 1px rgba(60, 64, 67, 0.15);\n",
              "      fill: #174EA6;\n",
              "    }\n",
              "\n",
              "    .colab-df-buttons div {\n",
              "      margin-bottom: 4px;\n",
              "    }\n",
              "\n",
              "    [theme=dark] .colab-df-convert {\n",
              "      background-color: #3B4455;\n",
              "      fill: #D2E3FC;\n",
              "    }\n",
              "\n",
              "    [theme=dark] .colab-df-convert:hover {\n",
              "      background-color: #434B5C;\n",
              "      box-shadow: 0px 1px 3px 1px rgba(0, 0, 0, 0.15);\n",
              "      filter: drop-shadow(0px 1px 2px rgba(0, 0, 0, 0.3));\n",
              "      fill: #FFFFFF;\n",
              "    }\n",
              "  </style>\n",
              "\n",
              "    <script>\n",
              "      const buttonEl =\n",
              "        document.querySelector('#df-cd135000-0d0f-47b7-9e26-2bf2e7c693e1 button.colab-df-convert');\n",
              "      buttonEl.style.display =\n",
              "        google.colab.kernel.accessAllowed ? 'block' : 'none';\n",
              "\n",
              "      async function convertToInteractive(key) {\n",
              "        const element = document.querySelector('#df-cd135000-0d0f-47b7-9e26-2bf2e7c693e1');\n",
              "        const dataTable =\n",
              "          await google.colab.kernel.invokeFunction('convertToInteractive',\n",
              "                                                    [key], {});\n",
              "        if (!dataTable) return;\n",
              "\n",
              "        const docLinkHtml = 'Like what you see? Visit the ' +\n",
              "          '<a target=\"_blank\" href=https://colab.research.google.com/notebooks/data_table.ipynb>data table notebook</a>'\n",
              "          + ' to learn more about interactive tables.';\n",
              "        element.innerHTML = '';\n",
              "        dataTable['output_type'] = 'display_data';\n",
              "        await google.colab.output.renderOutput(dataTable, element);\n",
              "        const docLink = document.createElement('div');\n",
              "        docLink.innerHTML = docLinkHtml;\n",
              "        element.appendChild(docLink);\n",
              "      }\n",
              "    </script>\n",
              "  </div>\n",
              "\n",
              "\n",
              "<div id=\"df-53313810-ab6c-4674-91f5-32992905b4dd\">\n",
              "  <button class=\"colab-df-quickchart\" onclick=\"quickchart('df-53313810-ab6c-4674-91f5-32992905b4dd')\"\n",
              "            title=\"Suggest charts\"\n",
              "            style=\"display:none;\">\n",
              "\n",
              "<svg xmlns=\"http://www.w3.org/2000/svg\" height=\"24px\"viewBox=\"0 0 24 24\"\n",
              "     width=\"24px\">\n",
              "    <g>\n",
              "        <path d=\"M19 3H5c-1.1 0-2 .9-2 2v14c0 1.1.9 2 2 2h14c1.1 0 2-.9 2-2V5c0-1.1-.9-2-2-2zM9 17H7v-7h2v7zm4 0h-2V7h2v10zm4 0h-2v-4h2v4z\"/>\n",
              "    </g>\n",
              "</svg>\n",
              "  </button>\n",
              "\n",
              "<style>\n",
              "  .colab-df-quickchart {\n",
              "      --bg-color: #E8F0FE;\n",
              "      --fill-color: #1967D2;\n",
              "      --hover-bg-color: #E2EBFA;\n",
              "      --hover-fill-color: #174EA6;\n",
              "      --disabled-fill-color: #AAA;\n",
              "      --disabled-bg-color: #DDD;\n",
              "  }\n",
              "\n",
              "  [theme=dark] .colab-df-quickchart {\n",
              "      --bg-color: #3B4455;\n",
              "      --fill-color: #D2E3FC;\n",
              "      --hover-bg-color: #434B5C;\n",
              "      --hover-fill-color: #FFFFFF;\n",
              "      --disabled-bg-color: #3B4455;\n",
              "      --disabled-fill-color: #666;\n",
              "  }\n",
              "\n",
              "  .colab-df-quickchart {\n",
              "    background-color: var(--bg-color);\n",
              "    border: none;\n",
              "    border-radius: 50%;\n",
              "    cursor: pointer;\n",
              "    display: none;\n",
              "    fill: var(--fill-color);\n",
              "    height: 32px;\n",
              "    padding: 0;\n",
              "    width: 32px;\n",
              "  }\n",
              "\n",
              "  .colab-df-quickchart:hover {\n",
              "    background-color: var(--hover-bg-color);\n",
              "    box-shadow: 0 1px 2px rgba(60, 64, 67, 0.3), 0 1px 3px 1px rgba(60, 64, 67, 0.15);\n",
              "    fill: var(--button-hover-fill-color);\n",
              "  }\n",
              "\n",
              "  .colab-df-quickchart-complete:disabled,\n",
              "  .colab-df-quickchart-complete:disabled:hover {\n",
              "    background-color: var(--disabled-bg-color);\n",
              "    fill: var(--disabled-fill-color);\n",
              "    box-shadow: none;\n",
              "  }\n",
              "\n",
              "  .colab-df-spinner {\n",
              "    border: 2px solid var(--fill-color);\n",
              "    border-color: transparent;\n",
              "    border-bottom-color: var(--fill-color);\n",
              "    animation:\n",
              "      spin 1s steps(1) infinite;\n",
              "  }\n",
              "\n",
              "  @keyframes spin {\n",
              "    0% {\n",
              "      border-color: transparent;\n",
              "      border-bottom-color: var(--fill-color);\n",
              "      border-left-color: var(--fill-color);\n",
              "    }\n",
              "    20% {\n",
              "      border-color: transparent;\n",
              "      border-left-color: var(--fill-color);\n",
              "      border-top-color: var(--fill-color);\n",
              "    }\n",
              "    30% {\n",
              "      border-color: transparent;\n",
              "      border-left-color: var(--fill-color);\n",
              "      border-top-color: var(--fill-color);\n",
              "      border-right-color: var(--fill-color);\n",
              "    }\n",
              "    40% {\n",
              "      border-color: transparent;\n",
              "      border-right-color: var(--fill-color);\n",
              "      border-top-color: var(--fill-color);\n",
              "    }\n",
              "    60% {\n",
              "      border-color: transparent;\n",
              "      border-right-color: var(--fill-color);\n",
              "    }\n",
              "    80% {\n",
              "      border-color: transparent;\n",
              "      border-right-color: var(--fill-color);\n",
              "      border-bottom-color: var(--fill-color);\n",
              "    }\n",
              "    90% {\n",
              "      border-color: transparent;\n",
              "      border-bottom-color: var(--fill-color);\n",
              "    }\n",
              "  }\n",
              "</style>\n",
              "\n",
              "  <script>\n",
              "    async function quickchart(key) {\n",
              "      const quickchartButtonEl =\n",
              "        document.querySelector('#' + key + ' button');\n",
              "      quickchartButtonEl.disabled = true;  // To prevent multiple clicks.\n",
              "      quickchartButtonEl.classList.add('colab-df-spinner');\n",
              "      try {\n",
              "        const charts = await google.colab.kernel.invokeFunction(\n",
              "            'suggestCharts', [key], {});\n",
              "      } catch (error) {\n",
              "        console.error('Error during call to suggestCharts:', error);\n",
              "      }\n",
              "      quickchartButtonEl.classList.remove('colab-df-spinner');\n",
              "      quickchartButtonEl.classList.add('colab-df-quickchart-complete');\n",
              "    }\n",
              "    (() => {\n",
              "      let quickchartButtonEl =\n",
              "        document.querySelector('#df-53313810-ab6c-4674-91f5-32992905b4dd button');\n",
              "      quickchartButtonEl.style.display =\n",
              "        google.colab.kernel.accessAllowed ? 'block' : 'none';\n",
              "    })();\n",
              "  </script>\n",
              "</div>\n",
              "\n",
              "  <div id=\"id_7cdf11c2-7897-461f-8e5f-5615f8cbe077\">\n",
              "    <style>\n",
              "      .colab-df-generate {\n",
              "        background-color: #E8F0FE;\n",
              "        border: none;\n",
              "        border-radius: 50%;\n",
              "        cursor: pointer;\n",
              "        display: none;\n",
              "        fill: #1967D2;\n",
              "        height: 32px;\n",
              "        padding: 0 0 0 0;\n",
              "        width: 32px;\n",
              "      }\n",
              "\n",
              "      .colab-df-generate:hover {\n",
              "        background-color: #E2EBFA;\n",
              "        box-shadow: 0px 1px 2px rgba(60, 64, 67, 0.3), 0px 1px 3px 1px rgba(60, 64, 67, 0.15);\n",
              "        fill: #174EA6;\n",
              "      }\n",
              "\n",
              "      [theme=dark] .colab-df-generate {\n",
              "        background-color: #3B4455;\n",
              "        fill: #D2E3FC;\n",
              "      }\n",
              "\n",
              "      [theme=dark] .colab-df-generate:hover {\n",
              "        background-color: #434B5C;\n",
              "        box-shadow: 0px 1px 3px 1px rgba(0, 0, 0, 0.15);\n",
              "        filter: drop-shadow(0px 1px 2px rgba(0, 0, 0, 0.3));\n",
              "        fill: #FFFFFF;\n",
              "      }\n",
              "    </style>\n",
              "    <button class=\"colab-df-generate\" onclick=\"generateWithVariable('df')\"\n",
              "            title=\"Generate code using this dataframe.\"\n",
              "            style=\"display:none;\">\n",
              "\n",
              "  <svg xmlns=\"http://www.w3.org/2000/svg\" height=\"24px\"viewBox=\"0 0 24 24\"\n",
              "       width=\"24px\">\n",
              "    <path d=\"M7,19H8.4L18.45,9,17,7.55,7,17.6ZM5,21V16.75L18.45,3.32a2,2,0,0,1,2.83,0l1.4,1.43a1.91,1.91,0,0,1,.58,1.4,1.91,1.91,0,0,1-.58,1.4L9.25,21ZM18.45,9,17,7.55Zm-12,3A5.31,5.31,0,0,0,4.9,8.1,5.31,5.31,0,0,0,1,6.5,5.31,5.31,0,0,0,4.9,4.9,5.31,5.31,0,0,0,6.5,1,5.31,5.31,0,0,0,8.1,4.9,5.31,5.31,0,0,0,12,6.5,5.46,5.46,0,0,0,6.5,12Z\"/>\n",
              "  </svg>\n",
              "    </button>\n",
              "    <script>\n",
              "      (() => {\n",
              "      const buttonEl =\n",
              "        document.querySelector('#id_7cdf11c2-7897-461f-8e5f-5615f8cbe077 button.colab-df-generate');\n",
              "      buttonEl.style.display =\n",
              "        google.colab.kernel.accessAllowed ? 'block' : 'none';\n",
              "\n",
              "      buttonEl.onclick = () => {\n",
              "        google.colab.notebook.generateWithVariable('df');\n",
              "      }\n",
              "      })();\n",
              "    </script>\n",
              "  </div>\n",
              "\n",
              "    </div>\n",
              "  </div>\n"
            ],
            "application/vnd.google.colaboratory.intrinsic+json": {
              "type": "dataframe",
              "variable_name": "df",
              "summary": "{\n  \"name\": \"df\",\n  \"rows\": 644,\n  \"fields\": [\n    {\n      \"column\": \"id\",\n      \"properties\": {\n        \"dtype\": \"string\",\n        \"num_unique_values\": 644,\n        \"samples\": [\n          \"TRAIN_631\",\n          \"TRAIN_592\",\n          \"TRAIN_599\"\n        ],\n        \"semantic_type\": \"\",\n        \"description\": \"\"\n      }\n    },\n    {\n      \"column\": \"category\",\n      \"properties\": {\n        \"dtype\": \"category\",\n        \"num_unique_values\": 7,\n        \"samples\": [\n          \"\\uac74\\ucd95\\uad6c\\uc870\",\n          \"\\uae30\\ud0c0\",\n          \"\\uc778\\ud14c\\ub9ac\\uc5b4\"\n        ],\n        \"semantic_type\": \"\",\n        \"description\": \"\"\n      }\n    },\n    {\n      \"column\": \"Question\",\n      \"properties\": {\n        \"dtype\": \"string\",\n        \"num_unique_values\": 644,\n        \"samples\": [\n          \"\\ubd80\\uc5cc \\ubc0f \\uc695\\uc2e4\\uc758 \\uacb0\\ub85c\\uc758 \\uc6d0\\uc778\\uc740 \\ubb50\\uc57c? \\ubd80\\uc5cc\\uacfc \\uc695\\uc2e4\\uc5d0\\uc11c \\ubc1c\\uc0dd\\ud558\\ub294 \\uacb0\\ub85c\\uc758 \\uc8fc\\uc694 \\uc6d0\\uc778\\uc740 \\ubb34\\uc5c7\\uc778\\uac00\\uc694?\",\n          \"\\uc778\\ud14c\\ub9ac\\uc5b4 \\ub514\\uc790\\uc778\\uc5d0\\uc11c \\uc870\\uba85\\uc758 \\uc5ed\\ud560\\uc740 \\ubb34\\uc5c7\\uc778\\uac00\\uc694? \\uc778\\ud14c\\ub9ac\\uc5b4 \\ub514\\uc790\\uc778\\uc5d0\\uc11c \\uc870\\uba85\\uc774 \\ud558\\ub294 \\uc5ed\\ud560\\uc740 \\ubb34\\uc5c7\\uc778\\uac00\\uc694?\",\n          \"\\uc778\\ud14c\\ub9ac\\uc5b4 \\ub514\\uc790\\uc778\\uc5d0\\uc11c \\ubbf8\\ub2c8\\uba40\\ub9ac\\uc998 \\uc2a4\\ud0c0\\uc77c\\uc744 \\uc0b4\\ub9ac\\ub824\\uba74 \\uc5b4\\ub5a4 \\ub514\\uc790\\uc778\\uc744 \\uc120\\ud0dd\\ud574\\uc57c \\ud558\\ub098\\uc694? \\ubbf8\\ub2c8\\uba40\\ub9ac\\uc998 \\uc2a4\\ud0c0\\uc77c\\uc744 \\uc0b4\\ub9ac\\uae30 \\uc704\\ud574 \\uc5b4\\ub5a4 \\uc885\\ub958\\uc758 \\uac00\\uad6c\\ub97c \\uc120\\ud0dd\\ud574\\uc57c \\ud558\\ub098\\uc694?\"\n        ],\n        \"semantic_type\": \"\",\n        \"description\": \"\"\n      }\n    },\n    {\n      \"column\": \"Answer\",\n      \"properties\": {\n        \"dtype\": \"string\",\n        \"num_unique_values\": 644,\n        \"samples\": [\n          \"\\ubd80\\uc5cc\\uc774\\ub098 \\uc695\\uc2e4\\uc758 \\uacb0\\ub85c\\ub294 \\uc678\\ubcbd\\uc774\\ub098 \\ube44 \\ub09c\\ubc29\\uacf5\\uac04\\uc5d0 \\uc811\\ud55c \\uba74\\uc774 \\ubcbd\\uccb4\\uc758 \\uc77c\\ubd80\\uc778 \\ubd80\\uc5cc\\uc774\\ub098 \\uc695\\uc2e4\\uc5d0\\uc11c \\ubc1c\\uc0dd\\ud569\\ub2c8\\ub2e4. \\uc774\\ub7ec\\ud55c \\uacf5\\uac04\\uc740 \\uc678\\ubd80\\uc758 \\ucc28\\uac00\\uc6b4 \\ud45c\\uba74\\uc628\\ub3c4\\uc640 \\ub0b4\\ubd80\\uc758 \\ub192\\uc740 \\uc2b5\\ub3c4\\uac00 \\uacb0\\ub85c\\uac00 \\ubc1c\\uc0dd\\ud558\\uae30\\uc5d0 \\ucd5c\\uc801\\uc758 \\uc870\\uac74\\uc744 \\uc81c\\uacf5\\ud558\\uae30 \\ub54c\\ubb38\\uc785\\ub2c8\\ub2e4. \\uc678\\ubd80\\uc640 \\ub0b4\\ubd80 \\uac04\\uc758 \\uc628\\ub3c4\\ucc28\\ub85c \\uc778\\ud574 \\ubcbd\\uba74\\uc774 \\ucda5\\uace0, \\uc99d\\ubc1c\\ub418\\ub294 \\uacfc\\uc815\\uc5d0\\uc11c \\uc218\\ubd84\\uc774 \\uacb0\\uc815\\uccb4\\ub85c \\ubcc0\\ud558\\ub294 \\uac83\\uc774 \\uacb0\\ub85c \\ubc1c\\uc0dd\\uc758 \\uc8fc\\ub41c \\uc6d0\\uc778\\uc774 \\ub429\\ub2c8\\ub2e4. \\uc774\\ub7ec\\ud55c \\ubb38\\uc81c\\ub294 \\uc2e4\\ub0b4 \\uc2b5\\ub3c4\\uc640 \\uacf5\\uac04 \\ub0b4\\ubd80\\uc758 \\uc628\\ub3c4, \\uc678\\ubd80\\uc5d0\\uc11c \\uc624\\ub294 \\ucc28\\uac00\\uc6b4 \\uc628\\ub3c4 \\ub4f1 \\ub2e4\\uc591\\ud55c \\uc694\\uc778\\uc5d0 \\uc758\\ud574 \\ubc1c\\uc0dd\\ud560 \\uc218 \\uc788\\uc2b5\\ub2c8\\ub2e4.\",\n          \"\\uc870\\uba85\\uc740 \\uc778\\ud14c\\ub9ac\\uc5b4 \\ub514\\uc790\\uc778\\uc5d0\\uc11c \\ub9e4\\uc6b0 \\uc911\\uc694\\ud55c \\uc5ed\\ud560\\uc744 \\ud569\\ub2c8\\ub2e4. \\uadf8\\uac83\\uc740 \\uacf5\\uac04\\uc758 \\ubd84\\uc704\\uae30, \\ud3ec\\uc778\\ud2b8 \\ub77c\\uc774\\ud305 \\ubc0f \\uc2dc\\uc120\\uc744 \\uc870\\uc808\\ud558\\ub294 \\ub370 \\uc0ac\\uc6a9\\ub429\\ub2c8\\ub2e4. \\ub354\\ubd88\\uc5b4, \\uc801\\uc808\\ud55c \\uc870\\uba85\\uc740 \\uacf5\\uac04\\uc744 \\ub354 \\ub113\\uc5b4 \\ubcf4\\uc774\\uac8c \\ud558\\uac70\\ub098 \\uac15\\uc870\\ud560 \\uc218 \\uc788\\uc73c\\uba70, \\uc0c9\\uac10\\uacfc \\ud615\\ud0dc\\ub97c \\ubd80\\uac01\\uc2dc\\ud0b4\\uc73c\\ub85c\\uc368 \\uacf5\\uac04\\uc758 \\ubbf8\\uc801 \\uc694\\uc18c\\ub97c \\ud5a5\\uc0c1\\uc2dc\\ud0b5\\ub2c8\\ub2e4. \\ub610\\ud55c, \\ub2e4\\uc591\\ud55c \\uc870\\uba85 \\uc885\\ub958\\uc640 \\uc124\\uce58 \\ubc29\\ubc95\\uc744 \\uc870\\ud569\\ud558\\uc5ec \\uacf5\\uac04\\uc758 \\uae30\\ub2a5\\uc131\\uacfc \\uc2dc\\uac01\\uc801 \\ub9e4\\ub825\\uc744 \\ud5a5\\uc0c1\\uc2dc\\ud0ac \\uc218 \\uc788\\uc2b5\\ub2c8\\ub2e4. \\ub530\\ub77c\\uc11c \\uc870\\uba85\\uc740 \\uc778\\ud14c\\ub9ac\\uc5b4 \\ub514\\uc790\\uc778\\uc5d0\\uc11c \\ud544\\uc218\\uc801\\uc778 \\uc5ed\\ud560\\uc744 \\ud569\\ub2c8\\ub2e4.\",\n          \"\\ubbf8\\ub2c8\\uba40\\ub9ac\\uc998 \\uc2a4\\ud0c0\\uc77c\\uc744 \\uc0b4\\ub9ac\\uae30 \\uc704\\ud574\\uc11c\\ub294 \\uac04\\uacb0\\ud558\\uace0 \\uae54\\ub054\\ud55c \\ub514\\uc790\\uc778\\uc744 \\uc120\\ud0dd\\ud574\\uc57c \\ud569\\ub2c8\\ub2e4. \\ub2e8\\uc21c\\ud55c \\ud615\\ud0dc\\uc640 \\uc0c9\\uc0c1, \\uaddc\\uce59\\uc801\\uc778 \\ud328\\ud134\\uc744 \\ud65c\\uc6a9\\ud558\\uc5ec \\ubd88\\ud544\\uc694\\ud55c \\uc7a5\\uc2dd\\uc744 \\ucd5c\\uc18c\\ud654\\ud558\\uace0, \\uacf5\\uac04\\uc744 \\uae68\\ub057\\ud558\\uac8c \\uc720\\uc9c0\\ud574\\uc57c \\ud569\\ub2c8\\ub2e4. \\uac00\\uad6c\\ub098 \\uc7a5\\uc2dd\\ud488\\uc744 \\uc120\\ud0dd\\ud560 \\ub54c\\ub294 \\uc120\\uba85\\ud558\\uace0 \\ub2e8\\uc21c\\ud55c \\ud615\\ud0dc\\uc758 \\uc81c\\ud488\\uc744 \\uc120\\ud638\\ud558\\uace0, \\uc911\\uc694\\ud55c \\uac83\\uc740 '\\uc801\\uc808\\ud55c \\ud06c\\uae30'\\uc785\\ub2c8\\ub2e4. \\uc801\\uc808\\ud55c \\ud06c\\uae30\\uc640 \\ube44\\uc728\\uc744 \\uac00\\uc9c4 \\uac00\\uad6c\\uc640 \\uc7a5\\uc2dd\\ud488\\uc744 \\uc120\\ud0dd\\ud558\\uc5ec \\ucc28\\ubd84\\ud558\\uba74\\uc11c\\ub3c4 \\uc138\\ub828\\ub41c \\ubbf8\\ub2c8\\uba40\\ub9ac\\uc998 \\uc2a4\\ud0c0\\uc77c\\uc744 \\uad6c\\ud604\\ud560 \\uc218 \\uc788\\uc2b5\\ub2c8\\ub2e4.\"\n        ],\n        \"semantic_type\": \"\",\n        \"description\": \"\"\n      }\n    },\n    {\n      \"column\": \"Context\",\n      \"properties\": {\n        \"dtype\": \"string\",\n        \"num_unique_values\": 644,\n        \"samples\": [\n          \"\\ubd80\\uc5cc\\uc774\\ub098 \\uc695\\uc2e4\\uc758 \\uacbd\\uc6b0 \\uc678\\ubcbd\\uc774\\ub098 \\ube44 \\ub09c\\ubc29\\uacf5\\uac04\\uc5d0 \\uc811\\ud55c \\uba74\\uc774 \\ubcbd\\uccb4\\uc758 \\uc77c\\ubd80\\uc778 \\ubd80\\uc5cc\\uc774\\ub098 \\uc695\\uc2e4\\uc5d0\\uc11c\\ub294 \\uc678\\ubd80\\uc758 \\ucc28\\uac00\\uc6b4 \\ud45c\\uba74\\uc628\\ub3c4\\ub3e0 \\ub0b4\\ubd80\\uc758 \\ub192\\uc740 \\uc2b5\\ub3c4\\uac00 \\uacb0\\ub85c\\uac00 \\ubc1c\\uc0dd\\ud560 \\uc218 \\uc788\\ub294 \\ucd5c\\uc801\\uc758 \\uc870\\uac74\\uc774 \\ub429\\ub2c8\\ub2e4. \\ubd80\\uc5cc\\uc774\\ub098 \\uc695\\uc2e4\\uc758 \\uacbd\\uc6b0 \\uc678\\ubcbd\\uc774\\ub098 \\ube44 \\ub09c\\ubc29\\uacf5\\uac04\\uc5d0 \\uc811\\ud55c \\uba74\\uc774 \\ubcbd\\uccb4\\uc758 \\uc77c\\ubd80\\uc778 \\ubd80\\uc5cc\\uc774\\ub098 \\uc695\\uc2e4\\uc5d0\\uc11c\\ub294 \\uc678\\ubd80\\uc758 \\ucc28\\uac00\\uc6b4 \\ud45c\\uba74\\uc628\\ub3c4\\uc640 \\ub0b4\\ubd80\\uc758 \\ub192\\uc740 \\uc2b5\\ub3c4\\uac00 \\uacb0\\ub85c\\uac00 \\ubc1c\\uc0dd\\ud560 \\uc218 \\uc788\\ub294 \\ucd5c\\uc801\\uc758 \\uc870\\uac74\\uc774 \\ub429\\ub2c8\\ub2e4. \\uc774\\ub7ec\\ud55c \\uc870\\uac74\\uc740 \\uc8fc\\ub85c \\ud658\\uae30\\uac00 \\ubd80\\uc871\\ud558\\uac70\\ub098 \\ubd80\\uc5cc\\uacfc \\uc695\\uc2e4\\uc5d0\\uc11c \\ubc1c\\uc0dd\\ud558\\ub294 \\uc99d\\uae30\\uac00 \\uc27d\\uac8c \\ubc30\\ucd9c\\ub418\\uc9c0 \\uc54a\\ub294 \\uacbd\\uc6b0\\uc5d0 \\ubc1c\\uc0dd\\ud560 \\uc218 \\uc788\\uc2b5\\ub2c8\\ub2e4. \\ud2b9\\ud788 \\ud55c\\uad6d\\uacfc \\uac19\\uc774 \\uc2b5\\ub3c4\\uac00 \\ub192\\uc740 \\uc9c0\\uc5ed\\uc77c\\uc218\\ub85d \\uc774\\ub7ec\\ud55c \\ubb38\\uc81c\\uac00 \\ube48\\ubc88\\ud558\\uac8c \\ubc1c\\uc0dd\\ud560 \\uc218 \\uc788\\uc73c\\ubbc0\\ub85c \\uc2e4\\ub0b4 \\ud658\\uae30\\ub97c \\uc720\\uc9c0\\ud558\\uace0 \\uc801\\uc808\\ud55c \\ubc29\\ubc95\\uc73c\\ub85c \\uc2b5\\uae30\\ub97c \\uc81c\\uac70\\ud558\\ub294 \\uac83\\uc774 \\uc911\\uc694\\ud569\\ub2c8\\ub2e4. \\ubd80\\uc5cc\\uc774\\ub098 \\uc695\\uc2e4\\uc758 \\uacb0\\ub85c\\uac00 \\ubc1c\\uc0dd\\ud558\\ub294 \\uac00\\uc7a5 \\uc77c\\ubc18\\uc801\\uc778 \\uc6d0\\uc778\\uc740 \\uc678\\ubd80\\uc758 \\ucc28\\uac00\\uc6b4 \\ud45c\\uba74\\uc628\\ub3c4\\uc640 \\ub0b4\\ubd80\\uc758 \\ub192\\uc740 \\uc2b5\\ub3c4\\uac00 \\uacb0\\ud569\\ub418\\ub294 \\uac83\\uc785\\ub2c8\\ub2e4. \\uc774\\ub7ec\\ud55c \\uc870\\uac74\\uc740 \\uc678\\ubcbd\\uc774\\ub098 \\ube44 \\ub09c\\ubc29\\uacf5\\uac04\\uc5d0 \\uc811\\ud55c \\uba74\\uc778 \\ubd80\\uc5cc\\uc774\\ub098 \\uc695\\uc2e4\\uc5d0\\uc11c \\uc790\\uc8fc \\ubc1c\\uc0dd\\ud560 \\uc218 \\uc788\\uc2b5\\ub2c8\\ub2e4. \\ub530\\ub77c\\uc11c \\uc801\\uc808\\ud55c \\ud658\\uae30\\uc640 \\ucda9\\ubd84\\ud55c \\uc218\\ubd84 \\uc81c\\uac70\\ub97c \\ud1b5\\ud574 \\uc774\\ub7ec\\ud55c \\uc0c1\\ud669\\uc744 \\uc608\\ubc29\\ud560 \\uc218 \\uc788\\uc2b5\\ub2c8\\ub2e4. \\ubd80\\uc5cc\\uc774\\ub098 \\uc695\\uc2e4\\uc758 \\uacb0\\ub85c\\uac00 \\ubc1c\\uc0dd\\ud558\\ub294 \\uac00\\uc7a5 \\ud070 \\uc6d0\\uc778\\uc740 \\uc678\\ubcbd\\uc774\\ub098 \\ube44 \\ub09c\\ubc29\\uacf5\\uac04\\uc5d0 \\uc811\\ud55c \\uba74\\uc774 \\ubcbd\\uccb4\\uc758 \\uc77c\\ubd80\\uc778 \\ubd80\\uc5cc\\uc774\\ub098 \\uc695\\uc2e4\\uc5d0\\uc11c \\uc678\\ubd80\\uc758 \\ucc28\\uac00\\uc6b4 \\ud45c\\uba74 \\uc628\\ub3c4\\uc640 \\ub0b4\\ubd80\\uc758 \\ub192\\uc740 \\uc2b5\\ub3c4\\uac00 \\uacb0\\ub85c\\uac00 \\ubc1c\\uc0dd\\ud560 \\uc218 \\uc788\\ub294 \\ucd5c\\uc801\\uc758 \\uc870\\uac74\\uc774 \\ub429\\ub2c8\\ub2e4. \\ud2b9\\ud788, \\ud55c\\ubc29\\ud5a5 \\ud1b5\\ud48d\\uc774 \\uc5b4\\ub835\\uace0 \\ubcbd\\uba74\\uc774 \\uc624\\ub7ab\\ub3d9\\uc548 \\uc2b5\\uae30\\uc5d0 \\ub178\\ucd9c\\ub418\\ub294 \\ud658\\uacbd\\uc5d0\\uc11c \\uacb0\\ub85c\\uac00 \\uc2ec\\ud574\\uc9c8 \\uc218 \\uc788\\uc2b5\\ub2c8\\ub2e4.itchens or bathrooms are susceptible to condensation due to their exposure to cold exterior walls or unheated spaces. This creates optimal conditions for condensation to occur, with the combination of cold exterior surfaces and high interior humidity. Additionally, poor ventilation and prolonged exposure to moisture can exacerbate the problem.\",\n          \"\\uc870\\uba85\\uc740 \\uacf5\\uac04\\uc758 \\ubd84\\uc704\\uae30 \\uc870\\uc808, \\ud3ec\\uc778\\ud2b8 \\ub77c\\uc774\\ud305, \\uadf8\\ub9ac\\uace0 \\uc2dc\\uc120\\uc744 \\uc774\\ub044\\ub294 \\uc5ed\\ud560\\uc744 \\ud569\\ub2c8\\ub2e4. \\uc870\\uba85\\uc740 \\uc778\\ud14c\\ub9ac\\uc5b4 \\ub514\\uc790\\uc778\\uc5d0\\uc11c \\uadf9\\ud788 \\uc911\\uc694\\ud55c \\uc5ed\\ud560\\uc744 \\ud569\\ub2c8\\ub2e4. \\uadf8\\uac83\\uc740 \\uacf5\\uac04\\uc758 \\ubd84\\uc704\\uae30\\uc640 \\ud658\\uacbd\\uc744 \\uc870\\uc808\\ud558\\ub294 \\ub370 \\uc0ac\\uc6a9\\ub418\\uba70, \\ud2b9\\uc815 \\uad6c\\uc5ed\\uc774\\ub098 \\ubb3c\\uccb4\\ub97c \\uac15\\uc870\\ud558\\ub294\\ub370 \\uc0ac\\uc6a9\\ub429\\ub2c8\\ub2e4. \\ub610\\ud55c \\uc2dc\\uc120\\uc744 \\uc774\\ub044\\ub294 \\uc5ed\\ud560\\uc744 \\ud558\\uc5ec \\ub514\\uc790\\uc778 \\uc694\\uc18c\\ub97c \\ub3cb\\ubcf4\\uc774\\uac8c \\ud558\\uace0, \\uacf5\\uac04\\uc5d0 \\uae4a\\uc774\\uac10\\uacfc \\ucc28\\uc6d0\\uc744 \\ubd80\\uc5ec\\ud558\\uc5ec \\uc2dc\\uac01\\uc801 \\ud6a8\\uacfc\\ub97c \\uadf9\\ub300\\ud654\\ud569\\ub2c8\\ub2e4. \\uc870\\uba85\\uc740 \\uc778\\ud14c\\ub9ac\\uc5b4 \\ub514\\uc790\\uc778\\uc5d0\\uc11c \\ub9e4\\uc6b0 \\uc911\\uc694\\ud55c \\uc5ed\\ud560\\uc744 \\ud569\\ub2c8\\ub2e4. \\uadf8\\uac83\\uc740 \\uacf5\\uac04\\uc758 \\ubd84\\uc704\\uae30\\ub97c \\uc870\\uc808\\ud558\\uace0, \\ud2b9\\uc815\\ud55c \\ubd80\\ubd84\\uc5d0 \\uc9d1\\uc911\\ud560 \\uc218 \\uc788\\ub3c4\\ub85d \\ud558\\ub294 \\ud3ec\\uc778\\ud2b8 \\ub77c\\uc774\\ud305 \\uadf8\\ub9ac\\uace0 \\uc2dc\\uc120\\uc744 \\uc774\\ub044\\ub294 \\uc5ed\\ud560\\uc744 \\ud569\\ub2c8\\ub2e4. \\ubfd0\\ub9cc \\uc544\\ub2c8\\ub77c, \\uc778\\ud14c\\ub9ac\\uc5b4 \\ub514\\uc790\\uc778\\uc758 \\uc77c\\ubd80\\ub85c\\uc11c \\uacf5\\uac04\\uc758 \\ud615\\ud0dc\\uc640 \\uac70\\ub9ac\\uac10\\uc744 \\uac15\\uc870\\ud558\\uace0 \\uc2dc\\uac01\\uc801\\uc73c\\ub85c \\uac1c\\uc120\\ud558\\ub294 \\ub370 \\ub3c4\\uc6c0\\uc744 \\uc90d\\ub2c8\\ub2e4. \\uc774\\ub7ec\\ud55c \\ub2e4\\uc591\\ud55c \\uc5ed\\ud560\\uc744 \\ud1b5\\ud574 \\uc870\\uba85\\uc740 \\uc778\\ud14c\\ub9ac\\uc5b4 \\ub514\\uc790\\uc778\\uc5d0\\uc11c \\ub180\\ub77c\\uc6b4 \\ubcc0\\ud654\\ub97c \\ub9cc\\ub4e4\\uc5b4 \\ub0c5\\ub2c8\\ub2e4. \\uc870\\uba85\\uc740 \\uc778\\ud14c\\ub9ac\\uc5b4 \\ub514\\uc790\\uc778\\uc5d0\\uc11c \\ub9e4\\uc6b0 \\uc911\\uc694\\ud55c \\uc5ed\\ud560\\uc744 \\ud569\\ub2c8\\ub2e4. \\uc774\\ub294 \\uacf5\\uac04\\uc758 \\ubd84\\uc704\\uae30\\ub97c \\uc870\\uc808\\ud558\\uace0, \\ud2b9\\uc815 \\ubd80\\ubd84\\uc744 \\uac15\\uc870\\ud558\\ub294 \\ud3ec\\uc778\\ud2b8 \\ub77c\\uc774\\ud305\\uc744 \\ud1b5\\ud574 \\uc2dc\\uc120\\uc744 \\uc774\\ub044\\ub294 \\uc5ed\\ud560\\uc744 \\ud569\\ub2c8\\ub2e4. \\ub610\\ud55c, \\uc801\\uc808\\ud55c \\uc870\\uba85\\uc740 \\uacf5\\uac04\\uc744 \\ub354 \\ub113\\uc5b4 \\ubcf4\\uc774\\uac8c \\ud558\\uac70\\ub098 \\ub530\\ub73b\\ud55c \\ubd84\\uc704\\uae30\\ub97c \\uc5f0\\ucd9c\\ud558\\ub294 \\ub370 \\ub3c4\\uc6c0\\uc774 \\ub429\\ub2c8\\ub2e4. \\ub610\\ud55c, \\uc870\\uba85\\uc740 \\uc0c9\\uac10\\uc744 \\ubd80\\uac01\\uc2dc\\ud0a4\\uace0 \\uac00\\uad6c\\ub098 \\uc18c\\ud488 \\ub4f1\\uc744 \\uac15\\uc870\\ud558\\uc5ec \\uacf5\\uac04\\uc5d0 \\uae4a\\uc774\\uc640 \\ucc28\\uc6d0\\uc744 \\ub354\\ud569\\ub2c8\\ub2e4. \\ub530\\ub77c\\uc11c, \\uc870\\uba85\\uc740 \\uc778\\ud14c\\ub9ac\\uc5b4 \\uc804\\uccb4\\uc801\\uc778 \\ub514\\uc790\\uc778\\uacfc \\ubd84\\uc704\\uae30\\ub97c \\uacb0\\uc815\\uc9d3\\ub294 \\uc911\\uc694\\ud55c \\uc5ed\\ud560\\uc744 \\ud558\\uac8c \\ub429\\ub2c8\\ub2e4.\",\n          \"\\ubbf8\\ub2c8\\uba40\\ub9ac\\uc998 \\uc2a4\\ud0c0\\uc77c\\uc740 \\uac04\\uacb0\\ud558\\uace0 \\uae54\\ub054\\ud55c \\ub514\\uc790\\uc778\\uc744 \\ucd94\\uad6c\\ud569\\ub2c8\\ub2e4. \\ub2e8\\uc21c\\ud55c \\ud615\\ud0dc\\uc640 \\uc0c9\\uc0c1, \\uaddc\\uce59\\uc801\\uc778 \\ud328\\ud134\\uc744 \\ud65c\\uc6a9\\ud558\\uc5ec \\ubd88\\ud544\\uc694\\ud55c \\uc7a5\\uc2dd\\uc744 \\ucd5c\\uc18c\\ud654\\ud569\\ub2c8\\ub2e4. \\ubbf8\\ub2c8\\uba40\\ub9ac\\uc998 \\uc2a4\\ud0c0\\uc77c\\uc744 \\uc0b4\\ub9ac\\uae30 \\uc704\\ud574\\uc11c\\ub294 \\ub2e8\\uc21c\\ud55c \\ud615\\ud0dc\\uc640 \\uc0c9\\uc0c1, \\uaddc\\uce59\\uc801\\uc778 \\ud328\\ud134\\uc744 \\ud65c\\uc6a9\\ud558\\uc5ec \\ubd88\\ud544\\uc694\\ud55c \\uc7a5\\uc2dd\\uc744 \\ucd5c\\uc18c\\ud654\\ud558\\ub294 \\uac83\\uc774 \\uc911\\uc694\\ud569\\ub2c8\\ub2e4. \\ub530\\ub77c\\uc11c \\uac00\\uad6c\\ub098 \\uc18c\\ud488\\uc744 \\uc120\\ud0dd\\ud560 \\ub54c\\ub294 \\uae54\\ub054\\ud558\\uace0 \\uac04\\uacb0\\ud55c \\ub514\\uc790\\uc778\\uc758 \\uc81c\\ud488\\uc744 \\uc120\\ud0dd\\ud558\\ub294 \\uac83\\uc774 \\uc88b\\uc2b5\\ub2c8\\ub2e4. \\ub610\\ud55c, \\uc911\\uc694\\ud55c \\uac83\\uc740 \\uacf5\\uac04\\uc744 \\uc815\\ub9ac\\uc815\\ub3c8\\ud558\\uc5ec \\ubd88\\ud544\\uc694\\ud55c \\uc18c\\ud488\\uc774\\ub098 \\uac00\\uad6c\\ub97c \\ucd5c\\uc18c\\ud654\\ud558\\uace0 \\uae54\\ub054\\ud55c \\uc218\\ub0a9 \\uacf5\\uac04\\uc744 \\ud65c\\uc6a9\\ud558\\ub294 \\uac83\\uc785\\ub2c8\\ub2e4. \\ubbf8\\ub2c8\\uba40\\ub9ac\\uc998 \\uc2a4\\ud0c0\\uc77c\\uc740 \\uac04\\uacb0\\ud55c \\ub514\\uc790\\uc778\\uc73c\\ub85c \\uacf5\\uac04\\uc5d0 \\uc870\\ud654\\ub97c \\uc774\\ub8e8\\uace0 \\uc2ec\\ud50c\\ud568\\uc744 \\uac15\\uc870\\ud558\\ubbc0\\ub85c, \\ub77c\\uc774\\ud2b8\\ud558\\uac70\\ub098 \\ub2e4\\ud06c\\ud55c \\ud1a4\\uc758 \\uc0c9\\uc0c1 \\uc911\\uc2ec\\uc73c\\ub85c \\ud558\\ub294 \\uac83\\uc774 \\uc77c\\ubc18\\uc801\\uc785\\ub2c8\\ub2e4. \\ubbf8\\ub2c8\\uba40\\ub9ac\\uc998 \\uc2a4\\ud0c0\\uc77c\\uc744 \\uc0b4\\ub9ac\\uae30 \\uc704\\ud574\\uc11c\\ub294 \\ub2e8\\uc21c\\ud55c \\ud615\\ud0dc\\uc640 \\uc0c9\\uc0c1, \\uadf8\\ub9ac\\uace0 \\uaddc\\uce59\\uc801\\uc778 \\ud328\\ud134\\uc744 \\ud65c\\uc6a9\\ud55c \\ub514\\uc790\\uc778\\uc744 \\uc120\\ud0dd\\ud574\\uc57c \\ud569\\ub2c8\\ub2e4. \\ubd88\\ud544\\uc694\\ud55c \\uc7a5\\uc2dd\\uc744 \\ucd5c\\uc18c\\ud654\\ud558\\uace0, \\uac00\\uad6c\\ub098 \\uc18c\\ud488 \\uc5ed\\uc2dc \\uae54\\ub054\\ud558\\uace0 \\uac04\\uacb0\\ud55c \\ud615\\ud0dc\\ub97c \\uc120\\ud0dd\\ud558\\ub294 \\uac83\\uc774 \\uc911\\uc694\\ud569\\ub2c8\\ub2e4. \\ub610\\ud55c, \\uacf5\\uac04 \\ub0b4\\ubd80\\uc758 \\ubd88\\ud544\\uc694\\ud55c \\uc694\\uc18c\\ub97c \\uc81c\\uac70\\ud558\\uace0 \\uae68\\ub057\\ud558\\uace0 \\uc815\\ub3c8\\ub41c \\ubd84\\uc704\\uae30\\ub97c \\uc720\\uc9c0\\ud558\\ub294 \\uac83\\uc774 \\ubbf8\\ub2c8\\uba40\\ub9ac\\uc998 \\uc2a4\\ud0c0\\uc77c\\uc744 \\uc0b4\\ub9ac\\ub294 \\ub370 \\ub3c4\\uc6c0\\uc774 \\ub429\\ub2c8\\ub2e4. \\ubbf8\\ub2c8\\uba40\\ub9ac\\uc998 \\uc2a4\\ud0c0\\uc77c\\uc744 \\uc0b4\\ub9ac\\uae30 \\uc704\\ud574\\uc11c\\ub294 \\uac04\\uacb0\\ud558\\uace0 \\uae54\\ub054\\ud55c \\ub514\\uc790\\uc778\\uc744 \\uc120\\ud0dd\\ud574\\uc57c \\ud569\\ub2c8\\ub2e4. \\ub2e8\\uc21c\\ud55c \\ud615\\ud0dc\\uc640 \\uc0c9\\uc0c1, \\uaddc\\uce59\\uc801\\uc778 \\ud328\\ud134\\uc744 \\ud65c\\uc6a9\\ud558\\uc5ec \\ubd88\\ud544\\uc694\\ud55c \\uc7a5\\uc2dd\\uc744 \\ucd5c\\uc18c\\ud654\\ud558\\ub294 \\uac83\\uc774 \\uc911\\uc694\\ud569\\ub2c8\\ub2e4. \\uac00\\uad6c\\ub098 \\uc18c\\ud488\\uc744 \\uc120\\ud0dd\\ud560 \\ub54c\\uc5d0\\ub294 \\uae54\\ub054\\ud55c \\uc9c1\\uc120\\uc774\\ub098 \\uace1\\uc120\\uc744 \\ud65c\\uc6a9\\ud55c \\ub514\\uc790\\uc778\\uc744 \\uace0\\ub974\\ub294 \\uac83\\uc774 \\uc88b\\uc2b5\\ub2c8\\ub2e4. \\ub610\\ud55c, \\uac01 \\uc694\\uc18c\\ub4e4\\uc744 \\ucd5c\\uc18c\\ud55c\\uc73c\\ub85c \\ubc30\\uce58\\ud558\\uace0 \\uacf5\\uac04\\uc744 \\ud65c\\uc6a9\\ud558\\uc5ec \\uae54\\ub054\\ud558\\uace0 \\uc870\\ud654\\ub85c\\uc6b4 \\uc778\\ud14c\\ub9ac\\uc5b4\\ub97c \\uc644\\uc131\\ud560 \\uc218 \\uc788\\uc2b5\\ub2c8\\ub2e4.\"\n        ],\n        \"semantic_type\": \"\",\n        \"description\": \"\"\n      }\n    }\n  ]\n}"
            }
          },
          "metadata": {},
          "execution_count": 3
        }
      ]
    },
    {
      "cell_type": "code",
      "source": [
        "train_last_index = int(len(df) * 0.9) + 1\n",
        "train_last_index"
      ],
      "metadata": {
        "colab": {
          "base_uri": "https://localhost:8080/"
        },
        "id": "VozdHN-ouxPR",
        "outputId": "d9523ebd-1b38-480a-ef93-d9159ec268f9"
      },
      "execution_count": null,
      "outputs": [
        {
          "output_type": "execute_result",
          "data": {
            "text/plain": [
              "580"
            ]
          },
          "metadata": {},
          "execution_count": 4
        }
      ]
    },
    {
      "cell_type": "code",
      "source": [
        "nodes = df['Answer'] + df['Context']\n",
        "nodes"
      ],
      "metadata": {
        "colab": {
          "base_uri": "https://localhost:8080/"
        },
        "id": "161VGxHRtHA7",
        "outputId": "af8fafb0-b4f8-4125-9abc-7d4e5bd39ad5"
      },
      "execution_count": null,
      "outputs": [
        {
          "output_type": "execute_result",
          "data": {
            "text/plain": [
              "0      면진장치는 건물의 지반으로부터 오는 진동 에너지를 흡수하여 건물에 전달되는 진동을 ...\n",
              "1      내진 설계에는 다양한 종류가 있지만, 대표적으로 내진구조, 제진구조, 면진구조가 있...\n",
              "2      철골구조의 장점은 건물의 외벽에 하중이 적게 걸리기 때문에 고층 건물의 건축이 용이...\n",
              "3      철골철근콘크리트 구조는 건축물을 지탱하는 주요 구조물인 철골과 철근, 그리고 콘크리...\n",
              "4      철골구조는 주로 일반철골구조와 경량철골구조로 나뉘어집니다. 이들은 건축 시스템에 따...\n",
              "                             ...                        \n",
              "639    벽장 부위 결로의 주된 원인은 충분한 환기가 이루어지지 않는 환경과 과도한 습기가 ...\n",
              "640    AD, PD에 면한 벽체 결로의 원인으로는 외부 공기에 노출된 벽면이 실내보다 냉각...\n",
              "641    외벽 모서리 부위에 결로가 발생하는 원인은 실내와 외부의 온도차 때문입니다. 외벽 ...\n",
              "642    창호 결로의 대책은 KS에 규정된 프레임을 선정하고 유리의 열관류율 및 결로 발생 ...\n",
              "643    AD, PD에 면한 벽체의 결로에 대한 대책으로는 단열재를 미실하게 시공하여 결로가...\n",
              "Length: 644, dtype: object"
            ]
          },
          "metadata": {},
          "execution_count": 5
        }
      ]
    },
    {
      "cell_type": "code",
      "source": [
        "corpus_train = {}\n",
        "corpus_val = {}\n",
        "\n",
        "queries_train = {}\n",
        "queries_val = {}\n",
        "\n",
        "relevant_docs_train = {}\n",
        "relevant_docs_val = {}\n",
        "\n",
        "for idx, corpus_question in enumerate(zip(nodes, df['Question'])):\n",
        "  corpus, question = corpus_question\n",
        "  if idx < train_last_index:\n",
        "    corpus_train[idx] = corpus\n",
        "    queries_train[idx] = question\n",
        "    relevant_docs_train[idx] = [idx]\n",
        "  else:\n",
        "    corpus_val[idx-train_last_index] = corpus\n",
        "    queries_val[idx-train_last_index] = question\n",
        "    relevant_docs_val[idx-train_last_index] = [idx-train_last_index]\n",
        "  # break\n",
        "\n",
        "# nodes_dict"
      ],
      "metadata": {
        "id": "SWQJXcuQttD5"
      },
      "execution_count": null,
      "outputs": []
    },
    {
      "cell_type": "code",
      "source": [
        "print(corpus_train[0])\n",
        "print(queries_train[0])\n",
        "print(relevant_docs_train[0])"
      ],
      "metadata": {
        "colab": {
          "base_uri": "https://localhost:8080/"
        },
        "id": "6O8aMAVhydPF",
        "outputId": "3ec4adcc-9f37-4730-cf17-502e8ee64946"
      },
      "execution_count": null,
      "outputs": [
        {
          "output_type": "stream",
          "name": "stdout",
          "text": [
            "면진장치는 건물의 지반으로부터 오는 진동 에너지를 흡수하여 건물에 전달되는 진동을 최소화해 주는 진동 격리장치입니다. 이를 통해 건물 내부의 진동을 줄이고 안정성을 유지하는 데 도움을 줍니다.면진장치란 지반에서 오는 진동 에너지를 흡수하여 건물에 주는 진동을 줄여주는 진동 격리장치입니다. 면진장치란 건물의 지반에서 발생하는 진동 에너지를 흡수하여 건물을 보호하고, 진동을 줄여주는 장치입니다. 주로 지진이나 기타 지반의 진동으로 인한 피해를 방지하기 위해 사용됩니다. 면진장치란 지반으로부터 발생하는 진동 에너지를 흡수하여 건물에 전달되는 진동을 줄여주는 장치를 말합니다. 이를 통해 건물의 안전성과 안정성을 향상시키고, 지진 등의 외부 충격으로부터 보호하는 역할을 합니다. 지진으로 인한 건물의 피해를 최소화하기 위해 주로 사용됩니다. 면진장치는 건물에 오는 지반 진동의 영향을 최대한으로 흡수하여 건물에 전달되는 진동을 줄여주는 장치입니다. 지반으로부터 오는 진동 에너지의 영향을 완화시키기 위해 사용됩니다.\n",
            "면진장치가 뭐야? 면진장치에 사용되는 주요 기술은 무엇인가요?\n",
            "[0]\n"
          ]
        }
      ]
    },
    {
      "cell_type": "code",
      "source": [
        "print(corpus_val[0])\n",
        "print(queries_val[0])\n",
        "print(relevant_docs_val[0])"
      ],
      "metadata": {
        "colab": {
          "base_uri": "https://localhost:8080/"
        },
        "id": "RZbrAixPynag",
        "outputId": "6fc2a98a-e79d-4286-9c26-a87c7a08b247"
      },
      "execution_count": null,
      "outputs": [
        {
          "output_type": "stream",
          "name": "stdout",
          "text": [
            "2023년의 최신 인테리어 디자인 트렌드는 천연 소재 활용, 어스톤 컬러 팔레트, 그리고 지속 가능한 디자인에 초점을 맞추고 있습니다. 이들은 환경 친화적이며 자연적인 느낌을 주는 인테리어 디자인을 지향하며, 모던한 분위기를 조성하는 데 사용됩니다. 이러한 트렌드가 최근에는 많은 인기를 끌고 있으며, 2023년에는 더욱 강화된 추세로 예상됩니다.2023년에는 천연 소재, 어스톤 컬러 팔레트, 그리고 지속 가능한 디자인이 트렌드입니다. 2023년의 최신 인테리어 디자인 트렌드는 천연 소재와 어스톤 컬러 팔레트에 더해, 지속 가능한 디자인이 중요한 요소로 부각될 것으로 예상됩니다. 지속 가능성을 고려한 소재와 디자인 요소들이 주목받을 것으로 보입니다. 2023년의 최신 인테리어 디자인 트렌드로는 천연 소재 활용, 어스톤 컬러 팔레트, 그리고 지속가능한 디자인이 주목받을 것으로 예상됩니다. 이러한 트렌드는 환경을 고려하면서도 자연스러운 디자인과 색상을 선호하는 현대 사회의 가치관을 반영하고 있습니다. 특히 천연 소재의 인기는 가정 내부뿐만 아니라 식물이나 자연의 원소를 활용한 외부 장식에도 영향을 미칠 것으로 예상됩니다. 2023년에는 천연 소재와 어스톤 컬러 팔레트가 여전히 유행할 것으로 예상됩니다. 또한, 친환경적이고 지속 가능한 디자인이 더욱 중요시되며, 실내 공간에서 식물을 활용한 자연친화적 디자인이 강조될 것으로 보입니다. 또한, 디지털 기술과 전통적 요소를 결합한 현대적이면서도 따뜻한 느낌의 복합 디자인이 주목받을 것으로 예상됩니다.\n",
            "2023년의 최신 인테리어 디자인 트렌드가 무엇인가요? 2023년의 인기 있는 인테리어 디자인 트렌드는 어떤 것이 있을까요?\n",
            "[580]\n"
          ]
        }
      ]
    },
    {
      "cell_type": "code",
      "source": [
        "from llama_index.finetuning import EmbeddingQAFinetuneDataset\n",
        "\n",
        "train_dataset = EmbeddingQAFinetuneDataset(queries=queries_train, corpus=corpus_train, relevant_docs=relevant_docs_train)\n",
        "val_dataset = EmbeddingQAFinetuneDataset(queries=queries_val, corpus=corpus_val, relevant_docs=relevant_docs_val)\n"
      ],
      "metadata": {
        "id": "XioF1fxVuU-R"
      },
      "execution_count": null,
      "outputs": []
    },
    {
      "cell_type": "code",
      "source": [
        "# train_dataset"
      ],
      "metadata": {
        "id": "pCmijT6by-a3"
      },
      "execution_count": null,
      "outputs": []
    },
    {
      "cell_type": "code",
      "source": [
        "from llama_index.finetuning import SentenceTransformersFinetuneEngine\n",
        "\n",
        "finetune_engine = SentenceTransformersFinetuneEngine(\n",
        "    train_dataset, # Dataset to be trained on\n",
        "    model_id=\"BAAI/bge-m3\", # HuggingFace reference to base embeddings model\n",
        "    model_output_path=\"./finetuned-bge-m3\", # Output directory for fine-tuned embeddings model\n",
        "    val_dataset=val_dataset, # Dataset to validate on\n",
        "    epochs=2, # Number of Epochs to train for\n",
        "    batch_size=1\n",
        ")"
      ],
      "metadata": {
        "colab": {
          "base_uri": "https://localhost:8080/"
        },
        "id": "OaqHAEdE0Lxk",
        "outputId": "7e0c5425-a8f1-48fa-8e90-408a9fc61498"
      },
      "execution_count": null,
      "outputs": [
        {
          "output_type": "stream",
          "name": "stderr",
          "text": [
            "/usr/local/lib/python3.10/dist-packages/huggingface_hub/utils/_token.py:88: UserWarning: \n",
            "The secret `HF_TOKEN` does not exist in your Colab secrets.\n",
            "To authenticate with the Hugging Face Hub, create a token in your settings tab (https://huggingface.co/settings/tokens), set it as secret in your Google Colab and restart your session.\n",
            "You will be able to reuse this secret in all of your notebooks.\n",
            "Please note that authentication is recommended but still optional to access public models or datasets.\n",
            "  warnings.warn(\n"
          ]
        }
      ]
    },
    {
      "cell_type": "code",
      "source": [
        "finetune_engine.finetune()"
      ],
      "metadata": {
        "colab": {
          "base_uri": "https://localhost:8080/",
          "height": 403,
          "referenced_widgets": [
            "959783434a1149b39d582d3b1df2b18f",
            "f9942865f243498eb16206c4a49264b3",
            "6252930956a04f729645a171620888dd",
            "7bc7b8075dc84425a4bd6b93bc156ee0",
            "51031bd69157480395609081eb561ccd",
            "418a30d50b264fa5bd97798b97ea3fec",
            "c6ee446390a043c3918cb40069062db2",
            "35523be630144aeab894537362787288",
            "71a91f72672a483cb96587c96174cbc3",
            "bada1fb36c284e8fb2361e4336349844",
            "f9206e066c794d958c7eff4eb0f4aaa8",
            "e7f14d67e25f40ca83a5c98f07d3f082",
            "1c8d258544614e7b88eefab1af473a37",
            "f1e36909d8da4b7caf2d765bd054904c",
            "c18ffd0f7eaa40568d2701d225bcf5c6",
            "d97dd7e7ff924dc1a125ecf6d9beba96",
            "d3d40fc5cc644b55a957e2455f2b28eb",
            "063558a80c2d4b519bcf5d27472ae257",
            "604dd32b92544db9928e900f007c4534",
            "c7939a33962b4d0db3f4fa566ed0e973",
            "40f928bac2d4412fa49dec8ce7778744",
            "4cfccbbfbd874892a23eec6ff42a21c6"
          ]
        },
        "id": "XAyxf7Nr0WeL",
        "outputId": "f9c0321b-a2e9-42a9-c1fd-fd769097106e"
      },
      "execution_count": null,
      "outputs": [
        {
          "output_type": "display_data",
          "data": {
            "text/plain": [
              "Epoch:   0%|          | 0/2 [00:00<?, ?it/s]"
            ],
            "application/vnd.jupyter.widget-view+json": {
              "version_major": 2,
              "version_minor": 0,
              "model_id": "959783434a1149b39d582d3b1df2b18f"
            }
          },
          "metadata": {}
        },
        {
          "output_type": "display_data",
          "data": {
            "text/plain": [
              "Iteration:   0%|          | 0/580 [00:00<?, ?it/s]"
            ],
            "application/vnd.jupyter.widget-view+json": {
              "version_major": 2,
              "version_minor": 0,
              "model_id": "e7f14d67e25f40ca83a5c98f07d3f082"
            }
          },
          "metadata": {}
        },
        {
          "output_type": "error",
          "ename": "OutOfMemoryError",
          "evalue": "CUDA out of memory. Tried to allocate 126.00 MiB. GPU 0 has a total capacity of 14.75 GiB of which 123.06 MiB is free. Process 28420 has 14.62 GiB memory in use. Of the allocated memory 14.25 GiB is allocated by PyTorch, and 252.85 MiB is reserved by PyTorch but unallocated. If reserved but unallocated memory is large try setting PYTORCH_CUDA_ALLOC_CONF=expandable_segments:True to avoid fragmentation.  See documentation for Memory Management  (https://pytorch.org/docs/stable/notes/cuda.html#environment-variables)",
          "traceback": [
            "\u001b[0;31m---------------------------------------------------------------------------\u001b[0m",
            "\u001b[0;31mOutOfMemoryError\u001b[0m                          Traceback (most recent call last)",
            "\u001b[0;32m<ipython-input-12-7b0550724399>\u001b[0m in \u001b[0;36m<cell line: 1>\u001b[0;34m()\u001b[0m\n\u001b[0;32m----> 1\u001b[0;31m \u001b[0mfinetune_engine\u001b[0m\u001b[0;34m.\u001b[0m\u001b[0mfinetune\u001b[0m\u001b[0;34m(\u001b[0m\u001b[0;34m)\u001b[0m\u001b[0;34m\u001b[0m\u001b[0;34m\u001b[0m\u001b[0m\n\u001b[0m",
            "\u001b[0;32m/usr/local/lib/python3.10/dist-packages/llama_index/finetuning/embeddings/sentence_transformer.py\u001b[0m in \u001b[0;36mfinetune\u001b[0;34m(self, **train_kwargs)\u001b[0m\n\u001b[1;32m     76\u001b[0m     \u001b[0;32mdef\u001b[0m \u001b[0mfinetune\u001b[0m\u001b[0;34m(\u001b[0m\u001b[0mself\u001b[0m\u001b[0;34m,\u001b[0m \u001b[0;34m**\u001b[0m\u001b[0mtrain_kwargs\u001b[0m\u001b[0;34m:\u001b[0m \u001b[0mAny\u001b[0m\u001b[0;34m)\u001b[0m \u001b[0;34m->\u001b[0m \u001b[0;32mNone\u001b[0m\u001b[0;34m:\u001b[0m\u001b[0;34m\u001b[0m\u001b[0;34m\u001b[0m\u001b[0m\n\u001b[1;32m     77\u001b[0m         \u001b[0;34m\"\"\"Finetune model.\"\"\"\u001b[0m\u001b[0;34m\u001b[0m\u001b[0;34m\u001b[0m\u001b[0m\n\u001b[0;32m---> 78\u001b[0;31m         self.model.fit(\n\u001b[0m\u001b[1;32m     79\u001b[0m             \u001b[0mtrain_objectives\u001b[0m\u001b[0;34m=\u001b[0m\u001b[0;34m[\u001b[0m\u001b[0;34m(\u001b[0m\u001b[0mself\u001b[0m\u001b[0;34m.\u001b[0m\u001b[0mloader\u001b[0m\u001b[0;34m,\u001b[0m \u001b[0mself\u001b[0m\u001b[0;34m.\u001b[0m\u001b[0mloss\u001b[0m\u001b[0;34m)\u001b[0m\u001b[0;34m]\u001b[0m\u001b[0;34m,\u001b[0m\u001b[0;34m\u001b[0m\u001b[0;34m\u001b[0m\u001b[0m\n\u001b[1;32m     80\u001b[0m             \u001b[0mepochs\u001b[0m\u001b[0;34m=\u001b[0m\u001b[0mself\u001b[0m\u001b[0;34m.\u001b[0m\u001b[0mepochs\u001b[0m\u001b[0;34m,\u001b[0m\u001b[0;34m\u001b[0m\u001b[0;34m\u001b[0m\u001b[0m\n",
            "\u001b[0;32m/usr/local/lib/python3.10/dist-packages/sentence_transformers/SentenceTransformer.py\u001b[0m in \u001b[0;36mfit\u001b[0;34m(self, train_objectives, evaluator, epochs, steps_per_epoch, scheduler, warmup_steps, optimizer_class, optimizer_params, weight_decay, evaluation_steps, output_path, save_best_model, max_grad_norm, use_amp, callback, show_progress_bar, checkpoint_path, checkpoint_save_steps, checkpoint_save_total_limit)\u001b[0m\n\u001b[1;32m    962\u001b[0m                         \u001b[0mskip_scheduler\u001b[0m \u001b[0;34m=\u001b[0m \u001b[0mscaler\u001b[0m\u001b[0;34m.\u001b[0m\u001b[0mget_scale\u001b[0m\u001b[0;34m(\u001b[0m\u001b[0;34m)\u001b[0m \u001b[0;34m!=\u001b[0m \u001b[0mscale_before_step\u001b[0m\u001b[0;34m\u001b[0m\u001b[0;34m\u001b[0m\u001b[0m\n\u001b[1;32m    963\u001b[0m                     \u001b[0;32melse\u001b[0m\u001b[0;34m:\u001b[0m\u001b[0;34m\u001b[0m\u001b[0;34m\u001b[0m\u001b[0m\n\u001b[0;32m--> 964\u001b[0;31m                         \u001b[0mloss_value\u001b[0m \u001b[0;34m=\u001b[0m \u001b[0mloss_model\u001b[0m\u001b[0;34m(\u001b[0m\u001b[0mfeatures\u001b[0m\u001b[0;34m,\u001b[0m \u001b[0mlabels\u001b[0m\u001b[0;34m)\u001b[0m\u001b[0;34m\u001b[0m\u001b[0;34m\u001b[0m\u001b[0m\n\u001b[0m\u001b[1;32m    965\u001b[0m                         \u001b[0mloss_value\u001b[0m\u001b[0;34m.\u001b[0m\u001b[0mbackward\u001b[0m\u001b[0;34m(\u001b[0m\u001b[0;34m)\u001b[0m\u001b[0;34m\u001b[0m\u001b[0;34m\u001b[0m\u001b[0m\n\u001b[1;32m    966\u001b[0m                         \u001b[0mtorch\u001b[0m\u001b[0;34m.\u001b[0m\u001b[0mnn\u001b[0m\u001b[0;34m.\u001b[0m\u001b[0mutils\u001b[0m\u001b[0;34m.\u001b[0m\u001b[0mclip_grad_norm_\u001b[0m\u001b[0;34m(\u001b[0m\u001b[0mloss_model\u001b[0m\u001b[0;34m.\u001b[0m\u001b[0mparameters\u001b[0m\u001b[0;34m(\u001b[0m\u001b[0;34m)\u001b[0m\u001b[0;34m,\u001b[0m \u001b[0mmax_grad_norm\u001b[0m\u001b[0;34m)\u001b[0m\u001b[0;34m\u001b[0m\u001b[0;34m\u001b[0m\u001b[0m\n",
            "\u001b[0;32m/usr/local/lib/python3.10/dist-packages/torch/nn/modules/module.py\u001b[0m in \u001b[0;36m_wrapped_call_impl\u001b[0;34m(self, *args, **kwargs)\u001b[0m\n\u001b[1;32m   1509\u001b[0m             \u001b[0;32mreturn\u001b[0m \u001b[0mself\u001b[0m\u001b[0;34m.\u001b[0m\u001b[0m_compiled_call_impl\u001b[0m\u001b[0;34m(\u001b[0m\u001b[0;34m*\u001b[0m\u001b[0margs\u001b[0m\u001b[0;34m,\u001b[0m \u001b[0;34m**\u001b[0m\u001b[0mkwargs\u001b[0m\u001b[0;34m)\u001b[0m  \u001b[0;31m# type: ignore[misc]\u001b[0m\u001b[0;34m\u001b[0m\u001b[0;34m\u001b[0m\u001b[0m\n\u001b[1;32m   1510\u001b[0m         \u001b[0;32melse\u001b[0m\u001b[0;34m:\u001b[0m\u001b[0;34m\u001b[0m\u001b[0;34m\u001b[0m\u001b[0m\n\u001b[0;32m-> 1511\u001b[0;31m             \u001b[0;32mreturn\u001b[0m \u001b[0mself\u001b[0m\u001b[0;34m.\u001b[0m\u001b[0m_call_impl\u001b[0m\u001b[0;34m(\u001b[0m\u001b[0;34m*\u001b[0m\u001b[0margs\u001b[0m\u001b[0;34m,\u001b[0m \u001b[0;34m**\u001b[0m\u001b[0mkwargs\u001b[0m\u001b[0;34m)\u001b[0m\u001b[0;34m\u001b[0m\u001b[0;34m\u001b[0m\u001b[0m\n\u001b[0m\u001b[1;32m   1512\u001b[0m \u001b[0;34m\u001b[0m\u001b[0m\n\u001b[1;32m   1513\u001b[0m     \u001b[0;32mdef\u001b[0m \u001b[0m_call_impl\u001b[0m\u001b[0;34m(\u001b[0m\u001b[0mself\u001b[0m\u001b[0;34m,\u001b[0m \u001b[0;34m*\u001b[0m\u001b[0margs\u001b[0m\u001b[0;34m,\u001b[0m \u001b[0;34m**\u001b[0m\u001b[0mkwargs\u001b[0m\u001b[0;34m)\u001b[0m\u001b[0;34m:\u001b[0m\u001b[0;34m\u001b[0m\u001b[0;34m\u001b[0m\u001b[0m\n",
            "\u001b[0;32m/usr/local/lib/python3.10/dist-packages/torch/nn/modules/module.py\u001b[0m in \u001b[0;36m_call_impl\u001b[0;34m(self, *args, **kwargs)\u001b[0m\n\u001b[1;32m   1518\u001b[0m                 \u001b[0;32mor\u001b[0m \u001b[0m_global_backward_pre_hooks\u001b[0m \u001b[0;32mor\u001b[0m \u001b[0m_global_backward_hooks\u001b[0m\u001b[0;34m\u001b[0m\u001b[0;34m\u001b[0m\u001b[0m\n\u001b[1;32m   1519\u001b[0m                 or _global_forward_hooks or _global_forward_pre_hooks):\n\u001b[0;32m-> 1520\u001b[0;31m             \u001b[0;32mreturn\u001b[0m \u001b[0mforward_call\u001b[0m\u001b[0;34m(\u001b[0m\u001b[0;34m*\u001b[0m\u001b[0margs\u001b[0m\u001b[0;34m,\u001b[0m \u001b[0;34m**\u001b[0m\u001b[0mkwargs\u001b[0m\u001b[0;34m)\u001b[0m\u001b[0;34m\u001b[0m\u001b[0;34m\u001b[0m\u001b[0m\n\u001b[0m\u001b[1;32m   1521\u001b[0m \u001b[0;34m\u001b[0m\u001b[0m\n\u001b[1;32m   1522\u001b[0m         \u001b[0;32mtry\u001b[0m\u001b[0;34m:\u001b[0m\u001b[0;34m\u001b[0m\u001b[0;34m\u001b[0m\u001b[0m\n",
            "\u001b[0;32m/usr/local/lib/python3.10/dist-packages/sentence_transformers/losses/MultipleNegativesRankingLoss.py\u001b[0m in \u001b[0;36mforward\u001b[0;34m(self, sentence_features, labels)\u001b[0m\n\u001b[1;32m     81\u001b[0m \u001b[0;34m\u001b[0m\u001b[0m\n\u001b[1;32m     82\u001b[0m     \u001b[0;32mdef\u001b[0m \u001b[0mforward\u001b[0m\u001b[0;34m(\u001b[0m\u001b[0mself\u001b[0m\u001b[0;34m,\u001b[0m \u001b[0msentence_features\u001b[0m\u001b[0;34m:\u001b[0m \u001b[0mIterable\u001b[0m\u001b[0;34m[\u001b[0m\u001b[0mDict\u001b[0m\u001b[0;34m[\u001b[0m\u001b[0mstr\u001b[0m\u001b[0;34m,\u001b[0m \u001b[0mTensor\u001b[0m\u001b[0;34m]\u001b[0m\u001b[0;34m]\u001b[0m\u001b[0;34m,\u001b[0m \u001b[0mlabels\u001b[0m\u001b[0;34m:\u001b[0m \u001b[0mTensor\u001b[0m\u001b[0;34m)\u001b[0m\u001b[0;34m:\u001b[0m\u001b[0;34m\u001b[0m\u001b[0;34m\u001b[0m\u001b[0m\n\u001b[0;32m---> 83\u001b[0;31m         \u001b[0mreps\u001b[0m \u001b[0;34m=\u001b[0m \u001b[0;34m[\u001b[0m\u001b[0mself\u001b[0m\u001b[0;34m.\u001b[0m\u001b[0mmodel\u001b[0m\u001b[0;34m(\u001b[0m\u001b[0msentence_feature\u001b[0m\u001b[0;34m)\u001b[0m\u001b[0;34m[\u001b[0m\u001b[0;34m\"sentence_embedding\"\u001b[0m\u001b[0;34m]\u001b[0m \u001b[0;32mfor\u001b[0m \u001b[0msentence_feature\u001b[0m \u001b[0;32min\u001b[0m \u001b[0msentence_features\u001b[0m\u001b[0;34m]\u001b[0m\u001b[0;34m\u001b[0m\u001b[0;34m\u001b[0m\u001b[0m\n\u001b[0m\u001b[1;32m     84\u001b[0m         \u001b[0membeddings_a\u001b[0m \u001b[0;34m=\u001b[0m \u001b[0mreps\u001b[0m\u001b[0;34m[\u001b[0m\u001b[0;36m0\u001b[0m\u001b[0;34m]\u001b[0m\u001b[0;34m\u001b[0m\u001b[0;34m\u001b[0m\u001b[0m\n\u001b[1;32m     85\u001b[0m         \u001b[0membeddings_b\u001b[0m \u001b[0;34m=\u001b[0m \u001b[0mtorch\u001b[0m\u001b[0;34m.\u001b[0m\u001b[0mcat\u001b[0m\u001b[0;34m(\u001b[0m\u001b[0mreps\u001b[0m\u001b[0;34m[\u001b[0m\u001b[0;36m1\u001b[0m\u001b[0;34m:\u001b[0m\u001b[0;34m]\u001b[0m\u001b[0;34m)\u001b[0m\u001b[0;34m\u001b[0m\u001b[0;34m\u001b[0m\u001b[0m\n",
            "\u001b[0;32m/usr/local/lib/python3.10/dist-packages/sentence_transformers/losses/MultipleNegativesRankingLoss.py\u001b[0m in \u001b[0;36m<listcomp>\u001b[0;34m(.0)\u001b[0m\n\u001b[1;32m     81\u001b[0m \u001b[0;34m\u001b[0m\u001b[0m\n\u001b[1;32m     82\u001b[0m     \u001b[0;32mdef\u001b[0m \u001b[0mforward\u001b[0m\u001b[0;34m(\u001b[0m\u001b[0mself\u001b[0m\u001b[0;34m,\u001b[0m \u001b[0msentence_features\u001b[0m\u001b[0;34m:\u001b[0m \u001b[0mIterable\u001b[0m\u001b[0;34m[\u001b[0m\u001b[0mDict\u001b[0m\u001b[0;34m[\u001b[0m\u001b[0mstr\u001b[0m\u001b[0;34m,\u001b[0m \u001b[0mTensor\u001b[0m\u001b[0;34m]\u001b[0m\u001b[0;34m]\u001b[0m\u001b[0;34m,\u001b[0m \u001b[0mlabels\u001b[0m\u001b[0;34m:\u001b[0m \u001b[0mTensor\u001b[0m\u001b[0;34m)\u001b[0m\u001b[0;34m:\u001b[0m\u001b[0;34m\u001b[0m\u001b[0;34m\u001b[0m\u001b[0m\n\u001b[0;32m---> 83\u001b[0;31m         \u001b[0mreps\u001b[0m \u001b[0;34m=\u001b[0m \u001b[0;34m[\u001b[0m\u001b[0mself\u001b[0m\u001b[0;34m.\u001b[0m\u001b[0mmodel\u001b[0m\u001b[0;34m(\u001b[0m\u001b[0msentence_feature\u001b[0m\u001b[0;34m)\u001b[0m\u001b[0;34m[\u001b[0m\u001b[0;34m\"sentence_embedding\"\u001b[0m\u001b[0;34m]\u001b[0m \u001b[0;32mfor\u001b[0m \u001b[0msentence_feature\u001b[0m \u001b[0;32min\u001b[0m \u001b[0msentence_features\u001b[0m\u001b[0;34m]\u001b[0m\u001b[0;34m\u001b[0m\u001b[0;34m\u001b[0m\u001b[0m\n\u001b[0m\u001b[1;32m     84\u001b[0m         \u001b[0membeddings_a\u001b[0m \u001b[0;34m=\u001b[0m \u001b[0mreps\u001b[0m\u001b[0;34m[\u001b[0m\u001b[0;36m0\u001b[0m\u001b[0;34m]\u001b[0m\u001b[0;34m\u001b[0m\u001b[0;34m\u001b[0m\u001b[0m\n\u001b[1;32m     85\u001b[0m         \u001b[0membeddings_b\u001b[0m \u001b[0;34m=\u001b[0m \u001b[0mtorch\u001b[0m\u001b[0;34m.\u001b[0m\u001b[0mcat\u001b[0m\u001b[0;34m(\u001b[0m\u001b[0mreps\u001b[0m\u001b[0;34m[\u001b[0m\u001b[0;36m1\u001b[0m\u001b[0;34m:\u001b[0m\u001b[0;34m]\u001b[0m\u001b[0;34m)\u001b[0m\u001b[0;34m\u001b[0m\u001b[0;34m\u001b[0m\u001b[0m\n",
            "\u001b[0;32m/usr/local/lib/python3.10/dist-packages/torch/nn/modules/module.py\u001b[0m in \u001b[0;36m_wrapped_call_impl\u001b[0;34m(self, *args, **kwargs)\u001b[0m\n\u001b[1;32m   1509\u001b[0m             \u001b[0;32mreturn\u001b[0m \u001b[0mself\u001b[0m\u001b[0;34m.\u001b[0m\u001b[0m_compiled_call_impl\u001b[0m\u001b[0;34m(\u001b[0m\u001b[0;34m*\u001b[0m\u001b[0margs\u001b[0m\u001b[0;34m,\u001b[0m \u001b[0;34m**\u001b[0m\u001b[0mkwargs\u001b[0m\u001b[0;34m)\u001b[0m  \u001b[0;31m# type: ignore[misc]\u001b[0m\u001b[0;34m\u001b[0m\u001b[0;34m\u001b[0m\u001b[0m\n\u001b[1;32m   1510\u001b[0m         \u001b[0;32melse\u001b[0m\u001b[0;34m:\u001b[0m\u001b[0;34m\u001b[0m\u001b[0;34m\u001b[0m\u001b[0m\n\u001b[0;32m-> 1511\u001b[0;31m             \u001b[0;32mreturn\u001b[0m \u001b[0mself\u001b[0m\u001b[0;34m.\u001b[0m\u001b[0m_call_impl\u001b[0m\u001b[0;34m(\u001b[0m\u001b[0;34m*\u001b[0m\u001b[0margs\u001b[0m\u001b[0;34m,\u001b[0m \u001b[0;34m**\u001b[0m\u001b[0mkwargs\u001b[0m\u001b[0;34m)\u001b[0m\u001b[0;34m\u001b[0m\u001b[0;34m\u001b[0m\u001b[0m\n\u001b[0m\u001b[1;32m   1512\u001b[0m \u001b[0;34m\u001b[0m\u001b[0m\n\u001b[1;32m   1513\u001b[0m     \u001b[0;32mdef\u001b[0m \u001b[0m_call_impl\u001b[0m\u001b[0;34m(\u001b[0m\u001b[0mself\u001b[0m\u001b[0;34m,\u001b[0m \u001b[0;34m*\u001b[0m\u001b[0margs\u001b[0m\u001b[0;34m,\u001b[0m \u001b[0;34m**\u001b[0m\u001b[0mkwargs\u001b[0m\u001b[0;34m)\u001b[0m\u001b[0;34m:\u001b[0m\u001b[0;34m\u001b[0m\u001b[0;34m\u001b[0m\u001b[0m\n",
            "\u001b[0;32m/usr/local/lib/python3.10/dist-packages/torch/nn/modules/module.py\u001b[0m in \u001b[0;36m_call_impl\u001b[0;34m(self, *args, **kwargs)\u001b[0m\n\u001b[1;32m   1518\u001b[0m                 \u001b[0;32mor\u001b[0m \u001b[0m_global_backward_pre_hooks\u001b[0m \u001b[0;32mor\u001b[0m \u001b[0m_global_backward_hooks\u001b[0m\u001b[0;34m\u001b[0m\u001b[0;34m\u001b[0m\u001b[0m\n\u001b[1;32m   1519\u001b[0m                 or _global_forward_hooks or _global_forward_pre_hooks):\n\u001b[0;32m-> 1520\u001b[0;31m             \u001b[0;32mreturn\u001b[0m \u001b[0mforward_call\u001b[0m\u001b[0;34m(\u001b[0m\u001b[0;34m*\u001b[0m\u001b[0margs\u001b[0m\u001b[0;34m,\u001b[0m \u001b[0;34m**\u001b[0m\u001b[0mkwargs\u001b[0m\u001b[0;34m)\u001b[0m\u001b[0;34m\u001b[0m\u001b[0;34m\u001b[0m\u001b[0m\n\u001b[0m\u001b[1;32m   1521\u001b[0m \u001b[0;34m\u001b[0m\u001b[0m\n\u001b[1;32m   1522\u001b[0m         \u001b[0;32mtry\u001b[0m\u001b[0;34m:\u001b[0m\u001b[0;34m\u001b[0m\u001b[0;34m\u001b[0m\u001b[0m\n",
            "\u001b[0;32m/usr/local/lib/python3.10/dist-packages/torch/nn/modules/container.py\u001b[0m in \u001b[0;36mforward\u001b[0;34m(self, input)\u001b[0m\n\u001b[1;32m    215\u001b[0m     \u001b[0;32mdef\u001b[0m \u001b[0mforward\u001b[0m\u001b[0;34m(\u001b[0m\u001b[0mself\u001b[0m\u001b[0;34m,\u001b[0m \u001b[0minput\u001b[0m\u001b[0;34m)\u001b[0m\u001b[0;34m:\u001b[0m\u001b[0;34m\u001b[0m\u001b[0;34m\u001b[0m\u001b[0m\n\u001b[1;32m    216\u001b[0m         \u001b[0;32mfor\u001b[0m \u001b[0mmodule\u001b[0m \u001b[0;32min\u001b[0m \u001b[0mself\u001b[0m\u001b[0;34m:\u001b[0m\u001b[0;34m\u001b[0m\u001b[0;34m\u001b[0m\u001b[0m\n\u001b[0;32m--> 217\u001b[0;31m             \u001b[0minput\u001b[0m \u001b[0;34m=\u001b[0m \u001b[0mmodule\u001b[0m\u001b[0;34m(\u001b[0m\u001b[0minput\u001b[0m\u001b[0;34m)\u001b[0m\u001b[0;34m\u001b[0m\u001b[0;34m\u001b[0m\u001b[0m\n\u001b[0m\u001b[1;32m    218\u001b[0m         \u001b[0;32mreturn\u001b[0m \u001b[0minput\u001b[0m\u001b[0;34m\u001b[0m\u001b[0;34m\u001b[0m\u001b[0m\n\u001b[1;32m    219\u001b[0m \u001b[0;34m\u001b[0m\u001b[0m\n",
            "\u001b[0;32m/usr/local/lib/python3.10/dist-packages/torch/nn/modules/module.py\u001b[0m in \u001b[0;36m_wrapped_call_impl\u001b[0;34m(self, *args, **kwargs)\u001b[0m\n\u001b[1;32m   1509\u001b[0m             \u001b[0;32mreturn\u001b[0m \u001b[0mself\u001b[0m\u001b[0;34m.\u001b[0m\u001b[0m_compiled_call_impl\u001b[0m\u001b[0;34m(\u001b[0m\u001b[0;34m*\u001b[0m\u001b[0margs\u001b[0m\u001b[0;34m,\u001b[0m \u001b[0;34m**\u001b[0m\u001b[0mkwargs\u001b[0m\u001b[0;34m)\u001b[0m  \u001b[0;31m# type: ignore[misc]\u001b[0m\u001b[0;34m\u001b[0m\u001b[0;34m\u001b[0m\u001b[0m\n\u001b[1;32m   1510\u001b[0m         \u001b[0;32melse\u001b[0m\u001b[0;34m:\u001b[0m\u001b[0;34m\u001b[0m\u001b[0;34m\u001b[0m\u001b[0m\n\u001b[0;32m-> 1511\u001b[0;31m             \u001b[0;32mreturn\u001b[0m \u001b[0mself\u001b[0m\u001b[0;34m.\u001b[0m\u001b[0m_call_impl\u001b[0m\u001b[0;34m(\u001b[0m\u001b[0;34m*\u001b[0m\u001b[0margs\u001b[0m\u001b[0;34m,\u001b[0m \u001b[0;34m**\u001b[0m\u001b[0mkwargs\u001b[0m\u001b[0;34m)\u001b[0m\u001b[0;34m\u001b[0m\u001b[0;34m\u001b[0m\u001b[0m\n\u001b[0m\u001b[1;32m   1512\u001b[0m \u001b[0;34m\u001b[0m\u001b[0m\n\u001b[1;32m   1513\u001b[0m     \u001b[0;32mdef\u001b[0m \u001b[0m_call_impl\u001b[0m\u001b[0;34m(\u001b[0m\u001b[0mself\u001b[0m\u001b[0;34m,\u001b[0m \u001b[0;34m*\u001b[0m\u001b[0margs\u001b[0m\u001b[0;34m,\u001b[0m \u001b[0;34m**\u001b[0m\u001b[0mkwargs\u001b[0m\u001b[0;34m)\u001b[0m\u001b[0;34m:\u001b[0m\u001b[0;34m\u001b[0m\u001b[0;34m\u001b[0m\u001b[0m\n",
            "\u001b[0;32m/usr/local/lib/python3.10/dist-packages/torch/nn/modules/module.py\u001b[0m in \u001b[0;36m_call_impl\u001b[0;34m(self, *args, **kwargs)\u001b[0m\n\u001b[1;32m   1518\u001b[0m                 \u001b[0;32mor\u001b[0m \u001b[0m_global_backward_pre_hooks\u001b[0m \u001b[0;32mor\u001b[0m \u001b[0m_global_backward_hooks\u001b[0m\u001b[0;34m\u001b[0m\u001b[0;34m\u001b[0m\u001b[0m\n\u001b[1;32m   1519\u001b[0m                 or _global_forward_hooks or _global_forward_pre_hooks):\n\u001b[0;32m-> 1520\u001b[0;31m             \u001b[0;32mreturn\u001b[0m \u001b[0mforward_call\u001b[0m\u001b[0;34m(\u001b[0m\u001b[0;34m*\u001b[0m\u001b[0margs\u001b[0m\u001b[0;34m,\u001b[0m \u001b[0;34m**\u001b[0m\u001b[0mkwargs\u001b[0m\u001b[0;34m)\u001b[0m\u001b[0;34m\u001b[0m\u001b[0;34m\u001b[0m\u001b[0m\n\u001b[0m\u001b[1;32m   1521\u001b[0m \u001b[0;34m\u001b[0m\u001b[0m\n\u001b[1;32m   1522\u001b[0m         \u001b[0;32mtry\u001b[0m\u001b[0;34m:\u001b[0m\u001b[0;34m\u001b[0m\u001b[0;34m\u001b[0m\u001b[0m\n",
            "\u001b[0;32m/usr/local/lib/python3.10/dist-packages/sentence_transformers/models/Transformer.py\u001b[0m in \u001b[0;36mforward\u001b[0;34m(self, features)\u001b[0m\n\u001b[1;32m     96\u001b[0m             \u001b[0mtrans_features\u001b[0m\u001b[0;34m[\u001b[0m\u001b[0;34m\"token_type_ids\"\u001b[0m\u001b[0;34m]\u001b[0m \u001b[0;34m=\u001b[0m \u001b[0mfeatures\u001b[0m\u001b[0;34m[\u001b[0m\u001b[0;34m\"token_type_ids\"\u001b[0m\u001b[0;34m]\u001b[0m\u001b[0;34m\u001b[0m\u001b[0;34m\u001b[0m\u001b[0m\n\u001b[1;32m     97\u001b[0m \u001b[0;34m\u001b[0m\u001b[0m\n\u001b[0;32m---> 98\u001b[0;31m         \u001b[0moutput_states\u001b[0m \u001b[0;34m=\u001b[0m \u001b[0mself\u001b[0m\u001b[0;34m.\u001b[0m\u001b[0mauto_model\u001b[0m\u001b[0;34m(\u001b[0m\u001b[0;34m**\u001b[0m\u001b[0mtrans_features\u001b[0m\u001b[0;34m,\u001b[0m \u001b[0mreturn_dict\u001b[0m\u001b[0;34m=\u001b[0m\u001b[0;32mFalse\u001b[0m\u001b[0;34m)\u001b[0m\u001b[0;34m\u001b[0m\u001b[0;34m\u001b[0m\u001b[0m\n\u001b[0m\u001b[1;32m     99\u001b[0m         \u001b[0moutput_tokens\u001b[0m \u001b[0;34m=\u001b[0m \u001b[0moutput_states\u001b[0m\u001b[0;34m[\u001b[0m\u001b[0;36m0\u001b[0m\u001b[0;34m]\u001b[0m\u001b[0;34m\u001b[0m\u001b[0;34m\u001b[0m\u001b[0m\n\u001b[1;32m    100\u001b[0m \u001b[0;34m\u001b[0m\u001b[0m\n",
            "\u001b[0;32m/usr/local/lib/python3.10/dist-packages/torch/nn/modules/module.py\u001b[0m in \u001b[0;36m_wrapped_call_impl\u001b[0;34m(self, *args, **kwargs)\u001b[0m\n\u001b[1;32m   1509\u001b[0m             \u001b[0;32mreturn\u001b[0m \u001b[0mself\u001b[0m\u001b[0;34m.\u001b[0m\u001b[0m_compiled_call_impl\u001b[0m\u001b[0;34m(\u001b[0m\u001b[0;34m*\u001b[0m\u001b[0margs\u001b[0m\u001b[0;34m,\u001b[0m \u001b[0;34m**\u001b[0m\u001b[0mkwargs\u001b[0m\u001b[0;34m)\u001b[0m  \u001b[0;31m# type: ignore[misc]\u001b[0m\u001b[0;34m\u001b[0m\u001b[0;34m\u001b[0m\u001b[0m\n\u001b[1;32m   1510\u001b[0m         \u001b[0;32melse\u001b[0m\u001b[0;34m:\u001b[0m\u001b[0;34m\u001b[0m\u001b[0;34m\u001b[0m\u001b[0m\n\u001b[0;32m-> 1511\u001b[0;31m             \u001b[0;32mreturn\u001b[0m \u001b[0mself\u001b[0m\u001b[0;34m.\u001b[0m\u001b[0m_call_impl\u001b[0m\u001b[0;34m(\u001b[0m\u001b[0;34m*\u001b[0m\u001b[0margs\u001b[0m\u001b[0;34m,\u001b[0m \u001b[0;34m**\u001b[0m\u001b[0mkwargs\u001b[0m\u001b[0;34m)\u001b[0m\u001b[0;34m\u001b[0m\u001b[0;34m\u001b[0m\u001b[0m\n\u001b[0m\u001b[1;32m   1512\u001b[0m \u001b[0;34m\u001b[0m\u001b[0m\n\u001b[1;32m   1513\u001b[0m     \u001b[0;32mdef\u001b[0m \u001b[0m_call_impl\u001b[0m\u001b[0;34m(\u001b[0m\u001b[0mself\u001b[0m\u001b[0;34m,\u001b[0m \u001b[0;34m*\u001b[0m\u001b[0margs\u001b[0m\u001b[0;34m,\u001b[0m \u001b[0;34m**\u001b[0m\u001b[0mkwargs\u001b[0m\u001b[0;34m)\u001b[0m\u001b[0;34m:\u001b[0m\u001b[0;34m\u001b[0m\u001b[0;34m\u001b[0m\u001b[0m\n",
            "\u001b[0;32m/usr/local/lib/python3.10/dist-packages/torch/nn/modules/module.py\u001b[0m in \u001b[0;36m_call_impl\u001b[0;34m(self, *args, **kwargs)\u001b[0m\n\u001b[1;32m   1518\u001b[0m                 \u001b[0;32mor\u001b[0m \u001b[0m_global_backward_pre_hooks\u001b[0m \u001b[0;32mor\u001b[0m \u001b[0m_global_backward_hooks\u001b[0m\u001b[0;34m\u001b[0m\u001b[0;34m\u001b[0m\u001b[0m\n\u001b[1;32m   1519\u001b[0m                 or _global_forward_hooks or _global_forward_pre_hooks):\n\u001b[0;32m-> 1520\u001b[0;31m             \u001b[0;32mreturn\u001b[0m \u001b[0mforward_call\u001b[0m\u001b[0;34m(\u001b[0m\u001b[0;34m*\u001b[0m\u001b[0margs\u001b[0m\u001b[0;34m,\u001b[0m \u001b[0;34m**\u001b[0m\u001b[0mkwargs\u001b[0m\u001b[0;34m)\u001b[0m\u001b[0;34m\u001b[0m\u001b[0;34m\u001b[0m\u001b[0m\n\u001b[0m\u001b[1;32m   1521\u001b[0m \u001b[0;34m\u001b[0m\u001b[0m\n\u001b[1;32m   1522\u001b[0m         \u001b[0;32mtry\u001b[0m\u001b[0;34m:\u001b[0m\u001b[0;34m\u001b[0m\u001b[0;34m\u001b[0m\u001b[0m\n",
            "\u001b[0;32m/usr/local/lib/python3.10/dist-packages/transformers/models/xlm_roberta/modeling_xlm_roberta.py\u001b[0m in \u001b[0;36mforward\u001b[0;34m(self, input_ids, attention_mask, token_type_ids, position_ids, head_mask, inputs_embeds, encoder_hidden_states, encoder_attention_mask, past_key_values, use_cache, output_attentions, output_hidden_states, return_dict)\u001b[0m\n\u001b[1;32m    835\u001b[0m             \u001b[0mpast_key_values_length\u001b[0m\u001b[0;34m=\u001b[0m\u001b[0mpast_key_values_length\u001b[0m\u001b[0;34m,\u001b[0m\u001b[0;34m\u001b[0m\u001b[0;34m\u001b[0m\u001b[0m\n\u001b[1;32m    836\u001b[0m         )\n\u001b[0;32m--> 837\u001b[0;31m         encoder_outputs = self.encoder(\n\u001b[0m\u001b[1;32m    838\u001b[0m             \u001b[0membedding_output\u001b[0m\u001b[0;34m,\u001b[0m\u001b[0;34m\u001b[0m\u001b[0;34m\u001b[0m\u001b[0m\n\u001b[1;32m    839\u001b[0m             \u001b[0mattention_mask\u001b[0m\u001b[0;34m=\u001b[0m\u001b[0mextended_attention_mask\u001b[0m\u001b[0;34m,\u001b[0m\u001b[0;34m\u001b[0m\u001b[0;34m\u001b[0m\u001b[0m\n",
            "\u001b[0;32m/usr/local/lib/python3.10/dist-packages/torch/nn/modules/module.py\u001b[0m in \u001b[0;36m_wrapped_call_impl\u001b[0;34m(self, *args, **kwargs)\u001b[0m\n\u001b[1;32m   1509\u001b[0m             \u001b[0;32mreturn\u001b[0m \u001b[0mself\u001b[0m\u001b[0;34m.\u001b[0m\u001b[0m_compiled_call_impl\u001b[0m\u001b[0;34m(\u001b[0m\u001b[0;34m*\u001b[0m\u001b[0margs\u001b[0m\u001b[0;34m,\u001b[0m \u001b[0;34m**\u001b[0m\u001b[0mkwargs\u001b[0m\u001b[0;34m)\u001b[0m  \u001b[0;31m# type: ignore[misc]\u001b[0m\u001b[0;34m\u001b[0m\u001b[0;34m\u001b[0m\u001b[0m\n\u001b[1;32m   1510\u001b[0m         \u001b[0;32melse\u001b[0m\u001b[0;34m:\u001b[0m\u001b[0;34m\u001b[0m\u001b[0;34m\u001b[0m\u001b[0m\n\u001b[0;32m-> 1511\u001b[0;31m             \u001b[0;32mreturn\u001b[0m \u001b[0mself\u001b[0m\u001b[0;34m.\u001b[0m\u001b[0m_call_impl\u001b[0m\u001b[0;34m(\u001b[0m\u001b[0;34m*\u001b[0m\u001b[0margs\u001b[0m\u001b[0;34m,\u001b[0m \u001b[0;34m**\u001b[0m\u001b[0mkwargs\u001b[0m\u001b[0;34m)\u001b[0m\u001b[0;34m\u001b[0m\u001b[0;34m\u001b[0m\u001b[0m\n\u001b[0m\u001b[1;32m   1512\u001b[0m \u001b[0;34m\u001b[0m\u001b[0m\n\u001b[1;32m   1513\u001b[0m     \u001b[0;32mdef\u001b[0m \u001b[0m_call_impl\u001b[0m\u001b[0;34m(\u001b[0m\u001b[0mself\u001b[0m\u001b[0;34m,\u001b[0m \u001b[0;34m*\u001b[0m\u001b[0margs\u001b[0m\u001b[0;34m,\u001b[0m \u001b[0;34m**\u001b[0m\u001b[0mkwargs\u001b[0m\u001b[0;34m)\u001b[0m\u001b[0;34m:\u001b[0m\u001b[0;34m\u001b[0m\u001b[0;34m\u001b[0m\u001b[0m\n",
            "\u001b[0;32m/usr/local/lib/python3.10/dist-packages/torch/nn/modules/module.py\u001b[0m in \u001b[0;36m_call_impl\u001b[0;34m(self, *args, **kwargs)\u001b[0m\n\u001b[1;32m   1518\u001b[0m                 \u001b[0;32mor\u001b[0m \u001b[0m_global_backward_pre_hooks\u001b[0m \u001b[0;32mor\u001b[0m \u001b[0m_global_backward_hooks\u001b[0m\u001b[0;34m\u001b[0m\u001b[0;34m\u001b[0m\u001b[0m\n\u001b[1;32m   1519\u001b[0m                 or _global_forward_hooks or _global_forward_pre_hooks):\n\u001b[0;32m-> 1520\u001b[0;31m             \u001b[0;32mreturn\u001b[0m \u001b[0mforward_call\u001b[0m\u001b[0;34m(\u001b[0m\u001b[0;34m*\u001b[0m\u001b[0margs\u001b[0m\u001b[0;34m,\u001b[0m \u001b[0;34m**\u001b[0m\u001b[0mkwargs\u001b[0m\u001b[0;34m)\u001b[0m\u001b[0;34m\u001b[0m\u001b[0;34m\u001b[0m\u001b[0m\n\u001b[0m\u001b[1;32m   1521\u001b[0m \u001b[0;34m\u001b[0m\u001b[0m\n\u001b[1;32m   1522\u001b[0m         \u001b[0;32mtry\u001b[0m\u001b[0;34m:\u001b[0m\u001b[0;34m\u001b[0m\u001b[0;34m\u001b[0m\u001b[0m\n",
            "\u001b[0;32m/usr/local/lib/python3.10/dist-packages/transformers/models/xlm_roberta/modeling_xlm_roberta.py\u001b[0m in \u001b[0;36mforward\u001b[0;34m(self, hidden_states, attention_mask, head_mask, encoder_hidden_states, encoder_attention_mask, past_key_values, use_cache, output_attentions, output_hidden_states, return_dict)\u001b[0m\n\u001b[1;32m    523\u001b[0m                 )\n\u001b[1;32m    524\u001b[0m             \u001b[0;32melse\u001b[0m\u001b[0;34m:\u001b[0m\u001b[0;34m\u001b[0m\u001b[0;34m\u001b[0m\u001b[0m\n\u001b[0;32m--> 525\u001b[0;31m                 layer_outputs = layer_module(\n\u001b[0m\u001b[1;32m    526\u001b[0m                     \u001b[0mhidden_states\u001b[0m\u001b[0;34m,\u001b[0m\u001b[0;34m\u001b[0m\u001b[0;34m\u001b[0m\u001b[0m\n\u001b[1;32m    527\u001b[0m                     \u001b[0mattention_mask\u001b[0m\u001b[0;34m,\u001b[0m\u001b[0;34m\u001b[0m\u001b[0;34m\u001b[0m\u001b[0m\n",
            "\u001b[0;32m/usr/local/lib/python3.10/dist-packages/torch/nn/modules/module.py\u001b[0m in \u001b[0;36m_wrapped_call_impl\u001b[0;34m(self, *args, **kwargs)\u001b[0m\n\u001b[1;32m   1509\u001b[0m             \u001b[0;32mreturn\u001b[0m \u001b[0mself\u001b[0m\u001b[0;34m.\u001b[0m\u001b[0m_compiled_call_impl\u001b[0m\u001b[0;34m(\u001b[0m\u001b[0;34m*\u001b[0m\u001b[0margs\u001b[0m\u001b[0;34m,\u001b[0m \u001b[0;34m**\u001b[0m\u001b[0mkwargs\u001b[0m\u001b[0;34m)\u001b[0m  \u001b[0;31m# type: ignore[misc]\u001b[0m\u001b[0;34m\u001b[0m\u001b[0;34m\u001b[0m\u001b[0m\n\u001b[1;32m   1510\u001b[0m         \u001b[0;32melse\u001b[0m\u001b[0;34m:\u001b[0m\u001b[0;34m\u001b[0m\u001b[0;34m\u001b[0m\u001b[0m\n\u001b[0;32m-> 1511\u001b[0;31m             \u001b[0;32mreturn\u001b[0m \u001b[0mself\u001b[0m\u001b[0;34m.\u001b[0m\u001b[0m_call_impl\u001b[0m\u001b[0;34m(\u001b[0m\u001b[0;34m*\u001b[0m\u001b[0margs\u001b[0m\u001b[0;34m,\u001b[0m \u001b[0;34m**\u001b[0m\u001b[0mkwargs\u001b[0m\u001b[0;34m)\u001b[0m\u001b[0;34m\u001b[0m\u001b[0;34m\u001b[0m\u001b[0m\n\u001b[0m\u001b[1;32m   1512\u001b[0m \u001b[0;34m\u001b[0m\u001b[0m\n\u001b[1;32m   1513\u001b[0m     \u001b[0;32mdef\u001b[0m \u001b[0m_call_impl\u001b[0m\u001b[0;34m(\u001b[0m\u001b[0mself\u001b[0m\u001b[0;34m,\u001b[0m \u001b[0;34m*\u001b[0m\u001b[0margs\u001b[0m\u001b[0;34m,\u001b[0m \u001b[0;34m**\u001b[0m\u001b[0mkwargs\u001b[0m\u001b[0;34m)\u001b[0m\u001b[0;34m:\u001b[0m\u001b[0;34m\u001b[0m\u001b[0;34m\u001b[0m\u001b[0m\n",
            "\u001b[0;32m/usr/local/lib/python3.10/dist-packages/torch/nn/modules/module.py\u001b[0m in \u001b[0;36m_call_impl\u001b[0;34m(self, *args, **kwargs)\u001b[0m\n\u001b[1;32m   1518\u001b[0m                 \u001b[0;32mor\u001b[0m \u001b[0m_global_backward_pre_hooks\u001b[0m \u001b[0;32mor\u001b[0m \u001b[0m_global_backward_hooks\u001b[0m\u001b[0;34m\u001b[0m\u001b[0;34m\u001b[0m\u001b[0m\n\u001b[1;32m   1519\u001b[0m                 or _global_forward_hooks or _global_forward_pre_hooks):\n\u001b[0;32m-> 1520\u001b[0;31m             \u001b[0;32mreturn\u001b[0m \u001b[0mforward_call\u001b[0m\u001b[0;34m(\u001b[0m\u001b[0;34m*\u001b[0m\u001b[0margs\u001b[0m\u001b[0;34m,\u001b[0m \u001b[0;34m**\u001b[0m\u001b[0mkwargs\u001b[0m\u001b[0;34m)\u001b[0m\u001b[0;34m\u001b[0m\u001b[0;34m\u001b[0m\u001b[0m\n\u001b[0m\u001b[1;32m   1521\u001b[0m \u001b[0;34m\u001b[0m\u001b[0m\n\u001b[1;32m   1522\u001b[0m         \u001b[0;32mtry\u001b[0m\u001b[0;34m:\u001b[0m\u001b[0;34m\u001b[0m\u001b[0;34m\u001b[0m\u001b[0m\n",
            "\u001b[0;32m/usr/local/lib/python3.10/dist-packages/transformers/models/xlm_roberta/modeling_xlm_roberta.py\u001b[0m in \u001b[0;36mforward\u001b[0;34m(self, hidden_states, attention_mask, head_mask, encoder_hidden_states, encoder_attention_mask, past_key_value, output_attentions)\u001b[0m\n\u001b[1;32m    412\u001b[0m         \u001b[0;31m# decoder uni-directional self-attention cached key/values tuple is at positions 1,2\u001b[0m\u001b[0;34m\u001b[0m\u001b[0;34m\u001b[0m\u001b[0m\n\u001b[1;32m    413\u001b[0m         \u001b[0mself_attn_past_key_value\u001b[0m \u001b[0;34m=\u001b[0m \u001b[0mpast_key_value\u001b[0m\u001b[0;34m[\u001b[0m\u001b[0;34m:\u001b[0m\u001b[0;36m2\u001b[0m\u001b[0;34m]\u001b[0m \u001b[0;32mif\u001b[0m \u001b[0mpast_key_value\u001b[0m \u001b[0;32mis\u001b[0m \u001b[0;32mnot\u001b[0m \u001b[0;32mNone\u001b[0m \u001b[0;32melse\u001b[0m \u001b[0;32mNone\u001b[0m\u001b[0;34m\u001b[0m\u001b[0;34m\u001b[0m\u001b[0m\n\u001b[0;32m--> 414\u001b[0;31m         self_attention_outputs = self.attention(\n\u001b[0m\u001b[1;32m    415\u001b[0m             \u001b[0mhidden_states\u001b[0m\u001b[0;34m,\u001b[0m\u001b[0;34m\u001b[0m\u001b[0;34m\u001b[0m\u001b[0m\n\u001b[1;32m    416\u001b[0m             \u001b[0mattention_mask\u001b[0m\u001b[0;34m,\u001b[0m\u001b[0;34m\u001b[0m\u001b[0;34m\u001b[0m\u001b[0m\n",
            "\u001b[0;32m/usr/local/lib/python3.10/dist-packages/torch/nn/modules/module.py\u001b[0m in \u001b[0;36m_wrapped_call_impl\u001b[0;34m(self, *args, **kwargs)\u001b[0m\n\u001b[1;32m   1509\u001b[0m             \u001b[0;32mreturn\u001b[0m \u001b[0mself\u001b[0m\u001b[0;34m.\u001b[0m\u001b[0m_compiled_call_impl\u001b[0m\u001b[0;34m(\u001b[0m\u001b[0;34m*\u001b[0m\u001b[0margs\u001b[0m\u001b[0;34m,\u001b[0m \u001b[0;34m**\u001b[0m\u001b[0mkwargs\u001b[0m\u001b[0;34m)\u001b[0m  \u001b[0;31m# type: ignore[misc]\u001b[0m\u001b[0;34m\u001b[0m\u001b[0;34m\u001b[0m\u001b[0m\n\u001b[1;32m   1510\u001b[0m         \u001b[0;32melse\u001b[0m\u001b[0;34m:\u001b[0m\u001b[0;34m\u001b[0m\u001b[0;34m\u001b[0m\u001b[0m\n\u001b[0;32m-> 1511\u001b[0;31m             \u001b[0;32mreturn\u001b[0m \u001b[0mself\u001b[0m\u001b[0;34m.\u001b[0m\u001b[0m_call_impl\u001b[0m\u001b[0;34m(\u001b[0m\u001b[0;34m*\u001b[0m\u001b[0margs\u001b[0m\u001b[0;34m,\u001b[0m \u001b[0;34m**\u001b[0m\u001b[0mkwargs\u001b[0m\u001b[0;34m)\u001b[0m\u001b[0;34m\u001b[0m\u001b[0;34m\u001b[0m\u001b[0m\n\u001b[0m\u001b[1;32m   1512\u001b[0m \u001b[0;34m\u001b[0m\u001b[0m\n\u001b[1;32m   1513\u001b[0m     \u001b[0;32mdef\u001b[0m \u001b[0m_call_impl\u001b[0m\u001b[0;34m(\u001b[0m\u001b[0mself\u001b[0m\u001b[0;34m,\u001b[0m \u001b[0;34m*\u001b[0m\u001b[0margs\u001b[0m\u001b[0;34m,\u001b[0m \u001b[0;34m**\u001b[0m\u001b[0mkwargs\u001b[0m\u001b[0;34m)\u001b[0m\u001b[0;34m:\u001b[0m\u001b[0;34m\u001b[0m\u001b[0;34m\u001b[0m\u001b[0m\n",
            "\u001b[0;32m/usr/local/lib/python3.10/dist-packages/torch/nn/modules/module.py\u001b[0m in \u001b[0;36m_call_impl\u001b[0;34m(self, *args, **kwargs)\u001b[0m\n\u001b[1;32m   1518\u001b[0m                 \u001b[0;32mor\u001b[0m \u001b[0m_global_backward_pre_hooks\u001b[0m \u001b[0;32mor\u001b[0m \u001b[0m_global_backward_hooks\u001b[0m\u001b[0;34m\u001b[0m\u001b[0;34m\u001b[0m\u001b[0m\n\u001b[1;32m   1519\u001b[0m                 or _global_forward_hooks or _global_forward_pre_hooks):\n\u001b[0;32m-> 1520\u001b[0;31m             \u001b[0;32mreturn\u001b[0m \u001b[0mforward_call\u001b[0m\u001b[0;34m(\u001b[0m\u001b[0;34m*\u001b[0m\u001b[0margs\u001b[0m\u001b[0;34m,\u001b[0m \u001b[0;34m**\u001b[0m\u001b[0mkwargs\u001b[0m\u001b[0;34m)\u001b[0m\u001b[0;34m\u001b[0m\u001b[0;34m\u001b[0m\u001b[0m\n\u001b[0m\u001b[1;32m   1521\u001b[0m \u001b[0;34m\u001b[0m\u001b[0m\n\u001b[1;32m   1522\u001b[0m         \u001b[0;32mtry\u001b[0m\u001b[0;34m:\u001b[0m\u001b[0;34m\u001b[0m\u001b[0;34m\u001b[0m\u001b[0m\n",
            "\u001b[0;32m/usr/local/lib/python3.10/dist-packages/transformers/models/xlm_roberta/modeling_xlm_roberta.py\u001b[0m in \u001b[0;36mforward\u001b[0;34m(self, hidden_states, attention_mask, head_mask, encoder_hidden_states, encoder_attention_mask, past_key_value, output_attentions)\u001b[0m\n\u001b[1;32m    339\u001b[0m         \u001b[0moutput_attentions\u001b[0m\u001b[0;34m:\u001b[0m \u001b[0mOptional\u001b[0m\u001b[0;34m[\u001b[0m\u001b[0mbool\u001b[0m\u001b[0;34m]\u001b[0m \u001b[0;34m=\u001b[0m \u001b[0;32mFalse\u001b[0m\u001b[0;34m,\u001b[0m\u001b[0;34m\u001b[0m\u001b[0;34m\u001b[0m\u001b[0m\n\u001b[1;32m    340\u001b[0m     ) -> Tuple[torch.Tensor]:\n\u001b[0;32m--> 341\u001b[0;31m         self_outputs = self.self(\n\u001b[0m\u001b[1;32m    342\u001b[0m             \u001b[0mhidden_states\u001b[0m\u001b[0;34m,\u001b[0m\u001b[0;34m\u001b[0m\u001b[0;34m\u001b[0m\u001b[0m\n\u001b[1;32m    343\u001b[0m             \u001b[0mattention_mask\u001b[0m\u001b[0;34m,\u001b[0m\u001b[0;34m\u001b[0m\u001b[0;34m\u001b[0m\u001b[0m\n",
            "\u001b[0;32m/usr/local/lib/python3.10/dist-packages/torch/nn/modules/module.py\u001b[0m in \u001b[0;36m_wrapped_call_impl\u001b[0;34m(self, *args, **kwargs)\u001b[0m\n\u001b[1;32m   1509\u001b[0m             \u001b[0;32mreturn\u001b[0m \u001b[0mself\u001b[0m\u001b[0;34m.\u001b[0m\u001b[0m_compiled_call_impl\u001b[0m\u001b[0;34m(\u001b[0m\u001b[0;34m*\u001b[0m\u001b[0margs\u001b[0m\u001b[0;34m,\u001b[0m \u001b[0;34m**\u001b[0m\u001b[0mkwargs\u001b[0m\u001b[0;34m)\u001b[0m  \u001b[0;31m# type: ignore[misc]\u001b[0m\u001b[0;34m\u001b[0m\u001b[0;34m\u001b[0m\u001b[0m\n\u001b[1;32m   1510\u001b[0m         \u001b[0;32melse\u001b[0m\u001b[0;34m:\u001b[0m\u001b[0;34m\u001b[0m\u001b[0;34m\u001b[0m\u001b[0m\n\u001b[0;32m-> 1511\u001b[0;31m             \u001b[0;32mreturn\u001b[0m \u001b[0mself\u001b[0m\u001b[0;34m.\u001b[0m\u001b[0m_call_impl\u001b[0m\u001b[0;34m(\u001b[0m\u001b[0;34m*\u001b[0m\u001b[0margs\u001b[0m\u001b[0;34m,\u001b[0m \u001b[0;34m**\u001b[0m\u001b[0mkwargs\u001b[0m\u001b[0;34m)\u001b[0m\u001b[0;34m\u001b[0m\u001b[0;34m\u001b[0m\u001b[0m\n\u001b[0m\u001b[1;32m   1512\u001b[0m \u001b[0;34m\u001b[0m\u001b[0m\n\u001b[1;32m   1513\u001b[0m     \u001b[0;32mdef\u001b[0m \u001b[0m_call_impl\u001b[0m\u001b[0;34m(\u001b[0m\u001b[0mself\u001b[0m\u001b[0;34m,\u001b[0m \u001b[0;34m*\u001b[0m\u001b[0margs\u001b[0m\u001b[0;34m,\u001b[0m \u001b[0;34m**\u001b[0m\u001b[0mkwargs\u001b[0m\u001b[0;34m)\u001b[0m\u001b[0;34m:\u001b[0m\u001b[0;34m\u001b[0m\u001b[0;34m\u001b[0m\u001b[0m\n",
            "\u001b[0;32m/usr/local/lib/python3.10/dist-packages/torch/nn/modules/module.py\u001b[0m in \u001b[0;36m_call_impl\u001b[0;34m(self, *args, **kwargs)\u001b[0m\n\u001b[1;32m   1518\u001b[0m                 \u001b[0;32mor\u001b[0m \u001b[0m_global_backward_pre_hooks\u001b[0m \u001b[0;32mor\u001b[0m \u001b[0m_global_backward_hooks\u001b[0m\u001b[0;34m\u001b[0m\u001b[0;34m\u001b[0m\u001b[0m\n\u001b[1;32m   1519\u001b[0m                 or _global_forward_hooks or _global_forward_pre_hooks):\n\u001b[0;32m-> 1520\u001b[0;31m             \u001b[0;32mreturn\u001b[0m \u001b[0mforward_call\u001b[0m\u001b[0;34m(\u001b[0m\u001b[0;34m*\u001b[0m\u001b[0margs\u001b[0m\u001b[0;34m,\u001b[0m \u001b[0;34m**\u001b[0m\u001b[0mkwargs\u001b[0m\u001b[0;34m)\u001b[0m\u001b[0;34m\u001b[0m\u001b[0;34m\u001b[0m\u001b[0m\n\u001b[0m\u001b[1;32m   1521\u001b[0m \u001b[0;34m\u001b[0m\u001b[0m\n\u001b[1;32m   1522\u001b[0m         \u001b[0;32mtry\u001b[0m\u001b[0;34m:\u001b[0m\u001b[0;34m\u001b[0m\u001b[0;34m\u001b[0m\u001b[0m\n",
            "\u001b[0;32m/usr/local/lib/python3.10/dist-packages/transformers/models/xlm_roberta/modeling_xlm_roberta.py\u001b[0m in \u001b[0;36mforward\u001b[0;34m(self, hidden_states, attention_mask, head_mask, encoder_hidden_states, encoder_attention_mask, past_key_value, output_attentions)\u001b[0m\n\u001b[1;32m    259\u001b[0m                 \u001b[0mattention_scores\u001b[0m \u001b[0;34m=\u001b[0m \u001b[0mattention_scores\u001b[0m \u001b[0;34m+\u001b[0m \u001b[0mrelative_position_scores_query\u001b[0m \u001b[0;34m+\u001b[0m \u001b[0mrelative_position_scores_key\u001b[0m\u001b[0;34m\u001b[0m\u001b[0;34m\u001b[0m\u001b[0m\n\u001b[1;32m    260\u001b[0m \u001b[0;34m\u001b[0m\u001b[0m\n\u001b[0;32m--> 261\u001b[0;31m         \u001b[0mattention_scores\u001b[0m \u001b[0;34m=\u001b[0m \u001b[0mattention_scores\u001b[0m \u001b[0;34m/\u001b[0m \u001b[0mmath\u001b[0m\u001b[0;34m.\u001b[0m\u001b[0msqrt\u001b[0m\u001b[0;34m(\u001b[0m\u001b[0mself\u001b[0m\u001b[0;34m.\u001b[0m\u001b[0mattention_head_size\u001b[0m\u001b[0;34m)\u001b[0m\u001b[0;34m\u001b[0m\u001b[0;34m\u001b[0m\u001b[0m\n\u001b[0m\u001b[1;32m    262\u001b[0m         \u001b[0;32mif\u001b[0m \u001b[0mattention_mask\u001b[0m \u001b[0;32mis\u001b[0m \u001b[0;32mnot\u001b[0m \u001b[0;32mNone\u001b[0m\u001b[0;34m:\u001b[0m\u001b[0;34m\u001b[0m\u001b[0;34m\u001b[0m\u001b[0m\n\u001b[1;32m    263\u001b[0m             \u001b[0;31m# Apply the attention mask is (precomputed for all layers in XLMRobertaModel forward() function)\u001b[0m\u001b[0;34m\u001b[0m\u001b[0;34m\u001b[0m\u001b[0m\n",
            "\u001b[0;31mOutOfMemoryError\u001b[0m: CUDA out of memory. Tried to allocate 126.00 MiB. GPU 0 has a total capacity of 14.75 GiB of which 123.06 MiB is free. Process 28420 has 14.62 GiB memory in use. Of the allocated memory 14.25 GiB is allocated by PyTorch, and 252.85 MiB is reserved by PyTorch but unallocated. If reserved but unallocated memory is large try setting PYTORCH_CUDA_ALLOC_CONF=expandable_segments:True to avoid fragmentation.  See documentation for Memory Management  (https://pytorch.org/docs/stable/notes/cuda.html#environment-variables)"
          ]
        }
      ]
    },
    {
      "cell_type": "code",
      "source": [
        "finetuned_embedding_model = finetune_engine.get_finetuned_model()"
      ],
      "metadata": {
        "id": "i5WXzjcs0dzD"
      },
      "execution_count": null,
      "outputs": []
    },
    {
      "cell_type": "code",
      "source": [
        "finetuned_embedding_model.to_json()"
      ],
      "metadata": {
        "id": "2NVVSXIT0e7j"
      },
      "execution_count": null,
      "outputs": []
    },
    {
      "cell_type": "code",
      "source": [
        "from llama_index.embeddings import HuggingFaceEmbedding\n",
        "\n",
        "embed_model = HuggingFaceEmbedding(model_name=\"finetuned-bge-m3\")"
      ],
      "metadata": {
        "id": "M_245TM_0gCt"
      },
      "execution_count": null,
      "outputs": []
    },
    {
      "cell_type": "code",
      "source": [
        "from sentence_transformers.evaluation import InformationRetrievalEvaluator\n",
        "from sentence_transformers import SentenceTransformer\n",
        "from pathlib import Path\n",
        "\n",
        "def evaluate_st(\n",
        "    queries,\n",
        "    corpus,\n",
        "    relevant_docs,\n",
        "    model_id,\n",
        "    name,\n",
        "):\n",
        "\n",
        "    evaluator = InformationRetrievalEvaluator(queries, corpus, relevant_docs, name=name)\n",
        "    model = SentenceTransformer(model_id)\n",
        "    output_path = \"results/\"\n",
        "    Path(output_path).mkdir(exist_ok=True, parents=True)\n",
        "    return evaluator(model, output_path=output_path)"
      ],
      "metadata": {
        "id": "-SCrHxzp0klD"
      },
      "execution_count": null,
      "outputs": []
    },
    {
      "cell_type": "code",
      "source": [
        "evaluate_st(queries_val, corpus_val, relevant_docs_val, \"BAAI/bge-m3\", name=\"bge\")"
      ],
      "metadata": {
        "id": "Y9jiSuhO1MLU"
      },
      "execution_count": null,
      "outputs": []
    },
    {
      "cell_type": "code",
      "source": [
        "evaluate_st(queries_val, corpus_val, relevant_docs_val, \"finetuned-bge-m3\", name=\"finetuned\")"
      ],
      "metadata": {
        "id": "AuPhX2iv1bZR"
      },
      "execution_count": null,
      "outputs": []
    },
    {
      "cell_type": "code",
      "source": [],
      "metadata": {
        "id": "f6n2nbWU1fPX"
      },
      "execution_count": null,
      "outputs": []
    }
  ]
}