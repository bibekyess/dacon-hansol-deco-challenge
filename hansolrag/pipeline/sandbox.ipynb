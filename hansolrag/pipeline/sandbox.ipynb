{
 "cells": [
  {
   "cell_type": "code",
   "execution_count": 25,
   "metadata": {},
   "outputs": [],
   "source": [
    "from pydantic import BaseModel\n",
    "from llama_index.core import (\n",
    "    StorageContext,\n",
    "    load_index_from_storage,\n",
    ")\n",
    "from llama_index.postprocessor.flag_embedding_reranker import FlagEmbeddingReranker\n",
    "from llama_index.embeddings.huggingface import HuggingFaceEmbedding\n",
    "\n",
    "from llama_index.core.indices.vector_store.base import VectorStoreIndex\n",
    "# from llama_index.core.indices.base import BaseIndex\n",
    "\n",
    "from llama_index.core.base.embeddings.base import BaseEmbedding\n",
    "from llama_index.core import Settings\n",
    "from llama_index.core.query_engine.retriever_query_engine import RetrieverQueryEngine\n",
    "\n",
    "\n",
    "class Retriever():\n",
    "    \n",
    "    def __init__(self, index: VectorStoreIndex, embed_model: BaseEmbedding, reranker: FlagEmbeddingReranker=None, query_engine: RetrieverQueryEngine=None):\n",
    "        self.index = index\n",
    "        self.embed_model = embed_model\n",
    "        self.reranker = reranker\n",
    "        self.query_engine = query_engine\n",
    "\n",
    "    @classmethod\n",
    "    def load_index_from_disk(cls, PERSIST_DIR, embed_model_name=\"BAAI/bge-m3\", pooling=\"mean\"):\n",
    "        storage_context = StorageContext.from_defaults(persist_dir=PERSIST_DIR)\n",
    "        embed_model = HuggingFaceEmbedding(\n",
    "                        model_name=embed_model_name,\n",
    "                        pooling=pooling # \"cls\" is default\n",
    "                    )\n",
    "\n",
    "        index = load_index_from_storage(storage_context, embed_model=embed_model, llm=None)\n",
    "        return cls(index=index, embed_model=embed_model)\n",
    "\n",
    "    def load_reranker(self, top_n=3, reranker_id=\"Dongjin-kr/ko-reranker\"):\n",
    "        self.reranker = FlagEmbeddingReranker(\n",
    "                    top_n=top_n,\n",
    "                    model=reranker_id,\n",
    "                )\n",
    "\n",
    "    def load_retriever_query_engine(self, top_k):\n",
    "        Settings.llm = None\n",
    "        retriever_query_engine = self.index.as_query_engine(similarity_top_k=top_k, node_postprocessors=[self.reranker], verbose=True)\n",
    "        self.query_engine = retriever_query_engine\n",
    "    \n",
    "\n",
    "    \n",
    "    def get_k_relevant_documents_with_reranker(self, query):\n",
    "        relevent_docs = self.query_engine.query(query)\n",
    "        return relevent_docs        \n",
    "\n",
    "        \n",
    "    def get_context_from_relevant_documents(self, relevent_docs):\n",
    "        context_list = []\n",
    "        for r in relevent_docs.source_nodes:\n",
    "            if r.score > 0:\n",
    "                context_list.append(r.text)\n",
    "        return context_list\n"
   ]
  },
  {
   "cell_type": "code",
   "execution_count": 26,
   "metadata": {},
   "outputs": [],
   "source": [
    "\n",
    "retriever = Retriever.load_index_from_disk(PERSIST_DIR=\"../index/train-vector-index-storage-chunk-size-1295\", embed_model_name=\"BAAI/bge-m3\")"
   ]
  },
  {
   "cell_type": "code",
   "execution_count": 27,
   "metadata": {},
   "outputs": [
    {
     "data": {
      "text/plain": [
       "<__main__.Retriever at 0x72d682310bb0>"
      ]
     },
     "execution_count": 27,
     "metadata": {},
     "output_type": "execute_result"
    }
   ],
   "source": [
    "retriever"
   ]
  },
  {
   "cell_type": "code",
   "execution_count": 28,
   "metadata": {},
   "outputs": [],
   "source": [
    "retriever.load_reranker(top_n=3, reranker_id=\"Dongjin-kr/ko-reranker\")"
   ]
  },
  {
   "cell_type": "code",
   "execution_count": 29,
   "metadata": {},
   "outputs": [
    {
     "name": "stdout",
     "output_type": "stream",
     "text": [
      "LLM is explicitly disabled. Using MockLLM.\n"
     ]
    }
   ],
   "source": [
    "retriever.load_retriever_query_engine(top_k=2)"
   ]
  },
  {
   "cell_type": "code",
   "execution_count": 30,
   "metadata": {},
   "outputs": [
    {
     "data": {
      "text/plain": [
       "{'index': <llama_index.core.indices.vector_store.base.VectorStoreIndex at 0x72d682312320>,\n",
       " 'embed_model': HuggingFaceEmbedding(model_name='BAAI/bge-m3', embed_batch_size=10, callback_manager=<llama_index.core.callbacks.base.CallbackManager object at 0x72d6ab973040>, tokenizer_name='BAAI/bge-m3', max_length=8194, pooling=<Pooling.MEAN: 'mean'>, normalize=True, query_instruction=None, text_instruction=None, cache_folder=None),\n",
       " 'reranker': FlagEmbeddingReranker(callback_manager=<llama_index.core.callbacks.base.CallbackManager object at 0x72d6ab973040>, model='Dongjin-kr/ko-reranker', top_n=3, use_fp16=False),\n",
       " 'query_engine': <llama_index.core.query_engine.retriever_query_engine.RetrieverQueryEngine at 0x72d682310220>}"
      ]
     },
     "execution_count": 30,
     "metadata": {},
     "output_type": "execute_result"
    }
   ],
   "source": [
    "vars(retriever)"
   ]
  },
  {
   "cell_type": "code",
   "execution_count": 31,
   "metadata": {},
   "outputs": [
    {
     "name": "stdout",
     "output_type": "stream",
     "text": [
      "TRAIN_000, 면진장치가 뭐야?, 면진장치에 사용되는 주요 기술은 무엇인가요?, 건축구조, 면진장치란 지반에서 오는 진동 에너지를 흡수하여 건물에 주는 진동을 줄여주는 진동 격리장치입니다., 면진장치란 건물의 지반에서 발생하는 진동 에너지를 흡수하여 건물을 보호하고, 진동을 줄여주는 장치입니다. 주로 지진이나 기타 지반의 진동으로 인한 피해를 방지하기 위해 사용됩니다., 면진장치란 지반으로부터 발생하는 진동 에너지를 흡수하여 건물에 전달되는 진동을 줄여주는 장치를 말합니다. 이를 통해 건물의 안전성과 안정성을 향상시키고, 지진 등의 외부 충격으로부터 보호하는 역할을 합니다. 지진으로 인한 건물의 피해를 최소화하기 위해 주로 사용됩니다., 면진장치는 건물의 지반으로부터 오는 진동 에너지를 흡수하여 건물에 전달되는 진동을 최소화해 주는 진동 격리장치입니다. 이를 통해 건물 내부의 진동을 줄이고 안정성을 유지하는 데 도움을 줍니다., 면진장치는 건물에 오는 지반 진동의 영향을 최대한으로 흡수하여 건물에 전달되는 진동을 줄여주는 장치입니다. 지반으로부터 오는 진동 에너지의 영향을 완화시키기 위해 사용됩니다.\n"
     ]
    }
   ],
   "source": [
    "relevant_docs = retriever.get_k_relevant_documents_with_reranker(query = \"면진장치가 뭐야?\")\n",
    "context_list = retriever.get_context_from_relevant_documents(relevant_docs)\n",
    "for c in context_list:\n",
    "    print(c)"
   ]
  },
  {
   "cell_type": "code",
   "execution_count": 33,
   "metadata": {},
   "outputs": [],
   "source": [
    "from pydantic import BaseModel\n",
    "\n",
    "class Augment(BaseModel):\n",
    "    prompt: str\n",
    "\n",
    "    @classmethod\n",
    "    def get_prompt(cls, retriever, question, prev_q=\"\"):\n",
    "        # prev_q is a must needed for some questions like this: What is the biggest cause of plaster revision? And please tell me how to solve this.”\n",
    "        INSTRUCTION_PROMPT_TEMPLATE = \"\"\"\\\n",
    "        ### System:\n",
    "        벽지에 대한 고객 문의에 정확하고 유용한 답변을 작성한다. <질문>의 의도를 파악하여 정확하게 <보고서>만을 기반으로 답변하세요.\n",
    "\n",
    "        ### User:\n",
    "        <보고서>\n",
    "        {CONTEXT}\n",
    "        </보고서>\n",
    "        지침사항을 반드시 지키고, <보고서>를 기반으로 <질문>에 답변하세요.\n",
    "        <질문>\n",
    "        {QUESTION}\n",
    "        </질문>\n",
    "\n",
    "        ### Assistant:\n",
    "        \"\"\"\n",
    "\n",
    "        response_1 = retriever.query_engine.query(question)\n",
    "\n",
    "        context_list = []\n",
    "        for r in response_1.source_nodes:\n",
    "            # print(r.score)\n",
    "            if r.score > 0:\n",
    "                if r.score <= 4 and len(context_list) >= 1:\n",
    "                    pass\n",
    "                else:\n",
    "                    context_list.append(r.text)\n",
    "\n",
    "        # Special case when the follow up question is junk\n",
    "        if len(context_list) == 0:\n",
    "            response_2 = retriever.query_engine.query(prev_q + \" \" + question)\n",
    "            for r in response_2.source_nodes:\n",
    "                if r.score > 0:\n",
    "                    context_list.append(r.text)\n",
    "\n",
    "        context = prev_q + \"\\n\\n\".join(context_list + [question])\n",
    "\n",
    "        prompt = INSTRUCTION_PROMPT_TEMPLATE.format(CONTEXT=context, QUESTION=question)   \n",
    "\n",
    "        return cls(prompt=prompt)     "
   ]
  },
  {
   "cell_type": "code",
   "execution_count": 34,
   "metadata": {},
   "outputs": [],
   "source": [
    "question = \"면진장치가 뭐야?\"\n",
    "augment = Augment.get_prompt(retriever, question)\n"
   ]
  },
  {
   "cell_type": "code",
   "execution_count": 36,
   "metadata": {},
   "outputs": [
    {
     "data": {
      "text/plain": [
       "'        ### System:\\n        벽지에 대한 고객 문의에 정확하고 유용한 답변을 작성한다. <질문>의 의도를 파악하여 정확하게 <보고서>만을 기반으로 답변하세요.\\n\\n        ### User:\\n        <보고서>\\n        TRAIN_000, 면진장치가 뭐야?, 면진장치에 사용되는 주요 기술은 무엇인가요?, 건축구조, 면진장치란 지반에서 오는 진동 에너지를 흡수하여 건물에 주는 진동을 줄여주는 진동 격리장치입니다., 면진장치란 건물의 지반에서 발생하는 진동 에너지를 흡수하여 건물을 보호하고, 진동을 줄여주는 장치입니다. 주로 지진이나 기타 지반의 진동으로 인한 피해를 방지하기 위해 사용됩니다., 면진장치란 지반으로부터 발생하는 진동 에너지를 흡수하여 건물에 전달되는 진동을 줄여주는 장치를 말합니다. 이를 통해 건물의 안전성과 안정성을 향상시키고, 지진 등의 외부 충격으로부터 보호하는 역할을 합니다. 지진으로 인한 건물의 피해를 최소화하기 위해 주로 사용됩니다., 면진장치는 건물의 지반으로부터 오는 진동 에너지를 흡수하여 건물에 전달되는 진동을 최소화해 주는 진동 격리장치입니다. 이를 통해 건물 내부의 진동을 줄이고 안정성을 유지하는 데 도움을 줍니다., 면진장치는 건물에 오는 지반 진동의 영향을 최대한으로 흡수하여 건물에 전달되는 진동을 줄여주는 장치입니다. 지반으로부터 오는 진동 에너지의 영향을 완화시키기 위해 사용됩니다.\\n\\n면진장치가 뭐야?\\n        </보고서>\\n        지침사항을 반드시 지키고, <보고서>를 기반으로 <질문>에 답변하세요.\\n        <질문>\\n        면진장치가 뭐야?\\n        </질문>\\n\\n        ### Assistant:\\n        '"
      ]
     },
     "execution_count": 36,
     "metadata": {},
     "output_type": "execute_result"
    }
   ],
   "source": [
    "augment.prompt"
   ]
  }
 ],
 "metadata": {
  "kernelspec": {
   "display_name": "hansol-deco-env",
   "language": "python",
   "name": "python3"
  },
  "language_info": {
   "codemirror_mode": {
    "name": "ipython",
    "version": 3
   },
   "file_extension": ".py",
   "mimetype": "text/x-python",
   "name": "python",
   "nbconvert_exporter": "python",
   "pygments_lexer": "ipython3",
   "version": "3.10.13"
  }
 },
 "nbformat": 4,
 "nbformat_minor": 2
}
