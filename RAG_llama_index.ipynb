{
  "nbformat": 4,
  "nbformat_minor": 0,
  "metadata": {
    "colab": {
      "provenance": [],
      "gpuType": "T4",
      "authorship_tag": "ABX9TyPIs5YUpmEeHxofKdLIGC1T",
      "include_colab_link": true
    },
    "kernelspec": {
      "name": "python3",
      "display_name": "Python 3"
    },
    "language_info": {
      "name": "python"
    },
    "accelerator": "GPU"
  },
  "cells": [
    {
      "cell_type": "markdown",
      "metadata": {
        "id": "view-in-github",
        "colab_type": "text"
      },
      "source": [
        "<a href=\"https://colab.research.google.com/github/bibekyess/dacon-hansol-deco-challenge/blob/main/RAG_llama_index.ipynb\" target=\"_parent\"><img src=\"https://colab.research.google.com/assets/colab-badge.svg\" alt=\"Open In Colab\"/></a>"
      ]
    },
    {
      "cell_type": "code",
      "source": [
        "import nest_asyncio\n",
        "\n",
        "nest_asyncio.apply()"
      ],
      "metadata": {
        "id": "HTKxC9HXQ0fB"
      },
      "execution_count": 1,
      "outputs": []
    },
    {
      "cell_type": "markdown",
      "source": [],
      "metadata": {
        "id": "ZNyLTfiMVMI2"
      }
    },
    {
      "cell_type": "markdown",
      "source": [],
      "metadata": {
        "id": "33FT-ZlpSk6j"
      }
    },
    {
      "cell_type": "code",
      "execution_count": 2,
      "metadata": {
        "colab": {
          "base_uri": "https://localhost:8080/"
        },
        "id": "91u4Wz9zJ4NS",
        "outputId": "a9028bb9-db60-4f0f-e96e-c04e64cbf15f"
      },
      "outputs": [
        {
          "output_type": "stream",
          "name": "stdout",
          "text": [
            "  Preparing metadata (setup.py) ... \u001b[?25l\u001b[?25hdone\n",
            "\u001b[2K     \u001b[90m━━━━━━━━━━━━━━━━━━━━━━━━━━━━━━━━━━━━━━━━\u001b[0m \u001b[32m15.3/15.3 MB\u001b[0m \u001b[31m52.8 MB/s\u001b[0m eta \u001b[36m0:00:00\u001b[0m\n",
            "\u001b[2K     \u001b[90m━━━━━━━━━━━━━━━━━━━━━━━━━━━━━━━━━━━━━━━━\u001b[0m \u001b[32m44.3/44.3 MB\u001b[0m \u001b[31m12.9 MB/s\u001b[0m eta \u001b[36m0:00:00\u001b[0m\n",
            "\u001b[2K     \u001b[90m━━━━━━━━━━━━━━━━━━━━━━━━━━━━━━━━━━━━━━━━\u001b[0m \u001b[32m2.0/2.0 MB\u001b[0m \u001b[31m86.4 MB/s\u001b[0m eta \u001b[36m0:00:00\u001b[0m\n",
            "\u001b[2K     \u001b[90m━━━━━━━━━━━━━━━━━━━━━━━━━━━━━━━━━━━━━━━━\u001b[0m \u001b[32m75.6/75.6 kB\u001b[0m \u001b[31m10.4 MB/s\u001b[0m eta \u001b[36m0:00:00\u001b[0m\n",
            "\u001b[2K     \u001b[90m━━━━━━━━━━━━━━━━━━━━━━━━━━━━━━━━━━━━━━━━\u001b[0m \u001b[32m108.0/108.0 kB\u001b[0m \u001b[31m14.8 MB/s\u001b[0m eta \u001b[36m0:00:00\u001b[0m\n",
            "\u001b[2K     \u001b[90m━━━━━━━━━━━━━━━━━━━━━━━━━━━━━━━━━━━━━━━━\u001b[0m \u001b[32m227.4/227.4 kB\u001b[0m \u001b[31m30.1 MB/s\u001b[0m eta \u001b[36m0:00:00\u001b[0m\n",
            "\u001b[2K     \u001b[90m━━━━━━━━━━━━━━━━━━━━━━━━━━━━━━━━━━━━━━━━\u001b[0m \u001b[32m1.8/1.8 MB\u001b[0m \u001b[31m90.6 MB/s\u001b[0m eta \u001b[36m0:00:00\u001b[0m\n",
            "\u001b[2K     \u001b[90m━━━━━━━━━━━━━━━━━━━━━━━━━━━━━━━━━━━━━━━━\u001b[0m \u001b[32m4.4/4.4 MB\u001b[0m \u001b[31m61.4 MB/s\u001b[0m eta \u001b[36m0:00:00\u001b[0m\n",
            "\u001b[2K     \u001b[90m━━━━━━━━━━━━━━━━━━━━━━━━━━━━━━━━━━━━━━━━\u001b[0m \u001b[32m286.1/286.1 kB\u001b[0m \u001b[31m37.8 MB/s\u001b[0m eta \u001b[36m0:00:00\u001b[0m\n",
            "\u001b[2K     \u001b[90m━━━━━━━━━━━━━━━━━━━━━━━━━━━━━━━━━━━━━━━━\u001b[0m \u001b[32m755.5/755.5 MB\u001b[0m \u001b[31m1.8 MB/s\u001b[0m eta \u001b[36m0:00:00\u001b[0m\n",
            "\u001b[2K     \u001b[90m━━━━━━━━━━━━━━━━━━━━━━━━━━━━━━━━━━━━━━━━\u001b[0m \u001b[32m510.5/510.5 kB\u001b[0m \u001b[31m49.7 MB/s\u001b[0m eta \u001b[36m0:00:00\u001b[0m\n",
            "\u001b[2K     \u001b[90m━━━━━━━━━━━━━━━━━━━━━━━━━━━━━━━━━━━━━━━━\u001b[0m \u001b[32m280.0/280.0 kB\u001b[0m \u001b[31m33.0 MB/s\u001b[0m eta \u001b[36m0:00:00\u001b[0m\n",
            "\u001b[2K     \u001b[90m━━━━━━━━━━━━━━━━━━━━━━━━━━━━━━━━━━━━━━━━\u001b[0m \u001b[32m156.5/156.5 kB\u001b[0m \u001b[31m21.9 MB/s\u001b[0m eta \u001b[36m0:00:00\u001b[0m\n",
            "\u001b[2K     \u001b[90m━━━━━━━━━━━━━━━━━━━━━━━━━━━━━━━━━━━━━━━━\u001b[0m \u001b[32m307.2/307.2 kB\u001b[0m \u001b[31m35.9 MB/s\u001b[0m eta \u001b[36m0:00:00\u001b[0m\n",
            "\u001b[2K     \u001b[90m━━━━━━━━━━━━━━━━━━━━━━━━━━━━━━━━━━━━━━━━\u001b[0m \u001b[32m64.9/64.9 MB\u001b[0m \u001b[31m8.6 MB/s\u001b[0m eta \u001b[36m0:00:00\u001b[0m\n",
            "\u001b[2K     \u001b[90m━━━━━━━━━━━━━━━━━━━━━━━━━━━━━━━━━━━━━━━━\u001b[0m \u001b[32m670.2/670.2 MB\u001b[0m \u001b[31m2.2 MB/s\u001b[0m eta \u001b[36m0:00:00\u001b[0m\n",
            "\u001b[2K     \u001b[90m━━━━━━━━━━━━━━━━━━━━━━━━━━━━━━━━━━━━━━━━\u001b[0m \u001b[32m213.0/213.0 MB\u001b[0m \u001b[31m2.4 MB/s\u001b[0m eta \u001b[36m0:00:00\u001b[0m\n",
            "\u001b[2K     \u001b[90m━━━━━━━━━━━━━━━━━━━━━━━━━━━━━━━━━━━━━━━━\u001b[0m \u001b[32m92.1/92.1 kB\u001b[0m \u001b[31m2.8 MB/s\u001b[0m eta \u001b[36m0:00:00\u001b[0m\n",
            "\u001b[2K     \u001b[90m━━━━━━━━━━━━━━━━━━━━━━━━━━━━━━━━━━━━━━━━\u001b[0m \u001b[32m60.8/60.8 kB\u001b[0m \u001b[31m2.5 MB/s\u001b[0m eta \u001b[36m0:00:00\u001b[0m\n",
            "\u001b[2K     \u001b[90m━━━━━━━━━━━━━━━━━━━━━━━━━━━━━━━━━━━━━━━━\u001b[0m \u001b[32m53.1/53.1 kB\u001b[0m \u001b[31m2.5 MB/s\u001b[0m eta \u001b[36m0:00:00\u001b[0m\n",
            "\u001b[2K     \u001b[90m━━━━━━━━━━━━━━━━━━━━━━━━━━━━━━━━━━━━━━━━\u001b[0m \u001b[32m76.5/76.5 kB\u001b[0m \u001b[31m2.7 MB/s\u001b[0m eta \u001b[36m0:00:00\u001b[0m\n",
            "\u001b[2K     \u001b[90m━━━━━━━━━━━━━━━━━━━━━━━━━━━━━━━━━━━━━━━━\u001b[0m \u001b[32m83.0/83.0 MB\u001b[0m \u001b[31m4.0 MB/s\u001b[0m eta \u001b[36m0:00:00\u001b[0m\n",
            "\u001b[2K     \u001b[90m━━━━━━━━━━━━━━━━━━━━━━━━━━━━━━━━━━━━━━━━\u001b[0m \u001b[32m23.7/23.7 MB\u001b[0m \u001b[31m6.3 MB/s\u001b[0m eta \u001b[36m0:00:00\u001b[0m\n",
            "\u001b[2K     \u001b[90m━━━━━━━━━━━━━━━━━━━━━━━━━━━━━━━━━━━━━━━━\u001b[0m \u001b[32m823.6/823.6 kB\u001b[0m \u001b[31m7.1 MB/s\u001b[0m eta \u001b[36m0:00:00\u001b[0m\n",
            "\u001b[2K     \u001b[90m━━━━━━━━━━━━━━━━━━━━━━━━━━━━━━━━━━━━━━━━\u001b[0m \u001b[32m14.1/14.1 MB\u001b[0m \u001b[31m7.4 MB/s\u001b[0m eta \u001b[36m0:00:00\u001b[0m\n",
            "\u001b[2K     \u001b[90m━━━━━━━━━━━━━━━━━━━━━━━━━━━━━━━━━━━━━━━━\u001b[0m \u001b[32m731.7/731.7 MB\u001b[0m \u001b[31m2.0 MB/s\u001b[0m eta \u001b[36m0:00:00\u001b[0m\n",
            "\u001b[2K     \u001b[90m━━━━━━━━━━━━━━━━━━━━━━━━━━━━━━━━━━━━━━━━\u001b[0m \u001b[32m410.6/410.6 MB\u001b[0m \u001b[31m1.8 MB/s\u001b[0m eta \u001b[36m0:00:00\u001b[0m\n",
            "\u001b[2K     \u001b[90m━━━━━━━━━━━━━━━━━━━━━━━━━━━━━━━━━━━━━━━━\u001b[0m \u001b[32m121.6/121.6 MB\u001b[0m \u001b[31m3.9 MB/s\u001b[0m eta \u001b[36m0:00:00\u001b[0m\n",
            "\u001b[2K     \u001b[90m━━━━━━━━━━━━━━━━━━━━━━━━━━━━━━━━━━━━━━━━\u001b[0m \u001b[32m56.5/56.5 MB\u001b[0m \u001b[31m6.2 MB/s\u001b[0m eta \u001b[36m0:00:00\u001b[0m\n",
            "\u001b[2K     \u001b[90m━━━━━━━━━━━━━━━━━━━━━━━━━━━━━━━━━━━━━━━━\u001b[0m \u001b[32m124.2/124.2 MB\u001b[0m \u001b[31m3.9 MB/s\u001b[0m eta \u001b[36m0:00:00\u001b[0m\n",
            "\u001b[2K     \u001b[90m━━━━━━━━━━━━━━━━━━━━━━━━━━━━━━━━━━━━━━━━\u001b[0m \u001b[32m196.0/196.0 MB\u001b[0m \u001b[31m1.3 MB/s\u001b[0m eta \u001b[36m0:00:00\u001b[0m\n",
            "\u001b[2K     \u001b[90m━━━━━━━━━━━━━━━━━━━━━━━━━━━━━━━━━━━━━━━━\u001b[0m \u001b[32m209.8/209.8 MB\u001b[0m \u001b[31m2.4 MB/s\u001b[0m eta \u001b[36m0:00:00\u001b[0m\n",
            "\u001b[2K     \u001b[90m━━━━━━━━━━━━━━━━━━━━━━━━━━━━━━━━━━━━━━━━\u001b[0m \u001b[32m99.1/99.1 kB\u001b[0m \u001b[31m2.7 MB/s\u001b[0m eta \u001b[36m0:00:00\u001b[0m\n",
            "\u001b[2K     \u001b[90m━━━━━━━━━━━━━━━━━━━━━━━━━━━━━━━━━━━━━━━━\u001b[0m \u001b[32m20.5/20.5 MB\u001b[0m \u001b[31m3.0 MB/s\u001b[0m eta \u001b[36m0:00:00\u001b[0m\n",
            "\u001b[2K     \u001b[90m━━━━━━━━━━━━━━━━━━━━━━━━━━━━━━━━━━━━━━━━\u001b[0m \u001b[32m77.8/77.8 kB\u001b[0m \u001b[31m3.2 MB/s\u001b[0m eta \u001b[36m0:00:00\u001b[0m\n",
            "\u001b[2K     \u001b[90m━━━━━━━━━━━━━━━━━━━━━━━━━━━━━━━━━━━━━━━━\u001b[0m \u001b[32m58.3/58.3 kB\u001b[0m \u001b[31m2.9 MB/s\u001b[0m eta \u001b[36m0:00:00\u001b[0m\n",
            "\u001b[2K     \u001b[90m━━━━━━━━━━━━━━━━━━━━━━━━━━━━━━━━━━━━━━━━\u001b[0m \u001b[32m111.7/111.7 kB\u001b[0m \u001b[31m3.4 MB/s\u001b[0m eta \u001b[36m0:00:00\u001b[0m\n",
            "\u001b[2K     \u001b[90m━━━━━━━━━━━━━━━━━━━━━━━━━━━━━━━━━━━━━━━━\u001b[0m \u001b[32m45.5/45.5 kB\u001b[0m \u001b[31m2.7 MB/s\u001b[0m eta \u001b[36m0:00:00\u001b[0m\n",
            "\u001b[2K     \u001b[90m━━━━━━━━━━━━━━━━━━━━━━━━━━━━━━━━━━━━━━━━\u001b[0m \u001b[32m30.6/30.6 MB\u001b[0m \u001b[31m975.6 kB/s\u001b[0m eta \u001b[36m0:00:00\u001b[0m\n",
            "\u001b[2K     \u001b[90m━━━━━━━━━━━━━━━━━━━━━━━━━━━━━━━━━━━━━━━━\u001b[0m \u001b[32m49.4/49.4 kB\u001b[0m \u001b[31m1.6 MB/s\u001b[0m eta \u001b[36m0:00:00\u001b[0m\n",
            "\u001b[2K     \u001b[90m━━━━━━━━━━━━━━━━━━━━━━━━━━━━━━━━━━━━━━━━\u001b[0m \u001b[32m116.3/116.3 kB\u001b[0m \u001b[31m1.5 MB/s\u001b[0m eta \u001b[36m0:00:00\u001b[0m\n",
            "\u001b[2K     \u001b[90m━━━━━━━━━━━━━━━━━━━━━━━━━━━━━━━━━━━━━━━━\u001b[0m \u001b[32m134.8/134.8 kB\u001b[0m \u001b[31m1.4 MB/s\u001b[0m eta \u001b[36m0:00:00\u001b[0m\n",
            "\u001b[2K     \u001b[90m━━━━━━━━━━━━━━━━━━━━━━━━━━━━━━━━━━━━━━━━\u001b[0m \u001b[32m71.5/71.5 kB\u001b[0m \u001b[31m1.4 MB/s\u001b[0m eta \u001b[36m0:00:00\u001b[0m\n",
            "\u001b[2K     \u001b[90m━━━━━━━━━━━━━━━━━━━━━━━━━━━━━━━━━━━━━━━━\u001b[0m \u001b[32m341.4/341.4 kB\u001b[0m \u001b[31m1.6 MB/s\u001b[0m eta \u001b[36m0:00:00\u001b[0m\n",
            "\u001b[2K     \u001b[90m━━━━━━━━━━━━━━━━━━━━━━━━━━━━━━━━━━━━━━━━\u001b[0m \u001b[32m3.4/3.4 MB\u001b[0m \u001b[31m1.6 MB/s\u001b[0m eta \u001b[36m0:00:00\u001b[0m\n",
            "\u001b[2K     \u001b[90m━━━━━━━━━━━━━━━━━━━━━━━━━━━━━━━━━━━━━━━━\u001b[0m \u001b[32m1.3/1.3 MB\u001b[0m \u001b[31m2.2 MB/s\u001b[0m eta \u001b[36m0:00:00\u001b[0m\n",
            "\u001b[2K     \u001b[90m━━━━━━━━━━━━━━━━━━━━━━━━━━━━━━━━━━━━━━━━\u001b[0m \u001b[32m130.2/130.2 kB\u001b[0m \u001b[31m1.6 MB/s\u001b[0m eta \u001b[36m0:00:00\u001b[0m\n",
            "\u001b[2K     \u001b[90m━━━━━━━━━━━━━━━━━━━━━━━━━━━━━━━━━━━━━━━━\u001b[0m \u001b[32m525.5/525.5 kB\u001b[0m \u001b[31m1.7 MB/s\u001b[0m eta \u001b[36m0:00:00\u001b[0m\n",
            "\u001b[2K     \u001b[90m━━━━━━━━━━━━━━━━━━━━━━━━━━━━━━━━━━━━━━━━\u001b[0m \u001b[32m6.8/6.8 MB\u001b[0m \u001b[31m1.8 MB/s\u001b[0m eta \u001b[36m0:00:00\u001b[0m\n",
            "\u001b[2K     \u001b[90m━━━━━━━━━━━━━━━━━━━━━━━━━━━━━━━━━━━━━━━━\u001b[0m \u001b[32m2.4/2.4 MB\u001b[0m \u001b[31m1.6 MB/s\u001b[0m eta \u001b[36m0:00:00\u001b[0m\n",
            "\u001b[2K     \u001b[90m━━━━━━━━━━━━━━━━━━━━━━━━━━━━━━━━━━━━━━━━\u001b[0m \u001b[32m41.3/41.3 kB\u001b[0m \u001b[31m1.6 MB/s\u001b[0m eta \u001b[36m0:00:00\u001b[0m\n",
            "\u001b[2K     \u001b[90m━━━━━━━━━━━━━━━━━━━━━━━━━━━━━━━━━━━━━━━━\u001b[0m \u001b[32m5.4/5.4 MB\u001b[0m \u001b[31m1.2 MB/s\u001b[0m eta \u001b[36m0:00:00\u001b[0m\n",
            "\u001b[2K     \u001b[90m━━━━━━━━━━━━━━━━━━━━━━━━━━━━━━━━━━━━━━━━\u001b[0m \u001b[32m58.4/58.4 kB\u001b[0m \u001b[31m1.7 MB/s\u001b[0m eta \u001b[36m0:00:00\u001b[0m\n",
            "\u001b[2K     \u001b[90m━━━━━━━━━━━━━━━━━━━━━━━━━━━━━━━━━━━━━━━━\u001b[0m \u001b[32m105.7/105.7 kB\u001b[0m \u001b[31m1.2 MB/s\u001b[0m eta \u001b[36m0:00:00\u001b[0m\n",
            "\u001b[2K     \u001b[90m━━━━━━━━━━━━━━━━━━━━━━━━━━━━━━━━━━━━━━━━\u001b[0m \u001b[32m67.3/67.3 kB\u001b[0m \u001b[31m1.2 MB/s\u001b[0m eta \u001b[36m0:00:00\u001b[0m\n",
            "\u001b[?25h  Installing build dependencies ... \u001b[?25l\u001b[?25hdone\n",
            "  Getting requirements to build wheel ... \u001b[?25l\u001b[?25hdone\n",
            "  Preparing metadata (pyproject.toml) ... \u001b[?25l\u001b[?25hdone\n",
            "\u001b[2K     \u001b[90m━━━━━━━━━━━━━━━━━━━━━━━━━━━━━━━━━━━━━━━━\u001b[0m \u001b[32m698.9/698.9 kB\u001b[0m \u001b[31m1.3 MB/s\u001b[0m eta \u001b[36m0:00:00\u001b[0m\n",
            "\u001b[2K     \u001b[90m━━━━━━━━━━━━━━━━━━━━━━━━━━━━━━━━━━━━━━━━\u001b[0m \u001b[32m1.6/1.6 MB\u001b[0m \u001b[31m1.4 MB/s\u001b[0m eta \u001b[36m0:00:00\u001b[0m\n",
            "\u001b[2K     \u001b[90m━━━━━━━━━━━━━━━━━━━━━━━━━━━━━━━━━━━━━━━━\u001b[0m \u001b[32m67.6/67.6 kB\u001b[0m \u001b[31m1.3 MB/s\u001b[0m eta \u001b[36m0:00:00\u001b[0m\n",
            "\u001b[2K     \u001b[90m━━━━━━━━━━━━━━━━━━━━━━━━━━━━━━━━━━━━━━━━\u001b[0m \u001b[32m138.5/138.5 kB\u001b[0m \u001b[31m1.4 MB/s\u001b[0m eta \u001b[36m0:00:00\u001b[0m\n",
            "\u001b[2K     \u001b[90m━━━━━━━━━━━━━━━━━━━━━━━━━━━━━━━━━━━━━━━━\u001b[0m \u001b[32m46.0/46.0 kB\u001b[0m \u001b[31m1.7 MB/s\u001b[0m eta \u001b[36m0:00:00\u001b[0m\n",
            "\u001b[2K     \u001b[90m━━━━━━━━━━━━━━━━━━━━━━━━━━━━━━━━━━━━━━━━\u001b[0m \u001b[32m50.8/50.8 kB\u001b[0m \u001b[31m1.6 MB/s\u001b[0m eta \u001b[36m0:00:00\u001b[0m\n",
            "\u001b[2K     \u001b[90m━━━━━━━━━━━━━━━━━━━━━━━━━━━━━━━━━━━━━━━━\u001b[0m \u001b[32m86.8/86.8 kB\u001b[0m \u001b[31m1.5 MB/s\u001b[0m eta \u001b[36m0:00:00\u001b[0m\n",
            "\u001b[?25h  Building wheel for FlagEmbedding (setup.py) ... \u001b[?25l\u001b[?25hdone\n",
            "  Building wheel for pypika (pyproject.toml) ... \u001b[?25l\u001b[?25hdone\n",
            "\u001b[31mERROR: pip's dependency resolver does not currently take into account all the packages that are installed. This behaviour is the source of the following dependency conflicts.\n",
            "torchaudio 2.1.0+cu121 requires torch==2.1.0, but you have torch 2.1.2 which is incompatible.\n",
            "torchdata 0.7.0 requires torch==2.1.0, but you have torch 2.1.2 which is incompatible.\n",
            "torchtext 0.16.0 requires torch==2.1.0, but you have torch 2.1.2 which is incompatible.\n",
            "torchvision 0.16.0+cu121 requires torch==2.1.0, but you have torch 2.1.2 which is incompatible.\u001b[0m\u001b[31m\n",
            "\u001b[0m"
          ]
        }
      ],
      "source": [
        "!pip install -q llama-index llama-index-core llama-index-readers-file \\\n",
        "      llama-index-embeddings-huggingface llama-index-postprocessor-flag-embedding-reranker \\\n",
        "      git+https://github.com/FlagOpen/FlagEmbedding.git llama-parse \\\n",
        "      llama-index-llms-vllm vllm\n"
      ]
    },
    {
      "cell_type": "code",
      "source": [
        "from google.colab import drive\n",
        "\n",
        "drive.mount('/content/drive')"
      ],
      "metadata": {
        "colab": {
          "base_uri": "https://localhost:8080/"
        },
        "id": "iYj9Nk-MLfys",
        "outputId": "be03c1bb-1a31-4150-d9b6-8c29c04bb283"
      },
      "execution_count": 3,
      "outputs": [
        {
          "output_type": "stream",
          "name": "stdout",
          "text": [
            "Mounted at /content/drive\n"
          ]
        }
      ]
    },
    {
      "cell_type": "code",
      "source": [
        "%cd /content/drive/MyDrive/DACON_wallpaper_contest_data"
      ],
      "metadata": {
        "colab": {
          "base_uri": "https://localhost:8080/"
        },
        "id": "2Gvv1wuvNuqc",
        "outputId": "3f2b5d29-32b9-4561-d434-2b872bc8ac84"
      },
      "execution_count": 1,
      "outputs": [
        {
          "output_type": "stream",
          "name": "stdout",
          "text": [
            "/content/drive/MyDrive/DACON_wallpaper_contest_data\n"
          ]
        }
      ]
    },
    {
      "cell_type": "code",
      "source": [
        "import os\n",
        "from llama_index.core import VectorStoreIndex, SimpleDirectoryReader, Settings\n",
        "from llama_index.core.embeddings import resolve_embed_model\n",
        "from llama_index.embeddings.huggingface import HuggingFaceEmbedding\n",
        "from llama_index.core import Settings\n",
        "from llama_index.llms.vllm import Vllm"
      ],
      "metadata": {
        "id": "pkEG5_-sCU-6"
      },
      "execution_count": 2,
      "outputs": []
    },
    {
      "cell_type": "code",
      "source": [
        "documents = SimpleDirectoryReader(\"/content/drive/MyDrive/DACON_wallpaper_contest_data/data\").load_data()"
      ],
      "metadata": {
        "id": "VHEx5ttuECK4"
      },
      "execution_count": 3,
      "outputs": []
    },
    {
      "cell_type": "code",
      "source": [
        "os.environ[\"HF_HOME\"] = \"model/\"\n",
        "\n",
        "embed_model = HuggingFaceEmbedding(\n",
        "    model_name=\"BAAI/bge-m3\",\n",
        "    pooling=\"mean\" # \"cls\" is default\n",
        ")\n",
        "\n",
        "llm = Vllm(\n",
        "    model=\"AIFT/AIFT-instruct-dpo-v1.3-42dot_LLM-SFT-1.3B\",\n",
        "    tensor_parallel_size=1,\n",
        "    max_new_tokens=264,\n",
        "    dtype=\"half\",\n",
        "    trust_remote_code=True,\n",
        "    vllm_kwargs={\"swap_space\": 1, \"gpu_memory_utilization\": 0.5},\n",
        ")\n",
        "\n",
        "Settings.llm = llm\n",
        "Settings.embed_model = embed_model\n"
      ],
      "metadata": {
        "colab": {
          "base_uri": "https://localhost:8080/"
        },
        "id": "m_YknAkuKCT-",
        "outputId": "0780cbe4-0626-4325-df54-0d774adeb2ec"
      },
      "execution_count": 4,
      "outputs": [
        {
          "output_type": "stream",
          "name": "stderr",
          "text": [
            "/usr/local/lib/python3.10/dist-packages/huggingface_hub/utils/_token.py:88: UserWarning: \n",
            "The secret `HF_TOKEN` does not exist in your Colab secrets.\n",
            "To authenticate with the Hugging Face Hub, create a token in your settings tab (https://huggingface.co/settings/tokens), set it as secret in your Google Colab and restart your session.\n",
            "You will be able to reuse this secret in all of your notebooks.\n",
            "Please note that authentication is recommended but still optional to access public models or datasets.\n",
            "  warnings.warn(\n"
          ]
        },
        {
          "output_type": "stream",
          "name": "stdout",
          "text": [
            "INFO 03-05 14:46:18 llm_engine.py:87] Initializing an LLM engine with config: model='AIFT/AIFT-instruct-dpo-v1.3-42dot_LLM-SFT-1.3B', tokenizer='AIFT/AIFT-instruct-dpo-v1.3-42dot_LLM-SFT-1.3B', tokenizer_mode=auto, revision=None, tokenizer_revision=None, trust_remote_code=True, dtype=torch.float16, max_seq_len=4096, download_dir=None, load_format=auto, tensor_parallel_size=1, disable_custom_all_reduce=False, quantization=None, enforce_eager=False, kv_cache_dtype=auto, device_config=cuda, seed=0)\n"
          ]
        },
        {
          "output_type": "stream",
          "name": "stderr",
          "text": [
            "Special tokens have been added in the vocabulary, make sure the associated word embeddings are fine-tuned or trained.\n"
          ]
        },
        {
          "output_type": "stream",
          "name": "stdout",
          "text": [
            "INFO 03-05 14:46:23 weight_utils.py:163] Using model weights format ['*.safetensors']\n",
            "INFO 03-05 14:46:38 llm_engine.py:357] # GPU blocks: 1349, # CPU blocks: 341\n",
            "INFO 03-05 14:46:39 model_runner.py:684] Capturing the model for CUDA graphs. This may lead to unexpected consequences if the model is not static. To run the model in eager mode, set 'enforce_eager=True' or use '--enforce-eager' in the CLI.\n",
            "INFO 03-05 14:46:39 model_runner.py:688] CUDA graphs can take additional 1~3 GiB memory per GPU. If you are running out of memory, consider decreasing `gpu_memory_utilization` or enforcing eager mode. You can also reduce the `max_num_seqs` as needed to decrease memory usage.\n",
            "INFO 03-05 14:46:50 model_runner.py:756] Graph capturing finished in 11 secs.\n"
          ]
        }
      ]
    },
    {
      "cell_type": "code",
      "source": [
        "# The csv file is read in left-to-right and then top-to-down order\n",
        "# documents"
      ],
      "metadata": {
        "id": "nB7HL-r0VQk_"
      },
      "execution_count": 4,
      "outputs": []
    },
    {
      "cell_type": "code",
      "source": [
        "index = VectorStoreIndex.from_documents(\n",
        "    documents,\n",
        "    # show_progress=True,\n",
        "    insert_batch_size=2\n",
        ")"
      ],
      "metadata": {
        "id": "dSo_Iij8PBnO"
      },
      "execution_count": 5,
      "outputs": []
    },
    {
      "cell_type": "code",
      "source": [
        "query_engine = index.as_query_engine()\n",
        "response = query_engine.query(\"마감재의 하자를 어떻게 확인할 수 있을까요?\")\n",
        "response"
      ],
      "metadata": {
        "colab": {
          "base_uri": "https://localhost:8080/"
        },
        "id": "BErGrwcgOYB6",
        "outputId": "6450be46-75c4-4c93-d30e-bee9ef5bdaf2"
      },
      "execution_count": 6,
      "outputs": [
        {
          "output_type": "stream",
          "name": "stderr",
          "text": [
            "Processed prompts: 100%|██████████| 1/1 [00:01<00:00,  1.39s/it]\n"
          ]
        },
        {
          "output_type": "execute_result",
          "data": {
            "text/plain": [
              "Response(response='\\n마감재의 하자를 확인하기 위해서는 몇 가지 요소를 고려해야 합니다. 먼저, 주어진 공문서의 설계도서와 일치 여부를 확인해야 합니다. 마감재의 기능, 미관, 안전 등의 측면에서도 고려해야 합니다. 또한, 마감재의 하자 여부를 판단하기 위해서는 전문가의 조언도 구할 수 있습니다. 이렇게 다양한 요소를 고려하여 마감재의 문제 또는 흠결을 찾아내는 것이 중요합니다.', source_nodes=[NodeWithScore(node=TextNode(id_='d36953ab-adc3-43ba-ba93-0806e5c4f794', embedding=None, metadata={'file_path': '/content/drive/MyDrive/DACON_wallpaper_contest_data/data/train.csv', 'file_name': '/content/drive/MyDrive/DACON_wallpaper_contest_data/data/train.csv', 'file_type': 'text/csv', 'file_size': 1486634, 'creation_date': '2024-03-05', 'last_modified_date': '2024-03-03'}, excluded_embed_metadata_keys=['file_name', 'file_type', 'file_size', 'creation_date', 'last_modified_date', 'last_accessed_date'], excluded_llm_metadata_keys=['file_name', 'file_type', 'file_size', 'creation_date', 'last_modified_date', 'last_accessed_date'], relationships={<NodeRelationship.SOURCE: '1'>: RelatedNodeInfo(node_id='197fc9be-e9fb-4462-9017-7760d9e54cb7', node_type=<ObjectType.DOCUMENT: '4'>, metadata={'file_path': '/content/drive/MyDrive/DACON_wallpaper_contest_data/data/train.csv', 'file_name': '/content/drive/MyDrive/DACON_wallpaper_contest_data/data/train.csv', 'file_type': 'text/csv', 'file_size': 1486634, 'creation_date': '2024-03-05', 'last_modified_date': '2024-03-03'}, hash='cb6b143d5be1300067abe98845dfdb2863e97bdc0d608551b26e7c7c459cd4b3'), <NodeRelationship.PREVIOUS: '2'>: RelatedNodeInfo(node_id='74db5eef-c56f-48b8-9dfd-bf4bd3a284f9', node_type=<ObjectType.TEXT: '1'>, metadata={'file_path': '/content/drive/MyDrive/DACON_wallpaper_contest_data/data/train.csv', 'file_name': '/content/drive/MyDrive/DACON_wallpaper_contest_data/data/train.csv', 'file_type': 'text/csv', 'file_size': 1486634, 'creation_date': '2024-03-05', 'last_modified_date': '2024-03-03'}, hash='eb377c739ddd397f2a8ffd691a6f2983b18d65503efd26e61ad4134bdd9b11a8'), <NodeRelationship.NEXT: '3'>: RelatedNodeInfo(node_id='a5652c56-aa78-4528-8051-bef9f9ac8cc6', node_type=<ObjectType.TEXT: '1'>, metadata={}, hash='0527772776fde12345e03c07c92a4b0fdbfecf4b3cf119f4e0f4ba9c0b4f6124')}, text='건축에는 건축물의 기능, 안전, 효율성 뿐만 아니라 적합한 디자인과 환경적 요소까지 종합적으로 고려됩니다., 건축은 건물이나 다른 구조물을 계획하고 설계하고 건설하는 과정과 그 결과물을 의미합니다. 건축은 주택, 상업 시설, 공공 시설 등 다양한 종류의 건물을 설계하고 건설하는 분야를 말합니다. 또한, 건축은 환경, 안전, 기능성, 경제성 및 시각적인 측면을 종합적으로 고려하여 건물을 디자인하고 구축하는 것을 포함합니다.\\nTRAIN_047, 마감재의 하자여부는 어떻게 판단해?, 마감재의 하자를 어떻게 확인할 수 있을까요?, 기타, 마감재의 하자 여부는 설계도서와의 일치 여부, 기능상의 문제 여부, 미관상의 문제 여부, 안전상의 문제 여부 등이 있습니다., 마감재의 하자 여부를 판단하기 위해서는 몇 가지 요소를 고려해야 합니다. 첫째로는 설계도서와의 일치 여부가 있습니다. 마감재가 설계도서에 명시된 내용과 일치하는지 확인해야 합니다. 둘째로는 기능상의 문제, 예를 들어 마감재가 쉽게 파손되거나 사용상의 문제가 있는지를 확인해야 합니다. 그 다음으로는 미관상의 문제 여부도 중요합니다. 마감재의 외관이나 마감재들 간의 조화가 보존되었는지 확인해야 합니다. 마지막으로, 안전상의 문제 여부도 고려해야 합니다. 마감재가 안전에 영향을 미치는 문제가 있는지를 확인하고 조치해야 합니다., 마감재의 하자를 판단하는 방법은 몇 가지가 있습니다. 먼저, 설계도서와의 일치 여부를 확인해야 합니다. 마감재가 설계도에 맞게 적절하게 사용되었는지 확인하는 것이 중요합니다. 또한, 마감재의 기능상 문제와 미관적인 문제, 그리고 안전상의 문제 여부도 확인해야 합니다. 이러한 다양한 요소들을 고려하여 마감재의 하자를 신중하게 판단해야 합니다., 마감재의 하자 여부를 판단하기 위해서는 몇 가지 요소를 고려해야 합니다. 먼저 설계도서와의 일치 여부를 확인해야 하고, 마감재의 기능상 문제 유무를 점검해야 합니다. 또한, 마감재의 미관상 문제나 안전상의 문제도 주의 깊게 살펴야 합니다.', start_char_idx=43119, end_char_idx=44112, text_template='{metadata_str}\\n\\n{content}', metadata_template='{key}: {value}', metadata_seperator='\\n'), score=0.7259334174059551), NodeWithScore(node=TextNode(id_='12947d77-721c-4b45-8576-5613951f2dab', embedding=None, metadata={'file_path': '/content/drive/MyDrive/DACON_wallpaper_contest_data/data/train.csv', 'file_name': '/content/drive/MyDrive/DACON_wallpaper_contest_data/data/train.csv', 'file_type': 'text/csv', 'file_size': 1486634, 'creation_date': '2024-03-05', 'last_modified_date': '2024-03-03'}, excluded_embed_metadata_keys=['file_name', 'file_type', 'file_size', 'creation_date', 'last_modified_date', 'last_accessed_date'], excluded_llm_metadata_keys=['file_name', 'file_type', 'file_size', 'creation_date', 'last_modified_date', 'last_accessed_date'], relationships={<NodeRelationship.SOURCE: '1'>: RelatedNodeInfo(node_id='197fc9be-e9fb-4462-9017-7760d9e54cb7', node_type=<ObjectType.DOCUMENT: '4'>, metadata={'file_path': '/content/drive/MyDrive/DACON_wallpaper_contest_data/data/train.csv', 'file_name': '/content/drive/MyDrive/DACON_wallpaper_contest_data/data/train.csv', 'file_type': 'text/csv', 'file_size': 1486634, 'creation_date': '2024-03-05', 'last_modified_date': '2024-03-03'}, hash='cb6b143d5be1300067abe98845dfdb2863e97bdc0d608551b26e7c7c459cd4b3'), <NodeRelationship.PREVIOUS: '2'>: RelatedNodeInfo(node_id='5300900f-0482-4919-ad00-b99886fea180', node_type=<ObjectType.TEXT: '1'>, metadata={'file_path': '/content/drive/MyDrive/DACON_wallpaper_contest_data/data/train.csv', 'file_name': '/content/drive/MyDrive/DACON_wallpaper_contest_data/data/train.csv', 'file_type': 'text/csv', 'file_size': 1486634, 'creation_date': '2024-03-05', 'last_modified_date': '2024-03-03'}, hash='2b4313ea301eab740f58fe01e28173babd7bbe688abf89c3362a24e23acd7015'), <NodeRelationship.NEXT: '3'>: RelatedNodeInfo(node_id='7dea736b-b51b-4ea5-b6ae-b8e382256993', node_type=<ObjectType.TEXT: '1'>, metadata={}, hash='28c821e808164737a335494c1d2fc9a4f6f49b107ab9b1f835dc7604d8691c54')}, text='그러나 만약 석고보드 원지와 벽지 원지에 존재하는 승화 염료가 벽지 표면으로 완전하게 이염된 경우 반점을 제거하기 어렵습니다. 이 경우 벽지를 재시공하는 것이 필요합니다. 배경지의 상태에 따라 전문가의 조언을 구하시기 바랍니다.\\nTRAIN_347, 부주의한 시공으로 인해 도배지 패턴이 이어지지 않을 수 있어?, 부주의한 시공으로 인해 도배지 패턴이 연결되지 않는 경우가 있나요?, 마감하자, 시공자의 부주의에 의해 도배지 무늬 패턴에 맞지 않을 수 있습니다., 부주의한 시공으로 도배지의 무늬 패턴이 이어지지 않을 수 있습니다. 도배 작업을 할 때에는 정확한 측량과 꼼꼼한 작업이 필요한데, 이를 소홀히 하면 각 패널 사이의 패턴이 맞지 않을 수 있습니다. 따라서 시공자는 세심한 주의를 기울여야 하며, 도배 작업을 시작하기 전에 패턴의 일치 여부를 반드시 확인해야 합니다., 도배지 패턴이 이어지지 않을 수 있는 이유는 주로 시공자의 부주의 때문입니다. 정확한 도배지 패턴을 만들기 위해서는 신경써야 할 부분이 많은데, 시공 과정에서의 부주의로 인해 원하는 패턴을 얻지 못할 수 있습니다. 가능한 해결책은 시공자로부터 다시 작업을 요청하거나, 전문적인 도움을 받아야 합니다., 도배지의 패턴이 이어지지 않는 것은 시공자의 부주의로 인해 발생할 수 있습니다. 따라서 도배 작업을 시행할 때에는 경험이 풍부한 전문가에게 의뢰하여 정교한 시공을 보장하는 것이 중요합니다. 부족한 경험 또는 지식으로 인해 패턴이 이어지지 않을 수 있으므로, 견고한 전문가와의 협력을 통해 문제를 예방하는 것이 바람직합니다., 시공자의 부주의로 인해 도배지 무늬 패턴이 이어지지 않을 수 있습니다. 부지런한 시공과 신중한 작업이 필요하며, 시공자의 주의를 요구합니다.\\nTRAIN_348, 도배지가 찢어졌어, 도배지가 찢어진 경우 어떻게 복원할 수 있나요?, 마감하자, 도배지가 찢어진 하자를 터짐 하자라고 합니다. 터짐 하자가 발생하는 원인 - 책임소재 - 해결방법에 대해 설명드리겠습니다. 1. 기존 실크 벽지 불완전 제거 원인 : 기존 실크 벽지를 제대로 제거하지 않은 경우 터짐 하자가 발생할 수 있습니다. 책임소재 : 시공자 해결 방법 : 시공사에 연락하여 재시공을 요청할 수 있습니다. 2.', start_char_idx=307797, end_char_idx=308904, text_template='{metadata_str}\\n\\n{content}', metadata_template='{key}: {value}', metadata_seperator='\\n'), score=0.6871384259778045)], metadata={'d36953ab-adc3-43ba-ba93-0806e5c4f794': {'file_path': '/content/drive/MyDrive/DACON_wallpaper_contest_data/data/train.csv', 'file_name': '/content/drive/MyDrive/DACON_wallpaper_contest_data/data/train.csv', 'file_type': 'text/csv', 'file_size': 1486634, 'creation_date': '2024-03-05', 'last_modified_date': '2024-03-03'}, '12947d77-721c-4b45-8576-5613951f2dab': {'file_path': '/content/drive/MyDrive/DACON_wallpaper_contest_data/data/train.csv', 'file_name': '/content/drive/MyDrive/DACON_wallpaper_contest_data/data/train.csv', 'file_type': 'text/csv', 'file_size': 1486634, 'creation_date': '2024-03-05', 'last_modified_date': '2024-03-03'}})"
            ]
          },
          "metadata": {},
          "execution_count": 6
        }
      ]
    },
    {
      "cell_type": "code",
      "source": [
        "from llama_index.core import VectorStoreIndex, get_response_synthesizer\n",
        "from llama_index.core.retrievers import VectorIndexRetriever\n",
        "from llama_index.core.query_engine import RetrieverQueryEngine\n",
        "\n",
        "# build index\n",
        "# index = VectorStoreIndex.from_documents(documents)\n",
        "\n",
        "# configure retriever\n",
        "retriever = VectorIndexRetriever(\n",
        "    index=index,\n",
        "    similarity_top_k=4,\n",
        ")\n",
        "\n",
        "# configure response synthesizer\n",
        "response_synthesizer = get_response_synthesizer(\n",
        "    response_mode=\"compact\",\n",
        ")\n",
        "\n",
        "# assemble query engine\n",
        "query_engine = RetrieverQueryEngine(\n",
        "    retriever=retriever,\n",
        "    response_synthesizer=response_synthesizer,\n",
        ")\n",
        "\n"
      ],
      "metadata": {
        "id": "AzjQJqAoRYNA"
      },
      "execution_count": 7,
      "outputs": []
    },
    {
      "cell_type": "code",
      "source": [
        "# query\n",
        "question = \"경량철골구조가 뭐야?\"\n",
        "contexts = retriever.retrieve(question)\n",
        "contexts"
      ],
      "metadata": {
        "colab": {
          "base_uri": "https://localhost:8080/"
        },
        "id": "NIuZAr1mUcFZ",
        "outputId": "b2f6b561-d7c8-48ff-df1d-b189757b5a18"
      },
      "execution_count": 8,
      "outputs": [
        {
          "output_type": "execute_result",
          "data": {
            "text/plain": [
              "[NodeWithScore(node=TextNode(id_='55ac1148-954e-4d55-b31b-61559af54709', embedding=None, metadata={'file_path': '/content/drive/MyDrive/DACON_wallpaper_contest_data/data/train.csv', 'file_name': '/content/drive/MyDrive/DACON_wallpaper_contest_data/data/train.csv', 'file_type': 'text/csv', 'file_size': 1486634, 'creation_date': '2024-03-05', 'last_modified_date': '2024-03-03'}, excluded_embed_metadata_keys=['file_name', 'file_type', 'file_size', 'creation_date', 'last_modified_date', 'last_accessed_date'], excluded_llm_metadata_keys=['file_name', 'file_type', 'file_size', 'creation_date', 'last_modified_date', 'last_accessed_date'], relationships={<NodeRelationship.SOURCE: '1'>: RelatedNodeInfo(node_id='197fc9be-e9fb-4462-9017-7760d9e54cb7', node_type=<ObjectType.DOCUMENT: '4'>, metadata={'file_path': '/content/drive/MyDrive/DACON_wallpaper_contest_data/data/train.csv', 'file_name': '/content/drive/MyDrive/DACON_wallpaper_contest_data/data/train.csv', 'file_type': 'text/csv', 'file_size': 1486634, 'creation_date': '2024-03-05', 'last_modified_date': '2024-03-03'}, hash='cb6b143d5be1300067abe98845dfdb2863e97bdc0d608551b26e7c7c459cd4b3'), <NodeRelationship.PREVIOUS: '2'>: RelatedNodeInfo(node_id='87834dfd-6d9d-451a-816a-5d70d8a0960f', node_type=<ObjectType.TEXT: '1'>, metadata={'file_path': '/content/drive/MyDrive/DACON_wallpaper_contest_data/data/train.csv', 'file_name': '/content/drive/MyDrive/DACON_wallpaper_contest_data/data/train.csv', 'file_type': 'text/csv', 'file_size': 1486634, 'creation_date': '2024-03-05', 'last_modified_date': '2024-03-03'}, hash='eed3902d05e859d6bb45f4eff38fcca1221f55377d571f98d72f3b555a03a888'), <NodeRelationship.NEXT: '3'>: RelatedNodeInfo(node_id='e58c77ae-29e4-4b3e-bab9-2c2efbdc3fe1', node_type=<ObjectType.TEXT: '1'>, metadata={}, hash='faf96f928e0cf00a973e1db45957b995847a7f91a9721bd95390d88fe8afaf42')}, text='먼저 내진설계에서 안정성이 높은 순서는 내진구조, 제진구조, 면진구조 순으로 됩니다. 내진구조는 지진 시 건물의 외력을 지진으로부터 분산시키는 역할을 하며 안정성이 가장 높은 구조로 여겨집니다.제진구조는 지진 시 발생하는 충격과 역행력을 흡수하고 건물을 보호하는 역할을 하며 고층 건물 등에서 사용됩니다. 마지막으로 면진구조는 지진으로 인한 외력을 외벽 등을 통해 건물 구조 내부로 전달하는 구조로, 안정성이 상대적으로 낮은 구조입니다.\\nTRAIN_028, 경량목구조 방식이 뭐야?, 경량목구조 방식은 무엇인가요?, 건축구조, 경량목구조 방식은 투바이포 공법이라고도 불리며 2x4(inch)의 각재를 사용하여 수평 및 수직 격판이 상호 긴밀하게 결합되어 수평, 수직 하중에 저항하는 상자형 구조로 설계상 거의 제약이 없어 원하는 구조와 디자인을 연출할 수 있으며 지진에도 강한 저항능력을 가집니다. 경량목구조는 가벼운 목재를 사용하기 때문에 붙여진 이름이지만 200년 이상 활용되어 왔으며, 오늘날 가장 대중적읜 건축양식으로 미국, 캐나다 등 일반 주택의 대부분이 이 방식으로 건축됐습니다., 경량목구조 방식은 주로 2x4(inch) 크기의 각재를 사용하여, 수평 및 수직 격판이 상호 긴밀하게 결합되어 상자형 구조를 형성하는 건축 방식입니다. 이 방식은 건축물의 구조와 디자인을 자유롭게 연출할 수 있는 장점이 있을 뿐만 아니라 지진 등에 대한 강한 저항력을 가지고 있습니다. 또한 경량목구조는 가벼운 목재를 사용하여 지어졌다는 이름을 가지고 있지만, 실제로는 200년 이상의 역사를 가지고 있으며 미국, 캐나다 등에서 가장 보편적으로 사용되는 건축 방식 중 하나입니다., 경량목구조 방식은 2x4(inch)의 각재를 사용하여 수평 및 수직 격판이 상호 긴밀하게 결합되어 수평, 수직 하중에 저항하는 상자형 구조로 설계되는 방식입니다. 이 구조는 거의 제약이 없어 원하는 구조와 디자인을 연출할 수 있을 뿐더러 지진에도 강한 저항 능력을 가지고 있습니다.', start_char_idx=25516, end_char_idx=26499, text_template='{metadata_str}\\n\\n{content}', metadata_template='{key}: {value}', metadata_seperator='\\n'), score=0.6997385375622832),\n",
              " NodeWithScore(node=TextNode(id_='e29c5b5b-0395-4fc0-ab5a-789c8aba9664', embedding=None, metadata={'file_path': '/content/drive/MyDrive/DACON_wallpaper_contest_data/data/train.csv', 'file_name': '/content/drive/MyDrive/DACON_wallpaper_contest_data/data/train.csv', 'file_type': 'text/csv', 'file_size': 1486634, 'creation_date': '2024-03-05', 'last_modified_date': '2024-03-03'}, excluded_embed_metadata_keys=['file_name', 'file_type', 'file_size', 'creation_date', 'last_modified_date', 'last_accessed_date'], excluded_llm_metadata_keys=['file_name', 'file_type', 'file_size', 'creation_date', 'last_modified_date', 'last_accessed_date'], relationships={<NodeRelationship.SOURCE: '1'>: RelatedNodeInfo(node_id='197fc9be-e9fb-4462-9017-7760d9e54cb7', node_type=<ObjectType.DOCUMENT: '4'>, metadata={'file_path': '/content/drive/MyDrive/DACON_wallpaper_contest_data/data/train.csv', 'file_name': '/content/drive/MyDrive/DACON_wallpaper_contest_data/data/train.csv', 'file_type': 'text/csv', 'file_size': 1486634, 'creation_date': '2024-03-05', 'last_modified_date': '2024-03-03'}, hash='cb6b143d5be1300067abe98845dfdb2863e97bdc0d608551b26e7c7c459cd4b3'), <NodeRelationship.PREVIOUS: '2'>: RelatedNodeInfo(node_id='39ca8da5-35d8-4c68-8439-891fdda2db5c', node_type=<ObjectType.TEXT: '1'>, metadata={'file_path': '/content/drive/MyDrive/DACON_wallpaper_contest_data/data/train.csv', 'file_name': '/content/drive/MyDrive/DACON_wallpaper_contest_data/data/train.csv', 'file_type': 'text/csv', 'file_size': 1486634, 'creation_date': '2024-03-05', 'last_modified_date': '2024-03-03'}, hash='5d73c37e23e4c73b72005fa12040e87e00bcbb29696ac8bf6d7eeed249816e88'), <NodeRelationship.NEXT: '3'>: RelatedNodeInfo(node_id='cec121d5-788e-46fd-b71d-df4f8aa99df4', node_type=<ObjectType.TEXT: '1'>, metadata={}, hash='80442a1f8be5c47bad30301af87d1df942ffa9c8095ff3b5edf430914afb112e')}, text='통나무구조 방식, 중목구조 방식, 기둥-보 구조방식, 그리고 경량목구조 방식이 대표적입니다. 이러한 목구조 방식은 건물의 목재 사용량, 강도, 경량화 등을 고려하여 선택됩니다., 목구조는 건물의 구조를 지탱하는데 사용되는 다양한 방식이 있습니다. 주요한 목구조 방식으로는 통나무구조 방식, 중목구조 방식, 기둥-보 구조방식, 경량목구조 방식 등이 있습니다. 이러한 목구조 방식은 건물의 용도, 크기, 지형, 지역적 특성 등을 고려하여 적합한 방식을 선택해야 합니다.\\nTRAIN_020, 경량철골구조가 뭐야?, 경량철골구조는 어떤 구조인가요?, 건축구조, 경량철골구조는 약 1.5~3mm 두께의 철골을 사용하며 각각 파이프, C형 찬넬, LEB 자재 등을 말합니다. 주로 주택, 장고, 농자재 등에 사용되며 가성비가 높은 자재입니다., 경량철골구조는 약 1.5~3mm 두께의 철골을 사용하며 각각 파이프, C형 찬넬, LEB 자재 등을 활용합니다. 이러한 경량철골구조는 대개 주택, 창고, 농가 등에서 사용되며 비용 대비 강도가 좋고 경량화로 건축 시간을 단축시킬 수 있는 장점이 있습니다., 경량철골구조는 약 1.5~3mm 두께의 철골을 사용하며 각각 파이프, C형 찬넬, LEB 자재 등을 이용하여 건축하는 구조물을 말합니다. 일반적으로 주택, 창고, 농자재 등에 사용되며 경량이면서도 강도가 높기 때문에 건축물의 안정성을 확보하면서도 경제적으로 시공할 수 있다는 장점이 있습니다., 경량철골구조는 주로 주택, 창고, 농자재 등에 사용되며, 약 1.5~3mm 두께의 철골로 이루어져 있습니다. 이러한 경량철골구조는 주로 파이프, C형 채널, LEB 자재 등을 사용하여 건축물을 구성하는 구조체입니다. 이러한 구조물은 경제적이면서도 강도가 뛰어나기 때문에 많은 건물에서 사용됩니다., 경량철골구조는 1.5~3mm 두께의 철골을 사용하는 구조로, 파이프, C형 찬넬, LEB 자재 등으로 구성됩니다. 이러한 구조는 일반적으로 주택, 창고, 농자재 등에 사용되며 경제적인 재료로서 널리 사용됩니다. 경량철골구조는 경량이면서 동시에 강도를 유지하는 특징을 가지고 있어 다양한 건물에 적용됩니다.', start_char_idx=17735, end_char_idx=18792, text_template='{metadata_str}\\n\\n{content}', metadata_template='{key}: {value}', metadata_seperator='\\n'), score=0.6979034780554085),\n",
              " NodeWithScore(node=TextNode(id_='37b9adf5-bbcd-45b3-bfd4-9a6bc7367e0c', embedding=None, metadata={'file_path': '/content/drive/MyDrive/DACON_wallpaper_contest_data/data/train.csv', 'file_name': '/content/drive/MyDrive/DACON_wallpaper_contest_data/data/train.csv', 'file_type': 'text/csv', 'file_size': 1486634, 'creation_date': '2024-03-05', 'last_modified_date': '2024-03-03'}, excluded_embed_metadata_keys=['file_name', 'file_type', 'file_size', 'creation_date', 'last_modified_date', 'last_accessed_date'], excluded_llm_metadata_keys=['file_name', 'file_type', 'file_size', 'creation_date', 'last_modified_date', 'last_accessed_date'], relationships={<NodeRelationship.SOURCE: '1'>: RelatedNodeInfo(node_id='197fc9be-e9fb-4462-9017-7760d9e54cb7', node_type=<ObjectType.DOCUMENT: '4'>, metadata={'file_path': '/content/drive/MyDrive/DACON_wallpaper_contest_data/data/train.csv', 'file_name': '/content/drive/MyDrive/DACON_wallpaper_contest_data/data/train.csv', 'file_type': 'text/csv', 'file_size': 1486634, 'creation_date': '2024-03-05', 'last_modified_date': '2024-03-03'}, hash='cb6b143d5be1300067abe98845dfdb2863e97bdc0d608551b26e7c7c459cd4b3'), <NodeRelationship.PREVIOUS: '2'>: RelatedNodeInfo(node_id='5b65cd9a-d110-4d59-be32-ec1d21a98d7b', node_type=<ObjectType.TEXT: '1'>, metadata={'file_path': '/content/drive/MyDrive/DACON_wallpaper_contest_data/data/train.csv', 'file_name': '/content/drive/MyDrive/DACON_wallpaper_contest_data/data/train.csv', 'file_type': 'text/csv', 'file_size': 1486634, 'creation_date': '2024-03-05', 'last_modified_date': '2024-03-03'}, hash='5b78c8f00e03bdf8243bdb8ddb9bc07546d03004002999dba0a0694c76988e7d'), <NodeRelationship.NEXT: '3'>: RelatedNodeInfo(node_id='a9a2c685-380c-438b-88d8-b98f19a8b216', node_type=<ObjectType.TEXT: '1'>, metadata={}, hash='95204662a6b44e68ff15718d29aa745784977a6edeffe7ccfa4b0a74ea94afb7')}, text='일반철골구조는 주로 대형 건물이나 공업시설에 사용되는 반면, 경량철골구조는 주거용이나 상업시설에 사용되는 경량의 철골구조입니다. 이 두 가지 방식은 건축물의 용도와 규모에 따라 적합한 방식을 선택하여 사용됩니다.\\nTRAIN_005, 커튼월이 뭐야?, 커튼월이란 무엇인가요?, 건축구조, 커튼월은 건물의 하중을 모두 기중, 들보, 바닥, 지붕으로 지탱하고, 외벽은 하중을 부담하지 않은 채 마치 커튼을 치듯 건축자재를 돌려쳐 외벽으로 삼는 건축 양식이다., 커튼월은 건물의 외벽이 하중을 부담하지 않으면서도 건축자재를 외벽으로 배치하는 건축 양식을 말합니다. 이를 통해 건물의 하중은 모두 기둥, 바닥, 지붕 등으로 전달되며, 외벽은 하중을 부담하지 않는 특징을 갖고 있습니다., 커튼월은 건물의 하중을 모두 기중, 들보, 바닥, 지붕으로 지탱하고, 외벽은 하중을 부담하지 않은 채 마치 커튼을 치듯 건축자재를 돌려쳐 외벽으로 삼는 건축 양식이다. 이 양식은 건물 외벽에서 외부와 내부를 분리하여 디자인적인 요소로 사용될 수 있기도 하며, 안정적인 건축구조를 유지하는 데 도움을 줄 수 있습니다., 커튼월은 건물의 구조 중 하중을 외벽으로 전달하지 않으며, 대신 기중, 들보, 바닥, 그리고 지붕이 하중을 지탱하는 건축 양식을 의미합니다. 이로써 외벽은 하중을 부담하지 않고, 건축자재가 마치 커튼을 걸듯 돌려쳐져서 외벽으로 삼게 됩니다., 커튼월은 건물의 구조적인 하중을 외벽이 아닌 들보, 기중, 바닥, 지붕으로 모두 지탱하고, 외벽은 하중을 부담하지 않으면서 건축자재를 마치 커튼을 덮듯이 외벽으로 삼는 건축 양식입니다. 이를 통해 외벽은 장식적이거나 방역적인 역할을 하면서도 외벽의 고강도를 이용하여 내력적인 효과를 발생시킵니다.', start_char_idx=5001, end_char_idx=5860, text_template='{metadata_str}\\n\\n{content}', metadata_template='{key}: {value}', metadata_seperator='\\n'), score=0.6915630391949402),\n",
              " NodeWithScore(node=TextNode(id_='e58c77ae-29e4-4b3e-bab9-2c2efbdc3fe1', embedding=None, metadata={'file_path': '/content/drive/MyDrive/DACON_wallpaper_contest_data/data/train.csv', 'file_name': '/content/drive/MyDrive/DACON_wallpaper_contest_data/data/train.csv', 'file_type': 'text/csv', 'file_size': 1486634, 'creation_date': '2024-03-05', 'last_modified_date': '2024-03-03'}, excluded_embed_metadata_keys=['file_name', 'file_type', 'file_size', 'creation_date', 'last_modified_date', 'last_accessed_date'], excluded_llm_metadata_keys=['file_name', 'file_type', 'file_size', 'creation_date', 'last_modified_date', 'last_accessed_date'], relationships={<NodeRelationship.SOURCE: '1'>: RelatedNodeInfo(node_id='197fc9be-e9fb-4462-9017-7760d9e54cb7', node_type=<ObjectType.DOCUMENT: '4'>, metadata={'file_path': '/content/drive/MyDrive/DACON_wallpaper_contest_data/data/train.csv', 'file_name': '/content/drive/MyDrive/DACON_wallpaper_contest_data/data/train.csv', 'file_type': 'text/csv', 'file_size': 1486634, 'creation_date': '2024-03-05', 'last_modified_date': '2024-03-03'}, hash='cb6b143d5be1300067abe98845dfdb2863e97bdc0d608551b26e7c7c459cd4b3'), <NodeRelationship.PREVIOUS: '2'>: RelatedNodeInfo(node_id='55ac1148-954e-4d55-b31b-61559af54709', node_type=<ObjectType.TEXT: '1'>, metadata={'file_path': '/content/drive/MyDrive/DACON_wallpaper_contest_data/data/train.csv', 'file_name': '/content/drive/MyDrive/DACON_wallpaper_contest_data/data/train.csv', 'file_type': 'text/csv', 'file_size': 1486634, 'creation_date': '2024-03-05', 'last_modified_date': '2024-03-03'}, hash='c94e1bef5e056cfe3f5bb47c74360de5464003512364a4c1b27d53e14991e8e4'), <NodeRelationship.NEXT: '3'>: RelatedNodeInfo(node_id='14139aee-11f0-484f-bb1b-a432a32babc4', node_type=<ObjectType.TEXT: '1'>, metadata={}, hash='b079d2119def1aab5cdc0d5153474167b653321f2bd9ca154a42e88d63e8e553')}, text='이 구조는 거의 제약이 없어 원하는 구조와 디자인을 연출할 수 있을 뿐더러 지진에도 강한 저항 능력을 가지고 있습니다. 또한, 경량목구조는 가벼운 목재를 사용하기 때문에 붙여진 이름이지만 200년 이상 활용되어 왔으며, 오늘날 가장 대중적인 건축양식으로 미국, 캐나다 등 일반 주택의 대부분이 이 방식으로 건축되어 왔습니다., 경량목구조 방식, 또는 투바이포 공법이라고도 불리는 이 방식은 2x4(inch)의 각재를 사용하여 수평 및 수직 격판이 상호 긴밀하게 결합되어 상자형 구조로 설계되는 것입니다. 이 구조는 건물의 디자인에 제약이 거의 없으며 지진에 대한 강한 저항 능력을 갖추고 있습니다. 또한, 경량목구조는 가벼운 목재를 사용하지만 이미 200년 이상 활용되어 왔고, 오늘날 가장 대중적인 건축 양식 중 하나로 미국, 캐나다를 포함한 많은 나라에서 주택 건축에 널리 사용되고 있습니다., 경량목구조 방식은 전통적으로 투바이포 공법이라고도 불리며, 2x4 (인치)의 각재를 사용하여 수평 및 수직 격판이 상호 긴밀하게 결합되어 상자형 구조로 설계됩니다. 이 구조는 전반적으로 건물 디자인 및 구조에 제한이 적어 원하는 형태와 디자인을 자유롭게 연출할 수 있는 장점을 가지고 있습니다. 또한, 지진에 대한 강한 저항 능력이 있는 것으로 알려져 있습니다. \"경량목구조\"라는 이름에서 유추할 수 있듯이 가벼운 목재가 사용되었지만, 이 방식은 200년 이상의 역사를 가지고 있으며 현재 미국과 캐나다를 포함한 많은 국가에서 매우 대중적인 건축 방식으로 사용되고 있습니다.\\nTRAIN_029, 조적식 구조가 뭐야?, 조적식 구조에 대해 좀 더 자세히 설명해 주실 수 있을까요?, 건축구조, 조적식 구조는 벽돌 또는 콘크리트 블록을 모르타르로 점착하여 쌓는 구조로서 주택과 같은 소규모 건물에 쓰이며 내습, 내구성이 좋고 내화구조이며 경제적이어서 가장 보편적인 방식으로 평가됩니다. 단, 수평방향의 외력에 대하여 약점으로 보이며 단일 벽체면으로 쌓을 수 있는 수평, 수직적인 한계가 있습니다., 조적식 구조는 벽돌 또는 콘크리트 블록을 모르타르로 서로 접착하여 쌓아 만드는 구조 방식을 말합니다.', start_char_idx=26433, end_char_idx=27493, text_template='{metadata_str}\\n\\n{content}', metadata_template='{key}: {value}', metadata_seperator='\\n'), score=0.6904236829691355)]"
            ]
          },
          "metadata": {},
          "execution_count": 8
        }
      ]
    },
    {
      "cell_type": "code",
      "source": [
        "context_list = [n.get_content() for n in contexts]\n",
        "len(context_list)"
      ],
      "metadata": {
        "colab": {
          "base_uri": "https://localhost:8080/"
        },
        "id": "AwV6gfgVimUy",
        "outputId": "7b602b15-90ef-433c-aec5-bb7688343ef4"
      },
      "execution_count": 9,
      "outputs": [
        {
          "output_type": "execute_result",
          "data": {
            "text/plain": [
              "4"
            ]
          },
          "metadata": {},
          "execution_count": 9
        }
      ]
    },
    {
      "cell_type": "code",
      "source": [
        "prompt = \"\\n\\n\".join(context_list + [question])\n",
        "response = llm.complete(prompt)\n",
        "print(str(response))"
      ],
      "metadata": {
        "colab": {
          "base_uri": "https://localhost:8080/"
        },
        "id": "cUNAJvsDSUb5",
        "outputId": "64ba293b-2a32-45c7-99ff-af8913fb8b76"
      },
      "execution_count": 10,
      "outputs": [
        {
          "output_type": "stream",
          "name": "stderr",
          "text": [
            "Processed prompts: 100%|██████████| 1/1 [00:04<00:00,  4.19s/it]"
          ]
        },
        {
          "output_type": "stream",
          "name": "stdout",
          "text": [
            "\n",
            "건축구조, 경량철골구조는 약 1.5~3mm 두께의 철골을 사용하여 건축물을 지탱하는 구조체를 말합니다. 저렴하면서도 강도가 높아 건축물의 안정성을 제공하면서도 경제적인 비용으로 시공할 수 있습니다. 크기가 소형인 건물이나 기술 발전에 따라 강화가 필요한 건축 구조에 적합합니다.\n",
            "\n",
            "커튼월이란?\n",
            "커튼월은 건물의 하중을 모두 기중, 들보, 바닥, 지붕으로 지탱하고, 외벽은 하중을 부담하지 않는 채 외벽으로 돌려치는 구조를 의미합니다. 이를 통해 건물 외벽에서 외부와 내부를 분리시켜 디자인적인 요소로 사용할 수 있고, 건물을 지탱하는 하중을 외벽으로 전달하지 않으므로 외벽이 고강도를 갖게 되어 건물의 안정성을 확보하게 됩니다. 또한, 커튼월은 일본 건축에서 유래한 것으로 외벽에 장식을 얹는 구조입니다.\n",
            "\n",
            "경량철골구조는?\n",
            "건축구조, 경량철골구조는 1.5~3mm 두께의 철골로 이루어진 구조체를 사용하여 건축물을 지탱하는 구조 방식입니다. 대형 건물이나 공업시설에 주로 사용되며, 저렴한 비용으로 외벽을 감싸는\n"
          ]
        },
        {
          "output_type": "stream",
          "name": "stderr",
          "text": [
            "\n"
          ]
        }
      ]
    }
  ]
}