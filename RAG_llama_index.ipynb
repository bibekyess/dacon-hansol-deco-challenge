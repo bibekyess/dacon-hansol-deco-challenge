{
  "nbformat": 4,
  "nbformat_minor": 0,
  "metadata": {
    "colab": {
      "provenance": [],
      "gpuType": "T4",
      "include_colab_link": true
    },
    "kernelspec": {
      "name": "python3",
      "display_name": "Python 3"
    },
    "language_info": {
      "name": "python"
    },
    "accelerator": "GPU",
    "widgets": {
      "application/vnd.jupyter.widget-state+json": {
        "a2f7d38ad7fc44db9c8f73aab69db333": {
          "model_module": "@jupyter-widgets/controls",
          "model_name": "HBoxModel",
          "model_module_version": "1.5.0",
          "state": {
            "_dom_classes": [],
            "_model_module": "@jupyter-widgets/controls",
            "_model_module_version": "1.5.0",
            "_model_name": "HBoxModel",
            "_view_count": null,
            "_view_module": "@jupyter-widgets/controls",
            "_view_module_version": "1.5.0",
            "_view_name": "HBoxView",
            "box_style": "",
            "children": [
              "IPY_MODEL_bc0b5d9b562a49aeb5e0d53d22a584e4",
              "IPY_MODEL_712f6ef5410748a7a28c9ba44061ec78",
              "IPY_MODEL_557a41697cc245ab8574abfbdfb9966b"
            ],
            "layout": "IPY_MODEL_6560c108874c4920bb490d3035e622c8"
          }
        },
        "bc0b5d9b562a49aeb5e0d53d22a584e4": {
          "model_module": "@jupyter-widgets/controls",
          "model_name": "HTMLModel",
          "model_module_version": "1.5.0",
          "state": {
            "_dom_classes": [],
            "_model_module": "@jupyter-widgets/controls",
            "_model_module_version": "1.5.0",
            "_model_name": "HTMLModel",
            "_view_count": null,
            "_view_module": "@jupyter-widgets/controls",
            "_view_module_version": "1.5.0",
            "_view_name": "HTMLView",
            "description": "",
            "description_tooltip": null,
            "layout": "IPY_MODEL_43f589a83ef949f9bb4f68315495b2b1",
            "placeholder": "​",
            "style": "IPY_MODEL_8144ed800dc34142b8ab1a8e06b1e6a3",
            "value": "model.safetensors.index.json: 100%"
          }
        },
        "712f6ef5410748a7a28c9ba44061ec78": {
          "model_module": "@jupyter-widgets/controls",
          "model_name": "FloatProgressModel",
          "model_module_version": "1.5.0",
          "state": {
            "_dom_classes": [],
            "_model_module": "@jupyter-widgets/controls",
            "_model_module_version": "1.5.0",
            "_model_name": "FloatProgressModel",
            "_view_count": null,
            "_view_module": "@jupyter-widgets/controls",
            "_view_module_version": "1.5.0",
            "_view_name": "ProgressView",
            "bar_style": "success",
            "description": "",
            "description_tooltip": null,
            "layout": "IPY_MODEL_b0ff342e19cb47348ba7e54e73c14c47",
            "max": 35838,
            "min": 0,
            "orientation": "horizontal",
            "style": "IPY_MODEL_5c348cbd59584c0a8f655dd038d8ed18",
            "value": 35838
          }
        },
        "557a41697cc245ab8574abfbdfb9966b": {
          "model_module": "@jupyter-widgets/controls",
          "model_name": "HTMLModel",
          "model_module_version": "1.5.0",
          "state": {
            "_dom_classes": [],
            "_model_module": "@jupyter-widgets/controls",
            "_model_module_version": "1.5.0",
            "_model_name": "HTMLModel",
            "_view_count": null,
            "_view_module": "@jupyter-widgets/controls",
            "_view_module_version": "1.5.0",
            "_view_name": "HTMLView",
            "description": "",
            "description_tooltip": null,
            "layout": "IPY_MODEL_3be25c4fdf1c4634b3aeb96b143fc4a5",
            "placeholder": "​",
            "style": "IPY_MODEL_9f27f21a78f54fd59e3da6b1c7353dcb",
            "value": " 35.8k/35.8k [00:00&lt;00:00, 557kB/s]"
          }
        },
        "6560c108874c4920bb490d3035e622c8": {
          "model_module": "@jupyter-widgets/base",
          "model_name": "LayoutModel",
          "model_module_version": "1.2.0",
          "state": {
            "_model_module": "@jupyter-widgets/base",
            "_model_module_version": "1.2.0",
            "_model_name": "LayoutModel",
            "_view_count": null,
            "_view_module": "@jupyter-widgets/base",
            "_view_module_version": "1.2.0",
            "_view_name": "LayoutView",
            "align_content": null,
            "align_items": null,
            "align_self": null,
            "border": null,
            "bottom": null,
            "display": null,
            "flex": null,
            "flex_flow": null,
            "grid_area": null,
            "grid_auto_columns": null,
            "grid_auto_flow": null,
            "grid_auto_rows": null,
            "grid_column": null,
            "grid_gap": null,
            "grid_row": null,
            "grid_template_areas": null,
            "grid_template_columns": null,
            "grid_template_rows": null,
            "height": null,
            "justify_content": null,
            "justify_items": null,
            "left": null,
            "margin": null,
            "max_height": null,
            "max_width": null,
            "min_height": null,
            "min_width": null,
            "object_fit": null,
            "object_position": null,
            "order": null,
            "overflow": null,
            "overflow_x": null,
            "overflow_y": null,
            "padding": null,
            "right": null,
            "top": null,
            "visibility": null,
            "width": null
          }
        },
        "43f589a83ef949f9bb4f68315495b2b1": {
          "model_module": "@jupyter-widgets/base",
          "model_name": "LayoutModel",
          "model_module_version": "1.2.0",
          "state": {
            "_model_module": "@jupyter-widgets/base",
            "_model_module_version": "1.2.0",
            "_model_name": "LayoutModel",
            "_view_count": null,
            "_view_module": "@jupyter-widgets/base",
            "_view_module_version": "1.2.0",
            "_view_name": "LayoutView",
            "align_content": null,
            "align_items": null,
            "align_self": null,
            "border": null,
            "bottom": null,
            "display": null,
            "flex": null,
            "flex_flow": null,
            "grid_area": null,
            "grid_auto_columns": null,
            "grid_auto_flow": null,
            "grid_auto_rows": null,
            "grid_column": null,
            "grid_gap": null,
            "grid_row": null,
            "grid_template_areas": null,
            "grid_template_columns": null,
            "grid_template_rows": null,
            "height": null,
            "justify_content": null,
            "justify_items": null,
            "left": null,
            "margin": null,
            "max_height": null,
            "max_width": null,
            "min_height": null,
            "min_width": null,
            "object_fit": null,
            "object_position": null,
            "order": null,
            "overflow": null,
            "overflow_x": null,
            "overflow_y": null,
            "padding": null,
            "right": null,
            "top": null,
            "visibility": null,
            "width": null
          }
        },
        "8144ed800dc34142b8ab1a8e06b1e6a3": {
          "model_module": "@jupyter-widgets/controls",
          "model_name": "DescriptionStyleModel",
          "model_module_version": "1.5.0",
          "state": {
            "_model_module": "@jupyter-widgets/controls",
            "_model_module_version": "1.5.0",
            "_model_name": "DescriptionStyleModel",
            "_view_count": null,
            "_view_module": "@jupyter-widgets/base",
            "_view_module_version": "1.2.0",
            "_view_name": "StyleView",
            "description_width": ""
          }
        },
        "b0ff342e19cb47348ba7e54e73c14c47": {
          "model_module": "@jupyter-widgets/base",
          "model_name": "LayoutModel",
          "model_module_version": "1.2.0",
          "state": {
            "_model_module": "@jupyter-widgets/base",
            "_model_module_version": "1.2.0",
            "_model_name": "LayoutModel",
            "_view_count": null,
            "_view_module": "@jupyter-widgets/base",
            "_view_module_version": "1.2.0",
            "_view_name": "LayoutView",
            "align_content": null,
            "align_items": null,
            "align_self": null,
            "border": null,
            "bottom": null,
            "display": null,
            "flex": null,
            "flex_flow": null,
            "grid_area": null,
            "grid_auto_columns": null,
            "grid_auto_flow": null,
            "grid_auto_rows": null,
            "grid_column": null,
            "grid_gap": null,
            "grid_row": null,
            "grid_template_areas": null,
            "grid_template_columns": null,
            "grid_template_rows": null,
            "height": null,
            "justify_content": null,
            "justify_items": null,
            "left": null,
            "margin": null,
            "max_height": null,
            "max_width": null,
            "min_height": null,
            "min_width": null,
            "object_fit": null,
            "object_position": null,
            "order": null,
            "overflow": null,
            "overflow_x": null,
            "overflow_y": null,
            "padding": null,
            "right": null,
            "top": null,
            "visibility": null,
            "width": null
          }
        },
        "5c348cbd59584c0a8f655dd038d8ed18": {
          "model_module": "@jupyter-widgets/controls",
          "model_name": "ProgressStyleModel",
          "model_module_version": "1.5.0",
          "state": {
            "_model_module": "@jupyter-widgets/controls",
            "_model_module_version": "1.5.0",
            "_model_name": "ProgressStyleModel",
            "_view_count": null,
            "_view_module": "@jupyter-widgets/base",
            "_view_module_version": "1.2.0",
            "_view_name": "StyleView",
            "bar_color": null,
            "description_width": ""
          }
        },
        "3be25c4fdf1c4634b3aeb96b143fc4a5": {
          "model_module": "@jupyter-widgets/base",
          "model_name": "LayoutModel",
          "model_module_version": "1.2.0",
          "state": {
            "_model_module": "@jupyter-widgets/base",
            "_model_module_version": "1.2.0",
            "_model_name": "LayoutModel",
            "_view_count": null,
            "_view_module": "@jupyter-widgets/base",
            "_view_module_version": "1.2.0",
            "_view_name": "LayoutView",
            "align_content": null,
            "align_items": null,
            "align_self": null,
            "border": null,
            "bottom": null,
            "display": null,
            "flex": null,
            "flex_flow": null,
            "grid_area": null,
            "grid_auto_columns": null,
            "grid_auto_flow": null,
            "grid_auto_rows": null,
            "grid_column": null,
            "grid_gap": null,
            "grid_row": null,
            "grid_template_areas": null,
            "grid_template_columns": null,
            "grid_template_rows": null,
            "height": null,
            "justify_content": null,
            "justify_items": null,
            "left": null,
            "margin": null,
            "max_height": null,
            "max_width": null,
            "min_height": null,
            "min_width": null,
            "object_fit": null,
            "object_position": null,
            "order": null,
            "overflow": null,
            "overflow_x": null,
            "overflow_y": null,
            "padding": null,
            "right": null,
            "top": null,
            "visibility": null,
            "width": null
          }
        },
        "9f27f21a78f54fd59e3da6b1c7353dcb": {
          "model_module": "@jupyter-widgets/controls",
          "model_name": "DescriptionStyleModel",
          "model_module_version": "1.5.0",
          "state": {
            "_model_module": "@jupyter-widgets/controls",
            "_model_module_version": "1.5.0",
            "_model_name": "DescriptionStyleModel",
            "_view_count": null,
            "_view_module": "@jupyter-widgets/base",
            "_view_module_version": "1.2.0",
            "_view_name": "StyleView",
            "description_width": ""
          }
        },
        "f155858519de4a34b723a65cfecd8b10": {
          "model_module": "@jupyter-widgets/controls",
          "model_name": "HBoxModel",
          "model_module_version": "1.5.0",
          "state": {
            "_dom_classes": [],
            "_model_module": "@jupyter-widgets/controls",
            "_model_module_version": "1.5.0",
            "_model_name": "HBoxModel",
            "_view_count": null,
            "_view_module": "@jupyter-widgets/controls",
            "_view_module_version": "1.5.0",
            "_view_name": "HBoxView",
            "box_style": "",
            "children": [
              "IPY_MODEL_4bb852b0a155469986c96b1a67928491",
              "IPY_MODEL_07d247ce603e4ebf815c8eac231b2990",
              "IPY_MODEL_4d7545ff4f314095a077b57b97d76173"
            ],
            "layout": "IPY_MODEL_060f469f0f88419cba9330edb218f38b"
          }
        },
        "4bb852b0a155469986c96b1a67928491": {
          "model_module": "@jupyter-widgets/controls",
          "model_name": "HTMLModel",
          "model_module_version": "1.5.0",
          "state": {
            "_dom_classes": [],
            "_model_module": "@jupyter-widgets/controls",
            "_model_module_version": "1.5.0",
            "_model_name": "HTMLModel",
            "_view_count": null,
            "_view_module": "@jupyter-widgets/controls",
            "_view_module_version": "1.5.0",
            "_view_name": "HTMLView",
            "description": "",
            "description_tooltip": null,
            "layout": "IPY_MODEL_37ef2b02cf174583b3634ef513cce0d5",
            "placeholder": "​",
            "style": "IPY_MODEL_8c4d24e7f8d24046befe98e724a194bb",
            "value": "Downloading shards: 100%"
          }
        },
        "07d247ce603e4ebf815c8eac231b2990": {
          "model_module": "@jupyter-widgets/controls",
          "model_name": "FloatProgressModel",
          "model_module_version": "1.5.0",
          "state": {
            "_dom_classes": [],
            "_model_module": "@jupyter-widgets/controls",
            "_model_module_version": "1.5.0",
            "_model_name": "FloatProgressModel",
            "_view_count": null,
            "_view_module": "@jupyter-widgets/controls",
            "_view_module_version": "1.5.0",
            "_view_name": "ProgressView",
            "bar_style": "success",
            "description": "",
            "description_tooltip": null,
            "layout": "IPY_MODEL_b21eda706d6b4325b9cd1b102e652e9d",
            "max": 5,
            "min": 0,
            "orientation": "horizontal",
            "style": "IPY_MODEL_d4b149cd2c0e47df80c553bddfc9637b",
            "value": 5
          }
        },
        "4d7545ff4f314095a077b57b97d76173": {
          "model_module": "@jupyter-widgets/controls",
          "model_name": "HTMLModel",
          "model_module_version": "1.5.0",
          "state": {
            "_dom_classes": [],
            "_model_module": "@jupyter-widgets/controls",
            "_model_module_version": "1.5.0",
            "_model_name": "HTMLModel",
            "_view_count": null,
            "_view_module": "@jupyter-widgets/controls",
            "_view_module_version": "1.5.0",
            "_view_name": "HTMLView",
            "description": "",
            "description_tooltip": null,
            "layout": "IPY_MODEL_c9a929b00e92428d9addd450338d1992",
            "placeholder": "​",
            "style": "IPY_MODEL_7871c3a416bd4254b69103ccaf8774a2",
            "value": " 5/5 [05:40&lt;00:00, 62.06s/it]"
          }
        },
        "060f469f0f88419cba9330edb218f38b": {
          "model_module": "@jupyter-widgets/base",
          "model_name": "LayoutModel",
          "model_module_version": "1.2.0",
          "state": {
            "_model_module": "@jupyter-widgets/base",
            "_model_module_version": "1.2.0",
            "_model_name": "LayoutModel",
            "_view_count": null,
            "_view_module": "@jupyter-widgets/base",
            "_view_module_version": "1.2.0",
            "_view_name": "LayoutView",
            "align_content": null,
            "align_items": null,
            "align_self": null,
            "border": null,
            "bottom": null,
            "display": null,
            "flex": null,
            "flex_flow": null,
            "grid_area": null,
            "grid_auto_columns": null,
            "grid_auto_flow": null,
            "grid_auto_rows": null,
            "grid_column": null,
            "grid_gap": null,
            "grid_row": null,
            "grid_template_areas": null,
            "grid_template_columns": null,
            "grid_template_rows": null,
            "height": null,
            "justify_content": null,
            "justify_items": null,
            "left": null,
            "margin": null,
            "max_height": null,
            "max_width": null,
            "min_height": null,
            "min_width": null,
            "object_fit": null,
            "object_position": null,
            "order": null,
            "overflow": null,
            "overflow_x": null,
            "overflow_y": null,
            "padding": null,
            "right": null,
            "top": null,
            "visibility": null,
            "width": null
          }
        },
        "37ef2b02cf174583b3634ef513cce0d5": {
          "model_module": "@jupyter-widgets/base",
          "model_name": "LayoutModel",
          "model_module_version": "1.2.0",
          "state": {
            "_model_module": "@jupyter-widgets/base",
            "_model_module_version": "1.2.0",
            "_model_name": "LayoutModel",
            "_view_count": null,
            "_view_module": "@jupyter-widgets/base",
            "_view_module_version": "1.2.0",
            "_view_name": "LayoutView",
            "align_content": null,
            "align_items": null,
            "align_self": null,
            "border": null,
            "bottom": null,
            "display": null,
            "flex": null,
            "flex_flow": null,
            "grid_area": null,
            "grid_auto_columns": null,
            "grid_auto_flow": null,
            "grid_auto_rows": null,
            "grid_column": null,
            "grid_gap": null,
            "grid_row": null,
            "grid_template_areas": null,
            "grid_template_columns": null,
            "grid_template_rows": null,
            "height": null,
            "justify_content": null,
            "justify_items": null,
            "left": null,
            "margin": null,
            "max_height": null,
            "max_width": null,
            "min_height": null,
            "min_width": null,
            "object_fit": null,
            "object_position": null,
            "order": null,
            "overflow": null,
            "overflow_x": null,
            "overflow_y": null,
            "padding": null,
            "right": null,
            "top": null,
            "visibility": null,
            "width": null
          }
        },
        "8c4d24e7f8d24046befe98e724a194bb": {
          "model_module": "@jupyter-widgets/controls",
          "model_name": "DescriptionStyleModel",
          "model_module_version": "1.5.0",
          "state": {
            "_model_module": "@jupyter-widgets/controls",
            "_model_module_version": "1.5.0",
            "_model_name": "DescriptionStyleModel",
            "_view_count": null,
            "_view_module": "@jupyter-widgets/base",
            "_view_module_version": "1.2.0",
            "_view_name": "StyleView",
            "description_width": ""
          }
        },
        "b21eda706d6b4325b9cd1b102e652e9d": {
          "model_module": "@jupyter-widgets/base",
          "model_name": "LayoutModel",
          "model_module_version": "1.2.0",
          "state": {
            "_model_module": "@jupyter-widgets/base",
            "_model_module_version": "1.2.0",
            "_model_name": "LayoutModel",
            "_view_count": null,
            "_view_module": "@jupyter-widgets/base",
            "_view_module_version": "1.2.0",
            "_view_name": "LayoutView",
            "align_content": null,
            "align_items": null,
            "align_self": null,
            "border": null,
            "bottom": null,
            "display": null,
            "flex": null,
            "flex_flow": null,
            "grid_area": null,
            "grid_auto_columns": null,
            "grid_auto_flow": null,
            "grid_auto_rows": null,
            "grid_column": null,
            "grid_gap": null,
            "grid_row": null,
            "grid_template_areas": null,
            "grid_template_columns": null,
            "grid_template_rows": null,
            "height": null,
            "justify_content": null,
            "justify_items": null,
            "left": null,
            "margin": null,
            "max_height": null,
            "max_width": null,
            "min_height": null,
            "min_width": null,
            "object_fit": null,
            "object_position": null,
            "order": null,
            "overflow": null,
            "overflow_x": null,
            "overflow_y": null,
            "padding": null,
            "right": null,
            "top": null,
            "visibility": null,
            "width": null
          }
        },
        "d4b149cd2c0e47df80c553bddfc9637b": {
          "model_module": "@jupyter-widgets/controls",
          "model_name": "ProgressStyleModel",
          "model_module_version": "1.5.0",
          "state": {
            "_model_module": "@jupyter-widgets/controls",
            "_model_module_version": "1.5.0",
            "_model_name": "ProgressStyleModel",
            "_view_count": null,
            "_view_module": "@jupyter-widgets/base",
            "_view_module_version": "1.2.0",
            "_view_name": "StyleView",
            "bar_color": null,
            "description_width": ""
          }
        },
        "c9a929b00e92428d9addd450338d1992": {
          "model_module": "@jupyter-widgets/base",
          "model_name": "LayoutModel",
          "model_module_version": "1.2.0",
          "state": {
            "_model_module": "@jupyter-widgets/base",
            "_model_module_version": "1.2.0",
            "_model_name": "LayoutModel",
            "_view_count": null,
            "_view_module": "@jupyter-widgets/base",
            "_view_module_version": "1.2.0",
            "_view_name": "LayoutView",
            "align_content": null,
            "align_items": null,
            "align_self": null,
            "border": null,
            "bottom": null,
            "display": null,
            "flex": null,
            "flex_flow": null,
            "grid_area": null,
            "grid_auto_columns": null,
            "grid_auto_flow": null,
            "grid_auto_rows": null,
            "grid_column": null,
            "grid_gap": null,
            "grid_row": null,
            "grid_template_areas": null,
            "grid_template_columns": null,
            "grid_template_rows": null,
            "height": null,
            "justify_content": null,
            "justify_items": null,
            "left": null,
            "margin": null,
            "max_height": null,
            "max_width": null,
            "min_height": null,
            "min_width": null,
            "object_fit": null,
            "object_position": null,
            "order": null,
            "overflow": null,
            "overflow_x": null,
            "overflow_y": null,
            "padding": null,
            "right": null,
            "top": null,
            "visibility": null,
            "width": null
          }
        },
        "7871c3a416bd4254b69103ccaf8774a2": {
          "model_module": "@jupyter-widgets/controls",
          "model_name": "DescriptionStyleModel",
          "model_module_version": "1.5.0",
          "state": {
            "_model_module": "@jupyter-widgets/controls",
            "_model_module_version": "1.5.0",
            "_model_name": "DescriptionStyleModel",
            "_view_count": null,
            "_view_module": "@jupyter-widgets/base",
            "_view_module_version": "1.2.0",
            "_view_name": "StyleView",
            "description_width": ""
          }
        },
        "5c8873f9464642bf8de24802026a6776": {
          "model_module": "@jupyter-widgets/controls",
          "model_name": "HBoxModel",
          "model_module_version": "1.5.0",
          "state": {
            "_dom_classes": [],
            "_model_module": "@jupyter-widgets/controls",
            "_model_module_version": "1.5.0",
            "_model_name": "HBoxModel",
            "_view_count": null,
            "_view_module": "@jupyter-widgets/controls",
            "_view_module_version": "1.5.0",
            "_view_name": "HBoxView",
            "box_style": "",
            "children": [
              "IPY_MODEL_4b38b860fbcf4183a064fd17efe82768",
              "IPY_MODEL_c5ebf879606b49bb8cfa3f6f9f71f807",
              "IPY_MODEL_731a71088f6248f8a9c43ccc41a531b8"
            ],
            "layout": "IPY_MODEL_449f1d883d894d04974ae4c5cac1540e"
          }
        },
        "4b38b860fbcf4183a064fd17efe82768": {
          "model_module": "@jupyter-widgets/controls",
          "model_name": "HTMLModel",
          "model_module_version": "1.5.0",
          "state": {
            "_dom_classes": [],
            "_model_module": "@jupyter-widgets/controls",
            "_model_module_version": "1.5.0",
            "_model_name": "HTMLModel",
            "_view_count": null,
            "_view_module": "@jupyter-widgets/controls",
            "_view_module_version": "1.5.0",
            "_view_name": "HTMLView",
            "description": "",
            "description_tooltip": null,
            "layout": "IPY_MODEL_3975b72c5fca4246b40dd6a81e5a8d39",
            "placeholder": "​",
            "style": "IPY_MODEL_ed66d6306d674823b43e370e19d401fc",
            "value": "model-00001-of-00005.safetensors: 100%"
          }
        },
        "c5ebf879606b49bb8cfa3f6f9f71f807": {
          "model_module": "@jupyter-widgets/controls",
          "model_name": "FloatProgressModel",
          "model_module_version": "1.5.0",
          "state": {
            "_dom_classes": [],
            "_model_module": "@jupyter-widgets/controls",
            "_model_module_version": "1.5.0",
            "_model_name": "FloatProgressModel",
            "_view_count": null,
            "_view_module": "@jupyter-widgets/controls",
            "_view_module_version": "1.5.0",
            "_view_name": "ProgressView",
            "bar_style": "success",
            "description": "",
            "description_tooltip": null,
            "layout": "IPY_MODEL_d547d106051d479a9679de9e2f91d6f8",
            "max": 4956793616,
            "min": 0,
            "orientation": "horizontal",
            "style": "IPY_MODEL_67da659d32c2448d9ea530264bcefee9",
            "value": 4956793616
          }
        },
        "731a71088f6248f8a9c43ccc41a531b8": {
          "model_module": "@jupyter-widgets/controls",
          "model_name": "HTMLModel",
          "model_module_version": "1.5.0",
          "state": {
            "_dom_classes": [],
            "_model_module": "@jupyter-widgets/controls",
            "_model_module_version": "1.5.0",
            "_model_name": "HTMLModel",
            "_view_count": null,
            "_view_module": "@jupyter-widgets/controls",
            "_view_module_version": "1.5.0",
            "_view_name": "HTMLView",
            "description": "",
            "description_tooltip": null,
            "layout": "IPY_MODEL_d310c457a72243a291fecac3a586bfd2",
            "placeholder": "​",
            "style": "IPY_MODEL_cbe64438ea1245ae89ff1eb1eab3f04e",
            "value": " 4.96G/4.96G [01:20&lt;00:00, 20.1MB/s]"
          }
        },
        "449f1d883d894d04974ae4c5cac1540e": {
          "model_module": "@jupyter-widgets/base",
          "model_name": "LayoutModel",
          "model_module_version": "1.2.0",
          "state": {
            "_model_module": "@jupyter-widgets/base",
            "_model_module_version": "1.2.0",
            "_model_name": "LayoutModel",
            "_view_count": null,
            "_view_module": "@jupyter-widgets/base",
            "_view_module_version": "1.2.0",
            "_view_name": "LayoutView",
            "align_content": null,
            "align_items": null,
            "align_self": null,
            "border": null,
            "bottom": null,
            "display": null,
            "flex": null,
            "flex_flow": null,
            "grid_area": null,
            "grid_auto_columns": null,
            "grid_auto_flow": null,
            "grid_auto_rows": null,
            "grid_column": null,
            "grid_gap": null,
            "grid_row": null,
            "grid_template_areas": null,
            "grid_template_columns": null,
            "grid_template_rows": null,
            "height": null,
            "justify_content": null,
            "justify_items": null,
            "left": null,
            "margin": null,
            "max_height": null,
            "max_width": null,
            "min_height": null,
            "min_width": null,
            "object_fit": null,
            "object_position": null,
            "order": null,
            "overflow": null,
            "overflow_x": null,
            "overflow_y": null,
            "padding": null,
            "right": null,
            "top": null,
            "visibility": null,
            "width": null
          }
        },
        "3975b72c5fca4246b40dd6a81e5a8d39": {
          "model_module": "@jupyter-widgets/base",
          "model_name": "LayoutModel",
          "model_module_version": "1.2.0",
          "state": {
            "_model_module": "@jupyter-widgets/base",
            "_model_module_version": "1.2.0",
            "_model_name": "LayoutModel",
            "_view_count": null,
            "_view_module": "@jupyter-widgets/base",
            "_view_module_version": "1.2.0",
            "_view_name": "LayoutView",
            "align_content": null,
            "align_items": null,
            "align_self": null,
            "border": null,
            "bottom": null,
            "display": null,
            "flex": null,
            "flex_flow": null,
            "grid_area": null,
            "grid_auto_columns": null,
            "grid_auto_flow": null,
            "grid_auto_rows": null,
            "grid_column": null,
            "grid_gap": null,
            "grid_row": null,
            "grid_template_areas": null,
            "grid_template_columns": null,
            "grid_template_rows": null,
            "height": null,
            "justify_content": null,
            "justify_items": null,
            "left": null,
            "margin": null,
            "max_height": null,
            "max_width": null,
            "min_height": null,
            "min_width": null,
            "object_fit": null,
            "object_position": null,
            "order": null,
            "overflow": null,
            "overflow_x": null,
            "overflow_y": null,
            "padding": null,
            "right": null,
            "top": null,
            "visibility": null,
            "width": null
          }
        },
        "ed66d6306d674823b43e370e19d401fc": {
          "model_module": "@jupyter-widgets/controls",
          "model_name": "DescriptionStyleModel",
          "model_module_version": "1.5.0",
          "state": {
            "_model_module": "@jupyter-widgets/controls",
            "_model_module_version": "1.5.0",
            "_model_name": "DescriptionStyleModel",
            "_view_count": null,
            "_view_module": "@jupyter-widgets/base",
            "_view_module_version": "1.2.0",
            "_view_name": "StyleView",
            "description_width": ""
          }
        },
        "d547d106051d479a9679de9e2f91d6f8": {
          "model_module": "@jupyter-widgets/base",
          "model_name": "LayoutModel",
          "model_module_version": "1.2.0",
          "state": {
            "_model_module": "@jupyter-widgets/base",
            "_model_module_version": "1.2.0",
            "_model_name": "LayoutModel",
            "_view_count": null,
            "_view_module": "@jupyter-widgets/base",
            "_view_module_version": "1.2.0",
            "_view_name": "LayoutView",
            "align_content": null,
            "align_items": null,
            "align_self": null,
            "border": null,
            "bottom": null,
            "display": null,
            "flex": null,
            "flex_flow": null,
            "grid_area": null,
            "grid_auto_columns": null,
            "grid_auto_flow": null,
            "grid_auto_rows": null,
            "grid_column": null,
            "grid_gap": null,
            "grid_row": null,
            "grid_template_areas": null,
            "grid_template_columns": null,
            "grid_template_rows": null,
            "height": null,
            "justify_content": null,
            "justify_items": null,
            "left": null,
            "margin": null,
            "max_height": null,
            "max_width": null,
            "min_height": null,
            "min_width": null,
            "object_fit": null,
            "object_position": null,
            "order": null,
            "overflow": null,
            "overflow_x": null,
            "overflow_y": null,
            "padding": null,
            "right": null,
            "top": null,
            "visibility": null,
            "width": null
          }
        },
        "67da659d32c2448d9ea530264bcefee9": {
          "model_module": "@jupyter-widgets/controls",
          "model_name": "ProgressStyleModel",
          "model_module_version": "1.5.0",
          "state": {
            "_model_module": "@jupyter-widgets/controls",
            "_model_module_version": "1.5.0",
            "_model_name": "ProgressStyleModel",
            "_view_count": null,
            "_view_module": "@jupyter-widgets/base",
            "_view_module_version": "1.2.0",
            "_view_name": "StyleView",
            "bar_color": null,
            "description_width": ""
          }
        },
        "d310c457a72243a291fecac3a586bfd2": {
          "model_module": "@jupyter-widgets/base",
          "model_name": "LayoutModel",
          "model_module_version": "1.2.0",
          "state": {
            "_model_module": "@jupyter-widgets/base",
            "_model_module_version": "1.2.0",
            "_model_name": "LayoutModel",
            "_view_count": null,
            "_view_module": "@jupyter-widgets/base",
            "_view_module_version": "1.2.0",
            "_view_name": "LayoutView",
            "align_content": null,
            "align_items": null,
            "align_self": null,
            "border": null,
            "bottom": null,
            "display": null,
            "flex": null,
            "flex_flow": null,
            "grid_area": null,
            "grid_auto_columns": null,
            "grid_auto_flow": null,
            "grid_auto_rows": null,
            "grid_column": null,
            "grid_gap": null,
            "grid_row": null,
            "grid_template_areas": null,
            "grid_template_columns": null,
            "grid_template_rows": null,
            "height": null,
            "justify_content": null,
            "justify_items": null,
            "left": null,
            "margin": null,
            "max_height": null,
            "max_width": null,
            "min_height": null,
            "min_width": null,
            "object_fit": null,
            "object_position": null,
            "order": null,
            "overflow": null,
            "overflow_x": null,
            "overflow_y": null,
            "padding": null,
            "right": null,
            "top": null,
            "visibility": null,
            "width": null
          }
        },
        "cbe64438ea1245ae89ff1eb1eab3f04e": {
          "model_module": "@jupyter-widgets/controls",
          "model_name": "DescriptionStyleModel",
          "model_module_version": "1.5.0",
          "state": {
            "_model_module": "@jupyter-widgets/controls",
            "_model_module_version": "1.5.0",
            "_model_name": "DescriptionStyleModel",
            "_view_count": null,
            "_view_module": "@jupyter-widgets/base",
            "_view_module_version": "1.2.0",
            "_view_name": "StyleView",
            "description_width": ""
          }
        },
        "62a60927485a490eb11a00151e143255": {
          "model_module": "@jupyter-widgets/controls",
          "model_name": "HBoxModel",
          "model_module_version": "1.5.0",
          "state": {
            "_dom_classes": [],
            "_model_module": "@jupyter-widgets/controls",
            "_model_module_version": "1.5.0",
            "_model_name": "HBoxModel",
            "_view_count": null,
            "_view_module": "@jupyter-widgets/controls",
            "_view_module_version": "1.5.0",
            "_view_name": "HBoxView",
            "box_style": "",
            "children": [
              "IPY_MODEL_ee01974878b44d0e8e20fe019172321a",
              "IPY_MODEL_6656aef949e04615afae8c5b8a4cd233",
              "IPY_MODEL_d6effa689ac74207b8baec106c9f6a50"
            ],
            "layout": "IPY_MODEL_73a0ee9ca81949aeba782fbe0cc5db9a"
          }
        },
        "ee01974878b44d0e8e20fe019172321a": {
          "model_module": "@jupyter-widgets/controls",
          "model_name": "HTMLModel",
          "model_module_version": "1.5.0",
          "state": {
            "_dom_classes": [],
            "_model_module": "@jupyter-widgets/controls",
            "_model_module_version": "1.5.0",
            "_model_name": "HTMLModel",
            "_view_count": null,
            "_view_module": "@jupyter-widgets/controls",
            "_view_module_version": "1.5.0",
            "_view_name": "HTMLView",
            "description": "",
            "description_tooltip": null,
            "layout": "IPY_MODEL_70113414512a4acca825081fbe9d5f60",
            "placeholder": "​",
            "style": "IPY_MODEL_5af18f56ff4c45d1b5ed8454962040c2",
            "value": "model-00002-of-00005.safetensors: 100%"
          }
        },
        "6656aef949e04615afae8c5b8a4cd233": {
          "model_module": "@jupyter-widgets/controls",
          "model_name": "FloatProgressModel",
          "model_module_version": "1.5.0",
          "state": {
            "_dom_classes": [],
            "_model_module": "@jupyter-widgets/controls",
            "_model_module_version": "1.5.0",
            "_model_name": "FloatProgressModel",
            "_view_count": null,
            "_view_module": "@jupyter-widgets/controls",
            "_view_module_version": "1.5.0",
            "_view_name": "ProgressView",
            "bar_style": "success",
            "description": "",
            "description_tooltip": null,
            "layout": "IPY_MODEL_950946a4fca24df58bee128dd140e59d",
            "max": 4915916080,
            "min": 0,
            "orientation": "horizontal",
            "style": "IPY_MODEL_f91119e2b7f547679764900afd7bfacc",
            "value": 4915916080
          }
        },
        "d6effa689ac74207b8baec106c9f6a50": {
          "model_module": "@jupyter-widgets/controls",
          "model_name": "HTMLModel",
          "model_module_version": "1.5.0",
          "state": {
            "_dom_classes": [],
            "_model_module": "@jupyter-widgets/controls",
            "_model_module_version": "1.5.0",
            "_model_name": "HTMLModel",
            "_view_count": null,
            "_view_module": "@jupyter-widgets/controls",
            "_view_module_version": "1.5.0",
            "_view_name": "HTMLView",
            "description": "",
            "description_tooltip": null,
            "layout": "IPY_MODEL_681dd9189865469f94cba5e4beaf2a4b",
            "placeholder": "​",
            "style": "IPY_MODEL_85693991fa9e4987bcd5f19157859e96",
            "value": " 4.92G/4.92G [01:05&lt;00:00, 173MB/s]"
          }
        },
        "73a0ee9ca81949aeba782fbe0cc5db9a": {
          "model_module": "@jupyter-widgets/base",
          "model_name": "LayoutModel",
          "model_module_version": "1.2.0",
          "state": {
            "_model_module": "@jupyter-widgets/base",
            "_model_module_version": "1.2.0",
            "_model_name": "LayoutModel",
            "_view_count": null,
            "_view_module": "@jupyter-widgets/base",
            "_view_module_version": "1.2.0",
            "_view_name": "LayoutView",
            "align_content": null,
            "align_items": null,
            "align_self": null,
            "border": null,
            "bottom": null,
            "display": null,
            "flex": null,
            "flex_flow": null,
            "grid_area": null,
            "grid_auto_columns": null,
            "grid_auto_flow": null,
            "grid_auto_rows": null,
            "grid_column": null,
            "grid_gap": null,
            "grid_row": null,
            "grid_template_areas": null,
            "grid_template_columns": null,
            "grid_template_rows": null,
            "height": null,
            "justify_content": null,
            "justify_items": null,
            "left": null,
            "margin": null,
            "max_height": null,
            "max_width": null,
            "min_height": null,
            "min_width": null,
            "object_fit": null,
            "object_position": null,
            "order": null,
            "overflow": null,
            "overflow_x": null,
            "overflow_y": null,
            "padding": null,
            "right": null,
            "top": null,
            "visibility": null,
            "width": null
          }
        },
        "70113414512a4acca825081fbe9d5f60": {
          "model_module": "@jupyter-widgets/base",
          "model_name": "LayoutModel",
          "model_module_version": "1.2.0",
          "state": {
            "_model_module": "@jupyter-widgets/base",
            "_model_module_version": "1.2.0",
            "_model_name": "LayoutModel",
            "_view_count": null,
            "_view_module": "@jupyter-widgets/base",
            "_view_module_version": "1.2.0",
            "_view_name": "LayoutView",
            "align_content": null,
            "align_items": null,
            "align_self": null,
            "border": null,
            "bottom": null,
            "display": null,
            "flex": null,
            "flex_flow": null,
            "grid_area": null,
            "grid_auto_columns": null,
            "grid_auto_flow": null,
            "grid_auto_rows": null,
            "grid_column": null,
            "grid_gap": null,
            "grid_row": null,
            "grid_template_areas": null,
            "grid_template_columns": null,
            "grid_template_rows": null,
            "height": null,
            "justify_content": null,
            "justify_items": null,
            "left": null,
            "margin": null,
            "max_height": null,
            "max_width": null,
            "min_height": null,
            "min_width": null,
            "object_fit": null,
            "object_position": null,
            "order": null,
            "overflow": null,
            "overflow_x": null,
            "overflow_y": null,
            "padding": null,
            "right": null,
            "top": null,
            "visibility": null,
            "width": null
          }
        },
        "5af18f56ff4c45d1b5ed8454962040c2": {
          "model_module": "@jupyter-widgets/controls",
          "model_name": "DescriptionStyleModel",
          "model_module_version": "1.5.0",
          "state": {
            "_model_module": "@jupyter-widgets/controls",
            "_model_module_version": "1.5.0",
            "_model_name": "DescriptionStyleModel",
            "_view_count": null,
            "_view_module": "@jupyter-widgets/base",
            "_view_module_version": "1.2.0",
            "_view_name": "StyleView",
            "description_width": ""
          }
        },
        "950946a4fca24df58bee128dd140e59d": {
          "model_module": "@jupyter-widgets/base",
          "model_name": "LayoutModel",
          "model_module_version": "1.2.0",
          "state": {
            "_model_module": "@jupyter-widgets/base",
            "_model_module_version": "1.2.0",
            "_model_name": "LayoutModel",
            "_view_count": null,
            "_view_module": "@jupyter-widgets/base",
            "_view_module_version": "1.2.0",
            "_view_name": "LayoutView",
            "align_content": null,
            "align_items": null,
            "align_self": null,
            "border": null,
            "bottom": null,
            "display": null,
            "flex": null,
            "flex_flow": null,
            "grid_area": null,
            "grid_auto_columns": null,
            "grid_auto_flow": null,
            "grid_auto_rows": null,
            "grid_column": null,
            "grid_gap": null,
            "grid_row": null,
            "grid_template_areas": null,
            "grid_template_columns": null,
            "grid_template_rows": null,
            "height": null,
            "justify_content": null,
            "justify_items": null,
            "left": null,
            "margin": null,
            "max_height": null,
            "max_width": null,
            "min_height": null,
            "min_width": null,
            "object_fit": null,
            "object_position": null,
            "order": null,
            "overflow": null,
            "overflow_x": null,
            "overflow_y": null,
            "padding": null,
            "right": null,
            "top": null,
            "visibility": null,
            "width": null
          }
        },
        "f91119e2b7f547679764900afd7bfacc": {
          "model_module": "@jupyter-widgets/controls",
          "model_name": "ProgressStyleModel",
          "model_module_version": "1.5.0",
          "state": {
            "_model_module": "@jupyter-widgets/controls",
            "_model_module_version": "1.5.0",
            "_model_name": "ProgressStyleModel",
            "_view_count": null,
            "_view_module": "@jupyter-widgets/base",
            "_view_module_version": "1.2.0",
            "_view_name": "StyleView",
            "bar_color": null,
            "description_width": ""
          }
        },
        "681dd9189865469f94cba5e4beaf2a4b": {
          "model_module": "@jupyter-widgets/base",
          "model_name": "LayoutModel",
          "model_module_version": "1.2.0",
          "state": {
            "_model_module": "@jupyter-widgets/base",
            "_model_module_version": "1.2.0",
            "_model_name": "LayoutModel",
            "_view_count": null,
            "_view_module": "@jupyter-widgets/base",
            "_view_module_version": "1.2.0",
            "_view_name": "LayoutView",
            "align_content": null,
            "align_items": null,
            "align_self": null,
            "border": null,
            "bottom": null,
            "display": null,
            "flex": null,
            "flex_flow": null,
            "grid_area": null,
            "grid_auto_columns": null,
            "grid_auto_flow": null,
            "grid_auto_rows": null,
            "grid_column": null,
            "grid_gap": null,
            "grid_row": null,
            "grid_template_areas": null,
            "grid_template_columns": null,
            "grid_template_rows": null,
            "height": null,
            "justify_content": null,
            "justify_items": null,
            "left": null,
            "margin": null,
            "max_height": null,
            "max_width": null,
            "min_height": null,
            "min_width": null,
            "object_fit": null,
            "object_position": null,
            "order": null,
            "overflow": null,
            "overflow_x": null,
            "overflow_y": null,
            "padding": null,
            "right": null,
            "top": null,
            "visibility": null,
            "width": null
          }
        },
        "85693991fa9e4987bcd5f19157859e96": {
          "model_module": "@jupyter-widgets/controls",
          "model_name": "DescriptionStyleModel",
          "model_module_version": "1.5.0",
          "state": {
            "_model_module": "@jupyter-widgets/controls",
            "_model_module_version": "1.5.0",
            "_model_name": "DescriptionStyleModel",
            "_view_count": null,
            "_view_module": "@jupyter-widgets/base",
            "_view_module_version": "1.2.0",
            "_view_name": "StyleView",
            "description_width": ""
          }
        },
        "96fab3963706489ea8a25ccd7b1842b3": {
          "model_module": "@jupyter-widgets/controls",
          "model_name": "HBoxModel",
          "model_module_version": "1.5.0",
          "state": {
            "_dom_classes": [],
            "_model_module": "@jupyter-widgets/controls",
            "_model_module_version": "1.5.0",
            "_model_name": "HBoxModel",
            "_view_count": null,
            "_view_module": "@jupyter-widgets/controls",
            "_view_module_version": "1.5.0",
            "_view_name": "HBoxView",
            "box_style": "",
            "children": [
              "IPY_MODEL_a7978b708f4b401a99d1962a0d184d30",
              "IPY_MODEL_8f0319a21e454e2babc2791aab18d824",
              "IPY_MODEL_602ed37a8a354493b6a882e172b6a99c"
            ],
            "layout": "IPY_MODEL_f25ac906c8bc43a98377ea46ecef8904"
          }
        },
        "a7978b708f4b401a99d1962a0d184d30": {
          "model_module": "@jupyter-widgets/controls",
          "model_name": "HTMLModel",
          "model_module_version": "1.5.0",
          "state": {
            "_dom_classes": [],
            "_model_module": "@jupyter-widgets/controls",
            "_model_module_version": "1.5.0",
            "_model_name": "HTMLModel",
            "_view_count": null,
            "_view_module": "@jupyter-widgets/controls",
            "_view_module_version": "1.5.0",
            "_view_name": "HTMLView",
            "description": "",
            "description_tooltip": null,
            "layout": "IPY_MODEL_0cc22036797a4b0d82931233a7264a51",
            "placeholder": "​",
            "style": "IPY_MODEL_4af7a3f3e1724e20bf3042e2d955f21b",
            "value": "model-00003-of-00005.safetensors: 100%"
          }
        },
        "8f0319a21e454e2babc2791aab18d824": {
          "model_module": "@jupyter-widgets/controls",
          "model_name": "FloatProgressModel",
          "model_module_version": "1.5.0",
          "state": {
            "_dom_classes": [],
            "_model_module": "@jupyter-widgets/controls",
            "_model_module_version": "1.5.0",
            "_model_name": "FloatProgressModel",
            "_view_count": null,
            "_view_module": "@jupyter-widgets/controls",
            "_view_module_version": "1.5.0",
            "_view_name": "ProgressView",
            "bar_style": "success",
            "description": "",
            "description_tooltip": null,
            "layout": "IPY_MODEL_fa1e43ad43e44c36a61e9f2e42b99c29",
            "max": 4999819232,
            "min": 0,
            "orientation": "horizontal",
            "style": "IPY_MODEL_ddcd3e4273704117afead305d6db781a",
            "value": 4999819232
          }
        },
        "602ed37a8a354493b6a882e172b6a99c": {
          "model_module": "@jupyter-widgets/controls",
          "model_name": "HTMLModel",
          "model_module_version": "1.5.0",
          "state": {
            "_dom_classes": [],
            "_model_module": "@jupyter-widgets/controls",
            "_model_module_version": "1.5.0",
            "_model_name": "HTMLModel",
            "_view_count": null,
            "_view_module": "@jupyter-widgets/controls",
            "_view_module_version": "1.5.0",
            "_view_name": "HTMLView",
            "description": "",
            "description_tooltip": null,
            "layout": "IPY_MODEL_9b0dc504e2cb430482ce3f16a246d324",
            "placeholder": "​",
            "style": "IPY_MODEL_b999ceb5797d4863aa87e2d73a4acb69",
            "value": " 5.00G/5.00G [01:15&lt;00:00, 169MB/s]"
          }
        },
        "f25ac906c8bc43a98377ea46ecef8904": {
          "model_module": "@jupyter-widgets/base",
          "model_name": "LayoutModel",
          "model_module_version": "1.2.0",
          "state": {
            "_model_module": "@jupyter-widgets/base",
            "_model_module_version": "1.2.0",
            "_model_name": "LayoutModel",
            "_view_count": null,
            "_view_module": "@jupyter-widgets/base",
            "_view_module_version": "1.2.0",
            "_view_name": "LayoutView",
            "align_content": null,
            "align_items": null,
            "align_self": null,
            "border": null,
            "bottom": null,
            "display": null,
            "flex": null,
            "flex_flow": null,
            "grid_area": null,
            "grid_auto_columns": null,
            "grid_auto_flow": null,
            "grid_auto_rows": null,
            "grid_column": null,
            "grid_gap": null,
            "grid_row": null,
            "grid_template_areas": null,
            "grid_template_columns": null,
            "grid_template_rows": null,
            "height": null,
            "justify_content": null,
            "justify_items": null,
            "left": null,
            "margin": null,
            "max_height": null,
            "max_width": null,
            "min_height": null,
            "min_width": null,
            "object_fit": null,
            "object_position": null,
            "order": null,
            "overflow": null,
            "overflow_x": null,
            "overflow_y": null,
            "padding": null,
            "right": null,
            "top": null,
            "visibility": null,
            "width": null
          }
        },
        "0cc22036797a4b0d82931233a7264a51": {
          "model_module": "@jupyter-widgets/base",
          "model_name": "LayoutModel",
          "model_module_version": "1.2.0",
          "state": {
            "_model_module": "@jupyter-widgets/base",
            "_model_module_version": "1.2.0",
            "_model_name": "LayoutModel",
            "_view_count": null,
            "_view_module": "@jupyter-widgets/base",
            "_view_module_version": "1.2.0",
            "_view_name": "LayoutView",
            "align_content": null,
            "align_items": null,
            "align_self": null,
            "border": null,
            "bottom": null,
            "display": null,
            "flex": null,
            "flex_flow": null,
            "grid_area": null,
            "grid_auto_columns": null,
            "grid_auto_flow": null,
            "grid_auto_rows": null,
            "grid_column": null,
            "grid_gap": null,
            "grid_row": null,
            "grid_template_areas": null,
            "grid_template_columns": null,
            "grid_template_rows": null,
            "height": null,
            "justify_content": null,
            "justify_items": null,
            "left": null,
            "margin": null,
            "max_height": null,
            "max_width": null,
            "min_height": null,
            "min_width": null,
            "object_fit": null,
            "object_position": null,
            "order": null,
            "overflow": null,
            "overflow_x": null,
            "overflow_y": null,
            "padding": null,
            "right": null,
            "top": null,
            "visibility": null,
            "width": null
          }
        },
        "4af7a3f3e1724e20bf3042e2d955f21b": {
          "model_module": "@jupyter-widgets/controls",
          "model_name": "DescriptionStyleModel",
          "model_module_version": "1.5.0",
          "state": {
            "_model_module": "@jupyter-widgets/controls",
            "_model_module_version": "1.5.0",
            "_model_name": "DescriptionStyleModel",
            "_view_count": null,
            "_view_module": "@jupyter-widgets/base",
            "_view_module_version": "1.2.0",
            "_view_name": "StyleView",
            "description_width": ""
          }
        },
        "fa1e43ad43e44c36a61e9f2e42b99c29": {
          "model_module": "@jupyter-widgets/base",
          "model_name": "LayoutModel",
          "model_module_version": "1.2.0",
          "state": {
            "_model_module": "@jupyter-widgets/base",
            "_model_module_version": "1.2.0",
            "_model_name": "LayoutModel",
            "_view_count": null,
            "_view_module": "@jupyter-widgets/base",
            "_view_module_version": "1.2.0",
            "_view_name": "LayoutView",
            "align_content": null,
            "align_items": null,
            "align_self": null,
            "border": null,
            "bottom": null,
            "display": null,
            "flex": null,
            "flex_flow": null,
            "grid_area": null,
            "grid_auto_columns": null,
            "grid_auto_flow": null,
            "grid_auto_rows": null,
            "grid_column": null,
            "grid_gap": null,
            "grid_row": null,
            "grid_template_areas": null,
            "grid_template_columns": null,
            "grid_template_rows": null,
            "height": null,
            "justify_content": null,
            "justify_items": null,
            "left": null,
            "margin": null,
            "max_height": null,
            "max_width": null,
            "min_height": null,
            "min_width": null,
            "object_fit": null,
            "object_position": null,
            "order": null,
            "overflow": null,
            "overflow_x": null,
            "overflow_y": null,
            "padding": null,
            "right": null,
            "top": null,
            "visibility": null,
            "width": null
          }
        },
        "ddcd3e4273704117afead305d6db781a": {
          "model_module": "@jupyter-widgets/controls",
          "model_name": "ProgressStyleModel",
          "model_module_version": "1.5.0",
          "state": {
            "_model_module": "@jupyter-widgets/controls",
            "_model_module_version": "1.5.0",
            "_model_name": "ProgressStyleModel",
            "_view_count": null,
            "_view_module": "@jupyter-widgets/base",
            "_view_module_version": "1.2.0",
            "_view_name": "StyleView",
            "bar_color": null,
            "description_width": ""
          }
        },
        "9b0dc504e2cb430482ce3f16a246d324": {
          "model_module": "@jupyter-widgets/base",
          "model_name": "LayoutModel",
          "model_module_version": "1.2.0",
          "state": {
            "_model_module": "@jupyter-widgets/base",
            "_model_module_version": "1.2.0",
            "_model_name": "LayoutModel",
            "_view_count": null,
            "_view_module": "@jupyter-widgets/base",
            "_view_module_version": "1.2.0",
            "_view_name": "LayoutView",
            "align_content": null,
            "align_items": null,
            "align_self": null,
            "border": null,
            "bottom": null,
            "display": null,
            "flex": null,
            "flex_flow": null,
            "grid_area": null,
            "grid_auto_columns": null,
            "grid_auto_flow": null,
            "grid_auto_rows": null,
            "grid_column": null,
            "grid_gap": null,
            "grid_row": null,
            "grid_template_areas": null,
            "grid_template_columns": null,
            "grid_template_rows": null,
            "height": null,
            "justify_content": null,
            "justify_items": null,
            "left": null,
            "margin": null,
            "max_height": null,
            "max_width": null,
            "min_height": null,
            "min_width": null,
            "object_fit": null,
            "object_position": null,
            "order": null,
            "overflow": null,
            "overflow_x": null,
            "overflow_y": null,
            "padding": null,
            "right": null,
            "top": null,
            "visibility": null,
            "width": null
          }
        },
        "b999ceb5797d4863aa87e2d73a4acb69": {
          "model_module": "@jupyter-widgets/controls",
          "model_name": "DescriptionStyleModel",
          "model_module_version": "1.5.0",
          "state": {
            "_model_module": "@jupyter-widgets/controls",
            "_model_module_version": "1.5.0",
            "_model_name": "DescriptionStyleModel",
            "_view_count": null,
            "_view_module": "@jupyter-widgets/base",
            "_view_module_version": "1.2.0",
            "_view_name": "StyleView",
            "description_width": ""
          }
        },
        "df4facc18cd5425e983b33ec83ba1d07": {
          "model_module": "@jupyter-widgets/controls",
          "model_name": "HBoxModel",
          "model_module_version": "1.5.0",
          "state": {
            "_dom_classes": [],
            "_model_module": "@jupyter-widgets/controls",
            "_model_module_version": "1.5.0",
            "_model_name": "HBoxModel",
            "_view_count": null,
            "_view_module": "@jupyter-widgets/controls",
            "_view_module_version": "1.5.0",
            "_view_name": "HBoxView",
            "box_style": "",
            "children": [
              "IPY_MODEL_98473040d61049498434adf426e2aca4",
              "IPY_MODEL_0eed186262ee479dbfc819aa93eaa34b",
              "IPY_MODEL_b03172f14a644fa1bb021c963d5ed0f8"
            ],
            "layout": "IPY_MODEL_13f6fdcc9b604615a6e4eccf4a7efe6b"
          }
        },
        "98473040d61049498434adf426e2aca4": {
          "model_module": "@jupyter-widgets/controls",
          "model_name": "HTMLModel",
          "model_module_version": "1.5.0",
          "state": {
            "_dom_classes": [],
            "_model_module": "@jupyter-widgets/controls",
            "_model_module_version": "1.5.0",
            "_model_name": "HTMLModel",
            "_view_count": null,
            "_view_module": "@jupyter-widgets/controls",
            "_view_module_version": "1.5.0",
            "_view_name": "HTMLView",
            "description": "",
            "description_tooltip": null,
            "layout": "IPY_MODEL_0aef7affb2554133807f5de1f1e146ec",
            "placeholder": "​",
            "style": "IPY_MODEL_464e2b9059b0458e9fd0db3607696f99",
            "value": "model-00004-of-00005.safetensors: 100%"
          }
        },
        "0eed186262ee479dbfc819aa93eaa34b": {
          "model_module": "@jupyter-widgets/controls",
          "model_name": "FloatProgressModel",
          "model_module_version": "1.5.0",
          "state": {
            "_dom_classes": [],
            "_model_module": "@jupyter-widgets/controls",
            "_model_module_version": "1.5.0",
            "_model_name": "FloatProgressModel",
            "_view_count": null,
            "_view_module": "@jupyter-widgets/controls",
            "_view_module_version": "1.5.0",
            "_view_name": "ProgressView",
            "bar_style": "success",
            "description": "",
            "description_tooltip": null,
            "layout": "IPY_MODEL_74d3ee8eafdc4333b77b30c65f75aeee",
            "max": 4915916080,
            "min": 0,
            "orientation": "horizontal",
            "style": "IPY_MODEL_4566c99f31644b79b5dfdd1db75862ab",
            "value": 4915916080
          }
        },
        "b03172f14a644fa1bb021c963d5ed0f8": {
          "model_module": "@jupyter-widgets/controls",
          "model_name": "HTMLModel",
          "model_module_version": "1.5.0",
          "state": {
            "_dom_classes": [],
            "_model_module": "@jupyter-widgets/controls",
            "_model_module_version": "1.5.0",
            "_model_name": "HTMLModel",
            "_view_count": null,
            "_view_module": "@jupyter-widgets/controls",
            "_view_module_version": "1.5.0",
            "_view_name": "HTMLView",
            "description": "",
            "description_tooltip": null,
            "layout": "IPY_MODEL_ac17b68478ba49528d00e8a84e204c3e",
            "placeholder": "​",
            "style": "IPY_MODEL_ca90453d67524f3c97c7016eafbd5fab",
            "value": " 4.92G/4.92G [01:22&lt;00:00, 17.0MB/s]"
          }
        },
        "13f6fdcc9b604615a6e4eccf4a7efe6b": {
          "model_module": "@jupyter-widgets/base",
          "model_name": "LayoutModel",
          "model_module_version": "1.2.0",
          "state": {
            "_model_module": "@jupyter-widgets/base",
            "_model_module_version": "1.2.0",
            "_model_name": "LayoutModel",
            "_view_count": null,
            "_view_module": "@jupyter-widgets/base",
            "_view_module_version": "1.2.0",
            "_view_name": "LayoutView",
            "align_content": null,
            "align_items": null,
            "align_self": null,
            "border": null,
            "bottom": null,
            "display": null,
            "flex": null,
            "flex_flow": null,
            "grid_area": null,
            "grid_auto_columns": null,
            "grid_auto_flow": null,
            "grid_auto_rows": null,
            "grid_column": null,
            "grid_gap": null,
            "grid_row": null,
            "grid_template_areas": null,
            "grid_template_columns": null,
            "grid_template_rows": null,
            "height": null,
            "justify_content": null,
            "justify_items": null,
            "left": null,
            "margin": null,
            "max_height": null,
            "max_width": null,
            "min_height": null,
            "min_width": null,
            "object_fit": null,
            "object_position": null,
            "order": null,
            "overflow": null,
            "overflow_x": null,
            "overflow_y": null,
            "padding": null,
            "right": null,
            "top": null,
            "visibility": null,
            "width": null
          }
        },
        "0aef7affb2554133807f5de1f1e146ec": {
          "model_module": "@jupyter-widgets/base",
          "model_name": "LayoutModel",
          "model_module_version": "1.2.0",
          "state": {
            "_model_module": "@jupyter-widgets/base",
            "_model_module_version": "1.2.0",
            "_model_name": "LayoutModel",
            "_view_count": null,
            "_view_module": "@jupyter-widgets/base",
            "_view_module_version": "1.2.0",
            "_view_name": "LayoutView",
            "align_content": null,
            "align_items": null,
            "align_self": null,
            "border": null,
            "bottom": null,
            "display": null,
            "flex": null,
            "flex_flow": null,
            "grid_area": null,
            "grid_auto_columns": null,
            "grid_auto_flow": null,
            "grid_auto_rows": null,
            "grid_column": null,
            "grid_gap": null,
            "grid_row": null,
            "grid_template_areas": null,
            "grid_template_columns": null,
            "grid_template_rows": null,
            "height": null,
            "justify_content": null,
            "justify_items": null,
            "left": null,
            "margin": null,
            "max_height": null,
            "max_width": null,
            "min_height": null,
            "min_width": null,
            "object_fit": null,
            "object_position": null,
            "order": null,
            "overflow": null,
            "overflow_x": null,
            "overflow_y": null,
            "padding": null,
            "right": null,
            "top": null,
            "visibility": null,
            "width": null
          }
        },
        "464e2b9059b0458e9fd0db3607696f99": {
          "model_module": "@jupyter-widgets/controls",
          "model_name": "DescriptionStyleModel",
          "model_module_version": "1.5.0",
          "state": {
            "_model_module": "@jupyter-widgets/controls",
            "_model_module_version": "1.5.0",
            "_model_name": "DescriptionStyleModel",
            "_view_count": null,
            "_view_module": "@jupyter-widgets/base",
            "_view_module_version": "1.2.0",
            "_view_name": "StyleView",
            "description_width": ""
          }
        },
        "74d3ee8eafdc4333b77b30c65f75aeee": {
          "model_module": "@jupyter-widgets/base",
          "model_name": "LayoutModel",
          "model_module_version": "1.2.0",
          "state": {
            "_model_module": "@jupyter-widgets/base",
            "_model_module_version": "1.2.0",
            "_model_name": "LayoutModel",
            "_view_count": null,
            "_view_module": "@jupyter-widgets/base",
            "_view_module_version": "1.2.0",
            "_view_name": "LayoutView",
            "align_content": null,
            "align_items": null,
            "align_self": null,
            "border": null,
            "bottom": null,
            "display": null,
            "flex": null,
            "flex_flow": null,
            "grid_area": null,
            "grid_auto_columns": null,
            "grid_auto_flow": null,
            "grid_auto_rows": null,
            "grid_column": null,
            "grid_gap": null,
            "grid_row": null,
            "grid_template_areas": null,
            "grid_template_columns": null,
            "grid_template_rows": null,
            "height": null,
            "justify_content": null,
            "justify_items": null,
            "left": null,
            "margin": null,
            "max_height": null,
            "max_width": null,
            "min_height": null,
            "min_width": null,
            "object_fit": null,
            "object_position": null,
            "order": null,
            "overflow": null,
            "overflow_x": null,
            "overflow_y": null,
            "padding": null,
            "right": null,
            "top": null,
            "visibility": null,
            "width": null
          }
        },
        "4566c99f31644b79b5dfdd1db75862ab": {
          "model_module": "@jupyter-widgets/controls",
          "model_name": "ProgressStyleModel",
          "model_module_version": "1.5.0",
          "state": {
            "_model_module": "@jupyter-widgets/controls",
            "_model_module_version": "1.5.0",
            "_model_name": "ProgressStyleModel",
            "_view_count": null,
            "_view_module": "@jupyter-widgets/base",
            "_view_module_version": "1.2.0",
            "_view_name": "StyleView",
            "bar_color": null,
            "description_width": ""
          }
        },
        "ac17b68478ba49528d00e8a84e204c3e": {
          "model_module": "@jupyter-widgets/base",
          "model_name": "LayoutModel",
          "model_module_version": "1.2.0",
          "state": {
            "_model_module": "@jupyter-widgets/base",
            "_model_module_version": "1.2.0",
            "_model_name": "LayoutModel",
            "_view_count": null,
            "_view_module": "@jupyter-widgets/base",
            "_view_module_version": "1.2.0",
            "_view_name": "LayoutView",
            "align_content": null,
            "align_items": null,
            "align_self": null,
            "border": null,
            "bottom": null,
            "display": null,
            "flex": null,
            "flex_flow": null,
            "grid_area": null,
            "grid_auto_columns": null,
            "grid_auto_flow": null,
            "grid_auto_rows": null,
            "grid_column": null,
            "grid_gap": null,
            "grid_row": null,
            "grid_template_areas": null,
            "grid_template_columns": null,
            "grid_template_rows": null,
            "height": null,
            "justify_content": null,
            "justify_items": null,
            "left": null,
            "margin": null,
            "max_height": null,
            "max_width": null,
            "min_height": null,
            "min_width": null,
            "object_fit": null,
            "object_position": null,
            "order": null,
            "overflow": null,
            "overflow_x": null,
            "overflow_y": null,
            "padding": null,
            "right": null,
            "top": null,
            "visibility": null,
            "width": null
          }
        },
        "ca90453d67524f3c97c7016eafbd5fab": {
          "model_module": "@jupyter-widgets/controls",
          "model_name": "DescriptionStyleModel",
          "model_module_version": "1.5.0",
          "state": {
            "_model_module": "@jupyter-widgets/controls",
            "_model_module_version": "1.5.0",
            "_model_name": "DescriptionStyleModel",
            "_view_count": null,
            "_view_module": "@jupyter-widgets/base",
            "_view_module_version": "1.2.0",
            "_view_name": "StyleView",
            "description_width": ""
          }
        },
        "df0ecb7d459042b4a51431e699590f7a": {
          "model_module": "@jupyter-widgets/controls",
          "model_name": "HBoxModel",
          "model_module_version": "1.5.0",
          "state": {
            "_dom_classes": [],
            "_model_module": "@jupyter-widgets/controls",
            "_model_module_version": "1.5.0",
            "_model_name": "HBoxModel",
            "_view_count": null,
            "_view_module": "@jupyter-widgets/controls",
            "_view_module_version": "1.5.0",
            "_view_name": "HBoxView",
            "box_style": "",
            "children": [
              "IPY_MODEL_640d6cd86b444e1583528a1af9b7b36e",
              "IPY_MODEL_7f490e09cb034b2b9bc8ab12de089830",
              "IPY_MODEL_0be52018fd024fc59c8fab702d766a04"
            ],
            "layout": "IPY_MODEL_b8603c6f23974f28971a88e37b9b9a84"
          }
        },
        "640d6cd86b444e1583528a1af9b7b36e": {
          "model_module": "@jupyter-widgets/controls",
          "model_name": "HTMLModel",
          "model_module_version": "1.5.0",
          "state": {
            "_dom_classes": [],
            "_model_module": "@jupyter-widgets/controls",
            "_model_module_version": "1.5.0",
            "_model_name": "HTMLModel",
            "_view_count": null,
            "_view_module": "@jupyter-widgets/controls",
            "_view_module_version": "1.5.0",
            "_view_name": "HTMLView",
            "description": "",
            "description_tooltip": null,
            "layout": "IPY_MODEL_f01149341ecb4009b6a5583abd13df6a",
            "placeholder": "​",
            "style": "IPY_MODEL_113be0340c16499db9916db1dd195e11",
            "value": "model-00005-of-00005.safetensors: 100%"
          }
        },
        "7f490e09cb034b2b9bc8ab12de089830": {
          "model_module": "@jupyter-widgets/controls",
          "model_name": "FloatProgressModel",
          "model_module_version": "1.5.0",
          "state": {
            "_dom_classes": [],
            "_model_module": "@jupyter-widgets/controls",
            "_model_module_version": "1.5.0",
            "_model_name": "FloatProgressModel",
            "_view_count": null,
            "_view_module": "@jupyter-widgets/controls",
            "_view_module_version": "1.5.0",
            "_view_name": "ProgressView",
            "bar_style": "success",
            "description": "",
            "description_tooltip": null,
            "layout": "IPY_MODEL_c9b59141cf7842b08f6e6eaa7af324cc",
            "max": 1936797384,
            "min": 0,
            "orientation": "horizontal",
            "style": "IPY_MODEL_38ace805d9dc465c9b568d5be6913ab2",
            "value": 1936797384
          }
        },
        "0be52018fd024fc59c8fab702d766a04": {
          "model_module": "@jupyter-widgets/controls",
          "model_name": "HTMLModel",
          "model_module_version": "1.5.0",
          "state": {
            "_dom_classes": [],
            "_model_module": "@jupyter-widgets/controls",
            "_model_module_version": "1.5.0",
            "_model_name": "HTMLModel",
            "_view_count": null,
            "_view_module": "@jupyter-widgets/controls",
            "_view_module_version": "1.5.0",
            "_view_name": "HTMLView",
            "description": "",
            "description_tooltip": null,
            "layout": "IPY_MODEL_bec88ddb95994d9f96e1bf3cc4bace25",
            "placeholder": "​",
            "style": "IPY_MODEL_92f830929e87422daf5e72ef9ec3aea1",
            "value": " 1.94G/1.94G [00:34&lt;00:00, 85.7MB/s]"
          }
        },
        "b8603c6f23974f28971a88e37b9b9a84": {
          "model_module": "@jupyter-widgets/base",
          "model_name": "LayoutModel",
          "model_module_version": "1.2.0",
          "state": {
            "_model_module": "@jupyter-widgets/base",
            "_model_module_version": "1.2.0",
            "_model_name": "LayoutModel",
            "_view_count": null,
            "_view_module": "@jupyter-widgets/base",
            "_view_module_version": "1.2.0",
            "_view_name": "LayoutView",
            "align_content": null,
            "align_items": null,
            "align_self": null,
            "border": null,
            "bottom": null,
            "display": null,
            "flex": null,
            "flex_flow": null,
            "grid_area": null,
            "grid_auto_columns": null,
            "grid_auto_flow": null,
            "grid_auto_rows": null,
            "grid_column": null,
            "grid_gap": null,
            "grid_row": null,
            "grid_template_areas": null,
            "grid_template_columns": null,
            "grid_template_rows": null,
            "height": null,
            "justify_content": null,
            "justify_items": null,
            "left": null,
            "margin": null,
            "max_height": null,
            "max_width": null,
            "min_height": null,
            "min_width": null,
            "object_fit": null,
            "object_position": null,
            "order": null,
            "overflow": null,
            "overflow_x": null,
            "overflow_y": null,
            "padding": null,
            "right": null,
            "top": null,
            "visibility": null,
            "width": null
          }
        },
        "f01149341ecb4009b6a5583abd13df6a": {
          "model_module": "@jupyter-widgets/base",
          "model_name": "LayoutModel",
          "model_module_version": "1.2.0",
          "state": {
            "_model_module": "@jupyter-widgets/base",
            "_model_module_version": "1.2.0",
            "_model_name": "LayoutModel",
            "_view_count": null,
            "_view_module": "@jupyter-widgets/base",
            "_view_module_version": "1.2.0",
            "_view_name": "LayoutView",
            "align_content": null,
            "align_items": null,
            "align_self": null,
            "border": null,
            "bottom": null,
            "display": null,
            "flex": null,
            "flex_flow": null,
            "grid_area": null,
            "grid_auto_columns": null,
            "grid_auto_flow": null,
            "grid_auto_rows": null,
            "grid_column": null,
            "grid_gap": null,
            "grid_row": null,
            "grid_template_areas": null,
            "grid_template_columns": null,
            "grid_template_rows": null,
            "height": null,
            "justify_content": null,
            "justify_items": null,
            "left": null,
            "margin": null,
            "max_height": null,
            "max_width": null,
            "min_height": null,
            "min_width": null,
            "object_fit": null,
            "object_position": null,
            "order": null,
            "overflow": null,
            "overflow_x": null,
            "overflow_y": null,
            "padding": null,
            "right": null,
            "top": null,
            "visibility": null,
            "width": null
          }
        },
        "113be0340c16499db9916db1dd195e11": {
          "model_module": "@jupyter-widgets/controls",
          "model_name": "DescriptionStyleModel",
          "model_module_version": "1.5.0",
          "state": {
            "_model_module": "@jupyter-widgets/controls",
            "_model_module_version": "1.5.0",
            "_model_name": "DescriptionStyleModel",
            "_view_count": null,
            "_view_module": "@jupyter-widgets/base",
            "_view_module_version": "1.2.0",
            "_view_name": "StyleView",
            "description_width": ""
          }
        },
        "c9b59141cf7842b08f6e6eaa7af324cc": {
          "model_module": "@jupyter-widgets/base",
          "model_name": "LayoutModel",
          "model_module_version": "1.2.0",
          "state": {
            "_model_module": "@jupyter-widgets/base",
            "_model_module_version": "1.2.0",
            "_model_name": "LayoutModel",
            "_view_count": null,
            "_view_module": "@jupyter-widgets/base",
            "_view_module_version": "1.2.0",
            "_view_name": "LayoutView",
            "align_content": null,
            "align_items": null,
            "align_self": null,
            "border": null,
            "bottom": null,
            "display": null,
            "flex": null,
            "flex_flow": null,
            "grid_area": null,
            "grid_auto_columns": null,
            "grid_auto_flow": null,
            "grid_auto_rows": null,
            "grid_column": null,
            "grid_gap": null,
            "grid_row": null,
            "grid_template_areas": null,
            "grid_template_columns": null,
            "grid_template_rows": null,
            "height": null,
            "justify_content": null,
            "justify_items": null,
            "left": null,
            "margin": null,
            "max_height": null,
            "max_width": null,
            "min_height": null,
            "min_width": null,
            "object_fit": null,
            "object_position": null,
            "order": null,
            "overflow": null,
            "overflow_x": null,
            "overflow_y": null,
            "padding": null,
            "right": null,
            "top": null,
            "visibility": null,
            "width": null
          }
        },
        "38ace805d9dc465c9b568d5be6913ab2": {
          "model_module": "@jupyter-widgets/controls",
          "model_name": "ProgressStyleModel",
          "model_module_version": "1.5.0",
          "state": {
            "_model_module": "@jupyter-widgets/controls",
            "_model_module_version": "1.5.0",
            "_model_name": "ProgressStyleModel",
            "_view_count": null,
            "_view_module": "@jupyter-widgets/base",
            "_view_module_version": "1.2.0",
            "_view_name": "StyleView",
            "bar_color": null,
            "description_width": ""
          }
        },
        "bec88ddb95994d9f96e1bf3cc4bace25": {
          "model_module": "@jupyter-widgets/base",
          "model_name": "LayoutModel",
          "model_module_version": "1.2.0",
          "state": {
            "_model_module": "@jupyter-widgets/base",
            "_model_module_version": "1.2.0",
            "_model_name": "LayoutModel",
            "_view_count": null,
            "_view_module": "@jupyter-widgets/base",
            "_view_module_version": "1.2.0",
            "_view_name": "LayoutView",
            "align_content": null,
            "align_items": null,
            "align_self": null,
            "border": null,
            "bottom": null,
            "display": null,
            "flex": null,
            "flex_flow": null,
            "grid_area": null,
            "grid_auto_columns": null,
            "grid_auto_flow": null,
            "grid_auto_rows": null,
            "grid_column": null,
            "grid_gap": null,
            "grid_row": null,
            "grid_template_areas": null,
            "grid_template_columns": null,
            "grid_template_rows": null,
            "height": null,
            "justify_content": null,
            "justify_items": null,
            "left": null,
            "margin": null,
            "max_height": null,
            "max_width": null,
            "min_height": null,
            "min_width": null,
            "object_fit": null,
            "object_position": null,
            "order": null,
            "overflow": null,
            "overflow_x": null,
            "overflow_y": null,
            "padding": null,
            "right": null,
            "top": null,
            "visibility": null,
            "width": null
          }
        },
        "92f830929e87422daf5e72ef9ec3aea1": {
          "model_module": "@jupyter-widgets/controls",
          "model_name": "DescriptionStyleModel",
          "model_module_version": "1.5.0",
          "state": {
            "_model_module": "@jupyter-widgets/controls",
            "_model_module_version": "1.5.0",
            "_model_name": "DescriptionStyleModel",
            "_view_count": null,
            "_view_module": "@jupyter-widgets/base",
            "_view_module_version": "1.2.0",
            "_view_name": "StyleView",
            "description_width": ""
          }
        },
        "c730991e0efb4e09ac3d8d1086ecd873": {
          "model_module": "@jupyter-widgets/controls",
          "model_name": "HBoxModel",
          "model_module_version": "1.5.0",
          "state": {
            "_dom_classes": [],
            "_model_module": "@jupyter-widgets/controls",
            "_model_module_version": "1.5.0",
            "_model_name": "HBoxModel",
            "_view_count": null,
            "_view_module": "@jupyter-widgets/controls",
            "_view_module_version": "1.5.0",
            "_view_name": "HBoxView",
            "box_style": "",
            "children": [
              "IPY_MODEL_6e2a27180cd74e29bcb899b16c750a26",
              "IPY_MODEL_d41bc2a374884822a18743944a073f9c",
              "IPY_MODEL_5e4fbb0f2afb48368958946e58074de5"
            ],
            "layout": "IPY_MODEL_d205e170944c455e9eda6f2ec36130db"
          }
        },
        "6e2a27180cd74e29bcb899b16c750a26": {
          "model_module": "@jupyter-widgets/controls",
          "model_name": "HTMLModel",
          "model_module_version": "1.5.0",
          "state": {
            "_dom_classes": [],
            "_model_module": "@jupyter-widgets/controls",
            "_model_module_version": "1.5.0",
            "_model_name": "HTMLModel",
            "_view_count": null,
            "_view_module": "@jupyter-widgets/controls",
            "_view_module_version": "1.5.0",
            "_view_name": "HTMLView",
            "description": "",
            "description_tooltip": null,
            "layout": "IPY_MODEL_d7c466cf87a54e3a807d834ed44a1941",
            "placeholder": "​",
            "style": "IPY_MODEL_9c3ede6c549b4f2a968fdd778f453d05",
            "value": "Loading checkpoint shards: 100%"
          }
        },
        "d41bc2a374884822a18743944a073f9c": {
          "model_module": "@jupyter-widgets/controls",
          "model_name": "FloatProgressModel",
          "model_module_version": "1.5.0",
          "state": {
            "_dom_classes": [],
            "_model_module": "@jupyter-widgets/controls",
            "_model_module_version": "1.5.0",
            "_model_name": "FloatProgressModel",
            "_view_count": null,
            "_view_module": "@jupyter-widgets/controls",
            "_view_module_version": "1.5.0",
            "_view_name": "ProgressView",
            "bar_style": "success",
            "description": "",
            "description_tooltip": null,
            "layout": "IPY_MODEL_cc26b19e1f8c462cb6fba04e90c60482",
            "max": 5,
            "min": 0,
            "orientation": "horizontal",
            "style": "IPY_MODEL_21d82583e4194b6eac4c201d33f48e94",
            "value": 5
          }
        },
        "5e4fbb0f2afb48368958946e58074de5": {
          "model_module": "@jupyter-widgets/controls",
          "model_name": "HTMLModel",
          "model_module_version": "1.5.0",
          "state": {
            "_dom_classes": [],
            "_model_module": "@jupyter-widgets/controls",
            "_model_module_version": "1.5.0",
            "_model_name": "HTMLModel",
            "_view_count": null,
            "_view_module": "@jupyter-widgets/controls",
            "_view_module_version": "1.5.0",
            "_view_name": "HTMLView",
            "description": "",
            "description_tooltip": null,
            "layout": "IPY_MODEL_a4c524033e184653997e05afb8efec93",
            "placeholder": "​",
            "style": "IPY_MODEL_e11bf724f612448582056b71f22abd2a",
            "value": " 5/5 [01:33&lt;00:00, 16.73s/it]"
          }
        },
        "d205e170944c455e9eda6f2ec36130db": {
          "model_module": "@jupyter-widgets/base",
          "model_name": "LayoutModel",
          "model_module_version": "1.2.0",
          "state": {
            "_model_module": "@jupyter-widgets/base",
            "_model_module_version": "1.2.0",
            "_model_name": "LayoutModel",
            "_view_count": null,
            "_view_module": "@jupyter-widgets/base",
            "_view_module_version": "1.2.0",
            "_view_name": "LayoutView",
            "align_content": null,
            "align_items": null,
            "align_self": null,
            "border": null,
            "bottom": null,
            "display": null,
            "flex": null,
            "flex_flow": null,
            "grid_area": null,
            "grid_auto_columns": null,
            "grid_auto_flow": null,
            "grid_auto_rows": null,
            "grid_column": null,
            "grid_gap": null,
            "grid_row": null,
            "grid_template_areas": null,
            "grid_template_columns": null,
            "grid_template_rows": null,
            "height": null,
            "justify_content": null,
            "justify_items": null,
            "left": null,
            "margin": null,
            "max_height": null,
            "max_width": null,
            "min_height": null,
            "min_width": null,
            "object_fit": null,
            "object_position": null,
            "order": null,
            "overflow": null,
            "overflow_x": null,
            "overflow_y": null,
            "padding": null,
            "right": null,
            "top": null,
            "visibility": null,
            "width": null
          }
        },
        "d7c466cf87a54e3a807d834ed44a1941": {
          "model_module": "@jupyter-widgets/base",
          "model_name": "LayoutModel",
          "model_module_version": "1.2.0",
          "state": {
            "_model_module": "@jupyter-widgets/base",
            "_model_module_version": "1.2.0",
            "_model_name": "LayoutModel",
            "_view_count": null,
            "_view_module": "@jupyter-widgets/base",
            "_view_module_version": "1.2.0",
            "_view_name": "LayoutView",
            "align_content": null,
            "align_items": null,
            "align_self": null,
            "border": null,
            "bottom": null,
            "display": null,
            "flex": null,
            "flex_flow": null,
            "grid_area": null,
            "grid_auto_columns": null,
            "grid_auto_flow": null,
            "grid_auto_rows": null,
            "grid_column": null,
            "grid_gap": null,
            "grid_row": null,
            "grid_template_areas": null,
            "grid_template_columns": null,
            "grid_template_rows": null,
            "height": null,
            "justify_content": null,
            "justify_items": null,
            "left": null,
            "margin": null,
            "max_height": null,
            "max_width": null,
            "min_height": null,
            "min_width": null,
            "object_fit": null,
            "object_position": null,
            "order": null,
            "overflow": null,
            "overflow_x": null,
            "overflow_y": null,
            "padding": null,
            "right": null,
            "top": null,
            "visibility": null,
            "width": null
          }
        },
        "9c3ede6c549b4f2a968fdd778f453d05": {
          "model_module": "@jupyter-widgets/controls",
          "model_name": "DescriptionStyleModel",
          "model_module_version": "1.5.0",
          "state": {
            "_model_module": "@jupyter-widgets/controls",
            "_model_module_version": "1.5.0",
            "_model_name": "DescriptionStyleModel",
            "_view_count": null,
            "_view_module": "@jupyter-widgets/base",
            "_view_module_version": "1.2.0",
            "_view_name": "StyleView",
            "description_width": ""
          }
        },
        "cc26b19e1f8c462cb6fba04e90c60482": {
          "model_module": "@jupyter-widgets/base",
          "model_name": "LayoutModel",
          "model_module_version": "1.2.0",
          "state": {
            "_model_module": "@jupyter-widgets/base",
            "_model_module_version": "1.2.0",
            "_model_name": "LayoutModel",
            "_view_count": null,
            "_view_module": "@jupyter-widgets/base",
            "_view_module_version": "1.2.0",
            "_view_name": "LayoutView",
            "align_content": null,
            "align_items": null,
            "align_self": null,
            "border": null,
            "bottom": null,
            "display": null,
            "flex": null,
            "flex_flow": null,
            "grid_area": null,
            "grid_auto_columns": null,
            "grid_auto_flow": null,
            "grid_auto_rows": null,
            "grid_column": null,
            "grid_gap": null,
            "grid_row": null,
            "grid_template_areas": null,
            "grid_template_columns": null,
            "grid_template_rows": null,
            "height": null,
            "justify_content": null,
            "justify_items": null,
            "left": null,
            "margin": null,
            "max_height": null,
            "max_width": null,
            "min_height": null,
            "min_width": null,
            "object_fit": null,
            "object_position": null,
            "order": null,
            "overflow": null,
            "overflow_x": null,
            "overflow_y": null,
            "padding": null,
            "right": null,
            "top": null,
            "visibility": null,
            "width": null
          }
        },
        "21d82583e4194b6eac4c201d33f48e94": {
          "model_module": "@jupyter-widgets/controls",
          "model_name": "ProgressStyleModel",
          "model_module_version": "1.5.0",
          "state": {
            "_model_module": "@jupyter-widgets/controls",
            "_model_module_version": "1.5.0",
            "_model_name": "ProgressStyleModel",
            "_view_count": null,
            "_view_module": "@jupyter-widgets/base",
            "_view_module_version": "1.2.0",
            "_view_name": "StyleView",
            "bar_color": null,
            "description_width": ""
          }
        },
        "a4c524033e184653997e05afb8efec93": {
          "model_module": "@jupyter-widgets/base",
          "model_name": "LayoutModel",
          "model_module_version": "1.2.0",
          "state": {
            "_model_module": "@jupyter-widgets/base",
            "_model_module_version": "1.2.0",
            "_model_name": "LayoutModel",
            "_view_count": null,
            "_view_module": "@jupyter-widgets/base",
            "_view_module_version": "1.2.0",
            "_view_name": "LayoutView",
            "align_content": null,
            "align_items": null,
            "align_self": null,
            "border": null,
            "bottom": null,
            "display": null,
            "flex": null,
            "flex_flow": null,
            "grid_area": null,
            "grid_auto_columns": null,
            "grid_auto_flow": null,
            "grid_auto_rows": null,
            "grid_column": null,
            "grid_gap": null,
            "grid_row": null,
            "grid_template_areas": null,
            "grid_template_columns": null,
            "grid_template_rows": null,
            "height": null,
            "justify_content": null,
            "justify_items": null,
            "left": null,
            "margin": null,
            "max_height": null,
            "max_width": null,
            "min_height": null,
            "min_width": null,
            "object_fit": null,
            "object_position": null,
            "order": null,
            "overflow": null,
            "overflow_x": null,
            "overflow_y": null,
            "padding": null,
            "right": null,
            "top": null,
            "visibility": null,
            "width": null
          }
        },
        "e11bf724f612448582056b71f22abd2a": {
          "model_module": "@jupyter-widgets/controls",
          "model_name": "DescriptionStyleModel",
          "model_module_version": "1.5.0",
          "state": {
            "_model_module": "@jupyter-widgets/controls",
            "_model_module_version": "1.5.0",
            "_model_name": "DescriptionStyleModel",
            "_view_count": null,
            "_view_module": "@jupyter-widgets/base",
            "_view_module_version": "1.2.0",
            "_view_name": "StyleView",
            "description_width": ""
          }
        },
        "4f1e656b457543a2a0278da09c2f465a": {
          "model_module": "@jupyter-widgets/controls",
          "model_name": "HBoxModel",
          "model_module_version": "1.5.0",
          "state": {
            "_dom_classes": [],
            "_model_module": "@jupyter-widgets/controls",
            "_model_module_version": "1.5.0",
            "_model_name": "HBoxModel",
            "_view_count": null,
            "_view_module": "@jupyter-widgets/controls",
            "_view_module_version": "1.5.0",
            "_view_name": "HBoxView",
            "box_style": "",
            "children": [
              "IPY_MODEL_98c0e8d6f1b04687ae3363ff1a128178",
              "IPY_MODEL_9b09b50fe21c4d34be02cecb56d17b8b",
              "IPY_MODEL_366e6cb111824573ab8d38c6b7602acc"
            ],
            "layout": "IPY_MODEL_c83478b21f4e4549a769b342c8c19600"
          }
        },
        "98c0e8d6f1b04687ae3363ff1a128178": {
          "model_module": "@jupyter-widgets/controls",
          "model_name": "HTMLModel",
          "model_module_version": "1.5.0",
          "state": {
            "_dom_classes": [],
            "_model_module": "@jupyter-widgets/controls",
            "_model_module_version": "1.5.0",
            "_model_name": "HTMLModel",
            "_view_count": null,
            "_view_module": "@jupyter-widgets/controls",
            "_view_module_version": "1.5.0",
            "_view_name": "HTMLView",
            "description": "",
            "description_tooltip": null,
            "layout": "IPY_MODEL_96f6b133b6414503ac2199a34b375817",
            "placeholder": "​",
            "style": "IPY_MODEL_802d25ce0c5947d6b723f0cb1acc2a7f",
            "value": "generation_config.json: 100%"
          }
        },
        "9b09b50fe21c4d34be02cecb56d17b8b": {
          "model_module": "@jupyter-widgets/controls",
          "model_name": "FloatProgressModel",
          "model_module_version": "1.5.0",
          "state": {
            "_dom_classes": [],
            "_model_module": "@jupyter-widgets/controls",
            "_model_module_version": "1.5.0",
            "_model_name": "FloatProgressModel",
            "_view_count": null,
            "_view_module": "@jupyter-widgets/controls",
            "_view_module_version": "1.5.0",
            "_view_name": "ProgressView",
            "bar_style": "success",
            "description": "",
            "description_tooltip": null,
            "layout": "IPY_MODEL_d3de68b4a82241e5b4f816d85f30b144",
            "max": 136,
            "min": 0,
            "orientation": "horizontal",
            "style": "IPY_MODEL_7508d64faa274db6bad069a9f7e93b6c",
            "value": 136
          }
        },
        "366e6cb111824573ab8d38c6b7602acc": {
          "model_module": "@jupyter-widgets/controls",
          "model_name": "HTMLModel",
          "model_module_version": "1.5.0",
          "state": {
            "_dom_classes": [],
            "_model_module": "@jupyter-widgets/controls",
            "_model_module_version": "1.5.0",
            "_model_name": "HTMLModel",
            "_view_count": null,
            "_view_module": "@jupyter-widgets/controls",
            "_view_module_version": "1.5.0",
            "_view_name": "HTMLView",
            "description": "",
            "description_tooltip": null,
            "layout": "IPY_MODEL_dfd492f98ad940499734f4d2358c127a",
            "placeholder": "​",
            "style": "IPY_MODEL_4209ecad1c4c481d9a130e4f765d1bf7",
            "value": " 136/136 [00:00&lt;00:00, 3.66kB/s]"
          }
        },
        "c83478b21f4e4549a769b342c8c19600": {
          "model_module": "@jupyter-widgets/base",
          "model_name": "LayoutModel",
          "model_module_version": "1.2.0",
          "state": {
            "_model_module": "@jupyter-widgets/base",
            "_model_module_version": "1.2.0",
            "_model_name": "LayoutModel",
            "_view_count": null,
            "_view_module": "@jupyter-widgets/base",
            "_view_module_version": "1.2.0",
            "_view_name": "LayoutView",
            "align_content": null,
            "align_items": null,
            "align_self": null,
            "border": null,
            "bottom": null,
            "display": null,
            "flex": null,
            "flex_flow": null,
            "grid_area": null,
            "grid_auto_columns": null,
            "grid_auto_flow": null,
            "grid_auto_rows": null,
            "grid_column": null,
            "grid_gap": null,
            "grid_row": null,
            "grid_template_areas": null,
            "grid_template_columns": null,
            "grid_template_rows": null,
            "height": null,
            "justify_content": null,
            "justify_items": null,
            "left": null,
            "margin": null,
            "max_height": null,
            "max_width": null,
            "min_height": null,
            "min_width": null,
            "object_fit": null,
            "object_position": null,
            "order": null,
            "overflow": null,
            "overflow_x": null,
            "overflow_y": null,
            "padding": null,
            "right": null,
            "top": null,
            "visibility": null,
            "width": null
          }
        },
        "96f6b133b6414503ac2199a34b375817": {
          "model_module": "@jupyter-widgets/base",
          "model_name": "LayoutModel",
          "model_module_version": "1.2.0",
          "state": {
            "_model_module": "@jupyter-widgets/base",
            "_model_module_version": "1.2.0",
            "_model_name": "LayoutModel",
            "_view_count": null,
            "_view_module": "@jupyter-widgets/base",
            "_view_module_version": "1.2.0",
            "_view_name": "LayoutView",
            "align_content": null,
            "align_items": null,
            "align_self": null,
            "border": null,
            "bottom": null,
            "display": null,
            "flex": null,
            "flex_flow": null,
            "grid_area": null,
            "grid_auto_columns": null,
            "grid_auto_flow": null,
            "grid_auto_rows": null,
            "grid_column": null,
            "grid_gap": null,
            "grid_row": null,
            "grid_template_areas": null,
            "grid_template_columns": null,
            "grid_template_rows": null,
            "height": null,
            "justify_content": null,
            "justify_items": null,
            "left": null,
            "margin": null,
            "max_height": null,
            "max_width": null,
            "min_height": null,
            "min_width": null,
            "object_fit": null,
            "object_position": null,
            "order": null,
            "overflow": null,
            "overflow_x": null,
            "overflow_y": null,
            "padding": null,
            "right": null,
            "top": null,
            "visibility": null,
            "width": null
          }
        },
        "802d25ce0c5947d6b723f0cb1acc2a7f": {
          "model_module": "@jupyter-widgets/controls",
          "model_name": "DescriptionStyleModel",
          "model_module_version": "1.5.0",
          "state": {
            "_model_module": "@jupyter-widgets/controls",
            "_model_module_version": "1.5.0",
            "_model_name": "DescriptionStyleModel",
            "_view_count": null,
            "_view_module": "@jupyter-widgets/base",
            "_view_module_version": "1.2.0",
            "_view_name": "StyleView",
            "description_width": ""
          }
        },
        "d3de68b4a82241e5b4f816d85f30b144": {
          "model_module": "@jupyter-widgets/base",
          "model_name": "LayoutModel",
          "model_module_version": "1.2.0",
          "state": {
            "_model_module": "@jupyter-widgets/base",
            "_model_module_version": "1.2.0",
            "_model_name": "LayoutModel",
            "_view_count": null,
            "_view_module": "@jupyter-widgets/base",
            "_view_module_version": "1.2.0",
            "_view_name": "LayoutView",
            "align_content": null,
            "align_items": null,
            "align_self": null,
            "border": null,
            "bottom": null,
            "display": null,
            "flex": null,
            "flex_flow": null,
            "grid_area": null,
            "grid_auto_columns": null,
            "grid_auto_flow": null,
            "grid_auto_rows": null,
            "grid_column": null,
            "grid_gap": null,
            "grid_row": null,
            "grid_template_areas": null,
            "grid_template_columns": null,
            "grid_template_rows": null,
            "height": null,
            "justify_content": null,
            "justify_items": null,
            "left": null,
            "margin": null,
            "max_height": null,
            "max_width": null,
            "min_height": null,
            "min_width": null,
            "object_fit": null,
            "object_position": null,
            "order": null,
            "overflow": null,
            "overflow_x": null,
            "overflow_y": null,
            "padding": null,
            "right": null,
            "top": null,
            "visibility": null,
            "width": null
          }
        },
        "7508d64faa274db6bad069a9f7e93b6c": {
          "model_module": "@jupyter-widgets/controls",
          "model_name": "ProgressStyleModel",
          "model_module_version": "1.5.0",
          "state": {
            "_model_module": "@jupyter-widgets/controls",
            "_model_module_version": "1.5.0",
            "_model_name": "ProgressStyleModel",
            "_view_count": null,
            "_view_module": "@jupyter-widgets/base",
            "_view_module_version": "1.2.0",
            "_view_name": "StyleView",
            "bar_color": null,
            "description_width": ""
          }
        },
        "dfd492f98ad940499734f4d2358c127a": {
          "model_module": "@jupyter-widgets/base",
          "model_name": "LayoutModel",
          "model_module_version": "1.2.0",
          "state": {
            "_model_module": "@jupyter-widgets/base",
            "_model_module_version": "1.2.0",
            "_model_name": "LayoutModel",
            "_view_count": null,
            "_view_module": "@jupyter-widgets/base",
            "_view_module_version": "1.2.0",
            "_view_name": "LayoutView",
            "align_content": null,
            "align_items": null,
            "align_self": null,
            "border": null,
            "bottom": null,
            "display": null,
            "flex": null,
            "flex_flow": null,
            "grid_area": null,
            "grid_auto_columns": null,
            "grid_auto_flow": null,
            "grid_auto_rows": null,
            "grid_column": null,
            "grid_gap": null,
            "grid_row": null,
            "grid_template_areas": null,
            "grid_template_columns": null,
            "grid_template_rows": null,
            "height": null,
            "justify_content": null,
            "justify_items": null,
            "left": null,
            "margin": null,
            "max_height": null,
            "max_width": null,
            "min_height": null,
            "min_width": null,
            "object_fit": null,
            "object_position": null,
            "order": null,
            "overflow": null,
            "overflow_x": null,
            "overflow_y": null,
            "padding": null,
            "right": null,
            "top": null,
            "visibility": null,
            "width": null
          }
        },
        "4209ecad1c4c481d9a130e4f765d1bf7": {
          "model_module": "@jupyter-widgets/controls",
          "model_name": "DescriptionStyleModel",
          "model_module_version": "1.5.0",
          "state": {
            "_model_module": "@jupyter-widgets/controls",
            "_model_module_version": "1.5.0",
            "_model_name": "DescriptionStyleModel",
            "_view_count": null,
            "_view_module": "@jupyter-widgets/base",
            "_view_module_version": "1.2.0",
            "_view_name": "StyleView",
            "description_width": ""
          }
        }
      }
    }
  },
  "cells": [
    {
      "cell_type": "markdown",
      "metadata": {
        "id": "view-in-github",
        "colab_type": "text"
      },
      "source": [
        "<a href=\"https://colab.research.google.com/github/bibekyess/dacon-hansol-deco-challenge/blob/main/RAG_llama_index.ipynb\" target=\"_parent\"><img src=\"https://colab.research.google.com/assets/colab-badge.svg\" alt=\"Open In Colab\"/></a>"
      ]
    },
    {
      "cell_type": "code",
      "source": [
        "import nest_asyncio\n",
        "\n",
        "nest_asyncio.apply()"
      ],
      "metadata": {
        "id": "HTKxC9HXQ0fB"
      },
      "execution_count": null,
      "outputs": []
    },
    {
      "cell_type": "markdown",
      "source": [],
      "metadata": {
        "id": "ZNyLTfiMVMI2"
      }
    },
    {
      "cell_type": "markdown",
      "source": [],
      "metadata": {
        "id": "33FT-ZlpSk6j"
      }
    },
    {
      "cell_type": "code",
      "execution_count": null,
      "metadata": {
        "colab": {
          "base_uri": "https://localhost:8080/"
        },
        "id": "91u4Wz9zJ4NS",
        "outputId": "4ec33e89-734f-4519-908d-c17b05c4925a"
      },
      "outputs": [
        {
          "output_type": "stream",
          "name": "stdout",
          "text": [
            "  Preparing metadata (setup.py) ... \u001b[?25l\u001b[?25hdone\n",
            "\u001b[2K     \u001b[90m━━━━━━━━━━━━━━━━━━━━━━━━━━━━━━━━━━━━━━━━\u001b[0m \u001b[32m15.3/15.3 MB\u001b[0m \u001b[31m41.6 MB/s\u001b[0m eta \u001b[36m0:00:00\u001b[0m\n",
            "\u001b[2K     \u001b[90m━━━━━━━━━━━━━━━━━━━━━━━━━━━━━━━━━━━━━━━━\u001b[0m \u001b[32m44.3/44.3 MB\u001b[0m \u001b[31m11.7 MB/s\u001b[0m eta \u001b[36m0:00:00\u001b[0m\n",
            "\u001b[2K     \u001b[90m━━━━━━━━━━━━━━━━━━━━━━━━━━━━━━━━━━━━━━━━\u001b[0m \u001b[32m2.0/2.0 MB\u001b[0m \u001b[31m55.9 MB/s\u001b[0m eta \u001b[36m0:00:00\u001b[0m\n",
            "\u001b[2K     \u001b[90m━━━━━━━━━━━━━━━━━━━━━━━━━━━━━━━━━━━━━━━━\u001b[0m \u001b[32m75.6/75.6 kB\u001b[0m \u001b[31m9.6 MB/s\u001b[0m eta \u001b[36m0:00:00\u001b[0m\n",
            "\u001b[2K     \u001b[90m━━━━━━━━━━━━━━━━━━━━━━━━━━━━━━━━━━━━━━━━\u001b[0m \u001b[32m108.0/108.0 kB\u001b[0m \u001b[31m12.0 MB/s\u001b[0m eta \u001b[36m0:00:00\u001b[0m\n",
            "\u001b[2K     \u001b[90m━━━━━━━━━━━━━━━━━━━━━━━━━━━━━━━━━━━━━━━━\u001b[0m \u001b[32m227.4/227.4 kB\u001b[0m \u001b[31m25.0 MB/s\u001b[0m eta \u001b[36m0:00:00\u001b[0m\n",
            "\u001b[2K     \u001b[90m━━━━━━━━━━━━━━━━━━━━━━━━━━━━━━━━━━━━━━━━\u001b[0m \u001b[32m1.8/1.8 MB\u001b[0m \u001b[31m38.5 MB/s\u001b[0m eta \u001b[36m0:00:00\u001b[0m\n",
            "\u001b[2K     \u001b[90m━━━━━━━━━━━━━━━━━━━━━━━━━━━━━━━━━━━━━━━━\u001b[0m \u001b[32m4.4/4.4 MB\u001b[0m \u001b[31m66.0 MB/s\u001b[0m eta \u001b[36m0:00:00\u001b[0m\n",
            "\u001b[2K     \u001b[90m━━━━━━━━━━━━━━━━━━━━━━━━━━━━━━━━━━━━━━━━\u001b[0m \u001b[32m286.1/286.1 kB\u001b[0m \u001b[31m29.4 MB/s\u001b[0m eta \u001b[36m0:00:00\u001b[0m\n",
            "\u001b[2K     \u001b[90m━━━━━━━━━━━━━━━━━━━━━━━━━━━━━━━━━━━━━━━━\u001b[0m \u001b[32m755.5/755.5 MB\u001b[0m \u001b[31m1.8 MB/s\u001b[0m eta \u001b[36m0:00:00\u001b[0m\n",
            "\u001b[2K     \u001b[90m━━━━━━━━━━━━━━━━━━━━━━━━━━━━━━━━━━━━━━━━\u001b[0m \u001b[32m510.5/510.5 kB\u001b[0m \u001b[31m53.9 MB/s\u001b[0m eta \u001b[36m0:00:00\u001b[0m\n",
            "\u001b[2K     \u001b[90m━━━━━━━━━━━━━━━━━━━━━━━━━━━━━━━━━━━━━━━━\u001b[0m \u001b[32m280.0/280.0 kB\u001b[0m \u001b[31m37.6 MB/s\u001b[0m eta \u001b[36m0:00:00\u001b[0m\n",
            "\u001b[2K     \u001b[90m━━━━━━━━━━━━━━━━━━━━━━━━━━━━━━━━━━━━━━━━\u001b[0m \u001b[32m156.5/156.5 kB\u001b[0m \u001b[31m21.0 MB/s\u001b[0m eta \u001b[36m0:00:00\u001b[0m\n",
            "\u001b[2K     \u001b[90m━━━━━━━━━━━━━━━━━━━━━━━━━━━━━━━━━━━━━━━━\u001b[0m \u001b[32m307.2/307.2 kB\u001b[0m \u001b[31m39.0 MB/s\u001b[0m eta \u001b[36m0:00:00\u001b[0m\n",
            "\u001b[2K     \u001b[90m━━━━━━━━━━━━━━━━━━━━━━━━━━━━━━━━━━━━━━━━\u001b[0m \u001b[32m64.9/64.9 MB\u001b[0m \u001b[31m10.2 MB/s\u001b[0m eta \u001b[36m0:00:00\u001b[0m\n",
            "\u001b[2K     \u001b[90m━━━━━━━━━━━━━━━━━━━━━━━━━━━━━━━━━━━━━━━━\u001b[0m \u001b[32m670.2/670.2 MB\u001b[0m \u001b[31m2.4 MB/s\u001b[0m eta \u001b[36m0:00:00\u001b[0m\n",
            "\u001b[2K     \u001b[90m━━━━━━━━━━━━━━━━━━━━━━━━━━━━━━━━━━━━━━━━\u001b[0m \u001b[32m213.0/213.0 MB\u001b[0m \u001b[31m6.2 MB/s\u001b[0m eta \u001b[36m0:00:00\u001b[0m\n",
            "\u001b[2K     \u001b[90m━━━━━━━━━━━━━━━━━━━━━━━━━━━━━━━━━━━━━━━━\u001b[0m \u001b[32m92.1/92.1 kB\u001b[0m \u001b[31m14.4 MB/s\u001b[0m eta \u001b[36m0:00:00\u001b[0m\n",
            "\u001b[2K     \u001b[90m━━━━━━━━━━━━━━━━━━━━━━━━━━━━━━━━━━━━━━━━\u001b[0m \u001b[32m60.6/60.6 kB\u001b[0m \u001b[31m9.8 MB/s\u001b[0m eta \u001b[36m0:00:00\u001b[0m\n",
            "\u001b[2K     \u001b[90m━━━━━━━━━━━━━━━━━━━━━━━━━━━━━━━━━━━━━━━━\u001b[0m \u001b[32m53.1/53.1 kB\u001b[0m \u001b[31m7.7 MB/s\u001b[0m eta \u001b[36m0:00:00\u001b[0m\n",
            "\u001b[2K     \u001b[90m━━━━━━━━━━━━━━━━━━━━━━━━━━━━━━━━━━━━━━━━\u001b[0m \u001b[32m76.5/76.5 kB\u001b[0m \u001b[31m11.3 MB/s\u001b[0m eta \u001b[36m0:00:00\u001b[0m\n",
            "\u001b[2K     \u001b[90m━━━━━━━━━━━━━━━━━━━━━━━━━━━━━━━━━━━━━━━━\u001b[0m \u001b[32m83.0/83.0 MB\u001b[0m \u001b[31m8.1 MB/s\u001b[0m eta \u001b[36m0:00:00\u001b[0m\n",
            "\u001b[2K     \u001b[90m━━━━━━━━━━━━━━━━━━━━━━━━━━━━━━━━━━━━━━━━\u001b[0m \u001b[32m23.7/23.7 MB\u001b[0m \u001b[31m67.0 MB/s\u001b[0m eta \u001b[36m0:00:00\u001b[0m\n",
            "\u001b[2K     \u001b[90m━━━━━━━━━━━━━━━━━━━━━━━━━━━━━━━━━━━━━━━━\u001b[0m \u001b[32m823.6/823.6 kB\u001b[0m \u001b[31m71.3 MB/s\u001b[0m eta \u001b[36m0:00:00\u001b[0m\n",
            "\u001b[2K     \u001b[90m━━━━━━━━━━━━━━━━━━━━━━━━━━━━━━━━━━━━━━━━\u001b[0m \u001b[32m14.1/14.1 MB\u001b[0m \u001b[31m95.1 MB/s\u001b[0m eta \u001b[36m0:00:00\u001b[0m\n",
            "\u001b[2K     \u001b[90m━━━━━━━━━━━━━━━━━━━━━━━━━━━━━━━━━━━━━━━━\u001b[0m \u001b[32m731.7/731.7 MB\u001b[0m \u001b[31m1.1 MB/s\u001b[0m eta \u001b[36m0:00:00\u001b[0m\n",
            "\u001b[2K     \u001b[90m━━━━━━━━━━━━━━━━━━━━━━━━━━━━━━━━━━━━━━━━\u001b[0m \u001b[32m410.6/410.6 MB\u001b[0m \u001b[31m2.7 MB/s\u001b[0m eta \u001b[36m0:00:00\u001b[0m\n",
            "\u001b[2K     \u001b[90m━━━━━━━━━━━━━━━━━━━━━━━━━━━━━━━━━━━━━━━━\u001b[0m \u001b[32m121.6/121.6 MB\u001b[0m \u001b[31m8.3 MB/s\u001b[0m eta \u001b[36m0:00:00\u001b[0m\n",
            "\u001b[2K     \u001b[90m━━━━━━━━━━━━━━━━━━━━━━━━━━━━━━━━━━━━━━━━\u001b[0m \u001b[32m56.5/56.5 MB\u001b[0m \u001b[31m12.1 MB/s\u001b[0m eta \u001b[36m0:00:00\u001b[0m\n",
            "\u001b[2K     \u001b[90m━━━━━━━━━━━━━━━━━━━━━━━━━━━━━━━━━━━━━━━━\u001b[0m \u001b[32m124.2/124.2 MB\u001b[0m \u001b[31m8.3 MB/s\u001b[0m eta \u001b[36m0:00:00\u001b[0m\n",
            "\u001b[2K     \u001b[90m━━━━━━━━━━━━━━━━━━━━━━━━━━━━━━━━━━━━━━━━\u001b[0m \u001b[32m196.0/196.0 MB\u001b[0m \u001b[31m4.5 MB/s\u001b[0m eta \u001b[36m0:00:00\u001b[0m\n",
            "\u001b[2K     \u001b[90m━━━━━━━━━━━━━━━━━━━━━━━━━━━━━━━━━━━━━━━━\u001b[0m \u001b[32m209.8/209.8 MB\u001b[0m \u001b[31m6.4 MB/s\u001b[0m eta \u001b[36m0:00:00\u001b[0m\n",
            "\u001b[2K     \u001b[90m━━━━━━━━━━━━━━━━━━━━━━━━━━━━━━━━━━━━━━━━\u001b[0m \u001b[32m99.1/99.1 kB\u001b[0m \u001b[31m14.3 MB/s\u001b[0m eta \u001b[36m0:00:00\u001b[0m\n",
            "\u001b[2K     \u001b[90m━━━━━━━━━━━━━━━━━━━━━━━━━━━━━━━━━━━━━━━━\u001b[0m \u001b[32m21.1/21.1 MB\u001b[0m \u001b[31m80.8 MB/s\u001b[0m eta \u001b[36m0:00:00\u001b[0m\n",
            "\u001b[2K     \u001b[90m━━━━━━━━━━━━━━━━━━━━━━━━━━━━━━━━━━━━━━━━\u001b[0m \u001b[32m77.8/77.8 kB\u001b[0m \u001b[31m11.2 MB/s\u001b[0m eta \u001b[36m0:00:00\u001b[0m\n",
            "\u001b[2K     \u001b[90m━━━━━━━━━━━━━━━━━━━━━━━━━━━━━━━━━━━━━━━━\u001b[0m \u001b[32m58.3/58.3 kB\u001b[0m \u001b[31m8.1 MB/s\u001b[0m eta \u001b[36m0:00:00\u001b[0m\n",
            "\u001b[2K     \u001b[90m━━━━━━━━━━━━━━━━━━━━━━━━━━━━━━━━━━━━━━━━\u001b[0m \u001b[32m111.7/111.7 kB\u001b[0m \u001b[31m16.4 MB/s\u001b[0m eta \u001b[36m0:00:00\u001b[0m\n",
            "\u001b[2K     \u001b[90m━━━━━━━━━━━━━━━━━━━━━━━━━━━━━━━━━━━━━━━━\u001b[0m \u001b[32m45.5/45.5 kB\u001b[0m \u001b[31m6.7 MB/s\u001b[0m eta \u001b[36m0:00:00\u001b[0m\n",
            "\u001b[2K     \u001b[90m━━━━━━━━━━━━━━━━━━━━━━━━━━━━━━━━━━━━━━━━\u001b[0m \u001b[32m30.6/30.6 MB\u001b[0m \u001b[31m55.5 MB/s\u001b[0m eta \u001b[36m0:00:00\u001b[0m\n",
            "\u001b[2K     \u001b[90m━━━━━━━━━━━━━━━━━━━━━━━━━━━━━━━━━━━━━━━━\u001b[0m \u001b[32m49.4/49.4 kB\u001b[0m \u001b[31m7.3 MB/s\u001b[0m eta \u001b[36m0:00:00\u001b[0m\n",
            "\u001b[2K     \u001b[90m━━━━━━━━━━━━━━━━━━━━━━━━━━━━━━━━━━━━━━━━\u001b[0m \u001b[32m116.3/116.3 kB\u001b[0m \u001b[31m18.3 MB/s\u001b[0m eta \u001b[36m0:00:00\u001b[0m\n",
            "\u001b[2K     \u001b[90m━━━━━━━━━━━━━━━━━━━━━━━━━━━━━━━━━━━━━━━━\u001b[0m \u001b[32m134.8/134.8 kB\u001b[0m \u001b[31m18.8 MB/s\u001b[0m eta \u001b[36m0:00:00\u001b[0m\n",
            "\u001b[2K     \u001b[90m━━━━━━━━━━━━━━━━━━━━━━━━━━━━━━━━━━━━━━━━\u001b[0m \u001b[32m71.5/71.5 kB\u001b[0m \u001b[31m11.0 MB/s\u001b[0m eta \u001b[36m0:00:00\u001b[0m\n",
            "\u001b[2K     \u001b[90m━━━━━━━━━━━━━━━━━━━━━━━━━━━━━━━━━━━━━━━━\u001b[0m \u001b[32m341.4/341.4 kB\u001b[0m \u001b[31m38.4 MB/s\u001b[0m eta \u001b[36m0:00:00\u001b[0m\n",
            "\u001b[2K     \u001b[90m━━━━━━━━━━━━━━━━━━━━━━━━━━━━━━━━━━━━━━━━\u001b[0m \u001b[32m3.4/3.4 MB\u001b[0m \u001b[31m22.5 MB/s\u001b[0m eta \u001b[36m0:00:00\u001b[0m\n",
            "\u001b[2K     \u001b[90m━━━━━━━━━━━━━━━━━━━━━━━━━━━━━━━━━━━━━━━━\u001b[0m \u001b[32m1.3/1.3 MB\u001b[0m \u001b[31m62.6 MB/s\u001b[0m eta \u001b[36m0:00:00\u001b[0m\n",
            "\u001b[2K     \u001b[90m━━━━━━━━━━━━━━━━━━━━━━━━━━━━━━━━━━━━━━━━\u001b[0m \u001b[32m130.2/130.2 kB\u001b[0m \u001b[31m16.0 MB/s\u001b[0m eta \u001b[36m0:00:00\u001b[0m\n",
            "\u001b[2K     \u001b[90m━━━━━━━━━━━━━━━━━━━━━━━━━━━━━━━━━━━━━━━━\u001b[0m \u001b[32m525.5/525.5 kB\u001b[0m \u001b[31m42.3 MB/s\u001b[0m eta \u001b[36m0:00:00\u001b[0m\n",
            "\u001b[2K     \u001b[90m━━━━━━━━━━━━━━━━━━━━━━━━━━━━━━━━━━━━━━━━\u001b[0m \u001b[32m2.4/2.4 MB\u001b[0m \u001b[31m91.3 MB/s\u001b[0m eta \u001b[36m0:00:00\u001b[0m\n",
            "\u001b[2K     \u001b[90m━━━━━━━━━━━━━━━━━━━━━━━━━━━━━━━━━━━━━━━━\u001b[0m \u001b[32m41.3/41.3 kB\u001b[0m \u001b[31m6.3 MB/s\u001b[0m eta \u001b[36m0:00:00\u001b[0m\n",
            "\u001b[2K     \u001b[90m━━━━━━━━━━━━━━━━━━━━━━━━━━━━━━━━━━━━━━━━\u001b[0m \u001b[32m5.4/5.4 MB\u001b[0m \u001b[31m103.8 MB/s\u001b[0m eta \u001b[36m0:00:00\u001b[0m\n",
            "\u001b[2K     \u001b[90m━━━━━━━━━━━━━━━━━━━━━━━━━━━━━━━━━━━━━━━━\u001b[0m \u001b[32m6.8/6.8 MB\u001b[0m \u001b[31m113.1 MB/s\u001b[0m eta \u001b[36m0:00:00\u001b[0m\n",
            "\u001b[2K     \u001b[90m━━━━━━━━━━━━━━━━━━━━━━━━━━━━━━━━━━━━━━━━\u001b[0m \u001b[32m58.4/58.4 kB\u001b[0m \u001b[31m9.0 MB/s\u001b[0m eta \u001b[36m0:00:00\u001b[0m\n",
            "\u001b[2K     \u001b[90m━━━━━━━━━━━━━━━━━━━━━━━━━━━━━━━━━━━━━━━━\u001b[0m \u001b[32m105.7/105.7 kB\u001b[0m \u001b[31m16.8 MB/s\u001b[0m eta \u001b[36m0:00:00\u001b[0m\n",
            "\u001b[2K     \u001b[90m━━━━━━━━━━━━━━━━━━━━━━━━━━━━━━━━━━━━━━━━\u001b[0m \u001b[32m67.3/67.3 kB\u001b[0m \u001b[31m11.1 MB/s\u001b[0m eta \u001b[36m0:00:00\u001b[0m\n",
            "\u001b[?25h  Installing build dependencies ... \u001b[?25l\u001b[?25hdone\n",
            "  Getting requirements to build wheel ... \u001b[?25l\u001b[?25hdone\n",
            "  Preparing metadata (pyproject.toml) ... \u001b[?25l\u001b[?25hdone\n",
            "\u001b[2K     \u001b[90m━━━━━━━━━━━━━━━━━━━━━━━━━━━━━━━━━━━━━━━━\u001b[0m \u001b[32m698.9/698.9 kB\u001b[0m \u001b[31m45.3 MB/s\u001b[0m eta \u001b[36m0:00:00\u001b[0m\n",
            "\u001b[2K     \u001b[90m━━━━━━━━━━━━━━━━━━━━━━━━━━━━━━━━━━━━━━━━\u001b[0m \u001b[32m1.6/1.6 MB\u001b[0m \u001b[31m81.3 MB/s\u001b[0m eta \u001b[36m0:00:00\u001b[0m\n",
            "\u001b[2K     \u001b[90m━━━━━━━━━━━━━━━━━━━━━━━━━━━━━━━━━━━━━━━━\u001b[0m \u001b[32m67.6/67.6 kB\u001b[0m \u001b[31m9.6 MB/s\u001b[0m eta \u001b[36m0:00:00\u001b[0m\n",
            "\u001b[2K     \u001b[90m━━━━━━━━━━━━━━━━━━━━━━━━━━━━━━━━━━━━━━━━\u001b[0m \u001b[32m138.5/138.5 kB\u001b[0m \u001b[31m17.7 MB/s\u001b[0m eta \u001b[36m0:00:00\u001b[0m\n",
            "\u001b[2K     \u001b[90m━━━━━━━━━━━━━━━━━━━━━━━━━━━━━━━━━━━━━━━━\u001b[0m \u001b[32m46.0/46.0 kB\u001b[0m \u001b[31m6.5 MB/s\u001b[0m eta \u001b[36m0:00:00\u001b[0m\n",
            "\u001b[2K     \u001b[90m━━━━━━━━━━━━━━━━━━━━━━━━━━━━━━━━━━━━━━━━\u001b[0m \u001b[32m50.8/50.8 kB\u001b[0m \u001b[31m6.0 MB/s\u001b[0m eta \u001b[36m0:00:00\u001b[0m\n",
            "\u001b[2K     \u001b[90m━━━━━━━━━━━━━━━━━━━━━━━━━━━━━━━━━━━━━━━━\u001b[0m \u001b[32m86.8/86.8 kB\u001b[0m \u001b[31m14.4 MB/s\u001b[0m eta \u001b[36m0:00:00\u001b[0m\n",
            "\u001b[?25h  Building wheel for FlagEmbedding (setup.py) ... \u001b[?25l\u001b[?25hdone\n",
            "  Building wheel for pypika (pyproject.toml) ... \u001b[?25l\u001b[?25hdone\n",
            "\u001b[31mERROR: pip's dependency resolver does not currently take into account all the packages that are installed. This behaviour is the source of the following dependency conflicts.\n",
            "torchaudio 2.1.0+cu121 requires torch==2.1.0, but you have torch 2.1.2 which is incompatible.\n",
            "torchdata 0.7.0 requires torch==2.1.0, but you have torch 2.1.2 which is incompatible.\n",
            "torchtext 0.16.0 requires torch==2.1.0, but you have torch 2.1.2 which is incompatible.\n",
            "torchvision 0.16.0+cu121 requires torch==2.1.0, but you have torch 2.1.2 which is incompatible.\u001b[0m\u001b[31m\n",
            "\u001b[0m"
          ]
        }
      ],
      "source": [
        "!pip install -q llama-index llama-index-core llama-index-readers-file \\\n",
        "      llama-index-embeddings-huggingface llama-index-postprocessor-flag-embedding-reranker \\\n",
        "      git+https://github.com/FlagOpen/FlagEmbedding.git llama-parse \\\n",
        "      llama-index-llms-vllm vllm\n"
      ]
    },
    {
      "cell_type": "code",
      "source": [
        "from google.colab import drive\n",
        "\n",
        "drive.mount('/content/drive')"
      ],
      "metadata": {
        "colab": {
          "base_uri": "https://localhost:8080/"
        },
        "id": "iYj9Nk-MLfys",
        "outputId": "74d7db1b-9bcb-4b7f-da3a-b322725b1493"
      },
      "execution_count": null,
      "outputs": [
        {
          "output_type": "stream",
          "name": "stdout",
          "text": [
            "Mounted at /content/drive\n"
          ]
        }
      ]
    },
    {
      "cell_type": "code",
      "source": [
        "%cd /content/drive/MyDrive/DACON_wallpaper_contest_data"
      ],
      "metadata": {
        "colab": {
          "base_uri": "https://localhost:8080/"
        },
        "id": "2Gvv1wuvNuqc",
        "outputId": "995f63ee-cd8d-4dcf-edaa-62b907743d93"
      },
      "execution_count": null,
      "outputs": [
        {
          "output_type": "stream",
          "name": "stdout",
          "text": [
            "/content/drive/.shortcut-targets-by-id/1JIUWrdrv01QBIWHHKebD2f406jfGhSFu/DACON_wallpaper_contest_data\n"
          ]
        }
      ]
    },
    {
      "cell_type": "code",
      "source": [
        "!ls"
      ],
      "metadata": {
        "colab": {
          "base_uri": "https://localhost:8080/"
        },
        "id": "5X_cWXIzfRUZ",
        "outputId": "1223911a-4ecd-4b7f-977d-71e566e2e359"
      },
      "execution_count": null,
      "outputs": [
        {
          "output_type": "stream",
          "name": "stdout",
          "text": [
            "best-one\t\t   orion_submission.csv    test.gsheet\n",
            "clean-files-for-retriever  outputs\t\t   third_submission.csv\n",
            "data\t\t\t   pre-processed-data\t   train.csv\n",
            "demo_pretrained\t\t   RAG-llama-index.ipynb   train.gsheet\n",
            "Domain_related_references  sample_submission.csv   train-plus-sup-pdf-vector-index-storage\n",
            "fun_submission.csv\t   second_submission.csv   train-vector-index-storage\n",
            "good_responses.json\t   submission.csv\t   train-vector-index-storage-chunk-size-1295\n",
            "orion-peft\t\t   summarized_output.json\n",
            "orion_responses.json\t   test.csv\n"
          ]
        }
      ]
    },
    {
      "cell_type": "code",
      "source": [
        "import os\n",
        "from llama_index.core import VectorStoreIndex, SimpleDirectoryReader, Settings\n",
        "from llama_index.core.embeddings import resolve_embed_model\n",
        "from llama_index.embeddings.huggingface import HuggingFaceEmbedding\n",
        "from llama_index.core import Settings\n",
        "from llama_index.llms.vllm import Vllm"
      ],
      "metadata": {
        "id": "pkEG5_-sCU-6"
      },
      "execution_count": null,
      "outputs": []
    },
    {
      "cell_type": "code",
      "source": [
        "# os.environ[\"HF_HOME\"] = \"model/\"\n",
        "\n",
        "embed_model = HuggingFaceEmbedding(\n",
        "    model_name=\"BAAI/bge-m3\",\n",
        "    pooling=\"mean\" # \"cls\" is default\n",
        ")\n",
        "\n",
        "# llm = Vllm(\n",
        "#     model=\"AIFT/AIFT-instruct-dpo-v1.3-42dot_LLM-SFT-1.3B\",\n",
        "#     tensor_parallel_size=1,\n",
        "#     max_new_tokens=264,\n",
        "#     dtype=\"half\",\n",
        "#     trust_remote_code=True,\n",
        "#     vllm_kwargs={\"swap_space\": 1, \"gpu_memory_utilization\": 0.5},\n",
        "# )\n",
        "\n",
        "# Settings.llm = Vllm(model=\"dummy-model\", api_url=\"lets trick\")\n",
        "Settings.llm = None # Lets go with dummy llm\n",
        "Settings.embed_model = embed_model\n"
      ],
      "metadata": {
        "colab": {
          "base_uri": "https://localhost:8080/"
        },
        "id": "m_YknAkuKCT-",
        "outputId": "75a92323-9c63-41ed-ae64-0b7160d7337f"
      },
      "execution_count": null,
      "outputs": [
        {
          "output_type": "stream",
          "name": "stderr",
          "text": [
            "/usr/local/lib/python3.10/dist-packages/huggingface_hub/utils/_token.py:88: UserWarning: \n",
            "The secret `HF_TOKEN` does not exist in your Colab secrets.\n",
            "To authenticate with the Hugging Face Hub, create a token in your settings tab (https://huggingface.co/settings/tokens), set it as secret in your Google Colab and restart your session.\n",
            "You will be able to reuse this secret in all of your notebooks.\n",
            "Please note that authentication is recommended but still optional to access public models or datasets.\n",
            "  warnings.warn(\n"
          ]
        },
        {
          "output_type": "stream",
          "name": "stdout",
          "text": [
            "LLM is explicitly disabled. Using MockLLM.\n"
          ]
        }
      ]
    },
    {
      "cell_type": "code",
      "source": [
        "import os.path\n",
        "from llama_index.core import (\n",
        "    VectorStoreIndex,\n",
        "    SimpleDirectoryReader,\n",
        "    StorageContext,\n",
        "    load_index_from_storage,\n",
        ")\n",
        "\n",
        "# The csv file is read in left-to-right and then top-to-down order\n",
        "\n",
        "# check if storage already exists\n",
        "PERSIST_DIR = \"/content/drive/MyDrive/DACON_wallpaper_contest_data/train-vector-index-storage-chunk-size-1295\"\n",
        "if not os.path.exists(PERSIST_DIR):\n",
        "    # load the documents and create the index\n",
        "    documents = SimpleDirectoryReader(\"/content/drive/MyDrive/DACON_wallpaper_contest_data/data\").load_data()\n",
        "    index = VectorStoreIndex.from_documents(\n",
        "        documents,\n",
        "        insert_batch_size=2\n",
        "    )\n",
        "\n",
        "    # store it for later\n",
        "    index.storage_context.persist(persist_dir=PERSIST_DIR)\n",
        "else:\n",
        "    # load the existing index\n",
        "    storage_context = StorageContext.from_defaults(persist_dir=PERSIST_DIR)\n",
        "    index = load_index_from_storage(storage_context)\n"
      ],
      "metadata": {
        "id": "GvWLCDngHpAF"
      },
      "execution_count": null,
      "outputs": []
    },
    {
      "cell_type": "code",
      "source": [
        "# query_engine = index.as_query_engine()\n",
        "# response = query_engine.query(\"면진장치가 뭐야?\")\n",
        "# # print(response.source_nodes)\n",
        "# response.response"
      ],
      "metadata": {
        "id": "BErGrwcgOYB6"
      },
      "execution_count": null,
      "outputs": []
    },
    {
      "cell_type": "code",
      "source": [
        "# !pip install llama-index-postprocessor-flag-embedding-reranker\n"
      ],
      "metadata": {
        "id": "eoG3AojnSy9M"
      },
      "execution_count": null,
      "outputs": []
    },
    {
      "cell_type": "code",
      "source": [
        "from llama_index.core import VectorStoreIndex, get_response_synthesizer\n",
        "from llama_index.core.retrievers import VectorIndexRetriever\n",
        "from llama_index.core.query_engine import RetrieverQueryEngine\n",
        "\n",
        "# build index\n",
        "# index = VectorStoreIndex.from_documents(documents)\n",
        "Settings.llm=None\n",
        "# configure retriever\n",
        "retriever = VectorIndexRetriever(\n",
        "    index=index,\n",
        "    similarity_top_k=3,\n",
        ")\n",
        "\n",
        "# configure response synthesizer\n",
        "response_synthesizer = get_response_synthesizer(\n",
        "    # Choose one mode acccording to the need\n",
        "    # https://docs.llamaindex.ai/en/stable/module_guides/deploying/query_engine/response_modes.html\n",
        "    response_mode=\"compact\",\n",
        ")\n",
        "\n",
        "# assemble query engine\n",
        "query_engine = RetrieverQueryEngine(\n",
        "    retriever=retriever,\n",
        "    response_synthesizer=response_synthesizer,\n",
        ")\n",
        "\n",
        "\n"
      ],
      "metadata": {
        "id": "AzjQJqAoRYNA",
        "colab": {
          "base_uri": "https://localhost:8080/"
        },
        "outputId": "b6458867-7eb4-46b8-d37e-dcd2971ad34c"
      },
      "execution_count": null,
      "outputs": [
        {
          "output_type": "stream",
          "name": "stdout",
          "text": [
            "LLM is explicitly disabled. Using MockLLM.\n"
          ]
        }
      ]
    },
    {
      "cell_type": "code",
      "source": [
        "from llama_index.postprocessor.flag_embedding_reranker import FlagEmbeddingReranker\n",
        "\n",
        "reranker = FlagEmbeddingReranker(\n",
        "    top_n=3,\n",
        "    model=\"Dongjin-kr/ko-reranker\",\n",
        ")\n",
        "\n",
        "raw_query_engine = index.as_query_engine(similarity_top_k=5, node_postprocessors=[reranker], verbose=True)\n",
        "\n",
        "response_1 = raw_query_engine.query(\"면진장치가 뭐야?\")\n",
        "response_1\n"
      ],
      "metadata": {
        "colab": {
          "base_uri": "https://localhost:8080/"
        },
        "id": "TDCvBTuaUa7v",
        "outputId": "6c3ad051-5570-423f-f24f-d686bc8bf138"
      },
      "execution_count": null,
      "outputs": [
        {
          "output_type": "execute_result",
          "data": {
            "text/plain": [
              "Response(response='Context information is below.\\n---------------------\\nfile_path: /content/drive/MyDrive/DACON_wallpaper_contest_data/data/train.csv\\n\\nTRAIN_000, 면진장치가 뭐야?, 면진장치에 사용되는 주요 기술은 무엇인가요?, 건축구조, 면진장치란 지반에서 오는 진동 에너지를 흡수하여 건물에 주는 진동을 줄여주는 진동 격리장치입니다., 면진장치란 건물의 지반에서 발생하는 진동 에너지를 흡수하여 건물을 보호하고, 진동을 줄여주는 장치입니다. 주로 지진이나 기타 지반의 진동으로 인한 피해를 방지하기 위해 사용됩니다., 면진장치란 지반으로부터 발생하는 진동 에너지를 흡수하여 건물에 전달되는 진동을 줄여주는 장치를 말합니다. 이를 통해 건물의 안전성과 안정성을 향상시키고, 지진 등의 외부 충격으로부터 보호하는 역할을 합니다. 지진으로 인한 건물의 피해를 최소화하기 위해 주로 사용됩니다., 면진장치는 건물의 지반으로부터 오는 진동 에너지를 흡수하여 건물에 전달되는 진동을 최소화해 주는 진동 격리장치입니다. 이를 통해 건물 내부의 진동을 줄이고 안정성을 유지하는 데 도움을 줍니다., 면진장치는 건물에 오는 지반 진동의 영향을 최대한으로 흡수하여 건물에 전달되는 진동을 줄여주는 장치입니다. 지반으로부터 오는 진동 에너지의 영향을 완화시키기 위해 사용됩니다.\\n\\nfile_path: /content/drive/MyDrive/DACON_wallpaper_contest_data/data/train.csv\\n\\nTRAIN_013, 면진구조가 뭐야?, 면진구조에 대해 좀 더 자세히 알 수 있을까요?, 건축구조, 면진구조란 면진 장치를 사용해 지반과 건물을 분리시키는 방법을 의미합니다., 면진구조는 지반과 건물을 분리시키기 위해 면진 장치를 사용하는 구조를 말합니다. 이 구조는 지진이나 지반의 이동으로 인한 건물의 피해를 최소화하기 위해 설계되었습니다. 면진구조는 지진으로 인한 건물의 피해를 최소화하는 데 도움을 주며, 안전성을 확보하기 위한 중요한 건축 기술 중 하나입니다., 면진구조란 지반과 건물을 분리시키기 위해 면진 장치를 사용하는 방법을 말합니다. 이는 지반의 이동이나 변형으로 인해 건물에 손상이 생기는 것을 방지하고, 지진 등의 자연재해로부터 건물을 보호하는 역할을 합니다. 면진구조는 안정성 및 지진 대비를 고려하여 건물을 설계하고 건설할 때 중요한 구조적 요소 중 하나입니다., 면진구조란 지반과 건물을 분리시키기 위해 면진 장치를 사용하는 구조를 말합니다. 이러한 구조는 지진이나 지반의 움직임으로 발생하는 피해를 최소화하고 안전성을 확보하는 데 도움이 됩니다. 면진구조는 건축물의 안전과 튼튼함을 위해 중요한 설계 및 시공 기술로써 활용되고 있습니다., 면진구조는 건물의 지반과의 연결을 분리시키는 구조로, 지진이나 지반의 이동에 따른 변형을 완화시켜 건물의 안전성을 높이는 역할을 합니다. 지진 시 건물의 이동을 완화시켜 구조물의 파괴를 방지하고 안전을 유지하는 중요한 역할을 합니다.\\n\\nfile_path: /content/drive/MyDrive/DACON_wallpaper_contest_data/data/train.csv\\n\\nTRAIN_484, 정배작업이 뭐야?, 정배작업은 건설 현장에서 사용되는 작업 방식으로, 어떤 상황에서 정배작업을 사용하는지 알고 싶습니다., 시공, 정배작업은 벽지를 자르고, 벽지 안쪽 면에 도배풀을 도포한 후 벽면에 부착하는 일련의 과정을 의미합니다., 정배작업은 벽지를 자르고, 벽지 안쪽 면에 도배풀을 도포한 후 벽면에 부착하는 일련의 과정을 의미합니다. 이 일련의 과정을 통해 벽지가 깔끔하고 정확하게 부착되어 완벽한 마감을 할 수 있게 됩니다., 정배작업은 벽지를 잘라 맞추고, 벽지 안쪽 면에 도배풀을 도포한 후 벽면에 부착하는 작업을 의미합니다. 이는 벽지를 균일하게 부착하여 공간을 더 아름답게 마무리하기 위한 과정으로, 전문 기술과 정확한 측정이 필요합니다., 정배작업은 벽지를 자르고, 벽지의 내부 면에 도배용 접착제를 도포한 후 벽면에 부착하는 일련의 과정을 말합니다. 이과정은 벽지가 깔끔하고 고르게 부착될 수 있도록 해주며, 전체적인 완성도를 높이는 역할을 합니다., 정배작업은 벽지를 자르고, 벽지의 뒷면에 도배용 접착제를 바르는 작업을 말합니다. 이후, 벽지를 벽면에 부착하는 일련의 과정을 포함하고 있습니다.\\n---------------------\\nGiven the context information and not prior knowledge, answer the query.\\nQuery: 면진장치가 뭐야?\\nAnswer: ', source_nodes=[NodeWithScore(node=TextNode(id_='794e14a9-2580-4e29-b16b-69e2c4061153', embedding=None, metadata={'file_path': '/content/drive/MyDrive/DACON_wallpaper_contest_data/data/train.csv', 'file_name': '/content/drive/MyDrive/DACON_wallpaper_contest_data/data/train.csv', 'file_type': 'text/csv', 'file_size': 1486634, 'creation_date': '2024-03-03', 'last_modified_date': '2024-03-03'}, excluded_embed_metadata_keys=['file_name', 'file_type', 'file_size', 'creation_date', 'last_modified_date', 'last_accessed_date'], excluded_llm_metadata_keys=['file_name', 'file_type', 'file_size', 'creation_date', 'last_modified_date', 'last_accessed_date'], relationships={<NodeRelationship.SOURCE: '1'>: RelatedNodeInfo(node_id='9d1b58e2-cc97-453a-8a4a-03ba978b8451', node_type=<ObjectType.DOCUMENT: '4'>, metadata={'file_path': '/content/drive/MyDrive/DACON_wallpaper_contest_data/data/train.csv', 'file_name': '/content/drive/MyDrive/DACON_wallpaper_contest_data/data/train.csv', 'file_type': 'text/csv', 'file_size': 1486634, 'creation_date': '2024-03-03', 'last_modified_date': '2024-03-03'}, hash='4e962cab7f9b2fc9a3f2b255161bf4737a411048ebe854fa10c9a49faeb64d57'), <NodeRelationship.NEXT: '3'>: RelatedNodeInfo(node_id='ef922520-07f9-4522-879b-c7aaa8861735', node_type=<ObjectType.TEXT: '1'>, metadata={}, hash='19f4c55aac374bc640214ebe437541520aa400ac32683a8172b6800f0870a4e2')}, text='TRAIN_000, 면진장치가 뭐야?, 면진장치에 사용되는 주요 기술은 무엇인가요?, 건축구조, 면진장치란 지반에서 오는 진동 에너지를 흡수하여 건물에 주는 진동을 줄여주는 진동 격리장치입니다., 면진장치란 건물의 지반에서 발생하는 진동 에너지를 흡수하여 건물을 보호하고, 진동을 줄여주는 장치입니다. 주로 지진이나 기타 지반의 진동으로 인한 피해를 방지하기 위해 사용됩니다., 면진장치란 지반으로부터 발생하는 진동 에너지를 흡수하여 건물에 전달되는 진동을 줄여주는 장치를 말합니다. 이를 통해 건물의 안전성과 안정성을 향상시키고, 지진 등의 외부 충격으로부터 보호하는 역할을 합니다. 지진으로 인한 건물의 피해를 최소화하기 위해 주로 사용됩니다., 면진장치는 건물의 지반으로부터 오는 진동 에너지를 흡수하여 건물에 전달되는 진동을 최소화해 주는 진동 격리장치입니다. 이를 통해 건물 내부의 진동을 줄이고 안정성을 유지하는 데 도움을 줍니다., 면진장치는 건물에 오는 지반 진동의 영향을 최대한으로 흡수하여 건물에 전달되는 진동을 줄여주는 장치입니다. 지반으로부터 오는 진동 에너지의 영향을 완화시키기 위해 사용됩니다.', start_char_idx=0, end_char_idx=570, text_template='{metadata_str}\\n\\n{content}', metadata_template='{key}: {value}', metadata_seperator='\\n'), score=7.160682678222656), NodeWithScore(node=TextNode(id_='6a1e2d4a-e3dc-431e-a977-5d21be0d6453', embedding=None, metadata={'file_path': '/content/drive/MyDrive/DACON_wallpaper_contest_data/data/train.csv', 'file_name': '/content/drive/MyDrive/DACON_wallpaper_contest_data/data/train.csv', 'file_type': 'text/csv', 'file_size': 1486634, 'creation_date': '2024-03-03', 'last_modified_date': '2024-03-03'}, excluded_embed_metadata_keys=['file_name', 'file_type', 'file_size', 'creation_date', 'last_modified_date', 'last_accessed_date'], excluded_llm_metadata_keys=['file_name', 'file_type', 'file_size', 'creation_date', 'last_modified_date', 'last_accessed_date'], relationships={<NodeRelationship.SOURCE: '1'>: RelatedNodeInfo(node_id='9d1b58e2-cc97-453a-8a4a-03ba978b8451', node_type=<ObjectType.DOCUMENT: '4'>, metadata={'file_path': '/content/drive/MyDrive/DACON_wallpaper_contest_data/data/train.csv', 'file_name': '/content/drive/MyDrive/DACON_wallpaper_contest_data/data/train.csv', 'file_type': 'text/csv', 'file_size': 1486634, 'creation_date': '2024-03-03', 'last_modified_date': '2024-03-03'}, hash='4e962cab7f9b2fc9a3f2b255161bf4737a411048ebe854fa10c9a49faeb64d57'), <NodeRelationship.PREVIOUS: '2'>: RelatedNodeInfo(node_id='deb55e3f-b1e6-43f4-bb44-61b16421a00c', node_type=<ObjectType.TEXT: '1'>, metadata={'file_path': '/content/drive/MyDrive/DACON_wallpaper_contest_data/data/train.csv', 'file_name': '/content/drive/MyDrive/DACON_wallpaper_contest_data/data/train.csv', 'file_type': 'text/csv', 'file_size': 1486634, 'creation_date': '2024-03-03', 'last_modified_date': '2024-03-03'}, hash='038d41a7938e62578544101a7031e1f688df26d176e94a26376be27f43e7ae81'), <NodeRelationship.NEXT: '3'>: RelatedNodeInfo(node_id='3afb7c0c-eef8-4a37-9cea-6916a6b905dc', node_type=<ObjectType.TEXT: '1'>, metadata={}, hash='e258e05084b0f10df26988c469e8334b829de33123d710a70ba8e9c111c60867')}, text='TRAIN_013, 면진구조가 뭐야?, 면진구조에 대해 좀 더 자세히 알 수 있을까요?, 건축구조, 면진구조란 면진 장치를 사용해 지반과 건물을 분리시키는 방법을 의미합니다., 면진구조는 지반과 건물을 분리시키기 위해 면진 장치를 사용하는 구조를 말합니다. 이 구조는 지진이나 지반의 이동으로 인한 건물의 피해를 최소화하기 위해 설계되었습니다. 면진구조는 지진으로 인한 건물의 피해를 최소화하는 데 도움을 주며, 안전성을 확보하기 위한 중요한 건축 기술 중 하나입니다., 면진구조란 지반과 건물을 분리시키기 위해 면진 장치를 사용하는 방법을 말합니다. 이는 지반의 이동이나 변형으로 인해 건물에 손상이 생기는 것을 방지하고, 지진 등의 자연재해로부터 건물을 보호하는 역할을 합니다. 면진구조는 안정성 및 지진 대비를 고려하여 건물을 설계하고 건설할 때 중요한 구조적 요소 중 하나입니다., 면진구조란 지반과 건물을 분리시키기 위해 면진 장치를 사용하는 구조를 말합니다. 이러한 구조는 지진이나 지반의 움직임으로 발생하는 피해를 최소화하고 안전성을 확보하는 데 도움이 됩니다. 면진구조는 건축물의 안전과 튼튼함을 위해 중요한 설계 및 시공 기술로써 활용되고 있습니다., 면진구조는 건물의 지반과의 연결을 분리시키는 구조로, 지진이나 지반의 이동에 따른 변형을 완화시켜 건물의 안전성을 높이는 역할을 합니다. 지진 시 건물의 이동을 완화시켜 구조물의 파괴를 방지하고 안전을 유지하는 중요한 역할을 합니다.', start_char_idx=12085, end_char_idx=12813, text_template='{metadata_str}\\n\\n{content}', metadata_template='{key}: {value}', metadata_seperator='\\n'), score=-0.9985678195953369), NodeWithScore(node=TextNode(id_='66797e18-d3fe-419f-8a1e-d8f71dcbf7af', embedding=None, metadata={'file_path': '/content/drive/MyDrive/DACON_wallpaper_contest_data/data/train.csv', 'file_name': '/content/drive/MyDrive/DACON_wallpaper_contest_data/data/train.csv', 'file_type': 'text/csv', 'file_size': 1486634, 'creation_date': '2024-03-03', 'last_modified_date': '2024-03-03'}, excluded_embed_metadata_keys=['file_name', 'file_type', 'file_size', 'creation_date', 'last_modified_date', 'last_accessed_date'], excluded_llm_metadata_keys=['file_name', 'file_type', 'file_size', 'creation_date', 'last_modified_date', 'last_accessed_date'], relationships={<NodeRelationship.SOURCE: '1'>: RelatedNodeInfo(node_id='9d1b58e2-cc97-453a-8a4a-03ba978b8451', node_type=<ObjectType.DOCUMENT: '4'>, metadata={'file_path': '/content/drive/MyDrive/DACON_wallpaper_contest_data/data/train.csv', 'file_name': '/content/drive/MyDrive/DACON_wallpaper_contest_data/data/train.csv', 'file_type': 'text/csv', 'file_size': 1486634, 'creation_date': '2024-03-03', 'last_modified_date': '2024-03-03'}, hash='4e962cab7f9b2fc9a3f2b255161bf4737a411048ebe854fa10c9a49faeb64d57'), <NodeRelationship.PREVIOUS: '2'>: RelatedNodeInfo(node_id='69d4ebc0-56e4-4dd9-b42a-2aa55b97286d', node_type=<ObjectType.TEXT: '1'>, metadata={'file_path': '/content/drive/MyDrive/DACON_wallpaper_contest_data/data/train.csv', 'file_name': '/content/drive/MyDrive/DACON_wallpaper_contest_data/data/train.csv', 'file_type': 'text/csv', 'file_size': 1486634, 'creation_date': '2024-03-03', 'last_modified_date': '2024-03-03'}, hash='72ef683c5b6fd0d935a72ca49468463992892d495d74fd2ecf2f34b4f729e5cb'), <NodeRelationship.NEXT: '3'>: RelatedNodeInfo(node_id='5ea2b063-91f3-44eb-a914-e04f48fa9107', node_type=<ObjectType.TEXT: '1'>, metadata={}, hash='aff0b776ed79750b8eaa74b10422a48f40fa5703ec0784442b6d248fa9f067d0')}, text='TRAIN_484, 정배작업이 뭐야?, 정배작업은 건설 현장에서 사용되는 작업 방식으로, 어떤 상황에서 정배작업을 사용하는지 알고 싶습니다., 시공, 정배작업은 벽지를 자르고, 벽지 안쪽 면에 도배풀을 도포한 후 벽면에 부착하는 일련의 과정을 의미합니다., 정배작업은 벽지를 자르고, 벽지 안쪽 면에 도배풀을 도포한 후 벽면에 부착하는 일련의 과정을 의미합니다. 이 일련의 과정을 통해 벽지가 깔끔하고 정확하게 부착되어 완벽한 마감을 할 수 있게 됩니다., 정배작업은 벽지를 잘라 맞추고, 벽지 안쪽 면에 도배풀을 도포한 후 벽면에 부착하는 작업을 의미합니다. 이는 벽지를 균일하게 부착하여 공간을 더 아름답게 마무리하기 위한 과정으로, 전문 기술과 정확한 측정이 필요합니다., 정배작업은 벽지를 자르고, 벽지의 내부 면에 도배용 접착제를 도포한 후 벽면에 부착하는 일련의 과정을 말합니다. 이과정은 벽지가 깔끔하고 고르게 부착될 수 있도록 해주며, 전체적인 완성도를 높이는 역할을 합니다., 정배작업은 벽지를 자르고, 벽지의 뒷면에 도배용 접착제를 바르는 작업을 말합니다. 이후, 벽지를 벽면에 부착하는 일련의 과정을 포함하고 있습니다.', start_char_idx=444310, end_char_idx=444891, text_template='{metadata_str}\\n\\n{content}', metadata_template='{key}: {value}', metadata_seperator='\\n'), score=-5.561858177185059)], metadata={'794e14a9-2580-4e29-b16b-69e2c4061153': {'file_path': '/content/drive/MyDrive/DACON_wallpaper_contest_data/data/train.csv', 'file_name': '/content/drive/MyDrive/DACON_wallpaper_contest_data/data/train.csv', 'file_type': 'text/csv', 'file_size': 1486634, 'creation_date': '2024-03-03', 'last_modified_date': '2024-03-03'}, '6a1e2d4a-e3dc-431e-a977-5d21be0d6453': {'file_path': '/content/drive/MyDrive/DACON_wallpaper_contest_data/data/train.csv', 'file_name': '/content/drive/MyDrive/DACON_wallpaper_contest_data/data/train.csv', 'file_type': 'text/csv', 'file_size': 1486634, 'creation_date': '2024-03-03', 'last_modified_date': '2024-03-03'}, '66797e18-d3fe-419f-8a1e-d8f71dcbf7af': {'file_path': '/content/drive/MyDrive/DACON_wallpaper_contest_data/data/train.csv', 'file_name': '/content/drive/MyDrive/DACON_wallpaper_contest_data/data/train.csv', 'file_type': 'text/csv', 'file_size': 1486634, 'creation_date': '2024-03-03', 'last_modified_date': '2024-03-03'}})"
            ]
          },
          "metadata": {},
          "execution_count": 11
        }
      ]
    },
    {
      "cell_type": "code",
      "source": [
        "context_list = []\n",
        "for r in response_1.source_nodes:\n",
        "  if r.score > 0:\n",
        "      context_list.append(r.text)\n",
        "context_list"
      ],
      "metadata": {
        "colab": {
          "base_uri": "https://localhost:8080/"
        },
        "id": "pmSOSg5QEBq2",
        "outputId": "010756f7-8042-4329-8ca6-776a3e523103"
      },
      "execution_count": null,
      "outputs": [
        {
          "output_type": "execute_result",
          "data": {
            "text/plain": [
              "['TRAIN_000, 면진장치가 뭐야?, 면진장치에 사용되는 주요 기술은 무엇인가요?, 건축구조, 면진장치란 지반에서 오는 진동 에너지를 흡수하여 건물에 주는 진동을 줄여주는 진동 격리장치입니다., 면진장치란 건물의 지반에서 발생하는 진동 에너지를 흡수하여 건물을 보호하고, 진동을 줄여주는 장치입니다. 주로 지진이나 기타 지반의 진동으로 인한 피해를 방지하기 위해 사용됩니다., 면진장치란 지반으로부터 발생하는 진동 에너지를 흡수하여 건물에 전달되는 진동을 줄여주는 장치를 말합니다. 이를 통해 건물의 안전성과 안정성을 향상시키고, 지진 등의 외부 충격으로부터 보호하는 역할을 합니다. 지진으로 인한 건물의 피해를 최소화하기 위해 주로 사용됩니다., 면진장치는 건물의 지반으로부터 오는 진동 에너지를 흡수하여 건물에 전달되는 진동을 최소화해 주는 진동 격리장치입니다. 이를 통해 건물 내부의 진동을 줄이고 안정성을 유지하는 데 도움을 줍니다., 면진장치는 건물에 오는 지반 진동의 영향을 최대한으로 흡수하여 건물에 전달되는 진동을 줄여주는 장치입니다. 지반으로부터 오는 진동 에너지의 영향을 완화시키기 위해 사용됩니다.']"
            ]
          },
          "metadata": {},
          "execution_count": 12
        }
      ]
    },
    {
      "cell_type": "code",
      "source": [
        "## Uncomment this for new checkpoints\n",
        "def get_prompt(question, prev_q=\"\", raw_query_engine=raw_query_engine):\n",
        "    # prev_q is a must needed for some questions like this: What is the biggest cause of plaster revision? And please tell me how to solve this.”\n",
        "    INSTRUCTION_PROMPT_TEMPLATE = \"\"\"\\\n",
        "    ### System:\n",
        "    벽지에 대한 고객 문의에 정확하고 유용한 답변을 작성한다. <질문>의 의도를 파악하여 정확하게 <보고서>만을 기반으로 답변하세요.\n",
        "\n",
        "    ### User:\n",
        "    <보고서>\n",
        "    {CONTEXT}\n",
        "    </보고서>\n",
        "    지침사항을 반드시 지키고, <보고서>를 기반으로 <질문>에 답변하세요.\n",
        "    <질문>\n",
        "    {QUESTION}\n",
        "    </질문>\n",
        "\n",
        "    ### Assistant:\n",
        "    \"\"\"\n",
        "    RESPONSE_TEMPLATE = \"\"\"\\\n",
        "    {ANSWER}\n",
        "\n",
        "    \"\"\"\n",
        "\n",
        "    response_1 = raw_query_engine.query(question)\n",
        "\n",
        "    context_list = []\n",
        "    for r in response_1.source_nodes:\n",
        "      # print(r.score)\n",
        "      if r.score > 0:\n",
        "          if r.score <= 4 and len(context_list) >= 1:\n",
        "              pass\n",
        "          else:\n",
        "              context_list.append(r.text)\n",
        "\n",
        "    # Special case when the follow up question is junk\n",
        "    if len(context_list) == 0:\n",
        "        response_2 = raw_query_engine.query(prev_q + \" \" + question)\n",
        "        for r in response_1.source_nodes:\n",
        "          if r.score > 0:\n",
        "              context_list.append(r.text)\n",
        "\n",
        "    context = prev_q + \"\\n\\n\".join(context_list + [question])\n",
        "\n",
        "    return INSTRUCTION_PROMPT_TEMPLATE.format(CONTEXT=context, QUESTION=question)\n",
        "\n",
        "get_prompt(\"또한, 원목사이딩을 사용하는 것에 어떤 단점이 있을까요?\")"
      ],
      "metadata": {
        "colab": {
          "base_uri": "https://localhost:8080/",
          "height": 157
        },
        "id": "XfSiAJs_Dza6",
        "outputId": "c6dc1b78-fbae-4058-b560-0feb1087492f"
      },
      "execution_count": null,
      "outputs": [
        {
          "output_type": "execute_result",
          "data": {
            "text/plain": [
              "'    ### System:\\n    벽지에 대한 고객 문의에 정확하고 유용한 답변을 작성한다. <질문>의 의도를 파악하여 정확하게 <보고서>만을 기반으로 답변하세요.\\n\\n    ### User:\\n    <보고서>\\n    TRAIN_091, 원목사이딩의 단점이 뭐야?, 원목사이딩을 사용하는데 어떤 단점이 있을까요?, 마감재, 원목사이딩의 단점은 가격대가 높고 관리가 어려우며 습기에 약해 뒤틀림, 부서짐, 수축/팽장이 생길 수 있다는 점입니다., 원목사이딩의 단점은 주로 높은 비용, 유지보수의 어려움, 습기에 대한 취약성으로 인한 변형 가능성 등이 있습니다. 또한 너무 많은 습기에 노출될 경우 곰팡이와 Decayed Wood와 같은 문제가 발생할 수 있습니다., 원목사이딩의 단점은 가격대가 높을 뿐 아니라 관리가 어렵고 습기에 민감하여 뒤틀림, 부서짐, 수축/팽창이 발생할 수 있다는 점입니다. 또한 특히 곰팡이와 곤충에 노출될 경우 훼손될 가능성이 높다는 점도 감안해야 합니다., 원목사이딩의 단점은 주로 가격대가 높고 관리가 어렵다는 점입니다. 또한 습기에 약해 뒤틀림, 부서짐, 수축 및 팽창이 발생할 수 있다는 점도 단점으로 꼽힙니다., 원목사이딩의 장점은 있으나, 단점으로는 가격대가 높고 관리가 어려우며 습기에 약해 뒤틀림, 부서짐, 수축/팽창이 생길 수 있는 점이 있습니다. 추가적으로 원목사이딩은 색상이 변색될 수 있고 해충 침입에 취약하다는 점도 고려해야 합니다.\\n\\n또한, 원목사이딩을 사용하는 것에 어떤 단점이 있을까요?\\n    </보고서>\\n    지침사항을 반드시 지키고, <보고서>를 기반으로 <질문>에 답변하세요.\\n    <질문>\\n    또한, 원목사이딩을 사용하는 것에 어떤 단점이 있을까요?\\n    </질문>\\n\\n    ### Assistant:\\n    '"
            ],
            "application/vnd.google.colaboratory.intrinsic+json": {
              "type": "string"
            }
          },
          "metadata": {},
          "execution_count": 72
        }
      ]
    },
    {
      "cell_type": "code",
      "source": [
        "get_prompt(\"도배지의 완전한 건조를 위해 몇 주 동안 기다려야 하나요?\")"
      ],
      "metadata": {
        "colab": {
          "base_uri": "https://localhost:8080/",
          "height": 157
        },
        "id": "3Yk8WDeNNqH0",
        "outputId": "2402c03d-c0a4-4060-d138-3aa37d8ee38c"
      },
      "execution_count": null,
      "outputs": [
        {
          "output_type": "execute_result",
          "data": {
            "text/plain": [
              "'    ### System:\\n    벽지에 대한 고객 문의에 정확하고 유용한 답변을 작성한다. <질문>의 의도를 파악하여 정확하게 <보고서>만을 기반으로 답변하세요.\\n\\n    ### User:\\n    <보고서>\\n    TRAIN_437, 도배 후 건조는 얼마나 해야 해?, 도배 공사 이후에 어느 정도의 시간을 공간을 건조시켜야 하는 것이 적절한가요?, 시공, 도배 후 도배지가 완전히 건조되기까지 최대 일주일이 걸릴 수도 있습니다., 도배 후 도배지가 완전히 건조되기까지 최대 일주일이 걸릴 수 있습니다. 건조 기간 동안에는 온도와 습도에 유의해야 하며, 일주일이 지난 후에도 도배지가 완전히 건조되지 않았다면 전문가의 도움을 받아 진단받아야 합니다., 도배 후 도배지가 완전히 건조되기까지는 일반적으로 최소 3일에서 최대 일주일이 걸립니다. 건조 시간은 환경의 습도와 온도, 사용된 재료 등에 따라 다를 수 있기 때문에, 제조사의 권장사항을 따르는 것이 중요합니다. 최종적으로 건조 시간은 완전한 단단함과 안정성을 확보하기 위해 충분한 시간이 소요되므로 너무 서둘지 않는 것이 좋습니다., 도배 후 도배지가 완전히 건조되기까지 최소 일주일이 걸릴 수 있습니다. 건조 기간 동안 온도와 습도에 유의하여, 제조사의 권장사항을 준수하는 것이 중요합니다. 만약 일주일이 지나도 완전히 건조되지 않는다면 시공사에게 상담을 요청하는 것이 좋습니다., 도배 후 도배지가 완전히 건조되기까지는 보통 최대 일주일의 시간이 필요합니다. 하지만 환경적 요인에 따라 건조 시간이 달라질 수 있으므로 습도와 온도를 고려하여 적정한 시간을 고려해야 합니다. 또한, 제조사의 권장 건조시간을 따르는 것이 중요하며, 도배작업이 완전히 마무리되기 전에는 벽면에 부담을 주지 말고 조심해야 합니다.\\n\\n도배지의 완전한 건조를 위해 몇 주 동안 기다려야 하나요?\\n    </보고서>\\n    지침사항을 반드시 지키고, <보고서>를 기반으로 <질문>에 답변하세요.\\n    <질문>\\n    도배지의 완전한 건조를 위해 몇 주 동안 기다려야 하나요?\\n    </질문>\\n\\n    ### Assistant:\\n    '"
            ],
            "application/vnd.google.colaboratory.intrinsic+json": {
              "type": "string"
            }
          },
          "metadata": {},
          "execution_count": 74
        }
      ]
    },
    {
      "cell_type": "code",
      "source": [
        "get_prompt(\"Explain more about this?\")"
      ],
      "metadata": {
        "colab": {
          "base_uri": "https://localhost:8080/",
          "height": 70
        },
        "id": "Y5EVZTVxJ7eH",
        "outputId": "6d8d3b31-5f75-4cd8-8086-b52c8d33107a"
      },
      "execution_count": null,
      "outputs": [
        {
          "output_type": "execute_result",
          "data": {
            "text/plain": [
              "'    ### System:\\n    벽지에 대한 고객 문의에 정확하고 유용한 답변을 작성한다. <질문>의 의도를 파악하여 정확하게 <보고서>만을 기반으로 답변하세요.\\n\\n    ### User:\\n    <보고서>\\n    Explain more about this?\\n    </보고서>\\n    지침사항을 반드시 지키고, <보고서>를 기반으로 <질문>에 답변하세요.\\n    <질문>\\n    Explain more about this?\\n    </질문>\\n\\n    ### Assistant:\\n    '"
            ],
            "application/vnd.google.colaboratory.intrinsic+json": {
              "type": "string"
            }
          },
          "metadata": {},
          "execution_count": 75
        }
      ]
    },
    {
      "cell_type": "code",
      "source": [
        "# QUESTION = \"경량철골구조가 뭐야?\"\n",
        "# QUESTION = \"면진장치가 뭐야?\""
      ],
      "metadata": {
        "id": "yBjnt0ugJQRg"
      },
      "execution_count": null,
      "outputs": []
    },
    {
      "cell_type": "code",
      "source": [
        "# query_engine"
      ],
      "metadata": {
        "id": "l3D5i9BVS4Nv"
      },
      "execution_count": null,
      "outputs": []
    },
    {
      "cell_type": "code",
      "source": [
        "# response = query_engine.query(QUESTION)\n",
        "# # print(response.source_nodes)\n",
        "# response.response"
      ],
      "metadata": {
        "id": "24Dafi-UJPDK"
      },
      "execution_count": null,
      "outputs": []
    },
    {
      "cell_type": "markdown",
      "source": [
        "### Similar thing can be done differently after retrieving the contexts."
      ],
      "metadata": {
        "id": "5JK6FmYRKGqE"
      }
    },
    {
      "cell_type": "code",
      "source": [
        "# contexts = retriever.retrieve(QUESTION)\n",
        "# context_list = [n.get_content() for n in contexts]\n",
        "# CONTEXT = \"\\n\\n\".join(context_list + [QUESTION])\n",
        "# CONTEXT"
      ],
      "metadata": {
        "id": "AwV6gfgVimUy"
      },
      "execution_count": null,
      "outputs": []
    },
    {
      "cell_type": "code",
      "source": [],
      "metadata": {
        "id": "8iLl_xzpLg2E"
      },
      "execution_count": null,
      "outputs": []
    },
    {
      "cell_type": "code",
      "source": [
        "pip install peft bitsandbytes accelerate"
      ],
      "metadata": {
        "colab": {
          "base_uri": "https://localhost:8080/"
        },
        "id": "9X0EatmeMvFl",
        "outputId": "3e117767-ccfd-43d3-8971-cfe1fcff4a16"
      },
      "execution_count": null,
      "outputs": [
        {
          "output_type": "stream",
          "name": "stdout",
          "text": [
            "Collecting peft\n",
            "  Downloading peft-0.9.0-py3-none-any.whl (190 kB)\n",
            "\u001b[?25l     \u001b[90m━━━━━━━━━━━━━━━━━━━━━━━━━━━━━━━━━━━━━━━━\u001b[0m \u001b[32m0.0/190.9 kB\u001b[0m \u001b[31m?\u001b[0m eta \u001b[36m-:--:--\u001b[0m\r\u001b[2K     \u001b[90m━━━━━━━━━━━━━━━━━━━━━━━━━━━━━━━━━━━━━━━━\u001b[0m \u001b[32m190.9/190.9 kB\u001b[0m \u001b[31m5.9 MB/s\u001b[0m eta \u001b[36m0:00:00\u001b[0m\n",
            "\u001b[?25hCollecting bitsandbytes\n",
            "  Downloading bitsandbytes-0.43.0-py3-none-manylinux_2_24_x86_64.whl (102.2 MB)\n",
            "\u001b[2K     \u001b[90m━━━━━━━━━━━━━━━━━━━━━━━━━━━━━━━━━━━━━━━━\u001b[0m \u001b[32m102.2/102.2 MB\u001b[0m \u001b[31m1.9 MB/s\u001b[0m eta \u001b[36m0:00:00\u001b[0m\n",
            "\u001b[?25hRequirement already satisfied: accelerate in /usr/local/lib/python3.10/dist-packages (0.27.2)\n",
            "Requirement already satisfied: numpy>=1.17 in /usr/local/lib/python3.10/dist-packages (from peft) (1.25.2)\n",
            "Requirement already satisfied: packaging>=20.0 in /usr/local/lib/python3.10/dist-packages (from peft) (23.2)\n",
            "Requirement already satisfied: psutil in /usr/local/lib/python3.10/dist-packages (from peft) (5.9.5)\n",
            "Requirement already satisfied: pyyaml in /usr/local/lib/python3.10/dist-packages (from peft) (6.0.1)\n",
            "Requirement already satisfied: torch>=1.13.0 in /usr/local/lib/python3.10/dist-packages (from peft) (2.1.2)\n",
            "Requirement already satisfied: transformers in /usr/local/lib/python3.10/dist-packages (from peft) (4.38.2)\n",
            "Requirement already satisfied: tqdm in /usr/local/lib/python3.10/dist-packages (from peft) (4.66.2)\n",
            "Requirement already satisfied: safetensors in /usr/local/lib/python3.10/dist-packages (from peft) (0.4.2)\n",
            "Requirement already satisfied: huggingface-hub>=0.17.0 in /usr/local/lib/python3.10/dist-packages (from peft) (0.20.3)\n",
            "Requirement already satisfied: filelock in /usr/local/lib/python3.10/dist-packages (from huggingface-hub>=0.17.0->peft) (3.13.1)\n",
            "Requirement already satisfied: fsspec>=2023.5.0 in /usr/local/lib/python3.10/dist-packages (from huggingface-hub>=0.17.0->peft) (2023.6.0)\n",
            "Requirement already satisfied: requests in /usr/local/lib/python3.10/dist-packages (from huggingface-hub>=0.17.0->peft) (2.31.0)\n",
            "Requirement already satisfied: typing-extensions>=3.7.4.3 in /usr/local/lib/python3.10/dist-packages (from huggingface-hub>=0.17.0->peft) (4.10.0)\n",
            "Requirement already satisfied: sympy in /usr/local/lib/python3.10/dist-packages (from torch>=1.13.0->peft) (1.12)\n",
            "Requirement already satisfied: networkx in /usr/local/lib/python3.10/dist-packages (from torch>=1.13.0->peft) (3.2.1)\n",
            "Requirement already satisfied: jinja2 in /usr/local/lib/python3.10/dist-packages (from torch>=1.13.0->peft) (3.1.3)\n",
            "Requirement already satisfied: nvidia-cuda-nvrtc-cu12==12.1.105 in /usr/local/lib/python3.10/dist-packages (from torch>=1.13.0->peft) (12.1.105)\n",
            "Requirement already satisfied: nvidia-cuda-runtime-cu12==12.1.105 in /usr/local/lib/python3.10/dist-packages (from torch>=1.13.0->peft) (12.1.105)\n",
            "Requirement already satisfied: nvidia-cuda-cupti-cu12==12.1.105 in /usr/local/lib/python3.10/dist-packages (from torch>=1.13.0->peft) (12.1.105)\n",
            "Requirement already satisfied: nvidia-cudnn-cu12==8.9.2.26 in /usr/local/lib/python3.10/dist-packages (from torch>=1.13.0->peft) (8.9.2.26)\n",
            "Requirement already satisfied: nvidia-cublas-cu12==12.1.3.1 in /usr/local/lib/python3.10/dist-packages (from torch>=1.13.0->peft) (12.1.3.1)\n",
            "Requirement already satisfied: nvidia-cufft-cu12==11.0.2.54 in /usr/local/lib/python3.10/dist-packages (from torch>=1.13.0->peft) (11.0.2.54)\n",
            "Requirement already satisfied: nvidia-curand-cu12==10.3.2.106 in /usr/local/lib/python3.10/dist-packages (from torch>=1.13.0->peft) (10.3.2.106)\n",
            "Requirement already satisfied: nvidia-cusolver-cu12==11.4.5.107 in /usr/local/lib/python3.10/dist-packages (from torch>=1.13.0->peft) (11.4.5.107)\n",
            "Requirement already satisfied: nvidia-cusparse-cu12==12.1.0.106 in /usr/local/lib/python3.10/dist-packages (from torch>=1.13.0->peft) (12.1.0.106)\n",
            "Requirement already satisfied: nvidia-nccl-cu12==2.18.1 in /usr/local/lib/python3.10/dist-packages (from torch>=1.13.0->peft) (2.18.1)\n",
            "Requirement already satisfied: nvidia-nvtx-cu12==12.1.105 in /usr/local/lib/python3.10/dist-packages (from torch>=1.13.0->peft) (12.1.105)\n",
            "Requirement already satisfied: triton==2.1.0 in /usr/local/lib/python3.10/dist-packages (from torch>=1.13.0->peft) (2.1.0)\n",
            "Requirement already satisfied: nvidia-nvjitlink-cu12 in /usr/local/lib/python3.10/dist-packages (from nvidia-cusolver-cu12==11.4.5.107->torch>=1.13.0->peft) (12.4.99)\n",
            "Requirement already satisfied: regex!=2019.12.17 in /usr/local/lib/python3.10/dist-packages (from transformers->peft) (2023.12.25)\n",
            "Requirement already satisfied: tokenizers<0.19,>=0.14 in /usr/local/lib/python3.10/dist-packages (from transformers->peft) (0.15.2)\n",
            "Requirement already satisfied: MarkupSafe>=2.0 in /usr/local/lib/python3.10/dist-packages (from jinja2->torch>=1.13.0->peft) (2.1.5)\n",
            "Requirement already satisfied: charset-normalizer<4,>=2 in /usr/local/lib/python3.10/dist-packages (from requests->huggingface-hub>=0.17.0->peft) (3.3.2)\n",
            "Requirement already satisfied: idna<4,>=2.5 in /usr/local/lib/python3.10/dist-packages (from requests->huggingface-hub>=0.17.0->peft) (3.6)\n",
            "Requirement already satisfied: urllib3<3,>=1.21.1 in /usr/local/lib/python3.10/dist-packages (from requests->huggingface-hub>=0.17.0->peft) (2.0.7)\n",
            "Requirement already satisfied: certifi>=2017.4.17 in /usr/local/lib/python3.10/dist-packages (from requests->huggingface-hub>=0.17.0->peft) (2024.2.2)\n",
            "Requirement already satisfied: mpmath>=0.19 in /usr/local/lib/python3.10/dist-packages (from sympy->torch>=1.13.0->peft) (1.3.0)\n",
            "Installing collected packages: bitsandbytes, peft\n",
            "Successfully installed bitsandbytes-0.43.0 peft-0.9.0\n"
          ]
        }
      ]
    },
    {
      "cell_type": "code",
      "source": [
        "# del model\n",
        "# torch.empty_cache()"
      ],
      "metadata": {
        "id": "ZNKMA21Unxzh"
      },
      "execution_count": null,
      "outputs": []
    },
    {
      "cell_type": "code",
      "source": [
        "from peft import AutoPeftModelForCausalLM\n",
        "import torch\n",
        "from transformers import BitsAndBytesConfig\n",
        "\n",
        "\n",
        "bnb_config = BitsAndBytesConfig(\n",
        "    load_in_4bit=True,\n",
        "    bnb_4bit_use_double_quant=True,\n",
        "    bnb_4bit_quant_type=\"nf4\",\n",
        "    bnb_4bit_compute_dtype=torch.float16\n",
        ")\n",
        "\n",
        "model = AutoPeftModelForCausalLM.from_pretrained(\n",
        "    \"/content/drive/MyDrive/DACON_wallpaper_contest_data/best-one/checkpoint-2000\",\n",
        "    torch_dtype=torch.float16,\n",
        "    low_cpu_mem_usage=True,\n",
        "    # load_in_4bit=True,\n",
        "    quantization_config = bnb_config,\n",
        "    device_map=\"auto\" #\"cuda\" if low_cpu_mem_usage=False\n",
        ")\n",
        "\n",
        "merged_model = model.merge_and_unload()"
      ],
      "metadata": {
        "colab": {
          "base_uri": "https://localhost:8080/",
          "height": 377,
          "referenced_widgets": [
            "a2f7d38ad7fc44db9c8f73aab69db333",
            "bc0b5d9b562a49aeb5e0d53d22a584e4",
            "712f6ef5410748a7a28c9ba44061ec78",
            "557a41697cc245ab8574abfbdfb9966b",
            "6560c108874c4920bb490d3035e622c8",
            "43f589a83ef949f9bb4f68315495b2b1",
            "8144ed800dc34142b8ab1a8e06b1e6a3",
            "b0ff342e19cb47348ba7e54e73c14c47",
            "5c348cbd59584c0a8f655dd038d8ed18",
            "3be25c4fdf1c4634b3aeb96b143fc4a5",
            "9f27f21a78f54fd59e3da6b1c7353dcb",
            "f155858519de4a34b723a65cfecd8b10",
            "4bb852b0a155469986c96b1a67928491",
            "07d247ce603e4ebf815c8eac231b2990",
            "4d7545ff4f314095a077b57b97d76173",
            "060f469f0f88419cba9330edb218f38b",
            "37ef2b02cf174583b3634ef513cce0d5",
            "8c4d24e7f8d24046befe98e724a194bb",
            "b21eda706d6b4325b9cd1b102e652e9d",
            "d4b149cd2c0e47df80c553bddfc9637b",
            "c9a929b00e92428d9addd450338d1992",
            "7871c3a416bd4254b69103ccaf8774a2",
            "5c8873f9464642bf8de24802026a6776",
            "4b38b860fbcf4183a064fd17efe82768",
            "c5ebf879606b49bb8cfa3f6f9f71f807",
            "731a71088f6248f8a9c43ccc41a531b8",
            "449f1d883d894d04974ae4c5cac1540e",
            "3975b72c5fca4246b40dd6a81e5a8d39",
            "ed66d6306d674823b43e370e19d401fc",
            "d547d106051d479a9679de9e2f91d6f8",
            "67da659d32c2448d9ea530264bcefee9",
            "d310c457a72243a291fecac3a586bfd2",
            "cbe64438ea1245ae89ff1eb1eab3f04e",
            "62a60927485a490eb11a00151e143255",
            "ee01974878b44d0e8e20fe019172321a",
            "6656aef949e04615afae8c5b8a4cd233",
            "d6effa689ac74207b8baec106c9f6a50",
            "73a0ee9ca81949aeba782fbe0cc5db9a",
            "70113414512a4acca825081fbe9d5f60",
            "5af18f56ff4c45d1b5ed8454962040c2",
            "950946a4fca24df58bee128dd140e59d",
            "f91119e2b7f547679764900afd7bfacc",
            "681dd9189865469f94cba5e4beaf2a4b",
            "85693991fa9e4987bcd5f19157859e96",
            "96fab3963706489ea8a25ccd7b1842b3",
            "a7978b708f4b401a99d1962a0d184d30",
            "8f0319a21e454e2babc2791aab18d824",
            "602ed37a8a354493b6a882e172b6a99c",
            "f25ac906c8bc43a98377ea46ecef8904",
            "0cc22036797a4b0d82931233a7264a51",
            "4af7a3f3e1724e20bf3042e2d955f21b",
            "fa1e43ad43e44c36a61e9f2e42b99c29",
            "ddcd3e4273704117afead305d6db781a",
            "9b0dc504e2cb430482ce3f16a246d324",
            "b999ceb5797d4863aa87e2d73a4acb69",
            "df4facc18cd5425e983b33ec83ba1d07",
            "98473040d61049498434adf426e2aca4",
            "0eed186262ee479dbfc819aa93eaa34b",
            "b03172f14a644fa1bb021c963d5ed0f8",
            "13f6fdcc9b604615a6e4eccf4a7efe6b",
            "0aef7affb2554133807f5de1f1e146ec",
            "464e2b9059b0458e9fd0db3607696f99",
            "74d3ee8eafdc4333b77b30c65f75aeee",
            "4566c99f31644b79b5dfdd1db75862ab",
            "ac17b68478ba49528d00e8a84e204c3e",
            "ca90453d67524f3c97c7016eafbd5fab",
            "df0ecb7d459042b4a51431e699590f7a",
            "640d6cd86b444e1583528a1af9b7b36e",
            "7f490e09cb034b2b9bc8ab12de089830",
            "0be52018fd024fc59c8fab702d766a04",
            "b8603c6f23974f28971a88e37b9b9a84",
            "f01149341ecb4009b6a5583abd13df6a",
            "113be0340c16499db9916db1dd195e11",
            "c9b59141cf7842b08f6e6eaa7af324cc",
            "38ace805d9dc465c9b568d5be6913ab2",
            "bec88ddb95994d9f96e1bf3cc4bace25",
            "92f830929e87422daf5e72ef9ec3aea1",
            "c730991e0efb4e09ac3d8d1086ecd873",
            "6e2a27180cd74e29bcb899b16c750a26",
            "d41bc2a374884822a18743944a073f9c",
            "5e4fbb0f2afb48368958946e58074de5",
            "d205e170944c455e9eda6f2ec36130db",
            "d7c466cf87a54e3a807d834ed44a1941",
            "9c3ede6c549b4f2a968fdd778f453d05",
            "cc26b19e1f8c462cb6fba04e90c60482",
            "21d82583e4194b6eac4c201d33f48e94",
            "a4c524033e184653997e05afb8efec93",
            "e11bf724f612448582056b71f22abd2a",
            "4f1e656b457543a2a0278da09c2f465a",
            "98c0e8d6f1b04687ae3363ff1a128178",
            "9b09b50fe21c4d34be02cecb56d17b8b",
            "366e6cb111824573ab8d38c6b7602acc",
            "c83478b21f4e4549a769b342c8c19600",
            "96f6b133b6414503ac2199a34b375817",
            "802d25ce0c5947d6b723f0cb1acc2a7f",
            "d3de68b4a82241e5b4f816d85f30b144",
            "7508d64faa274db6bad069a9f7e93b6c",
            "dfd492f98ad940499734f4d2358c127a",
            "4209ecad1c4c481d9a130e4f765d1bf7"
          ]
        },
        "id": "MjsLN0egL7ZD",
        "outputId": "896699d5-ca5f-4c1f-a767-e1f77a58ebb8"
      },
      "execution_count": null,
      "outputs": [
        {
          "output_type": "display_data",
          "data": {
            "text/plain": [
              "model.safetensors.index.json:   0%|          | 0.00/35.8k [00:00<?, ?B/s]"
            ],
            "application/vnd.jupyter.widget-view+json": {
              "version_major": 2,
              "version_minor": 0,
              "model_id": "a2f7d38ad7fc44db9c8f73aab69db333"
            }
          },
          "metadata": {}
        },
        {
          "output_type": "display_data",
          "data": {
            "text/plain": [
              "Downloading shards:   0%|          | 0/5 [00:00<?, ?it/s]"
            ],
            "application/vnd.jupyter.widget-view+json": {
              "version_major": 2,
              "version_minor": 0,
              "model_id": "f155858519de4a34b723a65cfecd8b10"
            }
          },
          "metadata": {}
        },
        {
          "output_type": "display_data",
          "data": {
            "text/plain": [
              "model-00001-of-00005.safetensors:   0%|          | 0.00/4.96G [00:00<?, ?B/s]"
            ],
            "application/vnd.jupyter.widget-view+json": {
              "version_major": 2,
              "version_minor": 0,
              "model_id": "5c8873f9464642bf8de24802026a6776"
            }
          },
          "metadata": {}
        },
        {
          "output_type": "display_data",
          "data": {
            "text/plain": [
              "model-00002-of-00005.safetensors:   0%|          | 0.00/4.92G [00:00<?, ?B/s]"
            ],
            "application/vnd.jupyter.widget-view+json": {
              "version_major": 2,
              "version_minor": 0,
              "model_id": "62a60927485a490eb11a00151e143255"
            }
          },
          "metadata": {}
        },
        {
          "output_type": "display_data",
          "data": {
            "text/plain": [
              "model-00003-of-00005.safetensors:   0%|          | 0.00/5.00G [00:00<?, ?B/s]"
            ],
            "application/vnd.jupyter.widget-view+json": {
              "version_major": 2,
              "version_minor": 0,
              "model_id": "96fab3963706489ea8a25ccd7b1842b3"
            }
          },
          "metadata": {}
        },
        {
          "output_type": "display_data",
          "data": {
            "text/plain": [
              "model-00004-of-00005.safetensors:   0%|          | 0.00/4.92G [00:00<?, ?B/s]"
            ],
            "application/vnd.jupyter.widget-view+json": {
              "version_major": 2,
              "version_minor": 0,
              "model_id": "df4facc18cd5425e983b33ec83ba1d07"
            }
          },
          "metadata": {}
        },
        {
          "output_type": "display_data",
          "data": {
            "text/plain": [
              "model-00005-of-00005.safetensors:   0%|          | 0.00/1.94G [00:00<?, ?B/s]"
            ],
            "application/vnd.jupyter.widget-view+json": {
              "version_major": 2,
              "version_minor": 0,
              "model_id": "df0ecb7d459042b4a51431e699590f7a"
            }
          },
          "metadata": {}
        },
        {
          "output_type": "display_data",
          "data": {
            "text/plain": [
              "Loading checkpoint shards:   0%|          | 0/5 [00:00<?, ?it/s]"
            ],
            "application/vnd.jupyter.widget-view+json": {
              "version_major": 2,
              "version_minor": 0,
              "model_id": "c730991e0efb4e09ac3d8d1086ecd873"
            }
          },
          "metadata": {}
        },
        {
          "output_type": "display_data",
          "data": {
            "text/plain": [
              "generation_config.json:   0%|          | 0.00/136 [00:00<?, ?B/s]"
            ],
            "application/vnd.jupyter.widget-view+json": {
              "version_major": 2,
              "version_minor": 0,
              "model_id": "4f1e656b457543a2a0278da09c2f465a"
            }
          },
          "metadata": {}
        },
        {
          "output_type": "stream",
          "name": "stderr",
          "text": [
            "Special tokens have been added in the vocabulary, make sure the associated word embeddings are fine-tuned or trained.\n",
            "/usr/local/lib/python3.10/dist-packages/peft/tuners/lora/bnb.py:272: UserWarning: Merge lora module to 4-bit linear may get different generations due to rounding errors.\n",
            "  warnings.warn(\n"
          ]
        }
      ]
    },
    {
      "cell_type": "code",
      "source": [
        "from transformers import AutoTokenizer\n",
        "\n",
        "model_id = \"Edentns/DataVortexS-10.7B-dpo-v1.11\" # Follows Alpaca Chat format\n",
        "tokenizer = AutoTokenizer.from_pretrained(model_id, trust_remote_code=True, eos_token='###')\n",
        "tokenizer.pad_token = tokenizer.eos_token\n",
        "tokenizer.padding_side = \"right\""
      ],
      "metadata": {
        "colab": {
          "base_uri": "https://localhost:8080/"
        },
        "id": "h2jx72chMcz6",
        "outputId": "56a42fe7-b2f3-4f07-a810-8751211b4727"
      },
      "execution_count": null,
      "outputs": [
        {
          "output_type": "stream",
          "name": "stderr",
          "text": [
            "Special tokens have been added in the vocabulary, make sure the associated word embeddings are fine-tuned or trained.\n"
          ]
        }
      ]
    },
    {
      "cell_type": "code",
      "source": [
        "tokenizer.eos_token"
      ],
      "metadata": {
        "id": "NFMQkF05rnlc",
        "colab": {
          "base_uri": "https://localhost:8080/",
          "height": 35
        },
        "outputId": "ca7a7f88-5d5e-49ef-b221-9bd005888bb6"
      },
      "execution_count": null,
      "outputs": [
        {
          "output_type": "execute_result",
          "data": {
            "text/plain": [
              "'###'"
            ],
            "application/vnd.google.colaboratory.intrinsic+json": {
              "type": "string"
            }
          },
          "metadata": {},
          "execution_count": 20
        }
      ]
    },
    {
      "cell_type": "code",
      "source": [
        "from transformers import pipeline\n",
        "\n",
        "text_pipe = pipeline(\"text-generation\", merged_model, tokenizer=tokenizer)"
      ],
      "metadata": {
        "id": "9q7d8piJMc2t"
      },
      "execution_count": null,
      "outputs": []
    },
    {
      "cell_type": "code",
      "source": [
        "# retriever = VectorIndexRetriever(\n",
        "#   index=index,\n",
        "#   similarity_top_k=3,\n",
        "# )\n",
        "# contexts = retriever.retrieve(question)\n",
        "# contexts"
      ],
      "metadata": {
        "id": "mYjF964XaoB7"
      },
      "execution_count": null,
      "outputs": []
    },
    {
      "cell_type": "code",
      "source": [
        "# contexts[0].node.id_"
      ],
      "metadata": {
        "id": "5xMnenROayh7"
      },
      "execution_count": null,
      "outputs": []
    },
    {
      "cell_type": "code",
      "source": [
        "# [] + [\"b\"]"
      ],
      "metadata": {
        "id": "oL4LY2qbcqos"
      },
      "execution_count": null,
      "outputs": []
    },
    {
      "cell_type": "code",
      "source": [
        "\"\"\"Sorry old guy\"\"\"\n",
        "# import re\n",
        "\n",
        "# def get_context(question_list):\n",
        "#   if len(question_list) <= 2:\n",
        "#       question = question_list[0]\n",
        "\n",
        "#       retriever = VectorIndexRetriever(\n",
        "#       index=index,\n",
        "#       similarity_top_k=3,\n",
        "#       )\n",
        "#       contexts = retriever.retrieve(question)\n",
        "#       context_list = [n.get_content() for n in contexts]\n",
        "#       context = \"\\n\\n\".join(context_list + [question])\n",
        "\n",
        "#   else:\n",
        "#     context_list_old = []\n",
        "#     retriever = VectorIndexRetriever(\n",
        "#       index=index,\n",
        "#       similarity_top_k=1,\n",
        "#       )\n",
        "#     for i in range(len(question_list)-1):\n",
        "#       question = question_list[i]\n",
        "#       contexts = retriever.retrieve(question)\n",
        "#       context_list = context_list_old + [n.get_content() for n in contexts]\n",
        "#       context_list_old = context_list\n",
        "\n",
        "#     context = \"\\n\\n\".join(context_list + [question])\n",
        "#   print(context)\n",
        "#   return context\n",
        "\n",
        "# ## Uncomment this for new checkpoints\n",
        "# def get_prompt(question):\n",
        "#     INSTRUCTION_PROMPT_TEMPLATE = \"\"\"\\\n",
        "#     ### System:\n",
        "#     벽지에 대한 고객 문의에 정확하고 유용한 답변을 작성한다. <질문>의 의도를 파악하여 정확하게 <보고서>만을 기반으로 답변하세요.\n",
        "\n",
        "#     ### User:\n",
        "#     <보고서>\n",
        "#     {CONTEXT}\n",
        "#     </보고서>\n",
        "#     지침사항을 반드시 지키고, <보고서>를 기반으로 <질문>에 답변하세요.\n",
        "#     <질문>\n",
        "#     {QUESTION}\n",
        "#     </질문>\n",
        "\n",
        "#     ### Assistant:\n",
        "#     \"\"\"\n",
        "#     RESPONSE_TEMPLATE = \"\"\"\\\n",
        "#     {ANSWER}\n",
        "\n",
        "#     \"\"\"\n",
        "\n",
        "#     question_list = re.split('[?!.]',question.lstrip().rstrip())\n",
        "#     context = get_context(question_list)\n",
        "\n",
        "#     return INSTRUCTION_PROMPT_TEMPLATE.format(CONTEXT=context, QUESTION=question)\n"
      ],
      "metadata": {
        "id": "YEo7AxeTeLuQ",
        "colab": {
          "base_uri": "https://localhost:8080/",
          "height": 35
        },
        "outputId": "5e37ce88-c9f2-4ec9-aeb0-207f64ade59d"
      },
      "execution_count": null,
      "outputs": [
        {
          "output_type": "execute_result",
          "data": {
            "text/plain": [
              "'Sorry old guy'"
            ],
            "application/vnd.google.colaboratory.intrinsic+json": {
              "type": "string"
            }
          },
          "metadata": {},
          "execution_count": 25
        }
      ]
    },
    {
      "cell_type": "code",
      "source": [
        "# ## Uncomment this for new checkpoints\n",
        "# def get_prompt(question, prev_q):\n",
        "#     # prev_q is a must needed for some questions like this: What is the biggest cause of plaster revision? And please tell me how to solve this.”\n",
        "#     INSTRUCTION_PROMPT_TEMPLATE = \"\"\"\\\n",
        "#     ### System:\n",
        "#     벽지에 대한 고객 문의에 정확하고 유용한 답변을 작성한다. <질문>의 의도를 파악하여 정확하게 <보고서>만을 기반으로 답변하세요.\n",
        "\n",
        "#     ### User:\n",
        "#     <보고서>\n",
        "#     {CONTEXT}\n",
        "#     </보고서>\n",
        "#     지침사항을 반드시 지키고, <보고서>를 기반으로 <질문>에 답변하세요.\n",
        "#     <질문>\n",
        "#     {QUESTION}\n",
        "#     </질문>\n",
        "\n",
        "#     ### Assistant:\n",
        "#     \"\"\"\n",
        "#     RESPONSE_TEMPLATE = \"\"\"\\\n",
        "#     {ANSWER}\n",
        "\n",
        "#     \"\"\"\n",
        "\n",
        "#     retriever = VectorIndexRetriever(\n",
        "#       index=index,\n",
        "#       similarity_top_k=2,\n",
        "#     )\n",
        "#     contexts = retriever.retrieve(question)\n",
        "#     context_list = [n.get_content() for n in contexts]\n",
        "#     context = prev_q + \"\\n\\n\".join(context_list + [question])\n",
        "\n",
        "#     return INSTRUCTION_PROMPT_TEMPLATE.format(CONTEXT=context, QUESTION=question)\n",
        "\n",
        "# # def get_prompt(question):\n",
        "# #     INSTRUCTION_PROMPT_TEMPLATE = \"\"\"\\\n",
        "# #     ### System:\n",
        "# #     벽지에 대한 고객 문의에 정확하고 유용한 답변을 작성한다. <질문>의 의도를 파악하여 정확하게 <보고서>만을 기반으로 답변하세요.\n",
        "\n",
        "# #     ### User:\n",
        "# #     <보고서>\n",
        "# #     {CONTEXT}\n",
        "# #     </보고서>\n",
        "# #     지침사항을 반드시 지키고, <보고서>를 기반으로 <질문>에 답변하세요.\n",
        "# #     <질문>\n",
        "# #     {QUESTION}\n",
        "# #     </질문>\n",
        "\n",
        "# #     \"\"\"\n",
        "# #     RESPONSE_TEMPLATE = \"\"\"\\\n",
        "# #     ### Assistant:\n",
        "# #     {ANSWER}\n",
        "\n",
        "# #     \"\"\"\n",
        "\n",
        "# #     retriever = VectorIndexRetriever(\n",
        "# #       index=index,\n",
        "# #       similarity_top_k=2,\n",
        "# #     )\n",
        "# #     contexts = retriever.retrieve(question)\n",
        "# #     context_list = [n.get_content() for n in contexts]\n",
        "# #     context = \"\\n\\n\".join(context_list + [question])\n",
        "\n",
        "# #     return INSTRUCTION_PROMPT_TEMPLATE.format(CONTEXT=context, QUESTION=question)"
      ],
      "metadata": {
        "id": "6zFc7Az3Z4F0"
      },
      "execution_count": null,
      "outputs": []
    },
    {
      "cell_type": "code",
      "source": [
        "get_prompt(\"원목사 이딩의 단점은  주로  가격대가  상대적으로  비싸 고 관리 가 어렵다는  것입니다. 또한  습기에  노출될 경우 곰팡이와  곰 이 냄 새가 발생하여  건물 내부의  환경 을 손 상시킬  수 있습니다. 따라 서 원목사 이딩을 사용 할 때에는  이러한 단점을  고려하여  적절한  관리 가 필요합니다.\")"
      ],
      "metadata": {
        "colab": {
          "base_uri": "https://localhost:8080/",
          "height": 296
        },
        "id": "e7XXPnS1eN8M",
        "outputId": "460ed934-a712-4943-f012-10cbca533276"
      },
      "execution_count": null,
      "outputs": [
        {
          "output_type": "execute_result",
          "data": {
            "text/plain": [
              "'    ### System:\\n    벽지에 대한 고객 문의에 정확하고 유용한 답변을 작성한다. <질문>의 의도를 파악하여 정확하게 <보고서>만을 기반으로 답변하세요.\\n\\n    ### User:\\n    <보고서>\\n    TRAIN_091, 원목사이딩의 단점이 뭐야?, 원목사이딩을 사용하는데 어떤 단점이 있을까요?, 마감재, 원목사이딩의 단점은 가격대가 높고 관리가 어려우며 습기에 약해 뒤틀림, 부서짐, 수축/팽장이 생길 수 있다는 점입니다., 원목사이딩의 단점은 주로 높은 비용, 유지보수의 어려움, 습기에 대한 취약성으로 인한 변형 가능성 등이 있습니다. 또한 너무 많은 습기에 노출될 경우 곰팡이와 Decayed Wood와 같은 문제가 발생할 수 있습니다., 원목사이딩의 단점은 가격대가 높을 뿐 아니라 관리가 어렵고 습기에 민감하여 뒤틀림, 부서짐, 수축/팽창이 발생할 수 있다는 점입니다. 또한 특히 곰팡이와 곤충에 노출될 경우 훼손될 가능성이 높다는 점도 감안해야 합니다., 원목사이딩의 단점은 주로 가격대가 높고 관리가 어렵다는 점입니다. 또한 습기에 약해 뒤틀림, 부서짐, 수축 및 팽창이 발생할 수 있다는 점도 단점으로 꼽힙니다., 원목사이딩의 장점은 있으나, 단점으로는 가격대가 높고 관리가 어려우며 습기에 약해 뒤틀림, 부서짐, 수축/팽창이 생길 수 있는 점이 있습니다. 추가적으로 원목사이딩은 색상이 변색될 수 있고 해충 침입에 취약하다는 점도 고려해야 합니다.\\n\\nTRAIN_142, 방부목이 단점이 뭐야?, 방부목의 단점은 무엇인가요?, 마감재, 방부목은 내구성이 떨어지고 꾸준한 관리가 필요하다는 단점이 있습니다., 방부목의 단점으로는 내구성이 비교적 낮고, 꾸준한 관리와 보수가 필요하다는 점이 있습니다. 방부목은 습도와 해충으로부터 쉽게 손상을 입기 때문에 정기적으로 관리를 해주어야 합니다. 이러한 관리와 보수가 소홀히 되면 방부목은 더 빠르게 파손될 수 있으므로, 이에 유의해야 합니다., 방부목의 단점은 내구성이 상대적으로 낮고, 꾸준한 관리가 필요하다는 점입니다. 또한, 방부목은 습기와 온도 변화에 민감하여 변형 및 변색이 발생할 수 있는 것이 다소 불편한 점으로 꼽힙니다., 방부목의 단점으로는 내구성이 상대적으로 낮고 꾸준한 유지보수와 관리가 필요하다는 점이 있습니다. 방부목은 우드 데크와 비슷하게 변형과 부식에 취약하며, 특히 강한 태양광, 습기, 해충 등에 노출될 경우 빠르게 손상될 수 있습니다. 때문에 정기적인 도장 및 밀폐 작업이 필요하며, 이로써 추가적인 유지보수 비용이 필요할 수 있습니다. 또한, 방부목은 자연재료이기 때문에 변형과 빛바래기 현상이 발생할 수 있습니다., 방부목은 내구성이 떨어지고 꾸준한 관리가 필요하다는 단점이 있습니다. 이외에도 특정한 조건에서는 횡단노스와 표피의 결합이 약할 수 있으며, 다른 목재에 비해 수축이 많을 수 있습니다. 또한, 방부목 내부에 삽입된 가트가 부식되거나 파괴될 수 있는 가능성이 있습니다.\\n\\n원목사 이딩의 단점은  주로  가격대가  상대적으로  비싸 고 관리 가 어렵다는  것입니다. 또한  습기에  노출될 경우 곰팡이와  곰 이 냄 새가 발생하여  건물 내부의  환경 을 손 상시킬  수 있습니다. 따라 서 원목사 이딩을 사용 할 때에는  이러한 단점을  고려하여  적절한  관리 가 필요합니다.\\n    </보고서>\\n    지침사항을 반드시 지키고, <보고서>를 기반으로 <질문>에 답변하세요.\\n    <질문>\\n    원목사 이딩의 단점은  주로  가격대가  상대적으로  비싸 고 관리 가 어렵다는  것입니다. 또한  습기에  노출될 경우 곰팡이와  곰 이 냄 새가 발생하여  건물 내부의  환경 을 손 상시킬  수 있습니다. 따라 서 원목사 이딩을 사용 할 때에는  이러한 단점을  고려하여  적절한  관리 가 필요합니다.\\n    </질문>\\n\\n    ### Assistant:\\n    '"
            ],
            "application/vnd.google.colaboratory.intrinsic+json": {
              "type": "string"
            }
          },
          "metadata": {},
          "execution_count": 36
        }
      ]
    },
    {
      "cell_type": "code",
      "source": [],
      "metadata": {
        "id": "NouwPAZueN5F"
      },
      "execution_count": null,
      "outputs": []
    },
    {
      "cell_type": "code",
      "source": [
        "# sample = \"### System:\\n벽지에 대한 고객 문의에 정확하고 유용한 답변을 작성한다. <질문>의 의도를 파악하여 정확하게 <보고서>만을 기반으로 답변하세요.\\n\\n### User:\\n<보고서>\\n면진장치란 지반에서 오는 진동 에너지를 흡수하여 건물에 주는 진동을 줄여주는 진동 격리장치입니다. 면진장치란 건물의 지반에서 발생하는 진동 에너지를 흡수하여 건물을 보호하고, 진동을 줄여주는 장치입니다. 주로 지진이나 기타 지반의 진동으로 인한 피해를 방지하기 위해 사용됩니다. 면진장치란 지반으로부터 발생하는 진동 에너지를 흡수하여 건물에 전달되는 진동을 줄여주는 장치를 말합니다. 이를 통해 건물의 안전성과 안정성을 향상시키고, 지진 등의 외부 충격으로부터 보호하는 역할을 합니다. 지진으로 인한 건물의 피해를 최소화하기 위해 주로 사용됩니다. 면진장치는 건물에 오는 지반 진동의 영향을 최대한으로 흡수하여 건물에 전달되는 진동을 줄여주는 장치입니다. 지반으로부터 오는 진동 에너지의 영향을 완화시키기 위해 사용됩니다.\\n</보고서>\\n지침사항을 반드시 지키고, <보고서>를 기반으로 <질문>에 답변하세요.\\n<질문>\\n면진장치가 뭐야? 면진장치에 사용되는 주요 기술은 무엇인가요?\\n</질문>\\n\\n\"\n",
        "QUESTION = \"방청 페인트의 종류에는 어떤 것들이 있는지 알고 계신가요?\"\n",
        "QUESTION = \"도배지의 완전한 건조를 위해 몇 주 동안 기다려야 하나요?\"\n",
        "prompt_sample = get_prompt(QUESTION)\n",
        "\n",
        "print(prompt_sample)\n",
        "# outputs = text_pipe(prompt_sample, max_new_tokens=256, temperature=0.1, top_k=50, top_p=0.1, return_full_text=False)\n",
        "outputs = text_pipe(prompt_sample,\n",
        "                    min_new_tokens=20,\n",
        "                    max_new_tokens=256,\n",
        "                    top_p=0.98,\n",
        "                    top_k=50,\n",
        "                    temperature=0.9,\n",
        "                    return_full_text=False,\n",
        "                    eos_token_id = [27332]\n",
        "                    )\n",
        "\n",
        "print(outputs)\n",
        "outputs[0].get('generated_text')"
      ],
      "metadata": {
        "colab": {
          "base_uri": "https://localhost:8080/",
          "height": 437
        },
        "id": "5wLnhyBeMc5V",
        "outputId": "97fce422-0848-4b8c-ccd9-e0de7d8af1b7"
      },
      "execution_count": null,
      "outputs": [
        {
          "output_type": "stream",
          "name": "stdout",
          "text": [
            "    ### System:\n",
            "    벽지에 대한 고객 문의에 정확하고 유용한 답변을 작성한다. <질문>의 의도를 파악하여 정확하게 <보고서>만을 기반으로 답변하세요.\n",
            "\n",
            "    ### User:\n",
            "    <보고서>\n",
            "    TRAIN_437, 도배 후 건조는 얼마나 해야 해?, 도배 공사 이후에 어느 정도의 시간을 공간을 건조시켜야 하는 것이 적절한가요?, 시공, 도배 후 도배지가 완전히 건조되기까지 최대 일주일이 걸릴 수도 있습니다., 도배 후 도배지가 완전히 건조되기까지 최대 일주일이 걸릴 수 있습니다. 건조 기간 동안에는 온도와 습도에 유의해야 하며, 일주일이 지난 후에도 도배지가 완전히 건조되지 않았다면 전문가의 도움을 받아 진단받아야 합니다., 도배 후 도배지가 완전히 건조되기까지는 일반적으로 최소 3일에서 최대 일주일이 걸립니다. 건조 시간은 환경의 습도와 온도, 사용된 재료 등에 따라 다를 수 있기 때문에, 제조사의 권장사항을 따르는 것이 중요합니다. 최종적으로 건조 시간은 완전한 단단함과 안정성을 확보하기 위해 충분한 시간이 소요되므로 너무 서둘지 않는 것이 좋습니다., 도배 후 도배지가 완전히 건조되기까지 최소 일주일이 걸릴 수 있습니다. 건조 기간 동안 온도와 습도에 유의하여, 제조사의 권장사항을 준수하는 것이 중요합니다. 만약 일주일이 지나도 완전히 건조되지 않는다면 시공사에게 상담을 요청하는 것이 좋습니다., 도배 후 도배지가 완전히 건조되기까지는 보통 최대 일주일의 시간이 필요합니다. 하지만 환경적 요인에 따라 건조 시간이 달라질 수 있으므로 습도와 온도를 고려하여 적정한 시간을 고려해야 합니다. 또한, 제조사의 권장 건조시간을 따르는 것이 중요하며, 도배작업이 완전히 마무리되기 전에는 벽면에 부담을 주지 말고 조심해야 합니다.\n",
            "\n",
            "도배지의 완전한 건조를 위해 몇 주 동안 기다려야 하나요?\n",
            "    </보고서>\n",
            "    지침사항을 반드시 지키고, <보고서>를 기반으로 <질문>에 답변하세요.\n",
            "    <질문>\n",
            "    도배지의 완전한 건조를 위해 몇 주 동안 기다려야 하나요?\n",
            "    </질문>\n",
            "\n",
            "    ### Assistant:\n",
            "    \n"
          ]
        },
        {
          "output_type": "stream",
          "name": "stderr",
          "text": [
            "/usr/local/lib/python3.10/dist-packages/transformers/generation/configuration_utils.py:410: UserWarning: `do_sample` is set to `False`. However, `temperature` is set to `0.9` -- this flag is only used in sample-based generation modes. You should set `do_sample=True` or unset `temperature`.\n",
            "  warnings.warn(\n",
            "/usr/local/lib/python3.10/dist-packages/transformers/generation/configuration_utils.py:415: UserWarning: `do_sample` is set to `False`. However, `top_p` is set to `0.98` -- this flag is only used in sample-based generation modes. You should set `do_sample=True` or unset `top_p`.\n",
            "  warnings.warn(\n"
          ]
        },
        {
          "output_type": "stream",
          "name": "stdout",
          "text": [
            "[{'generated_text': '도배 후 도배지가  완전히  건조되기까지는  보통  최대 일주일 이 걸릴  수 있습니다. 그러나  건조 과정 의 정확한 시간 은 예상하기  어렵 며, 환경 적 요인에  따라  다를 수 있습니다. 따라 서 제조사의  권장 건조시간을  참고하여  적절한  시간을  두고  완전히  건조한  도배지 상태 를 유지하는  것이  중요합니다.\\n\\n'}]\n"
          ]
        },
        {
          "output_type": "execute_result",
          "data": {
            "text/plain": [
              "'도배 후 도배지가  완전히  건조되기까지는  보통  최대 일주일 이 걸릴  수 있습니다. 그러나  건조 과정 의 정확한 시간 은 예상하기  어렵 며, 환경 적 요인에  따라  다를 수 있습니다. 따라 서 제조사의  권장 건조시간을  참고하여  적절한  시간을  두고  완전히  건조한  도배지 상태 를 유지하는  것이  중요합니다.\\n\\n'"
            ],
            "application/vnd.google.colaboratory.intrinsic+json": {
              "type": "string"
            }
          },
          "metadata": {},
          "execution_count": 62
        }
      ]
    },
    {
      "cell_type": "markdown",
      "source": [
        "면진장치란  건물의  지반과 건물을  분리시키기  위해  면진 장치 를 사용하는  구조 를 말합니다. 이 구조 는 지반으로부터  오는  진동 에너지 를 흡 수하여  건물에  오는  진동 격리장치입니다. 이를  통해 건물 내부의  안정성을  유지하고  품질관리 가 가능하며, 원가절감과  빠 른 대량생산 이 가능합니다.\n",
        "\n",
        "  System:\n",
        "벽지에  대한  고객  문의 에 정확하고  유용한 답변을  작성한 다. <질문>의 의도를  파악하여  정확하게  <보고서 >만을  기반으로  답변하세요.\n",
        "\n",
        "  User:\n",
        "<보고서 >\n",
        "도배풀 은 도배풀 에 본드가  섞 여 만든 풀 을 의미하며  내구성 이 좋고 내수성이  좋다는  장점이  있지 만 비용 이 다소 비싸"
      ],
      "metadata": {
        "id": "M_UOMwYHWd0M"
      }
    },
    {
      "cell_type": "code",
      "source": [],
      "metadata": {
        "id": "qnfec9XcWupl"
      },
      "execution_count": null,
      "outputs": []
    },
    {
      "cell_type": "code",
      "source": [
        "import pandas as pd\n",
        "\n",
        "test = pd.read_csv('test.csv')"
      ],
      "metadata": {
        "id": "djVRIPgTMc74"
      },
      "execution_count": null,
      "outputs": []
    },
    {
      "cell_type": "code",
      "source": [
        "test.질문"
      ],
      "metadata": {
        "colab": {
          "base_uri": "https://localhost:8080/"
        },
        "id": "TPJR95syTeFU",
        "outputId": "04a29fad-a72a-4e92-eae8-1325524704e2"
      },
      "execution_count": null,
      "outputs": [
        {
          "output_type": "execute_result",
          "data": {
            "text/plain": [
              "0      방청 페인트의 종류에는 어떤 것들이 있는지 알고 계신가요? 또한, 원목사이딩을 사용...\n",
              "1                도배지에 녹은 자국이 발생하는 주된 원인과 그 해결 방법은 무엇인가요?\n",
              "2        큐블럭의 단점을 알려주세요. 또한, 압출법 단열판을 사용하는 것의 장점은 무엇인가요?\n",
              "3      철골구조를 사용하는 고층 건물에서, 단열 효과를 높이기 위한 시공 방법은 무엇이 있...\n",
              "4                       도배지의 완전한 건조를 위해 몇 주 동안 기다려야 하나요?\n",
              "                             ...                        \n",
              "125    분말 소화기를 사용할 때 주의해야 할 사항은 무엇인가요? 그리고 아파트 도배 평수를...\n",
              "126                            압출법 보온판의 가장 큰 장점은 무엇인가요?\"\n",
              "127    평지붕의 누수 문제를 방지하기 위해 수성 벽체용 탄성 방수 도료를 사용하는 것이 어...\n",
              "128    석고수정이 발생하는 가장 큰 원인은 무엇인가요? 그리고 이를 해결하는 방법에 대해 ...\n",
              "129       카페트의 기대 수명은 얼마나 될까요? 그리고 오리지널징크의 장점에는 무엇이 있나요?\n",
              "Name: 질문, Length: 130, dtype: object"
            ]
          },
          "metadata": {},
          "execution_count": 39
        }
      ]
    },
    {
      "cell_type": "code",
      "source": [
        "import re\n",
        "from tqdm import tqdm\n",
        "\n",
        "for idx, question in tqdm(enumerate(test.질문)):\n",
        "    questions = question.split(\"?!.\")\n",
        "    # print(len(questions))\n",
        "    if len(questions)>2:\n",
        "      print(questions)\n",
        "    # print(re.split('[?!.]',question))\n"
      ],
      "metadata": {
        "colab": {
          "base_uri": "https://localhost:8080/"
        },
        "id": "PMYPwjg_a9s2",
        "outputId": "b49b1ede-a658-40bf-c3e9-fa487ad857b8"
      },
      "execution_count": null,
      "outputs": [
        {
          "output_type": "stream",
          "name": "stderr",
          "text": [
            "130it [00:00, 479559.82it/s]\n"
          ]
        }
      ]
    },
    {
      "cell_type": "code",
      "source": [
        "tokenizer.encode(\"###\")"
      ],
      "metadata": {
        "colab": {
          "base_uri": "https://localhost:8080/"
        },
        "id": "uC4HLnzSVbCf",
        "outputId": "2128083d-2ee5-4f92-dc9b-85fb7212f2b6"
      },
      "execution_count": null,
      "outputs": [
        {
          "output_type": "execute_result",
          "data": {
            "text/plain": [
              "[1, 27332]"
            ]
          },
          "metadata": {},
          "execution_count": 43
        }
      ]
    },
    {
      "cell_type": "code",
      "source": [
        "# embed_model.encode(\"방청 페인트의 기능이 뭐야?\", return_dense=True, return_sparse=True, return_colbert_vecs=False)\n"
      ],
      "metadata": {
        "id": "7abJFSt9fy_i"
      },
      "execution_count": null,
      "outputs": []
    },
    {
      "cell_type": "code",
      "source": [
        "\"방청 페인트의 종류에는 어떤 것들이 있는지 알고 계신가요? 또한, 원목사이딩을 사용하는 것에 어떤 단점이 있을까요?\".split(\"?!.\")"
      ],
      "metadata": {
        "colab": {
          "base_uri": "https://localhost:8080/"
        },
        "id": "SdE_7WPPhjqz",
        "outputId": "7a44ac5e-52db-4361-c141-e619ca1f71ba"
      },
      "execution_count": null,
      "outputs": [
        {
          "output_type": "execute_result",
          "data": {
            "text/plain": [
              "['방청 페인트의 종류에는 어떤 것들이 있는지 알고 계신가요? 또한, 원목사이딩을 사용하는 것에 어떤 단점이 있을까요?']"
            ]
          },
          "metadata": {},
          "execution_count": 45
        }
      ]
    },
    {
      "cell_type": "code",
      "source": [
        "for q in re.split('[?!.]', \"방청 페인트의 종류에는 어떤 것들이 있는지 알고 계신가요? 또한, 원목사이딩을 사용하는 것에 어떤 단점이 있을까요?\"):\n",
        "  print(len(q) > 2)"
      ],
      "metadata": {
        "colab": {
          "base_uri": "https://localhost:8080/"
        },
        "id": "BdPads5yhr9g",
        "outputId": "d5dd0df6-fb17-414a-a324-8addba403bc8"
      },
      "execution_count": null,
      "outputs": [
        {
          "output_type": "stream",
          "name": "stdout",
          "text": [
            "True\n",
            "True\n",
            "False\n"
          ]
        }
      ]
    },
    {
      "cell_type": "code",
      "source": [
        "# gIVES rank of 0.9, which is not good\n",
        "get_prompt(\"도배지의 완전한 건조를 위해 몇 주 동안 기다려야 하나요?\")"
      ],
      "metadata": {
        "colab": {
          "base_uri": "https://localhost:8080/",
          "height": 174
        },
        "id": "F0HZSpH9MYCp",
        "outputId": "095d30c5-9c86-4305-fc51-a003b96ab6e3"
      },
      "execution_count": null,
      "outputs": [
        {
          "output_type": "execute_result",
          "data": {
            "text/plain": [
              "'    ### System:\\n    벽지에 대한 고객 문의에 정확하고 유용한 답변을 작성한다. <질문>의 의도를 파악하여 정확하게 <보고서>만을 기반으로 답변하세요.\\n\\n    ### User:\\n    <보고서>\\n    TRAIN_437, 도배 후 건조는 얼마나 해야 해?, 도배 공사 이후에 어느 정도의 시간을 공간을 건조시켜야 하는 것이 적절한가요?, 시공, 도배 후 도배지가 완전히 건조되기까지 최대 일주일이 걸릴 수도 있습니다., 도배 후 도배지가 완전히 건조되기까지 최대 일주일이 걸릴 수 있습니다. 건조 기간 동안에는 온도와 습도에 유의해야 하며, 일주일이 지난 후에도 도배지가 완전히 건조되지 않았다면 전문가의 도움을 받아 진단받아야 합니다., 도배 후 도배지가 완전히 건조되기까지는 일반적으로 최소 3일에서 최대 일주일이 걸립니다. 건조 시간은 환경의 습도와 온도, 사용된 재료 등에 따라 다를 수 있기 때문에, 제조사의 권장사항을 따르는 것이 중요합니다. 최종적으로 건조 시간은 완전한 단단함과 안정성을 확보하기 위해 충분한 시간이 소요되므로 너무 서둘지 않는 것이 좋습니다., 도배 후 도배지가 완전히 건조되기까지 최소 일주일이 걸릴 수 있습니다. 건조 기간 동안 온도와 습도에 유의하여, 제조사의 권장사항을 준수하는 것이 중요합니다. 만약 일주일이 지나도 완전히 건조되지 않는다면 시공사에게 상담을 요청하는 것이 좋습니다., 도배 후 도배지가 완전히 건조되기까지는 보통 최대 일주일의 시간이 필요합니다. 하지만 환경적 요인에 따라 건조 시간이 달라질 수 있으므로 습도와 온도를 고려하여 적정한 시간을 고려해야 합니다. 또한, 제조사의 권장 건조시간을 따르는 것이 중요하며, 도배작업이 완전히 마무리되기 전에는 벽면에 부담을 주지 말고 조심해야 합니다.\\n\\n도배지의 완전한 건조를 위해 몇 주 동안 기다려야 하나요?\\n    </보고서>\\n    지침사항을 반드시 지키고, <보고서>를 기반으로 <질문>에 답변하세요.\\n    <질문>\\n    도배지의 완전한 건조를 위해 몇 주 동안 기다려야 하나요?\\n    </질문>\\n\\n    ### Assistant:\\n    '"
            ],
            "application/vnd.google.colaboratory.intrinsic+json": {
              "type": "string"
            }
          },
          "metadata": {},
          "execution_count": 63
        }
      ]
    },
    {
      "cell_type": "code",
      "source": [
        "get_prompt(\"또한, 압출법 단열판을 사용하는 것의 장점은 무엇인가요?\")"
      ],
      "metadata": {
        "colab": {
          "base_uri": "https://localhost:8080/",
          "height": 417
        },
        "id": "aT2U3rzPO3CJ",
        "outputId": "bf79470c-071e-4f91-e696-3b12db971427"
      },
      "execution_count": null,
      "outputs": [
        {
          "output_type": "execute_result",
          "data": {
            "text/plain": [
              "'    ### System:\\n    벽지에 대한 고객 문의에 정확하고 유용한 답변을 작성한다. <질문>의 의도를 파악하여 정확하게 <보고서>만을 기반으로 답변하세요.\\n\\n    ### User:\\n    <보고서>\\n    TRAIN_100, 압출법단열판의 장점이 뭐야?, 압출법단열판을 사용하는 것의 주요 장점은 무엇인가요?, 마감재, 압출법단열판은 습기에 강하고 곰팡이 및 세균 증식을 막을 수 있으며 단열재 중 열전도율이 가장 낮은 편이고 시공이 간편하다는 장점이 있습니다., 압출법 단열판은 습기에 강하고, 곰팡이 및 세균의 증식을 방지하기 때문에 실내 환경을 개선할 수 있습니다. 또한, 열전도율이 매우 낮아 효율적인 단열 효과를 제공하며 시공이 간편하여 작업 시간을 단축할 수 있는 장점이 있습니다., 압출법단열판의 장점은 습기에 강하고 곰팡이 및 세균 증식을 막을 수 있는 것입니다. 또한, 단열재 중에서는 열전도율이 가장 낮으며 시공이 간편하다는 점도 장점으로 꼽힙니다. 추가로 압출법단열판은 가벼워서 운반이 용이하고 내구성이 뛰어나다는 점도 많은 사용자들에게 긍정적인 평가를 받고 있습니다., 압출법 단열판은 습기에 강하고 곰팡이 및 세균 증식을 막아 주는 동시에 단열재 중 열전도율이 가장 낮은 편입니다. 또한 시공이 간편하고 가볍기 때문에 건축물 내부의 단열 및 보온에 매우 효과적입니다. 추가로 비싼 가격이 아니며 내화성과 방음효과도 좋다는 장점도 있습니다., 압출법단열판은 습기에 강하고 곰팡이 및 세균 증식을 막을 수 있는데, 이는 건강한 실내 환경을 유지하는 데 도움을 줍니다. 또한, 열전도율이 가장 낮아서 효율적인 단열 효과를 제공하며 시공이 간편하여 공사 기간을 단축하는 장점이 있습니다.\\n\\n또한 친환경 소재로서 유해물질을 방출하지 않으며 열 전도율이 낮아 단열 성능이 뛰어나며 방충과 방청(곰팡이)에 효과적입니다. 목모보드는 일반적으로 천장이나 벽면의 구조 목상 위에 설치하고 본드와 타카로 시공하는 것이 보편적입니다. 다만, 벽면 바로 위에 설치하는 경우 내부 공기층이 부족해 흡음률이 낮아질 수 있습니다.\\nTRAIN_294, 압출법단열판의 단점이 뭐야?, 압출법 단열판을 사용할 때 어떤 단점이 있을까요?, 마감재, 압출법단열판은 시간이 지나면 단열 성능이 떨어지는 경시현상이 있고 비드법 단열재에 비래 가격이 높은 편이며 충격에 약해서 파손율이 높은 편이라는 단점이 있습니다., 압출법단열판은 시간이 지나면 단열 성능이 떨어지는 경시 현상이 있고, 비드법 단열재에 비해 가격이 비쌀 뿐 아니라 충격에 약해서 파손율이 높은 편입니다. 이러한 이유로 압출법단열판은 강점이 있을 뿐 아니라 위와 같은 단점이 있다고 볼 수 있습니다., 압출법 단열판의 단점은 시간이 지남에 따라 단열 성능이 감소하고, 비드법 단열재에 비해 가격이 상대적으로 높으며 충격에 취약하여 파손이 발생할 수 있는 점입니다. 이러한 단점들을 고려하여 장기적인 성능과 내구성을 고려해야 합니다., 압출법단열판의 단점은 시간이 지남에 따라 단열 성능이 저하될 수 있는 경시 현상이 있으며 가격이 상대적으로 높고 충격에 약하여 파손이 비교적 빈번히 일어날 수 있다는 것입니다., 압출법단열판은 시간이 지나면 단열 성능이 떨어지는 경시현상이 있는 것이 주요한 단점입니다. 또한, 비드법 단열재에 비해 가격이 상대적으로 높고 충격에 약해서 파손율이 높은 편이기도 합니다. 때문에 장기적인 성능과 내구성 측면에서 고려가 필요한 제품이라고 할 수 있습니다.\\n\\n이러한 보온판은 단열효과가 우수하고 압축 강도가 뛰어나며, 시공이 간단하며 내부식성 및 내수성을 가지고 있어 다양한 공간에 사용할 수 있습니다. 그러나 비드법 보온판인 EPS(확장 폴리스티렌)에 비해 가격이 비쌉니다. 또한 시간이 지남에 따라 단열성능이 약해지는 단점이 있습니다. 외단열 미장마감공법에 사용할 수 없으며, 햇빛에 노출되거나 바닥마루 등에서 70℃가 넘어가면 2차 발포를 하기 때문에 외장재나 마루가 들뜨는 현상이 발생할 수 있습니다. 따라서 몰탈 같은 내단열로 사용되며, 외장마감재와 함께 사용할 수 없습니다. 이러한 보온판은 주로 철근 콘크리트 구조에 적용되며, 난연3급에 대한 시험성적서를 제공하지 못해 소방필증을 받을 수 없는 난연성 재료입니다., 압출법 보온판은 원료를 가열하여 용융한 후 연속적으로 압출하여 발포시키고 성형하는 제품입니다. 아이소핑크, 골드폼 등의 상표명으로 불립니다. 이 제품은 우수한 단열효과와 압축강도를 가지고 있으며, 시공이 간단하고 내부식성 및 내수성이 뛰어나서 다양한 환경에서 사용할 수 있습니다.  그러나 압출법 보온판의 단점으로는 EPS(비드법 보온판 1종)에 비해 가격이 비쌉니다. 또한 시간이 지남에 따라 단열성능이 저하되고, 마감미장의 접착력이 떨어져 외단열 미장마감공법에 사용할 수 없습니다. 또한 햇빛에 노출되거나 바닥마루 등에서 70℃가 넘어가면 2차 발포를 하여 외장재나 마루가 들뜨는 현상이 발생할 수 있습니다. 이러한 이유로 몰탈과 같이 내단열재로 사용되며, 스타코와 같은 외장마감재와 함께 사용할 수 없습니다.  주로 철근 콘크리트 구조에 적용되며, 난연성 재료이지만 난연 3급에 대한 시험성적서를 제공하지 못해 소방필증을 받지 못하는 점이 있습니다.\\n\\n또한, 압출법 단열판을 사용하는 것의 장점은 무엇인가요?\\n    </보고서>\\n    지침사항을 반드시 지키고, <보고서>를 기반으로 <질문>에 답변하세요.\\n    <질문>\\n    또한, 압출법 단열판을 사용하는 것의 장점은 무엇인가요?\\n    </질문>\\n\\n    ### Assistant:\\n    '"
            ],
            "application/vnd.google.colaboratory.intrinsic+json": {
              "type": "string"
            }
          },
          "metadata": {},
          "execution_count": 65
        }
      ]
    },
    {
      "cell_type": "code",
      "source": [
        "len(test)"
      ],
      "metadata": {
        "colab": {
          "base_uri": "https://localhost:8080/"
        },
        "id": "oQGje5Uolf3m",
        "outputId": "cf510082-50b6-4b16-af0a-5b3a41a4d0c5"
      },
      "execution_count": null,
      "outputs": [
        {
          "output_type": "execute_result",
          "data": {
            "text/plain": [
              "130"
            ]
          },
          "metadata": {},
          "execution_count": 47
        }
      ]
    },
    {
      "cell_type": "code",
      "source": [
        "from tqdm import tqdm\n",
        "import re\n",
        "\n",
        "responses = []\n",
        "\n",
        "for idx, question in tqdm(enumerate(test.질문)):\n",
        "    # output = text_pipe(prompt_sample, max_new_tokens=256, temperature=0.1, top_k=50, top_p=0.1, return_full_text=False)\n",
        "    # output = text_pipe(prompt_sample, max_new_tokens=256, num_beams=3, length_penalty = 1.1, return_full_text=False)\n",
        "\n",
        "    # print(question)\n",
        "    questions = re.split('[?!.]', question)\n",
        "    seperate_output = []\n",
        "    prev_q = \"\"\n",
        "    for q in questions:\n",
        "      if len(q) <= 2:\n",
        "        continue\n",
        "\n",
        "      prompt_sample = get_prompt(q + \"?\", prev_q=prev_q)\n",
        "      output = text_pipe(prompt_sample,\n",
        "                          min_new_tokens=20,\n",
        "                          max_new_tokens=256,\n",
        "                          top_p=0.98,\n",
        "                          top_k=50,\n",
        "                          temperature=0.9,\n",
        "                          return_full_text=False,\n",
        "                          eos_token_id = [27332]\n",
        "                          )\n",
        "      output = output[0].get('generated_text').lstrip().rstrip()\n",
        "      seperate_output.append(output)\n",
        "      prev_q = q\n",
        "\n",
        "    answer = \" \".join(seperate_output)\n",
        "    # print(answer)\n",
        "    responses.append(answer)\n",
        "    # if idx > 0:\n",
        "    #   break\n",
        "\n",
        "responses\n"
      ],
      "metadata": {
        "colab": {
          "base_uri": "https://localhost:8080/"
        },
        "id": "PR_7fGabMc-X",
        "outputId": "65a7959f-0513-4b0f-c50b-78cc2bbd4384"
      },
      "execution_count": null,
      "outputs": [
        {
          "output_type": "stream",
          "name": "stderr",
          "text": [
            "130it [1:18:53, 36.41s/it]\n"
          ]
        },
        {
          "output_type": "execute_result",
          "data": {
            "text/plain": [
              "['방청 페인트의  종류로는  광 명단페인 트, 방청산화철페인 트, 알미늄페인 트, 역청질페인 트, 워시프라이머, 크롬 산아톤페인 트, 규산염페인 트 등이  있습니다. 이러한 방청 페인 트들은  각자의  특징 과 용도에  따라  선택하여  사용 할 수 있습니다. 원목사 이딩의 단점은  주로  가격대가  상대적으로  높 고 관리 가 어렵다는  점입니다. 또한  습기에  노출될 경우 곰팡이와  변색 등의  변형이  발생 할 수 있어  외관의  변화 가 발생 할 수도  있습니다.',\n",
              " '- 원인 : 높 은 습도    - 책임소재 : 건물의  소유자나  거주자 가 습기 관리 에 책임 을 져야  합니다.    - 해결방법 : 제습기를  가동하거나  환기를  통해 실내 적정 습도를  유지하고, 전문가 의 도움을  받아  보수  작업 을 진행해야  합니다.  이러한 조치 를 통해 습기 관리 에 신경써 야 합니다.',\n",
              " '큐 블럭 은 일반  벽 돌에 비해 상대적으로  높 은 비용 과 균 열 발생  가능 성, 그리고  탁월한  방음 특성을  가지 고 있습니다. 또한  건축 에 따라  비용 이 증가하고  균 열 발생  가능성이  높다는  점도 단점으로  꼽힙니다. 따라 서 건축 자나 시공업체들은  건축  재료 의 선택 과 함께  추가  비용 과 유지보수 에 대해 충분한  설명 을 제공해야  합니다. 압 출법단열판의  단점은  주로  습기에  강하고  곰팡 이 및 세균  증식을  막을  수 있는  것입니다. 또한  단열재 중에서  열전도율이  가장  낮 은 편이 고 시공 이 간편하다는  점도 있습니다. 추가 로, 압 출법단열판은  가볍 고 가공이  간편하여  건축 물 내부의  부식을  방지하는  데 효과 가 있다 는 점도 있습니다.',\n",
              " '철골구조 를 사용하는  고층  건물에 서 단열 효과 를 높이기  위한  시공  방법 은 다양한데 요. 먼 저, 화재  방지 를 위해  화재  감지 및 화재 진압  장치 를 설치하는  것이  중요합니다. 또한, 화재  대비 를 위해  화재 대피 및 구조 에 대한  교육  및 규제  규정을  준수하고, 화재 의 초기와  대비 를 위한  화재  대피 및 구조 에 대한  규정 및 규규를 준수하는  것이  중요합니다. 또한, 화재로부터  건물을  보호하기  위해  화재  화재  대피 및 구조 에 대한  교육  및 규제  규정을  준수하는  것이  중요합니다. 따라 서 철골구조 를 사용하는  고층  건물에 는 이러한 화재  대비  시스템 을 구축하여  화재로부터  건물을',\n",
              " '도배 후 도배지가  완전히  건조되기까지는  보통  최대 일주일 이 걸릴  수 있습니다. 그러나  건조 과정 의 정확한 시간 은 예상하기  어렵 며, 환경 적 요인에  따라  다를 수 있습니다. 따라 서 제조사의  권장 건조시간을  참고하여  적절한  시간을  두고  완전히  건조한  도배지 상태 를 유지하는  것이  중요합니다.',\n",
              " '철골콘 크리트  구조 는 콘 크리트 의 압축  강도와  철 근의 인장력을  조합하여  구성 된 구조 를 말합니다. 일반적으로  도심에서  많 이 사용되며  내구성, 내화성, 내진성 등의  장점이  있습니다. 그러나  고층  건물에서는  구조물의  하중을  지탱하기  위해  아래층의  보나 기둥이  상당한  무게를 지탱해야  하므로  구조 의 하중을  고려하여  고층  건물을  건설 할 때 구조물의  하중을  안정 화시키는  데에 유리합니다. 따라 서 고층  건물을  건설 할 때에는  이러한 구조 의 단점을  고려하여  적절한  보강 및 보유 구조 가 필요합니다.',\n",
              " '오픈  플랜 은 공간 을 확장시켜  연결감을  높이는  반면, 개별 공간 은 개인  공간 과 프라이 버시를  보장하는  것이  중요합니다. 만약 프라이 버시를  중시하고  조용한 환경 을 중요시한다면  개별 공간 이 더 적합할 수 있습니다. 그러나  활동적이고  소통 을 중시하고  공간 을 확장시키고  연결감을  높이는  것을  중시하는  것을  중시하는  경우 오픈  플랜 이 보다  적합한 선택 지일 수 있습니다. 합지벽지는  종이 를 2장 이상  겹쳐 서 만든 벽지를  말합니다. 평당 3,000원에서  4,000원 정도 의 비용 이 발생합니다. 합지벽지는  내구성 이 약하고  습기와  오염 에 취약하며  변색이  발생 할 수 있습니다. 따라 서 사용  환경이나  관리  정도 에 따라  적합한 재료 를 선택하는  것이  중요합니다.',\n",
              " '도배지 들뜸  현상이  발생하는  가장  일반적인  원인 은 고습입니다. 고습 환경에서는  도배지의  접착력이  감소하여  벽면에서  떨어질  수 있습니다. 따라 서 건물 내부의  적정 습도를  유지하고  제습기를  가동하여  습기를  제거하는  것이  중요합니다. 또한, 제습기를  사용하여  습기를  제거하는  것이  도움이  될 수 있습니다.',\n",
              " '도배지에  생긴  얼룩 은 다양한 원인 에 의해 발생 할 수 있습니다. 얼룩 이 발생하는  주된 원인 과 그에 따른 책임소재  및 해결방법 을 설명드리겠습니다.  1. 공간  내 높 은 습도 원인 : 고습 환경에서  도배지의  표면이  젖으면  다양한 물질 이 흡 수되어  얼룩  형태 로 나타날 수 있습니다. 이 경우 건물의  소유자나  거주자 가 습기 관리 에 책임 을 져야  합니다. 해결 방법 : 제습기를  가동하거나  환기를  통해 실내 적정 습도를  유지하고, 전문가 의 도움을  받아  보수  작업 을 진행해야  합니다.  2. 먼 지 및 연기로  인한  오염  원인 : 도배지 표면에  먼지나  연기 등이  축 적',\n",
              " '일반철골구조 는 형강, 강판, 평강 등의  강재를  볼 트나 용접으로  접합하여  조립한 구조 를 말합니다. 일반철골구조 는 강철 로 만들어 진 구조 로, 형강, 강판, 평강 등의  강재를  볼 트나 용접으로  접합하여  조립한 구조 를 말합니다. 이러한 구조 는 강철 의 강도와  내구성 을 이용하여  안정적인  건물 구조 를 만들어  줍니다. 또한  일반철골구조 는 다양한 건물에  적용할 수 있는  유연성을  가지 고 있어  안정적인  건축물을  만드는  데 유용합니다.',\n",
              " '유성페인트의  환경  오염 에 대한  예시로 는 벤젠, 톨 루엔, 자일렌 과 같은  유해물질 이 포함되어  있으며, 이러한 유해물질 은 호흡 기나 피부 등을  통한 체내 유입으로  인해 건강  문제를  유발할 수 있습니다. 또한, 유성페인트의  강한  냄 새가 나타나 는 것이  주변 환경 에 불편을  줄 수 있습니다. 또한, 유성페인트의  건조 시간이  길어 작업  시간이  더 오래 걸릴  수 있으며, 유지보수 가 어렵다는  점도 고려해야  합니다.',\n",
              " '해결 방법 에 따라  결과 가 달라 질 수 있지 만, 일반적으로  해결 방법 에 따라  오염 의 깊이와  분위기 에 따라  결과 가 나타납니다. 일반적으로  해결 방법 에 따라  오염 의 깊이와  분위기 에 따라  결과 가 나타납니다. 따라 서 적절한  방법 을 선택하여  사용하는  것이  중요합니다. 부실 시공으로  인해 타공하자 가 발생 할 수 있습니다. 예를  들어, 적절하지  않은 도구로  작업하거나  타공 부위의  크기를  정확히 측 정하지  않고 작업하면  타공불량이  발생 할 수 있습니다. 따라 서 적합한 도구와  기술을  사용하여  타공작업 을 진행하고, 적절한  크기와  재료 를 사용하여  타공 작업 을 진행하는  것이  중요합니다.',\n",
              " '철골콘 크리트  구조 는 철골 의 강도와  내구성 을 바탕으로  건물의  지지체를  확보하고, 철 근은 인장력을, 콘 크리트 는 압축력을  담당하여  건물의  강성과  튼튼함을  보장합니다. 이러한 구조 는 대규모 의 건물이 나 고층  건물에  적합하며, 화재에도  상대적으로  안전합니다. 또한  내화성과  내진성능이 뛰어나다는  장점이  있습니다. 그러나  시공과정 이 복잡하고  공사  기간 이 길며, 균일한  시공 이 어렵다는  단점이  있습니다.',\n",
              " '방염벽지는  PVC 코팅을 하고  방염처리 가 된 벽지를  말합니다. 가격 은 평당 10,000원에서  13,000원으로  비싼  편에  속하며, 내구성 이 뛰어나다는  장점이  있습니다. 하지만  시공 이 어렵 고 습기 흡 수성이  강하여  변형될 수 있는  단점이  있습니다. 따라 서 내구성 과 유지보수 가 필요한  경우 방염벽지를  선택 할 때에는  이러한 특징 을 고려해야  합니다.',\n",
              " '도배지에  곰팡이가  생기면 미관상 좋지 않을 뿐  아니 라 건강  문제 의 원인 이 될 수 있습니다. 따라 서 곰팡 이 방지 를 위해서는  먼 저 곰팡이가  생기는  주된 원인 을 제거해야  합니다. 곰팡 이 방지 를 위해  제습기를  사용하거나  실내 환기를  통해 적절한  습도를  유지하는  것이  중요합니다. 또한, 누수가  발생하여  도배지가  젖 은 상태 가 오래 지속되면  곰팡이가  생길 수 있으니  주의해야  합니다.',\n",
              " '롱 브릭타일은  일반  시멘트벽 돌과는  다르게  더 긴  모양의  타일 형태 로 와이 드 벽돌이라고도  불리며, 노출 콘 크리트 와 비슷 한 분위기 를 연출할 수 있습니다. 이러한 특징으로  인해 건축물의  외관을  아름답게  만들 뿐만  아니 라, 내구성 이 뛰어나 고 유지보수 가 간편하며  친환경적인  재료 로 인정받고  있습니다. 롱 브릭타일은  주로  실내 벽면에  사용되는  페인트로, 특히  내구성 이 뛰어나 고 변색이  적다는  장점이  있습니다. 또한  유지보수 가 간편하고  친환경적인  재료 로 인정받고  있습니다. 롱 브릭타일은  실내 벽면에  사용되는  페인트로, 특히  내구성 이 뛰어나 고 변색이  적다는  장점이  있습니다. 또한  친환경적인  재료 로 제작되어  환경에도  더욱  친숙합니다. 롱 브릭타일은  실내 벽면에  사용되는  페인트로, 특히  내구성 이 뛰어나 고 변색이  적다는  장점이  있습니다. 또한  친환경적인  재료 로 제작되어  환경에도  더 친숙합니다. 롱 브릭타일은  실내 벽면에  사용되는  페인트로, 특히  내구성 이 뛰어나 고 변색이  적다는  장점이  있습니다. 또한  친환경적인',\n",
              " '준불연재료란  불이  붙 지 않고 무기 화되거나  무료하면서  사용되는  소재 를 말합니다. 주로  콘 크리트, 금속, 유리  등과 같은  소재 가 준불연재료 로 분류됩니다. 이러한 소재 는 불에 저항성을  가지 고 있어  건물 구조물이 나 인테리어  자재  등에  사용 될 때 안전 한 환경 을 유지하는  데 큰 역할을 합니다. 유성페인트의  단점은  주로  벤젠, 톨 루엔, 자일렌 과 같은  유해물질 을 포함하고  있는  것으로  알려져 있습니다. 또한, 유성페인트는  강한  냄 새가 나며 건조 과정 이 길어 작업  시간이  오래 걸릴  수 있습니다. 또한  유성페인트는  환경  오염 을 일으킬  수 있고  유지보수 가 어렵다는  단점이  있습니다.',\n",
              " '몰 딩 수정 은 벽면과  몰 딩 사이 에 이격이  있는  것을  의미합니다. 몰 딩과 부속품의 파손 도 발생 할 수 있습니다. 몰 딩 수정 이 발생하는  주된 원인 과 책임소재, 그리고  이를  해결하는  방법 에 대해 설명드리겠습니다.  1. 환경  요인 원인 : 몰 딩이 햇빛, 습기, 화학물질  또는  다른  외부요인에  노출될 때 수정 이 발생 할 수 있습니다. 책임소재 : 건물의  소유자나  거주자 가 책임 을 져야  합니다. 해결 방법 : 주로  몰 딩을 교체하거나  수정 을 전문으로  하는  전문가에게  도움을  받는  것이  좋습니다.  2. 내구성  원인 : 몰 딩 재료  자체의  내구성 이 낮 은 경우 변형될 수 있습니다. 반점이  생긴 지 1년 이상 된 하자 를 보수하려면  벽지를  재시공해야  합니다. 반점이  생긴 지 1년 이상 된 하자 는 벽 지 속지 내부에  주사기 를 사용하여  아세톤 을 함침하여  반점을  제거할 수 있지 만, 반점이  제거되지  않는다 면 벽지를  재시공해야  합니다. 반점이  생긴 지 1년 이상 된 하자 를 보수하려면  벽지를  재시공해야  합니다. 반점이  생긴 지 1년 이상 된 하자 는 벽 지 속지 내부에  주사기 를 사용하여  아세톤 을 함침하여  반점을  제거할 수 있지 만, 반점이  제거지지  않는다 면 벽지를  재시공해야  합니다. 따라 서 전문가 의 도움을  받는  것이  좋습니다.',\n",
              " '벽에 뚫린  구멍 이 이상하다고  하셨는데, 타공 불량이  발생하는  원인 과 그 해결 방법 에 대해 설명드리겠습니다. 먼 저, 벽 에 뚫린  구멍 은 타공 불량으로  인해 발생하는  경우가  있습니다. 타공 불량이  발생하는  원인 은 주로  벽 의 표면이  부식되어  있는  경우에  있습니다. 또한, 벽 의 부식이  발생 할 경우 타공 불량이  발생 할 수 있습니다. 따라 서 벽 의 상태 를 정기적으로  관리하고  보수하는  것이  중요합니다. 만약 타공 불량이  발생한다면  전문가 의 도움을  받아  벽의 보수  및 관리하는  것이  좋습니다. 벽 에 뚫린  구멍 이 이상하다고  하셨는데, 타공 불량이  발생하는  원인 과 그 해결 방법 에 대',\n",
              " '다이닝  룸 을 더 고급스럽게  만들기  위해서는  대형 식탁, 고풍스러운  의자뿐만  아니 라 전통적인  조명, 고풍스러운  아트워크, 그리고  자연 적 소재 를 활용해야  합니다. 또한, 조명과  인테리어  소품을  조화롭게  선택하여  분위기 를 변화시킬  수 있습니다. 마지막으로, 알려드린  대로, 다이닝  룸 은 식탁 을 이용 한 손님을  고려하여  설계  및 배치 작업 을 진행해야  합니다.',\n",
              " '습도가  높으면  석고수정 이 발생 할 수 있습니다. 이는  석고보드 나 도배 등에  변형이  발생하는  것을  의미합니다. 따라 서 적정한  습도 관리 가 필요하며, 습기가  제거되지  않은 경우 변형이  더 자주 발생 할 수 있습니다. 따라 서 적절한  습도 관리 가 필요하며, 습기가  제거되지  않은 경우 변형을  방지하기  위해  제습기를  사용하는  것이  도움이  될 것입니다. 습도가  높으면  석고수정 이 발생 할 뿐만  아니 라 피스  하자 도 발생 할 수 있습니다. 이로  인해 석고보드 나 도배 등의  석고제품  불량이  발생 할 수 있으며, 이로  인해 석고보드  및 도배 불량이  발생 할 수도  있습니다. 따라 서 적정한  습도 관리 가 필요하며, 습기가  충 분히 배출되지  않은 경우에 도 석고수정 이 발생 할 수 있습니다.',\n",
              " '새집증후군이란  새로 지어 진 집에  입주했을  때 이러한 증상이  나타나 는 것을  의미합니다. 새집증후군 은 새로 지어 진 집에  입주했을  때 공기질 측정이  이루어진  것이  아니 라, 실내공기질공정시험기준 에 따라  100세대  당 3개 세대 (저층, 중층, 고층 부)를 기본으로  채취합니다. 또한, 100세대 가 증가할 때마다  1세대씩  추가하여  최대 20세대까지  시료를  채취하게  됩니다. 이때, 고층 부, 중층 부, 그리고  저층 부 순으로  추가하게  됩니다.',\n",
              " '타일 바닥에서  파손 된 타일을  교체하는  방법 은 다음과  같습니다. 먼 저, 손 상된 타일을  완전히  제거합니다. 그 후에  새 타일을  설치하기  전에  바닥 의 표면을  완전히  청소하고  균 일하게  만든 후 새로운  타일을  설치하기  전에  접착제와  못을 사용하여  꼼꼼 히 밀착 시킵니다. 새로 교체한 타일을  완전히  건조하고  밀착 된 후 다시  사용 할 수 있습니다. 겨울철  도배 작업 을 고려하신다면  몇  가지  주의 할 점이  있습니다. 먼 저, 실내 온도를  적절 히 유지하여  도배풀 이 얼어버지는  것을  방지해야  합니다. 또한, 고열에  노출 최소화하고, 마지막으로  성급한 환기 자체를  최소화하는  것이  중요합니다. 이러한 주의사항을  준수하여  도배 작업 을 진행하시면  보다  깔끔 한 결과 를 얻 을 수 있을  것입니다.',\n",
              " '유성페인트를  사용하는  것의 주요 단점은  다음과  같습니다. 1. 유해성: 유성페인트는  벤젠, 톨 루엔, 자일렌 과 같은  유해물질 을 포함하여  장기 간 노출될 경우 심각한 건강  문제를  유발할 수 있습니다. 2. 냄 새: 유성페인트는  강한  냄 새를 가지 고 있어  작업 자뿐만  아니 라 주변 사람들에게 도 불쾌함을  줄 수 있습니다. 3. 건조 시간 : 유성페인트는  건조 시간이  길어 작업  시간이  더 오래 걸릴  수 있습니다. 4. 환경  오염 : 유성페인트는  환경  오염 을 유발할 수 있습니다. 유성페인트의  성분 중 일부는  대기  중에  방출되면  미세먼지나  오존 등의  오염물질 을 생성할 수 페인 트 처리방법 은 남은 페인트의  양에 따라  다릅니다. 남은 페인트의  양에 따라  처리  방법 을 결정하는  것이  중요합니다. 만약 남은 페인트의  양이  적다면  신문이나  헌  옷 에 적신 다음 종량제 봉투 에 버리 는 것이  가능합니다. 6ml이상  100kg 미만일 경우 페기물 수탁업체 를 통해 처리해야  하며, 100kg 이상이라면  구청  환경과에  신고해야  합니다. 따라 서 페인트를  처리 할 때에는  해당 지역의  규정과  법률 을 준수하는  것이  중요합니다.',\n",
              " '가장  비싼  바닥재는  대리석은  대리석으로  알려져 있습니다. 대리석은  자연스러운  아름다움과  내구성으로  유명하며, 특히  대리석은  고급스러운  분위기 를 연출해줍니다. 따라 서 대리석은  주로  대리석으로  알려져 있습니다. 유광  자기 질 타일은  일반적으로  50년 정도 의 기대수명을  가지 고 있습니다. 이는  적절한  관리 와 유지보수 가 이루어진  상태에서의  기대수명으로, 사용빈 도, 관리정도, 청소  주기  등 사용  환경 과 관리 에 따라  달라 질 수 있습니다. 따라 서 적절한  관리 와 청소 를 통해 수명을  최대한  유지 할 수 있습니다.',\n",
              " '풍수지리를  활용하여  집을  꾸 밀 때에는  몇  가지  주의해야  할 점이  있습니다. 먼 저, 집의 위치 와 방향 은 중요한 데, 집의 위치 는 에너지 를 수 있는  방향 을 선정하고, 방향 은 에너지 의 흐름을  효율적으로  만들어  줍니다. 또한, 가구 의 배치 역시 에너지  효율 에 영향을  주는 데, 방해되지  않고 에너지 가 잘 흐 를 수 있는  방향 을 선정하는  것이  좋습니다. 마지막으로, 집의 특정 영역에  어두운 색상을  사용하거나  과용하는  것은  피부 건강 에 해로울 수 있으니  주의가  필요합니다. 스탠 드 조명은  이동 이 가능한  조명으로, 필요에 따라  위치 를 변경 할 수 있는  것이  특징입니다. 또한, 소품의 역할도 하면서  동시에  조명의  역할을 하는데, 다양한 디자인으로  구성되어  있어  공간 에 어울리는  디자인 을 선택 할 수 있습니다. 그러나  작은  공간에는  부적합하며, 불안정하게  설치 할 경우 파손 의 위험 이 있다 는 단점이  있습니다.',\n",
              " '반점이  1년 이상 된 하자 를 보수하는  방법 은 벽지를  재시공해야  합니다. 반점이  생긴 지 1년 이상 된 하자 를 보수하는  방법으로는  벽지를  재시공하는  것이  가장  효과적입니다. 반점이  생긴 지 1년 이상 된 하자 를 보수하는  것은  전문가 의 도움을  받는  것이  좋습니다. 반점이  1년 이상  생긴  하자 를 보수하는  방법 은 다음과  같습니다. 먼 저, 반점이  생긴  부분 을 부분적으로  벽 지 제거한 후 새로운  도배 작업 을 진행해야  합니다. 이때 전문가 의 도움을  받는  것이  좋습니다. 반점이  1년 이상  존재한 경우 벽 지 속지 내부에  주사기 를 사용하여  아세톤 을 함침  후 100회 반복적으로  적용하고  20~30분 동안  반점을  제거한 후 벽지를  교체해야  합니다. 이때 전문가 의 도움을  받는  것이  좋습니다. 반점이  1년 이상  존재한 경우 벽지를  벽 지 제거한 후 벽지를  교체해야  합니다. 반점이  1년 이상  존재한 경우 벽 지 속지 내부에',\n",
              " '평지붕 의 단점은  주로  에너지  손실이  크고, 단열 및 방수를  위한  시공비가  많 이 들며 누수의  위험 이 있습니다. 또한, 다른  지붕 재보다  수명이  짧 은 편이라는  단점이  있습니다. 따라 서 건축 자 및 시공  업체들은  이러한 단점을  고려하여  적절한  관리 와 정기적인  유지보수 가 필요합니다. 실크벽지의  교체 주기 는 주로  5년에서  7년 사이입니다. 그러나  사용빈 도, 관리정도, 청소  방식  등 사용  환경 과 관리  상태 에 따라  다를 수 있습니다. 따라 서 실제로 는 벽지의  상태 와 사용빈 도 등을  고려하여  적절한  주기 를 설정하는  것이  좋습니다.',\n",
              " '경량철골구조 는 건물의  벽, 슬 래브(SLAB), 보 등의  재료 를 철골 로 제작하는  구조 를 말합니다. 일반철골구조 와 비교하여  비용 이 적게 들고  가볍다는  것이  장점이지만  수평방향 의 외력에  대하여  취약하고  단일 벽 체면으로  쌓 을 수 있는  수평, 수직적인  한계가  있습니다. 이러한 경량철골구조 는 고층  건물에 는 적합하지  않을 수 있습니다. 철골구조 는 건물의  하중을  효율적으로  지탱 할 수 있는  방법  중 하나 로, 수평의 형강으로  횡력을  받아들어  하중을  지탱하고, 수직의 강철  기둥으로  하중을  지지하는  구조 를 말합니다. 또한, 외벽재는  내장재와 외장재 등 커튼벽  형식으로  장착되어  안정성을  높 일 수 있습니다. 이러한 구조 는 건물 내부의  공간 을 유연하게  활용할 수 있는  장점이  있습니다.',\n",
              " '프리케콘 크리트  구조 는 건축 을 보다  신속하게  건설하고  품질 을 관리 할 수 있는  방식으로, 현재  건축산업에서  높 은 인기를  끌 고 있습니다. 프리케콘 크리트  구조 는 건축 을 보다  신속하게  건설하고  품질 을 관리 할 수 있는  방식으로, 현재  건축산업에서  높 은 인기를  끌 고 있습니다. 프리케콘 크리트  구조 는 건축자재 를 공장에서  미리 제작하여  현장에서  조립하는  공법 방식으로, 품질관리 와 대량생산 이 가능하여  품질관리 가 용이하고  원가절감이  가능합니다. 또한, 현장에서의  작업량을  효율적으로  조절 할 수 있는  장점이  있습니다. 프리케콘콘 크리트  구조 는 건축자재 를 공장에서  미리 제작하여  현장에서  조립하는  공법입니다. 프리 프리케스트콘 크리트  구조 는 벽돌이 나 콘 크리트  블록 을 모르타 르로 쌓 아 만드는  구조 를 말합니다. 주택 과 같은  소규모  건물에  주로  사용되며  내습, 내구성, 내화구조로서  안전성이  뛰어나 고 경제적이라는  장점이  있습니다. 그러나  수평한 외력에  상대적으로  취약하며  단일 벽체로 는 수평 및 수직적 제한 이 있을  수 있습니다.',\n",
              " '반려동물들을  위한  가구로는  낮 은 높이의  가구 나 계단을  사용하여  반려동물들의  목과 관절 을 보호 할 수 있습니다. 또한, 패브릭 소재 의 가구 는 세탁 이 용이하고  스크 래치가  적어 유지보수 가 간편하며  반려동물들의  건강 을 고려 한 가구로도  선택 할 수 있습니다. 이외에도  반려동물들을  위한  가구로는  간이  계단, 스크 래치 패드, 놀이  기구  등 다양한 제품 이 있으며, 이 중 적절한  제품 을 선택하여  반려동물 과 함께보다  즐 길 수 있는  공간 을 만들 수 있습니다.',\n",
              " '몰 딩 수정 을 방지하기  위해서는  몇  가지  주의 할 점이  있습니다. 먼 저, 실내 습기를  관리하고  적정한  환기 시스템 을 사용하여  습기를  제거하는  것이  중요합니다. 또한, 몰 딩을 교체하거나  수리하여  새로운  몰 딩 소재 로 변경하는  것이  도움이  될 수 있습니다. 이때에는  전문가 의 도움을  받는  것이  좋습니다.',\n",
              " 'KMEW 세라믹  지붕재는  산화 티타늄  처리 를 통해 정전기 가 발생하지  않아 이물질 이 흡착되지  않는 것 외에도  유지관리  비용 이 거의 들지 않고 우풍이 나 지진에  강하다는  장점이  있습니다. 또한  세라믹  재료 로 제작되어  내구성 이 뛰어나 고 미적인  면에서 도 뛰어나다는  점도 있습니다. 세라믹사이 딩의 단점은  주로  일본에서  수입된다는  점으로  인해 자재비가  상대적으로  높다는  것입니다. 또한  일정 기간 이 지나 면 색상이  바래거나  변색될 수 있는  경향이 있어  외관의  변화 가 발생 할 수도  있습니다. 또한  일정 기간 이 지나 면 세라믹사이 딩의 표면이  상할 경우 오염 이 발생하여  미관을  손 상시킬  수 있습니다. 따라 서 세라믹사이 딩을 선택 할 때에는  이러한 단점을  고려하여  적절한  관리 와 정기적인  유지보수 가 필요합니다.',\n",
              " '줄퍼티 마감은  줄퍼티 마감 후 면 전체 의 평활도와  질감을  맞춰주기  위해  전체적으로  퍼티 작업 을 하는  것을  의미합니다. 이 과정에서  면의  평활도 뿐만  아니 라 질감이  일정하게  유지되어  고급스러운  마감을  구현할 수 있습니다. 그러나  이 과정 은 비용 이 상대적으로  많 이 소요되며, 주로  주거공간에서  사용되는  경우가  있습니다. 액체방수공사 는 건물의  콘 크리트 나 모르타 르 표면에  액체 형태 의 방수제를  도포하거나  침투시키는  것이  말합니다. 이를  통해 건물 내부의  수증기와  물을  방지하여  건물 내구성 과 유지보수 를 위해  매우 중요한  작업입니다. 또한, 액체방수공사 는 건물 내부의  공간 에 발생하는  결로와  곰팡 이 등을  방지하는  데 도움이  됩니다.',\n",
              " '페인 트 하도재 없이  페인트를  칠하는  것은  어려운 작업이며, 특히  적절한  마감 방법으로  만지 않을 경우 페인 트 표면이  쭈 글하게  울기에  쉬 운 경우가  있습니다. 따라 서 적절한  하도재 없이  페인트를  칠하는  것은  권장되지  않습니다.',\n",
              " '바닥재가  남은 경우 일반적으로  특수규격 봉투 (불연성 폐 기물 마대)에 넣어서  배출하는  것이  좋습니다. 하지만  특규규격 봉투를  구하기  어려운 경우 지역의  구청이나  주민센터에서  처리 할 수 있는  경우도 있습니다. 따라 서 바닥재가  남은 경우 지역의  환경규제  및 규정에  따라  처리하는  것이  좋습니다. 바닥재의  상태 와 크기에  따라  처리  비용 이 다를 수 있습니다. 따라 서 정확한 크기와  처리  비용 을 확인하기  위해서는  생활폐 기물 스티 커를 구매하는  것이  좋습니다. 생활폐 기물 스티커는  생활폐 기물 관리 규정에  따라  처리  비용 을 정확히 알고 있습니다.',\n",
              " '반점을  제거하기  위해서는  다음과  같은  방법들을  시도해볼  수 있습니다.  1. 반점 위에  바인더나 수성프라이머 를 도포하여  코팅한 후 다시  도배 장점: 비교 적 간단한 해결 방법으로  바로  수정 이 가능합니다. 단점: 재발의  위험 이 있을  수 있으며, 코팅 과정에서  냄 새가 발생 할 수 있습니다.  2. 반점이  생긴  도배지 부분 을 부분적으로  잘라내고, 새로운  도배 장점: 가장  근본적인  해결 방법으로  반점이  재발할 가능성이  낮아지 는 가장  효과적인  방법입니다. 단점: 시간 과 비용 이 많 이 소요되며, 교체 작업  중에  먼지가  많 이 발생 할 수 있습니다.  3. 벽 지 전체 를 잘라내고',\n",
              " '새집증후군 은 새로 지어 진 집에  입주했을  때 이전에  없던  이상  증상이  나타나 는 증상을  의미합니다. 새집증후군 의 원인으로는  휘 발성 화학물질 에 의한 것이  가장  흔 한 것으로, 대표적인  물질로는  포름알데히드가  있습니다. 포름알데히드는  주로  방부제나 접착제의  원료로 사용되며, 증상의  주된 원인 이 됩니다.',\n",
              " '방청도료 도장 작업 은 다음과  같은  단계 를 거쳐 야 합니다. 1. 피도면 정리  2. 방청도료 도장 3. 상도작업  순으로  진행해야  합니다. 콘 크리트 에 구멍 을 뚫 기 위해서는  먼 저 콘 크리트  구멍 에 맞 는 도구를  선택해야  합니다. 작은  구멍 의 경우 햄머드릴이나  모음드릴 을 사용 할 수 있고, 대형 구멍 은 코어드릴 을 사용하는  것이  효과적입니다. 또한, 콘 크리트  구멍 을 뚫 기 전에 는 콘 크리트  구멍 을 뚫 기 전에  안전장비 를 착 용하고  전문가 의 도움을  받는  것이  좋습니다.',\n",
              " '실내 식물 을 효과적으로  가꾸려면  먼 저 적절한  종을  선택해야  합니다. 공기 정화식물 은 대부분의  실내 공간에서  잘 자르며, 간단한 관리  플랜 트 또한  바쁜  사람들에게  적합합니다. 또한, 조명과  습도에  맞 는 식물 을 선택하여  적절한  관리 를 할 경우 효과적으로  실내 식물 을 가꾸 실 수 있습니다. 현재  가장  인기 있는  도배재료로는  실크벽지가  많 이 사용되고  있습니다. 실크벽지는  다양한 패턴과 색상으로  다양한 디자인 을 구현할 뿐만  아니 라 내구성 이 뛰어나 고 유지보수 가 쉽다는  장점이  있습니다. 또한  실크벽지는  고급스러운  느낌 을 주며, 특히  조명의  변화 에 따라  독특한 광 택을 더해주는  등 공간 의 분위기 를 변화시키는  효과 가 있습니다. 따라 서 실크벽지는  인테리어 에 널 리 사용되고  있습니다.',\n",
              " '원목마루 와 롱 브릭타일은  각각의 특성에  따라  다른  느낌 을 줍니다. 원목마루 는 고급스러운  분위기 를 연출해 주며, 청결하고  정돈 된 분위기 를 유지 할 수 있습니다. 반면 롱 브릭타일은  편안하고  아늑 한 느낌 을 연출해 주며, 편한하게  보관하고  사용 할 수 있는  것이  특징입니다. 따라 서 원목마루 는 청결하고  정돈 된 분위기 를 선호하거나  고급스러운  느낌 을 강조하고  싶 을 때 적합하며, 롱 브릭타일은  편안하고  아늑 한 느낌 을 원할 때나 보관 및 사용 이 편리하다는  장점이  있습니다. 원목마루 와 롱 브릭타일은  각각의 단점과  특징 이 다르기  때문에  선택 할 때에는  이러한 요소들을  고려해야  합니다. 원목마루 는 고급스러운  느낌 을 주며 청결하고  유지보수 가 간편한 것이  장점이 며, 고급 바닥재로  인정받고  있습니다. 반면 롱 브릭타일은  내구성 이 뛰어나 고 변색이  적다는  장점이  있습니다. 따라 서 원목마루 와 롱 브릭타일은  각자의  특성에  따라  선택 할 수 있습니다.',\n",
              " '침실을  더 아늑하게  만들기  위해서는  몇  가지  간단한 아이디어 를 활용할 수 있습니다. 먼 저, 밝 은 컬러의  벽지와  소품을  선택하여  분위기 를 조성하고, 아기자 기한 소품들로  방을  꾸 밀 수 있습니다. 또한, 아기자 기한 소품들로  방을  꾸 밀 경우에 도 안전 을 위해  적절한  재료 를 선택하는  것이  중요합니다. 마지막으로, 아기자 기한 소품들로  방을  꾸 밀 경우에 도 안전 을 위해  적절한  재료 를 선택하는  것이  좋습니다.',\n",
              " '컬 러매치 를 위해서는  주요 색상과  보조  색상을  조합하여  대비 와 조화를  이루는  것이  중요합니다. 또한, 색의  밝기와  채광  정도 를 고려하여  조화로 운 컬러를  선택하는  것이  좋습니다. 또한, 공간 의 크기와  채광  상태 를 고려하여  밝 은 공간 은 밝 은 톤의  컬러를, 어두운 공간 은 어두운 톤의  컬러를  선택하는  것이  좋습니다. 따라 서 컬 러매치 를 위해서는  이러한 요소를  고려하여  적절한  컬러를  선택하는  것이  중요합니다. 협소한  공간 을 확장시키기  위해서는  몇  가지  간단한 요령을  활용할 수 있습니다. 먼 저, 큰 거울을 설치하여  공간 을 시각적으로  확장시킬  수 있습니다. 또한, 밝 은 컬러의  벽지나  페인트를  사용하여  쾌 한 분위기 를 조성할 수 있습니다. 마지막으로, 슬림 한 디자인 의 가구 를 선택하여  적은  공간 을 차지하면서도  기능적인  면에서  충분한  효과 를 낼  수 있습니다. 이러한 방법들을  조합하여  협소한  공간 을 더 넓 어 보이 게 만들 수 있습니다.',\n",
              " '그라 스울 보온판은  유리섬유 에 폴리 우레탄  필름으로  래핑하여  만든 건축 용 단열흠 음재입니다. 이 제품 은 인슐레이션  또는  단열재로  불립니다. 유리섬유 의 각 섬유 는 공기를  포함하여  음을  흡 수할 수 있는  기공 역할을 하므로  흡 음성능이 우수하여  흡 음성능을 요구하는  세대 간 경계벽체에  많 이 사용됩니다. 상대적으로  가격 이 저렴하고  변형이  쉬 워 목구조 에 적용되며, 불연재료 로 사용되며  화재  시 유독가스  등을  발생시키지  않습니다. 그러나  수분흡 수성이  강해 열성능이 떨어지고  단열재가  쳐지는  현상이  발생하므로  통기와  방수처리 가 필요합니다. 글라 스울의 상태유지  한계온도는',\n",
              " '미네랄 울 보온판은  규산 칼슘계의  광석을  고온으로  용융시켜  만든 순수 무기 질 섬유 로, 고온부위나 내화 및 내열 목적으로  사용되는  보온재입니다. 이러한 보온판은  내구성 과 조직력이  뛰어나 고 변질 걱 정 없이  반영구적으로  사용 할 수 있는  장점이  있습니다. 또한  미네랄 울 보온판은  고온 환경에서  사용 할 때 안정적으로  유지 된 구조 를 유지 할 뿐만  아니 라 내화성, 내수성, 내진성이  우수하여  변질 걱 정 없이  오랜 기간  사용 할 수 있는  장점이  있습니다.',\n",
              " '일반적으로  도배 후 필름을  시공하는  것이  일반적으로  권장됩니다. 도배 후 필름을  시공하는  것은  벽 지 위에  붙 은 필름의 부착력이  도배지로  인해 떨어질  수 있으며, 미관상의  호불호가  갈리기  때문에  실리콘으로  마무리하여  필름을  시공하는  것이  좋습니다. 따라 서 도배 후 필름을  시공하는  것이  일반적인  방법으로  권장됩니다. 도배 후 필름 시공 은 어떤  효과 를 가져다 줄까요? 낡 은 목재 가구 의 흠집을  어떻 게 숨 일 수 있을까요?',\n",
              " '적절한  페인 트 종류 를 선택하여  사용하는  것이  중요합니다. 입구나  복도의  표면에  사용하기  좋은  페인 트 종류로는  일반적으로  방청도료, 즉  페인 트 중 도료 또는  도발재의  부착용으로  도료 자체가  적절한  재료 를 선택하는  것이  좋습니다. 또한, 적절한  조명과  수납  공간 을 활용하여  쾌 한 분위기 를 조성할 수 있습니다. 마지막으로, 적절한  개인적인  요소를  추가하여  공간 을 개성있게  만들어  줄 수 있습니다. 예를  들어, 개성 있는  조각 품, 개성 있는  식물, 개성 있는  조각  등을  활용하여  공간 을 더욱  아름답게  만들 수 있습니다.',\n",
              " '도배지가  먼지나  연기로  인해 얼 마나 빨리  오염 될 수 있는  지 알고 싶다면  일반적으로  1년 이상 된 도배풀 에 해당됩니다. 따라 서 도배풀 은 적절한  관리 와 청소 가 필요하며, 특히  습기가  많은  환경이나  물이  많 이 사용되는  공간에서는  주의가  필요합니다. 따라 서 도배풀 은 적절한  관리 가 필요하며, 오염 이 발생 할 경우 즉 시 전문가 의 도움을  받아  청소  및 관리하는  것이  좋습니다. 네, 습도가  높으면  곰팡이가  서식하기  쉬우며  공기 중의  습기와  곰팡 이 냄 새가 증가할 수 있습니다. 따라 서 습도 관리 가 중요합니다. 습기 관리 를 통해 적정한  습도를  유지하고  규칙적인  환기 및 건조가  이루어지면  곰팡 이 발생  가능성을  줄일 수 있습니다.',\n",
              " '방청페인트를  시공하는  방법 은 다음과  같습니다. 1. 피도면 정리  2. 방청도료 도장 3. 상도작업  순으로  진행합니다. 방청페인트를  시공하는  방법 은 다음과  같습니다. 먼 저 피도면을  깨끗하게  정리하고  정돈해야  합니다. 그 후에  방청도료를  도장하고  마지막으로  상도작업 을 수행해야  합니다. 이 과정에서  전문가 의 도움을  받는  것이  좋습니다. 배관공사 를 할 때에는  몇  가지  주의해야  할 점이  있습니다. 먼 저, 배관 내부의  공기와  물을  순환시키는  것이  중요합니다. 이를  통해 온도와  압력을  조절 할 수 있습니다. 또한, 통기구 를 적절 히 설치하여  배관 내부의  고장이 나 파손 을 방지하는  것도  중요한  요소입니다. 마지막으로, 소화수 공급 을 위한  소제구 설치 도 고려해야  합니다. 이러한 요소들을  고려하여  적절한  설계  및 시공 이 이루어지면  안전 한 시스템 을 만들 수 있습니다.',\n",
              " '유성발수제의  장점은  소재 에 물의  침투를  막는 것뿐만  아니 라, 동결, 염 에 의한 손 상, 화학 적 파괴, 생물 적 침 식 등 다양한 손상을  예방하는  것입니다. 또한, 유성발수제는  소재 의 수명을  연장시켜주는  효과 가 있습니다. 규산질계 침투 성 도포 방수공사 는 콘 크리트  표면에  무기질의  활성  실리카  성분을  포함한 침투 성 물질 을 도포하여  콘 크리트 의 간극이나  공극 에 침투시켜  수밀하게  만들어  방수층을  형성하는  작업입니다. 이 방식 은 노출된 외부 콘 크리트  표면, 노출된 실내 콘 크리트  표면, 외부 제물치장 콘 크리트  표면, 실내 제물치장 콘 크리트  표면에  적용됩니다. 이 방식 은 콘 크리트 의 수명을  연장시키고  수분으로부터  보호하는  기능 을 합니다.',\n",
              " '고습도 환경에서  몰 딩 소재 가 팽 창하거나  수축하여  변형될 수 있습니다. 따라 서, 고습도 환경에서  몰 딩을 사용 할 때에는  소재 를 선택하여  적합한 소재 를 선택하는  것이  중요합니다. 변형을  최소화하기  위해서는  적절한  소재 를 선택하고  적절한  시공  방법 을 선택하는  것이  중요합니다. 내부와  외부 온도의  큰 차이로  인해 곰팡이가  발생 할 수 있습니다. 따라 서 내부와  외부 온도의  큰 차이는  곰팡 이 발생  가능성을  높 일 수 있습니다. 따라 서 내부와  외부 온도의  큰 차이를  줄이는  것이  중요합니다.',\n",
              " '주방을  활기차게  만들기  위해서는  몇  가지  추가적인  요소를  고려해보세요. 우선, 활기찬  컬러를  선택하여  벽면과  식품 을 꾸 밀 수 있습니다. 또한, 식물 을 배치하여  자연 의 느낌 을 더해보세요. 마지막으로, 개방형 수납 을 활용하여  공간 을 시각적으로  확장시키고  수납  공간 을 활용할 수 있도록  디자인 해 보는  것이  좋습니다. 이러한 요소를  조합하여  주방을  활기차게  만들 수 있습니다.',\n",
              " '초배지만  남은 벽에는  페인트를  칠하는  것이  적합하지  않습니다. 초배지는  벽면을  보호하거나  꾸 미 목적으로  사용되며, 페인트와  달리 물을  흡 수하고  물에  녹 는 특성을  가지 고 있습니다. 따라 서 초배지만  남은 벽에는  페인트를  칠하는  것이  적합하지  않습니다. 속건형 유성 발수제는  도장 후 용제가  증발되면서  발수효과 를 발휘하는  것을  의미합니다. 이 과정에서  발수 효과  뿐만  아니 라 도장 후 용제가  증발되면서  공기와  물을  차단하는  기능 도 있습니다. 이는  도장된 표면에  용제가  증발하여  공기와  물을  차단하는  데 도움을  줄 수 있습니다. 또한, 발수 효과  뿐만  아니 라 도장 후 용제가  증발되면서  공기와  물을  차단하는  기능 도 있습니다. 이러한 특성으로  인해 속건형 유성 발수제는  도장 후 용제가  증발되면서  발수효과 를 발휘하는  것이  특징입니다.',\n",
              " '벽지에  반점이  생긴 지 1년 이상 된 경우 벽지를  재시공해야  합니다. 반점이  생긴 지 1년 이상 된 경우 벽지의  표면 상태 가 안정적이 라 도배풀 의 부착력이  감소하여  반점을  제거하기  어렵습니다. 따라 서 벽지를  재시공하는  것이  필요합니다.',\n",
              " '석구조 는 주로  석재로  쌓 아 만든 건축물을  말합니다. 이러한 구조 는 주로  궁 전, 불사, 탑비와  같은  고건물에  사용되며, 풍압 력, 지진력 및 다른  인위적인  횡력에  대해 극 히 취약하다는  단점이  있습니다. 따라 서 고층  건물을  건설 할 경우에 는 보강구조 가 필요하며, 적절한  보강 구조 가 확보되면  안정적인  건물을  건설 할 수 있습니다. 석구조 는 건물의  벽체와  기초를  벽 돌, 콘 크리트  또는  석재로  쌓 는 구조 를 말합니다. 이는  통나무  구조에서  파생하여  상업 건물이 나 대규모  주택  등에  주로  사용됩니다. 현재 는 전통적인  플랫폼  구조 와 결합하여  사용되기도  합니다.',\n",
              " '원목마루 의 단점은  주로  가격대가  상대적으로  높 고 관리 가 어렵다는  점입니다. 또한  습기에  노출될 경우 곰팡이와  변색된 상태 가 발생 할 수 있어  외관의  변화 가 발생 할 수도  있습니다. 도배지가  남으면  일반적으로  폐 기물 스티 커를 부착하는  것이  가장  안전 한 방법입니다. 폐 기물 스티커는  동사무소, 편의 점, 일반  슈퍼  등에 서 구매 할 수 있습니다. 또한, 아파트 의 경우에 는 경비실에  비치되어  있는  경우가  있으니  해당 부분 을 문의하시는  것이  좋습니다. 따라 서 도배지가  남으면  지역의  환경규제  기관 에 따라  적절한  처리  및 보관 및 폐 기물 처리 가 이루어져야  합니다.',\n",
              " '마감재의  하자 를 판단하는  방법 은 몇  가지 가 있습니다. 먼 저, 설계도에  맞 는 마감재의  하자 를 확인해야  합니다. 마감재의  하자 를 확인하는  방법 은 설계도에  명시된 내용 과 일치 여부뿐만  아니 라, 기능 상, 미관상, 안전상의  문제  여부도 확인해야  합니다. 이외에도  마감재의  하자 를 확인하는  방법으로는  몇  가지  추가적인  방법 이 있습니다. 먼 저, 마감재의  하자 를 확인하기  위해  해당 재료 의 제조 사 권장 문서 를 확인하는  것이  좋습니다. 마감재의  하자 를 확인하는  데 있어  제조사의  권장 문서 를 확인하는  것이  중요합니다. 또한, 마감재의  하자 를 확인하기  위해  해당 재료 의 유해한 폐 기 새집증후군 을 예방하는  방법 은 목재 가구 나 건축자재 에 사용되는  화학물질 을 최소화하는  것이  중요합니다. 포르 말린이  적게 사용 된 가구 와 자재 를 선택하고, 친환경  친 화적인  방향제를  사용하여  실내 공기를  정화하는  것이  도움이  됩니다. 또한, 실내 흡연을  금지하고  공기 정화 효과 가 있는  공기 정화 플랜트를  사용하여  건강 한 실내 환경 을 유지하는  것이  중요합니다.',\n",
              " '강마루 는 합판 목재에 나무  무늬  강화 필름을  표면에  씌 운 바닥재를  말합니다. 가격 은 평당 15만원입니다. 강마루 는 다양한 디자인 과 보행감이  좋으며  접착시공  방식으로  난방효율 이 뛰어나 고 소음이  절 감되는  장점이  있습니다. 그러나  습기에  취약하고  철 거 비용 이 발생 할 수 있다 는 단점이  있습니다. 강마루 는 합판 목재에 나무  무늬  강화 필름을  표면에  씌 운 바닥재를  말합니다. 가격 은 평당 15만원입니다. 강마루 는 다양한 디자인 과 보행감이  좋으며  접착시공  방식으로  난방효율 이 뛰어나 고 소음이  절 감되는  장점이  있습니다. 그러나  습기에  취약하고  철 거 비용 이 발생 할 수',\n",
              " '새집증후군 을 예방하기  위해서는  몇  가지  주의해야  할 점이  있습니다. 먼 저, 창문을  열어 실내공기를  순환시키고, 휘 발성 유기 화합물을  제거하는  것이  중요합니다. 또한, 새로 이사하기  전에 는 실내공기 정화 식물 을 사용하여  휘 발성 유기 화합물을  제거하는  것이  도움이  됩니다. 마지막으로, 새로 이사하기  전에 는 창문을  열어서  실내공기를  순환시키고, 휘 발성 유기 화합물을  제거하는  것이  중요합니다.',\n",
              " '도배풀 을 제거하려면  걸 레로 살짝  닦 아내야  합니다. 만약 걸 레로 제거가 어렵다면  도배풀  제거제를  사용하여  깔끔하게  닦 아내야  합니다. 이때에는  제조사의  지침을  잘 숙 지하고  안전장비 를 착 용한 후 사용하는  것이  좋습니다. 옥 상 방수용  탄 성 에멀 전 페인트의  장점은  건조 후 이음매 없이  연속적인  도막을  형성한다는  것입니다. 또한  건물의  충격이 나 수축 과 팽 창에도  도막이  갈 라지거나  손 상되는  것을  방지하여  도막이  갈 라지거나  손 상되는  것을  방지합니다. 또한  침수가  반복되는  장기간의  옥 외폭 로 조건에서도  소지 부착성과  내구성 을 보유하여  침수가  반복되는  환경에서도  소지 부착성과  내구성 을 유지하는  것이  장점으로  꼽힙니다.',\n",
              " '통나무구조  방식 의 건물에 서 침 하 현상을  최소화시키기  위해서는  몇  가지  요소를  고려해야  합니다. 먼 저, 통나무구조 의 특성상 내화벽 체 및 바닥 을 통나무 로 시공하는  것이  중요합니다. 또한, 통나무구조 의 불연재료 를 사용하여  화재로부터  보호받는  것도  고려해야  합니다. 마지막으로, 통나무구조 의 유지보수 와 정기  관리 가 필요하며, 이러한 측면을  고려하여  적절한  계획을  수립하는  것이  중요합니다.',\n",
              " 'MSDS(Material Safety Data Sheet)는 화학물질 의 유해성, 위험 성, 응 급조치  요령, 취급 방법  등을  설명하는  문서입니다. 산업안전보건공단, 환경공단, 미국 의 OSHA(산업안전보건 국)와 같은  규제  기관에서  요구합니다. 근로자는  직업병이 나 재해사고로부터  예방 할 수 있는  정보를  얻 을 수 있습니다. 제조사는  산업안전보건공단, 환경공단, 미국 의 OSHA(산업안전보건 국)와 같은  규제  기관에서  요구합니다.',\n",
              " '색상을  선택 할 때 고려해야  할 요소는  다양한데 요. 먼 저, 공간 의 크기와  채광  상태 를 고려하여  어두운 공간 은 밝 은 색, 밝 은 공간 은 살 아 있는  컬러를  선택하여  조화로 운 분위기 를 연출할 수 있습니다. 또한, 가구 의 색상과 의 조화도 중요한 데, 가구 와 어울리는  색상을  선택하여  조화로 운 공간 을 만들 수 있습니다. 또한, 각 색이  전달하는  감정적 영향을  고려하여  조화로 운 조합 을 찾는 것이  좋습니다. 예를  들어, 빨강은  활기찬  느낌 을 주며, 안정감을  줄 수 있습니다. 또한, 파스텔톤의  컬러는  공간 을 밝 고 환한 느낌 을 줄 뿐만  아니 라',\n",
              " '라돈 을 측 정하는  지점은  최저층에서  측 정합니다. 또한, 공동주택 의 총 세대수가  100세대 일 때에는  3세대 를 측 정하고, 이후  100세대 가 증가할 때마다  1세대씩  추가하여  최대 12세대까지  시료를  채취합니다. 따라 서 라돈 을 측 정할 때에는  최저층에서  측 정하는  것이  권장됩니다. MSDS(Material Safety Data Sheet)는 화학물질 의 유해성, 위험 성, 응 급조치  요령, 취급 방법  등을  설명하는  문서입니다. 산업안전보건공단, 환경공단, 미국 의 OSHA(산업안전보건 국)와 같은  규제  기관에서  요구합니다. 작업 장 내 화학물질 에 대한  유해한 노출로부터  근로자를  보호하기  위해  산업안전보건공단, 환경공단, 미국 의 OSHA  등과 같이  산업안전보건공단  등에 서 요구합니다.',\n",
              " '새집증후군 을 방지하기  위해서는  몇  가지  주의 할 점이  있습니다. 먼 저, 목재 가구 나 건축자재에는  포름알데히드 등의  유해 물질 이 적게 사용 된 제품 을 선택하는  것이  중요합니다. 또한, 실내 흡연을  금지하고, 공기 정화 효과 가 있는  공기 정화 플랜트를  사용하여  휘 발성 유기 화합물을  제거하는  것이  도움이  됩니다. 마지막으로, 새로 지어지는  집이 나 리모델링 을 하기  전에 는 친환경적이고  안전 한 재료 를 사용하고, 친환경  친 화적인  인테리어  업체 를 선정하는  것이  좋습니다. 새집증후군 을 해결하기  위한  방법 은 몇  가지  주의 할 점이  있습니다. 먼 저, 새로 지어 진 집의 내부 공간에서  발생하는  곰팡이와  곰팡 이 방지  페인트를  사용하여  곰팡 이 방지 를 위한  목적으로  설계 된 페인트를  사용하는  것이  중요합니다. 또한, 새로 지어 진 집의 창틀이나  문틀 을 신선하게  교체하고, 새로운  소재 로 교체하는  것이  도움이  될 것입니다. 마지막으로, 새로 지어 진 집의 화재  등급 을 높이기  위해  화재  감지 및 화재  진압  장치 를 설치하는  것이  중요합니다. 이러한 조치들을  통해 새집증후군 을 방지하고  방지 할 수 있습니다.',\n",
              " '질석벽지는  운모계 광석을  1,000도 정도 로 가열하여  나온 결정  조각 을 종이  위에  뿌 려 접착 한 벽지를  말합니다. 질석벽지는  아트 워, 현관 입구 등에  많 이 사용되며, 단열과 결로방지 가 탁 월하며  고급스러운  질감이  특징입니다. 그러나  가격 이 상대적으로  비싸 고 시공  및 유지관리 가 어렵다는  단점이  있습니다. 따라 서 이러한 특징으로  인해 적절한  관리 가 이루어지지  않을 경우 오염 이 생길 수 있고, 꾸 준한 관리 가 필요합니다.',\n",
              " '도배지 꼬 임 하자란  도배지에  꽈 배기 모양의  주름이  생기는  현상을  의미합니다. 도배지 꼬 임 하자 가 발생하는  주된 원인 과 책임소재, 그리고  해결방법 에 대해 설명드리겠습니다.  1. 건축  물리적 변화     - 원인 : 건물 구조 의 이동으로  인해 도배지 꼬임이  발생 할 수 있습니다.    - 책임소재 : 건물의  소유자나  거주자 가 책임 을 져야  합니다.    - 해결 방법 : 건물의  구조 를 조정하고, 재작업 을 진행해야  합니다.  2. 습도    - 원인 : 도배지에  습기가  스며들거나  습기로  인해 팽 창하고  수축으로  인해 꼬임이  발생 할 수 있습니다.    - 책임소재 : 건물의  소유자나  거주자 가 습기 석고보드 를 이동하여  도배지 꼬임이  발생 할 수 있습니다. 따라 서 제조 사 권장 건조시간만큼  충분한  기간 을 기다려야  합니다. 만약 일주일 이 지나 도 꼬임이  지속된다면  전문가 의 도움을  받아  진단  및 보수  작업 을 진행해야  합니다.',\n",
              " '폴리에스테르  흡 음 단열재는  폴리에스테르  섬유 를 적층하고  열로 융착하여  만든 단열재로, 일반 형, 가공형, 타일형 등의  가공방법 에 따라  다양한 제품  및 용도로  활용됩니다. 이 제품 은 환경 표지 인증 (한국환경산업기술 원), 친환경  건축자재 (한국 공기청정협회 ), 그리고  우수한  재활용 가능성을  인정받아  GR인증 을 받았습니다.  폴리에스테르  흡 음 단열재는  물을  흡 수할 때 결합력과  인장강도가  뛰어나  배수가  효과적이며  뭉침  현상이  발생하지  않는 것이  장점입니다. 또한, 폴리에스테르  재질의  특성상 표면 초기 상태 는 양호하지만  박리(하나 의 재료 가 다른  재료와의  경계면에서  떨어져  나감) 시 복원이',\n",
              " '도배 후 제조 사 권장 건조시간만큼  충분한  기간 을 기다려야  합니다. 이 기간  동안에는  온도와  습도에  유의해야  하며, 완전 건조 후 울음이  발생 할 수 있습니다. 따라 서 제조 사 권장 건조시간만큼  충분한  기간 을 기다려야  합니다.',\n",
              " '내단열 방식에서  발생하는  열교 문제 와 곰팡 이 발생 의 원인으로는  주로  건물 자체를  통한 부분에서  발생하는  것이  있습니다. 이는  건물 자체의  부식이 나 불완전한  패킹  등과 관련 이 있을  수 있습니다. 또한, 외부 기상 조건 과 실내 습도의  변화 에 따라  도배지의  접착력이  감소하여  벽면에서  떨어지는  경우에 도 발생 할 수 있습니다. 따라 서 내단열을  선택 할 때에는  이러한 열교와 곰팡 이 발생 을 고려하여  적절한  방식 을 선택하는  것이  중요합니다.',\n",
              " '도배지가  찢어진  하자 를 터짐  하자라고  합니다. 터짐  하자 가 발생하는  원인 과 책임소재, 그리고  해결방법 에 대해 설명드리겠습니다.  1. 기존 실크 벽 지 불완전 제거    - 원인 : 기존 실크 벽지를  충 분히 제거하지  않은 경우, 새로 도배한 도배지가  제대로  부착되어  터짐  하자 가 발생 할 수 있습니다.    - 책임소재 : 시공 자    - 해결 방법 : 시공사에  연락하여  재시공 을 요청할 수 있습니다.  2. 절 단 부위 과소    - 원인 : 도배지의  절 단 부위가  구조물에  비해 과소하게  절 단되어  장력을  이기 지 못하고  찢어질  수 있습니다.    - 책임소재 : 시공 자    - 해결 방법 : 도배지가  찢어진  하자 를 터짐  하자라고  합니다. 터짐  하자 가 발생하는  원인 과 책임소재 는 다음과  같습니다. 1. 기존 실크 벽 지 불완전 제거    - 원인 : 기존 실크 벽지를  완전하게  제거하지  않은 경우 새로 도배할 때 부착 제 등이  완전히  제거되지  않아 기존 벽지의  패턴이 새로 도배한 벽지에  드러 나거나  덮힐  수 있습니다.    - 책임소재 : 도배 업체    - 해결 방법 : 시공 사 해결 방법으로  기존 벽지를  완전히  제거하고  새로운  도배 작업 을 진행해야  합니다.  2. 기존 도배지 불완전 제거    - 원인 : 기존 도배지가  완전히  제거되지  않은 경우 새로',\n",
              " '면진장치란  건물의  지반으로부터  오는  진동 에너지 를 흡 수하여  건물에  오는  진력을  최대한  줄여 건물 구조물의  안전성을  유지하는  장치입니다. 이를  통해 건물 내부의  안정성이  향상되고  지진 등의  외부 충격으로부터  보호되는  기능 을 합니다.',\n",
              " '페인 트 상도재는  페인트의  최종 마감 코팅으로, 주도재의  제품 을 보호하고  유지보수하는  기능 을 합니다. 외부 표면에  노출될 때 열과 기후에  강하며  내구성 이 높다는  장점이  있습니다. 다만, 주도재의  주도재를  보호하는  데 보다  효과적인  방법으로  보호 를 할 수 있는  소재 로 상도재의  상도재 자체가  주도재의  보호 를 위해  사용되는  재료 로, 주도재의  보호 를 위해  사용되는  재료 를 의미합니다. 강화마루 는 원목 무늬  필름지를  입혀  하드 코팅 처리 한 바닥재를  말합니다. 가격 은 평당 7~12만원입니다. 강화마루 는 온도나 습도에  의한 변색이  거의 없으며  강도가  뛰어나  수명이  긴  장점이  있습니다. 그러나  필름지로  코팅되어  있기 때문에  질감이 나 보행감이  떨어진다 는 단점이  있습니다. 따라 서 이러한 특징으로  인해 바닥재의  선택 과 함께  적절한  바닥재 및 바닥재의  재료 와 시공  방법 을 고려해야  합니다.',\n",
              " '경질우레탄폼  보온판은  주로  철 근콘 크리트  구조 에 적용되며, 난연성 재료이지만  난연3급에 대한  시험 성적서를  제공하고  있지  않아 소방 필증을  받을  수 없습니다. 또한  원료비 자체가  비싸 고 시공  시 깔끔 한 절단을  위해  톱 을 사용해야  하므로  다른  단열재에 비해 절단이  어렵습니다. 또한  시공방식 에 따라  단열성능이 달라지고  장기 간 열 손 출 현상이  발생하여  열 효율 이 떨 어지기  때문에  에너지  효율 이 상대적으로  떨어질  수 있습니다.',\n",
              " '상도작업 은 마감재가  완전히  건조된 후, 원하는  색상의  에나멜이나  조합페인 트 등으로  마무리하는  작업입니다. 방청도료 마감 작업  시 상도작업 은 마감재의  부착력과  마감재의  밀착력을  높이는  작업으로, 마감재의  부착성과  밀착력을  높이는  데 중요한  구성 요소입니다. 상도작업 은 마감재의  부착성과  밀착력을  향상시키는  작업으로, 마감재의  부착성과  밀착력을  향상시키는  데 중요한  구성 요소입니다. 따라 서 상도작업 은 마감재의  부착성과  밀착력을  향상시키는  데 도움이  됩니다. 공간 을 더 넓 어 보이 게 만드는  데에는  몇  가지  요소를  고려해야  합니다. 먼 저, 공간 을 밝 은 컬러의  벽지나  가구 를 선택하여  공간 에 환한 분위기 를 조성할 수 있습니다. 또한, 큰 거울을 적절 히 배치하여  공간 을 시각적으로  확장시킬  수 있으며, 수납공간 을 활용하여  공간 을 시각적으로  확장시키고  수납  공간 을 활용할 수 있는  공간 을 활용할 수 있습니다. 이러한 요소를  조합하여  공간 을 더 넓 어 보이 게 만들 수 있습니다.',\n",
              " '도배지 울음이란  도배지가  평평하지  않고 국소적으로  볼 록하게  튀어나오는  현상을  의미합니다. 도배지 끝 부분에서  발생하는  들뜸하자 와 달리 울음 하자는  도배지 면 부분 에 발생합니다.  도배지 울음이  발생하는  원인  - 책임소재  - 해결방법 에 대해 설명드리겠습니다. 1. 건조시간  부족     - 원인 : 도배 후 완전 건조되기  전까지  울음이  발생 할 수 있습니다.    - 책임소재 : 제조 사    - 해결 방법 : 제조 사 권장 건조시간만큼  기다려야  합니다.    - 건조기간  동안에는  온도와  습도에  유의해야  합니다.    - 일주일 이 이후에도  울음이  있을  시 시공사에  연락하여  진단  및 보수  작업 을 진행해야  합니다.  2.',\n",
              " '실내공기 측정은  사무 실 바닥면으로부터  0.9미터  이상  1.5미터  이하 의 높이에 서 진행됩니다. 그러나  사무 실 면적 이 500제곱미터 를 초과하는  경우, 500제곱미터마다  1곳씩  추가하여  시료를  채취해야  합니다. 따라 서 적절한  위치 를 선정하여  실내공기 측정이  진행하는  것이  중요합니다. 아파트  도배평수는  일반적으로  아파트 의 분말 소화 또는  벽 지 등에  따라  다를 수 있습니다. 일반적으로  도배 평수는  아래 와 같은  계산  방식으로  계산됩니다. 평수는  일반적으로  실내공기질공정시험기준으로  측 정되며, 실내공기질공정시험기준 에 따라  적절한  계산  방식 을 선택하여  사용됩니다.',\n",
              " '고습도로  인해 도배지 안쪽의  금속 이 녹 아 도배지에  베어나 올 수 있습니다. 이로  인해 도배지 표면에  녹 이 묻어나 오게 되어  도배지 표면에  녹 이 묻어나 오면 도배지 표면에  녹 이 묻어나 오게 되어  도배지 표면에  녹 이 묻어나 오면 도배지 표면에  녹 이 묻어나 오게 되어  도배지 표면에  녹 이 묻어나 오면 도배지 표면에  녹 이 묻어나 오게 되어  도배지 표면에  녹 이 묻어나 오면 도배지 표면에  녹 이 묻어나 오게 되어  도배지 표면에  녹 이 묻어나 오면 도배지 표면에  녹 이 묻어나 오게 되어  도배지 표면에  녹 이 묻어나 오면 구조 적 결함은  건물의  설계  또는  시공  과정에서  발생 한 결함을  말합니다. 이러한 결함은  건물 구조 의 불균형, 부재 미반영, 재료  적절 함, 기존 구조 의 불완전 제거 등 다양한 원인 에 의해 발생 할 수 있습니다. 구조 적 결함은  건물의  안정성에  영향을  줄 수 있으므로  보수  및 개선  작업 이 필요합니다.',\n",
              " '대리석은  열전도율이  높 아 난방 비용 을 절 감할 수 있는  장점이  있습니다. 또한  대리석은  깔끔하고  고급스러운  분위기 를 연출해 공간 을 더욱  아름답게  만들어줍니다. 그러나  시공  난이도 가 높 은 편이 며 비용  또한  상대적으로  비싼  재료 로 인해 난방 및 시공  시 추가  비용 이 발생 할 수 있습니다.',\n",
              " '외단열에  있어  가장  중요한  이유는  외부 환경  조건입니다. 외단열에  있어  가장  중요한  이유는  외부 환경  조건입니다. 외부에서  습기가  충 전하거나  물방울 이 발생하는  경우, 단열재의  부착력이  감소하여  이로  인해 단열재 부착 이 어려워질 수 있습니다. 따라 서 외단열을  시공 할 때에는  이러한 환경  조건 을 고려하여  적절한  설계  및 시공  방법 을 선택하는  것이  중요합니다.',\n",
              " '스탠 드 조명을  선택 할 때 가장  중요한  것은  공간 의 조명 상태입니다. 스탠 드 조명은  공간 에 맞 는 조명을  선택하는  것이  중요합니다. 공간 의 조명 상태 에 맞 는 조명을  선택하여  사용하는  것이  좋습니다. 또한, 스탠 드 조명의  밝기와  색온도를  고려하여  적합한 조명을  선택하는  것이  중요합니다. 또한, 조명의  디자인 과 재질 또한  고려해야  합니다. 마지막으로, 에너지  소비 를 고려하여  적합한 조명을  선택하는  것이  좋습니다.',\n",
              " '반점이  생긴 지 1년 이상 된 벽지를  보수하는  방법 은 다음과  같습니다. 먼 저, 반점을  제거하기  위해  식초나 다용도 클리 너 등을  사용하여  벽지를  깨끗 이 닦 아내는  것이  좋습니다. 그 후에 는 벽지를  교체해야  합니다. 이때 전문가 의 도움을  받는  것이  좋습니다. 실크벽지의  얼룩 을 지우는  가장  효과적인  방법 은 다양한데 요. 먼 저, 식빵 에 치약기나 주방세제를  조금 뭍혀  문질러주세요. 그리고  물건 제거한 후 건조기나 제습기를  사용하여  건조시켜  건조된 후에  다시  문지르고  물건을  제거한 후 다시  시공 해 주세요. 이때 전문가 의 도움을  받는  것이  좋습니다. 만약 반점이  지워지지  않는다 면, 따뜻 한 물에  베이킹 소다를 섞 은 반죽 을 사용하여  얼룩 을 지워보세요. 반점이  지워지지  않는다 면, 전문가 의 도움을  받아  전문적인  청소  용품 을 사용하는  것이  좋습니다. 실크벽지의  얼룩 을 지우는  가장  효과적인  방법 은 식빵 에 치약',\n",
              " '차음재의  차음 성능은 주로  다공질 흡 음재 중 하나 로 평가됩니다. 다공질은  다공 소리 가 있는  공간에서  소리 의 파장에  따라  성능을 보여주는 데, 고주파 소리 일수록  높 은 성능을 나타내는  경향이 있습니다. 따라 서 다공질은  주로  고주파 소리 에 효과적으로  소리를  흡 수하는  데 뛰어나다고  평가됩니다.',\n",
              " '새집증후군이란  새로 지어 진 집에  입주했을  때 이러한 증상이  나타나 는 것을  의미합니다. 새집증후군 은 새로 지어 진 집에  입주했을  때 공기질 측정이  이루어진  것이  아니 라, 실내공기질공정시험기준 에 따라  100세대  당 3개 세대 (저층, 중층, 고층 부)를 기본으로  채취합니다. 또한  100세대 가 증가할 때마다  1세대씩  추가하여  최대 20세대까지  시료를  채취하게  됩니다. 이때, 고층 부, 중층 부, 그리고  저층 부 순으로  추가하게  됩니다. 마감재의  하자 를 판단하는  방법 은 몇  가지 가 있습니다. 먼 저, 마감재의  하자  여부 뿐만  아니 라 기능 상, 미관상, 안전상의  문제  여부도 확인해야  합니다. 이를  통해 마감재의  하자 를 신중하게  판단할 수 있습니다.',\n",
              " '반점이  생긴 지 1년 이상 된 벽지를  보수하려면  벽지를  재시공해야  합니다. 반점이  생긴 지 1년 이상 된 벽지는  벽 지 속지 내부에  주사기 를 사용하여  아세톤 을 사용하여  반점을  제거할 수 있습니다. 그러나  반점이  제거지지  않는다 면, 벽지를  재시공해야  합니다. 반점이  생긴 지 1년 이상 된 벽지는  벽 지 속지 내부에  주사기 를 사용하여  아세톤으로  반점을  제거할 수 있지 만, 반점이  제거되지  않는다 면 벽지를  재시공해야  합니다. 따라 서 전문가 와 상의하여  전문가 의 도움을  받는  것이  좋습니다.',\n",
              " '페인트의  양에 따라  처리  방법 이 달라 질 수 있습니다. 만약 남은 페인트의  양이  적다면  신문이나  헌  옷 에 적신 다음 종량제 봉투 에 버리 는 것이  가능합니다. 페인 트 양이  6ml이상  100kg 미만일 경우 페기물 수탁업체 를 통해 처리해야  하며, 100kg 이상이라면  구청  환경과에  신고해야  합니다. 따라 서 페인트를  처리 할 때에는  해당 지역의  규정과  법률 을 준수하는  것이  중요합니다.',\n",
              " '건설 은 주로  건물이 나 기반시설을  건설하는  프로세스 와 관련 된 모든  활동을  포함합니다. 또한, 토목 구조물의  건설 물 및 기반시설을  건설하는  프로세스 와 관련 된 모든  공정  및 활동을  포함합니다.',\n",
              " '제진구조 는 건물 구조물에  발생하는  지진으로  인한  손상과  피해 를 최대한  방지하기  위해  설계 된 구조 를 말합니다. 이는  건물 구조물의  안정성을  높이는  데 도움을  줄 수 있습니다. 중목구조 는 건물의  틀 과 지지대로  사용되는  건축자재 를 말합니다. 중목구조 는 기중-보 방식 과 유사하지만  구조 용 목재로  큰 각재를  사용하여  건축한다는  것이  차이점으로, 중목구조 는 건물 내부의  기중 및 지지대를  확실하게  확보할 수 있는  장점이  있습니다. 중목구조 는 건물 내부의  기중 및 지원대로  사용되는  건축자재 를 말합니다. 중목구조 는 기중-보 방식 과 유사하지만  구조 용 목재로  큰 각재를  사용하여  건축한다는  것이  차이점으로, 중목구조 는 건물 내부의  기중 및 지원대를  확실하게  확보할 수 있는  장점이  있습니다. 중목구조 는 건물 내부의  기중 및 지원대를  구성하는  데 사용되는  재료 를',\n",
              " '원목사 이딩의 단점은  주로  가격대가  상대적으로  높 고 관리 가 어렵다는  점입니다. 또한  습기에  노출될 경우 곰팡이와  변색 등의  변형이  발생 할 수 있어  외관의  변화 가 발생 할 수도  있습니다.',\n",
              " '알루미늄징크의  단점은  시공 이 잘못될 경우 울음 현상이  발생하고, 리얼징 크보다  가격 이 다소 비싼다는  점입니다. 또한  알루미늄징크는  산화되기  쉬 운 성질을  가지 고 있어  표면에  적용된 도료나 페인트의  부착력이  낮 을 경우 부식이  발생 할 수 있습니다. 따라 서 적절한  처리 와 유지보수 가 필요합니다.',\n",
              " '도배 작업 을 진행할 때에는  적절한  실내 온도를  유지해야  합니다. 여름철에는  실내 온도가  낮 을 경우 도배풀 의 접착력이  감소하여  도배지가  제대로  밀착되어  있습니다. 따라 서 실내 온도를  적절 히 유지하여  도배 작업 을 진행하는  것이  중요합니다.',\n",
              " '철골구조 의 화재  대비 를 위한  보강은  주로  벽 돌, 콘 크리트  또는  석고보드 와 같은  내화성 구조물을  사용하여  화재 에 의한 파손 을 최소화하는  것이  중요합니다. 또한, 화재  감지 및 화재  진압  장치 를 사용하여  화재 가 발생했을  때의 초기에  대응 에 대비하는  것도  중요한 데, 화재  감지 장치 는 화재 의 위치 와 강도를  측 정하여  화재 를 진압하는  데 사용되며, 화재  진압  장치 는 화재 의 초기와  진압  단계에서  화재 를 진압하는  데 사용되는  장치입니다. 철골구조 의 화재  안전  보강은  다양한 방법으로  구현됩니다. 먼 저, 화재  감지 및 화재 진압  장치 를 사용하여  화재 가 발생했을  때의 초기에 의 대응 에 대비합니다  것이  중요합니다. 또한, 화재  대비 를 위해  화재 대피 및 구조 에 대한  교육 재와 규제  프로 토콜 을 강화하는  것이  필요합니다. 마지막으로, 화재  화재 가 발생했을  때의 초기 대응 을 위해  화재  화재  대응  계획을  수립하고  화재  화재  화재 가 발생했을  때의 초기 대응 을 강화하는  것이  중요합니다.',\n",
              " '석구조 는 주로  석재로  쌓 아 만든 건축물을  말합니다. 이러한 구조 는 주로  궁 전, 불사, 탑비와  같은  고건물에  사용되며, 풍압 력, 지진력 및 다른  인위적인  횡력에  대해 극 히 취약하다는  단점이  있습니다. 따라 서 고층  건물을  건설 할 경우에 는 보강구조 가 필요하며, 적절한  보강 구조 가 확보되면  안정적인  건물을  건설 할 수 있습니다. 석구조 는 건물의  벽체와  기초를  벽 돌, 콘 크리트  또는  석재로  쌓 는 구조 를 말합니다. 이는  통나무  구조에서  파생하여  상업 건물이 나 대규모  주택  등에  주로  사용됩니다. 현재 는 전통적인  플랫폼  구조 와 결합하여  사용되기도  합니다.',\n",
              " '포세린  타일은  점토를  기본  재료 로 사용하여  만든 무광 의 타일을  말합니다. 가격 은 평당 10~20만원이며  여름에는  따뜻하고  내구성 이 좋은  재료입니다. 그러나  가격 이 상대적으로  비싸 고 충 격 흡 수율이  낮 아 노약자가  있는  집안에 는 적합하지  않을 수 있습니다. 따라 서 적합한 재료 를 선택하여  사용하는  것이  중요합니다. 셀룰 로오스 의 단점은  주로  정밀한  시공능력 이 요구된다는  점입니다. 또한, 습기에  노출될 경우 빨리  상할 수 있는  특징 도 있습니다. 따라 서 적절한  시공  및 유지보수 가 필요하며, 특히  습기가  많은  환경이나  물이  많 이 사용되는  공간에서는  추가적인  관리 가 필요할 수 있습니다.',\n",
              " '욕실을  부드럽 게 만들기  위해서는  연한  파스텔  컬러를  활용하고, 부드러 운 조명을  선택하는  것이  중요합니다. 또한, 자연적인  소재 를 활용하여  인테리어하는  것이  좋습니다. 예를  들어, 나무, 식물, 돌재 등을  활용하여  자연적인  분위기 를 연출할 수 있습니다. 또한, 부드러 운 소품들로  욕실을  꾸 밀 수 있습니다. 반려동물들을  위한  바닥재로 는 미끄럼  방지  기능 이 있는  바닥재가  있습니다. 반려동물들은  미끄러 져 다칠  위험 이 있기 때문에  미끄럼  방지  기능 이 있는  바닥재를  사용하면  반려동물들의  안전 을 최대한  지키는  데 도움이  됩니다. 또한, 바닥재를  바꾸 기 어려운 상황이라면  카펫이나  러그를 깔 아두는  것도  좋은  방법입니다. 반려동물들을  위한  바닥재로 는 미끄럼  방지  기능 이 있는  바닥재가  있습니다. 반려동물들은  미끄러 져 다칠  위험 이 있기 때문에  미끄럼  방지  기능 이 있는  바닥재를  사용하면  반려동물들의  안전 을 최대한  지키는  데 도움이  됩니다. 또한, 바닥재를  바꾸 기 어려운 상황이라면  카펫이나  러그를 깔 아두는',\n",
              " '팬던 트 라이트 는 천장으로부터  길게 늘어뜨린  전선 에 전구를  부착 한 조명을  말합니다. 다양한 디자인 과 소재 로 제공되며, 조명의  위치 를 조절하기  위해  조명 기구 를 사용합니다. 팬던 트 라이트 는 조명의  위치 를 조절하기  위해  조명기구 를 사용하는  것이  일반적이며, 다양한 디자인 과 소재 로 제공됩니다. 또한, 팬던 트 라이트 는 조명의  위치 를 조절하여  원하는  위치 에 위치 를 변경 할 수 있는  것이  장점이 며, 조명의  방향 을 조절하여  원하는  방향 에 집중된 조명을  유지 할 수 있습니다. 팬던 트 라이트 는 무엇인가요? 인테리어에서  바닥재를  선택 할 때 고려해야  할 중요한  요소는  무엇인가요?',\n",
              " '속건형 유성 발수제의  장점은  각종 건축자재 의 표면에  도장되어  빗 물 등의  침투를  막아주 어 건축자재 의 색상을  보호하고  유지시켜주는  것뿐만  아니 라, 건물의  균열이 나 백화 현상, 철 근의 부식을  방지하여  건물의  수명을  연장시켜주는  것입니다. 또한, 속건형 유성 발수제는  환경에도  친 화적이며  쉽게  사용 할 수 있는  것이  또 다른  장점입니다.',\n",
              " '주방은  식탁 이 있는  다이닝공간 과 음식 을 조리하는  조리대에  따라  추천하는  조명이  달라 질 수 있습니다. 다이닝  공간에는  팬던 트 조명을  설치하여  식사하는  사람 들 간의  집중도를  높 일 수 있습니다. 또한  조리대는  눈에  피로가  없을 정도 로 밝 은 조명이  필요하며, 적정조도는  200lux를 기준으로  150~300lux가 적합합니다. 따라 서 적합한 조명을  선택하여  사용하는  것이  중요합니다.',\n",
              " '트라이트  조명과  같은  고 빛  처리 를 통해 도배풀 의 색상을  변화시킬  수 있으며, 특히  밝 은 톤의  풀 은 공간 에 활기를  불어 넣어줍니다. 따라 서 저장 시 직사광선을  피하고  습기가  없는  곳 에 보관하는  것이  중요합니다. 또한, 사용  시 풀 의 내구성 을 유지하기  위해  적절한  청소  및 보수 가 필요합니다.',\n",
              " '철 근콘 크리트  구조 는 콘 크리트 의 압축  강도와  철 근의 인장 강도를  결합하여  구성 된 구조 를 말합니다. 일반적으로  도심에서  많 이 사용되며  내구성, 내화 및 내진 성능이 우수합니다. 그러나  고층  건물에서는  구조물의  하중을  지탱하기  위해  아래층의  보나 기둥이  상당한  무게를 지탱해야  하므로  구조 의 하중을  고려하여  고층  건물을  건설 할 때 구조물의  하중을  안정 화시키는  데에 유리합니다. 통나무구조 는 건물을  지탱하기  위해  중앙 에 큰 기둥 (중정)을 두고  그 외에 바닥 과 지붕으로  지지체를  확실하게  만드는  건축  구조  방식 을 말합니다. 이 방식 은 안정 한 건축 을 만들어 줄 뿐만  아니 라 내화성, 내진성, 경제 성 등의  장점을  가지 고 있습니다. 통나무구조 는 건물의  안정성을  확실하게  만들어 줄 뿐만  아니 라 내화성, 내진성, 경제 성 등의  장점을  가지 고 있습니다. 따라 서 건축  자재로서  매우 인기가  있는  구조  방식  중 하나 로 손 수 안정 한 건축 을 원할 때 유용한 방식으로  평가됩니다.',\n",
              " '공명형은  작은  구멍이나  틈 의 공명을  이용하여  소리를  흡 수하는  소재 를 말합니다. 이러한 소재 는 석면 시멘트 판, 석고보드, 알루미늄 판, 연질 섬유 판, 합성수지 판 등이  있으며, 특히  석면시멘트 판 공명은  높 은 주파수의  소리에는  효과적이지 만 주파수에  따라  성능이 달라지는  경향이 있습니다. 따라 서 특정 주파수의  소리에는  효과적이지 만 다양한 주파수의  소리에는  효과적으로  소리를  흡 수하는  것보다는  주파수 대역 에 따라  효과적인  성능을 나타내는  경향이 있습니다.',\n",
              " '결로가  발생하는  원인 은 고습와 창호 처리 에 있습니다. 고습은 공기 중의  수증기를  증가시켜  결로 발생  가능성을  높 일 수 있으며, 창호 처리 는 창호 자체를  통한 부분 에 발생하는  결로 방지  페인트의  부착력이  떨어져  결로가  발생 할 수 있습니다. 따라 서 결로 방지 를 위해서는  창호 처리 와 고습 관리 가 중요합니다.',\n",
              " '베란다 를 활용하여  야외 라운지를  만들기  위해서는  몇  가지  아이디어 를 활용할 수 있습니다. 먼 저, 편안한 의자나  소파, 식물, 그리고  패드  및 쿠션을  추가하여  쾌 한 분위기 를 조성할 수 있습니다. 또한, 간절 에 따라  전기  또는  가스  히터를  추가하여  추가적인  편안함을  더할 수 있으며, 마지막으로  간절 에 따라  새로운  식물 을 추가하여  자연 의 느낌 을 더할 수 있습니다. 이러한 요소를  조합하여  베란다 를 활용하여  아늑 한 야외 라운지를  만들 수 있습니다.',\n",
              " '페인트에 는 다양한 유해물질 이 함유되어  있습니다. 주요 유해물질로는  벤젠, 톨 루엔, 자일렌 과 같은  VOCs(휘 발성 유기화합물) 등이  있습니다. 이러한 유해물질 은 호흡 기나 피부를  통한 체내로 흡 수되어  건강 에 악 영향을  줄 수 있으며, 특히  VOCs 함량이  높으면  새집증후군 과 같은  증상이  나타날 수 있습니다. 따라 서 페인 트 작업  시에는  적절한  환기 시스템 을 운영하고, 마스크와  같은  개인보호구를  착용하는  것이  중요합니다. 또한, 환경부에서 는 휘 발성 유기화합물의  위험 에 대비하여  실내에서  유성페인 트 사용 을 금지하고  수성페인트를  사용하는  것을  권장하고  있습니다.',\n",
              " '판 진동형은  벽 과 일정 간격을  두고  설치되는  소재 로, 소리 가 전달될 때 판이  진동하여  마찰 에 의해 소리 가 소멸되는  소재입니다. 이러한 소재 는 주로  저주파의  소리에는  효과적이지 만, 고주파 소리에는  상대적으로  높 은 성능을 나타내는  경향이 있습니다. 따라 서 판 진동형은  주로  저주파 소리 에 효과적이며, 고주파 소리에는  효과적으로  사용 할 수 있는  소재 로 알려져 있습니다.',\n",
              " '점토벽 돌은 유지보수 가 쉽 고 고벽돌이 나 전벽 돌에 비해 비교 적 저렴하며  친환경적인  재료 로 평가 받습니다. 또한  점토벽 돌은 내구성 이 뛰어나 고 오랜 기간 동안  사용 할 수 있는  것이  또 다른  장점입니다. 벽지와  도료 중 어떤  것을  선택할지 는 공간 의 크기와  채취 방법 에 따라  다를 수 있습니다. 예를  들어, 작은  공간에는   도료 한 번 적시지  않고, 큰 공간에는  두 번 적시지  않는 것이  일반적인  규칙으로, 이는  도료의 특성상 완전히  제거하기  어렵 기 때문입니다. 따라 서 원하는  재료 와 함께  적절한  방법으로  적절한  재료 를 선택하는  것이  중요합니다.',\n",
              " '강화마루 는 주로  나무 나 플라스틱으로  만들어 진 바닥재로, 특히  내구성 이 뛰어나 고 변색이  적다는  장점이  있습니다. 또한  강화마루 는 설치 나 보수 가 간편하며  사용 할 때에도  편리하다는  점도 장점으로  꼽힙니다. 징 크판넬 의 단점은  다른  징 크에 비해 수명이  짧 은 편이 며 시공 이 잘못될 경우 녹슬 기 쉬우며  하지작업 이 필요한  시간에  따라  공사비용 이 증가할 수 있습니다. 또한  일반적으로  다른  소재 에 비해 유지보수 가 쉽지는  않을 수 있습니다.',\n",
              " '벽 에 타공하자 가 발생했을  때, 이로  인해 벽 장 부위에  결로가  생길 수 있습니다. 따라 서 타공하자 가 발생했을  때에는  벽 장 부위에  발생 한 결로를  방지하기  위해  제습기를  가동하고  환기를  통해 실내 적정 습도를  유지하는  것이  중요합니다. 또한, 전문가 의 도움을  받아  보수  작업 을 진행하는  것이  좋습니다.',\n",
              " '물 누수로  인한  곰팡이와  곰팡 이 냄 새를 제거하는  데 사용 할 수 있는  청소용품으로는  곰팡 이 제거 후에  곰팡 이 방지  페인트를  사용하여  냄 새와 재생장을  방지 할 수 있습니다. 또한, 곰팡 이 방지  페인트를  사용하여  곰팡이의  재생장을  막을  수 있습니다. 곰팡 이 방지  페인트를  사용하는  것은  곰팡 이 방지 에 도움이  됩니다. 따라 서 곰팡 이 방지  페인트를  사용하여  냄 새와 재생장을  방지 할 수 있습니다. 물 누수로  인한  곰팡이와  곰팡 이 냄 새를 제거하는  데 사용 할 수 있는  청소용품으로는  곰팡 이 제거 후에  곰팡 이 방지  페인트를  사용하여  냄 새와 재생장을  방지 할 수 있습니다. 또한, 곰 펫테리어 는 반려동물과의  생활을  고려하여  주거 공간 을 인테리어하는  것을  말합니다. 즉, 반려동물과의  생활을  고려하여  공간 을 꾸 밀 때 반려동물 의 생활 과 건강 을 고려하여  적절한  재료 와 꾸미는  방법 을 선택하는  것이  중요합니다. 이를  통해 반려동물 과 함께보다  즐 적한 공간 을 만들 수 있습니다.',\n",
              " '도배지를  너무  작게 자르면  도배지 끝 부분 에 장력이  크게 작용하여  몰 딩과의  틈 새가 발생 할 수 있습니다. 따라 서 도배지를  자를  때에는  충분한  여유를  가지 고 자르고, 몰 딩과의  사이즈에  맞 는 적절한  크기로  자르는  것이  중요합니다. 만약 틈 새가 발생한다면  다시  잘라서  맞 추는 것이  좋습니다. 고습 환경에서는  도배풀 의 접착력이  떨어져  도배지 패턴이 이어지지  않을 수 있습니다. 습기가  도배지에  스며들거나  습기로  인해 팽 창하고  수축 할 때 패턴이 변할 수 있으며, 이로  인해 도배지 패턴이 이어지지  않을 수 있습니다. 따라 서 습기 관리 가 중요하며, 제습기를  가동하고  환기를  통해 실내 적정 습도를  유지하는  것이  중요합니다.',\n",
              " '알러지가  있는  사람들은  표면이  먼지나  알러지 유발물질 이 적게 축 적되는  매끄럽 고 평평한 벽지를  선택하는  것이  좋습니다. 이는  알러지 유발물질 이 적게 축 적되어  청소 가 용이하고  유지보수 가 간편하기  때문입니다. 또한, 표면이  매끄럽 고 평평한 벽지는  먼지나  알러지 유발물질 이 적게 축 적되어  청소 가 용이하고  유지보수 가 간편한 장점이  있습니다.',\n",
              " '아파트  도배 평수는  일반적으로  아파트 의 분말 소화기 용량 에 2.5를 곱하여  계산합니다. 따라 서 소화기를  사용하는  경우 해당 기준 을 준수하여  안전 한 수분 및 도배풀 의 사용 을 위해  적절한  계산  및 관리 가 필요합니다.',\n",
              " '마감재의  하자 를 판단하는  방법 은 몇  가지 가 있습니다. 먼 저, 설계도에  맞 는 마감재의  하자 를 확인해야  합니다. 마감재의  하자 를 확인하는  방법 은 설계도에  명시된 내용 과 일치 여부뿐만  아니 라, 기능 상, 미관상, 안전상의  문제  여부도 확인해야  합니다. 이외에도  마감재의  하자 를 확인하는  방법으로는  몇  가지  추가적인  방법 이 있습니다. 먼 저, 마감재의  하자 를 확인하기  위해  해당 재료 의 제조 사 권장 문서 를 확인하는  것이  좋습니다. 마감재의  하자 를 확인하는  데 있어  제조사의  권장 문서 를 확인하는  것이  중요합니다. 또한, 마감재의  하자 를 확인하기  위해  해당 재료 의 유해한 폐 기 라돈 은 자연적으로  발생하는  기체 상태 의 방사성 물질 로, 건물 내부에서  발생하는  물질입니다. 공동주택 의 경우, 실내 라돈 을 측 정하기  위해서는  최저층에서  측 정합니다. 또한, 공동주택 의 총 세대수가  100세대 일 때는  3세대 를 측 정하고, 이후  100세대 가 증가할 때마다  1세대씩  추가하여  최대 12세대까지  시료를  채취합니다. 따라 서 라돈 은 건물 내부에서  발생하는  물질 로, 적절한  측정이  필요합니다.',\n",
              " '이산화탄소  소화기는  이산화탄소 (CO2)를 높 은 압력으로  압축  액화한  것이산화탄소  소화기로, B, C급 화재 에 사용됩니다. 이산화탄소  소화기는  물을  뿌리면  안되는  화재 에 사용되며, 냉 각 효과 와 질식 효과 가 있습니다. 따라 서 이산화탄소  소화기는  주로  전기기기, 기름, 페인 트 등에  사용되며, 특히  높 은 압력으로  사용 할 경우 안전 한 운영 이 가능합니다. 분말 소화기는  불연성 고압가스 에 의해 소화약제를  방출하여  불을  질식소화시키는  소화기로, 주로  건물 구조 에 사용됩니다. 이산화탄소  소화기는  탄 산수소  나트륨  분말을  사용하여  불을  질식시키는  것이  특징이며, 고 온에서  사용 할 경우 높 은 온도와  압축  강도가  높 아 안정적인  분말 소화기 구조 를 만들어줍니다.',\n",
              " '면진장치 는 건물의  지반으로부터  오는  진동 에너지 를 흡 수하여  건물에  오는  진력을  최대한  줄여 주는  장치입니다. 이를  통해 건물 내부의  안전 한 환경 을 유지하고, 고장이 나 손상이  발생하는  것을  예방하는  중요한  구성 품으로  볼  수 있습니다. 면진장치 는 건물의  지반과 건물을  분리시키기  위해  면진 장치 를 사용하는  구조 를 말합니다. 이러한 구조 는 지반의 이동 과 변형으로  인해 건물에  손상이  발생하는  것을  최대한  방지하고, 안전성을  확보하는  데 사용됩니다. 또한, 지반의 변형과  건물의  손상을  방지하기  위해  설계  및 시공  기술으로  활용됩니다.',\n",
              " '외단열에  비해 내단열에  비해 단열효과 가 좋을 뿐만  아니 라 건축물의  면적 을 효율적으로  확보할 수 있는  장점이  있습니다. 내단열에  비해 외단열에  비해 건축 물 면적 을 효율적으로  확보할 수 있는  것은  외단열에  비해 가장  큰 장점으로  꼽힙니다. 또한  외단열에  비해 단열효과 가 뛰어나다는  점도 장점으로  꼽힙니다. 따라 서 건축 물 면적 을 효율적으로  확보하고  단열 효과 를 높 일 때 고려해야  할 사항으로  외단열에  비해 내단열에  비해 높 은 성능을 나타내는  경우가  있습니다.',\n",
              " '외단열에  비해 내단열에  비해 높 은 효율 을 가지 고 있습니다. 이는  건물 내부에  단열재를  설치하는  것보다  외부에서  단열재를  사용하는  것이  더 많은  비용 을 들 수 있는  것으로, 전문가 와 상의하여  적절한  방식 을 선택하는  것이  중요합니다. 또한, 외단열에  비해 내단열에  비해 더 많은  비용 이 들어 가 비용  부담 을 줄 수 있는  장점이  있습니다.',\n",
              " '가장  비싼  바닥재는  대리석은  대리석으로  알려져 있습니다. 대리석은  자연스러운  아름다움과  내구성으로  유명하며, 특히  대리석은  고급스러운  분위기 를 연출해줍니다. 따라 서 대리석은  주로  대리석으로  알려져 있습니다.',\n",
              " '포세린  타일은  주로  점토를  사용하여  만든 무광 의 타일을  말합니다. 이러한 타일은  여름에는  따뜻하고  여름 에 시원한 감촉 를 주며 내구성 이 뛰어나 고 바닥  울림이  적은  장점이  있습니다. 하지만  가격 이 다소 비싸 고 충 격 흡 수율이  낮 아 노약자가  있는  집안에 는 적합하지  않을 수 있습니다. 따라 서 건축 자나 리모델링  업체들은  다른  재료 를 고려하는  경우가  많습니다.',\n",
              " '중목구조 는 건물의  틀 과 지지대로  사용되는  건축자재 를 말합니다. 이 구조  방식 은 기중-보 방식 과 유사하지만  구조 용 목재로  큰 각재를  사용하여  건축한다는  것이  차이점으로, 중목구조 는 건물 전체 에 일정한  하중을  전달하면서  내구성 과 안정성을  확보하는  데 사용됩니다. 중목구조 는 건물 내부의  기중 및 지지대로  사용되는  건축자재 를 말합니다. 이 구조  방식 은 기중-보 방식 과 유사하지만  구조 용 목재로  큰 각재를  사용하여  건축한다는  것이  차이점으로, 이는  안정성을  확보하면서도  품질관리 가 가능하여  품질관리 가 용이하게  됩니다. 중목구조 는 건물의  틀 과 지지대로  사용되는  건축자재 를 말합니다. 이 구조  방식 은 철 근콘 크리트  구조 는 콘 크리트 의 압축  강도와  철 근의 인장 강도를  결합하여  구성 된 구조 를 말합니다. 일반적으로  도심에서  많 이 사용되며  내구성, 내화 및 내진 성능이 우수합니다. 그러나  고층  건물의  경우 아래층의  보나 기둥이  상당한  무게를 지탱해야  하므로  구조 의 단면적 이 커져야  하는  문제 가 있습니다. 따라 서 고층  건물을  건설 할 때 이러한 구조 의 적절한  계획 이 마련되어  있으면  안정적인  건물 구조 를 만들 수 있습니다.',\n",
              " '도배풀 은 일반적으로  도배풀 은 도배풀 제 등이  있습니다. 도배풀 은 도배 작업 에 필요한  재료 로, 도배풀 제 등이  있습니다. 따라 서 도배풀 은 도배풀 제 등이  있습니다. 벽 에 구멍 을 막는 방법 은 다양한데 요.  먼 저, 곰팡 이 방지  페인트를  사용하여  곰팡이와  곰팡 이 냄 새를 제거할 수 있습니다. 그 후에 는 곰팡 이 방지  페인트를  사용하여  새로운  곰팡이의  발생 을 막을  수 있습니다. 그 후에 는 벽 에 구멍 을 메우기  위해  합성 먼지나  석고를  사용하여  구멍 을 메우고  필요에 따라  패팅을 적용할 수 있습니다. 이렇게  함으로써  벽 에 구멍 을 보다  효과적으로  가리고  보호 할 수 있습니다.',\n",
              " '외단열에  사용되는  경질우레탄폼  보온판은  경질우레탄폼으로  불연재료 로 분류되며, 건축 물 외벽을  단열재로  감싸주는  재료입니다. 이 재료 는 건물 내부의  온도와  습도를  안정적으로  유지시켜주는  장점이  있습니다. 또한, 외단열에  사용 될 경우 단열재의  부착력이  향상되어  결로나  곰팡 이 발생 을 줄일 수 있습니다. 따라 서 건축 물 외부의  환경 을 개선하고자  하는  경우, 외단열이  효과적인  해결책으로  고려 할 만 합니다.',\n",
              " '질석벽지는  운모계 광석을  1,000도 정도 로 가열하여  나온 결정  조각 을 종이  위에  뿌 려 접착 한 벽지를  말합니다. 질석벽지는  아트 워, 현관 입구 등에  많 이 사용되며, 단열과 결로방지 가 탁 월하며  고급스러운  질감이  특징입니다. 그러나  가격 이 상대적으로  비싸 고 시공  및 유지관리 가 어렵다는  단점이  있습니다. 따라 서 이러한 특징으로  인해 적절한  관리 가 이루어지지  않을 경우 오염 이 생길 수 있고, 꾸 준한 관리 가 필요합니다.',\n",
              " '시트  방수공사 는 건물의  외단열을  통한 에너지  절 감 효과 를 얻 을 수 있는  장점이  있습니다. 또한  옥 상, 지붕, 판넬  지붕  등의  방수용으로  사용되며  내약품성을  갖 고 있는  제품 은 옥 상 녹 화, 옥 상 정원  구조 에 적합합니다. 구조물의  진동, 균 열, 수축, 팽 창이 예상되는  장소에  사용되며  시트  이음매를 접합하여  일체화하는  방식으로  누수가  발생하지  않는 것이  특징입니다.',\n",
              " '내진설계에서  안정성이  높 은 순서는  일반적으로  내진구조, 제진구조, 면진구조  순으로  설명됩니다. 내진구조 는 건물의  전체적으로  안정성이  높 은 구조 를 만들어주는  데 가장  큰 역할을 하므로  내진구조 가 가장  안정적인  구조 로 평가됩니다. 제진구조 는 건물의  지반 부분 에 특수한  시스템 을 도입하여  지진에  대비하는  설계  방식으로, 지진 발생  시 건물의  안정성이  높 은 구조 를 만드는  데 사용됩니다. 마지막으로  면진구조 는 건물의  외벽  등에  직각적인  구조 를 사용하여  지진에  대비하는  설계  방식으로, 안정성이  상대적으로  낮 은 구조입니다. 내진구조 는 지진이  발생했을  때 건물이 나 시설 물 구조물이  안전하게  유지되도록  설계 된 구조 를 말합니다. 내진벽 과 같은  부재를  설치하여  지진에  대비하는  것이  내진구조 의 핵심이 며, 안정성을  높이는  데 큰 역할을 합니다. 따라 서 내진구조 는 지진 대비 를 위해  설계  및 자재  사용 이 증가하는  경우 안정성이  높아지 는 구조 를 말합니다.',\n",
              " '분말 소화기를  사용 할 때 주의 할 점으로 는 다음과  같은  사항 이 있습니다. 먼 저, 압 력계의  눈 금 위치 가 초록색에 있는 지 확인해야  합니다. 또한  받침대를  사용하여  소화기 부식을  방지하고, 한 달에 한 번은 흔들어  분말이  굳 어지지  않도록  주의해야  합니다. 또한  직사광선이 나 고온 다습한 장소에서  보관하거나  사용해서는  안 되며, 사용  후 내부 약제를  완전히  제거해야  합니다. 따라 서 분말 소화기를  사용 할 때에는  이러한 주의사항을  준수하여  안전하게  사용 할 수 있습니다. 분말 소화기를  사용 할 때 주의해야  할 점은  다양한 부분 이 있지 만, 가장  중요한  것은  다음과  같습니다 : 먼 저, 사용자의  취약성을  고려하여  적절한  안전장비 를 착 용해야  합니다. 또한, 분말 소화기를  사용 한 후에 는 받침대를  사용하여  소화기 부식을  방지하고, 한 달에 한 번씩  흔들어  분말 소화기를  흔 들지 않도록  주의해야  합니다. 또한, 직사광선과  고온 다습한 장소를  피하고, 사용  후 내부 약품 을 제거해야  합니다. 이외에도  분말 소화기를  사용 할 때에는  몇  가지  주의 할 점이  있습니다. 먼 저, 사용자의  취약성을  고려하여  적절한  안전장비 를 착 용해야  합니다. 또한, 분말 소',\n",
              " '압 출법 보온판의  장점은  습기에  강하고  곰팡 이 및 세균  증식을  막을  수 있는  것입니다. 또한  단열재 중에서  열전도율이  가장  낮 은 편이 고 시공 이 간편하다는  점도 있습니다. 추가 로 압 출법 보온판은  가볍 고 가공이  간편하여  건축 물 내부의  부식을  방지하는  데 도움이  됩니다.',\n",
              " '평지붕 의 누수 문제를  방지하기  위해서는  몇  가지  주의 할 점이  있습니다. 먼 저, 평지붕 의 수명을  연장하기  위해  정기적인  유지보수 가 필요합니다. 또한, 수성 벽 체용 탄 성 방수 도료를  사용하여  누수를  방지 할 수 있습니다. 마지막으로, 플라스틱  소재 로 만든 지붕 을 선택하여  새로운  누수가  발생하지  않도록  주의해야  합니다. 이러한 주의사항을  준수하여  평지붕 의 누수 문제를  방지 할 수 있습니다.',\n",
              " '석고수정 이 발생하는  가장  큰 원인 은 건물의  구조 적 결함입니다. 구조 적 결함은  건물의  설계  또는  시공  과정에서  발생 한 결함으로, 이로  인해 석고수정 이 발생 할 수 있습니다. 따라 서 건물 구조 적 결함은  석고수정 의 발생 을 예방하는  데 큰 도움이  됩니다. 석고수정 이 발생하는  가장  큰 원인 은 무엇인가요? 석고수정 이 발생하는  가장  큰 이유는  무엇인가요?\\n</질문>',\n",
              " '카페트의  기대수명은  주로  6년이 며, 사용빈 도, 관리정도, 햇빛  노출 정도  등에  따라  달라 질 수 있습니다. 주기적인  청소 와 관리 를 통해 카페트의  수명을  연장할 수 있으며, 특히  햇빛 에 노출될 경우 단축 된 수명을  가지 고 있습니다. 따라 서 주기적인  관리 와 청소 를 통해 카페트의  수명을  최대한  연장할 수 있습니다. 오리 지널징크의  단점은  다른  징 크에 비해 상대적으로  높 은 비용 이 있습니다. 또한  오일 칠 을 주기적으로  해주어야  하며  유지보수 가 어렵다는  점도 있습니다. 추가 로 오리 지널징크는  습기와  물에  노출될 경우 변형될 수 있는  특성이  있습니다.']"
            ]
          },
          "metadata": {},
          "execution_count": 76
        }
      ]
    },
    {
      "cell_type": "code",
      "source": [
        " # I will sleep"
      ],
      "metadata": {
        "id": "gG3FrFftYU6f"
      },
      "execution_count": null,
      "outputs": []
    },
    {
      "cell_type": "code",
      "source": [
        "for idx, question in tqdm(enumerate(test.질문)):\n",
        "    print(question)\n",
        "    print(responses[idx])\n",
        "    print(\"***********\")\n"
      ],
      "metadata": {
        "colab": {
          "base_uri": "https://localhost:8080/"
        },
        "id": "6ttC9Iz9jnGW",
        "outputId": "cf5e5eb1-00a0-4b07-8330-cf5e3c165bc9"
      },
      "execution_count": null,
      "outputs": [
        {
          "output_type": "stream",
          "name": "stderr",
          "text": [
            "130it [00:00, 24938.69it/s]"
          ]
        },
        {
          "output_type": "stream",
          "name": "stdout",
          "text": [
            "방청 페인트의 종류에는 어떤 것들이 있는지 알고 계신가요? 또한, 원목사이딩을 사용하는 것에 어떤 단점이 있을까요?\n",
            "방청 페인트의  종류로는  광 명단페인 트, 방청산화철페인 트, 알미늄페인 트, 역청질페인 트, 워시프라이머, 크롬 산아톤페인 트, 규산염페인 트 등이  있습니다. 이러한 방청 페인 트들은  각자의  특징 과 용도에  따라  선택하여  사용 할 수 있습니다. 원목사 이딩의 단점은  주로  가격대가  상대적으로  높 고 관리 가 어렵다는  점입니다. 또한  습기에  노출될 경우 곰팡이와  변색 등의  변형이  발생 할 수 있어  외관의  변화 가 발생 할 수도  있습니다.\n",
            "***********\n",
            "도배지에 녹은 자국이 발생하는 주된 원인과 그 해결 방법은 무엇인가요?\n",
            "- 원인 : 높 은 습도    - 책임소재 : 건물의  소유자나  거주자 가 습기 관리 에 책임 을 져야  합니다.    - 해결방법 : 제습기를  가동하거나  환기를  통해 실내 적정 습도를  유지하고, 전문가 의 도움을  받아  보수  작업 을 진행해야  합니다.  이러한 조치 를 통해 습기 관리 에 신경써 야 합니다.\n",
            "***********\n",
            "큐블럭의 단점을 알려주세요. 또한, 압출법 단열판을 사용하는 것의 장점은 무엇인가요?\n",
            "큐 블럭 은 일반  벽 돌에 비해 상대적으로  높 은 비용 과 균 열 발생  가능 성, 그리고  탁월한  방음 특성을  가지 고 있습니다. 또한  건축 에 따라  비용 이 증가하고  균 열 발생  가능성이  높다는  점도 단점으로  꼽힙니다. 따라 서 건축 자나 시공업체들은  건축  재료 의 선택 과 함께  추가  비용 과 유지보수 에 대해 충분한  설명 을 제공해야  합니다. 압 출법단열판의  단점은  주로  습기에  강하고  곰팡 이 및 세균  증식을  막을  수 있는  것입니다. 또한  단열재 중에서  열전도율이  가장  낮 은 편이 고 시공 이 간편하다는  점도 있습니다. 추가 로, 압 출법단열판은  가볍 고 가공이  간편하여  건축 물 내부의  부식을  방지하는  데 효과 가 있다 는 점도 있습니다.\n",
            "***********\n",
            "철골구조를 사용하는 고층 건물에서, 단열 효과를 높이기 위한 시공 방법은 무엇이 있을까요?\n",
            "철골구조 를 사용하는  고층  건물에 서 단열 효과 를 높이기  위한  시공  방법 은 다양한데 요. 먼 저, 화재  방지 를 위해  화재  감지 및 화재 진압  장치 를 설치하는  것이  중요합니다. 또한, 화재  대비 를 위해  화재 대피 및 구조 에 대한  교육  및 규제  규정을  준수하고, 화재 의 초기와  대비 를 위한  화재  대피 및 구조 에 대한  규정 및 규규를 준수하는  것이  중요합니다. 또한, 화재로부터  건물을  보호하기  위해  화재  화재  대피 및 구조 에 대한  교육  및 규제  규정을  준수하는  것이  중요합니다. 따라 서 철골구조 를 사용하는  고층  건물에 는 이러한 화재  대비  시스템 을 구축하여  화재로부터  건물을\n",
            "***********\n",
            "도배지의 완전한 건조를 위해 몇 주 동안 기다려야 하나요?\n",
            "도배 후 도배지가  완전히  건조되기까지는  보통  최대 일주일 이 걸릴  수 있습니다. 그러나  건조 과정 의 정확한 시간 은 예상하기  어렵 며, 환경 적 요인에  따라  다를 수 있습니다. 따라 서 제조사의  권장 건조시간을  참고하여  적절한  시간을  두고  완전히  건조한  도배지 상태 를 유지하는  것이  중요합니다.\n",
            "***********\n",
            "철근철골콘크리트 구조가 적용된 건물의 장단점은 무엇인가요?\n",
            "철골콘 크리트  구조 는 콘 크리트 의 압축  강도와  철 근의 인장력을  조합하여  구성 된 구조 를 말합니다. 일반적으로  도심에서  많 이 사용되며  내구성, 내화성, 내진성 등의  장점이  있습니다. 그러나  고층  건물에서는  구조물의  하중을  지탱하기  위해  아래층의  보나 기둥이  상당한  무게를 지탱해야  하므로  구조 의 하중을  고려하여  고층  건물을  건설 할 때 구조물의  하중을  안정 화시키는  데에 유리합니다. 따라 서 고층  건물을  건설 할 때에는  이러한 구조 의 단점을  고려하여  적절한  보강 및 보유 구조 가 필요합니다.\n",
            "***********\n",
            "어떤 상황에 개별 공간이 더 적합한지, 어떤 상황에 오픈 플랜 공간이 더 적합한지 알려주세요. 그리고 합지벽지의 어떤 단점이 있나요?\n",
            "오픈  플랜 은 공간 을 확장시켜  연결감을  높이는  반면, 개별 공간 은 개인  공간 과 프라이 버시를  보장하는  것이  중요합니다. 만약 프라이 버시를  중시하고  조용한 환경 을 중요시한다면  개별 공간 이 더 적합할 수 있습니다. 그러나  활동적이고  소통 을 중시하고  공간 을 확장시키고  연결감을  높이는  것을  중시하는  것을  중시하는  경우 오픈  플랜 이 보다  적합한 선택 지일 수 있습니다. 합지벽지는  종이 를 2장 이상  겹쳐 서 만든 벽지를  말합니다. 평당 3,000원에서  4,000원 정도 의 비용 이 발생합니다. 합지벽지는  내구성 이 약하고  습기와  오염 에 취약하며  변색이  발생 할 수 있습니다. 따라 서 사용  환경이나  관리  정도 에 따라  적합한 재료 를 선택하는  것이  중요합니다.\n",
            "***********\n",
            "도배지 들뜸 현상이 발생하는 가장 일반적인 원인은 무엇인가요?\n",
            "도배지 들뜸  현상이  발생하는  가장  일반적인  원인 은 고습입니다. 고습 환경에서는  도배지의  접착력이  감소하여  벽면에서  떨어질  수 있습니다. 따라 서 건물 내부의  적정 습도를  유지하고  제습기를  가동하여  습기를  제거하는  것이  중요합니다. 또한, 제습기를  사용하여  습기를  제거하는  것이  도움이  될 수 있습니다.\n",
            "***********\n",
            "도배지에 얼룩이 생기는 다양한 원인들에 대해서 자세히 알려주세요.\n",
            "도배지에  생긴  얼룩 은 다양한 원인 에 의해 발생 할 수 있습니다. 얼룩 이 발생하는  주된 원인 과 그에 따른 책임소재  및 해결방법 을 설명드리겠습니다.  1. 공간  내 높 은 습도 원인 : 고습 환경에서  도배지의  표면이  젖으면  다양한 물질 이 흡 수되어  얼룩  형태 로 나타날 수 있습니다. 이 경우 건물의  소유자나  거주자 가 습기 관리 에 책임 을 져야  합니다. 해결 방법 : 제습기를  가동하거나  환기를  통해 실내 적정 습도를  유지하고, 전문가 의 도움을  받아  보수  작업 을 진행해야  합니다.  2. 먼 지 및 연기로  인한  오염  원인 : 도배지 표면에  먼지나  연기 등이  축 적\n",
            "***********\n",
            "고층 건물을 건축할 때 철골구조가 주로 선택되는 이유는 무엇인가요?\n",
            "일반철골구조 는 형강, 강판, 평강 등의  강재를  볼 트나 용접으로  접합하여  조립한 구조 를 말합니다. 일반철골구조 는 강철 로 만들어 진 구조 로, 형강, 강판, 평강 등의  강재를  볼 트나 용접으로  접합하여  조립한 구조 를 말합니다. 이러한 구조 는 강철 의 강도와  내구성 을 이용하여  안정적인  건물 구조 를 만들어  줍니다. 또한  일반철골구조 는 다양한 건물에  적용할 수 있는  유연성을  가지 고 있어  안정적인  건축물을  만드는  데 유용합니다.\n",
            "***********\n",
            "유성페인트의 환경 오염에 대한 예시를 알려주세요.\n",
            "유성페인트의  환경  오염 에 대한  예시로 는 벤젠, 톨 루엔, 자일렌 과 같은  유해물질 이 포함되어  있으며, 이러한 유해물질 은 호흡 기나 피부 등을  통한 체내 유입으로  인해 건강  문제를  유발할 수 있습니다. 또한, 유성페인트의  강한  냄 새가 나타나 는 것이  주변 환경 에 불편을  줄 수 있습니다. 또한, 유성페인트의  건조 시간이  길어 작업  시간이  더 오래 걸릴  수 있으며, 유지보수 가 어렵다는  점도 고려해야  합니다.\n",
            "***********\n",
            "훼손과 오염은 어떻게 다른가요? 또한, 부실 시공으로 인해 타공하자가 발생할 가능성이 있나요?\n",
            "해결 방법 에 따라  결과 가 달라 질 수 있지 만, 일반적으로  해결 방법 에 따라  오염 의 깊이와  분위기 에 따라  결과 가 나타납니다. 일반적으로  해결 방법 에 따라  오염 의 깊이와  분위기 에 따라  결과 가 나타납니다. 따라 서 적절한  방법 을 선택하여  사용하는  것이  중요합니다. 부실 시공으로  인해 타공하자 가 발생 할 수 있습니다. 예를  들어, 적절하지  않은 도구로  작업하거나  타공 부위의  크기를  정확히 측 정하지  않고 작업하면  타공불량이  발생 할 수 있습니다. 따라 서 적합한 도구와  기술을  사용하여  타공작업 을 진행하고, 적절한  크기와  재료 를 사용하여  타공 작업 을 진행하는  것이  중요합니다.\n",
            "***********\n",
            "철골콘크리트 구조에서 사용되는 철근의 재료적 특징은 무엇인가요?\"\n",
            "철골콘 크리트  구조 는 철골 의 강도와  내구성 을 바탕으로  건물의  지지체를  확보하고, 철 근은 인장력을, 콘 크리트 는 압축력을  담당하여  건물의  강성과  튼튼함을  보장합니다. 이러한 구조 는 대규모 의 건물이 나 고층  건물에  적합하며, 화재에도  상대적으로  안전합니다. 또한  내화성과  내진성능이 뛰어나다는  장점이  있습니다. 그러나  시공과정 이 복잡하고  공사  기간 이 길며, 균일한  시공 이 어렵다는  단점이  있습니다.\n",
            "***********\n",
            "방염벽지가 실크벽지와 합지벽지와 다른 점은 무엇인가요?\n",
            "방염벽지는  PVC 코팅을 하고  방염처리 가 된 벽지를  말합니다. 가격 은 평당 10,000원에서  13,000원으로  비싼  편에  속하며, 내구성 이 뛰어나다는  장점이  있습니다. 하지만  시공 이 어렵 고 습기 흡 수성이  강하여  변형될 수 있는  단점이  있습니다. 따라 서 내구성 과 유지보수 가 필요한  경우 방염벽지를  선택 할 때에는  이러한 특징 을 고려해야  합니다.\n",
            "***********\n",
            "도배지에 곰팡이가 생겼을 때 높은 습도가 원인인 경우, 습기 관리는 어떻게 해야 할까요?\"\n",
            "도배지에  곰팡이가  생기면 미관상 좋지 않을 뿐  아니 라 건강  문제 의 원인 이 될 수 있습니다. 따라 서 곰팡 이 방지 를 위해서는  먼 저 곰팡이가  생기는  주된 원인 을 제거해야  합니다. 곰팡 이 방지 를 위해  제습기를  사용하거나  실내 환기를  통해 적절한  습도를  유지하는  것이  중요합니다. 또한, 누수가  발생하여  도배지가  젖 은 상태 가 오래 지속되면  곰팡이가  생길 수 있으니  주의해야  합니다.\n",
            "***********\n",
            "롱브릭타일은 어떤 종류의 타일인가요? 그리고 페인트 상도재의 역할과 사용 방법에 대해 알려주세요.\n",
            "롱 브릭타일은  일반  시멘트벽 돌과는  다르게  더 긴  모양의  타일 형태 로 와이 드 벽돌이라고도  불리며, 노출 콘 크리트 와 비슷 한 분위기 를 연출할 수 있습니다. 이러한 특징으로  인해 건축물의  외관을  아름답게  만들 뿐만  아니 라, 내구성 이 뛰어나 고 유지보수 가 간편하며  친환경적인  재료 로 인정받고  있습니다. 롱 브릭타일은  주로  실내 벽면에  사용되는  페인트로, 특히  내구성 이 뛰어나 고 변색이  적다는  장점이  있습니다. 또한  유지보수 가 간편하고  친환경적인  재료 로 인정받고  있습니다. 롱 브릭타일은  실내 벽면에  사용되는  페인트로, 특히  내구성 이 뛰어나 고 변색이  적다는  장점이  있습니다. 또한  친환경적인  재료 로 제작되어  환경에도  더욱  친숙합니다. 롱 브릭타일은  실내 벽면에  사용되는  페인트로, 특히  내구성 이 뛰어나 고 변색이  적다는  장점이  있습니다. 또한  친환경적인  재료 로 제작되어  환경에도  더 친숙합니다. 롱 브릭타일은  실내 벽면에  사용되는  페인트로, 특히  내구성 이 뛰어나 고 변색이  적다는  장점이  있습니다. 또한  친환경적인\n",
            "***********\n",
            "준불연재료는 무엇인가요? 그리고 유성페인트를 사용하는 것에 대한 부작용이 있을까요?\n",
            "준불연재료란  불이  붙 지 않고 무기 화되거나  무료하면서  사용되는  소재 를 말합니다. 주로  콘 크리트, 금속, 유리  등과 같은  소재 가 준불연재료 로 분류됩니다. 이러한 소재 는 불에 저항성을  가지 고 있어  건물 구조물이 나 인테리어  자재  등에  사용 될 때 안전 한 환경 을 유지하는  데 큰 역할을 합니다. 유성페인트의  단점은  주로  벤젠, 톨 루엔, 자일렌 과 같은  유해물질 을 포함하고  있는  것으로  알려져 있습니다. 또한, 유성페인트는  강한  냄 새가 나며 건조 과정 이 길어 작업  시간이  오래 걸릴  수 있습니다. 또한  유성페인트는  환경  오염 을 일으킬  수 있고  유지보수 가 어렵다는  단점이  있습니다.\n",
            "***********\n",
            "어떤 환경 요인이 몰딩 수정을 유발할 수 있는가요? 그리고 반점이 생긴지 1년 이내인 하자에 대해 어떤 보수작업을 해야 하나요?\n",
            "몰 딩 수정 은 벽면과  몰 딩 사이 에 이격이  있는  것을  의미합니다. 몰 딩과 부속품의 파손 도 발생 할 수 있습니다. 몰 딩 수정 이 발생하는  주된 원인 과 책임소재, 그리고  이를  해결하는  방법 에 대해 설명드리겠습니다.  1. 환경  요인 원인 : 몰 딩이 햇빛, 습기, 화학물질  또는  다른  외부요인에  노출될 때 수정 이 발생 할 수 있습니다. 책임소재 : 건물의  소유자나  거주자 가 책임 을 져야  합니다. 해결 방법 : 주로  몰 딩을 교체하거나  수정 을 전문으로  하는  전문가에게  도움을  받는  것이  좋습니다.  2. 내구성  원인 : 몰 딩 재료  자체의  내구성 이 낮 은 경우 변형될 수 있습니다. 반점이  생긴 지 1년 이상 된 하자 를 보수하려면  벽지를  재시공해야  합니다. 반점이  생긴 지 1년 이상 된 하자 는 벽 지 속지 내부에  주사기 를 사용하여  아세톤 을 함침하여  반점을  제거할 수 있지 만, 반점이  제거되지  않는다 면 벽지를  재시공해야  합니다. 반점이  생긴 지 1년 이상 된 하자 를 보수하려면  벽지를  재시공해야  합니다. 반점이  생긴 지 1년 이상 된 하자 는 벽 지 속지 내부에  주사기 를 사용하여  아세톤 을 함침하여  반점을  제거할 수 있지 만, 반점이  제거지지  않는다 면 벽지를  재시공해야  합니다. 따라 서 전문가 의 도움을  받는  것이  좋습니다.\n",
            "***********\n",
            "벽에 뚫린 구멍이 이상하다고 하셨는데, 타공 불량이 발생하는 원인과 그 해결 방법에 대해 자세히 설명해주실 수 있을까요?\"\n",
            "벽에 뚫린  구멍 이 이상하다고  하셨는데, 타공 불량이  발생하는  원인 과 그 해결 방법 에 대해 설명드리겠습니다. 먼 저, 벽 에 뚫린  구멍 은 타공 불량으로  인해 발생하는  경우가  있습니다. 타공 불량이  발생하는  원인 은 주로  벽 의 표면이  부식되어  있는  경우에  있습니다. 또한, 벽 의 부식이  발생 할 경우 타공 불량이  발생 할 수 있습니다. 따라 서 벽 의 상태 를 정기적으로  관리하고  보수하는  것이  중요합니다. 만약 타공 불량이  발생한다면  전문가 의 도움을  받아  벽의 보수  및 관리하는  것이  좋습니다. 벽 에 뚫린  구멍 이 이상하다고  하셨는데, 타공 불량이  발생하는  원인 과 그 해결 방법 에 대\n",
            "***********\n",
            "다이닝 룸을 더 고급스럽게 꾸밀려면 어떻게 해야 하나요와 아레카 야자를 키우면 어떤 이점이 있는지의 관계는 무엇인가요?\n",
            "다이닝  룸 을 더 고급스럽게  만들기  위해서는  대형 식탁, 고풍스러운  의자뿐만  아니 라 전통적인  조명, 고풍스러운  아트워크, 그리고  자연 적 소재 를 활용해야  합니다. 또한, 조명과  인테리어  소품을  조화롭게  선택하여  분위기 를 변화시킬  수 있습니다. 마지막으로, 알려드린  대로, 다이닝  룸 은 식탁 을 이용 한 손님을  고려하여  설계  및 배치 작업 을 진행해야  합니다.\n",
            "***********\n",
            "습도가 높아서 석고수정이 발생하나요? 또한, 피스 하자가 무엇인지 자세히 설명해 주실 수 있나요?\n",
            "습도가  높으면  석고수정 이 발생 할 수 있습니다. 이는  석고보드 나 도배 등에  변형이  발생하는  것을  의미합니다. 따라 서 적정한  습도 관리 가 필요하며, 습기가  제거되지  않은 경우 변형이  더 자주 발생 할 수 있습니다. 따라 서 적절한  습도 관리 가 필요하며, 습기가  제거되지  않은 경우 변형을  방지하기  위해  제습기를  사용하는  것이  도움이  될 것입니다. 습도가  높으면  석고수정 이 발생 할 뿐만  아니 라 피스  하자 도 발생 할 수 있습니다. 이로  인해 석고보드 나 도배 등의  석고제품  불량이  발생 할 수 있으며, 이로  인해 석고보드  및 도배 불량이  발생 할 수도  있습니다. 따라 서 적정한  습도 관리 가 필요하며, 습기가  충 분히 배출되지  않은 경우에 도 석고수정 이 발생 할 수 있습니다.\n",
            "***********\n",
            "공동주택의 실내 공기질을 측정할 때, 어떤 층에서 샘플을 채취하는 것이 가장 적절한가요?\"\n",
            "새집증후군이란  새로 지어 진 집에  입주했을  때 이러한 증상이  나타나 는 것을  의미합니다. 새집증후군 은 새로 지어 진 집에  입주했을  때 공기질 측정이  이루어진  것이  아니 라, 실내공기질공정시험기준 에 따라  100세대  당 3개 세대 (저층, 중층, 고층 부)를 기본으로  채취합니다. 또한, 100세대 가 증가할 때마다  1세대씩  추가하여  최대 20세대까지  시료를  채취하게  됩니다. 이때, 고층 부, 중층 부, 그리고  저층 부 순으로  추가하게  됩니다.\n",
            "***********\n",
            "타일 바닥에서 파손된 타일을 교체하는 과정에 어떤 단계가 포함되나요? 또한, 겨울에 도배를 할 때 특별히 신경써야 할 사항이 있을까요?\n",
            "타일 바닥에서  파손 된 타일을  교체하는  방법 은 다음과  같습니다. 먼 저, 손 상된 타일을  완전히  제거합니다. 그 후에  새 타일을  설치하기  전에  바닥 의 표면을  완전히  청소하고  균 일하게  만든 후 새로운  타일을  설치하기  전에  접착제와  못을 사용하여  꼼꼼 히 밀착 시킵니다. 새로 교체한 타일을  완전히  건조하고  밀착 된 후 다시  사용 할 수 있습니다. 겨울철  도배 작업 을 고려하신다면  몇  가지  주의 할 점이  있습니다. 먼 저, 실내 온도를  적절 히 유지하여  도배풀 이 얼어버지는  것을  방지해야  합니다. 또한, 고열에  노출 최소화하고, 마지막으로  성급한 환기 자체를  최소화하는  것이  중요합니다. 이러한 주의사항을  준수하여  도배 작업 을 진행하시면  보다  깔끔 한 결과 를 얻 을 수 있을  것입니다.\n",
            "***********\n",
            "유성페인트를 사용하는 것에 대한 부작용이 있을까요? 또한, 페인트가 남으면 어디에 보관하는 게 좋을까요?\n",
            "유성페인트를  사용하는  것의 주요 단점은  다음과  같습니다. 1. 유해성: 유성페인트는  벤젠, 톨 루엔, 자일렌 과 같은  유해물질 을 포함하여  장기 간 노출될 경우 심각한 건강  문제를  유발할 수 있습니다. 2. 냄 새: 유성페인트는  강한  냄 새를 가지 고 있어  작업 자뿐만  아니 라 주변 사람들에게 도 불쾌함을  줄 수 있습니다. 3. 건조 시간 : 유성페인트는  건조 시간이  길어 작업  시간이  더 오래 걸릴  수 있습니다. 4. 환경  오염 : 유성페인트는  환경  오염 을 유발할 수 있습니다. 유성페인트의  성분 중 일부는  대기  중에  방출되면  미세먼지나  오존 등의  오염물질 을 생성할 수 페인 트 처리방법 은 남은 페인트의  양에 따라  다릅니다. 남은 페인트의  양에 따라  처리  방법 을 결정하는  것이  중요합니다. 만약 남은 페인트의  양이  적다면  신문이나  헌  옷 에 적신 다음 종량제 봉투 에 버리 는 것이  가능합니다. 6ml이상  100kg 미만일 경우 페기물 수탁업체 를 통해 처리해야  하며, 100kg 이상이라면  구청  환경과에  신고해야  합니다. 따라 서 페인트를  처리 할 때에는  해당 지역의  규정과  법률 을 준수하는  것이  중요합니다.\n",
            "***********\n",
            "가장 비싼 바닥재는 어떤 종류인가요? 또한, 유광 자기질 타일은 얼마나 오랫동안 사용할 수 있을까요?\n",
            "가장  비싼  바닥재는  대리석은  대리석으로  알려져 있습니다. 대리석은  자연스러운  아름다움과  내구성으로  유명하며, 특히  대리석은  고급스러운  분위기 를 연출해줍니다. 따라 서 대리석은  주로  대리석으로  알려져 있습니다. 유광  자기 질 타일은  일반적으로  50년 정도 의 기대수명을  가지 고 있습니다. 이는  적절한  관리 와 유지보수 가 이루어진  상태에서의  기대수명으로, 사용빈 도, 관리정도, 청소  주기  등 사용  환경 과 관리 에 따라  달라 질 수 있습니다. 따라 서 적절한  관리 와 청소 를 통해 수명을  최대한  유지 할 수 있습니다.\n",
            "***********\n",
            "풍수지리를 활용하여 집을 꾸밀 때 어떤 주의사항을 고려해야 할까요? 그리고 스탠드조명을 선택할 때 주의할 점이 있을까요?\n",
            "풍수지리를  활용하여  집을  꾸 밀 때에는  몇  가지  주의해야  할 점이  있습니다. 먼 저, 집의 위치 와 방향 은 중요한 데, 집의 위치 는 에너지 를 수 있는  방향 을 선정하고, 방향 은 에너지 의 흐름을  효율적으로  만들어  줍니다. 또한, 가구 의 배치 역시 에너지  효율 에 영향을  주는 데, 방해되지  않고 에너지 가 잘 흐 를 수 있는  방향 을 선정하는  것이  좋습니다. 마지막으로, 집의 특정 영역에  어두운 색상을  사용하거나  과용하는  것은  피부 건강 에 해로울 수 있으니  주의가  필요합니다. 스탠 드 조명은  이동 이 가능한  조명으로, 필요에 따라  위치 를 변경 할 수 있는  것이  특징입니다. 또한, 소품의 역할도 하면서  동시에  조명의  역할을 하는데, 다양한 디자인으로  구성되어  있어  공간 에 어울리는  디자인 을 선택 할 수 있습니다. 그러나  작은  공간에는  부적합하며, 불안정하게  설치 할 경우 파손 의 위험 이 있다 는 단점이  있습니다.\n",
            "***********\n",
            "반점이 1년 이상 생긴 하자를 보수하는 방법은 무엇인가요? 그리고 불량 도배지를 사용할 경우 도배지가 얼마나 오랫동안 버틸까요?\n",
            "반점이  1년 이상 된 하자 를 보수하는  방법 은 벽지를  재시공해야  합니다. 반점이  생긴 지 1년 이상 된 하자 를 보수하는  방법으로는  벽지를  재시공하는  것이  가장  효과적입니다. 반점이  생긴 지 1년 이상 된 하자 를 보수하는  것은  전문가 의 도움을  받는  것이  좋습니다. 반점이  1년 이상  생긴  하자 를 보수하는  방법 은 다음과  같습니다. 먼 저, 반점이  생긴  부분 을 부분적으로  벽 지 제거한 후 새로운  도배 작업 을 진행해야  합니다. 이때 전문가 의 도움을  받는  것이  좋습니다. 반점이  1년 이상  존재한 경우 벽 지 속지 내부에  주사기 를 사용하여  아세톤 을 함침  후 100회 반복적으로  적용하고  20~30분 동안  반점을  제거한 후 벽지를  교체해야  합니다. 이때 전문가 의 도움을  받는  것이  좋습니다. 반점이  1년 이상  존재한 경우 벽지를  벽 지 제거한 후 벽지를  교체해야  합니다. 반점이  1년 이상  존재한 경우 벽 지 속지 내부에\n",
            "***********\n",
            "평지붕의 단점은 무엇인가요? 그리고 실크벽지의 교체 주기는 얼마나인가요?\n",
            "평지붕 의 단점은  주로  에너지  손실이  크고, 단열 및 방수를  위한  시공비가  많 이 들며 누수의  위험 이 있습니다. 또한, 다른  지붕 재보다  수명이  짧 은 편이라는  단점이  있습니다. 따라 서 건축 자 및 시공  업체들은  이러한 단점을  고려하여  적절한  관리 와 정기적인  유지보수 가 필요합니다. 실크벽지의  교체 주기 는 주로  5년에서  7년 사이입니다. 그러나  사용빈 도, 관리정도, 청소  방식  등 사용  환경 과 관리  상태 에 따라  다를 수 있습니다. 따라 서 실제로 는 벽지의  상태 와 사용빈 도 등을  고려하여  적절한  주기 를 설정하는  것이  좋습니다.\n",
            "***********\n",
            "경량철골구조는 어떤 건물에 사용되는 건축 구조물인가요? 그리고 철골구조의 장점은 무엇인가요?\n",
            "경량철골구조 는 건물의  벽, 슬 래브(SLAB), 보 등의  재료 를 철골 로 제작하는  구조 를 말합니다. 일반철골구조 와 비교하여  비용 이 적게 들고  가볍다는  것이  장점이지만  수평방향 의 외력에  대하여  취약하고  단일 벽 체면으로  쌓 을 수 있는  수평, 수직적인  한계가  있습니다. 이러한 경량철골구조 는 고층  건물에 는 적합하지  않을 수 있습니다. 철골구조 는 건물의  하중을  효율적으로  지탱 할 수 있는  방법  중 하나 로, 수평의 형강으로  횡력을  받아들어  하중을  지탱하고, 수직의 강철  기둥으로  하중을  지지하는  구조 를 말합니다. 또한, 외벽재는  내장재와 외장재 등 커튼벽  형식으로  장착되어  안정성을  높 일 수 있습니다. 이러한 구조 는 건물 내부의  공간 을 유연하게  활용할 수 있는  장점이  있습니다.\n",
            "***********\n",
            "프리케스트 콘크리트 구조에 대해 자세히 설명해 주실 수 있나요? 그리고 조적식 구조란 무엇인가요?\n",
            "프리케콘 크리트  구조 는 건축 을 보다  신속하게  건설하고  품질 을 관리 할 수 있는  방식으로, 현재  건축산업에서  높 은 인기를  끌 고 있습니다. 프리케콘 크리트  구조 는 건축 을 보다  신속하게  건설하고  품질 을 관리 할 수 있는  방식으로, 현재  건축산업에서  높 은 인기를  끌 고 있습니다. 프리케콘 크리트  구조 는 건축자재 를 공장에서  미리 제작하여  현장에서  조립하는  공법 방식으로, 품질관리 와 대량생산 이 가능하여  품질관리 가 용이하고  원가절감이  가능합니다. 또한, 현장에서의  작업량을  효율적으로  조절 할 수 있는  장점이  있습니다. 프리케콘콘 크리트  구조 는 건축자재 를 공장에서  미리 제작하여  현장에서  조립하는  공법입니다. 프리 프리케스트콘 크리트  구조 는 벽돌이 나 콘 크리트  블록 을 모르타 르로 쌓 아 만드는  구조 를 말합니다. 주택 과 같은  소규모  건물에  주로  사용되며  내습, 내구성, 내화구조로서  안전성이  뛰어나 고 경제적이라는  장점이  있습니다. 그러나  수평한 외력에  상대적으로  취약하며  단일 벽체로 는 수평 및 수직적 제한 이 있을  수 있습니다.\n",
            "***********\n",
            "반려동물을 위한 가구로 낮은 높이의 가구와 패브릭 소재의 가구가 선택되는 이유는 무엇인가요?\n",
            "반려동물들을  위한  가구로는  낮 은 높이의  가구 나 계단을  사용하여  반려동물들의  목과 관절 을 보호 할 수 있습니다. 또한, 패브릭 소재 의 가구 는 세탁 이 용이하고  스크 래치가  적어 유지보수 가 간편하며  반려동물들의  건강 을 고려 한 가구로도  선택 할 수 있습니다. 이외에도  반려동물들을  위한  가구로는  간이  계단, 스크 래치 패드, 놀이  기구  등 다양한 제품 이 있으며, 이 중 적절한  제품 을 선택하여  반려동물 과 함께보다  즐 길 수 있는  공간 을 만들 수 있습니다.\n",
            "***********\n",
            "몰딩 수정을 예방하기 위해 건물 내부에서 어떤 종류의 환경 관리가 필요한가요?\n",
            "몰 딩 수정 을 방지하기  위해서는  몇  가지  주의 할 점이  있습니다. 먼 저, 실내 습기를  관리하고  적정한  환기 시스템 을 사용하여  습기를  제거하는  것이  중요합니다. 또한, 몰 딩을 교체하거나  수리하여  새로운  몰 딩 소재 로 변경하는  것이  도움이  될 수 있습니다. 이때에는  전문가 의 도움을  받는  것이  좋습니다.\n",
            "***********\n",
            "KMEW 세라믹 지붕재의 단점에 대해 알려주세요. 또한, 세라믹 타일을 사용할 때 고려해야 할 단점은 무엇인가요?\n",
            "KMEW 세라믹  지붕재는  산화 티타늄  처리 를 통해 정전기 가 발생하지  않아 이물질 이 흡착되지  않는 것 외에도  유지관리  비용 이 거의 들지 않고 우풍이 나 지진에  강하다는  장점이  있습니다. 또한  세라믹  재료 로 제작되어  내구성 이 뛰어나 고 미적인  면에서 도 뛰어나다는  점도 있습니다. 세라믹사이 딩의 단점은  주로  일본에서  수입된다는  점으로  인해 자재비가  상대적으로  높다는  것입니다. 또한  일정 기간 이 지나 면 색상이  바래거나  변색될 수 있는  경향이 있어  외관의  변화 가 발생 할 수도  있습니다. 또한  일정 기간 이 지나 면 세라믹사이 딩의 표면이  상할 경우 오염 이 발생하여  미관을  손 상시킬  수 있습니다. 따라 서 세라믹사이 딩을 선택 할 때에는  이러한 단점을  고려하여  적절한  관리 와 정기적인  유지보수 가 필요합니다.\n",
            "***********\n",
            "줄퍼티 마감은 무엇인가요? 또한, 액체방수공사는 무엇을 하는 것인가요?\n",
            "줄퍼티 마감은  줄퍼티 마감 후 면 전체 의 평활도와  질감을  맞춰주기  위해  전체적으로  퍼티 작업 을 하는  것을  의미합니다. 이 과정에서  면의  평활도 뿐만  아니 라 질감이  일정하게  유지되어  고급스러운  마감을  구현할 수 있습니다. 그러나  이 과정 은 비용 이 상대적으로  많 이 소요되며, 주로  주거공간에서  사용되는  경우가  있습니다. 액체방수공사 는 건물의  콘 크리트 나 모르타 르 표면에  액체 형태 의 방수제를  도포하거나  침투시키는  것이  말합니다. 이를  통해 건물 내부의  수증기와  물을  방지하여  건물 내구성 과 유지보수 를 위해  매우 중요한  작업입니다. 또한, 액체방수공사 는 건물 내부의  공간 에 발생하는  결로와  곰팡 이 등을  방지하는  데 도움이  됩니다.\n",
            "***********\n",
            "페인트 하도재 없이 페인트를 바로 칠할 경우 어떤 문제가 발생할 수 있나요?\n",
            "페인 트 하도재 없이  페인트를  칠하는  것은  어려운 작업이며, 특히  적절한  마감 방법으로  만지 않을 경우 페인 트 표면이  쭈 글하게  울기에  쉬 운 경우가  있습니다. 따라 서 적절한  하도재 없이  페인트를  칠하는  것은  권장되지  않습니다.\n",
            "***********\n",
            "바닥재가 남으면 어떻게 처리하는 게 좋을까요? 그리고 장판이 남을 때 어떻게 처리해야 하나요?\n",
            "바닥재가  남은 경우 일반적으로  특수규격 봉투 (불연성 폐 기물 마대)에 넣어서  배출하는  것이  좋습니다. 하지만  특규규격 봉투를  구하기  어려운 경우 지역의  구청이나  주민센터에서  처리 할 수 있는  경우도 있습니다. 따라 서 바닥재가  남은 경우 지역의  환경규제  및 규정에  따라  처리하는  것이  좋습니다. 바닥재의  상태 와 크기에  따라  처리  비용 이 다를 수 있습니다. 따라 서 정확한 크기와  처리  비용 을 확인하기  위해서는  생활폐 기물 스티 커를 구매하는  것이  좋습니다. 생활폐 기물 스티커는  생활폐 기물 관리 규정에  따라  처리  비용 을 정확히 알고 있습니다.\n",
            "***********\n",
            "도배지에 생긴 반점을 없애기 위해 가장 효과적인 방법은 무엇인가요?\n",
            "반점을  제거하기  위해서는  다음과  같은  방법들을  시도해볼  수 있습니다.  1. 반점 위에  바인더나 수성프라이머 를 도포하여  코팅한 후 다시  도배 장점: 비교 적 간단한 해결 방법으로  바로  수정 이 가능합니다. 단점: 재발의  위험 이 있을  수 있으며, 코팅 과정에서  냄 새가 발생 할 수 있습니다.  2. 반점이  생긴  도배지 부분 을 부분적으로  잘라내고, 새로운  도배 장점: 가장  근본적인  해결 방법으로  반점이  재발할 가능성이  낮아지 는 가장  효과적인  방법입니다. 단점: 시간 과 비용 이 많 이 소요되며, 교체 작업  중에  먼지가  많 이 발생 할 수 있습니다.  3. 벽 지 전체 를 잘라내고\n",
            "***********\n",
            "새집증후군의 주요 원인은 무엇인가요?\n",
            "새집증후군 은 새로 지어 진 집에  입주했을  때 이전에  없던  이상  증상이  나타나 는 증상을  의미합니다. 새집증후군 의 원인으로는  휘 발성 화학물질 에 의한 것이  가장  흔 한 것으로, 대표적인  물질로는  포름알데히드가  있습니다. 포름알데히드는  주로  방부제나 접착제의  원료로 사용되며, 증상의  주된 원인 이 됩니다.\n",
            "***********\n",
            "방청도료 도장 작업을 위해 필요한 단계는 무엇인가요? 또한, 콘크리트 벽에 구멍을 뚫는 방법에는 어떤 도구나 기술을 사용해야 하나요?\n",
            "방청도료 도장 작업 은 다음과  같은  단계 를 거쳐 야 합니다. 1. 피도면 정리  2. 방청도료 도장 3. 상도작업  순으로  진행해야  합니다. 콘 크리트 에 구멍 을 뚫 기 위해서는  먼 저 콘 크리트  구멍 에 맞 는 도구를  선택해야  합니다. 작은  구멍 의 경우 햄머드릴이나  모음드릴 을 사용 할 수 있고, 대형 구멍 은 코어드릴 을 사용하는  것이  효과적입니다. 또한, 콘 크리트  구멍 을 뚫 기 전에 는 콘 크리트  구멍 을 뚫 기 전에  안전장비 를 착 용하고  전문가 의 도움을  받는  것이  좋습니다.\n",
            "***********\n",
            "어떤 종류의 실내 식물을 선택해야 식물을 효과적으로 가꾸는 데 도움이 될까요? 그리고 인테리어에 가장 많이 사용되는 도배재료는 무엇인가요?\n",
            "실내 식물 을 효과적으로  가꾸려면  먼 저 적절한  종을  선택해야  합니다. 공기 정화식물 은 대부분의  실내 공간에서  잘 자르며, 간단한 관리  플랜 트 또한  바쁜  사람들에게  적합합니다. 또한, 조명과  습도에  맞 는 식물 을 선택하여  적절한  관리 를 할 경우 효과적으로  실내 식물 을 가꾸 실 수 있습니다. 현재  가장  인기 있는  도배재료로는  실크벽지가  많 이 사용되고  있습니다. 실크벽지는  다양한 패턴과 색상으로  다양한 디자인 을 구현할 뿐만  아니 라 내구성 이 뛰어나 고 유지보수 가 쉽다는  장점이  있습니다. 또한  실크벽지는  고급스러운  느낌 을 주며, 특히  조명의  변화 에 따라  독특한 광 택을 더해주는  등 공간 의 분위기 를 변화시키는  효과 가 있습니다. 따라 서 실크벽지는  인테리어 에 널 리 사용되고  있습니다.\n",
            "***********\n",
            "원목마루와 롱브릭타일에 대해 설명해주세요. 각각의 단점과 특징은 무엇인가요?\n",
            "원목마루 와 롱 브릭타일은  각각의 특성에  따라  다른  느낌 을 줍니다. 원목마루 는 고급스러운  분위기 를 연출해 주며, 청결하고  정돈 된 분위기 를 유지 할 수 있습니다. 반면 롱 브릭타일은  편안하고  아늑 한 느낌 을 연출해 주며, 편한하게  보관하고  사용 할 수 있는  것이  특징입니다. 따라 서 원목마루 는 청결하고  정돈 된 분위기 를 선호하거나  고급스러운  느낌 을 강조하고  싶 을 때 적합하며, 롱 브릭타일은  편안하고  아늑 한 느낌 을 원할 때나 보관 및 사용 이 편리하다는  장점이  있습니다. 원목마루 와 롱 브릭타일은  각각의 단점과  특징 이 다르기  때문에  선택 할 때에는  이러한 요소들을  고려해야  합니다. 원목마루 는 고급스러운  느낌 을 주며 청결하고  유지보수 가 간편한 것이  장점이 며, 고급 바닥재로  인정받고  있습니다. 반면 롱 브릭타일은  내구성 이 뛰어나 고 변색이  적다는  장점이  있습니다. 따라 서 원목마루 와 롱 브릭타일은  각자의  특성에  따라  선택 할 수 있습니다.\n",
            "***********\n",
            "침실을 더 아늑하게 꾸밀 수 있는 방법에는 어떤 것이 있을까요와 아이가 있는 집을 꾸밀 때 안전을 위해 고려해야 할 요소는 무엇인가요의 관계는 무엇인가요?\n",
            "침실을  더 아늑하게  만들기  위해서는  몇  가지  간단한 아이디어 를 활용할 수 있습니다. 먼 저, 밝 은 컬러의  벽지와  소품을  선택하여  분위기 를 조성하고, 아기자 기한 소품들로  방을  꾸 밀 수 있습니다. 또한, 아기자 기한 소품들로  방을  꾸 밀 경우에 도 안전 을 위해  적절한  재료 를 선택하는  것이  중요합니다. 마지막으로, 아기자 기한 소품들로  방을  꾸 밀 경우에 도 안전 을 위해  적절한  재료 를 선택하는  것이  좋습니다.\n",
            "***********\n",
            "인테리어에서 컬러매치를 위한 효과적인 팁이 있을까요? 그리고 복도나 협소한 공간을 확장시키기 위해 가장 효과적인 방법이 무엇일까요?\n",
            "컬 러매치 를 위해서는  주요 색상과  보조  색상을  조합하여  대비 와 조화를  이루는  것이  중요합니다. 또한, 색의  밝기와  채광  정도 를 고려하여  조화로 운 컬러를  선택하는  것이  좋습니다. 또한, 공간 의 크기와  채광  상태 를 고려하여  밝 은 공간 은 밝 은 톤의  컬러를, 어두운 공간 은 어두운 톤의  컬러를  선택하는  것이  좋습니다. 따라 서 컬 러매치 를 위해서는  이러한 요소를  고려하여  적절한  컬러를  선택하는  것이  중요합니다. 협소한  공간 을 확장시키기  위해서는  몇  가지  간단한 요령을  활용할 수 있습니다. 먼 저, 큰 거울을 설치하여  공간 을 시각적으로  확장시킬  수 있습니다. 또한, 밝 은 컬러의  벽지나  페인트를  사용하여  쾌 한 분위기 를 조성할 수 있습니다. 마지막으로, 슬림 한 디자인 의 가구 를 선택하여  적은  공간 을 차지하면서도  기능적인  면에서  충분한  효과 를 낼  수 있습니다. 이러한 방법들을  조합하여  협소한  공간 을 더 넓 어 보이 게 만들 수 있습니다.\n",
            "***********\n",
            "그라스울 보온판의 주요 장점 중 하나인 흡음 성능은 어떻게 발휘될까요?\"\n",
            "그라 스울 보온판은  유리섬유 에 폴리 우레탄  필름으로  래핑하여  만든 건축 용 단열흠 음재입니다. 이 제품 은 인슐레이션  또는  단열재로  불립니다. 유리섬유 의 각 섬유 는 공기를  포함하여  음을  흡 수할 수 있는  기공 역할을 하므로  흡 음성능이 우수하여  흡 음성능을 요구하는  세대 간 경계벽체에  많 이 사용됩니다. 상대적으로  가격 이 저렴하고  변형이  쉬 워 목구조 에 적용되며, 불연재료 로 사용되며  화재  시 유독가스  등을  발생시키지  않습니다. 그러나  수분흡 수성이  강해 열성능이 떨어지고  단열재가  쳐지는  현상이  발생하므로  통기와  방수처리 가 필요합니다. 글라 스울의 상태유지  한계온도는\n",
            "***********\n",
            "미네랄울 보온판은 왜 고속 회전원심공법으로 제조되는 건가요?\"\n",
            "미네랄 울 보온판은  규산 칼슘계의  광석을  고온으로  용융시켜  만든 순수 무기 질 섬유 로, 고온부위나 내화 및 내열 목적으로  사용되는  보온재입니다. 이러한 보온판은  내구성 과 조직력이  뛰어나 고 변질 걱 정 없이  반영구적으로  사용 할 수 있는  장점이  있습니다. 또한  미네랄 울 보온판은  고온 환경에서  사용 할 때 안정적으로  유지 된 구조 를 유지 할 뿐만  아니 라 내화성, 내수성, 내진성이  우수하여  변질 걱 정 없이  오랜 기간  사용 할 수 있는  장점이  있습니다.\n",
            "***********\n",
            "도배 후 필름 시공은 어떤 경우에 추천하시나요? 또한, 낡은 목재 가구의 흠집을 숨기는 방법을 알려주세요.\n",
            "일반적으로  도배 후 필름을  시공하는  것이  일반적으로  권장됩니다. 도배 후 필름을  시공하는  것은  벽 지 위에  붙 은 필름의 부착력이  도배지로  인해 떨어질  수 있으며, 미관상의  호불호가  갈리기  때문에  실리콘으로  마무리하여  필름을  시공하는  것이  좋습니다. 따라 서 도배 후 필름을  시공하는  것이  일반적인  방법으로  권장됩니다. 도배 후 필름 시공 은 어떤  효과 를 가져다 줄까요? 낡 은 목재 가구 의 흠집을  어떻 게 숨 일 수 있을까요?\n",
            "***********\n",
            "입구나 복도의 표면에 사용하기 적합한 페인트 종류는 무엇이며, 이 공간을 환영스럽게 꾸미는 데 있어 어떤 인테리어 요소가 중요한가요?\n",
            "적절한  페인 트 종류 를 선택하여  사용하는  것이  중요합니다. 입구나  복도의  표면에  사용하기  좋은  페인 트 종류로는  일반적으로  방청도료, 즉  페인 트 중 도료 또는  도발재의  부착용으로  도료 자체가  적절한  재료 를 선택하는  것이  좋습니다. 또한, 적절한  조명과  수납  공간 을 활용하여  쾌 한 분위기 를 조성할 수 있습니다. 마지막으로, 적절한  개인적인  요소를  추가하여  공간 을 개성있게  만들어  줄 수 있습니다. 예를  들어, 개성 있는  조각 품, 개성 있는  식물, 개성 있는  조각  등을  활용하여  공간 을 더욱  아름답게  만들 수 있습니다.\n",
            "***********\n",
            "도배지가 먼지나 연기로 인해 얼마나 빨리 오염될 수 있나요? 그리고 습도가 높을 때 곰팡이가 어떻게 발생하는지 자세히 알고 싶습니다.\n",
            "도배지가  먼지나  연기로  인해 얼 마나 빨리  오염 될 수 있는  지 알고 싶다면  일반적으로  1년 이상 된 도배풀 에 해당됩니다. 따라 서 도배풀 은 적절한  관리 와 청소 가 필요하며, 특히  습기가  많은  환경이나  물이  많 이 사용되는  공간에서는  주의가  필요합니다. 따라 서 도배풀 은 적절한  관리 가 필요하며, 오염 이 발생 할 경우 즉 시 전문가 의 도움을  받아  청소  및 관리하는  것이  좋습니다. 네, 습도가  높으면  곰팡이가  서식하기  쉬우며  공기 중의  습기와  곰팡 이 냄 새가 증가할 수 있습니다. 따라 서 습도 관리 가 중요합니다. 습기 관리 를 통해 적정한  습도를  유지하고  규칙적인  환기 및 건조가  이루어지면  곰팡 이 발생  가능성을  줄일 수 있습니다.\n",
            "***********\n",
            "방청페인트를 시공하는 방법에는 어떤 단계가 포함되나요? 또한, 배관공사 시 통기구를 설치해야 하는 이유가 무엇인가요?\n",
            "방청페인트를  시공하는  방법 은 다음과  같습니다. 1. 피도면 정리  2. 방청도료 도장 3. 상도작업  순으로  진행합니다. 방청페인트를  시공하는  방법 은 다음과  같습니다. 먼 저 피도면을  깨끗하게  정리하고  정돈해야  합니다. 그 후에  방청도료를  도장하고  마지막으로  상도작업 을 수행해야  합니다. 이 과정에서  전문가 의 도움을  받는  것이  좋습니다. 배관공사 를 할 때에는  몇  가지  주의해야  할 점이  있습니다. 먼 저, 배관 내부의  공기와  물을  순환시키는  것이  중요합니다. 이를  통해 온도와  압력을  조절 할 수 있습니다. 또한, 통기구 를 적절 히 설치하여  배관 내부의  고장이 나 파손 을 방지하는  것도  중요한  요소입니다. 마지막으로, 소화수 공급 을 위한  소제구 설치 도 고려해야  합니다. 이러한 요소들을  고려하여  적절한  설계  및 시공 이 이루어지면  안전 한 시스템 을 만들 수 있습니다.\n",
            "***********\n",
            "유성발수제를 사용하는 것의 실제 효과는 무엇인가요? 또한, 규산질계 침투성 도포 방수공사는 어떤 방식으로 이루어지나요?\n",
            "유성발수제의  장점은  소재 에 물의  침투를  막는 것뿐만  아니 라, 동결, 염 에 의한 손 상, 화학 적 파괴, 생물 적 침 식 등 다양한 손상을  예방하는  것입니다. 또한, 유성발수제는  소재 의 수명을  연장시켜주는  효과 가 있습니다. 규산질계 침투 성 도포 방수공사 는 콘 크리트  표면에  무기질의  활성  실리카  성분을  포함한 침투 성 물질 을 도포하여  콘 크리트 의 간극이나  공극 에 침투시켜  수밀하게  만들어  방수층을  형성하는  작업입니다. 이 방식 은 노출된 외부 콘 크리트  표면, 노출된 실내 콘 크리트  표면, 외부 제물치장 콘 크리트  표면, 실내 제물치장 콘 크리트  표면에  적용됩니다. 이 방식 은 콘 크리트 의 수명을  연장시키고  수분으로부터  보호하는  기능 을 합니다.\n",
            "***********\n",
            "높은 습도로 인해 몰딩수정이 발생하는 경우가 있을까요? 또한, 내부와 외부 온도의 큰 차이로 인해 곰팡이 발생이 빨라지나요?\n",
            "고습도 환경에서  몰 딩 소재 가 팽 창하거나  수축하여  변형될 수 있습니다. 따라 서, 고습도 환경에서  몰 딩을 사용 할 때에는  소재 를 선택하여  적합한 소재 를 선택하는  것이  중요합니다. 변형을  최소화하기  위해서는  적절한  소재 를 선택하고  적절한  시공  방법 을 선택하는  것이  중요합니다. 내부와  외부 온도의  큰 차이로  인해 곰팡이가  발생 할 수 있습니다. 따라 서 내부와  외부 온도의  큰 차이는  곰팡 이 발생  가능성을  높 일 수 있습니다. 따라 서 내부와  외부 온도의  큰 차이를  줄이는  것이  중요합니다.\n",
            "***********\n",
            "인테리어 소품을 선택할 때 어떤 요소에 주의해야 할까요와 주방을 활기차게 꾸미기 위해 어떤 요소를 추가할 수 있을까요의 관계는 무엇인가요?\n",
            "주방을  활기차게  만들기  위해서는  몇  가지  추가적인  요소를  고려해보세요. 우선, 활기찬  컬러를  선택하여  벽면과  식품 을 꾸 밀 수 있습니다. 또한, 식물 을 배치하여  자연 의 느낌 을 더해보세요. 마지막으로, 개방형 수납 을 활용하여  공간 을 시각적으로  확장시키고  수납  공간 을 활용할 수 있도록  디자인 해 보는  것이  좋습니다. 이러한 요소를  조합하여  주방을  활기차게  만들 수 있습니다.\n",
            "***********\n",
            "초배지만 남은 벽에 페인트를 칠하면 어떤 문제가 발생하나요? 또한, 속건형 유성 발수제의 사용 목적과 효과에 대해 알려주세요.\n",
            "초배지만  남은 벽에는  페인트를  칠하는  것이  적합하지  않습니다. 초배지는  벽면을  보호하거나  꾸 미 목적으로  사용되며, 페인트와  달리 물을  흡 수하고  물에  녹 는 특성을  가지 고 있습니다. 따라 서 초배지만  남은 벽에는  페인트를  칠하는  것이  적합하지  않습니다. 속건형 유성 발수제는  도장 후 용제가  증발되면서  발수효과 를 발휘하는  것을  의미합니다. 이 과정에서  발수 효과  뿐만  아니 라 도장 후 용제가  증발되면서  공기와  물을  차단하는  기능 도 있습니다. 이는  도장된 표면에  용제가  증발하여  공기와  물을  차단하는  데 도움을  줄 수 있습니다. 또한, 발수 효과  뿐만  아니 라 도장 후 용제가  증발되면서  공기와  물을  차단하는  기능 도 있습니다. 이러한 특성으로  인해 속건형 유성 발수제는  도장 후 용제가  증발되면서  발수효과 를 발휘하는  것이  특징입니다.\n",
            "***********\n",
            "벽지에 반점이 생겼을 때, 왜 1년 이내인 경우에만 벽지 아세톤 용제 함침 방법을 사용하고 개선 벽지로 재시공해야 하나요?\n",
            "벽지에  반점이  생긴 지 1년 이상 된 경우 벽지를  재시공해야  합니다. 반점이  생긴 지 1년 이상 된 경우 벽지의  표면 상태 가 안정적이 라 도배풀 의 부착력이  감소하여  반점을  제거하기  어렵습니다. 따라 서 벽지를  재시공하는  것이  필요합니다.\n",
            "***********\n",
            "석구조란 무엇인가요? 그리고 기둥-보 구조 방식은 무엇을 의미하나요?\n",
            "석구조 는 주로  석재로  쌓 아 만든 건축물을  말합니다. 이러한 구조 는 주로  궁 전, 불사, 탑비와  같은  고건물에  사용되며, 풍압 력, 지진력 및 다른  인위적인  횡력에  대해 극 히 취약하다는  단점이  있습니다. 따라 서 고층  건물을  건설 할 경우에 는 보강구조 가 필요하며, 적절한  보강 구조 가 확보되면  안정적인  건물을  건설 할 수 있습니다. 석구조 는 건물의  벽체와  기초를  벽 돌, 콘 크리트  또는  석재로  쌓 는 구조 를 말합니다. 이는  통나무  구조에서  파생하여  상업 건물이 나 대규모  주택  등에  주로  사용됩니다. 현재 는 전통적인  플랫폼  구조 와 결합하여  사용되기도  합니다.\n",
            "***********\n",
            "원목마루의 어떤 단점이 있는지 알려주세요. 그리고 도배지가 남으면 어떻게 처리해야 하나요?\n",
            "원목마루 의 단점은  주로  가격대가  상대적으로  높 고 관리 가 어렵다는  점입니다. 또한  습기에  노출될 경우 곰팡이와  변색된 상태 가 발생 할 수 있어  외관의  변화 가 발생 할 수도  있습니다. 도배지가  남으면  일반적으로  폐 기물 스티 커를 부착하는  것이  가장  안전 한 방법입니다. 폐 기물 스티커는  동사무소, 편의 점, 일반  슈퍼  등에 서 구매 할 수 있습니다. 또한, 아파트 의 경우에 는 경비실에  비치되어  있는  경우가  있으니  해당 부분 을 문의하시는  것이  좋습니다. 따라 서 도배지가  남으면  지역의  환경규제  기관 에 따라  적절한  처리  및 보관 및 폐 기물 처리 가 이루어져야  합니다.\n",
            "***********\n",
            "마감재의 하자를 판단하는 데 어떤 방법을 사용해야 할까요? 그리고 새집증후군을 예방하는 데 가장 효과적인 방법은 무엇인가요?\n",
            "마감재의  하자 를 판단하는  방법 은 몇  가지 가 있습니다. 먼 저, 설계도에  맞 는 마감재의  하자 를 확인해야  합니다. 마감재의  하자 를 확인하는  방법 은 설계도에  명시된 내용 과 일치 여부뿐만  아니 라, 기능 상, 미관상, 안전상의  문제  여부도 확인해야  합니다. 이외에도  마감재의  하자 를 확인하는  방법으로는  몇  가지  추가적인  방법 이 있습니다. 먼 저, 마감재의  하자 를 확인하기  위해  해당 재료 의 제조 사 권장 문서 를 확인하는  것이  좋습니다. 마감재의  하자 를 확인하는  데 있어  제조사의  권장 문서 를 확인하는  것이  중요합니다. 또한, 마감재의  하자 를 확인하기  위해  해당 재료 의 유해한 폐 기 새집증후군 을 예방하는  방법 은 목재 가구 나 건축자재 에 사용되는  화학물질 을 최소화하는  것이  중요합니다. 포르 말린이  적게 사용 된 가구 와 자재 를 선택하고, 친환경  친 화적인  방향제를  사용하여  실내 공기를  정화하는  것이  도움이  됩니다. 또한, 실내 흡연을  금지하고  공기 정화 효과 가 있는  공기 정화 플랜트를  사용하여  건강 한 실내 환경 을 유지하는  것이  중요합니다.\n",
            "***********\n",
            "강마루 바닥재의 장점은 무엇인가요?\n",
            "강마루 는 합판 목재에 나무  무늬  강화 필름을  표면에  씌 운 바닥재를  말합니다. 가격 은 평당 15만원입니다. 강마루 는 다양한 디자인 과 보행감이  좋으며  접착시공  방식으로  난방효율 이 뛰어나 고 소음이  절 감되는  장점이  있습니다. 그러나  습기에  취약하고  철 거 비용 이 발생 할 수 있다 는 단점이  있습니다. 강마루 는 합판 목재에 나무  무늬  강화 필름을  표면에  씌 운 바닥재를  말합니다. 가격 은 평당 15만원입니다. 강마루 는 다양한 디자인 과 보행감이  좋으며  접착시공  방식으로  난방효율 이 뛰어나 고 소음이  절 감되는  장점이  있습니다. 그러나  습기에  취약하고  철 거 비용 이 발생 할 수\n",
            "***********\n",
            "새집증후군을 예방하기 위해 창문을 열어 환기하는 이유는 무엇인가요?\n",
            "새집증후군 을 예방하기  위해서는  몇  가지  주의해야  할 점이  있습니다. 먼 저, 창문을  열어 실내공기를  순환시키고, 휘 발성 유기 화합물을  제거하는  것이  중요합니다. 또한, 새로 이사하기  전에 는 실내공기 정화 식물 을 사용하여  휘 발성 유기 화합물을  제거하는  것이  도움이  됩니다. 마지막으로, 새로 이사하기  전에 는 창문을  열어서  실내공기를  순환시키고, 휘 발성 유기 화합물을  제거하는  것이  중요합니다.\n",
            "***********\n",
            "도배풀을 제거하는 데 어떤 도구가 가장 효과적인가요? 또한, 옥상 방수용 탄성 에멀전 페인트를 사용하는 장점은 무엇인가요?\n",
            "도배풀 을 제거하려면  걸 레로 살짝  닦 아내야  합니다. 만약 걸 레로 제거가 어렵다면  도배풀  제거제를  사용하여  깔끔하게  닦 아내야  합니다. 이때에는  제조사의  지침을  잘 숙 지하고  안전장비 를 착 용한 후 사용하는  것이  좋습니다. 옥 상 방수용  탄 성 에멀 전 페인트의  장점은  건조 후 이음매 없이  연속적인  도막을  형성한다는  것입니다. 또한  건물의  충격이 나 수축 과 팽 창에도  도막이  갈 라지거나  손 상되는  것을  방지하여  도막이  갈 라지거나  손 상되는  것을  방지합니다. 또한  침수가  반복되는  장기간의  옥 외폭 로 조건에서도  소지 부착성과  내구성 을 보유하여  침수가  반복되는  환경에서도  소지 부착성과  내구성 을 유지하는  것이  장점으로  꼽힙니다.\n",
            "***********\n",
            "통나무구조 방식의 건물에서 침하 현상을 최소화하기 위해 어떤 디테일을 고려해야 하나요?\n",
            "통나무구조  방식 의 건물에 서 침 하 현상을  최소화시키기  위해서는  몇  가지  요소를  고려해야  합니다. 먼 저, 통나무구조 의 특성상 내화벽 체 및 바닥 을 통나무 로 시공하는  것이  중요합니다. 또한, 통나무구조 의 불연재료 를 사용하여  화재로부터  보호받는  것도  고려해야  합니다. 마지막으로, 통나무구조 의 유지보수 와 정기  관리 가 필요하며, 이러한 측면을  고려하여  적절한  계획을  수립하는  것이  중요합니다.\n",
            "***********\n",
            "MSDS(Material Safety Data Sheet)가 필요한 이유는 무엇인가요?\n",
            "MSDS(Material Safety Data Sheet)는 화학물질 의 유해성, 위험 성, 응 급조치  요령, 취급 방법  등을  설명하는  문서입니다. 산업안전보건공단, 환경공단, 미국 의 OSHA(산업안전보건 국)와 같은  규제  기관에서  요구합니다. 근로자는  직업병이 나 재해사고로부터  예방 할 수 있는  정보를  얻 을 수 있습니다. 제조사는  산업안전보건공단, 환경공단, 미국 의 OSHA(산업안전보건 국)와 같은  규제  기관에서  요구합니다.\n",
            "***********\n",
            "인테리어 디자인에서 에나멜 계열 페인트를 사용하여 공간의 색상을 선택할 때 고려해야 할 요소들은 무엇인가요?\n",
            "색상을  선택 할 때 고려해야  할 요소는  다양한데 요. 먼 저, 공간 의 크기와  채광  상태 를 고려하여  어두운 공간 은 밝 은 색, 밝 은 공간 은 살 아 있는  컬러를  선택하여  조화로 운 분위기 를 연출할 수 있습니다. 또한, 가구 의 색상과 의 조화도 중요한 데, 가구 와 어울리는  색상을  선택하여  조화로 운 공간 을 만들 수 있습니다. 또한, 각 색이  전달하는  감정적 영향을  고려하여  조화로 운 조합 을 찾는 것이  좋습니다. 예를  들어, 빨강은  활기찬  느낌 을 주며, 안정감을  줄 수 있습니다. 또한, 파스텔톤의  컬러는  공간 을 밝 고 환한 느낌 을 줄 뿐만  아니 라\n",
            "***********\n",
            "라돈을 측정하는 데 가장 적합한 지점은 어디인가요? 그리고 MSDS(Material Safety Data Sheet)는 무엇을 포함하고 있나요?\n",
            "라돈 을 측 정하는  지점은  최저층에서  측 정합니다. 또한, 공동주택 의 총 세대수가  100세대 일 때에는  3세대 를 측 정하고, 이후  100세대 가 증가할 때마다  1세대씩  추가하여  최대 12세대까지  시료를  채취합니다. 따라 서 라돈 을 측 정할 때에는  최저층에서  측 정하는  것이  권장됩니다. MSDS(Material Safety Data Sheet)는 화학물질 의 유해성, 위험 성, 응 급조치  요령, 취급 방법  등을  설명하는  문서입니다. 산업안전보건공단, 환경공단, 미국 의 OSHA(산업안전보건 국)와 같은  규제  기관에서  요구합니다. 작업 장 내 화학물질 에 대한  유해한 노출로부터  근로자를  보호하기  위해  산업안전보건공단, 환경공단, 미국 의 OSHA  등과 같이  산업안전보건공단  등에 서 요구합니다.\n",
            "***********\n",
            "새집증후군을 해결하기 위한 방법에는 어떤 것들이 있나요? 그리고 소화기 종류에는 어떤 것들이 있는지 알려주세요.\n",
            "새집증후군 을 방지하기  위해서는  몇  가지  주의 할 점이  있습니다. 먼 저, 목재 가구 나 건축자재에는  포름알데히드 등의  유해 물질 이 적게 사용 된 제품 을 선택하는  것이  중요합니다. 또한, 실내 흡연을  금지하고, 공기 정화 효과 가 있는  공기 정화 플랜트를  사용하여  휘 발성 유기 화합물을  제거하는  것이  도움이  됩니다. 마지막으로, 새로 지어지는  집이 나 리모델링 을 하기  전에 는 친환경적이고  안전 한 재료 를 사용하고, 친환경  친 화적인  인테리어  업체 를 선정하는  것이  좋습니다. 새집증후군 을 해결하기  위한  방법 은 몇  가지  주의 할 점이  있습니다. 먼 저, 새로 지어 진 집의 내부 공간에서  발생하는  곰팡이와  곰팡 이 방지  페인트를  사용하여  곰팡 이 방지 를 위한  목적으로  설계 된 페인트를  사용하는  것이  중요합니다. 또한, 새로 지어 진 집의 창틀이나  문틀 을 신선하게  교체하고, 새로운  소재 로 교체하는  것이  도움이  될 것입니다. 마지막으로, 새로 지어 진 집의 화재  등급 을 높이기  위해  화재  감지 및 화재  진압  장치 를 설치하는  것이  중요합니다. 이러한 조치들을  통해 새집증후군 을 방지하고  방지 할 수 있습니다.\n",
            "***********\n",
            "질석벽지가 아트월이나 현관 입구에서 많이 사용되는 이유는 무엇인가요?\n",
            "질석벽지는  운모계 광석을  1,000도 정도 로 가열하여  나온 결정  조각 을 종이  위에  뿌 려 접착 한 벽지를  말합니다. 질석벽지는  아트 워, 현관 입구 등에  많 이 사용되며, 단열과 결로방지 가 탁 월하며  고급스러운  질감이  특징입니다. 그러나  가격 이 상대적으로  비싸 고 시공  및 유지관리 가 어렵다는  단점이  있습니다. 따라 서 이러한 특징으로  인해 적절한  관리 가 이루어지지  않을 경우 오염 이 생길 수 있고, 꾸 준한 관리 가 필요합니다.\n",
            "***********\n",
            "석고보드를 이동하면 도배지 꼬임이 발생할 가능성이 있나요? 또한, 건조시간이 충분하지 않으면 도배지가 꼬일 수 있는 이유가 무엇인가요?\n",
            "도배지 꼬 임 하자란  도배지에  꽈 배기 모양의  주름이  생기는  현상을  의미합니다. 도배지 꼬 임 하자 가 발생하는  주된 원인 과 책임소재, 그리고  해결방법 에 대해 설명드리겠습니다.  1. 건축  물리적 변화     - 원인 : 건물 구조 의 이동으로  인해 도배지 꼬임이  발생 할 수 있습니다.    - 책임소재 : 건물의  소유자나  거주자 가 책임 을 져야  합니다.    - 해결 방법 : 건물의  구조 를 조정하고, 재작업 을 진행해야  합니다.  2. 습도    - 원인 : 도배지에  습기가  스며들거나  습기로  인해 팽 창하고  수축으로  인해 꼬임이  발생 할 수 있습니다.    - 책임소재 : 건물의  소유자나  거주자 가 습기 석고보드 를 이동하여  도배지 꼬임이  발생 할 수 있습니다. 따라 서 제조 사 권장 건조시간만큼  충분한  기간 을 기다려야  합니다. 만약 일주일 이 지나 도 꼬임이  지속된다면  전문가 의 도움을  받아  진단  및 보수  작업 을 진행해야  합니다.\n",
            "***********\n",
            "폴리에스테르 흡음 단열재의 장점 중 하나인 \"배수기능\"은 어떤 종류의 공간에 사용하기에 적합한가요?\n",
            "폴리에스테르  흡 음 단열재는  폴리에스테르  섬유 를 적층하고  열로 융착하여  만든 단열재로, 일반 형, 가공형, 타일형 등의  가공방법 에 따라  다양한 제품  및 용도로  활용됩니다. 이 제품 은 환경 표지 인증 (한국환경산업기술 원), 친환경  건축자재 (한국 공기청정협회 ), 그리고  우수한  재활용 가능성을  인정받아  GR인증 을 받았습니다.  폴리에스테르  흡 음 단열재는  물을  흡 수할 때 결합력과  인장강도가  뛰어나  배수가  효과적이며  뭉침  현상이  발생하지  않는 것이  장점입니다. 또한, 폴리에스테르  재질의  특성상 표면 초기 상태 는 양호하지만  박리(하나 의 재료 가 다른  재료와의  경계면에서  떨어져  나감) 시 복원이\n",
            "***********\n",
            "도배 후 제조사 권장 건조시간을 지키지 않으면 어떤 문제가 발생할 수 있나요?\n",
            "도배 후 제조 사 권장 건조시간만큼  충분한  기간 을 기다려야  합니다. 이 기간  동안에는  온도와  습도에  유의해야  하며, 완전 건조 후 울음이  발생 할 수 있습니다. 따라 서 제조 사 권장 건조시간만큼  충분한  기간 을 기다려야  합니다.\n",
            "***********\n",
            "내단열 방식에서 발생하는 열교 문제와 곰팡이 발생의 원인은 무엇인가요?\n",
            "내단열 방식에서  발생하는  열교 문제 와 곰팡 이 발생 의 원인으로는  주로  건물 자체를  통한 부분에서  발생하는  것이  있습니다. 이는  건물 자체의  부식이 나 불완전한  패킹  등과 관련 이 있을  수 있습니다. 또한, 외부 기상 조건 과 실내 습도의  변화 에 따라  도배지의  접착력이  감소하여  벽면에서  떨어지는  경우에 도 발생 할 수 있습니다. 따라 서 내단열을  선택 할 때에는  이러한 열교와 곰팡 이 발생 을 고려하여  적절한  방식 을 선택하는  것이  중요합니다.\n",
            "***********\n",
            "도배지가 찢어진 경우 터짐 하자가 발생하는 원인과 그에 따른 책임소재는 무엇인가요? 그리고 이를 해결하기 위해 어떤 방법을 사용할 수 있나요?\n",
            "도배지가  찢어진  하자 를 터짐  하자라고  합니다. 터짐  하자 가 발생하는  원인 과 책임소재, 그리고  해결방법 에 대해 설명드리겠습니다.  1. 기존 실크 벽 지 불완전 제거    - 원인 : 기존 실크 벽지를  충 분히 제거하지  않은 경우, 새로 도배한 도배지가  제대로  부착되어  터짐  하자 가 발생 할 수 있습니다.    - 책임소재 : 시공 자    - 해결 방법 : 시공사에  연락하여  재시공 을 요청할 수 있습니다.  2. 절 단 부위 과소    - 원인 : 도배지의  절 단 부위가  구조물에  비해 과소하게  절 단되어  장력을  이기 지 못하고  찢어질  수 있습니다.    - 책임소재 : 시공 자    - 해결 방법 : 도배지가  찢어진  하자 를 터짐  하자라고  합니다. 터짐  하자 가 발생하는  원인 과 책임소재 는 다음과  같습니다. 1. 기존 실크 벽 지 불완전 제거    - 원인 : 기존 실크 벽지를  완전하게  제거하지  않은 경우 새로 도배할 때 부착 제 등이  완전히  제거되지  않아 기존 벽지의  패턴이 새로 도배한 벽지에  드러 나거나  덮힐  수 있습니다.    - 책임소재 : 도배 업체    - 해결 방법 : 시공 사 해결 방법으로  기존 벽지를  완전히  제거하고  새로운  도배 작업 을 진행해야  합니다.  2. 기존 도배지 불완전 제거    - 원인 : 기존 도배지가  완전히  제거되지  않은 경우 새로\n",
            "***********\n",
            "건물의 면진장치는 지진 발생 시 어떻게 작동하나요?\n",
            "면진장치란  건물의  지반으로부터  오는  진동 에너지 를 흡 수하여  건물에  오는  진력을  최대한  줄여 건물 구조물의  안전성을  유지하는  장치입니다. 이를  통해 건물 내부의  안정성이  향상되고  지진 등의  외부 충격으로부터  보호되는  기능 을 합니다.\n",
            "***********\n",
            "페인트 상도재의 역할과 사용 방법에 대해 알려주세요. 또한, 강화마루의 장점은 무엇입니까?\n",
            "페인 트 상도재는  페인트의  최종 마감 코팅으로, 주도재의  제품 을 보호하고  유지보수하는  기능 을 합니다. 외부 표면에  노출될 때 열과 기후에  강하며  내구성 이 높다는  장점이  있습니다. 다만, 주도재의  주도재를  보호하는  데 보다  효과적인  방법으로  보호 를 할 수 있는  소재 로 상도재의  상도재 자체가  주도재의  보호 를 위해  사용되는  재료 로, 주도재의  보호 를 위해  사용되는  재료 를 의미합니다. 강화마루 는 원목 무늬  필름지를  입혀  하드 코팅 처리 한 바닥재를  말합니다. 가격 은 평당 7~12만원입니다. 강화마루 는 온도나 습도에  의한 변색이  거의 없으며  강도가  뛰어나  수명이  긴  장점이  있습니다. 그러나  필름지로  코팅되어  있기 때문에  질감이 나 보행감이  떨어진다 는 단점이  있습니다. 따라 서 이러한 특징으로  인해 바닥재의  선택 과 함께  적절한  바닥재 및 바닥재의  재료 와 시공  방법 을 고려해야  합니다.\n",
            "***********\n",
            "경질우레탄폼 보온판은 왜 경제적인 선택인가요?\n",
            "경질우레탄폼  보온판은  주로  철 근콘 크리트  구조 에 적용되며, 난연성 재료이지만  난연3급에 대한  시험 성적서를  제공하고  있지  않아 소방 필증을  받을  수 없습니다. 또한  원료비 자체가  비싸 고 시공  시 깔끔 한 절단을  위해  톱 을 사용해야  하므로  다른  단열재에 비해 절단이  어렵습니다. 또한  시공방식 에 따라  단열성능이 달라지고  장기 간 열 손 출 현상이  발생하여  열 효율 이 떨 어지기  때문에  에너지  효율 이 상대적으로  떨어질  수 있습니다.\n",
            "***********\n",
            "상도작업은 어떻게 이뤄지나요? 또한, 공간을 넓게 보이도록 인테리어를 꾸미는 방법은 뭐가 있을까요?\n",
            "상도작업 은 마감재가  완전히  건조된 후, 원하는  색상의  에나멜이나  조합페인 트 등으로  마무리하는  작업입니다. 방청도료 마감 작업  시 상도작업 은 마감재의  부착력과  마감재의  밀착력을  높이는  작업으로, 마감재의  부착성과  밀착력을  높이는  데 중요한  구성 요소입니다. 상도작업 은 마감재의  부착성과  밀착력을  향상시키는  작업으로, 마감재의  부착성과  밀착력을  향상시키는  데 중요한  구성 요소입니다. 따라 서 상도작업 은 마감재의  부착성과  밀착력을  향상시키는  데 도움이  됩니다. 공간 을 더 넓 어 보이 게 만드는  데에는  몇  가지  요소를  고려해야  합니다. 먼 저, 공간 을 밝 은 컬러의  벽지나  가구 를 선택하여  공간 에 환한 분위기 를 조성할 수 있습니다. 또한, 큰 거울을 적절 히 배치하여  공간 을 시각적으로  확장시킬  수 있으며, 수납공간 을 활용하여  공간 을 시각적으로  확장시키고  수납  공간 을 활용할 수 있는  공간 을 활용할 수 있습니다. 이러한 요소를  조합하여  공간 을 더 넓 어 보이 게 만들 수 있습니다.\n",
            "***********\n",
            "도배지가 울음 현상을 보일 때 그 원인과 대처 방법은 무엇인가요?\n",
            "도배지 울음이란  도배지가  평평하지  않고 국소적으로  볼 록하게  튀어나오는  현상을  의미합니다. 도배지 끝 부분에서  발생하는  들뜸하자 와 달리 울음 하자는  도배지 면 부분 에 발생합니다.  도배지 울음이  발생하는  원인  - 책임소재  - 해결방법 에 대해 설명드리겠습니다. 1. 건조시간  부족     - 원인 : 도배 후 완전 건조되기  전까지  울음이  발생 할 수 있습니다.    - 책임소재 : 제조 사    - 해결 방법 : 제조 사 권장 건조시간만큼  기다려야  합니다.    - 건조기간  동안에는  온도와  습도에  유의해야  합니다.    - 일주일 이 이후에도  울음이  있을  시 시공사에  연락하여  진단  및 보수  작업 을 진행해야  합니다.  2.\n",
            "***********\n",
            "사무실 실내공기 측정을 위한 적절한 위치는 어디일까요? 그리고 아파트 도배 평수를 어떻게 계산해야 하나요?\n",
            "실내공기 측정은  사무 실 바닥면으로부터  0.9미터  이상  1.5미터  이하 의 높이에 서 진행됩니다. 그러나  사무 실 면적 이 500제곱미터 를 초과하는  경우, 500제곱미터마다  1곳씩  추가하여  시료를  채취해야  합니다. 따라 서 적절한  위치 를 선정하여  실내공기 측정이  진행하는  것이  중요합니다. 아파트  도배평수는  일반적으로  아파트 의 분말 소화 또는  벽 지 등에  따라  다를 수 있습니다. 일반적으로  도배 평수는  아래 와 같은  계산  방식으로  계산됩니다. 평수는  일반적으로  실내공기질공정시험기준으로  측 정되며, 실내공기질공정시험기준 에 따라  적절한  계산  방식 을 선택하여  사용됩니다.\n",
            "***********\n",
            "도배지에 고습도로 인해 생기는 얼룩을 제거하는 방법이 있을까요? 또한, 구조적 결함 때문에 석고수정이 발생할 가능성이 있는가요?\n",
            "고습도로  인해 도배지 안쪽의  금속 이 녹 아 도배지에  베어나 올 수 있습니다. 이로  인해 도배지 표면에  녹 이 묻어나 오게 되어  도배지 표면에  녹 이 묻어나 오면 도배지 표면에  녹 이 묻어나 오게 되어  도배지 표면에  녹 이 묻어나 오면 도배지 표면에  녹 이 묻어나 오게 되어  도배지 표면에  녹 이 묻어나 오면 도배지 표면에  녹 이 묻어나 오게 되어  도배지 표면에  녹 이 묻어나 오면 도배지 표면에  녹 이 묻어나 오게 되어  도배지 표면에  녹 이 묻어나 오면 도배지 표면에  녹 이 묻어나 오게 되어  도배지 표면에  녹 이 묻어나 오면 구조 적 결함은  건물의  설계  또는  시공  과정에서  발생 한 결함을  말합니다. 이러한 결함은  건물 구조 의 불균형, 부재 미반영, 재료  적절 함, 기존 구조 의 불완전 제거 등 다양한 원인 에 의해 발생 할 수 있습니다. 구조 적 결함은  건물의  안정성에  영향을  줄 수 있으므로  보수  및 개선  작업 이 필요합니다.\n",
            "***********\n",
            "대리석 타일이 난방 절감에 어떤 역할을 하는 건가요?\n",
            "대리석은  열전도율이  높 아 난방 비용 을 절 감할 수 있는  장점이  있습니다. 또한  대리석은  깔끔하고  고급스러운  분위기 를 연출해 공간 을 더욱  아름답게  만들어줍니다. 그러나  시공  난이도 가 높 은 편이 며 비용  또한  상대적으로  비싼  재료 로 인해 난방 및 시공  시 추가  비용 이 발생 할 수 있습니다.\n",
            "***********\n",
            "외단열 시공 시 외부 환경 조건이 중요한 이유는 무엇인가요?\n",
            "외단열에  있어  가장  중요한  이유는  외부 환경  조건입니다. 외단열에  있어  가장  중요한  이유는  외부 환경  조건입니다. 외부에서  습기가  충 전하거나  물방울 이 발생하는  경우, 단열재의  부착력이  감소하여  이로  인해 단열재 부착 이 어려워질 수 있습니다. 따라 서 외단열을  시공 할 때에는  이러한 환경  조건 을 고려하여  적절한  설계  및 시공  방법 을 선택하는  것이  중요합니다.\n",
            "***********\n",
            "스탠드 조명을 선택할 때 어떤 조명이 적합한가요?\n",
            "스탠 드 조명을  선택 할 때 가장  중요한  것은  공간 의 조명 상태입니다. 스탠 드 조명은  공간 에 맞 는 조명을  선택하는  것이  중요합니다. 공간 의 조명 상태 에 맞 는 조명을  선택하여  사용하는  것이  좋습니다. 또한, 스탠 드 조명의  밝기와  색온도를  고려하여  적합한 조명을  선택하는  것이  중요합니다. 또한, 조명의  디자인 과 재질 또한  고려해야  합니다. 마지막으로, 에너지  소비 를 고려하여  적합한 조명을  선택하는  것이  좋습니다.\n",
            "***********\n",
            "실크벽지의 얼룩을 지워내는 가장 효과적인 방법이 있을까요? 그리고 부적절한 설치로 인해 제품의 품질에 영향을 미칠 수 있을까요?\n",
            "반점이  생긴 지 1년 이상 된 벽지를  보수하는  방법 은 다음과  같습니다. 먼 저, 반점을  제거하기  위해  식초나 다용도 클리 너 등을  사용하여  벽지를  깨끗 이 닦 아내는  것이  좋습니다. 그 후에 는 벽지를  교체해야  합니다. 이때 전문가 의 도움을  받는  것이  좋습니다. 실크벽지의  얼룩 을 지우는  가장  효과적인  방법 은 다양한데 요. 먼 저, 식빵 에 치약기나 주방세제를  조금 뭍혀  문질러주세요. 그리고  물건 제거한 후 건조기나 제습기를  사용하여  건조시켜  건조된 후에  다시  문지르고  물건을  제거한 후 다시  시공 해 주세요. 이때 전문가 의 도움을  받는  것이  좋습니다. 만약 반점이  지워지지  않는다 면, 따뜻 한 물에  베이킹 소다를 섞 은 반죽 을 사용하여  얼룩 을 지워보세요. 반점이  지워지지  않는다 면, 전문가 의 도움을  받아  전문적인  청소  용품 을 사용하는  것이  좋습니다. 실크벽지의  얼룩 을 지우는  가장  효과적인  방법 은 식빵 에 치약\n",
            "***********\n",
            "차음재의 차음 성능은 어떻게 평가되나요?\n",
            "차음재의  차음 성능은 주로  다공질 흡 음재 중 하나 로 평가됩니다. 다공질은  다공 소리 가 있는  공간에서  소리 의 파장에  따라  성능을 보여주는 데, 고주파 소리 일수록  높 은 성능을 나타내는  경향이 있습니다. 따라 서 다공질은  주로  고주파 소리 에 효과적으로  소리를  흡 수하는  데 뛰어나다고  평가됩니다.\n",
            "***********\n",
            "공동주택의 실내 공기질을 측정하기 위한 적절한 지점은 어디일까요? 그리고 마감재의 하자를 판단하는 데 어떤 방법을 사용해야 할까요?\n",
            "새집증후군이란  새로 지어 진 집에  입주했을  때 이러한 증상이  나타나 는 것을  의미합니다. 새집증후군 은 새로 지어 진 집에  입주했을  때 공기질 측정이  이루어진  것이  아니 라, 실내공기질공정시험기준 에 따라  100세대  당 3개 세대 (저층, 중층, 고층 부)를 기본으로  채취합니다. 또한  100세대 가 증가할 때마다  1세대씩  추가하여  최대 20세대까지  시료를  채취하게  됩니다. 이때, 고층 부, 중층 부, 그리고  저층 부 순으로  추가하게  됩니다. 마감재의  하자 를 판단하는  방법 은 몇  가지 가 있습니다. 먼 저, 마감재의  하자  여부 뿐만  아니 라 기능 상, 미관상, 안전상의  문제  여부도 확인해야  합니다. 이를  통해 마감재의  하자 를 신중하게  판단할 수 있습니다.\n",
            "***********\n",
            "실크벽지의 얼룩을 제거하기 위한 다양한 방법 중에서 특히 효과적인 방법은 무엇인가요?\n",
            "반점이  생긴 지 1년 이상 된 벽지를  보수하려면  벽지를  재시공해야  합니다. 반점이  생긴 지 1년 이상 된 벽지는  벽 지 속지 내부에  주사기 를 사용하여  아세톤 을 사용하여  반점을  제거할 수 있습니다. 그러나  반점이  제거지지  않는다 면, 벽지를  재시공해야  합니다. 반점이  생긴 지 1년 이상 된 벽지는  벽 지 속지 내부에  주사기 를 사용하여  아세톤으로  반점을  제거할 수 있지 만, 반점이  제거되지  않는다 면 벽지를  재시공해야  합니다. 따라 서 전문가 와 상의하여  전문가 의 도움을  받는  것이  좋습니다.\n",
            "***********\n",
            "페인트 처리 시 페인트의 양에 따라 어떤 절차를 따라야 하나요?\n",
            "페인트의  양에 따라  처리  방법 이 달라 질 수 있습니다. 만약 남은 페인트의  양이  적다면  신문이나  헌  옷 에 적신 다음 종량제 봉투 에 버리 는 것이  가능합니다. 페인 트 양이  6ml이상  100kg 미만일 경우 페기물 수탁업체 를 통해 처리해야  하며, 100kg 이상이라면  구청  환경과에  신고해야  합니다. 따라 서 페인트를  처리 할 때에는  해당 지역의  규정과  법률 을 준수하는  것이  중요합니다.\n",
            "***********\n",
            "건설 산업은 어떤 종류의 작업을 포함하는지, 그리고 토목이 무엇인지 설명해줘.\n",
            "건설 은 주로  건물이 나 기반시설을  건설하는  프로세스 와 관련 된 모든  활동을  포함합니다. 또한, 토목 구조물의  건설 물 및 기반시설을  건설하는  프로세스 와 관련 된 모든  공정  및 활동을  포함합니다.\n",
            "***********\n",
            "제진구조는 건물 구조 중에서 어떤 역할을 하는 건가요? 그리고 중목구조 방식에 대해 좀 더 자세히 설명해 주실 수 있을까요?\n",
            "제진구조 는 건물 구조물에  발생하는  지진으로  인한  손상과  피해 를 최대한  방지하기  위해  설계 된 구조 를 말합니다. 이는  건물 구조물의  안정성을  높이는  데 도움을  줄 수 있습니다. 중목구조 는 건물의  틀 과 지지대로  사용되는  건축자재 를 말합니다. 중목구조 는 기중-보 방식 과 유사하지만  구조 용 목재로  큰 각재를  사용하여  건축한다는  것이  차이점으로, 중목구조 는 건물 내부의  기중 및 지지대를  확실하게  확보할 수 있는  장점이  있습니다. 중목구조 는 건물 내부의  기중 및 지원대로  사용되는  건축자재 를 말합니다. 중목구조 는 기중-보 방식 과 유사하지만  구조 용 목재로  큰 각재를  사용하여  건축한다는  것이  차이점으로, 중목구조 는 건물 내부의  기중 및 지원대를  확실하게  확보할 수 있는  장점이  있습니다. 중목구조 는 건물 내부의  기중 및 지원대를  구성하는  데 사용되는  재료 를\n",
            "***********\n",
            "작은 공간의 홈오피스에 원목사이딩을 사용할 때 고려해야 할 단점과 이를 극복하기 위한 인테리어 팁은 무엇인가요?\n",
            "원목사 이딩의 단점은  주로  가격대가  상대적으로  높 고 관리 가 어렵다는  점입니다. 또한  습기에  노출될 경우 곰팡이와  변색 등의  변형이  발생 할 수 있어  외관의  변화 가 발생 할 수도  있습니다.\n",
            "***********\n",
            "알루미늄징크의 단점에 대해서 자세히 알려주세요 또한, 아이소핑크의 장점은 무엇인가요?\n",
            "알루미늄징크의  단점은  시공 이 잘못될 경우 울음 현상이  발생하고, 리얼징 크보다  가격 이 다소 비싼다는  점입니다. 또한  알루미늄징크는  산화되기  쉬 운 성질을  가지 고 있어  표면에  적용된 도료나 페인트의  부착력이  낮 을 경우 부식이  발생 할 수 있습니다. 따라 서 적절한  처리 와 유지보수 가 필요합니다.\n",
            "***********\n",
            "겨울철 도배 작업에서 실내 온도를 일정하게 유지해야 하는 이유는 무엇인가요?\n",
            "도배 작업 을 진행할 때에는  적절한  실내 온도를  유지해야  합니다. 여름철에는  실내 온도가  낮 을 경우 도배풀 의 접착력이  감소하여  도배지가  제대로  밀착되어  있습니다. 따라 서 실내 온도를  적절 히 유지하여  도배 작업 을 진행하는  것이  중요합니다.\n",
            "***********\n",
            "철골구조의 화재 안전 보완을 위한 다양한 방법에는 무엇이 있을까요? 그리고 벽돌구조란 무엇인가요?\n",
            "철골구조 의 화재  대비 를 위한  보강은  주로  벽 돌, 콘 크리트  또는  석고보드 와 같은  내화성 구조물을  사용하여  화재 에 의한 파손 을 최소화하는  것이  중요합니다. 또한, 화재  감지 및 화재  진압  장치 를 사용하여  화재 가 발생했을  때의 초기에  대응 에 대비하는  것도  중요한 데, 화재  감지 장치 는 화재 의 위치 와 강도를  측 정하여  화재 를 진압하는  데 사용되며, 화재  진압  장치 는 화재 의 초기와  진압  단계에서  화재 를 진압하는  데 사용되는  장치입니다. 철골구조 의 화재  안전  보강은  다양한 방법으로  구현됩니다. 먼 저, 화재  감지 및 화재 진압  장치 를 사용하여  화재 가 발생했을  때의 초기에 의 대응 에 대비합니다  것이  중요합니다. 또한, 화재  대비 를 위해  화재 대피 및 구조 에 대한  교육 재와 규제  프로 토콜 을 강화하는  것이  필요합니다. 마지막으로, 화재  화재 가 발생했을  때의 초기 대응 을 위해  화재  화재  대응  계획을  수립하고  화재  화재  화재 가 발생했을  때의 초기 대응 을 강화하는  것이  중요합니다.\n",
            "***********\n",
            "석구조란 무엇인가요? 그리고 기둥-보 구조 방식은 무엇을 의미하나요?\n",
            "석구조 는 주로  석재로  쌓 아 만든 건축물을  말합니다. 이러한 구조 는 주로  궁 전, 불사, 탑비와  같은  고건물에  사용되며, 풍압 력, 지진력 및 다른  인위적인  횡력에  대해 극 히 취약하다는  단점이  있습니다. 따라 서 고층  건물을  건설 할 경우에 는 보강구조 가 필요하며, 적절한  보강 구조 가 확보되면  안정적인  건물을  건설 할 수 있습니다. 석구조 는 건물의  벽체와  기초를  벽 돌, 콘 크리트  또는  석재로  쌓 는 구조 를 말합니다. 이는  통나무  구조에서  파생하여  상업 건물이 나 대규모  주택  등에  주로  사용됩니다. 현재 는 전통적인  플랫폼  구조 와 결합하여  사용되기도  합니다.\n",
            "***********\n",
            "포세린 타일을 사용하는 것에 대한 단점이 무엇인가요? 그리고 셀룰로오스의 단점에 대해 설명해주세요.\n",
            "포세린  타일은  점토를  기본  재료 로 사용하여  만든 무광 의 타일을  말합니다. 가격 은 평당 10~20만원이며  여름에는  따뜻하고  내구성 이 좋은  재료입니다. 그러나  가격 이 상대적으로  비싸 고 충 격 흡 수율이  낮 아 노약자가  있는  집안에 는 적합하지  않을 수 있습니다. 따라 서 적합한 재료 를 선택하여  사용하는  것이  중요합니다. 셀룰 로오스 의 단점은  주로  정밀한  시공능력 이 요구된다는  점입니다. 또한, 습기에  노출될 경우 빨리  상할 수 있는  특징 도 있습니다. 따라 서 적절한  시공  및 유지보수 가 필요하며, 특히  습기가  많은  환경이나  물이  많 이 사용되는  공간에서는  추가적인  관리 가 필요할 수 있습니다.\n",
            "***********\n",
            "부드러운 욕실 인테리어를 위해 사용할 수 있는 소재나 색상은 어떤 것들이 있을까요? 그리고 반려동물을 위한 바닥재에는 어떤 종류가 있는지 알려주세요.\n",
            "욕실을  부드럽 게 만들기  위해서는  연한  파스텔  컬러를  활용하고, 부드러 운 조명을  선택하는  것이  중요합니다. 또한, 자연적인  소재 를 활용하여  인테리어하는  것이  좋습니다. 예를  들어, 나무, 식물, 돌재 등을  활용하여  자연적인  분위기 를 연출할 수 있습니다. 또한, 부드러 운 소품들로  욕실을  꾸 밀 수 있습니다. 반려동물들을  위한  바닥재로 는 미끄럼  방지  기능 이 있는  바닥재가  있습니다. 반려동물들은  미끄러 져 다칠  위험 이 있기 때문에  미끄럼  방지  기능 이 있는  바닥재를  사용하면  반려동물들의  안전 을 최대한  지키는  데 도움이  됩니다. 또한, 바닥재를  바꾸 기 어려운 상황이라면  카펫이나  러그를 깔 아두는  것도  좋은  방법입니다. 반려동물들을  위한  바닥재로 는 미끄럼  방지  기능 이 있는  바닥재가  있습니다. 반려동물들은  미끄러 져 다칠  위험 이 있기 때문에  미끄럼  방지  기능 이 있는  바닥재를  사용하면  반려동물들의  안전 을 최대한  지키는  데 도움이  됩니다. 또한, 바닥재를  바꾸 기 어려운 상황이라면  카펫이나  러그를 깔 아두는\n",
            "***********\n",
            "팬던트 라이트는 무엇이며, 어떤 용도로 사용되나요? 그리고 인테리어에서 바닥재를 선택할 때 고려해야 할 중요한 요소는 무엇인가요?\n",
            "팬던 트 라이트 는 천장으로부터  길게 늘어뜨린  전선 에 전구를  부착 한 조명을  말합니다. 다양한 디자인 과 소재 로 제공되며, 조명의  위치 를 조절하기  위해  조명 기구 를 사용합니다. 팬던 트 라이트 는 조명의  위치 를 조절하기  위해  조명기구 를 사용하는  것이  일반적이며, 다양한 디자인 과 소재 로 제공됩니다. 또한, 팬던 트 라이트 는 조명의  위치 를 조절하여  원하는  위치 에 위치 를 변경 할 수 있는  것이  장점이 며, 조명의  방향 을 조절하여  원하는  방향 에 집중된 조명을  유지 할 수 있습니다. 팬던 트 라이트 는 무엇인가요? 인테리어에서  바닥재를  선택 할 때 고려해야  할 중요한  요소는  무엇인가요?\n",
            "***********\n",
            "속건형 유성 발수제가 건물의 수명을 연장시키는 원리는 무엇인가요?\n",
            "속건형 유성 발수제의  장점은  각종 건축자재 의 표면에  도장되어  빗 물 등의  침투를  막아주 어 건축자재 의 색상을  보호하고  유지시켜주는  것뿐만  아니 라, 건물의  균열이 나 백화 현상, 철 근의 부식을  방지하여  건물의  수명을  연장시켜주는  것입니다. 또한, 속건형 유성 발수제는  환경에도  친 화적이며  쉽게  사용 할 수 있는  것이  또 다른  장점입니다.\n",
            "***********\n",
            "주방에서 조리할 때 어떤 종류의 조명이 가장 적합한가요?\n",
            "주방은  식탁 이 있는  다이닝공간 과 음식 을 조리하는  조리대에  따라  추천하는  조명이  달라 질 수 있습니다. 다이닝  공간에는  팬던 트 조명을  설치하여  식사하는  사람 들 간의  집중도를  높 일 수 있습니다. 또한  조리대는  눈에  피로가  없을 정도 로 밝 은 조명이  필요하며, 적정조도는  200lux를 기준으로  150~300lux가 적합합니다. 따라 서 적합한 조명을  선택하여  사용하는  것이  중요합니다.\n",
            "***********\n",
            "인테리어에서 생기 넘치는 식물과 아트워크를 부착할 때 밀풀을 사용하는 것이 좋은가요, 그리고 밀풀 사용 시 주의할 점은 무엇인가요?\n",
            "트라이트  조명과  같은  고 빛  처리 를 통해 도배풀 의 색상을  변화시킬  수 있으며, 특히  밝 은 톤의  풀 은 공간 에 활기를  불어 넣어줍니다. 따라 서 저장 시 직사광선을  피하고  습기가  없는  곳 에 보관하는  것이  중요합니다. 또한, 사용  시 풀 의 내구성 을 유지하기  위해  적절한  청소  및 보수 가 필요합니다.\n",
            "***********\n",
            "철근콘크리트 구조에 대해 좀 더 자세히 알려주세요. 그리고 통나무구조 방식은 어떤 건물에 사용되는 건축 구조 방식인가요?\n",
            "철 근콘 크리트  구조 는 콘 크리트 의 압축  강도와  철 근의 인장 강도를  결합하여  구성 된 구조 를 말합니다. 일반적으로  도심에서  많 이 사용되며  내구성, 내화 및 내진 성능이 우수합니다. 그러나  고층  건물에서는  구조물의  하중을  지탱하기  위해  아래층의  보나 기둥이  상당한  무게를 지탱해야  하므로  구조 의 하중을  고려하여  고층  건물을  건설 할 때 구조물의  하중을  안정 화시키는  데에 유리합니다. 통나무구조 는 건물을  지탱하기  위해  중앙 에 큰 기둥 (중정)을 두고  그 외에 바닥 과 지붕으로  지지체를  확실하게  만드는  건축  구조  방식 을 말합니다. 이 방식 은 안정 한 건축 을 만들어 줄 뿐만  아니 라 내화성, 내진성, 경제 성 등의  장점을  가지 고 있습니다. 통나무구조 는 건물의  안정성을  확실하게  만들어 줄 뿐만  아니 라 내화성, 내진성, 경제 성 등의  장점을  가지 고 있습니다. 따라 서 건축  자재로서  매우 인기가  있는  구조  방식  중 하나 로 손 수 안정 한 건축 을 원할 때 유용한 방식으로  평가됩니다.\n",
            "***********\n",
            "공명형 흡음재가 특정 주파수에 한정적으로 적용되는 이유는 무엇인가요?\"\n",
            "공명형은  작은  구멍이나  틈 의 공명을  이용하여  소리를  흡 수하는  소재 를 말합니다. 이러한 소재 는 석면 시멘트 판, 석고보드, 알루미늄 판, 연질 섬유 판, 합성수지 판 등이  있으며, 특히  석면시멘트 판 공명은  높 은 주파수의  소리에는  효과적이지 만 주파수에  따라  성능이 달라지는  경향이 있습니다. 따라 서 특정 주파수의  소리에는  효과적이지 만 다양한 주파수의  소리에는  효과적으로  소리를  흡 수하는  것보다는  주파수 대역 에 따라  효과적인  성능을 나타내는  경향이 있습니다.\n",
            "***********\n",
            "결로의 발생 원인은 무엇이고, 이를 방지하기 위해 어떤 시공방법을 사용해야 하나요?\n",
            "결로가  발생하는  원인 은 고습와 창호 처리 에 있습니다. 고습은 공기 중의  수증기를  증가시켜  결로 발생  가능성을  높 일 수 있으며, 창호 처리 는 창호 자체를  통한 부분 에 발생하는  결로 방지  페인트의  부착력이  떨어져  결로가  발생 할 수 있습니다. 따라 서 결로 방지 를 위해서는  창호 처리 와 고습 관리 가 중요합니다.\n",
            "***********\n",
            "베란다를 활용하여 야외 라운지를 만들기 위해 필요한 장비나 소품은 어떤 것이 있을까요와 거실에 현대적인 느낌을 주기 위한 팁은 무엇인가요의 관계는 무엇인가요?\n",
            "베란다 를 활용하여  야외 라운지를  만들기  위해서는  몇  가지  아이디어 를 활용할 수 있습니다. 먼 저, 편안한 의자나  소파, 식물, 그리고  패드  및 쿠션을  추가하여  쾌 한 분위기 를 조성할 수 있습니다. 또한, 간절 에 따라  전기  또는  가스  히터를  추가하여  추가적인  편안함을  더할 수 있으며, 마지막으로  간절 에 따라  새로운  식물 을 추가하여  자연 의 느낌 을 더할 수 있습니다. 이러한 요소를  조합하여  베란다 를 활용하여  아늑 한 야외 라운지를  만들 수 있습니다.\n",
            "***********\n",
            "페인트 작업 시 유해물질을 최소화하기 위해 어떤 점을 유의해야 하나요?\"\n",
            "페인트에 는 다양한 유해물질 이 함유되어  있습니다. 주요 유해물질로는  벤젠, 톨 루엔, 자일렌 과 같은  VOCs(휘 발성 유기화합물) 등이  있습니다. 이러한 유해물질 은 호흡 기나 피부를  통한 체내로 흡 수되어  건강 에 악 영향을  줄 수 있으며, 특히  VOCs 함량이  높으면  새집증후군 과 같은  증상이  나타날 수 있습니다. 따라 서 페인 트 작업  시에는  적절한  환기 시스템 을 운영하고, 마스크와  같은  개인보호구를  착용하는  것이  중요합니다. 또한, 환경부에서 는 휘 발성 유기화합물의  위험 에 대비하여  실내에서  유성페인 트 사용 을 금지하고  수성페인트를  사용하는  것을  권장하고  있습니다.\n",
            "***********\n",
            "흡음재 중 판 진동형의 작동 원리는 무엇인가요?\"\n",
            "판 진동형은  벽 과 일정 간격을  두고  설치되는  소재 로, 소리 가 전달될 때 판이  진동하여  마찰 에 의해 소리 가 소멸되는  소재입니다. 이러한 소재 는 주로  저주파의  소리에는  효과적이지 만, 고주파 소리에는  상대적으로  높 은 성능을 나타내는  경향이 있습니다. 따라 서 판 진동형은  주로  저주파 소리 에 효과적이며, 고주파 소리에는  효과적으로  사용 할 수 있는  소재 로 알려져 있습니다.\n",
            "***********\n",
            "점토벽돌을 사용하는 것의 장점은 무엇인가요? 또한, 도료와 벽지 중에서 어떤 것을 선택하는 것이 더 나은 선택일까요?\n",
            "점토벽 돌은 유지보수 가 쉽 고 고벽돌이 나 전벽 돌에 비해 비교 적 저렴하며  친환경적인  재료 로 평가 받습니다. 또한  점토벽 돌은 내구성 이 뛰어나 고 오랜 기간 동안  사용 할 수 있는  것이  또 다른  장점입니다. 벽지와  도료 중 어떤  것을  선택할지 는 공간 의 크기와  채취 방법 에 따라  다를 수 있습니다. 예를  들어, 작은  공간에는   도료 한 번 적시지  않고, 큰 공간에는  두 번 적시지  않는 것이  일반적인  규칙으로, 이는  도료의 특성상 완전히  제거하기  어렵 기 때문입니다. 따라 서 원하는  재료 와 함께  적절한  방법으로  적절한  재료 를 선택하는  것이  중요합니다.\n",
            "***********\n",
            "강화마루는 어떤 재료로 제작되나요? 또한, 징크판넬의 단점에는 어떤 것들이 있을까요?\n",
            "강화마루 는 주로  나무 나 플라스틱으로  만들어 진 바닥재로, 특히  내구성 이 뛰어나 고 변색이  적다는  장점이  있습니다. 또한  강화마루 는 설치 나 보수 가 간편하며  사용 할 때에도  편리하다는  점도 장점으로  꼽힙니다. 징 크판넬 의 단점은  다른  징 크에 비해 수명이  짧 은 편이 며 시공 이 잘못될 경우 녹슬 기 쉬우며  하지작업 이 필요한  시간에  따라  공사비용 이 증가할 수 있습니다. 또한  일반적으로  다른  소재 에 비해 유지보수 가 쉽지는  않을 수 있습니다.\n",
            "***********\n",
            "벽에 타공하자가 발생했을 때, 이로 인해 벽장 부위에 결로가 생길 수 있는지, 그리고 이를 방지하기 위한 방법은 무엇인가요?\n",
            "벽 에 타공하자 가 발생했을  때, 이로  인해 벽 장 부위에  결로가  생길 수 있습니다. 따라 서 타공하자 가 발생했을  때에는  벽 장 부위에  발생 한 결로를  방지하기  위해  제습기를  가동하고  환기를  통해 실내 적정 습도를  유지하는  것이  중요합니다. 또한, 전문가 의 도움을  받아  보수  작업 을 진행하는  것이  좋습니다.\n",
            "***********\n",
            "물 누수로 인한 곰팡이와 곰팡이 냄새를 제거하는 데 사용할 수 있는 가정용 청소용품이 있을까요? 그리고 펫테리어가 무엇인지 자세히 알려주세요.\n",
            "물 누수로  인한  곰팡이와  곰팡 이 냄 새를 제거하는  데 사용 할 수 있는  청소용품으로는  곰팡 이 제거 후에  곰팡 이 방지  페인트를  사용하여  냄 새와 재생장을  방지 할 수 있습니다. 또한, 곰팡 이 방지  페인트를  사용하여  곰팡이의  재생장을  막을  수 있습니다. 곰팡 이 방지  페인트를  사용하는  것은  곰팡 이 방지 에 도움이  됩니다. 따라 서 곰팡 이 방지  페인트를  사용하여  냄 새와 재생장을  방지 할 수 있습니다. 물 누수로  인한  곰팡이와  곰팡 이 냄 새를 제거하는  데 사용 할 수 있는  청소용품으로는  곰팡 이 제거 후에  곰팡 이 방지  페인트를  사용하여  냄 새와 재생장을  방지 할 수 있습니다. 또한, 곰 펫테리어 는 반려동물과의  생활을  고려하여  주거 공간 을 인테리어하는  것을  말합니다. 즉, 반려동물과의  생활을  고려하여  공간 을 꾸 밀 때 반려동물 의 생활 과 건강 을 고려하여  적절한  재료 와 꾸미는  방법 을 선택하는  것이  중요합니다. 이를  통해 반려동물 과 함께보다  즐 적한 공간 을 만들 수 있습니다.\n",
            "***********\n",
            "도배지를 너무 작게 자르면 어떤 문제가 발생할 수 있을까요? 그리고 높은 습도로 인해 도배지 패턴이 이어지지 않을 수 있는 이유가 무엇일까요?\n",
            "도배지를  너무  작게 자르면  도배지 끝 부분 에 장력이  크게 작용하여  몰 딩과의  틈 새가 발생 할 수 있습니다. 따라 서 도배지를  자를  때에는  충분한  여유를  가지 고 자르고, 몰 딩과의  사이즈에  맞 는 적절한  크기로  자르는  것이  중요합니다. 만약 틈 새가 발생한다면  다시  잘라서  맞 추는 것이  좋습니다. 고습 환경에서는  도배풀 의 접착력이  떨어져  도배지 패턴이 이어지지  않을 수 있습니다. 습기가  도배지에  스며들거나  습기로  인해 팽 창하고  수축 할 때 패턴이 변할 수 있으며, 이로  인해 도배지 패턴이 이어지지  않을 수 있습니다. 따라 서 습기 관리 가 중요하며, 제습기를  가동하고  환기를  통해 실내 적정 습도를  유지하는  것이  중요합니다.\n",
            "***********\n",
            "알러지가 있는 사람들이 매끄럽고 평평한 벽지를 선택하는 이유는 무엇인가요?\n",
            "알러지가  있는  사람들은  표면이  먼지나  알러지 유발물질 이 적게 축 적되는  매끄럽 고 평평한 벽지를  선택하는  것이  좋습니다. 이는  알러지 유발물질 이 적게 축 적되어  청소 가 용이하고  유지보수 가 간편하기  때문입니다. 또한, 표면이  매끄럽 고 평평한 벽지는  먼지나  알러지 유발물질 이 적게 축 적되어  청소 가 용이하고  유지보수 가 간편한 장점이  있습니다.\n",
            "***********\n",
            "아파트 도배 평수를 계산하는 방법과 소화기 설치 시 주의해야 할 사항에 대해 설명해줄 수 있나요?\n",
            "아파트  도배 평수는  일반적으로  아파트 의 분말 소화기 용량 에 2.5를 곱하여  계산합니다. 따라 서 소화기를  사용하는  경우 해당 기준 을 준수하여  안전 한 수분 및 도배풀 의 사용 을 위해  적절한  계산  및 관리 가 필요합니다.\n",
            "***********\n",
            "마감재의 하자를 판단하는 데 어떤 방법을 사용해야 할까요? 그리고 라돈을 측정하는 데 가장 적합한 지점은 어디인가요?\n",
            "마감재의  하자 를 판단하는  방법 은 몇  가지 가 있습니다. 먼 저, 설계도에  맞 는 마감재의  하자 를 확인해야  합니다. 마감재의  하자 를 확인하는  방법 은 설계도에  명시된 내용 과 일치 여부뿐만  아니 라, 기능 상, 미관상, 안전상의  문제  여부도 확인해야  합니다. 이외에도  마감재의  하자 를 확인하는  방법으로는  몇  가지  추가적인  방법 이 있습니다. 먼 저, 마감재의  하자 를 확인하기  위해  해당 재료 의 제조 사 권장 문서 를 확인하는  것이  좋습니다. 마감재의  하자 를 확인하는  데 있어  제조사의  권장 문서 를 확인하는  것이  중요합니다. 또한, 마감재의  하자 를 확인하기  위해  해당 재료 의 유해한 폐 기 라돈 은 자연적으로  발생하는  기체 상태 의 방사성 물질 로, 건물 내부에서  발생하는  물질입니다. 공동주택 의 경우, 실내 라돈 을 측 정하기  위해서는  최저층에서  측 정합니다. 또한, 공동주택 의 총 세대수가  100세대 일 때는  3세대 를 측 정하고, 이후  100세대 가 증가할 때마다  1세대씩  추가하여  최대 12세대까지  시료를  채취합니다. 따라 서 라돈 은 건물 내부에서  발생하는  물질 로, 적절한  측정이  필요합니다.\n",
            "***********\n",
            "이산화탄소 소화기에 대해 좀 더 자세히 알 수 있을까요? 그리고 분말 소화기는 어떤 용도로 사용되는 건가요?\n",
            "이산화탄소  소화기는  이산화탄소 (CO2)를 높 은 압력으로  압축  액화한  것이산화탄소  소화기로, B, C급 화재 에 사용됩니다. 이산화탄소  소화기는  물을  뿌리면  안되는  화재 에 사용되며, 냉 각 효과 와 질식 효과 가 있습니다. 따라 서 이산화탄소  소화기는  주로  전기기기, 기름, 페인 트 등에  사용되며, 특히  높 은 압력으로  사용 할 경우 안전 한 운영 이 가능합니다. 분말 소화기는  불연성 고압가스 에 의해 소화약제를  방출하여  불을  질식소화시키는  소화기로, 주로  건물 구조 에 사용됩니다. 이산화탄소  소화기는  탄 산수소  나트륨  분말을  사용하여  불을  질식시키는  것이  특징이며, 고 온에서  사용 할 경우 높 은 온도와  압축  강도가  높 아 안정적인  분말 소화기 구조 를 만들어줍니다.\n",
            "***********\n",
            "면진장치는 어떤 용도로 사용되는 건가요? 그리고 면진구조는 어떤 건물 구조나 시스템을 의미하나요?\n",
            "면진장치 는 건물의  지반으로부터  오는  진동 에너지 를 흡 수하여  건물에  오는  진력을  최대한  줄여 주는  장치입니다. 이를  통해 건물 내부의  안전 한 환경 을 유지하고, 고장이 나 손상이  발생하는  것을  예방하는  중요한  구성 품으로  볼  수 있습니다. 면진장치 는 건물의  지반과 건물을  분리시키기  위해  면진 장치 를 사용하는  구조 를 말합니다. 이러한 구조 는 지반의 이동 과 변형으로  인해 건물에  손상이  발생하는  것을  최대한  방지하고, 안전성을  확보하는  데 사용됩니다. 또한, 지반의 변형과  건물의  손상을  방지하기  위해  설계  및 시공  기술으로  활용됩니다.\n",
            "***********\n",
            "외단열재가 실내 온도 유지에 어떻게 도움을 주며, 이를 시공할 때 고려해야 할 주요 장점들은 무엇인가요?\n",
            "외단열에  비해 내단열에  비해 단열효과 가 좋을 뿐만  아니 라 건축물의  면적 을 효율적으로  확보할 수 있는  장점이  있습니다. 내단열에  비해 외단열에  비해 건축 물 면적 을 효율적으로  확보할 수 있는  것은  외단열에  비해 가장  큰 장점으로  꼽힙니다. 또한  외단열에  비해 단열효과 가 뛰어나다는  점도 장점으로  꼽힙니다. 따라 서 건축 물 면적 을 효율적으로  확보하고  단열 효과 를 높 일 때 고려해야  할 사항으로  외단열에  비해 내단열에  비해 높 은 성능을 나타내는  경우가  있습니다.\n",
            "***********\n",
            "외단열과 내단열의 차이점은 무엇이며, 각각의 시공방법이 어떻게 단열 효과에 영향을 미치나요?\n",
            "외단열에  비해 내단열에  비해 높 은 효율 을 가지 고 있습니다. 이는  건물 내부에  단열재를  설치하는  것보다  외부에서  단열재를  사용하는  것이  더 많은  비용 을 들 수 있는  것으로, 전문가 와 상의하여  적절한  방식 을 선택하는  것이  중요합니다. 또한, 외단열에  비해 내단열에  비해 더 많은  비용 이 들어 가 비용  부담 을 줄 수 있는  장점이  있습니다.\n",
            "***********\n",
            "바닥재의 종류 중에서 가장 인기 있는 것은 무엇이며, 가장 비싼 바닥재는 무엇인가요?\n",
            "가장  비싼  바닥재는  대리석은  대리석으로  알려져 있습니다. 대리석은  자연스러운  아름다움과  내구성으로  유명하며, 특히  대리석은  고급스러운  분위기 를 연출해줍니다. 따라 서 대리석은  주로  대리석으로  알려져 있습니다.\n",
            "***********\n",
            "포세린 타일의 장점과 단점은 무엇인가요?\n",
            "포세린  타일은  주로  점토를  사용하여  만든 무광 의 타일을  말합니다. 이러한 타일은  여름에는  따뜻하고  여름 에 시원한 감촉 를 주며 내구성 이 뛰어나 고 바닥  울림이  적은  장점이  있습니다. 하지만  가격 이 다소 비싸 고 충 격 흡 수율이  낮 아 노약자가  있는  집안에 는 적합하지  않을 수 있습니다. 따라 서 건축 자나 리모델링  업체들은  다른  재료 를 고려하는  경우가  많습니다.\n",
            "***********\n",
            "중목구조 방식에 대해 좀 더 자세히 설명해 주실 수 있을까요? 그리고 철근콘크리트 구조에 대해 좀 더 자세히 알려주세요.\n",
            "중목구조 는 건물의  틀 과 지지대로  사용되는  건축자재 를 말합니다. 이 구조  방식 은 기중-보 방식 과 유사하지만  구조 용 목재로  큰 각재를  사용하여  건축한다는  것이  차이점으로, 중목구조 는 건물 전체 에 일정한  하중을  전달하면서  내구성 과 안정성을  확보하는  데 사용됩니다. 중목구조 는 건물 내부의  기중 및 지지대로  사용되는  건축자재 를 말합니다. 이 구조  방식 은 기중-보 방식 과 유사하지만  구조 용 목재로  큰 각재를  사용하여  건축한다는  것이  차이점으로, 이는  안정성을  확보하면서도  품질관리 가 가능하여  품질관리 가 용이하게  됩니다. 중목구조 는 건물의  틀 과 지지대로  사용되는  건축자재 를 말합니다. 이 구조  방식 은 철 근콘 크리트  구조 는 콘 크리트 의 압축  강도와  철 근의 인장 강도를  결합하여  구성 된 구조 를 말합니다. 일반적으로  도심에서  많 이 사용되며  내구성, 내화 및 내진 성능이 우수합니다. 그러나  고층  건물의  경우 아래층의  보나 기둥이  상당한  무게를 지탱해야  하므로  구조 의 단면적 이 커져야  하는  문제 가 있습니다. 따라 서 고층  건물을  건설 할 때 이러한 구조 의 적절한  계획 이 마련되어  있으면  안정적인  건물 구조 를 만들 수 있습니다.\n",
            "***********\n",
            "도배지는 얼마나의 양이 필요한가요? 또한, 벽에 구멍을 막는 가장 효과적인 방법은 무엇인가요?\n",
            "도배풀 은 일반적으로  도배풀 은 도배풀 제 등이  있습니다. 도배풀 은 도배 작업 에 필요한  재료 로, 도배풀 제 등이  있습니다. 따라 서 도배풀 은 도배풀 제 등이  있습니다. 벽 에 구멍 을 막는 방법 은 다양한데 요.  먼 저, 곰팡 이 방지  페인트를  사용하여  곰팡이와  곰팡 이 냄 새를 제거할 수 있습니다. 그 후에 는 곰팡 이 방지  페인트를  사용하여  새로운  곰팡이의  발생 을 막을  수 있습니다. 그 후에 는 벽 에 구멍 을 메우기  위해  합성 먼지나  석고를  사용하여  구멍 을 메우고  필요에 따라  패팅을 적용할 수 있습니다. 이렇게  함으로써  벽 에 구멍 을 보다  효과적으로  가리고  보호 할 수 있습니다.\n",
            "***********\n",
            "경질우레탄폼 보온판을 사용한 외단열 시공은 어떤 장점을 가지며, 이를 통해 어떻게 결로와 곰팡이 발생을 줄일 수 있나요?\n",
            "외단열에  사용되는  경질우레탄폼  보온판은  경질우레탄폼으로  불연재료 로 분류되며, 건축 물 외벽을  단열재로  감싸주는  재료입니다. 이 재료 는 건물 내부의  온도와  습도를  안정적으로  유지시켜주는  장점이  있습니다. 또한, 외단열에  사용 될 경우 단열재의  부착력이  향상되어  결로나  곰팡 이 발생 을 줄일 수 있습니다. 따라 서 건축 물 외부의  환경 을 개선하고자  하는  경우, 외단열이  효과적인  해결책으로  고려 할 만 합니다.\n",
            "***********\n",
            "질석벽지가 아트월이나 현관 입구에 많이 사용되는 이유는 무엇인가요?\n",
            "질석벽지는  운모계 광석을  1,000도 정도 로 가열하여  나온 결정  조각 을 종이  위에  뿌 려 접착 한 벽지를  말합니다. 질석벽지는  아트 워, 현관 입구 등에  많 이 사용되며, 단열과 결로방지 가 탁 월하며  고급스러운  질감이  특징입니다. 그러나  가격 이 상대적으로  비싸 고 시공  및 유지관리 가 어렵다는  단점이  있습니다. 따라 서 이러한 특징으로  인해 적절한  관리 가 이루어지지  않을 경우 오염 이 생길 수 있고, 꾸 준한 관리 가 필요합니다.\n",
            "***********\n",
            "시트 방수공사를 통해 건물의 에너지 절감 효과를 어떻게 얻을 수 있나요?\"\n",
            "시트  방수공사 는 건물의  외단열을  통한 에너지  절 감 효과 를 얻 을 수 있는  장점이  있습니다. 또한  옥 상, 지붕, 판넬  지붕  등의  방수용으로  사용되며  내약품성을  갖 고 있는  제품 은 옥 상 녹 화, 옥 상 정원  구조 에 적합합니다. 구조물의  진동, 균 열, 수축, 팽 창이 예상되는  장소에  사용되며  시트  이음매를 접합하여  일체화하는  방식으로  누수가  발생하지  않는 것이  특징입니다.\n",
            "***********\n",
            "내진설계에서 안정성을 높이기 위한 순서는 무엇인가요? 그리고 내진구조란 무엇인가요?\n",
            "내진설계에서  안정성이  높 은 순서는  일반적으로  내진구조, 제진구조, 면진구조  순으로  설명됩니다. 내진구조 는 건물의  전체적으로  안정성이  높 은 구조 를 만들어주는  데 가장  큰 역할을 하므로  내진구조 가 가장  안정적인  구조 로 평가됩니다. 제진구조 는 건물의  지반 부분 에 특수한  시스템 을 도입하여  지진에  대비하는  설계  방식으로, 지진 발생  시 건물의  안정성이  높 은 구조 를 만드는  데 사용됩니다. 마지막으로  면진구조 는 건물의  외벽  등에  직각적인  구조 를 사용하여  지진에  대비하는  설계  방식으로, 안정성이  상대적으로  낮 은 구조입니다. 내진구조 는 지진이  발생했을  때 건물이 나 시설 물 구조물이  안전하게  유지되도록  설계 된 구조 를 말합니다. 내진벽 과 같은  부재를  설치하여  지진에  대비하는  것이  내진구조 의 핵심이 며, 안정성을  높이는  데 큰 역할을 합니다. 따라 서 내진구조 는 지진 대비 를 위해  설계  및 자재  사용 이 증가하는  경우 안정성이  높아지 는 구조 를 말합니다.\n",
            "***********\n",
            "분말 소화기를 사용할 때 주의해야 할 사항은 무엇인가요? 그리고 아파트 도배 평수를 어떻게 계산해야 하나요?\n",
            "분말 소화기를  사용 할 때 주의 할 점으로 는 다음과  같은  사항 이 있습니다. 먼 저, 압 력계의  눈 금 위치 가 초록색에 있는 지 확인해야  합니다. 또한  받침대를  사용하여  소화기 부식을  방지하고, 한 달에 한 번은 흔들어  분말이  굳 어지지  않도록  주의해야  합니다. 또한  직사광선이 나 고온 다습한 장소에서  보관하거나  사용해서는  안 되며, 사용  후 내부 약제를  완전히  제거해야  합니다. 따라 서 분말 소화기를  사용 할 때에는  이러한 주의사항을  준수하여  안전하게  사용 할 수 있습니다. 분말 소화기를  사용 할 때 주의해야  할 점은  다양한 부분 이 있지 만, 가장  중요한  것은  다음과  같습니다 : 먼 저, 사용자의  취약성을  고려하여  적절한  안전장비 를 착 용해야  합니다. 또한, 분말 소화기를  사용 한 후에 는 받침대를  사용하여  소화기 부식을  방지하고, 한 달에 한 번씩  흔들어  분말 소화기를  흔 들지 않도록  주의해야  합니다. 또한, 직사광선과  고온 다습한 장소를  피하고, 사용  후 내부 약품 을 제거해야  합니다. 이외에도  분말 소화기를  사용 할 때에는  몇  가지  주의 할 점이  있습니다. 먼 저, 사용자의  취약성을  고려하여  적절한  안전장비 를 착 용해야  합니다. 또한, 분말 소\n",
            "***********\n",
            "압출법 보온판의 가장 큰 장점은 무엇인가요?\"\n",
            "압 출법 보온판의  장점은  습기에  강하고  곰팡 이 및 세균  증식을  막을  수 있는  것입니다. 또한  단열재 중에서  열전도율이  가장  낮 은 편이 고 시공 이 간편하다는  점도 있습니다. 추가 로 압 출법 보온판은  가볍 고 가공이  간편하여  건축 물 내부의  부식을  방지하는  데 도움이  됩니다.\n",
            "***********\n",
            "평지붕의 누수 문제를 방지하기 위해 수성 벽체용 탄성 방수 도료를 사용하는 것이 어떤 장점이 있나요?\n",
            "평지붕 의 누수 문제를  방지하기  위해서는  몇  가지  주의 할 점이  있습니다. 먼 저, 평지붕 의 수명을  연장하기  위해  정기적인  유지보수 가 필요합니다. 또한, 수성 벽 체용 탄 성 방수 도료를  사용하여  누수를  방지 할 수 있습니다. 마지막으로, 플라스틱  소재 로 만든 지붕 을 선택하여  새로운  누수가  발생하지  않도록  주의해야  합니다. 이러한 주의사항을  준수하여  평지붕 의 누수 문제를  방지 할 수 있습니다.\n",
            "***********\n",
            "석고수정이 발생하는 가장 큰 원인은 무엇인가요? 그리고 이를 해결하는 방법에 대해 알려주세요.\"\n",
            "석고수정 이 발생하는  가장  큰 원인 은 건물의  구조 적 결함입니다. 구조 적 결함은  건물의  설계  또는  시공  과정에서  발생 한 결함으로, 이로  인해 석고수정 이 발생 할 수 있습니다. 따라 서 건물 구조 적 결함은  석고수정 의 발생 을 예방하는  데 큰 도움이  됩니다. 석고수정 이 발생하는  가장  큰 원인 은 무엇인가요? 석고수정 이 발생하는  가장  큰 이유는  무엇인가요?\n",
            "</질문>\n",
            "***********\n",
            "카페트의 기대 수명은 얼마나 될까요? 그리고 오리지널징크의 장점에는 무엇이 있나요?\n",
            "카페트의  기대수명은  주로  6년이 며, 사용빈 도, 관리정도, 햇빛  노출 정도  등에  따라  달라 질 수 있습니다. 주기적인  청소 와 관리 를 통해 카페트의  수명을  연장할 수 있으며, 특히  햇빛 에 노출될 경우 단축 된 수명을  가지 고 있습니다. 따라 서 주기적인  관리 와 청소 를 통해 카페트의  수명을  최대한  연장할 수 있습니다. 오리 지널징크의  단점은  다른  징 크에 비해 상대적으로  높 은 비용 이 있습니다. 또한  오일 칠 을 주기적으로  해주어야  하며  유지보수 가 어렵다는  점도 있습니다. 추가 로 오리 지널징크는  습기와  물에  노출될 경우 변형될 수 있는  특성이  있습니다.\n",
            "***********\n"
          ]
        },
        {
          "output_type": "stream",
          "name": "stderr",
          "text": [
            "\n"
          ]
        }
      ]
    },
    {
      "cell_type": "code",
      "source": [
        "import json\n",
        "\n",
        "json_data = json.dumps(responses)\n",
        "\n",
        "# Write the JSON data to a file\n",
        "with open('./good_responses_v2.json', 'w') as json_file:\n",
        "    json_file.write(json_data)"
      ],
      "metadata": {
        "id": "vMXoGCUbTEBD"
      },
      "execution_count": null,
      "outputs": []
    },
    {
      "cell_type": "code",
      "source": [
        "import json\n",
        "\n",
        "# Open the JSON file in read mode\n",
        "with open('good_responses_v2.json', 'r') as json_file:\n",
        "    # Read the contents of the file\n",
        "    json_data = json_file.read()\n",
        "\n",
        "    # Parse the JSON data back into a Python data structure\n",
        "    answer = json.loads(json_data)\n",
        "\n",
        "len(answer)"
      ],
      "metadata": {
        "id": "e9HalW6_TEDd",
        "colab": {
          "base_uri": "https://localhost:8080/"
        },
        "outputId": "59828d9f-c045-41b4-b176-4687ebd62cd7"
      },
      "execution_count": null,
      "outputs": [
        {
          "output_type": "execute_result",
          "data": {
            "text/plain": [
              "130"
            ]
          },
          "metadata": {},
          "execution_count": 79
        }
      ]
    },
    {
      "cell_type": "code",
      "source": [
        "answer[:2]"
      ],
      "metadata": {
        "id": "waNHvdTAaUHV",
        "colab": {
          "base_uri": "https://localhost:8080/"
        },
        "outputId": "77170d1f-5260-4f61-f8ff-35d790c5d08b"
      },
      "execution_count": null,
      "outputs": [
        {
          "output_type": "execute_result",
          "data": {
            "text/plain": [
              "['방청 페인트의  종류로는  광 명단페인 트, 방청산화철페인 트, 알미늄페인 트, 역청질페인 트, 워시프라이머, 크롬 산아톤페인 트, 규산염페인 트 등이  있습니다. 이러한 방청 페인 트들은  각자의  특징 과 용도에  따라  선택하여  사용 할 수 있습니다. 원목사 이딩의 단점은  주로  가격대가  상대적으로  높 고 관리 가 어렵다는  점입니다. 또한  습기에  노출될 경우 곰팡이와  변색 등의  변형이  발생 할 수 있어  외관의  변화 가 발생 할 수도  있습니다.',\n",
              " '- 원인 : 높 은 습도    - 책임소재 : 건물의  소유자나  거주자 가 습기 관리 에 책임 을 져야  합니다.    - 해결방법 : 제습기를  가동하거나  환기를  통해 실내 적정 습도를  유지하고, 전문가 의 도움을  받아  보수  작업 을 진행해야  합니다.  이러한 조치 를 통해 습기 관리 에 신경써 야 합니다.']"
            ]
          },
          "metadata": {},
          "execution_count": 80
        }
      ]
    },
    {
      "cell_type": "code",
      "source": [
        "submission = pd.read_csv('sample_submission.csv')\n"
      ],
      "metadata": {
        "id": "GpWrYTHUaUKj"
      },
      "execution_count": null,
      "outputs": []
    },
    {
      "cell_type": "code",
      "source": [
        "import numpy as np\n",
        "from sentence_transformers import SentenceTransformer # SentenceTransformer Version 2.2.2\n",
        "\n",
        "# Embedding Vector 추출에 활용할 모델(distiluse-base-multilingual-cased-v1) 불러오기\n",
        "test_embed_model = SentenceTransformer('distiluse-base-multilingual-cased-v1')\n",
        "\n",
        "responses=answer\n",
        "id = submission.id\n",
        "submission.drop(['id'],axis = 1, inplace = True)\n",
        "\n"
      ],
      "metadata": {
        "colab": {
          "base_uri": "https://localhost:8080/",
          "referenced_widgets": [
            "801a2b7f30d84858881bd56f08e58c79",
            "b3253c6d46cc4067a08434fe6813bca3",
            "e51fa4e75c9847079068d8cdc4b96ab8",
            "2b72ca2c26b64f3c8e4b51f5b68c8065",
            "7e444a4bb09243d0bebe7a13e1e8a678",
            "e505048669644aecbff6da433edaa721",
            "350e99b58df34540964b58656f1d6208",
            "b393b5562f2e40f2b2fc86d46b790654",
            "bd1f28d59f394a8b93ad5250a51ef415",
            "b8cdd20b0ec34bbd81913bf625f316f5",
            "5330384330504f348017e13a24d519a9",
            "8cc08de6210c41f98889f85008c6cd23",
            "ffaedf16c30d4915bbdd529746ef26e0"
          ]
        },
        "id": "PjoSpPJ9aUNM",
        "outputId": "3cfbea0c-1334-4578-eac6-d6f0053ecb21"
      },
      "execution_count": null,
      "outputs": [
        {
          "output_type": "display_data",
          "data": {
            "text/plain": [
              "modules.json:   0%|          | 0.00/341 [00:00<?, ?B/s]"
            ],
            "application/vnd.jupyter.widget-view+json": {
              "version_major": 2,
              "version_minor": 0,
              "model_id": "801a2b7f30d84858881bd56f08e58c79"
            }
          },
          "metadata": {}
        },
        {
          "output_type": "display_data",
          "data": {
            "text/plain": [
              "config_sentence_transformers.json:   0%|          | 0.00/122 [00:00<?, ?B/s]"
            ],
            "application/vnd.jupyter.widget-view+json": {
              "version_major": 2,
              "version_minor": 0,
              "model_id": "b3253c6d46cc4067a08434fe6813bca3"
            }
          },
          "metadata": {}
        },
        {
          "output_type": "display_data",
          "data": {
            "text/plain": [
              "README.md:   0%|          | 0.00/2.47k [00:00<?, ?B/s]"
            ],
            "application/vnd.jupyter.widget-view+json": {
              "version_major": 2,
              "version_minor": 0,
              "model_id": "e51fa4e75c9847079068d8cdc4b96ab8"
            }
          },
          "metadata": {}
        },
        {
          "output_type": "display_data",
          "data": {
            "text/plain": [
              "sentence_bert_config.json:   0%|          | 0.00/53.0 [00:00<?, ?B/s]"
            ],
            "application/vnd.jupyter.widget-view+json": {
              "version_major": 2,
              "version_minor": 0,
              "model_id": "2b72ca2c26b64f3c8e4b51f5b68c8065"
            }
          },
          "metadata": {}
        },
        {
          "output_type": "display_data",
          "data": {
            "text/plain": [
              "config.json:   0%|          | 0.00/556 [00:00<?, ?B/s]"
            ],
            "application/vnd.jupyter.widget-view+json": {
              "version_major": 2,
              "version_minor": 0,
              "model_id": "7e444a4bb09243d0bebe7a13e1e8a678"
            }
          },
          "metadata": {}
        },
        {
          "output_type": "display_data",
          "data": {
            "text/plain": [
              "pytorch_model.bin:   0%|          | 0.00/539M [00:00<?, ?B/s]"
            ],
            "application/vnd.jupyter.widget-view+json": {
              "version_major": 2,
              "version_minor": 0,
              "model_id": "e505048669644aecbff6da433edaa721"
            }
          },
          "metadata": {}
        },
        {
          "output_type": "stream",
          "name": "stderr",
          "text": [
            "/usr/local/lib/python3.10/dist-packages/torch/_utils.py:831: UserWarning: TypedStorage is deprecated. It will be removed in the future and UntypedStorage will be the only storage class. This should only matter to you if you are using storages directly.  To access UntypedStorage directly, use tensor.untyped_storage() instead of tensor.storage()\n",
            "  return self.fget.__get__(instance, owner)()\n"
          ]
        },
        {
          "output_type": "display_data",
          "data": {
            "text/plain": [
              "tokenizer_config.json:   0%|          | 0.00/452 [00:00<?, ?B/s]"
            ],
            "application/vnd.jupyter.widget-view+json": {
              "version_major": 2,
              "version_minor": 0,
              "model_id": "350e99b58df34540964b58656f1d6208"
            }
          },
          "metadata": {}
        },
        {
          "output_type": "display_data",
          "data": {
            "text/plain": [
              "vocab.txt:   0%|          | 0.00/996k [00:00<?, ?B/s]"
            ],
            "application/vnd.jupyter.widget-view+json": {
              "version_major": 2,
              "version_minor": 0,
              "model_id": "b393b5562f2e40f2b2fc86d46b790654"
            }
          },
          "metadata": {}
        },
        {
          "output_type": "display_data",
          "data": {
            "text/plain": [
              "tokenizer.json:   0%|          | 0.00/1.96M [00:00<?, ?B/s]"
            ],
            "application/vnd.jupyter.widget-view+json": {
              "version_major": 2,
              "version_minor": 0,
              "model_id": "bd1f28d59f394a8b93ad5250a51ef415"
            }
          },
          "metadata": {}
        },
        {
          "output_type": "display_data",
          "data": {
            "text/plain": [
              "special_tokens_map.json:   0%|          | 0.00/112 [00:00<?, ?B/s]"
            ],
            "application/vnd.jupyter.widget-view+json": {
              "version_major": 2,
              "version_minor": 0,
              "model_id": "b8cdd20b0ec34bbd81913bf625f316f5"
            }
          },
          "metadata": {}
        },
        {
          "output_type": "display_data",
          "data": {
            "text/plain": [
              "1_Pooling/config.json:   0%|          | 0.00/190 [00:00<?, ?B/s]"
            ],
            "application/vnd.jupyter.widget-view+json": {
              "version_major": 2,
              "version_minor": 0,
              "model_id": "5330384330504f348017e13a24d519a9"
            }
          },
          "metadata": {}
        },
        {
          "output_type": "display_data",
          "data": {
            "text/plain": [
              "2_Dense/config.json:   0%|          | 0.00/114 [00:00<?, ?B/s]"
            ],
            "application/vnd.jupyter.widget-view+json": {
              "version_major": 2,
              "version_minor": 0,
              "model_id": "8cc08de6210c41f98889f85008c6cd23"
            }
          },
          "metadata": {}
        },
        {
          "output_type": "display_data",
          "data": {
            "text/plain": [
              "pytorch_model.bin:   0%|          | 0.00/1.58M [00:00<?, ?B/s]"
            ],
            "application/vnd.jupyter.widget-view+json": {
              "version_major": 2,
              "version_minor": 0,
              "model_id": "ffaedf16c30d4915bbdd529746ef26e0"
            }
          },
          "metadata": {}
        }
      ]
    },
    {
      "cell_type": "code",
      "source": [
        "for i in range(len(submission)):\n",
        "    # print(i)\n",
        "    # try:\n",
        "    submission.loc[i] = test_embed_model.encode(responses[i]).tolist()\n",
        "    # except:\n",
        "    #     print(i)"
      ],
      "metadata": {
        "id": "UhfdZU3pq11Q"
      },
      "execution_count": null,
      "outputs": []
    },
    {
      "cell_type": "code",
      "source": [
        "total_submission = pd.DataFrame({'id': id})\n",
        "total_submission"
      ],
      "metadata": {
        "colab": {
          "base_uri": "https://localhost:8080/"
        },
        "id": "hIkHeuvyq1yp",
        "outputId": "eae521db-5437-466a-e978-b4c7309cf7cc"
      },
      "execution_count": null,
      "outputs": [
        {
          "output_type": "execute_result",
          "data": {
            "text/plain": [
              "           id\n",
              "0    TEST_000\n",
              "1    TEST_001\n",
              "2    TEST_002\n",
              "3    TEST_003\n",
              "4    TEST_004\n",
              "..        ...\n",
              "125  TEST_125\n",
              "126  TEST_126\n",
              "127  TEST_127\n",
              "128  TEST_128\n",
              "129  TEST_129\n",
              "\n",
              "[130 rows x 1 columns]"
            ],
            "text/html": [
              "\n",
              "  <div id=\"df-2ab18c93-5b8c-4162-8ef9-8bba0dc4a5e2\" class=\"colab-df-container\">\n",
              "    <div>\n",
              "<style scoped>\n",
              "    .dataframe tbody tr th:only-of-type {\n",
              "        vertical-align: middle;\n",
              "    }\n",
              "\n",
              "    .dataframe tbody tr th {\n",
              "        vertical-align: top;\n",
              "    }\n",
              "\n",
              "    .dataframe thead th {\n",
              "        text-align: right;\n",
              "    }\n",
              "</style>\n",
              "<table border=\"1\" class=\"dataframe\">\n",
              "  <thead>\n",
              "    <tr style=\"text-align: right;\">\n",
              "      <th></th>\n",
              "      <th>id</th>\n",
              "    </tr>\n",
              "  </thead>\n",
              "  <tbody>\n",
              "    <tr>\n",
              "      <th>0</th>\n",
              "      <td>TEST_000</td>\n",
              "    </tr>\n",
              "    <tr>\n",
              "      <th>1</th>\n",
              "      <td>TEST_001</td>\n",
              "    </tr>\n",
              "    <tr>\n",
              "      <th>2</th>\n",
              "      <td>TEST_002</td>\n",
              "    </tr>\n",
              "    <tr>\n",
              "      <th>3</th>\n",
              "      <td>TEST_003</td>\n",
              "    </tr>\n",
              "    <tr>\n",
              "      <th>4</th>\n",
              "      <td>TEST_004</td>\n",
              "    </tr>\n",
              "    <tr>\n",
              "      <th>...</th>\n",
              "      <td>...</td>\n",
              "    </tr>\n",
              "    <tr>\n",
              "      <th>125</th>\n",
              "      <td>TEST_125</td>\n",
              "    </tr>\n",
              "    <tr>\n",
              "      <th>126</th>\n",
              "      <td>TEST_126</td>\n",
              "    </tr>\n",
              "    <tr>\n",
              "      <th>127</th>\n",
              "      <td>TEST_127</td>\n",
              "    </tr>\n",
              "    <tr>\n",
              "      <th>128</th>\n",
              "      <td>TEST_128</td>\n",
              "    </tr>\n",
              "    <tr>\n",
              "      <th>129</th>\n",
              "      <td>TEST_129</td>\n",
              "    </tr>\n",
              "  </tbody>\n",
              "</table>\n",
              "<p>130 rows × 1 columns</p>\n",
              "</div>\n",
              "    <div class=\"colab-df-buttons\">\n",
              "\n",
              "  <div class=\"colab-df-container\">\n",
              "    <button class=\"colab-df-convert\" onclick=\"convertToInteractive('df-2ab18c93-5b8c-4162-8ef9-8bba0dc4a5e2')\"\n",
              "            title=\"Convert this dataframe to an interactive table.\"\n",
              "            style=\"display:none;\">\n",
              "\n",
              "  <svg xmlns=\"http://www.w3.org/2000/svg\" height=\"24px\" viewBox=\"0 -960 960 960\">\n",
              "    <path d=\"M120-120v-720h720v720H120Zm60-500h600v-160H180v160Zm220 220h160v-160H400v160Zm0 220h160v-160H400v160ZM180-400h160v-160H180v160Zm440 0h160v-160H620v160ZM180-180h160v-160H180v160Zm440 0h160v-160H620v160Z\"/>\n",
              "  </svg>\n",
              "    </button>\n",
              "\n",
              "  <style>\n",
              "    .colab-df-container {\n",
              "      display:flex;\n",
              "      gap: 12px;\n",
              "    }\n",
              "\n",
              "    .colab-df-convert {\n",
              "      background-color: #E8F0FE;\n",
              "      border: none;\n",
              "      border-radius: 50%;\n",
              "      cursor: pointer;\n",
              "      display: none;\n",
              "      fill: #1967D2;\n",
              "      height: 32px;\n",
              "      padding: 0 0 0 0;\n",
              "      width: 32px;\n",
              "    }\n",
              "\n",
              "    .colab-df-convert:hover {\n",
              "      background-color: #E2EBFA;\n",
              "      box-shadow: 0px 1px 2px rgba(60, 64, 67, 0.3), 0px 1px 3px 1px rgba(60, 64, 67, 0.15);\n",
              "      fill: #174EA6;\n",
              "    }\n",
              "\n",
              "    .colab-df-buttons div {\n",
              "      margin-bottom: 4px;\n",
              "    }\n",
              "\n",
              "    [theme=dark] .colab-df-convert {\n",
              "      background-color: #3B4455;\n",
              "      fill: #D2E3FC;\n",
              "    }\n",
              "\n",
              "    [theme=dark] .colab-df-convert:hover {\n",
              "      background-color: #434B5C;\n",
              "      box-shadow: 0px 1px 3px 1px rgba(0, 0, 0, 0.15);\n",
              "      filter: drop-shadow(0px 1px 2px rgba(0, 0, 0, 0.3));\n",
              "      fill: #FFFFFF;\n",
              "    }\n",
              "  </style>\n",
              "\n",
              "    <script>\n",
              "      const buttonEl =\n",
              "        document.querySelector('#df-2ab18c93-5b8c-4162-8ef9-8bba0dc4a5e2 button.colab-df-convert');\n",
              "      buttonEl.style.display =\n",
              "        google.colab.kernel.accessAllowed ? 'block' : 'none';\n",
              "\n",
              "      async function convertToInteractive(key) {\n",
              "        const element = document.querySelector('#df-2ab18c93-5b8c-4162-8ef9-8bba0dc4a5e2');\n",
              "        const dataTable =\n",
              "          await google.colab.kernel.invokeFunction('convertToInteractive',\n",
              "                                                    [key], {});\n",
              "        if (!dataTable) return;\n",
              "\n",
              "        const docLinkHtml = 'Like what you see? Visit the ' +\n",
              "          '<a target=\"_blank\" href=https://colab.research.google.com/notebooks/data_table.ipynb>data table notebook</a>'\n",
              "          + ' to learn more about interactive tables.';\n",
              "        element.innerHTML = '';\n",
              "        dataTable['output_type'] = 'display_data';\n",
              "        await google.colab.output.renderOutput(dataTable, element);\n",
              "        const docLink = document.createElement('div');\n",
              "        docLink.innerHTML = docLinkHtml;\n",
              "        element.appendChild(docLink);\n",
              "      }\n",
              "    </script>\n",
              "  </div>\n",
              "\n",
              "\n",
              "<div id=\"df-6f33623c-2f46-4d38-8563-624bf6d33f5f\">\n",
              "  <button class=\"colab-df-quickchart\" onclick=\"quickchart('df-6f33623c-2f46-4d38-8563-624bf6d33f5f')\"\n",
              "            title=\"Suggest charts\"\n",
              "            style=\"display:none;\">\n",
              "\n",
              "<svg xmlns=\"http://www.w3.org/2000/svg\" height=\"24px\"viewBox=\"0 0 24 24\"\n",
              "     width=\"24px\">\n",
              "    <g>\n",
              "        <path d=\"M19 3H5c-1.1 0-2 .9-2 2v14c0 1.1.9 2 2 2h14c1.1 0 2-.9 2-2V5c0-1.1-.9-2-2-2zM9 17H7v-7h2v7zm4 0h-2V7h2v10zm4 0h-2v-4h2v4z\"/>\n",
              "    </g>\n",
              "</svg>\n",
              "  </button>\n",
              "\n",
              "<style>\n",
              "  .colab-df-quickchart {\n",
              "      --bg-color: #E8F0FE;\n",
              "      --fill-color: #1967D2;\n",
              "      --hover-bg-color: #E2EBFA;\n",
              "      --hover-fill-color: #174EA6;\n",
              "      --disabled-fill-color: #AAA;\n",
              "      --disabled-bg-color: #DDD;\n",
              "  }\n",
              "\n",
              "  [theme=dark] .colab-df-quickchart {\n",
              "      --bg-color: #3B4455;\n",
              "      --fill-color: #D2E3FC;\n",
              "      --hover-bg-color: #434B5C;\n",
              "      --hover-fill-color: #FFFFFF;\n",
              "      --disabled-bg-color: #3B4455;\n",
              "      --disabled-fill-color: #666;\n",
              "  }\n",
              "\n",
              "  .colab-df-quickchart {\n",
              "    background-color: var(--bg-color);\n",
              "    border: none;\n",
              "    border-radius: 50%;\n",
              "    cursor: pointer;\n",
              "    display: none;\n",
              "    fill: var(--fill-color);\n",
              "    height: 32px;\n",
              "    padding: 0;\n",
              "    width: 32px;\n",
              "  }\n",
              "\n",
              "  .colab-df-quickchart:hover {\n",
              "    background-color: var(--hover-bg-color);\n",
              "    box-shadow: 0 1px 2px rgba(60, 64, 67, 0.3), 0 1px 3px 1px rgba(60, 64, 67, 0.15);\n",
              "    fill: var(--button-hover-fill-color);\n",
              "  }\n",
              "\n",
              "  .colab-df-quickchart-complete:disabled,\n",
              "  .colab-df-quickchart-complete:disabled:hover {\n",
              "    background-color: var(--disabled-bg-color);\n",
              "    fill: var(--disabled-fill-color);\n",
              "    box-shadow: none;\n",
              "  }\n",
              "\n",
              "  .colab-df-spinner {\n",
              "    border: 2px solid var(--fill-color);\n",
              "    border-color: transparent;\n",
              "    border-bottom-color: var(--fill-color);\n",
              "    animation:\n",
              "      spin 1s steps(1) infinite;\n",
              "  }\n",
              "\n",
              "  @keyframes spin {\n",
              "    0% {\n",
              "      border-color: transparent;\n",
              "      border-bottom-color: var(--fill-color);\n",
              "      border-left-color: var(--fill-color);\n",
              "    }\n",
              "    20% {\n",
              "      border-color: transparent;\n",
              "      border-left-color: var(--fill-color);\n",
              "      border-top-color: var(--fill-color);\n",
              "    }\n",
              "    30% {\n",
              "      border-color: transparent;\n",
              "      border-left-color: var(--fill-color);\n",
              "      border-top-color: var(--fill-color);\n",
              "      border-right-color: var(--fill-color);\n",
              "    }\n",
              "    40% {\n",
              "      border-color: transparent;\n",
              "      border-right-color: var(--fill-color);\n",
              "      border-top-color: var(--fill-color);\n",
              "    }\n",
              "    60% {\n",
              "      border-color: transparent;\n",
              "      border-right-color: var(--fill-color);\n",
              "    }\n",
              "    80% {\n",
              "      border-color: transparent;\n",
              "      border-right-color: var(--fill-color);\n",
              "      border-bottom-color: var(--fill-color);\n",
              "    }\n",
              "    90% {\n",
              "      border-color: transparent;\n",
              "      border-bottom-color: var(--fill-color);\n",
              "    }\n",
              "  }\n",
              "</style>\n",
              "\n",
              "  <script>\n",
              "    async function quickchart(key) {\n",
              "      const quickchartButtonEl =\n",
              "        document.querySelector('#' + key + ' button');\n",
              "      quickchartButtonEl.disabled = true;  // To prevent multiple clicks.\n",
              "      quickchartButtonEl.classList.add('colab-df-spinner');\n",
              "      try {\n",
              "        const charts = await google.colab.kernel.invokeFunction(\n",
              "            'suggestCharts', [key], {});\n",
              "      } catch (error) {\n",
              "        console.error('Error during call to suggestCharts:', error);\n",
              "      }\n",
              "      quickchartButtonEl.classList.remove('colab-df-spinner');\n",
              "      quickchartButtonEl.classList.add('colab-df-quickchart-complete');\n",
              "    }\n",
              "    (() => {\n",
              "      let quickchartButtonEl =\n",
              "        document.querySelector('#df-6f33623c-2f46-4d38-8563-624bf6d33f5f button');\n",
              "      quickchartButtonEl.style.display =\n",
              "        google.colab.kernel.accessAllowed ? 'block' : 'none';\n",
              "    })();\n",
              "  </script>\n",
              "</div>\n",
              "\n",
              "  <div id=\"id_2f529692-abe6-409f-a86a-21d0895b0f3c\">\n",
              "    <style>\n",
              "      .colab-df-generate {\n",
              "        background-color: #E8F0FE;\n",
              "        border: none;\n",
              "        border-radius: 50%;\n",
              "        cursor: pointer;\n",
              "        display: none;\n",
              "        fill: #1967D2;\n",
              "        height: 32px;\n",
              "        padding: 0 0 0 0;\n",
              "        width: 32px;\n",
              "      }\n",
              "\n",
              "      .colab-df-generate:hover {\n",
              "        background-color: #E2EBFA;\n",
              "        box-shadow: 0px 1px 2px rgba(60, 64, 67, 0.3), 0px 1px 3px 1px rgba(60, 64, 67, 0.15);\n",
              "        fill: #174EA6;\n",
              "      }\n",
              "\n",
              "      [theme=dark] .colab-df-generate {\n",
              "        background-color: #3B4455;\n",
              "        fill: #D2E3FC;\n",
              "      }\n",
              "\n",
              "      [theme=dark] .colab-df-generate:hover {\n",
              "        background-color: #434B5C;\n",
              "        box-shadow: 0px 1px 3px 1px rgba(0, 0, 0, 0.15);\n",
              "        filter: drop-shadow(0px 1px 2px rgba(0, 0, 0, 0.3));\n",
              "        fill: #FFFFFF;\n",
              "      }\n",
              "    </style>\n",
              "    <button class=\"colab-df-generate\" onclick=\"generateWithVariable('total_submission')\"\n",
              "            title=\"Generate code using this dataframe.\"\n",
              "            style=\"display:none;\">\n",
              "\n",
              "  <svg xmlns=\"http://www.w3.org/2000/svg\" height=\"24px\"viewBox=\"0 0 24 24\"\n",
              "       width=\"24px\">\n",
              "    <path d=\"M7,19H8.4L18.45,9,17,7.55,7,17.6ZM5,21V16.75L18.45,3.32a2,2,0,0,1,2.83,0l1.4,1.43a1.91,1.91,0,0,1,.58,1.4,1.91,1.91,0,0,1-.58,1.4L9.25,21ZM18.45,9,17,7.55Zm-12,3A5.31,5.31,0,0,0,4.9,8.1,5.31,5.31,0,0,0,1,6.5,5.31,5.31,0,0,0,4.9,4.9,5.31,5.31,0,0,0,6.5,1,5.31,5.31,0,0,0,8.1,4.9,5.31,5.31,0,0,0,12,6.5,5.46,5.46,0,0,0,6.5,12Z\"/>\n",
              "  </svg>\n",
              "    </button>\n",
              "    <script>\n",
              "      (() => {\n",
              "      const buttonEl =\n",
              "        document.querySelector('#id_2f529692-abe6-409f-a86a-21d0895b0f3c button.colab-df-generate');\n",
              "      buttonEl.style.display =\n",
              "        google.colab.kernel.accessAllowed ? 'block' : 'none';\n",
              "\n",
              "      buttonEl.onclick = () => {\n",
              "        google.colab.notebook.generateWithVariable('total_submission');\n",
              "      }\n",
              "      })();\n",
              "    </script>\n",
              "  </div>\n",
              "\n",
              "    </div>\n",
              "  </div>\n"
            ],
            "application/vnd.google.colaboratory.intrinsic+json": {
              "type": "dataframe",
              "variable_name": "total_submission",
              "summary": "{\n  \"name\": \"total_submission\",\n  \"rows\": 130,\n  \"fields\": [\n    {\n      \"column\": \"id\",\n      \"properties\": {\n        \"dtype\": \"string\",\n        \"num_unique_values\": 130,\n        \"samples\": [\n          \"TEST_055\",\n          \"TEST_040\",\n          \"TEST_019\"\n        ],\n        \"semantic_type\": \"\",\n        \"description\": \"\"\n      }\n    }\n  ]\n}"
            }
          },
          "metadata": {},
          "execution_count": 84
        }
      ]
    },
    {
      "cell_type": "code",
      "source": [
        "submission"
      ],
      "metadata": {
        "colab": {
          "base_uri": "https://localhost:8080/"
        },
        "id": "BfxLuII-q1vh",
        "outputId": "ee411458-2ee5-447a-eb15-afe2926acb2a"
      },
      "execution_count": null,
      "outputs": [
        {
          "output_type": "execute_result",
          "data": {
            "text/plain": [
              "        vec_0     vec_1     vec_2     vec_3     vec_4     vec_5     vec_6  \\\n",
              "0    0.039991  0.010603  0.006719 -0.011048  0.057019 -0.004898 -0.005683   \n",
              "1    0.036051 -0.002025 -0.026340 -0.002117  0.067015  0.039669 -0.003293   \n",
              "2    0.023491 -0.024780 -0.029468  0.003344  0.119133 -0.018485 -0.006820   \n",
              "3    0.040521  0.007227 -0.007361  0.028475  0.051424 -0.020710 -0.043546   \n",
              "4    0.001627  0.001046 -0.011187 -0.025251  0.143280 -0.030667  0.059840   \n",
              "..        ...       ...       ...       ...       ...       ...       ...   \n",
              "125 -0.005874 -0.048746  0.039530 -0.004515  0.097448  0.004663  0.064830   \n",
              "126  0.035702 -0.024666 -0.023557  0.023141  0.102476 -0.018561 -0.028026   \n",
              "127 -0.020343  0.049924 -0.021396  0.043552  0.097766 -0.006934 -0.037084   \n",
              "128  0.058911 -0.004020 -0.107087  0.041607  0.095108 -0.077126 -0.015942   \n",
              "129  0.030406 -0.043880 -0.028108  0.009529  0.097271 -0.025297 -0.022714   \n",
              "\n",
              "        vec_7     vec_8     vec_9  ...   vec_502   vec_503   vec_504  \\\n",
              "0    0.012572  0.023841  0.035874  ...  0.004586 -0.052915 -0.002943   \n",
              "1    0.073776  0.049118 -0.011682  ... -0.040856 -0.029812  0.030613   \n",
              "2   -0.042394  0.045006  0.026505  ... -0.004879 -0.000975  0.037716   \n",
              "3    0.046269 -0.001776  0.030242  ... -0.012394  0.018140  0.052970   \n",
              "4    0.056561 -0.003066  0.008394  ... -0.029217 -0.024761  0.015535   \n",
              "..        ...       ...       ...  ...       ...       ...       ...   \n",
              "125  0.011167  0.020189  0.022713  ...  0.015812  0.032001  0.055143   \n",
              "126 -0.011044  0.017878  0.059213  ... -0.037394 -0.045141  0.002016   \n",
              "127  0.089750 -0.039499  0.006162  ... -0.003821 -0.127582  0.022997   \n",
              "128  0.017649  0.019224 -0.022134  ... -0.061599 -0.011677  0.004833   \n",
              "129  0.050525  0.099237  0.027908  ... -0.022452 -0.011602 -0.055706   \n",
              "\n",
              "      vec_505   vec_506   vec_507   vec_508   vec_509   vec_510   vec_511  \n",
              "0    0.003515 -0.058212  0.000938  0.045041 -0.019187  0.039568  0.021492  \n",
              "1   -0.032594 -0.055804  0.011427  0.009068  0.011787  0.032041  0.025077  \n",
              "2   -0.041192 -0.014053 -0.011100 -0.009724 -0.032384 -0.024656  0.086920  \n",
              "3   -0.062908  0.017967  0.035223  0.007368 -0.059308 -0.047182  0.039856  \n",
              "4    0.017602 -0.036722 -0.004851 -0.001651  0.037224 -0.025346  0.055362  \n",
              "..        ...       ...       ...       ...       ...       ...       ...  \n",
              "125 -0.035809  0.044961  0.036968  0.003135 -0.029154 -0.051782 -0.002055  \n",
              "126 -0.038704  0.031256  0.043241 -0.012005 -0.047062 -0.016362  0.030659  \n",
              "127  0.001562 -0.052692 -0.016103  0.042848 -0.022118 -0.019713 -0.029489  \n",
              "128 -0.000169 -0.005497  0.019025 -0.035581 -0.029155  0.047897 -0.016177  \n",
              "129 -0.018142  0.030679  0.024111 -0.062769  0.028686 -0.053397  0.054145  \n",
              "\n",
              "[130 rows x 512 columns]"
            ],
            "text/html": [
              "\n",
              "  <div id=\"df-4a839007-0314-4eae-b8c1-a78f1d53fa70\" class=\"colab-df-container\">\n",
              "    <div>\n",
              "<style scoped>\n",
              "    .dataframe tbody tr th:only-of-type {\n",
              "        vertical-align: middle;\n",
              "    }\n",
              "\n",
              "    .dataframe tbody tr th {\n",
              "        vertical-align: top;\n",
              "    }\n",
              "\n",
              "    .dataframe thead th {\n",
              "        text-align: right;\n",
              "    }\n",
              "</style>\n",
              "<table border=\"1\" class=\"dataframe\">\n",
              "  <thead>\n",
              "    <tr style=\"text-align: right;\">\n",
              "      <th></th>\n",
              "      <th>vec_0</th>\n",
              "      <th>vec_1</th>\n",
              "      <th>vec_2</th>\n",
              "      <th>vec_3</th>\n",
              "      <th>vec_4</th>\n",
              "      <th>vec_5</th>\n",
              "      <th>vec_6</th>\n",
              "      <th>vec_7</th>\n",
              "      <th>vec_8</th>\n",
              "      <th>vec_9</th>\n",
              "      <th>...</th>\n",
              "      <th>vec_502</th>\n",
              "      <th>vec_503</th>\n",
              "      <th>vec_504</th>\n",
              "      <th>vec_505</th>\n",
              "      <th>vec_506</th>\n",
              "      <th>vec_507</th>\n",
              "      <th>vec_508</th>\n",
              "      <th>vec_509</th>\n",
              "      <th>vec_510</th>\n",
              "      <th>vec_511</th>\n",
              "    </tr>\n",
              "  </thead>\n",
              "  <tbody>\n",
              "    <tr>\n",
              "      <th>0</th>\n",
              "      <td>0.039991</td>\n",
              "      <td>0.010603</td>\n",
              "      <td>0.006719</td>\n",
              "      <td>-0.011048</td>\n",
              "      <td>0.057019</td>\n",
              "      <td>-0.004898</td>\n",
              "      <td>-0.005683</td>\n",
              "      <td>0.012572</td>\n",
              "      <td>0.023841</td>\n",
              "      <td>0.035874</td>\n",
              "      <td>...</td>\n",
              "      <td>0.004586</td>\n",
              "      <td>-0.052915</td>\n",
              "      <td>-0.002943</td>\n",
              "      <td>0.003515</td>\n",
              "      <td>-0.058212</td>\n",
              "      <td>0.000938</td>\n",
              "      <td>0.045041</td>\n",
              "      <td>-0.019187</td>\n",
              "      <td>0.039568</td>\n",
              "      <td>0.021492</td>\n",
              "    </tr>\n",
              "    <tr>\n",
              "      <th>1</th>\n",
              "      <td>0.036051</td>\n",
              "      <td>-0.002025</td>\n",
              "      <td>-0.026340</td>\n",
              "      <td>-0.002117</td>\n",
              "      <td>0.067015</td>\n",
              "      <td>0.039669</td>\n",
              "      <td>-0.003293</td>\n",
              "      <td>0.073776</td>\n",
              "      <td>0.049118</td>\n",
              "      <td>-0.011682</td>\n",
              "      <td>...</td>\n",
              "      <td>-0.040856</td>\n",
              "      <td>-0.029812</td>\n",
              "      <td>0.030613</td>\n",
              "      <td>-0.032594</td>\n",
              "      <td>-0.055804</td>\n",
              "      <td>0.011427</td>\n",
              "      <td>0.009068</td>\n",
              "      <td>0.011787</td>\n",
              "      <td>0.032041</td>\n",
              "      <td>0.025077</td>\n",
              "    </tr>\n",
              "    <tr>\n",
              "      <th>2</th>\n",
              "      <td>0.023491</td>\n",
              "      <td>-0.024780</td>\n",
              "      <td>-0.029468</td>\n",
              "      <td>0.003344</td>\n",
              "      <td>0.119133</td>\n",
              "      <td>-0.018485</td>\n",
              "      <td>-0.006820</td>\n",
              "      <td>-0.042394</td>\n",
              "      <td>0.045006</td>\n",
              "      <td>0.026505</td>\n",
              "      <td>...</td>\n",
              "      <td>-0.004879</td>\n",
              "      <td>-0.000975</td>\n",
              "      <td>0.037716</td>\n",
              "      <td>-0.041192</td>\n",
              "      <td>-0.014053</td>\n",
              "      <td>-0.011100</td>\n",
              "      <td>-0.009724</td>\n",
              "      <td>-0.032384</td>\n",
              "      <td>-0.024656</td>\n",
              "      <td>0.086920</td>\n",
              "    </tr>\n",
              "    <tr>\n",
              "      <th>3</th>\n",
              "      <td>0.040521</td>\n",
              "      <td>0.007227</td>\n",
              "      <td>-0.007361</td>\n",
              "      <td>0.028475</td>\n",
              "      <td>0.051424</td>\n",
              "      <td>-0.020710</td>\n",
              "      <td>-0.043546</td>\n",
              "      <td>0.046269</td>\n",
              "      <td>-0.001776</td>\n",
              "      <td>0.030242</td>\n",
              "      <td>...</td>\n",
              "      <td>-0.012394</td>\n",
              "      <td>0.018140</td>\n",
              "      <td>0.052970</td>\n",
              "      <td>-0.062908</td>\n",
              "      <td>0.017967</td>\n",
              "      <td>0.035223</td>\n",
              "      <td>0.007368</td>\n",
              "      <td>-0.059308</td>\n",
              "      <td>-0.047182</td>\n",
              "      <td>0.039856</td>\n",
              "    </tr>\n",
              "    <tr>\n",
              "      <th>4</th>\n",
              "      <td>0.001627</td>\n",
              "      <td>0.001046</td>\n",
              "      <td>-0.011187</td>\n",
              "      <td>-0.025251</td>\n",
              "      <td>0.143280</td>\n",
              "      <td>-0.030667</td>\n",
              "      <td>0.059840</td>\n",
              "      <td>0.056561</td>\n",
              "      <td>-0.003066</td>\n",
              "      <td>0.008394</td>\n",
              "      <td>...</td>\n",
              "      <td>-0.029217</td>\n",
              "      <td>-0.024761</td>\n",
              "      <td>0.015535</td>\n",
              "      <td>0.017602</td>\n",
              "      <td>-0.036722</td>\n",
              "      <td>-0.004851</td>\n",
              "      <td>-0.001651</td>\n",
              "      <td>0.037224</td>\n",
              "      <td>-0.025346</td>\n",
              "      <td>0.055362</td>\n",
              "    </tr>\n",
              "    <tr>\n",
              "      <th>...</th>\n",
              "      <td>...</td>\n",
              "      <td>...</td>\n",
              "      <td>...</td>\n",
              "      <td>...</td>\n",
              "      <td>...</td>\n",
              "      <td>...</td>\n",
              "      <td>...</td>\n",
              "      <td>...</td>\n",
              "      <td>...</td>\n",
              "      <td>...</td>\n",
              "      <td>...</td>\n",
              "      <td>...</td>\n",
              "      <td>...</td>\n",
              "      <td>...</td>\n",
              "      <td>...</td>\n",
              "      <td>...</td>\n",
              "      <td>...</td>\n",
              "      <td>...</td>\n",
              "      <td>...</td>\n",
              "      <td>...</td>\n",
              "      <td>...</td>\n",
              "    </tr>\n",
              "    <tr>\n",
              "      <th>125</th>\n",
              "      <td>-0.005874</td>\n",
              "      <td>-0.048746</td>\n",
              "      <td>0.039530</td>\n",
              "      <td>-0.004515</td>\n",
              "      <td>0.097448</td>\n",
              "      <td>0.004663</td>\n",
              "      <td>0.064830</td>\n",
              "      <td>0.011167</td>\n",
              "      <td>0.020189</td>\n",
              "      <td>0.022713</td>\n",
              "      <td>...</td>\n",
              "      <td>0.015812</td>\n",
              "      <td>0.032001</td>\n",
              "      <td>0.055143</td>\n",
              "      <td>-0.035809</td>\n",
              "      <td>0.044961</td>\n",
              "      <td>0.036968</td>\n",
              "      <td>0.003135</td>\n",
              "      <td>-0.029154</td>\n",
              "      <td>-0.051782</td>\n",
              "      <td>-0.002055</td>\n",
              "    </tr>\n",
              "    <tr>\n",
              "      <th>126</th>\n",
              "      <td>0.035702</td>\n",
              "      <td>-0.024666</td>\n",
              "      <td>-0.023557</td>\n",
              "      <td>0.023141</td>\n",
              "      <td>0.102476</td>\n",
              "      <td>-0.018561</td>\n",
              "      <td>-0.028026</td>\n",
              "      <td>-0.011044</td>\n",
              "      <td>0.017878</td>\n",
              "      <td>0.059213</td>\n",
              "      <td>...</td>\n",
              "      <td>-0.037394</td>\n",
              "      <td>-0.045141</td>\n",
              "      <td>0.002016</td>\n",
              "      <td>-0.038704</td>\n",
              "      <td>0.031256</td>\n",
              "      <td>0.043241</td>\n",
              "      <td>-0.012005</td>\n",
              "      <td>-0.047062</td>\n",
              "      <td>-0.016362</td>\n",
              "      <td>0.030659</td>\n",
              "    </tr>\n",
              "    <tr>\n",
              "      <th>127</th>\n",
              "      <td>-0.020343</td>\n",
              "      <td>0.049924</td>\n",
              "      <td>-0.021396</td>\n",
              "      <td>0.043552</td>\n",
              "      <td>0.097766</td>\n",
              "      <td>-0.006934</td>\n",
              "      <td>-0.037084</td>\n",
              "      <td>0.089750</td>\n",
              "      <td>-0.039499</td>\n",
              "      <td>0.006162</td>\n",
              "      <td>...</td>\n",
              "      <td>-0.003821</td>\n",
              "      <td>-0.127582</td>\n",
              "      <td>0.022997</td>\n",
              "      <td>0.001562</td>\n",
              "      <td>-0.052692</td>\n",
              "      <td>-0.016103</td>\n",
              "      <td>0.042848</td>\n",
              "      <td>-0.022118</td>\n",
              "      <td>-0.019713</td>\n",
              "      <td>-0.029489</td>\n",
              "    </tr>\n",
              "    <tr>\n",
              "      <th>128</th>\n",
              "      <td>0.058911</td>\n",
              "      <td>-0.004020</td>\n",
              "      <td>-0.107087</td>\n",
              "      <td>0.041607</td>\n",
              "      <td>0.095108</td>\n",
              "      <td>-0.077126</td>\n",
              "      <td>-0.015942</td>\n",
              "      <td>0.017649</td>\n",
              "      <td>0.019224</td>\n",
              "      <td>-0.022134</td>\n",
              "      <td>...</td>\n",
              "      <td>-0.061599</td>\n",
              "      <td>-0.011677</td>\n",
              "      <td>0.004833</td>\n",
              "      <td>-0.000169</td>\n",
              "      <td>-0.005497</td>\n",
              "      <td>0.019025</td>\n",
              "      <td>-0.035581</td>\n",
              "      <td>-0.029155</td>\n",
              "      <td>0.047897</td>\n",
              "      <td>-0.016177</td>\n",
              "    </tr>\n",
              "    <tr>\n",
              "      <th>129</th>\n",
              "      <td>0.030406</td>\n",
              "      <td>-0.043880</td>\n",
              "      <td>-0.028108</td>\n",
              "      <td>0.009529</td>\n",
              "      <td>0.097271</td>\n",
              "      <td>-0.025297</td>\n",
              "      <td>-0.022714</td>\n",
              "      <td>0.050525</td>\n",
              "      <td>0.099237</td>\n",
              "      <td>0.027908</td>\n",
              "      <td>...</td>\n",
              "      <td>-0.022452</td>\n",
              "      <td>-0.011602</td>\n",
              "      <td>-0.055706</td>\n",
              "      <td>-0.018142</td>\n",
              "      <td>0.030679</td>\n",
              "      <td>0.024111</td>\n",
              "      <td>-0.062769</td>\n",
              "      <td>0.028686</td>\n",
              "      <td>-0.053397</td>\n",
              "      <td>0.054145</td>\n",
              "    </tr>\n",
              "  </tbody>\n",
              "</table>\n",
              "<p>130 rows × 512 columns</p>\n",
              "</div>\n",
              "    <div class=\"colab-df-buttons\">\n",
              "\n",
              "  <div class=\"colab-df-container\">\n",
              "    <button class=\"colab-df-convert\" onclick=\"convertToInteractive('df-4a839007-0314-4eae-b8c1-a78f1d53fa70')\"\n",
              "            title=\"Convert this dataframe to an interactive table.\"\n",
              "            style=\"display:none;\">\n",
              "\n",
              "  <svg xmlns=\"http://www.w3.org/2000/svg\" height=\"24px\" viewBox=\"0 -960 960 960\">\n",
              "    <path d=\"M120-120v-720h720v720H120Zm60-500h600v-160H180v160Zm220 220h160v-160H400v160Zm0 220h160v-160H400v160ZM180-400h160v-160H180v160Zm440 0h160v-160H620v160ZM180-180h160v-160H180v160Zm440 0h160v-160H620v160Z\"/>\n",
              "  </svg>\n",
              "    </button>\n",
              "\n",
              "  <style>\n",
              "    .colab-df-container {\n",
              "      display:flex;\n",
              "      gap: 12px;\n",
              "    }\n",
              "\n",
              "    .colab-df-convert {\n",
              "      background-color: #E8F0FE;\n",
              "      border: none;\n",
              "      border-radius: 50%;\n",
              "      cursor: pointer;\n",
              "      display: none;\n",
              "      fill: #1967D2;\n",
              "      height: 32px;\n",
              "      padding: 0 0 0 0;\n",
              "      width: 32px;\n",
              "    }\n",
              "\n",
              "    .colab-df-convert:hover {\n",
              "      background-color: #E2EBFA;\n",
              "      box-shadow: 0px 1px 2px rgba(60, 64, 67, 0.3), 0px 1px 3px 1px rgba(60, 64, 67, 0.15);\n",
              "      fill: #174EA6;\n",
              "    }\n",
              "\n",
              "    .colab-df-buttons div {\n",
              "      margin-bottom: 4px;\n",
              "    }\n",
              "\n",
              "    [theme=dark] .colab-df-convert {\n",
              "      background-color: #3B4455;\n",
              "      fill: #D2E3FC;\n",
              "    }\n",
              "\n",
              "    [theme=dark] .colab-df-convert:hover {\n",
              "      background-color: #434B5C;\n",
              "      box-shadow: 0px 1px 3px 1px rgba(0, 0, 0, 0.15);\n",
              "      filter: drop-shadow(0px 1px 2px rgba(0, 0, 0, 0.3));\n",
              "      fill: #FFFFFF;\n",
              "    }\n",
              "  </style>\n",
              "\n",
              "    <script>\n",
              "      const buttonEl =\n",
              "        document.querySelector('#df-4a839007-0314-4eae-b8c1-a78f1d53fa70 button.colab-df-convert');\n",
              "      buttonEl.style.display =\n",
              "        google.colab.kernel.accessAllowed ? 'block' : 'none';\n",
              "\n",
              "      async function convertToInteractive(key) {\n",
              "        const element = document.querySelector('#df-4a839007-0314-4eae-b8c1-a78f1d53fa70');\n",
              "        const dataTable =\n",
              "          await google.colab.kernel.invokeFunction('convertToInteractive',\n",
              "                                                    [key], {});\n",
              "        if (!dataTable) return;\n",
              "\n",
              "        const docLinkHtml = 'Like what you see? Visit the ' +\n",
              "          '<a target=\"_blank\" href=https://colab.research.google.com/notebooks/data_table.ipynb>data table notebook</a>'\n",
              "          + ' to learn more about interactive tables.';\n",
              "        element.innerHTML = '';\n",
              "        dataTable['output_type'] = 'display_data';\n",
              "        await google.colab.output.renderOutput(dataTable, element);\n",
              "        const docLink = document.createElement('div');\n",
              "        docLink.innerHTML = docLinkHtml;\n",
              "        element.appendChild(docLink);\n",
              "      }\n",
              "    </script>\n",
              "  </div>\n",
              "\n",
              "\n",
              "<div id=\"df-1f0f8e65-3917-468e-b43d-db65a1f79ad1\">\n",
              "  <button class=\"colab-df-quickchart\" onclick=\"quickchart('df-1f0f8e65-3917-468e-b43d-db65a1f79ad1')\"\n",
              "            title=\"Suggest charts\"\n",
              "            style=\"display:none;\">\n",
              "\n",
              "<svg xmlns=\"http://www.w3.org/2000/svg\" height=\"24px\"viewBox=\"0 0 24 24\"\n",
              "     width=\"24px\">\n",
              "    <g>\n",
              "        <path d=\"M19 3H5c-1.1 0-2 .9-2 2v14c0 1.1.9 2 2 2h14c1.1 0 2-.9 2-2V5c0-1.1-.9-2-2-2zM9 17H7v-7h2v7zm4 0h-2V7h2v10zm4 0h-2v-4h2v4z\"/>\n",
              "    </g>\n",
              "</svg>\n",
              "  </button>\n",
              "\n",
              "<style>\n",
              "  .colab-df-quickchart {\n",
              "      --bg-color: #E8F0FE;\n",
              "      --fill-color: #1967D2;\n",
              "      --hover-bg-color: #E2EBFA;\n",
              "      --hover-fill-color: #174EA6;\n",
              "      --disabled-fill-color: #AAA;\n",
              "      --disabled-bg-color: #DDD;\n",
              "  }\n",
              "\n",
              "  [theme=dark] .colab-df-quickchart {\n",
              "      --bg-color: #3B4455;\n",
              "      --fill-color: #D2E3FC;\n",
              "      --hover-bg-color: #434B5C;\n",
              "      --hover-fill-color: #FFFFFF;\n",
              "      --disabled-bg-color: #3B4455;\n",
              "      --disabled-fill-color: #666;\n",
              "  }\n",
              "\n",
              "  .colab-df-quickchart {\n",
              "    background-color: var(--bg-color);\n",
              "    border: none;\n",
              "    border-radius: 50%;\n",
              "    cursor: pointer;\n",
              "    display: none;\n",
              "    fill: var(--fill-color);\n",
              "    height: 32px;\n",
              "    padding: 0;\n",
              "    width: 32px;\n",
              "  }\n",
              "\n",
              "  .colab-df-quickchart:hover {\n",
              "    background-color: var(--hover-bg-color);\n",
              "    box-shadow: 0 1px 2px rgba(60, 64, 67, 0.3), 0 1px 3px 1px rgba(60, 64, 67, 0.15);\n",
              "    fill: var(--button-hover-fill-color);\n",
              "  }\n",
              "\n",
              "  .colab-df-quickchart-complete:disabled,\n",
              "  .colab-df-quickchart-complete:disabled:hover {\n",
              "    background-color: var(--disabled-bg-color);\n",
              "    fill: var(--disabled-fill-color);\n",
              "    box-shadow: none;\n",
              "  }\n",
              "\n",
              "  .colab-df-spinner {\n",
              "    border: 2px solid var(--fill-color);\n",
              "    border-color: transparent;\n",
              "    border-bottom-color: var(--fill-color);\n",
              "    animation:\n",
              "      spin 1s steps(1) infinite;\n",
              "  }\n",
              "\n",
              "  @keyframes spin {\n",
              "    0% {\n",
              "      border-color: transparent;\n",
              "      border-bottom-color: var(--fill-color);\n",
              "      border-left-color: var(--fill-color);\n",
              "    }\n",
              "    20% {\n",
              "      border-color: transparent;\n",
              "      border-left-color: var(--fill-color);\n",
              "      border-top-color: var(--fill-color);\n",
              "    }\n",
              "    30% {\n",
              "      border-color: transparent;\n",
              "      border-left-color: var(--fill-color);\n",
              "      border-top-color: var(--fill-color);\n",
              "      border-right-color: var(--fill-color);\n",
              "    }\n",
              "    40% {\n",
              "      border-color: transparent;\n",
              "      border-right-color: var(--fill-color);\n",
              "      border-top-color: var(--fill-color);\n",
              "    }\n",
              "    60% {\n",
              "      border-color: transparent;\n",
              "      border-right-color: var(--fill-color);\n",
              "    }\n",
              "    80% {\n",
              "      border-color: transparent;\n",
              "      border-right-color: var(--fill-color);\n",
              "      border-bottom-color: var(--fill-color);\n",
              "    }\n",
              "    90% {\n",
              "      border-color: transparent;\n",
              "      border-bottom-color: var(--fill-color);\n",
              "    }\n",
              "  }\n",
              "</style>\n",
              "\n",
              "  <script>\n",
              "    async function quickchart(key) {\n",
              "      const quickchartButtonEl =\n",
              "        document.querySelector('#' + key + ' button');\n",
              "      quickchartButtonEl.disabled = true;  // To prevent multiple clicks.\n",
              "      quickchartButtonEl.classList.add('colab-df-spinner');\n",
              "      try {\n",
              "        const charts = await google.colab.kernel.invokeFunction(\n",
              "            'suggestCharts', [key], {});\n",
              "      } catch (error) {\n",
              "        console.error('Error during call to suggestCharts:', error);\n",
              "      }\n",
              "      quickchartButtonEl.classList.remove('colab-df-spinner');\n",
              "      quickchartButtonEl.classList.add('colab-df-quickchart-complete');\n",
              "    }\n",
              "    (() => {\n",
              "      let quickchartButtonEl =\n",
              "        document.querySelector('#df-1f0f8e65-3917-468e-b43d-db65a1f79ad1 button');\n",
              "      quickchartButtonEl.style.display =\n",
              "        google.colab.kernel.accessAllowed ? 'block' : 'none';\n",
              "    })();\n",
              "  </script>\n",
              "</div>\n",
              "\n",
              "  <div id=\"id_bf3ce512-893e-4104-a551-426549a128f4\">\n",
              "    <style>\n",
              "      .colab-df-generate {\n",
              "        background-color: #E8F0FE;\n",
              "        border: none;\n",
              "        border-radius: 50%;\n",
              "        cursor: pointer;\n",
              "        display: none;\n",
              "        fill: #1967D2;\n",
              "        height: 32px;\n",
              "        padding: 0 0 0 0;\n",
              "        width: 32px;\n",
              "      }\n",
              "\n",
              "      .colab-df-generate:hover {\n",
              "        background-color: #E2EBFA;\n",
              "        box-shadow: 0px 1px 2px rgba(60, 64, 67, 0.3), 0px 1px 3px 1px rgba(60, 64, 67, 0.15);\n",
              "        fill: #174EA6;\n",
              "      }\n",
              "\n",
              "      [theme=dark] .colab-df-generate {\n",
              "        background-color: #3B4455;\n",
              "        fill: #D2E3FC;\n",
              "      }\n",
              "\n",
              "      [theme=dark] .colab-df-generate:hover {\n",
              "        background-color: #434B5C;\n",
              "        box-shadow: 0px 1px 3px 1px rgba(0, 0, 0, 0.15);\n",
              "        filter: drop-shadow(0px 1px 2px rgba(0, 0, 0, 0.3));\n",
              "        fill: #FFFFFF;\n",
              "      }\n",
              "    </style>\n",
              "    <button class=\"colab-df-generate\" onclick=\"generateWithVariable('submission')\"\n",
              "            title=\"Generate code using this dataframe.\"\n",
              "            style=\"display:none;\">\n",
              "\n",
              "  <svg xmlns=\"http://www.w3.org/2000/svg\" height=\"24px\"viewBox=\"0 0 24 24\"\n",
              "       width=\"24px\">\n",
              "    <path d=\"M7,19H8.4L18.45,9,17,7.55,7,17.6ZM5,21V16.75L18.45,3.32a2,2,0,0,1,2.83,0l1.4,1.43a1.91,1.91,0,0,1,.58,1.4,1.91,1.91,0,0,1-.58,1.4L9.25,21ZM18.45,9,17,7.55Zm-12,3A5.31,5.31,0,0,0,4.9,8.1,5.31,5.31,0,0,0,1,6.5,5.31,5.31,0,0,0,4.9,4.9,5.31,5.31,0,0,0,6.5,1,5.31,5.31,0,0,0,8.1,4.9,5.31,5.31,0,0,0,12,6.5,5.46,5.46,0,0,0,6.5,12Z\"/>\n",
              "  </svg>\n",
              "    </button>\n",
              "    <script>\n",
              "      (() => {\n",
              "      const buttonEl =\n",
              "        document.querySelector('#id_bf3ce512-893e-4104-a551-426549a128f4 button.colab-df-generate');\n",
              "      buttonEl.style.display =\n",
              "        google.colab.kernel.accessAllowed ? 'block' : 'none';\n",
              "\n",
              "      buttonEl.onclick = () => {\n",
              "        google.colab.notebook.generateWithVariable('submission');\n",
              "      }\n",
              "      })();\n",
              "    </script>\n",
              "  </div>\n",
              "\n",
              "    </div>\n",
              "  </div>\n"
            ],
            "application/vnd.google.colaboratory.intrinsic+json": {
              "type": "dataframe",
              "variable_name": "submission"
            }
          },
          "metadata": {},
          "execution_count": 85
        }
      ]
    },
    {
      "cell_type": "code",
      "source": [
        "sub = pd.concat([total_submission, submission] , axis = 1)\n"
      ],
      "metadata": {
        "id": "gAo4Ui6kq1s6"
      },
      "execution_count": null,
      "outputs": []
    },
    {
      "cell_type": "code",
      "source": [
        "sub.to_csv('fun_submission_v2.csv', index = False) #Rename\n"
      ],
      "metadata": {
        "id": "Qv9EmH5Sq1qD"
      },
      "execution_count": null,
      "outputs": []
    },
    {
      "cell_type": "code",
      "source": [],
      "metadata": {
        "id": "93Lknu3jq1ht"
      },
      "execution_count": null,
      "outputs": []
    },
    {
      "cell_type": "markdown",
      "source": [
        "### Use Custom NodeParser to divide the documents into chunks such that each row in train.csv file is treated as a single chunk"
      ],
      "metadata": {
        "id": "WiQvNZWj8ZR1"
      }
    },
    {
      "cell_type": "code",
      "source": [
        "# Global settings\n",
        "from llama_index.core import Settings\n",
        "# Local settings\n",
        "from llama_index.core.node_parser import SentenceSplitter\n",
        "\n",
        "documents = SimpleDirectoryReader(\"/content/drive/MyDrive/DACON_wallpaper_contest_data/data\").load_data()\n",
        "\n",
        "\"\"\"Alternative quicker way to use SentenceSplitter with custom chunk_size but it doesn't allow us to view the contents of divided chunks directly\"\"\"\n",
        "# index2 = VectorStoreIndex.from_documents(\n",
        "#     documents,\n",
        "#     transformations=[SentenceSplitter(chunk_size=1295, paragraph_separator=\"\\n\")],\n",
        "#     insert_batch_size=2\n",
        "# )"
      ],
      "metadata": {
        "colab": {
          "base_uri": "https://localhost:8080/",
          "height": 35
        },
        "id": "sa1j4K-u8Yr4",
        "outputId": "34026c19-349d-44b4-97bd-af3cc758fa2a"
      },
      "execution_count": null,
      "outputs": [
        {
          "output_type": "execute_result",
          "data": {
            "text/plain": [
              "\"Alternative quicker way to use SentenceSplitter with custom chunk_size but it doesn't allow us to view the contents of divided chunks directly\""
            ],
            "application/vnd.google.colaboratory.intrinsic+json": {
              "type": "string"
            }
          },
          "metadata": {},
          "execution_count": 15
        }
      ]
    },
    {
      "cell_type": "code",
      "source": [
        "# This chunk size is chosen to match the exact number of rows, the end of each entry contains the line break \"\\n\"\n",
        "splitter = SentenceSplitter(chunk_size=1295, paragraph_separator=\"\\n\")\n",
        "nodes = splitter.get_nodes_from_documents(documents)"
      ],
      "metadata": {
        "id": "3G5w9ubsBpCw"
      },
      "execution_count": null,
      "outputs": []
    },
    {
      "cell_type": "code",
      "source": [
        "len(nodes) # matches exactly to the row of train.csv file"
      ],
      "metadata": {
        "colab": {
          "base_uri": "https://localhost:8080/"
        },
        "id": "iZq7Q1QwDAMS",
        "outputId": "a0f0d899-bd7f-4230-c31d-2eea381de9fa"
      },
      "execution_count": null,
      "outputs": [
        {
          "output_type": "execute_result",
          "data": {
            "text/plain": [
              "645"
            ]
          },
          "metadata": {},
          "execution_count": 19
        }
      ]
    },
    {
      "cell_type": "code",
      "source": [
        "nodes[0]"
      ],
      "metadata": {
        "colab": {
          "base_uri": "https://localhost:8080/"
        },
        "id": "Jprz-AbTBxLl",
        "outputId": "4f88330e-ee54-4453-84a0-5c8ffbefbf13"
      },
      "execution_count": null,
      "outputs": [
        {
          "output_type": "execute_result",
          "data": {
            "text/plain": [
              "TextNode(id_='794e14a9-2580-4e29-b16b-69e2c4061153', embedding=None, metadata={'file_path': '/content/drive/MyDrive/DACON_wallpaper_contest_data/data/train.csv', 'file_name': '/content/drive/MyDrive/DACON_wallpaper_contest_data/data/train.csv', 'file_type': 'text/csv', 'file_size': 1486634, 'creation_date': '2024-03-03', 'last_modified_date': '2024-03-03'}, excluded_embed_metadata_keys=['file_name', 'file_type', 'file_size', 'creation_date', 'last_modified_date', 'last_accessed_date'], excluded_llm_metadata_keys=['file_name', 'file_type', 'file_size', 'creation_date', 'last_modified_date', 'last_accessed_date'], relationships={<NodeRelationship.SOURCE: '1'>: RelatedNodeInfo(node_id='9d1b58e2-cc97-453a-8a4a-03ba978b8451', node_type=<ObjectType.DOCUMENT: '4'>, metadata={'file_path': '/content/drive/MyDrive/DACON_wallpaper_contest_data/data/train.csv', 'file_name': '/content/drive/MyDrive/DACON_wallpaper_contest_data/data/train.csv', 'file_type': 'text/csv', 'file_size': 1486634, 'creation_date': '2024-03-03', 'last_modified_date': '2024-03-03'}, hash='4e962cab7f9b2fc9a3f2b255161bf4737a411048ebe854fa10c9a49faeb64d57'), <NodeRelationship.NEXT: '3'>: RelatedNodeInfo(node_id='ef922520-07f9-4522-879b-c7aaa8861735', node_type=<ObjectType.TEXT: '1'>, metadata={}, hash='19f4c55aac374bc640214ebe437541520aa400ac32683a8172b6800f0870a4e2')}, text='TRAIN_000, 면진장치가 뭐야?, 면진장치에 사용되는 주요 기술은 무엇인가요?, 건축구조, 면진장치란 지반에서 오는 진동 에너지를 흡수하여 건물에 주는 진동을 줄여주는 진동 격리장치입니다., 면진장치란 건물의 지반에서 발생하는 진동 에너지를 흡수하여 건물을 보호하고, 진동을 줄여주는 장치입니다. 주로 지진이나 기타 지반의 진동으로 인한 피해를 방지하기 위해 사용됩니다., 면진장치란 지반으로부터 발생하는 진동 에너지를 흡수하여 건물에 전달되는 진동을 줄여주는 장치를 말합니다. 이를 통해 건물의 안전성과 안정성을 향상시키고, 지진 등의 외부 충격으로부터 보호하는 역할을 합니다. 지진으로 인한 건물의 피해를 최소화하기 위해 주로 사용됩니다., 면진장치는 건물의 지반으로부터 오는 진동 에너지를 흡수하여 건물에 전달되는 진동을 최소화해 주는 진동 격리장치입니다. 이를 통해 건물 내부의 진동을 줄이고 안정성을 유지하는 데 도움을 줍니다., 면진장치는 건물에 오는 지반 진동의 영향을 최대한으로 흡수하여 건물에 전달되는 진동을 줄여주는 장치입니다. 지반으로부터 오는 진동 에너지의 영향을 완화시키기 위해 사용됩니다.', start_char_idx=0, end_char_idx=570, text_template='{metadata_str}\\n\\n{content}', metadata_template='{key}: {value}', metadata_seperator='\\n')"
            ]
          },
          "metadata": {},
          "execution_count": 20
        }
      ]
    },
    {
      "cell_type": "code",
      "source": [
        "nodes[1]"
      ],
      "metadata": {
        "colab": {
          "base_uri": "https://localhost:8080/"
        },
        "id": "IUDtlxVTQwGq",
        "outputId": "14e93ed4-51fb-486b-a0b8-4f442d35ef76"
      },
      "execution_count": null,
      "outputs": [
        {
          "output_type": "execute_result",
          "data": {
            "text/plain": [
              "TextNode(id_='ef922520-07f9-4522-879b-c7aaa8861735', embedding=None, metadata={'file_path': '/content/drive/MyDrive/DACON_wallpaper_contest_data/data/train.csv', 'file_name': '/content/drive/MyDrive/DACON_wallpaper_contest_data/data/train.csv', 'file_type': 'text/csv', 'file_size': 1486634, 'creation_date': '2024-03-03', 'last_modified_date': '2024-03-03'}, excluded_embed_metadata_keys=['file_name', 'file_type', 'file_size', 'creation_date', 'last_modified_date', 'last_accessed_date'], excluded_llm_metadata_keys=['file_name', 'file_type', 'file_size', 'creation_date', 'last_modified_date', 'last_accessed_date'], relationships={<NodeRelationship.SOURCE: '1'>: RelatedNodeInfo(node_id='9d1b58e2-cc97-453a-8a4a-03ba978b8451', node_type=<ObjectType.DOCUMENT: '4'>, metadata={'file_path': '/content/drive/MyDrive/DACON_wallpaper_contest_data/data/train.csv', 'file_name': '/content/drive/MyDrive/DACON_wallpaper_contest_data/data/train.csv', 'file_type': 'text/csv', 'file_size': 1486634, 'creation_date': '2024-03-03', 'last_modified_date': '2024-03-03'}, hash='4e962cab7f9b2fc9a3f2b255161bf4737a411048ebe854fa10c9a49faeb64d57'), <NodeRelationship.PREVIOUS: '2'>: RelatedNodeInfo(node_id='794e14a9-2580-4e29-b16b-69e2c4061153', node_type=<ObjectType.TEXT: '1'>, metadata={'file_path': '/content/drive/MyDrive/DACON_wallpaper_contest_data/data/train.csv', 'file_name': '/content/drive/MyDrive/DACON_wallpaper_contest_data/data/train.csv', 'file_type': 'text/csv', 'file_size': 1486634, 'creation_date': '2024-03-03', 'last_modified_date': '2024-03-03'}, hash='b7e87e84f023b935633b4334bf7c0f4aed5fbdc6e30b967373cf205fe4dd2d7c'), <NodeRelationship.NEXT: '3'>: RelatedNodeInfo(node_id='f71d061e-7386-43ae-b38f-ae27be308f7f', node_type=<ObjectType.TEXT: '1'>, metadata={}, hash='93bfb24dd1d7550e901ddee8baaafd9db7cecabe714dc4b721722e2f137fef35')}, text='TRAIN_001, 내진설계의 종류 좀 알려줘, 내진설계에는 어떤 종류가 있는지 자세히 알려주실 수 있나요?, 건축구조, 내진 설계의 종류로 내진구조, 제진구조, 면진구조가 있습니다., 내진설계에는 내진구조, 제진구조, 면진구조가 있습니다. 내진구조는 건물 구조물이 지진의 힘에 따라 변형되는 것을 방지하기 위해 설계됩니다. 제진구조는 건물의 지반을 고정시키거나 지진의 힘을 줄이기 위해 설계되며, 면진구조는 건물을 지진에 노출되는 방향으로부터 보호합니다., 내진설계에는 주로 내진구조, 제진구조, 면진구조의 세 가지 종류가 있습니다. 이들은 지진으로부터 건물을 보호하기 위한 다양한 방법을 제공합니다. 내진구조는 기존 구조물에 보강을 가하는 방식으로 지진으로부터의 영향을 최소화하는 방법을 사용하며, 제진구조는 건물의 터널 또는 이동 조인트를 통해 지진의 영향을 줄이는 방법을 사용합니다. 마지막으로 면진구조는 건물의 외벽에 대각선 형태의 보강을 사용하여 지진으로부터의 영향을 줄입니다. 이러한 다양한 내진설계의 종류를 통해 안전한 건물을 설계하고 건축할 수 있습니다., 내진설계에는 주로 내진구조, 제진구조, 면진구조가 사용됩니다. 내진구조는 건물 구조물 전체에 지진으로부터의 영향을 분산시키기 위해 설계되었습니다. 반면, 제진구조는 지진으로 인한 충격을 줄이기 위해 주로 건물의 지지대에 설치됩니다. 또한 면진구조는 건물의 외벽에서 지진으로부터 보호받기 위한 설계 방식입니다. 이러한 내진설계의 종류는 지역의 지진 환경 및 건물의 특성에 맞게 선택되며, 안전하고 견고한 건물을 만드는 데 중요한 역할을 합니다., 내진 설계에는 다양한 종류가 있지만, 대표적으로 내진구조, 제진구조, 면진구조가 있습니다. 내진구조는 건물이 지진으로부터 받는 영향을 줄여주는 설계로, 건물 내부에 설치된 강화 기구를 이용해 지진 시 건물의 안전을 보장합니다. 제진구조는 지진이 발생했을 때 건물의 토대를 보호하기 위한 설계로, 건물의 기초 부분에 특수한 기술을 적용하여 지진의 영향을 최소화합니다. 마지막으로 면진구조는 건물의 외벽을 특수한 방법으로 보강하여 지진에 대비하는 설계입니다.', start_char_idx=571, end_char_idx=1619, text_template='{metadata_str}\\n\\n{content}', metadata_template='{key}: {value}', metadata_seperator='\\n')"
            ]
          },
          "metadata": {},
          "execution_count": 21
        }
      ]
    },
    {
      "cell_type": "code",
      "source": [
        "print(nodes[621].get_content())"
      ],
      "metadata": {
        "colab": {
          "base_uri": "https://localhost:8080/"
        },
        "id": "Ons54cpFCtkl",
        "outputId": "db5d91ec-50c7-4423-be2b-6f438aac449a"
      },
      "execution_count": null,
      "outputs": [
        {
          "output_type": "stream",
          "name": "stdout",
          "text": [
            "TRAIN_620, 내 침실을 더 현대적으로 꾸미고 싶어요. 어떤 컬러 팔레트를 추천하시나요?, 침실을 더 현대적으로 꾸미고 싶은데, 어떤 컬러 팔레트를 고려해야 할까요?, 인테리어, 침실을 현대적으로 꾸미려면 중립 컬러와 강조하는 팝 컬러를 혼합하여 시각적인 다양성을 만들어보세요., 침실을 현대적으로 꾸미기 위해서는 중립 컬러와 강조하는 팝 컬러를 혼합하여 시각적으로 다채로운 분위기를 연출해보는 것이 좋습니다. 예를 들어, 베이지, 회색 또는 화이트와 같은 중립 컬러를 베이스로 활용하면 부드러운 느낌을 연출할 수 있고, 강하고 선명한 컬러인 청록, 핑크 또는 코랄과 같은 팝 컬러를 조화롭게 함께 활용하면 세련된 분위기를 연출할 수 있습니다. 이렇게 중립 컬러와 팝 컬러를 조화롭게 결합하여 공간에 균형을 더해보세요., 침실을 더 현대적으로 꾸미고 싶다면 중립 컬러와 강조하는 팝 컬러를 혼합하여 사용하는 것을 추천합니다. 중립 컬러로는 베이지, 회색, 화이트와 같은 색상을 선택하여 고급스러운 느낌을 더할 수 있고, 강조하는 팝 컬러는 청록, 코랄 핑크, 민트 그린과 같이 생기 넘치는 밝은 컬러를 활용하여 분위기를 전환할 수 있습니다. 이러한 색상 조합을 통해 고요하면서도 활력 넘치는 분위기를 조성할 수 있을 것입니다., 침실을 현대적으로 꾸미려면 중립 컬러와 강조하는 팝 컬러를 혼합하여 시각적인 다양성을 만들어보세요. 예를 들어, 베이지, 회색 또는 흰색과 같은 중립 컬러를 베이스로 활용하고, 팝 컬러로는 청록, 산호색 또는 목련색과 같은 밝고 생동감 넘치는 컬러를 활용해보시는 것을 추천드립니다. 이러한 컬러 팔레트는 현대적이면서도 조화로운 분위기를 조성할 수 있습니다., 침실을 현대적으로 꾸미고 싶다면 중립 컬러와 함께 강조하는 팝 컬러를 활용하는 것이 좋습니다. 예를 들어, 베이지, 회색 또는 화이트와 같은 중립 컬러를 베이스로 사용하면 공간을 확장하고 안정감을 줄 수 있습니다. 그리고 강렬한 빨강, 푸른색 또는 황록색과 같은 팝 컬러를 가구, 소품 또는 벽지 등을 통해 포인트로 활용하여 현대적이고 세련된 분위기를 연출할 수 있습니다.\n"
          ]
        }
      ]
    },
    {
      "cell_type": "code",
      "source": [
        "index_chunk_size_1295 = VectorStoreIndex(nodes=nodes, insert_batch_size=2)"
      ],
      "metadata": {
        "id": "rXp1GuSCHQVm"
      },
      "execution_count": null,
      "outputs": []
    },
    {
      "cell_type": "code",
      "source": [
        "PERSIST_DIR = \"/content/drive/MyDrive/DACON_wallpaper_contest_data/train-vector-index-storage-chunk-size-1295\"\n",
        "index_chunk_size_1295.storage_context.persist(persist_dir=PERSIST_DIR)\n"
      ],
      "metadata": {
        "id": "RQKia7U7HZaJ"
      },
      "execution_count": null,
      "outputs": []
    },
    {
      "cell_type": "markdown",
      "source": [
        "### To do: Make different nodes for each of train.csv and other reference files from competition 1 (img to text), reference papers and korean wikipedia. Then make a combined index using VectorStoreIndex(nodes=[nodes1, nodes2])"
      ],
      "metadata": {
        "id": "20ZZxtgAZBbr"
      }
    },
    {
      "cell_type": "markdown",
      "source": [
        "### [Experiment] SentenceWindowNodeParser and JSONNodeParser"
      ],
      "metadata": {
        "id": "mEWZBM5gRxbl"
      }
    },
    {
      "cell_type": "code",
      "source": [
        "from llama_index.core.node_parser import SentenceWindowNodeParser, TokenTextSplitter\n",
        "\n",
        "window_node_parser = SentenceWindowNodeParser(\n",
        "    window_size=4,\n",
        "    window_metadata_key=\"window\",\n",
        "    original_text_metadata_key=\"original_text\",\n",
        "    # sentence_splitter = TokenTextSplitter()\n",
        ")\n",
        "\n",
        "window_nodes = window_node_parser.get_nodes_from_documents(documents)\n"
      ],
      "metadata": {
        "id": "p6Zt4mTwEag7"
      },
      "execution_count": null,
      "outputs": []
    },
    {
      "cell_type": "code",
      "source": [
        "window_nodes[0]"
      ],
      "metadata": {
        "colab": {
          "base_uri": "https://localhost:8080/"
        },
        "id": "LIM3DZZhE3NC",
        "outputId": "f21ab33e-369a-4ea7-83d7-46dc8ace5cf6"
      },
      "execution_count": null,
      "outputs": [
        {
          "output_type": "execute_result",
          "data": {
            "text/plain": [
              "TextNode(id_='8d94c89a-a0f7-4b21-9ee2-80c085b670a2', embedding=None, metadata={'window': 'TRAIN_000, 면진장치가 뭐야?, 면진장치에 사용되는 주요 기술은 무엇인가요?, 건축구조, 면진장치란 지반에서 오는 진동 에너지를 흡수하여 건물에 주는 진동을 줄여주는 진동 격리장치입니다., 면진장치란 건물의 지반에서 발생하는 진동 에너지를 흡수하여 건물을 보호하고, 진동을 줄여주는 장치입니다.  주로 지진이나 기타 지반의 진동으로 인한 피해를 방지하기 위해 사용됩니다., 면진장치란 지반으로부터 발생하는 진동 에너지를 흡수하여 건물에 전달되는 진동을 줄여주는 장치를 말합니다.  이를 통해 건물의 안전성과 안정성을 향상시키고, 지진 등의 외부 충격으로부터 보호하는 역할을 합니다.  지진으로 인한 건물의 피해를 최소화하기 위해 주로 사용됩니다., 면진장치는 건물의 지반으로부터 오는 진동 에너지를 흡수하여 건물에 전달되는 진동을 최소화해 주는 진동 격리장치입니다.  이를 통해 건물 내부의 진동을 줄이고 안정성을 유지하는 데 도움을 줍니다., 면진장치는 건물에 오는 지반 진동의 영향을 최대한으로 흡수하여 건물에 전달되는 진동을 줄여주는 장치입니다. ', 'original_text': 'TRAIN_000, 면진장치가 뭐야?, 면진장치에 사용되는 주요 기술은 무엇인가요?, 건축구조, 면진장치란 지반에서 오는 진동 에너지를 흡수하여 건물에 주는 진동을 줄여주는 진동 격리장치입니다., 면진장치란 건물의 지반에서 발생하는 진동 에너지를 흡수하여 건물을 보호하고, 진동을 줄여주는 장치입니다. ', 'file_path': '/content/drive/MyDrive/DACON_wallpaper_contest_data/data/train.csv', 'file_name': '/content/drive/MyDrive/DACON_wallpaper_contest_data/data/train.csv', 'file_type': 'text/csv', 'file_size': 1486634, 'creation_date': '2024-03-03', 'last_modified_date': '2024-03-03'}, excluded_embed_metadata_keys=['file_name', 'file_type', 'file_size', 'creation_date', 'last_modified_date', 'last_accessed_date', 'window', 'original_text'], excluded_llm_metadata_keys=['file_name', 'file_type', 'file_size', 'creation_date', 'last_modified_date', 'last_accessed_date', 'window', 'original_text'], relationships={<NodeRelationship.SOURCE: '1'>: RelatedNodeInfo(node_id='9d1b58e2-cc97-453a-8a4a-03ba978b8451', node_type=<ObjectType.DOCUMENT: '4'>, metadata={'file_path': '/content/drive/MyDrive/DACON_wallpaper_contest_data/data/train.csv', 'file_name': '/content/drive/MyDrive/DACON_wallpaper_contest_data/data/train.csv', 'file_type': 'text/csv', 'file_size': 1486634, 'creation_date': '2024-03-03', 'last_modified_date': '2024-03-03'}, hash='4e962cab7f9b2fc9a3f2b255161bf4737a411048ebe854fa10c9a49faeb64d57'), <NodeRelationship.NEXT: '3'>: RelatedNodeInfo(node_id='ae3a7981-4a2c-4888-80a0-e06f1790e4ba', node_type=<ObjectType.TEXT: '1'>, metadata={'window': 'TRAIN_000, 면진장치가 뭐야?, 면진장치에 사용되는 주요 기술은 무엇인가요?, 건축구조, 면진장치란 지반에서 오는 진동 에너지를 흡수하여 건물에 주는 진동을 줄여주는 진동 격리장치입니다., 면진장치란 건물의 지반에서 발생하는 진동 에너지를 흡수하여 건물을 보호하고, 진동을 줄여주는 장치입니다.  주로 지진이나 기타 지반의 진동으로 인한 피해를 방지하기 위해 사용됩니다., 면진장치란 지반으로부터 발생하는 진동 에너지를 흡수하여 건물에 전달되는 진동을 줄여주는 장치를 말합니다.  이를 통해 건물의 안전성과 안정성을 향상시키고, 지진 등의 외부 충격으로부터 보호하는 역할을 합니다.  지진으로 인한 건물의 피해를 최소화하기 위해 주로 사용됩니다., 면진장치는 건물의 지반으로부터 오는 진동 에너지를 흡수하여 건물에 전달되는 진동을 최소화해 주는 진동 격리장치입니다.  이를 통해 건물 내부의 진동을 줄이고 안정성을 유지하는 데 도움을 줍니다., 면진장치는 건물에 오는 지반 진동의 영향을 최대한으로 흡수하여 건물에 전달되는 진동을 줄여주는 장치입니다.  지반으로부터 오는 진동 에너지의 영향을 완화시키기 위해 사용됩니다.\\n', 'original_text': '주로 지진이나 기타 지반의 진동으로 인한 피해를 방지하기 위해 사용됩니다., 면진장치란 지반으로부터 발생하는 진동 에너지를 흡수하여 건물에 전달되는 진동을 줄여주는 장치를 말합니다. '}, hash='7418270b6d44bd23569669c62fb1e1c9c05c226757120e9e4cff0b62059716c0')}, text='TRAIN_000, 면진장치가 뭐야?, 면진장치에 사용되는 주요 기술은 무엇인가요?, 건축구조, 면진장치란 지반에서 오는 진동 에너지를 흡수하여 건물에 주는 진동을 줄여주는 진동 격리장치입니다., 면진장치란 건물의 지반에서 발생하는 진동 에너지를 흡수하여 건물을 보호하고, 진동을 줄여주는 장치입니다. ', start_char_idx=0, end_char_idx=169, text_template='{metadata_str}\\n\\n{content}', metadata_template='{key}: {value}', metadata_seperator='\\n')"
            ]
          },
          "metadata": {},
          "execution_count": 26
        }
      ]
    },
    {
      "cell_type": "code",
      "source": [
        "# Strange error occurs that the passed document has no id, if I pass the sentence_splitter.\n",
        "# But checking as below show that document id is contained inside the document. Maybe a bug in llamaindex node parser.\n",
        "# SentenceWindowNodeParser is an experiment so not much of priority as of now.\n",
        "for doc in documents:\n",
        "  print(doc.id_)"
      ],
      "metadata": {
        "colab": {
          "base_uri": "https://localhost:8080/"
        },
        "id": "UwzH8-FaE_Du",
        "outputId": "300eb351-fed4-43b0-ae74-20fd98de96d7"
      },
      "execution_count": null,
      "outputs": [
        {
          "output_type": "stream",
          "name": "stdout",
          "text": [
            "9d1b58e2-cc97-453a-8a4a-03ba978b8451\n"
          ]
        }
      ]
    },
    {
      "cell_type": "code",
      "source": [],
      "metadata": {
        "id": "TUXKu1h4EaZQ"
      },
      "execution_count": null,
      "outputs": []
    },
    {
      "cell_type": "code",
      "source": [
        "from llama_index.core.node_parser import JSONNodeParser\n",
        "\n",
        "json_splitter = JSONNodeParser()\n",
        "nodes2 = json_splitter.get_nodes_from_documents(documents)\n",
        "nodes2"
      ],
      "metadata": {
        "colab": {
          "base_uri": "https://localhost:8080/"
        },
        "id": "OwjYhfIOB9hL",
        "outputId": "9d7fc8f8-95f6-4e95-a370-1fb620408105"
      },
      "execution_count": null,
      "outputs": [
        {
          "output_type": "execute_result",
          "data": {
            "text/plain": [
              "[]"
            ]
          },
          "metadata": {},
          "execution_count": 28
        }
      ]
    },
    {
      "cell_type": "code",
      "source": [
        "\"Doesn't work\"\n",
        "# from llama_index.core.node_parser import SimpleFileNodeParser\n",
        "\n",
        "# file_type_splitter = SimpleFileNodeParser()\n",
        "# nodes2 = file_type_splitter.get_nodes_from_documents(documents)\n",
        "# nodes2\n"
      ],
      "metadata": {
        "colab": {
          "base_uri": "https://localhost:8080/",
          "height": 35
        },
        "id": "_Rd_UlbAB9ef",
        "outputId": "79846675-7f82-49c3-8d17-4e360c99ef28"
      },
      "execution_count": null,
      "outputs": [
        {
          "output_type": "execute_result",
          "data": {
            "text/plain": [
              "\"Doesn't work\""
            ],
            "application/vnd.google.colaboratory.intrinsic+json": {
              "type": "string"
            }
          },
          "metadata": {},
          "execution_count": 30
        }
      ]
    },
    {
      "cell_type": "code",
      "source": [
        "# nodes+window_nodes"
      ],
      "metadata": {
        "id": "V1mjMrPwZyPb"
      },
      "execution_count": null,
      "outputs": []
    },
    {
      "cell_type": "code",
      "source": [
        "testing_combining_different_nodes = VectorStoreIndex(nodes=nodes+window_nodes, insert_batch_size=2)"
      ],
      "metadata": {
        "colab": {
          "base_uri": "https://localhost:8080/",
          "height": 287
        },
        "id": "Ke4IQwYoB9ZD",
        "outputId": "48e87b86-0633-4493-8781-8c3aae4f5b54"
      },
      "execution_count": null,
      "outputs": [
        {
          "output_type": "error",
          "ename": "KeyboardInterrupt",
          "evalue": "",
          "traceback": [
            "\u001b[0;31m---------------------------------------------------------------------------\u001b[0m",
            "\u001b[0;31mKeyboardInterrupt\u001b[0m                         Traceback (most recent call last)",
            "\u001b[0;32m<ipython-input-36-b5c44e3d8b94>\u001b[0m in \u001b[0;36m<cell line: 1>\u001b[0;34m()\u001b[0m\n\u001b[0;32m----> 1\u001b[0;31m \u001b[0mtesting_combining_different_nodes\u001b[0m \u001b[0;34m=\u001b[0m \u001b[0mVectorStoreIndex\u001b[0m\u001b[0;34m(\u001b[0m\u001b[0mnodes\u001b[0m\u001b[0;34m=\u001b[0m\u001b[0mnodes\u001b[0m\u001b[0;34m+\u001b[0m\u001b[0mwindow_nodes\u001b[0m\u001b[0;34m,\u001b[0m \u001b[0minsert_batch_size\u001b[0m\u001b[0;34m=\u001b[0m\u001b[0;36m2\u001b[0m\u001b[0;34m)\u001b[0m\u001b[0;34m\u001b[0m\u001b[0;34m\u001b[0m\u001b[0m\n\u001b[0m",
            "\u001b[0;32m/usr/local/lib/python3.10/dist-packages/llama_index/core/indices/vector_store/base.py\u001b[0m in \u001b[0;36m__init__\u001b[0;34m(self, nodes, use_async, store_nodes_override, embed_model, insert_batch_size, objects, index_struct, storage_context, callback_manager, transformations, show_progress, service_context, **kwargs)\u001b[0m\n\u001b[1;32m     72\u001b[0m \u001b[0;34m\u001b[0m\u001b[0m\n\u001b[1;32m     73\u001b[0m         \u001b[0mself\u001b[0m\u001b[0;34m.\u001b[0m\u001b[0m_insert_batch_size\u001b[0m \u001b[0;34m=\u001b[0m \u001b[0minsert_batch_size\u001b[0m\u001b[0;34m\u001b[0m\u001b[0;34m\u001b[0m\u001b[0m\n\u001b[0;32m---> 74\u001b[0;31m         super().__init__(\n\u001b[0m\u001b[1;32m     75\u001b[0m             \u001b[0mnodes\u001b[0m\u001b[0;34m=\u001b[0m\u001b[0mnodes\u001b[0m\u001b[0;34m,\u001b[0m\u001b[0;34m\u001b[0m\u001b[0;34m\u001b[0m\u001b[0m\n\u001b[1;32m     76\u001b[0m             \u001b[0mindex_struct\u001b[0m\u001b[0;34m=\u001b[0m\u001b[0mindex_struct\u001b[0m\u001b[0;34m,\u001b[0m\u001b[0;34m\u001b[0m\u001b[0;34m\u001b[0m\u001b[0m\n",
            "\u001b[0;32m/usr/local/lib/python3.10/dist-packages/llama_index/core/indices/base.py\u001b[0m in \u001b[0;36m__init__\u001b[0;34m(self, nodes, objects, index_struct, storage_context, callback_manager, transformations, show_progress, service_context, **kwargs)\u001b[0m\n\u001b[1;32m     92\u001b[0m             \u001b[0;32mif\u001b[0m \u001b[0mindex_struct\u001b[0m \u001b[0;32mis\u001b[0m \u001b[0;32mNone\u001b[0m\u001b[0;34m:\u001b[0m\u001b[0;34m\u001b[0m\u001b[0;34m\u001b[0m\u001b[0m\n\u001b[1;32m     93\u001b[0m                 \u001b[0mnodes\u001b[0m \u001b[0;34m=\u001b[0m \u001b[0mnodes\u001b[0m \u001b[0;32mor\u001b[0m \u001b[0;34m[\u001b[0m\u001b[0;34m]\u001b[0m\u001b[0;34m\u001b[0m\u001b[0;34m\u001b[0m\u001b[0m\n\u001b[0;32m---> 94\u001b[0;31m                 index_struct = self.build_index_from_nodes(\n\u001b[0m\u001b[1;32m     95\u001b[0m                     \u001b[0mnodes\u001b[0m \u001b[0;34m+\u001b[0m \u001b[0mobjects\u001b[0m  \u001b[0;31m# type: ignore\u001b[0m\u001b[0;34m\u001b[0m\u001b[0;34m\u001b[0m\u001b[0m\n\u001b[1;32m     96\u001b[0m                 )\n",
            "\u001b[0;32m/usr/local/lib/python3.10/dist-packages/llama_index/core/indices/vector_store/base.py\u001b[0m in \u001b[0;36mbuild_index_from_nodes\u001b[0;34m(self, nodes, **insert_kwargs)\u001b[0m\n\u001b[1;32m    305\u001b[0m             )\n\u001b[1;32m    306\u001b[0m \u001b[0;34m\u001b[0m\u001b[0m\n\u001b[0;32m--> 307\u001b[0;31m         \u001b[0;32mreturn\u001b[0m \u001b[0mself\u001b[0m\u001b[0;34m.\u001b[0m\u001b[0m_build_index_from_nodes\u001b[0m\u001b[0;34m(\u001b[0m\u001b[0mnodes\u001b[0m\u001b[0;34m,\u001b[0m \u001b[0;34m**\u001b[0m\u001b[0minsert_kwargs\u001b[0m\u001b[0;34m)\u001b[0m\u001b[0;34m\u001b[0m\u001b[0;34m\u001b[0m\u001b[0m\n\u001b[0m\u001b[1;32m    308\u001b[0m \u001b[0;34m\u001b[0m\u001b[0m\n\u001b[1;32m    309\u001b[0m     \u001b[0;32mdef\u001b[0m \u001b[0m_insert\u001b[0m\u001b[0;34m(\u001b[0m\u001b[0mself\u001b[0m\u001b[0;34m,\u001b[0m \u001b[0mnodes\u001b[0m\u001b[0;34m:\u001b[0m \u001b[0mSequence\u001b[0m\u001b[0;34m[\u001b[0m\u001b[0mBaseNode\u001b[0m\u001b[0;34m]\u001b[0m\u001b[0;34m,\u001b[0m \u001b[0;34m**\u001b[0m\u001b[0minsert_kwargs\u001b[0m\u001b[0;34m:\u001b[0m \u001b[0mAny\u001b[0m\u001b[0;34m)\u001b[0m \u001b[0;34m->\u001b[0m \u001b[0;32mNone\u001b[0m\u001b[0;34m:\u001b[0m\u001b[0;34m\u001b[0m\u001b[0;34m\u001b[0m\u001b[0m\n",
            "\u001b[0;32m/usr/local/lib/python3.10/dist-packages/llama_index/core/indices/vector_store/base.py\u001b[0m in \u001b[0;36m_build_index_from_nodes\u001b[0;34m(self, nodes, **insert_kwargs)\u001b[0m\n\u001b[1;32m    277\u001b[0m             \u001b[0mrun_async_tasks\u001b[0m\u001b[0;34m(\u001b[0m\u001b[0mtasks\u001b[0m\u001b[0;34m)\u001b[0m\u001b[0;34m\u001b[0m\u001b[0;34m\u001b[0m\u001b[0m\n\u001b[1;32m    278\u001b[0m         \u001b[0;32melse\u001b[0m\u001b[0;34m:\u001b[0m\u001b[0;34m\u001b[0m\u001b[0;34m\u001b[0m\u001b[0m\n\u001b[0;32m--> 279\u001b[0;31m             self._add_nodes_to_index(\n\u001b[0m\u001b[1;32m    280\u001b[0m                 \u001b[0mindex_struct\u001b[0m\u001b[0;34m,\u001b[0m\u001b[0;34m\u001b[0m\u001b[0;34m\u001b[0m\u001b[0m\n\u001b[1;32m    281\u001b[0m                 \u001b[0mnodes\u001b[0m\u001b[0;34m,\u001b[0m\u001b[0;34m\u001b[0m\u001b[0;34m\u001b[0m\u001b[0m\n",
            "\u001b[0;32m/usr/local/lib/python3.10/dist-packages/llama_index/core/indices/vector_store/base.py\u001b[0m in \u001b[0;36m_add_nodes_to_index\u001b[0;34m(self, index_struct, nodes, show_progress, **insert_kwargs)\u001b[0m\n\u001b[1;32m    230\u001b[0m \u001b[0;34m\u001b[0m\u001b[0m\n\u001b[1;32m    231\u001b[0m         \u001b[0;32mfor\u001b[0m \u001b[0mnodes_batch\u001b[0m \u001b[0;32min\u001b[0m \u001b[0miter_batch\u001b[0m\u001b[0;34m(\u001b[0m\u001b[0mnodes\u001b[0m\u001b[0;34m,\u001b[0m \u001b[0mself\u001b[0m\u001b[0;34m.\u001b[0m\u001b[0m_insert_batch_size\u001b[0m\u001b[0;34m)\u001b[0m\u001b[0;34m:\u001b[0m\u001b[0;34m\u001b[0m\u001b[0;34m\u001b[0m\u001b[0m\n\u001b[0;32m--> 232\u001b[0;31m             \u001b[0mnodes_batch\u001b[0m \u001b[0;34m=\u001b[0m \u001b[0mself\u001b[0m\u001b[0;34m.\u001b[0m\u001b[0m_get_node_with_embedding\u001b[0m\u001b[0;34m(\u001b[0m\u001b[0mnodes_batch\u001b[0m\u001b[0;34m,\u001b[0m \u001b[0mshow_progress\u001b[0m\u001b[0;34m)\u001b[0m\u001b[0;34m\u001b[0m\u001b[0;34m\u001b[0m\u001b[0m\n\u001b[0m\u001b[1;32m    233\u001b[0m             \u001b[0mnew_ids\u001b[0m \u001b[0;34m=\u001b[0m \u001b[0mself\u001b[0m\u001b[0;34m.\u001b[0m\u001b[0m_vector_store\u001b[0m\u001b[0;34m.\u001b[0m\u001b[0madd\u001b[0m\u001b[0;34m(\u001b[0m\u001b[0mnodes_batch\u001b[0m\u001b[0;34m,\u001b[0m \u001b[0;34m**\u001b[0m\u001b[0minsert_kwargs\u001b[0m\u001b[0;34m)\u001b[0m\u001b[0;34m\u001b[0m\u001b[0;34m\u001b[0m\u001b[0m\n\u001b[1;32m    234\u001b[0m \u001b[0;34m\u001b[0m\u001b[0m\n",
            "\u001b[0;32m/usr/local/lib/python3.10/dist-packages/llama_index/core/indices/vector_store/base.py\u001b[0m in \u001b[0;36m_get_node_with_embedding\u001b[0;34m(self, nodes, show_progress)\u001b[0m\n\u001b[1;32m    138\u001b[0m \u001b[0;34m\u001b[0m\u001b[0m\n\u001b[1;32m    139\u001b[0m         \"\"\"\n\u001b[0;32m--> 140\u001b[0;31m         id_to_embed_map = embed_nodes(\n\u001b[0m\u001b[1;32m    141\u001b[0m             \u001b[0mnodes\u001b[0m\u001b[0;34m,\u001b[0m \u001b[0mself\u001b[0m\u001b[0;34m.\u001b[0m\u001b[0m_embed_model\u001b[0m\u001b[0;34m,\u001b[0m \u001b[0mshow_progress\u001b[0m\u001b[0;34m=\u001b[0m\u001b[0mshow_progress\u001b[0m\u001b[0;34m\u001b[0m\u001b[0;34m\u001b[0m\u001b[0m\n\u001b[1;32m    142\u001b[0m         )\n",
            "\u001b[0;32m/usr/local/lib/python3.10/dist-packages/llama_index/core/indices/utils.py\u001b[0m in \u001b[0;36membed_nodes\u001b[0;34m(nodes, embed_model, show_progress)\u001b[0m\n\u001b[1;32m    136\u001b[0m             \u001b[0mid_to_embed_map\u001b[0m\u001b[0;34m[\u001b[0m\u001b[0mnode\u001b[0m\u001b[0;34m.\u001b[0m\u001b[0mnode_id\u001b[0m\u001b[0;34m]\u001b[0m \u001b[0;34m=\u001b[0m \u001b[0mnode\u001b[0m\u001b[0;34m.\u001b[0m\u001b[0membedding\u001b[0m\u001b[0;34m\u001b[0m\u001b[0;34m\u001b[0m\u001b[0m\n\u001b[1;32m    137\u001b[0m \u001b[0;34m\u001b[0m\u001b[0m\n\u001b[0;32m--> 138\u001b[0;31m     new_embeddings = embed_model.get_text_embedding_batch(\n\u001b[0m\u001b[1;32m    139\u001b[0m         \u001b[0mtexts_to_embed\u001b[0m\u001b[0;34m,\u001b[0m \u001b[0mshow_progress\u001b[0m\u001b[0;34m=\u001b[0m\u001b[0mshow_progress\u001b[0m\u001b[0;34m\u001b[0m\u001b[0;34m\u001b[0m\u001b[0m\n\u001b[1;32m    140\u001b[0m     )\n",
            "\u001b[0;32m/usr/local/lib/python3.10/dist-packages/llama_index/core/base/embeddings/base.py\u001b[0m in \u001b[0;36mget_text_embedding_batch\u001b[0;34m(self, texts, show_progress, **kwargs)\u001b[0m\n\u001b[1;32m    253\u001b[0m                     \u001b[0mpayload\u001b[0m\u001b[0;34m=\u001b[0m\u001b[0;34m{\u001b[0m\u001b[0mEventPayload\u001b[0m\u001b[0;34m.\u001b[0m\u001b[0mSERIALIZED\u001b[0m\u001b[0;34m:\u001b[0m \u001b[0mself\u001b[0m\u001b[0;34m.\u001b[0m\u001b[0mto_dict\u001b[0m\u001b[0;34m(\u001b[0m\u001b[0;34m)\u001b[0m\u001b[0;34m}\u001b[0m\u001b[0;34m,\u001b[0m\u001b[0;34m\u001b[0m\u001b[0;34m\u001b[0m\u001b[0m\n\u001b[1;32m    254\u001b[0m                 ) as event:\n\u001b[0;32m--> 255\u001b[0;31m                     \u001b[0membeddings\u001b[0m \u001b[0;34m=\u001b[0m \u001b[0mself\u001b[0m\u001b[0;34m.\u001b[0m\u001b[0m_get_text_embeddings\u001b[0m\u001b[0;34m(\u001b[0m\u001b[0mcur_batch\u001b[0m\u001b[0;34m)\u001b[0m\u001b[0;34m\u001b[0m\u001b[0;34m\u001b[0m\u001b[0m\n\u001b[0m\u001b[1;32m    256\u001b[0m                     \u001b[0mresult_embeddings\u001b[0m\u001b[0;34m.\u001b[0m\u001b[0mextend\u001b[0m\u001b[0;34m(\u001b[0m\u001b[0membeddings\u001b[0m\u001b[0;34m)\u001b[0m\u001b[0;34m\u001b[0m\u001b[0;34m\u001b[0m\u001b[0m\n\u001b[1;32m    257\u001b[0m                     event.on_end(\n",
            "\u001b[0;32m/usr/local/lib/python3.10/dist-packages/llama_index/embeddings/huggingface/base.py\u001b[0m in \u001b[0;36m_get_text_embeddings\u001b[0;34m(self, texts)\u001b[0m\n\u001b[1;32m    202\u001b[0m             \u001b[0mformat_text\u001b[0m\u001b[0;34m(\u001b[0m\u001b[0mtext\u001b[0m\u001b[0;34m,\u001b[0m \u001b[0mself\u001b[0m\u001b[0;34m.\u001b[0m\u001b[0mmodel_name\u001b[0m\u001b[0;34m,\u001b[0m \u001b[0mself\u001b[0m\u001b[0;34m.\u001b[0m\u001b[0mtext_instruction\u001b[0m\u001b[0;34m)\u001b[0m \u001b[0;32mfor\u001b[0m \u001b[0mtext\u001b[0m \u001b[0;32min\u001b[0m \u001b[0mtexts\u001b[0m\u001b[0;34m\u001b[0m\u001b[0;34m\u001b[0m\u001b[0m\n\u001b[1;32m    203\u001b[0m         ]\n\u001b[0;32m--> 204\u001b[0;31m         \u001b[0;32mreturn\u001b[0m \u001b[0mself\u001b[0m\u001b[0;34m.\u001b[0m\u001b[0m_embed\u001b[0m\u001b[0;34m(\u001b[0m\u001b[0mtexts\u001b[0m\u001b[0;34m)\u001b[0m\u001b[0;34m\u001b[0m\u001b[0;34m\u001b[0m\u001b[0m\n\u001b[0m\u001b[1;32m    205\u001b[0m \u001b[0;34m\u001b[0m\u001b[0m\n\u001b[1;32m    206\u001b[0m \u001b[0;34m\u001b[0m\u001b[0m\n",
            "\u001b[0;32m/usr/local/lib/python3.10/dist-packages/llama_index/embeddings/huggingface/base.py\u001b[0m in \u001b[0;36m_embed\u001b[0;34m(self, sentences)\u001b[0m\n\u001b[1;32m    159\u001b[0m         }\n\u001b[1;32m    160\u001b[0m \u001b[0;34m\u001b[0m\u001b[0m\n\u001b[0;32m--> 161\u001b[0;31m         \u001b[0mmodel_output\u001b[0m \u001b[0;34m=\u001b[0m \u001b[0mself\u001b[0m\u001b[0;34m.\u001b[0m\u001b[0m_model\u001b[0m\u001b[0;34m(\u001b[0m\u001b[0;34m**\u001b[0m\u001b[0mencoded_input\u001b[0m\u001b[0;34m)\u001b[0m\u001b[0;34m\u001b[0m\u001b[0;34m\u001b[0m\u001b[0m\n\u001b[0m\u001b[1;32m    162\u001b[0m \u001b[0;34m\u001b[0m\u001b[0m\n\u001b[1;32m    163\u001b[0m         \u001b[0mcontext_layer\u001b[0m\u001b[0;34m:\u001b[0m \u001b[0;34m\"torch.Tensor\"\u001b[0m \u001b[0;34m=\u001b[0m \u001b[0mmodel_output\u001b[0m\u001b[0;34m[\u001b[0m\u001b[0;36m0\u001b[0m\u001b[0;34m]\u001b[0m\u001b[0;34m\u001b[0m\u001b[0;34m\u001b[0m\u001b[0m\n",
            "\u001b[0;32m/usr/local/lib/python3.10/dist-packages/torch/nn/modules/module.py\u001b[0m in \u001b[0;36m_wrapped_call_impl\u001b[0;34m(self, *args, **kwargs)\u001b[0m\n\u001b[1;32m   1516\u001b[0m             \u001b[0;32mreturn\u001b[0m \u001b[0mself\u001b[0m\u001b[0;34m.\u001b[0m\u001b[0m_compiled_call_impl\u001b[0m\u001b[0;34m(\u001b[0m\u001b[0;34m*\u001b[0m\u001b[0margs\u001b[0m\u001b[0;34m,\u001b[0m \u001b[0;34m**\u001b[0m\u001b[0mkwargs\u001b[0m\u001b[0;34m)\u001b[0m  \u001b[0;31m# type: ignore[misc]\u001b[0m\u001b[0;34m\u001b[0m\u001b[0;34m\u001b[0m\u001b[0m\n\u001b[1;32m   1517\u001b[0m         \u001b[0;32melse\u001b[0m\u001b[0;34m:\u001b[0m\u001b[0;34m\u001b[0m\u001b[0;34m\u001b[0m\u001b[0m\n\u001b[0;32m-> 1518\u001b[0;31m             \u001b[0;32mreturn\u001b[0m \u001b[0mself\u001b[0m\u001b[0;34m.\u001b[0m\u001b[0m_call_impl\u001b[0m\u001b[0;34m(\u001b[0m\u001b[0;34m*\u001b[0m\u001b[0margs\u001b[0m\u001b[0;34m,\u001b[0m \u001b[0;34m**\u001b[0m\u001b[0mkwargs\u001b[0m\u001b[0;34m)\u001b[0m\u001b[0;34m\u001b[0m\u001b[0;34m\u001b[0m\u001b[0m\n\u001b[0m\u001b[1;32m   1519\u001b[0m \u001b[0;34m\u001b[0m\u001b[0m\n\u001b[1;32m   1520\u001b[0m     \u001b[0;32mdef\u001b[0m \u001b[0m_call_impl\u001b[0m\u001b[0;34m(\u001b[0m\u001b[0mself\u001b[0m\u001b[0;34m,\u001b[0m \u001b[0;34m*\u001b[0m\u001b[0margs\u001b[0m\u001b[0;34m,\u001b[0m \u001b[0;34m**\u001b[0m\u001b[0mkwargs\u001b[0m\u001b[0;34m)\u001b[0m\u001b[0;34m:\u001b[0m\u001b[0;34m\u001b[0m\u001b[0;34m\u001b[0m\u001b[0m\n",
            "\u001b[0;32m/usr/local/lib/python3.10/dist-packages/torch/nn/modules/module.py\u001b[0m in \u001b[0;36m_call_impl\u001b[0;34m(self, *args, **kwargs)\u001b[0m\n\u001b[1;32m   1525\u001b[0m                 \u001b[0;32mor\u001b[0m \u001b[0m_global_backward_pre_hooks\u001b[0m \u001b[0;32mor\u001b[0m \u001b[0m_global_backward_hooks\u001b[0m\u001b[0;34m\u001b[0m\u001b[0;34m\u001b[0m\u001b[0m\n\u001b[1;32m   1526\u001b[0m                 or _global_forward_hooks or _global_forward_pre_hooks):\n\u001b[0;32m-> 1527\u001b[0;31m             \u001b[0;32mreturn\u001b[0m \u001b[0mforward_call\u001b[0m\u001b[0;34m(\u001b[0m\u001b[0;34m*\u001b[0m\u001b[0margs\u001b[0m\u001b[0;34m,\u001b[0m \u001b[0;34m**\u001b[0m\u001b[0mkwargs\u001b[0m\u001b[0;34m)\u001b[0m\u001b[0;34m\u001b[0m\u001b[0;34m\u001b[0m\u001b[0m\n\u001b[0m\u001b[1;32m   1528\u001b[0m \u001b[0;34m\u001b[0m\u001b[0m\n\u001b[1;32m   1529\u001b[0m         \u001b[0;32mtry\u001b[0m\u001b[0;34m:\u001b[0m\u001b[0;34m\u001b[0m\u001b[0;34m\u001b[0m\u001b[0m\n",
            "\u001b[0;32m/usr/local/lib/python3.10/dist-packages/transformers/models/xlm_roberta/modeling_xlm_roberta.py\u001b[0m in \u001b[0;36mforward\u001b[0;34m(self, input_ids, attention_mask, token_type_ids, position_ids, head_mask, inputs_embeds, encoder_hidden_states, encoder_attention_mask, past_key_values, use_cache, output_attentions, output_hidden_states, return_dict)\u001b[0m\n\u001b[1;32m    835\u001b[0m             \u001b[0mpast_key_values_length\u001b[0m\u001b[0;34m=\u001b[0m\u001b[0mpast_key_values_length\u001b[0m\u001b[0;34m,\u001b[0m\u001b[0;34m\u001b[0m\u001b[0;34m\u001b[0m\u001b[0m\n\u001b[1;32m    836\u001b[0m         )\n\u001b[0;32m--> 837\u001b[0;31m         encoder_outputs = self.encoder(\n\u001b[0m\u001b[1;32m    838\u001b[0m             \u001b[0membedding_output\u001b[0m\u001b[0;34m,\u001b[0m\u001b[0;34m\u001b[0m\u001b[0;34m\u001b[0m\u001b[0m\n\u001b[1;32m    839\u001b[0m             \u001b[0mattention_mask\u001b[0m\u001b[0;34m=\u001b[0m\u001b[0mextended_attention_mask\u001b[0m\u001b[0;34m,\u001b[0m\u001b[0;34m\u001b[0m\u001b[0;34m\u001b[0m\u001b[0m\n",
            "\u001b[0;32m/usr/local/lib/python3.10/dist-packages/torch/nn/modules/module.py\u001b[0m in \u001b[0;36m_wrapped_call_impl\u001b[0;34m(self, *args, **kwargs)\u001b[0m\n\u001b[1;32m   1516\u001b[0m             \u001b[0;32mreturn\u001b[0m \u001b[0mself\u001b[0m\u001b[0;34m.\u001b[0m\u001b[0m_compiled_call_impl\u001b[0m\u001b[0;34m(\u001b[0m\u001b[0;34m*\u001b[0m\u001b[0margs\u001b[0m\u001b[0;34m,\u001b[0m \u001b[0;34m**\u001b[0m\u001b[0mkwargs\u001b[0m\u001b[0;34m)\u001b[0m  \u001b[0;31m# type: ignore[misc]\u001b[0m\u001b[0;34m\u001b[0m\u001b[0;34m\u001b[0m\u001b[0m\n\u001b[1;32m   1517\u001b[0m         \u001b[0;32melse\u001b[0m\u001b[0;34m:\u001b[0m\u001b[0;34m\u001b[0m\u001b[0;34m\u001b[0m\u001b[0m\n\u001b[0;32m-> 1518\u001b[0;31m             \u001b[0;32mreturn\u001b[0m \u001b[0mself\u001b[0m\u001b[0;34m.\u001b[0m\u001b[0m_call_impl\u001b[0m\u001b[0;34m(\u001b[0m\u001b[0;34m*\u001b[0m\u001b[0margs\u001b[0m\u001b[0;34m,\u001b[0m \u001b[0;34m**\u001b[0m\u001b[0mkwargs\u001b[0m\u001b[0;34m)\u001b[0m\u001b[0;34m\u001b[0m\u001b[0;34m\u001b[0m\u001b[0m\n\u001b[0m\u001b[1;32m   1519\u001b[0m \u001b[0;34m\u001b[0m\u001b[0m\n\u001b[1;32m   1520\u001b[0m     \u001b[0;32mdef\u001b[0m \u001b[0m_call_impl\u001b[0m\u001b[0;34m(\u001b[0m\u001b[0mself\u001b[0m\u001b[0;34m,\u001b[0m \u001b[0;34m*\u001b[0m\u001b[0margs\u001b[0m\u001b[0;34m,\u001b[0m \u001b[0;34m**\u001b[0m\u001b[0mkwargs\u001b[0m\u001b[0;34m)\u001b[0m\u001b[0;34m:\u001b[0m\u001b[0;34m\u001b[0m\u001b[0;34m\u001b[0m\u001b[0m\n",
            "\u001b[0;32m/usr/local/lib/python3.10/dist-packages/torch/nn/modules/module.py\u001b[0m in \u001b[0;36m_call_impl\u001b[0;34m(self, *args, **kwargs)\u001b[0m\n\u001b[1;32m   1525\u001b[0m                 \u001b[0;32mor\u001b[0m \u001b[0m_global_backward_pre_hooks\u001b[0m \u001b[0;32mor\u001b[0m \u001b[0m_global_backward_hooks\u001b[0m\u001b[0;34m\u001b[0m\u001b[0;34m\u001b[0m\u001b[0m\n\u001b[1;32m   1526\u001b[0m                 or _global_forward_hooks or _global_forward_pre_hooks):\n\u001b[0;32m-> 1527\u001b[0;31m             \u001b[0;32mreturn\u001b[0m \u001b[0mforward_call\u001b[0m\u001b[0;34m(\u001b[0m\u001b[0;34m*\u001b[0m\u001b[0margs\u001b[0m\u001b[0;34m,\u001b[0m \u001b[0;34m**\u001b[0m\u001b[0mkwargs\u001b[0m\u001b[0;34m)\u001b[0m\u001b[0;34m\u001b[0m\u001b[0;34m\u001b[0m\u001b[0m\n\u001b[0m\u001b[1;32m   1528\u001b[0m \u001b[0;34m\u001b[0m\u001b[0m\n\u001b[1;32m   1529\u001b[0m         \u001b[0;32mtry\u001b[0m\u001b[0;34m:\u001b[0m\u001b[0;34m\u001b[0m\u001b[0;34m\u001b[0m\u001b[0m\n",
            "\u001b[0;32m/usr/local/lib/python3.10/dist-packages/transformers/models/xlm_roberta/modeling_xlm_roberta.py\u001b[0m in \u001b[0;36mforward\u001b[0;34m(self, hidden_states, attention_mask, head_mask, encoder_hidden_states, encoder_attention_mask, past_key_values, use_cache, output_attentions, output_hidden_states, return_dict)\u001b[0m\n\u001b[1;32m    523\u001b[0m                 )\n\u001b[1;32m    524\u001b[0m             \u001b[0;32melse\u001b[0m\u001b[0;34m:\u001b[0m\u001b[0;34m\u001b[0m\u001b[0;34m\u001b[0m\u001b[0m\n\u001b[0;32m--> 525\u001b[0;31m                 layer_outputs = layer_module(\n\u001b[0m\u001b[1;32m    526\u001b[0m                     \u001b[0mhidden_states\u001b[0m\u001b[0;34m,\u001b[0m\u001b[0;34m\u001b[0m\u001b[0;34m\u001b[0m\u001b[0m\n\u001b[1;32m    527\u001b[0m                     \u001b[0mattention_mask\u001b[0m\u001b[0;34m,\u001b[0m\u001b[0;34m\u001b[0m\u001b[0;34m\u001b[0m\u001b[0m\n",
            "\u001b[0;32m/usr/local/lib/python3.10/dist-packages/torch/nn/modules/module.py\u001b[0m in \u001b[0;36m_wrapped_call_impl\u001b[0;34m(self, *args, **kwargs)\u001b[0m\n\u001b[1;32m   1516\u001b[0m             \u001b[0;32mreturn\u001b[0m \u001b[0mself\u001b[0m\u001b[0;34m.\u001b[0m\u001b[0m_compiled_call_impl\u001b[0m\u001b[0;34m(\u001b[0m\u001b[0;34m*\u001b[0m\u001b[0margs\u001b[0m\u001b[0;34m,\u001b[0m \u001b[0;34m**\u001b[0m\u001b[0mkwargs\u001b[0m\u001b[0;34m)\u001b[0m  \u001b[0;31m# type: ignore[misc]\u001b[0m\u001b[0;34m\u001b[0m\u001b[0;34m\u001b[0m\u001b[0m\n\u001b[1;32m   1517\u001b[0m         \u001b[0;32melse\u001b[0m\u001b[0;34m:\u001b[0m\u001b[0;34m\u001b[0m\u001b[0;34m\u001b[0m\u001b[0m\n\u001b[0;32m-> 1518\u001b[0;31m             \u001b[0;32mreturn\u001b[0m \u001b[0mself\u001b[0m\u001b[0;34m.\u001b[0m\u001b[0m_call_impl\u001b[0m\u001b[0;34m(\u001b[0m\u001b[0;34m*\u001b[0m\u001b[0margs\u001b[0m\u001b[0;34m,\u001b[0m \u001b[0;34m**\u001b[0m\u001b[0mkwargs\u001b[0m\u001b[0;34m)\u001b[0m\u001b[0;34m\u001b[0m\u001b[0;34m\u001b[0m\u001b[0m\n\u001b[0m\u001b[1;32m   1519\u001b[0m \u001b[0;34m\u001b[0m\u001b[0m\n\u001b[1;32m   1520\u001b[0m     \u001b[0;32mdef\u001b[0m \u001b[0m_call_impl\u001b[0m\u001b[0;34m(\u001b[0m\u001b[0mself\u001b[0m\u001b[0;34m,\u001b[0m \u001b[0;34m*\u001b[0m\u001b[0margs\u001b[0m\u001b[0;34m,\u001b[0m \u001b[0;34m**\u001b[0m\u001b[0mkwargs\u001b[0m\u001b[0;34m)\u001b[0m\u001b[0;34m:\u001b[0m\u001b[0;34m\u001b[0m\u001b[0;34m\u001b[0m\u001b[0m\n",
            "\u001b[0;32m/usr/local/lib/python3.10/dist-packages/torch/nn/modules/module.py\u001b[0m in \u001b[0;36m_call_impl\u001b[0;34m(self, *args, **kwargs)\u001b[0m\n\u001b[1;32m   1525\u001b[0m                 \u001b[0;32mor\u001b[0m \u001b[0m_global_backward_pre_hooks\u001b[0m \u001b[0;32mor\u001b[0m \u001b[0m_global_backward_hooks\u001b[0m\u001b[0;34m\u001b[0m\u001b[0;34m\u001b[0m\u001b[0m\n\u001b[1;32m   1526\u001b[0m                 or _global_forward_hooks or _global_forward_pre_hooks):\n\u001b[0;32m-> 1527\u001b[0;31m             \u001b[0;32mreturn\u001b[0m \u001b[0mforward_call\u001b[0m\u001b[0;34m(\u001b[0m\u001b[0;34m*\u001b[0m\u001b[0margs\u001b[0m\u001b[0;34m,\u001b[0m \u001b[0;34m**\u001b[0m\u001b[0mkwargs\u001b[0m\u001b[0;34m)\u001b[0m\u001b[0;34m\u001b[0m\u001b[0;34m\u001b[0m\u001b[0m\n\u001b[0m\u001b[1;32m   1528\u001b[0m \u001b[0;34m\u001b[0m\u001b[0m\n\u001b[1;32m   1529\u001b[0m         \u001b[0;32mtry\u001b[0m\u001b[0;34m:\u001b[0m\u001b[0;34m\u001b[0m\u001b[0;34m\u001b[0m\u001b[0m\n",
            "\u001b[0;32m/usr/local/lib/python3.10/dist-packages/transformers/models/xlm_roberta/modeling_xlm_roberta.py\u001b[0m in \u001b[0;36mforward\u001b[0;34m(self, hidden_states, attention_mask, head_mask, encoder_hidden_states, encoder_attention_mask, past_key_value, output_attentions)\u001b[0m\n\u001b[1;32m    412\u001b[0m         \u001b[0;31m# decoder uni-directional self-attention cached key/values tuple is at positions 1,2\u001b[0m\u001b[0;34m\u001b[0m\u001b[0;34m\u001b[0m\u001b[0m\n\u001b[1;32m    413\u001b[0m         \u001b[0mself_attn_past_key_value\u001b[0m \u001b[0;34m=\u001b[0m \u001b[0mpast_key_value\u001b[0m\u001b[0;34m[\u001b[0m\u001b[0;34m:\u001b[0m\u001b[0;36m2\u001b[0m\u001b[0;34m]\u001b[0m \u001b[0;32mif\u001b[0m \u001b[0mpast_key_value\u001b[0m \u001b[0;32mis\u001b[0m \u001b[0;32mnot\u001b[0m \u001b[0;32mNone\u001b[0m \u001b[0;32melse\u001b[0m \u001b[0;32mNone\u001b[0m\u001b[0;34m\u001b[0m\u001b[0;34m\u001b[0m\u001b[0m\n\u001b[0;32m--> 414\u001b[0;31m         self_attention_outputs = self.attention(\n\u001b[0m\u001b[1;32m    415\u001b[0m             \u001b[0mhidden_states\u001b[0m\u001b[0;34m,\u001b[0m\u001b[0;34m\u001b[0m\u001b[0;34m\u001b[0m\u001b[0m\n\u001b[1;32m    416\u001b[0m             \u001b[0mattention_mask\u001b[0m\u001b[0;34m,\u001b[0m\u001b[0;34m\u001b[0m\u001b[0;34m\u001b[0m\u001b[0m\n",
            "\u001b[0;32m/usr/local/lib/python3.10/dist-packages/torch/nn/modules/module.py\u001b[0m in \u001b[0;36m_wrapped_call_impl\u001b[0;34m(self, *args, **kwargs)\u001b[0m\n\u001b[1;32m   1516\u001b[0m             \u001b[0;32mreturn\u001b[0m \u001b[0mself\u001b[0m\u001b[0;34m.\u001b[0m\u001b[0m_compiled_call_impl\u001b[0m\u001b[0;34m(\u001b[0m\u001b[0;34m*\u001b[0m\u001b[0margs\u001b[0m\u001b[0;34m,\u001b[0m \u001b[0;34m**\u001b[0m\u001b[0mkwargs\u001b[0m\u001b[0;34m)\u001b[0m  \u001b[0;31m# type: ignore[misc]\u001b[0m\u001b[0;34m\u001b[0m\u001b[0;34m\u001b[0m\u001b[0m\n\u001b[1;32m   1517\u001b[0m         \u001b[0;32melse\u001b[0m\u001b[0;34m:\u001b[0m\u001b[0;34m\u001b[0m\u001b[0;34m\u001b[0m\u001b[0m\n\u001b[0;32m-> 1518\u001b[0;31m             \u001b[0;32mreturn\u001b[0m \u001b[0mself\u001b[0m\u001b[0;34m.\u001b[0m\u001b[0m_call_impl\u001b[0m\u001b[0;34m(\u001b[0m\u001b[0;34m*\u001b[0m\u001b[0margs\u001b[0m\u001b[0;34m,\u001b[0m \u001b[0;34m**\u001b[0m\u001b[0mkwargs\u001b[0m\u001b[0;34m)\u001b[0m\u001b[0;34m\u001b[0m\u001b[0;34m\u001b[0m\u001b[0m\n\u001b[0m\u001b[1;32m   1519\u001b[0m \u001b[0;34m\u001b[0m\u001b[0m\n\u001b[1;32m   1520\u001b[0m     \u001b[0;32mdef\u001b[0m \u001b[0m_call_impl\u001b[0m\u001b[0;34m(\u001b[0m\u001b[0mself\u001b[0m\u001b[0;34m,\u001b[0m \u001b[0;34m*\u001b[0m\u001b[0margs\u001b[0m\u001b[0;34m,\u001b[0m \u001b[0;34m**\u001b[0m\u001b[0mkwargs\u001b[0m\u001b[0;34m)\u001b[0m\u001b[0;34m:\u001b[0m\u001b[0;34m\u001b[0m\u001b[0;34m\u001b[0m\u001b[0m\n",
            "\u001b[0;32m/usr/local/lib/python3.10/dist-packages/torch/nn/modules/module.py\u001b[0m in \u001b[0;36m_call_impl\u001b[0;34m(self, *args, **kwargs)\u001b[0m\n\u001b[1;32m   1525\u001b[0m                 \u001b[0;32mor\u001b[0m \u001b[0m_global_backward_pre_hooks\u001b[0m \u001b[0;32mor\u001b[0m \u001b[0m_global_backward_hooks\u001b[0m\u001b[0;34m\u001b[0m\u001b[0;34m\u001b[0m\u001b[0m\n\u001b[1;32m   1526\u001b[0m                 or _global_forward_hooks or _global_forward_pre_hooks):\n\u001b[0;32m-> 1527\u001b[0;31m             \u001b[0;32mreturn\u001b[0m \u001b[0mforward_call\u001b[0m\u001b[0;34m(\u001b[0m\u001b[0;34m*\u001b[0m\u001b[0margs\u001b[0m\u001b[0;34m,\u001b[0m \u001b[0;34m**\u001b[0m\u001b[0mkwargs\u001b[0m\u001b[0;34m)\u001b[0m\u001b[0;34m\u001b[0m\u001b[0;34m\u001b[0m\u001b[0m\n\u001b[0m\u001b[1;32m   1528\u001b[0m \u001b[0;34m\u001b[0m\u001b[0m\n\u001b[1;32m   1529\u001b[0m         \u001b[0;32mtry\u001b[0m\u001b[0;34m:\u001b[0m\u001b[0;34m\u001b[0m\u001b[0;34m\u001b[0m\u001b[0m\n",
            "\u001b[0;32m/usr/local/lib/python3.10/dist-packages/transformers/models/xlm_roberta/modeling_xlm_roberta.py\u001b[0m in \u001b[0;36mforward\u001b[0;34m(self, hidden_states, attention_mask, head_mask, encoder_hidden_states, encoder_attention_mask, past_key_value, output_attentions)\u001b[0m\n\u001b[1;32m    348\u001b[0m             \u001b[0moutput_attentions\u001b[0m\u001b[0;34m,\u001b[0m\u001b[0;34m\u001b[0m\u001b[0;34m\u001b[0m\u001b[0m\n\u001b[1;32m    349\u001b[0m         )\n\u001b[0;32m--> 350\u001b[0;31m         \u001b[0mattention_output\u001b[0m \u001b[0;34m=\u001b[0m \u001b[0mself\u001b[0m\u001b[0;34m.\u001b[0m\u001b[0moutput\u001b[0m\u001b[0;34m(\u001b[0m\u001b[0mself_outputs\u001b[0m\u001b[0;34m[\u001b[0m\u001b[0;36m0\u001b[0m\u001b[0;34m]\u001b[0m\u001b[0;34m,\u001b[0m \u001b[0mhidden_states\u001b[0m\u001b[0;34m)\u001b[0m\u001b[0;34m\u001b[0m\u001b[0;34m\u001b[0m\u001b[0m\n\u001b[0m\u001b[1;32m    351\u001b[0m         \u001b[0moutputs\u001b[0m \u001b[0;34m=\u001b[0m \u001b[0;34m(\u001b[0m\u001b[0mattention_output\u001b[0m\u001b[0;34m,\u001b[0m\u001b[0;34m)\u001b[0m \u001b[0;34m+\u001b[0m \u001b[0mself_outputs\u001b[0m\u001b[0;34m[\u001b[0m\u001b[0;36m1\u001b[0m\u001b[0;34m:\u001b[0m\u001b[0;34m]\u001b[0m  \u001b[0;31m# add attentions if we output them\u001b[0m\u001b[0;34m\u001b[0m\u001b[0;34m\u001b[0m\u001b[0m\n\u001b[1;32m    352\u001b[0m         \u001b[0;32mreturn\u001b[0m \u001b[0moutputs\u001b[0m\u001b[0;34m\u001b[0m\u001b[0;34m\u001b[0m\u001b[0m\n",
            "\u001b[0;32m/usr/local/lib/python3.10/dist-packages/torch/nn/modules/module.py\u001b[0m in \u001b[0;36m_wrapped_call_impl\u001b[0;34m(self, *args, **kwargs)\u001b[0m\n\u001b[1;32m   1516\u001b[0m             \u001b[0;32mreturn\u001b[0m \u001b[0mself\u001b[0m\u001b[0;34m.\u001b[0m\u001b[0m_compiled_call_impl\u001b[0m\u001b[0;34m(\u001b[0m\u001b[0;34m*\u001b[0m\u001b[0margs\u001b[0m\u001b[0;34m,\u001b[0m \u001b[0;34m**\u001b[0m\u001b[0mkwargs\u001b[0m\u001b[0;34m)\u001b[0m  \u001b[0;31m# type: ignore[misc]\u001b[0m\u001b[0;34m\u001b[0m\u001b[0;34m\u001b[0m\u001b[0m\n\u001b[1;32m   1517\u001b[0m         \u001b[0;32melse\u001b[0m\u001b[0;34m:\u001b[0m\u001b[0;34m\u001b[0m\u001b[0;34m\u001b[0m\u001b[0m\n\u001b[0;32m-> 1518\u001b[0;31m             \u001b[0;32mreturn\u001b[0m \u001b[0mself\u001b[0m\u001b[0;34m.\u001b[0m\u001b[0m_call_impl\u001b[0m\u001b[0;34m(\u001b[0m\u001b[0;34m*\u001b[0m\u001b[0margs\u001b[0m\u001b[0;34m,\u001b[0m \u001b[0;34m**\u001b[0m\u001b[0mkwargs\u001b[0m\u001b[0;34m)\u001b[0m\u001b[0;34m\u001b[0m\u001b[0;34m\u001b[0m\u001b[0m\n\u001b[0m\u001b[1;32m   1519\u001b[0m \u001b[0;34m\u001b[0m\u001b[0m\n\u001b[1;32m   1520\u001b[0m     \u001b[0;32mdef\u001b[0m \u001b[0m_call_impl\u001b[0m\u001b[0;34m(\u001b[0m\u001b[0mself\u001b[0m\u001b[0;34m,\u001b[0m \u001b[0;34m*\u001b[0m\u001b[0margs\u001b[0m\u001b[0;34m,\u001b[0m \u001b[0;34m**\u001b[0m\u001b[0mkwargs\u001b[0m\u001b[0;34m)\u001b[0m\u001b[0;34m:\u001b[0m\u001b[0;34m\u001b[0m\u001b[0;34m\u001b[0m\u001b[0m\n",
            "\u001b[0;32m/usr/local/lib/python3.10/dist-packages/torch/nn/modules/module.py\u001b[0m in \u001b[0;36m_call_impl\u001b[0;34m(self, *args, **kwargs)\u001b[0m\n\u001b[1;32m   1525\u001b[0m                 \u001b[0;32mor\u001b[0m \u001b[0m_global_backward_pre_hooks\u001b[0m \u001b[0;32mor\u001b[0m \u001b[0m_global_backward_hooks\u001b[0m\u001b[0;34m\u001b[0m\u001b[0;34m\u001b[0m\u001b[0m\n\u001b[1;32m   1526\u001b[0m                 or _global_forward_hooks or _global_forward_pre_hooks):\n\u001b[0;32m-> 1527\u001b[0;31m             \u001b[0;32mreturn\u001b[0m \u001b[0mforward_call\u001b[0m\u001b[0;34m(\u001b[0m\u001b[0;34m*\u001b[0m\u001b[0margs\u001b[0m\u001b[0;34m,\u001b[0m \u001b[0;34m**\u001b[0m\u001b[0mkwargs\u001b[0m\u001b[0;34m)\u001b[0m\u001b[0;34m\u001b[0m\u001b[0;34m\u001b[0m\u001b[0m\n\u001b[0m\u001b[1;32m   1528\u001b[0m \u001b[0;34m\u001b[0m\u001b[0m\n\u001b[1;32m   1529\u001b[0m         \u001b[0;32mtry\u001b[0m\u001b[0;34m:\u001b[0m\u001b[0;34m\u001b[0m\u001b[0;34m\u001b[0m\u001b[0m\n",
            "\u001b[0;32m/usr/local/lib/python3.10/dist-packages/transformers/models/xlm_roberta/modeling_xlm_roberta.py\u001b[0m in \u001b[0;36mforward\u001b[0;34m(self, hidden_states, input_tensor)\u001b[0m\n\u001b[1;32m    299\u001b[0m         \u001b[0mhidden_states\u001b[0m \u001b[0;34m=\u001b[0m \u001b[0mself\u001b[0m\u001b[0;34m.\u001b[0m\u001b[0mdense\u001b[0m\u001b[0;34m(\u001b[0m\u001b[0mhidden_states\u001b[0m\u001b[0;34m)\u001b[0m\u001b[0;34m\u001b[0m\u001b[0;34m\u001b[0m\u001b[0m\n\u001b[1;32m    300\u001b[0m         \u001b[0mhidden_states\u001b[0m \u001b[0;34m=\u001b[0m \u001b[0mself\u001b[0m\u001b[0;34m.\u001b[0m\u001b[0mdropout\u001b[0m\u001b[0;34m(\u001b[0m\u001b[0mhidden_states\u001b[0m\u001b[0;34m)\u001b[0m\u001b[0;34m\u001b[0m\u001b[0;34m\u001b[0m\u001b[0m\n\u001b[0;32m--> 301\u001b[0;31m         \u001b[0mhidden_states\u001b[0m \u001b[0;34m=\u001b[0m \u001b[0mself\u001b[0m\u001b[0;34m.\u001b[0m\u001b[0mLayerNorm\u001b[0m\u001b[0;34m(\u001b[0m\u001b[0mhidden_states\u001b[0m \u001b[0;34m+\u001b[0m \u001b[0minput_tensor\u001b[0m\u001b[0;34m)\u001b[0m\u001b[0;34m\u001b[0m\u001b[0;34m\u001b[0m\u001b[0m\n\u001b[0m\u001b[1;32m    302\u001b[0m         \u001b[0;32mreturn\u001b[0m \u001b[0mhidden_states\u001b[0m\u001b[0;34m\u001b[0m\u001b[0;34m\u001b[0m\u001b[0m\n\u001b[1;32m    303\u001b[0m \u001b[0;34m\u001b[0m\u001b[0m\n",
            "\u001b[0;31mKeyboardInterrupt\u001b[0m: "
          ]
        }
      ]
    },
    {
      "cell_type": "code",
      "source": [],
      "metadata": {
        "id": "ew9gBEfyBxN6"
      },
      "execution_count": null,
      "outputs": []
    },
    {
      "cell_type": "code",
      "source": [],
      "metadata": {
        "id": "6mBClfFp_qzI"
      },
      "execution_count": null,
      "outputs": []
    },
    {
      "cell_type": "code",
      "source": [],
      "metadata": {
        "id": "-G_XOfVd-xCQ"
      },
      "execution_count": null,
      "outputs": []
    }
  ]
}